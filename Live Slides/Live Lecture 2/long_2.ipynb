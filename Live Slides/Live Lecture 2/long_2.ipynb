{
 "cells": [
  {
   "cell_type": "code",
   "execution_count": null,
   "id": "05cb9ac0-ca98-4b61-b94d-945fb1e83679",
   "metadata": {},
   "outputs": [],
   "source": [
    "![](https://i.ytimg.com/vi/bVOHeROLNyQ/maxresdefault.jpg)"
   ]
  },
  {
   "cell_type": "code",
   "execution_count": 1,
   "id": "d4369643-d4bd-4ce2-9a41-f7eaeb136c6e",
   "metadata": {},
   "outputs": [
    {
     "name": "stdout",
     "output_type": "stream",
     "text": [
      "hello workd\n"
     ]
    }
   ],
   "source": [
    "print(\"hello workd\")"
   ]
  },
  {
   "cell_type": "code",
   "execution_count": 2,
   "id": "3f6a69c5-8036-45f8-b166-7aca6a74aae3",
   "metadata": {},
   "outputs": [
    {
     "name": "stdout",
     "output_type": "stream",
     "text": [
      "long\n"
     ]
    }
   ],
   "source": [
    "# comment\n",
    "print(\"long\")"
   ]
  },
  {
   "cell_type": "code",
   "execution_count": 3,
   "id": "f35b46da-97be-4ab5-a766-a08dba8aee17",
   "metadata": {},
   "outputs": [
    {
     "name": "stdout",
     "output_type": "stream",
     "text": [
      "long\n"
     ]
    }
   ],
   "source": [
    "'''\n",
    "today is weekend\n",
    "every one\n",
    "happy\n",
    "'''\n",
    "print(\"long\")"
   ]
  },
  {
   "cell_type": "markdown",
   "id": "0c943651-e1d2-4502-8390-c1d73a3ac6f3",
   "metadata": {},
   "source": [
    "### 1. Variables"
   ]
  },
  {
   "cell_type": "code",
   "execution_count": 4,
   "id": "55ec86d7-64dc-4277-b010-a4fada8abae9",
   "metadata": {},
   "outputs": [
    {
     "data": {
      "text/plain": [
       "2"
      ]
     },
     "execution_count": 4,
     "metadata": {},
     "output_type": "execute_result"
    }
   ],
   "source": [
    "1+1"
   ]
  },
  {
   "cell_type": "code",
   "execution_count": 6,
   "id": "376e2d4c-84f6-4d61-bb99-a7fb8323c4df",
   "metadata": {},
   "outputs": [],
   "source": [
    "int_number=2"
   ]
  },
  {
   "cell_type": "code",
   "execution_count": 7,
   "id": "73911341-0602-4c47-abb8-c358967e8f10",
   "metadata": {},
   "outputs": [
    {
     "data": {
      "text/plain": [
       "int"
      ]
     },
     "execution_count": 7,
     "metadata": {},
     "output_type": "execute_result"
    }
   ],
   "source": [
    "type(int_number)"
   ]
  },
  {
   "cell_type": "code",
   "execution_count": 8,
   "id": "d091c1d8-1f2b-42bd-b101-4d7c651415b5",
   "metadata": {},
   "outputs": [],
   "source": [
    "f_number=3.14"
   ]
  },
  {
   "cell_type": "code",
   "execution_count": 9,
   "id": "42fec13e-aeb9-42ea-b031-1883aade4708",
   "metadata": {},
   "outputs": [
    {
     "data": {
      "text/plain": [
       "float"
      ]
     },
     "execution_count": 9,
     "metadata": {},
     "output_type": "execute_result"
    }
   ],
   "source": [
    "type(f_number)"
   ]
  },
  {
   "cell_type": "markdown",
   "id": "d1d30ace-7bf2-4214-95e8-4b90d94c74cd",
   "metadata": {},
   "source": [
    "convention:\n",
    "-- start with characters or underscore\n",
    "= Case=sensitive: num != NUM!=num"
   ]
  },
  {
   "cell_type": "markdown",
   "id": "1ad97e67-5b78-44f6-a3d2-34ddf43d96a0",
   "metadata": {},
   "source": [
    "### 2. Operation & operators"
   ]
  },
  {
   "cell_type": "markdown",
   "id": "81479949-aff6-418e-b8ef-d12b01c68ce3",
   "metadata": {},
   "source": [
    "|Operation| Meaning|Examples|\n",
    "|-|-|-|\n",
    "|+|adding|a+b|"
   ]
  },
  {
   "cell_type": "markdown",
   "id": "8f629c15-6bb3-4087-8e0d-2d79e98b5f29",
   "metadata": {},
   "source": [
    "### 3.Logic"
   ]
  },
  {
   "cell_type": "markdown",
   "id": "bfad033c-170c-4311-812f-9533e4ba3666",
   "metadata": {},
   "source": [
    "--and: true if all true"
   ]
  },
  {
   "cell_type": "code",
   "execution_count": 12,
   "id": "a0df64f2-5b5f-4167-bc23-33f231f5eb9b",
   "metadata": {},
   "outputs": [
    {
     "data": {
      "text/plain": [
       "True"
      ]
     },
     "execution_count": 12,
     "metadata": {},
     "output_type": "execute_result"
    }
   ],
   "source": [
    "True and True"
   ]
  },
  {
   "cell_type": "markdown",
   "id": "98db35bf-4d04-4eb3-a283-78d08a539d65",
   "metadata": {},
   "source": [
    "### 4.condition"
   ]
  },
  {
   "cell_type": "markdown",
   "id": "12fdb950-95e9-42d9-9c48-726c6e143fc5",
   "metadata": {},
   "source": [
    "|Operator| Meaning|\n",
    "|-|-|\n",
    "|<| Less than|\n",
    "|>| Greater than|\n",
    "|<=| Greater than eaqual|"
   ]
  },
  {
   "cell_type": "code",
   "execution_count": 15,
   "id": "13d42038-895c-425b-b472-a2a8d1327d13",
   "metadata": {},
   "outputs": [
    {
     "data": {
      "text/plain": [
       "False"
      ]
     },
     "execution_count": 15,
     "metadata": {},
     "output_type": "execute_result"
    }
   ],
   "source": [
    "1==2"
   ]
  },
  {
   "cell_type": "markdown",
   "id": "37bb25a9-59e6-4119-9d6d-4d4a750e8c61",
   "metadata": {},
   "source": [
    "### 5.Data type"
   ]
  },
  {
   "cell_type": "code",
   "execution_count": 16,
   "id": "8345614d-1322-4a82-a5f2-cc71d34e3edb",
   "metadata": {},
   "outputs": [
    {
     "data": {
      "text/plain": [
       "int"
      ]
     },
     "execution_count": 16,
     "metadata": {},
     "output_type": "execute_result"
    }
   ],
   "source": [
    "type(3)"
   ]
  },
  {
   "cell_type": "markdown",
   "id": "9f0ba3b2-d91b-4060-9ed8-bce0835980b3",
   "metadata": {},
   "source": [
    "### 5. Data structure"
   ]
  },
  {
   "cell_type": "code",
   "execution_count": 2,
   "id": "e70bd4ed-08e8-4019-9fd9-425b2a27bd31",
   "metadata": {},
   "outputs": [
    {
     "data": {
      "text/plain": [
       "[1, 2, 'python', 3.14]"
      ]
     },
     "execution_count": 2,
     "metadata": {},
     "output_type": "execute_result"
    }
   ],
   "source": [
    "li=[1,2,\"python\",3.14]\n",
    "li"
   ]
  },
  {
   "cell_type": "code",
   "execution_count": 6,
   "id": "3b2187d5-27ca-4ded-abec-7b59e5eb8c77",
   "metadata": {},
   "outputs": [
    {
     "data": {
      "text/plain": [
       "[1, 2, 'python', 3.14, 2, 2]"
      ]
     },
     "execution_count": 6,
     "metadata": {},
     "output_type": "execute_result"
    }
   ],
   "source": [
    "li.append(2)\n",
    "li"
   ]
  },
  {
   "cell_type": "code",
   "execution_count": 7,
   "id": "67d44255-4cad-4242-9d62-1eb9c6caa2ed",
   "metadata": {},
   "outputs": [
    {
     "data": {
      "text/plain": [
       "[1, 2, 'python', 3.14, 2, 2, 1]"
      ]
     },
     "execution_count": 7,
     "metadata": {},
     "output_type": "execute_result"
    }
   ],
   "source": [
    "li.append(1)\n",
    "li"
   ]
  },
  {
   "cell_type": "code",
   "execution_count": 8,
   "id": "8b03fda9-f3fe-491c-8caf-89cd8c3574e7",
   "metadata": {},
   "outputs": [
    {
     "data": {
      "text/plain": [
       "2"
      ]
     },
     "execution_count": 8,
     "metadata": {},
     "output_type": "execute_result"
    }
   ],
   "source": [
    "li[1]"
   ]
  },
  {
   "cell_type": "code",
   "execution_count": 10,
   "id": "cc178b41-2d7d-42b6-acd9-f8d9d6445051",
   "metadata": {},
   "outputs": [
    {
     "data": {
      "text/plain": [
       "[]"
      ]
     },
     "execution_count": 10,
     "metadata": {},
     "output_type": "execute_result"
    }
   ],
   "source": [
    "li.clear()\n",
    "li"
   ]
  },
  {
   "cell_type": "code",
   "execution_count": 11,
   "id": "0b614e09-dd31-40c0-901e-68c45533a907",
   "metadata": {},
   "outputs": [
    {
     "data": {
      "text/plain": [
       "[]"
      ]
     },
     "execution_count": 11,
     "metadata": {},
     "output_type": "execute_result"
    }
   ],
   "source": [
    "li"
   ]
  },
  {
   "cell_type": "code",
   "execution_count": 14,
   "id": "d477d28b-8208-48f2-971e-fc90bb97b655",
   "metadata": {},
   "outputs": [
    {
     "data": {
      "text/plain": [
       "[1, 2, 'python', 3.14, 2, 2, 1]"
      ]
     },
     "execution_count": 14,
     "metadata": {},
     "output_type": "execute_result"
    }
   ],
   "source": [
    "li=[1, 2, 'python', 3.14, 2, 2, 1]\n",
    "li"
   ]
  },
  {
   "cell_type": "code",
   "execution_count": 15,
   "id": "ab2d98db-a7c0-4125-bc2f-23e401724d3e",
   "metadata": {},
   "outputs": [
    {
     "data": {
      "text/plain": [
       "3.14"
      ]
     },
     "execution_count": 15,
     "metadata": {},
     "output_type": "execute_result"
    }
   ],
   "source": [
    "li[3]"
   ]
  },
  {
   "cell_type": "code",
   "execution_count": 19,
   "id": "f154a78a-e1fc-48b2-869d-bfbad5897eab",
   "metadata": {},
   "outputs": [
    {
     "data": {
      "text/plain": [
       "2.0"
      ]
     },
     "execution_count": 19,
     "metadata": {},
     "output_type": "execute_result"
    }
   ],
   "source": [
    "4**1/2"
   ]
  },
  {
   "cell_type": "code",
   "execution_count": null,
   "id": "41e09ded-6b95-4655-8357-ca6e3aff1631",
   "metadata": {},
   "outputs": [],
   "source": []
  }
 ],
 "metadata": {
  "kernelspec": {
   "display_name": "Python 3",
   "language": "python",
   "name": "python3"
  },
  "language_info": {
   "codemirror_mode": {
    "name": "ipython",
    "version": 3
   },
   "file_extension": ".py",
   "mimetype": "text/x-python",
   "name": "python",
   "nbconvert_exporter": "python",
   "pygments_lexer": "ipython3",
   "version": "3.7.10"
  }
 },
 "nbformat": 4,
 "nbformat_minor": 5
}
