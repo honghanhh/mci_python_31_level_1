{
 "cells": [
  {
   "cell_type": "markdown",
   "id": "e2ffdddc-dfa4-4f9c-91e4-dc06078559ba",
   "metadata": {},
   "source": [
    "# Lesson 3"
   ]
  },
  {
   "cell_type": "markdown",
   "id": "4072f14a-cdec-4575-9170-fbe8052f4b46",
   "metadata": {},
   "source": [
    "## PROGRAMMING FLOW"
   ]
  },
  {
   "cell_type": "markdown",
   "id": "e0c84503-c2f8-4f84-818a-7cf0572de7dc",
   "metadata": {},
   "source": [
    "- Sequential...\n",
    "- Loop: For, While ...\n",
    "- Condition: If elif else...\n",
    "- Function"
   ]
  },
  {
   "cell_type": "markdown",
   "id": "6bc4aef1-2a45-4a17-91f2-0f402e83c013",
   "metadata": {},
   "source": [
    "### 1. Sequential"
   ]
  },
  {
   "cell_type": "code",
   "execution_count": 2,
   "id": "7bcb9b16-dacf-44f3-a0fc-7bec9c205d39",
   "metadata": {},
   "outputs": [
    {
     "name": "stdout",
     "output_type": "stream",
     "text": [
      "everyone\n",
      "Hello\n",
      "!\n"
     ]
    }
   ],
   "source": [
    "print('everyone')\n",
    "print('Hello')\n",
    "print('!')"
   ]
  },
  {
   "cell_type": "markdown",
   "id": "a966f233-1ed7-4dbd-bc8a-5fce3e640dc6",
   "metadata": {},
   "source": [
    "## 2. Loop"
   ]
  },
  {
   "cell_type": "markdown",
   "id": "f1b9d27e-78b9-41c1-aa42-3bc57e7e77fb",
   "metadata": {},
   "source": [
    "- Iteration\n",
    "- For\n",
    "- While"
   ]
  },
  {
   "cell_type": "markdown",
   "id": "0910a9cd-83d4-476e-b817-dca0c4e873fd",
   "metadata": {},
   "source": [
    "### 2.1 For"
   ]
  },
  {
   "cell_type": "markdown",
   "id": "70c44896-3242-4a89-9c4c-34ddd1ccc564",
   "metadata": {},
   "source": [
    "```\n",
    "for value in iterable:\n",
    "    bussiness logic #indent\n",
    "```"
   ]
  },
  {
   "cell_type": "markdown",
   "id": "71553e9c-9165-44c0-9a78-c74e2115a277",
   "metadata": {},
   "source": [
    "```\n",
    "for index in range(len(iterable)):\n",
    "    bussiness logic\n",
    "```"
   ]
  },
  {
   "cell_type": "code",
   "execution_count": 6,
   "id": "6c458feb-4d18-478f-9817-803174f0598d",
   "metadata": {},
   "outputs": [
    {
     "data": {
      "text/plain": [
       "[0, 1, 2, 3, 4, 5, 6, 7, 8, 9]"
      ]
     },
     "execution_count": 6,
     "metadata": {},
     "output_type": "execute_result"
    }
   ],
   "source": [
    "list(range(10)) # 0 (inclusive) -> 9 (exclusive)"
   ]
  },
  {
   "cell_type": "code",
   "execution_count": 7,
   "id": "4a460265-1bc9-4a52-b970-f43f96ca4002",
   "metadata": {},
   "outputs": [
    {
     "data": {
      "text/plain": [
       "[2, 3, 4, 5, 6, 7, 8, 9]"
      ]
     },
     "execution_count": 7,
     "metadata": {},
     "output_type": "execute_result"
    }
   ],
   "source": [
    "list(range(2,10))"
   ]
  },
  {
   "cell_type": "code",
   "execution_count": 8,
   "id": "37b2f63d-79fa-4564-a950-d17181959a1f",
   "metadata": {},
   "outputs": [
    {
     "data": {
      "text/plain": [
       "[2, 4, 6, 8]"
      ]
     },
     "execution_count": 8,
     "metadata": {},
     "output_type": "execute_result"
    }
   ],
   "source": [
    "list(range(2,10,2))"
   ]
  },
  {
   "cell_type": "code",
   "execution_count": 16,
   "id": "7ad5bb23-1ea6-402b-b1fd-5be9644b9270",
   "metadata": {},
   "outputs": [
    {
     "data": {
      "text/plain": [
       "4"
      ]
     },
     "execution_count": 16,
     "metadata": {},
     "output_type": "execute_result"
    }
   ],
   "source": [
    "len(range(2,10,2))"
   ]
  },
  {
   "cell_type": "markdown",
   "id": "7b433db3-5133-46a1-9286-ce33faaaa1aa",
   "metadata": {},
   "source": [
    "Casting"
   ]
  },
  {
   "cell_type": "code",
   "execution_count": 9,
   "id": "37677a53-3662-4ebb-b310-7714ef7aa755",
   "metadata": {},
   "outputs": [],
   "source": [
    "a = '1'"
   ]
  },
  {
   "cell_type": "code",
   "execution_count": 10,
   "id": "393ffcbe-cf0b-4d53-822d-4fdd0c799aa9",
   "metadata": {},
   "outputs": [
    {
     "data": {
      "text/plain": [
       "str"
      ]
     },
     "execution_count": 10,
     "metadata": {},
     "output_type": "execute_result"
    }
   ],
   "source": [
    "type(a)"
   ]
  },
  {
   "cell_type": "code",
   "execution_count": 11,
   "id": "f773e50d-7d3f-49c8-998f-d40470e6f4d8",
   "metadata": {},
   "outputs": [
    {
     "data": {
      "text/plain": [
       "'11'"
      ]
     },
     "execution_count": 11,
     "metadata": {},
     "output_type": "execute_result"
    }
   ],
   "source": [
    "a*2"
   ]
  },
  {
   "cell_type": "code",
   "execution_count": 12,
   "id": "0db8a8e2-83ae-4047-84e7-d53a7ae0676e",
   "metadata": {},
   "outputs": [
    {
     "data": {
      "text/plain": [
       "2"
      ]
     },
     "execution_count": 12,
     "metadata": {},
     "output_type": "execute_result"
    }
   ],
   "source": [
    "int(a)*2"
   ]
  },
  {
   "cell_type": "markdown",
   "id": "6c79692e-bba6-440c-9f70-417bf4b60745",
   "metadata": {},
   "source": [
    "- int()\n",
    "- float()\n",
    "- str()\n",
    "..."
   ]
  },
  {
   "cell_type": "code",
   "execution_count": 13,
   "id": "b818dfc0-8540-494b-af63-bd11a07fac5d",
   "metadata": {},
   "outputs": [],
   "source": [
    "b = 'i'"
   ]
  },
  {
   "cell_type": "code",
   "execution_count": 14,
   "id": "c6a9db23-343f-40b6-b209-a1b5edb4303c",
   "metadata": {},
   "outputs": [
    {
     "ename": "ValueError",
     "evalue": "invalid literal for int() with base 10: 'i'",
     "output_type": "error",
     "traceback": [
      "\u001b[0;31m---------------------------------------------------------------------------\u001b[0m",
      "\u001b[0;31mValueError\u001b[0m                                Traceback (most recent call last)",
      "\u001b[0;32m<ipython-input-14-07ae29993d50>\u001b[0m in \u001b[0;36m<module>\u001b[0;34m\u001b[0m\n\u001b[0;32m----> 1\u001b[0;31m \u001b[0mint\u001b[0m\u001b[0;34m(\u001b[0m\u001b[0mb\u001b[0m\u001b[0;34m)\u001b[0m\u001b[0;34m\u001b[0m\u001b[0;34m\u001b[0m\u001b[0m\n\u001b[0m",
      "\u001b[0;31mValueError\u001b[0m: invalid literal for int() with base 10: 'i'"
     ]
    }
   ],
   "source": [
    "# int(b)"
   ]
  },
  {
   "cell_type": "code",
   "execution_count": 15,
   "id": "42687865-9085-4991-9319-ca075e649014",
   "metadata": {},
   "outputs": [
    {
     "data": {
      "text/plain": [
       "3"
      ]
     },
     "execution_count": 15,
     "metadata": {},
     "output_type": "execute_result"
    }
   ],
   "source": [
    "int(3.14)"
   ]
  },
  {
   "cell_type": "markdown",
   "id": "0f367140-6b04-43fc-b0ff-8e85b2b64e44",
   "metadata": {},
   "source": [
    "Exercise: Given a list from 0 to 10, return 1 new list containing exponentation of each item in the list"
   ]
  },
  {
   "cell_type": "code",
   "execution_count": 17,
   "id": "0e1c08a8-cdfb-498f-82a4-f31507382a77",
   "metadata": {},
   "outputs": [
    {
     "data": {
      "text/plain": [
       "[0, 1, 2, 3, 4, 5, 6, 7, 8, 9, 10]"
      ]
     },
     "execution_count": 17,
     "metadata": {},
     "output_type": "execute_result"
    }
   ],
   "source": [
    "li = list(range(11))\n",
    "li"
   ]
  },
  {
   "cell_type": "code",
   "execution_count": 21,
   "id": "56ad445b-a628-4e5d-8ae8-12c128a47d9d",
   "metadata": {},
   "outputs": [],
   "source": [
    "li1 = [] # empty list\n",
    "for val in li:\n",
    "#     print(val,val**2)\n",
    "    li1.append(val**2)"
   ]
  },
  {
   "cell_type": "code",
   "execution_count": 22,
   "id": "b07ed38f-51c4-4949-bcaa-ccb72ef074d3",
   "metadata": {},
   "outputs": [
    {
     "data": {
      "text/plain": [
       "[0, 1, 4, 9, 16, 25, 36, 49, 64, 81, 100]"
      ]
     },
     "execution_count": 22,
     "metadata": {},
     "output_type": "execute_result"
    }
   ],
   "source": [
    "li1"
   ]
  },
  {
   "cell_type": "code",
   "execution_count": 23,
   "id": "8fd24cbb-0c63-43ea-8ada-a541246753c7",
   "metadata": {},
   "outputs": [],
   "source": [
    "li2 = [] #empty list\n",
    "for idx in range(0,len(li) - 1):\n",
    "    li2.append(li[idx]**2)"
   ]
  },
  {
   "cell_type": "code",
   "execution_count": 30,
   "id": "7848dc04-7e3d-41ba-9c47-ee1a4411cb05",
   "metadata": {},
   "outputs": [
    {
     "data": {
      "text/plain": [
       "[1, 2, 3, 4, 5, 6, 7, 8, 9]"
      ]
     },
     "execution_count": 30,
     "metadata": {},
     "output_type": "execute_result"
    }
   ],
   "source": [
    "list(range(1,len(li) - 1))"
   ]
  },
  {
   "cell_type": "markdown",
   "id": "787f2a45-13e1-47fd-a5a5-1669f74423ef",
   "metadata": {},
   "source": [
    "Exercise: Write a program to calculate n! of an integer n\n",
    "\n",
    "n = 8\n",
    "\n",
    "n! = 1x2x3x4x5x6x7x8"
   ]
  },
  {
   "cell_type": "code",
   "execution_count": 36,
   "id": "e39a3b6f-6929-4651-a7f1-c454d1b8cce4",
   "metadata": {},
   "outputs": [
    {
     "name": "stdout",
     "output_type": "stream",
     "text": [
      "1\n",
      "2\n",
      "3\n",
      "4\n",
      "5\n",
      "6\n",
      "7\n",
      "8\n"
     ]
    }
   ],
   "source": [
    "#Long's solution\n",
    "n=8\n",
    "a=1\n",
    "for i in range(1,n+1):\n",
    "    print(i)\n",
    "    #a=a*i\n",
    "    a *= i"
   ]
  },
  {
   "cell_type": "code",
   "execution_count": 37,
   "id": "44c18513-d719-4592-86ea-02748c608bc5",
   "metadata": {},
   "outputs": [
    {
     "data": {
      "text/plain": [
       "40320"
      ]
     },
     "execution_count": 37,
     "metadata": {},
     "output_type": "execute_result"
    }
   ],
   "source": [
    "a"
   ]
  },
  {
   "cell_type": "code",
   "execution_count": 4,
   "id": "df1fde43-e0c0-4214-a64c-63fe913e0096",
   "metadata": {},
   "outputs": [
    {
     "name": "stdin",
     "output_type": "stream",
     "text": [
      "Enter the value you wanna make the N!: 3\n"
     ]
    },
    {
     "name": "stdout",
     "output_type": "stream",
     "text": [
      "6\n"
     ]
    }
   ],
   "source": [
    "# Dat's solution\n",
    "x = input(\"Enter the value you wanna make the N!:\")\n",
    "value = 1\n",
    "for i in range(1,int(x)+1):\n",
    "    value = value * i\n",
    "# final = value * int(x)\n",
    "print(value)"
   ]
  },
  {
   "cell_type": "markdown",
   "id": "be1bc1ce-3d5d-41fb-93fd-20658f9b0f77",
   "metadata": {},
   "source": [
    "### 2.2 While"
   ]
  },
  {
   "cell_type": "markdown",
   "id": "9c0148c4-6dfe-47c5-89c5-0d57eaa9d80e",
   "metadata": {},
   "source": [
    "```\n",
    "while condition(True/False):\n",
    "    bussiness logic\n",
    "```"
   ]
  },
  {
   "cell_type": "code",
   "execution_count": 38,
   "id": "20d34891-704c-4e36-88e8-e470f6290264",
   "metadata": {},
   "outputs": [],
   "source": [
    "a = 4\n",
    "i = 0"
   ]
  },
  {
   "cell_type": "code",
   "execution_count": 39,
   "id": "5ecd7820-d4e1-4ad0-8ddb-2f9912a538f2",
   "metadata": {},
   "outputs": [],
   "source": [
    "a, i = 4, 0"
   ]
  },
  {
   "cell_type": "code",
   "execution_count": 40,
   "id": "c165365b-ff90-4f10-bb23-16d97b892261",
   "metadata": {},
   "outputs": [
    {
     "name": "stdout",
     "output_type": "stream",
     "text": [
      "Hello 0\n",
      "Hello 1\n",
      "Hello 2\n",
      "Hello 3\n"
     ]
    }
   ],
   "source": [
    "while i < a:\n",
    "    print(f\"Hello {i}\")\n",
    "    i += 1"
   ]
  },
  {
   "cell_type": "markdown",
   "id": "1cbbdf65-7e8d-4b0d-b25c-9aef9cd5ee36",
   "metadata": {},
   "source": [
    "**String format**"
   ]
  },
  {
   "cell_type": "code",
   "execution_count": 41,
   "id": "8cfa1e93-8283-47ee-9f7c-ea80f8ce2056",
   "metadata": {},
   "outputs": [],
   "source": [
    "a = 'MCI'\n",
    "b = 'Lesson 3'"
   ]
  },
  {
   "cell_type": "code",
   "execution_count": 42,
   "id": "146f5319-1783-4f16-a573-3dfbcc12fb0a",
   "metadata": {},
   "outputs": [
    {
     "name": "stdout",
     "output_type": "stream",
     "text": [
      "Hello MCI Lesson 3\n"
     ]
    }
   ],
   "source": [
    "print('Hello MCI Lesson 3')"
   ]
  },
  {
   "cell_type": "code",
   "execution_count": 44,
   "id": "35ec781f-dc32-44ae-bb15-8b484fc419f0",
   "metadata": {},
   "outputs": [],
   "source": [
    "a = 'Unicorn'"
   ]
  },
  {
   "cell_type": "code",
   "execution_count": 45,
   "id": "76493faa-117e-4ca8-b367-3063237d30c5",
   "metadata": {},
   "outputs": [
    {
     "name": "stdout",
     "output_type": "stream",
     "text": [
      "Hello Unicorn\n"
     ]
    }
   ],
   "source": [
    "print('Hello {}'.format(a))"
   ]
  },
  {
   "cell_type": "code",
   "execution_count": 47,
   "id": "1c8fe9d8-76c3-4b9b-a949-8b595b684def",
   "metadata": {},
   "outputs": [
    {
     "name": "stdout",
     "output_type": "stream",
     "text": [
      "Hello Unicorn\n"
     ]
    }
   ],
   "source": [
    "print(f'Hello {a}') #f --> format"
   ]
  },
  {
   "cell_type": "code",
   "execution_count": 49,
   "id": "4208da6d-7ad8-4bf5-87c5-3e4c7120d82b",
   "metadata": {},
   "outputs": [
    {
     "name": "stdout",
     "output_type": "stream",
     "text": [
      "Hello Unicorn\n"
     ]
    }
   ],
   "source": [
    "print('Hello %s' %(a)) # %s -> string, %d -> %decimal, %f -> float"
   ]
  },
  {
   "cell_type": "markdown",
   "id": "6784a894-d0db-49ca-9350-2e09fcf83779",
   "metadata": {},
   "source": [
    "Exercise: Given a list from 0 to 10, return 1 new list containing exponentation of each item in the list using while"
   ]
  },
  {
   "cell_type": "code",
   "execution_count": 54,
   "id": "b9d6c7b6-8053-4b57-b36f-b747a75c44ad",
   "metadata": {},
   "outputs": [
    {
     "name": "stdout",
     "output_type": "stream",
     "text": [
      "1 2\n",
      "2 3\n",
      "6 7\n",
      "42\n"
     ]
    }
   ],
   "source": [
    "n=8\n",
    "a=1\n",
    "while a < n+1:\n",
    "    print(a, a+1)\n",
    "    a = a*(a+1)\n",
    "print(a)"
   ]
  },
  {
   "cell_type": "code",
   "execution_count": 51,
   "id": "6a05309f-3b8a-4298-a060-3147f59763d0",
   "metadata": {},
   "outputs": [
    {
     "name": "stdin",
     "output_type": "stream",
     "text": [
      "Enter Value: 8\n"
     ]
    },
    {
     "name": "stdout",
     "output_type": "stream",
     "text": [
      "40320\n"
     ]
    }
   ],
   "source": [
    "#do N with while\n",
    "x = input(\"Enter Value:\")\n",
    "final =1\n",
    "x = int(x)\n",
    "while x >0:\n",
    "    final = final *x \n",
    "    x -=1\n",
    "print(final)"
   ]
  },
  {
   "cell_type": "code",
   "execution_count": 53,
   "id": "ff569fc4-5045-4de3-bf4e-b96bea5211dc",
   "metadata": {},
   "outputs": [
    {
     "name": "stdout",
     "output_type": "stream",
     "text": [
      "40320\n"
     ]
    }
   ],
   "source": [
    "fac = 1\n",
    "i = 1\n",
    "while i < n+1:\n",
    "    fac *= i\n",
    "    i += 1\n",
    "print(fac)"
   ]
  },
  {
   "cell_type": "markdown",
   "id": "c6d75da2-0c83-49b0-a057-96efa4797070",
   "metadata": {},
   "source": [
    "## 3. Condition"
   ]
  },
  {
   "cell_type": "markdown",
   "id": "34c169d7-aaaf-4f84-933a-08de9cd438d1",
   "metadata": {},
   "source": [
    "```\n",
    "if condition(True/False):\n",
    "    bussiness logic\n",
    "elif condition(True/False): # --> optional\n",
    "    bussiness logic\n",
    "elif condition(True/False): # --> optional\n",
    "    bussiness logic\n",
    "elif condition(True/False): # --> optional\n",
    "    bussiness logic\n",
    "    ....\n",
    "else:\n",
    "    bussiness logic # --> optional\n",
    "```"
   ]
  },
  {
   "cell_type": "code",
   "execution_count": 60,
   "id": "7258f4d5-92de-497e-81ac-cd08e9dec660",
   "metadata": {},
   "outputs": [],
   "source": [
    "x = 5\n",
    "y = 5"
   ]
  },
  {
   "cell_type": "code",
   "execution_count": 61,
   "id": "22569a61-4ea8-4792-a1a3-fa90675d3842",
   "metadata": {},
   "outputs": [
    {
     "name": "stdout",
     "output_type": "stream",
     "text": [
      "x is equal to y\n"
     ]
    }
   ],
   "source": [
    "if x < y:\n",
    "    print(\"x is smaller than y\") #ignore because condition is false\n",
    "elif x > y:\n",
    "    print(\"x is larger than y\")\n",
    "else:\n",
    "    print(\"x is equal to y\")"
   ]
  },
  {
   "cell_type": "markdown",
   "id": "634e98c5-182a-4567-9a03-52142c94a18f",
   "metadata": {},
   "source": [
    "## 4. Function (user-defined)"
   ]
  },
  {
   "cell_type": "markdown",
   "id": "acf374e1-a5a4-4168-9d49-6333c957be7a",
   "metadata": {},
   "source": [
    "- Built-in function: len(), range()\n",
    "- User-defined function"
   ]
  },
  {
   "cell_type": "markdown",
   "id": "e3706c05-e506-464c-ab3d-dc3945f006ca",
   "metadata": {},
   "source": [
    "```\n",
    "def function_name(arg1, arg2, ...):\n",
    "    bussiness logic\n",
    "    return #-->  optional\n",
    "```"
   ]
  },
  {
   "cell_type": "code",
   "execution_count": 62,
   "id": "0f368f67-ce0a-499e-bd02-df1d18cecfaf",
   "metadata": {},
   "outputs": [
    {
     "data": {
      "text/plain": [
       "122342411108.06471"
      ]
     },
     "execution_count": 62,
     "metadata": {},
     "output_type": "execute_result"
    }
   ],
   "source": [
    "122342411098 + 1247091720 / 123907410"
   ]
  },
  {
   "cell_type": "code",
   "execution_count": 63,
   "id": "b075095c-4f53-4be3-b261-44864124450d",
   "metadata": {},
   "outputs": [
    {
     "data": {
      "text/plain": [
       "11.064706541763725"
      ]
     },
     "execution_count": 63,
     "metadata": {},
     "output_type": "execute_result"
    }
   ],
   "source": [
    "1 + 1247091720 / 123907410"
   ]
  },
  {
   "cell_type": "code",
   "execution_count": 64,
   "id": "9c32625f-dd14-4d7b-be82-82cd021144a3",
   "metadata": {},
   "outputs": [
    {
     "data": {
      "text/plain": [
       "3"
      ]
     },
     "execution_count": 64,
     "metadata": {},
     "output_type": "execute_result"
    }
   ],
   "source": [
    "li = [1, 2, 3]\n",
    "len(li)"
   ]
  },
  {
   "cell_type": "markdown",
   "id": "e2451dd0-5d1b-4f37-9b5c-e1629d710ba1",
   "metadata": {},
   "source": [
    "Write a program to return length of object using def"
   ]
  },
  {
   "cell_type": "code",
   "execution_count": null,
   "id": "d4d3e3d5-7dc6-4811-be14-72af80d30830",
   "metadata": {},
   "outputs": [],
   "source": [
    "def length_of_list(li):\n",
    "    #bussiness\n",
    "    #return"
   ]
  },
  {
   "cell_type": "code",
   "execution_count": 68,
   "id": "21229a36-cedc-4a73-86b7-ead828df8964",
   "metadata": {},
   "outputs": [
    {
     "name": "stdout",
     "output_type": "stream",
     "text": [
      "3\n"
     ]
    }
   ],
   "source": [
    "def length_list(li):\n",
    "    #bussiness\n",
    "    length = li.index(li[-1])+1\n",
    "    return length\n",
    "print(length_list(li))"
   ]
  },
  {
   "cell_type": "code",
   "execution_count": 72,
   "id": "7862346d-b950-4323-8838-ab1983815ee3",
   "metadata": {},
   "outputs": [],
   "source": [
    "def findLength(string):\n",
    "    count = 0\n",
    "    for _ in string:\n",
    "        count+= 1\n",
    "    return count"
   ]
  },
  {
   "cell_type": "code",
   "execution_count": 73,
   "id": "a797f69f-2328-4cf5-a087-d605a7796d01",
   "metadata": {},
   "outputs": [
    {
     "data": {
      "text/plain": [
       "4"
      ]
     },
     "execution_count": 73,
     "metadata": {},
     "output_type": "execute_result"
    }
   ],
   "source": [
    "findLength('Hanh')"
   ]
  },
  {
   "cell_type": "code",
   "execution_count": 74,
   "id": "241bbe05-8a75-427e-924a-fcb4e6edafda",
   "metadata": {},
   "outputs": [
    {
     "data": {
      "text/plain": [
       "3"
      ]
     },
     "execution_count": 74,
     "metadata": {},
     "output_type": "execute_result"
    }
   ],
   "source": [
    "findLength(li)"
   ]
  },
  {
   "cell_type": "code",
   "execution_count": 66,
   "id": "49a288f8-cf17-4333-bfc6-e1152823867f",
   "metadata": {},
   "outputs": [
    {
     "data": {
      "text/plain": [
       "4"
      ]
     },
     "execution_count": 66,
     "metadata": {},
     "output_type": "execute_result"
    }
   ],
   "source": [
    "len('Hanh')"
   ]
  },
  {
   "cell_type": "code",
   "execution_count": 67,
   "id": "63f36b38-2235-4192-a6ce-d7a2810c5666",
   "metadata": {},
   "outputs": [
    {
     "data": {
      "text/plain": [
       "4"
      ]
     },
     "execution_count": 67,
     "metadata": {},
     "output_type": "execute_result"
    }
   ],
   "source": [
    "length_list('Hanh')"
   ]
  },
  {
   "cell_type": "code",
   "execution_count": null,
   "id": "cfce6880-9ef0-4a1c-b97c-32d182cfd3b0",
   "metadata": {},
   "outputs": [],
   "source": [
    "length_of_list(li)"
   ]
  },
  {
   "cell_type": "markdown",
   "id": "8a2823af-4e85-4d33-8b84-c88ac4ae5a2a",
   "metadata": {},
   "source": [
    "Exercises:\n",
    "- sum() #list\n",
    "- average() #list"
   ]
  },
  {
   "cell_type": "markdown",
   "id": "1186e6fa-3ca7-4071-b394-edf209995d7d",
   "metadata": {},
   "source": [
    "** Anonymous Function (no name)**"
   ]
  },
  {
   "cell_type": "code",
   "execution_count": 79,
   "id": "bfed5afd-1d6d-4fee-8738-ab3f9538c1ac",
   "metadata": {},
   "outputs": [],
   "source": [
    "def expo1(x):\n",
    "    return x**2"
   ]
  },
  {
   "cell_type": "code",
   "execution_count": 75,
   "id": "49eeac90-3b3a-438e-9f4e-180e81efc3a0",
   "metadata": {},
   "outputs": [],
   "source": [
    "expo = lambda x : x**2"
   ]
  },
  {
   "cell_type": "code",
   "execution_count": 76,
   "id": "175268d9-fb0c-4171-b5ee-f776398b9a0a",
   "metadata": {},
   "outputs": [
    {
     "data": {
      "text/plain": [
       "4"
      ]
     },
     "execution_count": 76,
     "metadata": {},
     "output_type": "execute_result"
    }
   ],
   "source": [
    "expo(2)"
   ]
  },
  {
   "cell_type": "code",
   "execution_count": 80,
   "id": "d05d91fd-be06-4064-8415-20d2a01d8b8e",
   "metadata": {},
   "outputs": [
    {
     "data": {
      "text/plain": [
       "4"
      ]
     },
     "execution_count": 80,
     "metadata": {},
     "output_type": "execute_result"
    }
   ],
   "source": [
    "expo1(2)"
   ]
  },
  {
   "cell_type": "markdown",
   "id": "42ef509f-6696-489f-baf3-92e9d4f9668a",
   "metadata": {},
   "source": [
    "## 5. Comprehension"
   ]
  },
  {
   "cell_type": "code",
   "execution_count": 81,
   "id": "bdd0e621-3b06-4d00-89c9-66adc37ab31f",
   "metadata": {},
   "outputs": [
    {
     "data": {
      "text/plain": [
       "[1, 4, 9]"
      ]
     },
     "execution_count": 81,
     "metadata": {},
     "output_type": "execute_result"
    }
   ],
   "source": [
    "li = [ 1, 2, 3]\n",
    "li2 = []\n",
    "for i in li:\n",
    "    li2.append(i**2)\n",
    "li2"
   ]
  },
  {
   "cell_type": "code",
   "execution_count": 85,
   "id": "0db0de5f-e8c4-4e39-9b8d-173f041e2aec",
   "metadata": {},
   "outputs": [
    {
     "data": {
      "text/plain": [
       "(1, 4, 9)"
      ]
     },
     "execution_count": 85,
     "metadata": {},
     "output_type": "execute_result"
    }
   ],
   "source": [
    "li3 = tuple(i**2 for i in li)\n",
    "li3"
   ]
  },
  {
   "cell_type": "code",
   "execution_count": 86,
   "id": "be1f1aa8-ef79-43f4-a682-c804aeb8e15b",
   "metadata": {},
   "outputs": [
    {
     "data": {
      "text/plain": [
       "tuple"
      ]
     },
     "execution_count": 86,
     "metadata": {},
     "output_type": "execute_result"
    }
   ],
   "source": [
    "type(li3)"
   ]
  },
  {
   "cell_type": "markdown",
   "id": "f2301075-7931-4103-9ad9-7d2a133935c2",
   "metadata": {},
   "source": [
    "Exercise: return a list containing odd numbers given original list"
   ]
  },
  {
   "cell_type": "code",
   "execution_count": 87,
   "id": "1984cb87-57c6-4c8f-9184-1cb020e56306",
   "metadata": {},
   "outputs": [],
   "source": [
    "li = [1, 2, 3, 4, 5,7]"
   ]
  },
  {
   "cell_type": "code",
   "execution_count": 88,
   "id": "33762ef8-dc88-4a96-ba0c-ce1bf89a657b",
   "metadata": {},
   "outputs": [
    {
     "data": {
      "text/plain": [
       "[1, 3, 5, 7]"
      ]
     },
     "execution_count": 88,
     "metadata": {},
     "output_type": "execute_result"
    }
   ],
   "source": [
    "li2 = [i for i in li if i%2 ==1]\n",
    "li2"
   ]
  },
  {
   "cell_type": "markdown",
   "id": "bfb9c281-e9d9-4b47-884b-7a163e706bea",
   "metadata": {},
   "source": [
    "Exercise: return a list \n",
    "\n",
    "- odd item: x**2\n",
    "- even item: x\n",
    " \n",
    "given original list"
   ]
  },
  {
   "cell_type": "code",
   "execution_count": 89,
   "id": "7fab1b29-6194-4b7a-bfc1-a02245fa0f00",
   "metadata": {},
   "outputs": [
    {
     "data": {
      "text/plain": [
       "[1, 2, 9, 4, 25, 49]"
      ]
     },
     "execution_count": 89,
     "metadata": {},
     "output_type": "execute_result"
    }
   ],
   "source": [
    "li3 = [i**2 if i%2 == 1 else i for i in li ]\n",
    "li3"
   ]
  },
  {
   "cell_type": "code",
   "execution_count": 90,
   "id": "b60d4a41-8135-488d-9106-f88dafa32297",
   "metadata": {},
   "outputs": [
    {
     "data": {
      "text/plain": [
       "[1, 2, 3, 4, 5, 7]"
      ]
     },
     "execution_count": 90,
     "metadata": {},
     "output_type": "execute_result"
    }
   ],
   "source": [
    "li"
   ]
  },
  {
   "cell_type": "code",
   "execution_count": 91,
   "id": "00ca1c20-c1ae-4945-93b9-eb28be23445c",
   "metadata": {},
   "outputs": [
    {
     "data": {
      "text/plain": [
       "[[1, 2, 3], [4, 5, 6], [7, 8, 9]]"
      ]
     },
     "execution_count": 91,
     "metadata": {},
     "output_type": "execute_result"
    }
   ],
   "source": [
    "li4 = [[1,2,3],\n",
    "      [4,5,6],\n",
    "      [7,8,9]]\n",
    "li4"
   ]
  },
  {
   "cell_type": "code",
   "execution_count": 92,
   "id": "72fb7502-c219-43b9-aba7-55a7a08d3831",
   "metadata": {},
   "outputs": [],
   "source": [
    "# [1,2,3,4,5,6,7,8,9]"
   ]
  },
  {
   "cell_type": "code",
   "execution_count": 95,
   "id": "129043d9-fb80-449d-a23c-8184bfd43faf",
   "metadata": {},
   "outputs": [
    {
     "data": {
      "text/plain": [
       "[1, 2, 3, 4, 5, 6, 7, 8, 9]"
      ]
     },
     "execution_count": 95,
     "metadata": {},
     "output_type": "execute_result"
    }
   ],
   "source": [
    "[i for sub_li in li4 for i in sub_li] # 1 - 2 loop"
   ]
  },
  {
   "cell_type": "code",
   "execution_count": null,
   "id": "4dad0be3-c71a-4412-8ed1-7d0f5cd04e7f",
   "metadata": {},
   "outputs": [],
   "source": [
    "for sub_li in li4:\n",
    "    for i in sub_4:"
   ]
  }
 ],
 "metadata": {
  "kernelspec": {
   "display_name": "Python 3",
   "language": "python",
   "name": "python3"
  },
  "language_info": {
   "codemirror_mode": {
    "name": "ipython",
    "version": 3
   },
   "file_extension": ".py",
   "mimetype": "text/x-python",
   "name": "python",
   "nbconvert_exporter": "python",
   "pygments_lexer": "ipython3",
   "version": "3.7.10"
  }
 },
 "nbformat": 4,
 "nbformat_minor": 5
}
