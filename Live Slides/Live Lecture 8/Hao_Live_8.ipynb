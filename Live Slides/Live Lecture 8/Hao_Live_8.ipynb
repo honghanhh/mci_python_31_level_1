{
 "cells": [
  {
   "cell_type": "markdown",
   "id": "e48e4783-3013-4b8e-8653-b1db847e1741",
   "metadata": {},
   "source": [
    "# <center> LESSON 8: Introduction to Machine Learning </center>"
   ]
  },
  {
   "cell_type": "markdown",
   "id": "71c8ded8-9527-4c5b-ad9f-2940de08854e",
   "metadata": {},
   "source": [
    "## 1. What is Machine Learning?"
   ]
  },
  {
   "cell_type": "markdown",
   "id": "88a9f961-3f63-466e-8079-9c31c2f7b12c",
   "metadata": {},
   "source": [
    "### 1.1 Evolution\n",
    "<center> <img src=\"http://www.metal-am.com/wp-content/uploads/sites/4/2020/12/fig-01-copy-1024x630.jpg\" width=\"500\"/></center>"
   ]
  },
  {
   "cell_type": "markdown",
   "id": "b31421e8-b48f-4237-81a4-8197a362f55c",
   "metadata": {},
   "source": [
    "- `Alan Turing` - `Initation game`\n",
    "- Turing Awards\n",
    "\n"
   ]
  },
  {
   "cell_type": "code",
   "execution_count": null,
   "id": "a51dbdf2-d0d1-4deb-bcf6-9b1e4d2eca4c",
   "metadata": {},
   "outputs": [],
   "source": []
  },
  {
   "cell_type": "code",
   "execution_count": null,
   "id": "da9120f2-41c1-4d52-910f-b59df1ea267d",
   "metadata": {},
   "outputs": [],
   "source": []
  },
  {
   "cell_type": "markdown",
   "id": "6bc63700-7972-43d1-877f-57bdf3ef940a",
   "metadata": {},
   "source": [
    "### 1.2 Definition\n",
    "<center> <img src=\"https://christophm.github.io/interpretable-ml-book/images/programing-ml.png\" width=\"500\"/></center>"
   ]
  },
  {
   "cell_type": "markdown",
   "id": "66ada1df-2e37-47bc-bc1a-db4bdf53e000",
   "metadata": {},
   "source": [
    "**Definnition**: aset of mothos that computers use to make and improve preditions or behaviors bassed data"
   ]
  },
  {
   "cell_type": "code",
   "execution_count": null,
   "id": "015141ef-5360-419c-9933-a83fc15c1b19",
   "metadata": {},
   "outputs": [],
   "source": []
  },
  {
   "cell_type": "code",
   "execution_count": null,
   "id": "87748090-0567-485c-b1a1-dde9693aa9c5",
   "metadata": {},
   "outputs": [],
   "source": []
  },
  {
   "cell_type": "markdown",
   "id": "d1032ebc-c0b8-4219-9594-70e81e63fe22",
   "metadata": {},
   "source": [
    "|Input|Types|Output|\n",
    "|-|-|-|\n",
    "|Data, Rules|Classical Programming|Answers|\n",
    "|Data (with or without Answers)|Machine Learning|Rules|"
   ]
  },
  {
   "cell_type": "markdown",
   "id": "89d0a9cf-68cc-4bdf-9f4e-d96d077fa3a7",
   "metadata": {},
   "source": [
    "### 1.3 Reference\n",
    "<center> <img src=\"https://www.azquotes.com/picture-quotes/quote-no-one-knows-what-the-right-algorithm-is-but-it-gives-us-hope-that-if-we-can-discover-andrew-ng-125-25-69.jpg\" width=\"500\"/></center>\n",
    "\n",
    "\n",
    "Recommended courses: \n",
    "- [Machine Learning](https://www.coursera.org/learn/machine-learning)\n",
    "- [Deep Learning](https://www.coursera.org/specializations/deep-learning)"
   ]
  },
  {
   "cell_type": "markdown",
   "id": "9ba92fe6-9e24-4ffc-b193-edebe6f40546",
   "metadata": {},
   "source": [
    "## 2. Types of Machine Learning"
   ]
  },
  {
   "cell_type": "code",
   "execution_count": null,
   "id": "3b9a79bc-4360-4d46-804e-d9e90f23db89",
   "metadata": {},
   "outputs": [],
   "source": []
  },
  {
   "cell_type": "code",
   "execution_count": null,
   "id": "f044080e-5ef1-4ed6-be09-5c5353f3488c",
   "metadata": {},
   "outputs": [],
   "source": []
  },
  {
   "cell_type": "markdown",
   "id": "4c49aee8-9df9-46ee-9b41-7f6536e62cca",
   "metadata": {},
   "source": [
    "<center> <img src=\"https://www.7wdata.be/wp-content/uploads/2020/06/1FUZS9K4JPqzfXDcC83BQTw.png\" alt=\"anatomy\" width=\"700\"/></center>\n"
   ]
  },
  {
   "cell_type": "markdown",
   "id": "389d83c7-2c33-4883-93cb-7d2649e6f6dc",
   "metadata": {},
   "source": [
    "### 2.1 Supervised Learning\n"
   ]
  },
  {
   "cell_type": "markdown",
   "id": "0e0ce3c0-5afd-4166-8dff-79cba0e0e78d",
   "metadata": {},
   "source": [
    "- Classification: label/target - discrete/category\n",
    "    - Binary classification\n",
    "    - Multi-class classification\n",
    "    - Algortimas: Logistic regression, Decision Trees, Naive, Bayes, K-NN...\n",
    "- Regression: label/target - contimouns\n",
    "    - \n"
   ]
  },
  {
   "cell_type": "code",
   "execution_count": null,
   "id": "e605ab43-5d81-4f6b-83ae-71575cf9ba79",
   "metadata": {},
   "outputs": [],
   "source": []
  },
  {
   "cell_type": "markdown",
   "id": "4af19c53-2482-47e5-ac40-8b64a5cc80cc",
   "metadata": {},
   "source": [
    "### 2.2 Unsupervised Learning\n",
    "\n",
    "\n"
   ]
  },
  {
   "cell_type": "code",
   "execution_count": null,
   "id": "f5e46e76-4707-4f16-a874-a2920515a032",
   "metadata": {},
   "outputs": [],
   "source": [
    "- Clustering\n",
    "    - Algorithns: K-Means, DBSCan, mean-Shift\n"
   ]
  },
  {
   "cell_type": "code",
   "execution_count": null,
   "id": "0078922a-a50a-461b-97fc-d8aae7fa4e76",
   "metadata": {},
   "outputs": [],
   "source": []
  },
  {
   "cell_type": "markdown",
   "id": "88f29b64-f202-4e4b-81d1-acdc6056c9dd",
   "metadata": {},
   "source": [
    "### 2.3 Reinforcement Learning"
   ]
  },
  {
   "cell_type": "code",
   "execution_count": null,
   "id": "912b753f-0093-4ffb-b81f-5b79e3083ce8",
   "metadata": {},
   "outputs": [],
   "source": [
    "\n",
    "Algorithns: Q-learning, Deep-Q Network"
   ]
  },
  {
   "cell_type": "code",
   "execution_count": null,
   "id": "4e88ce14-94e6-4295-a2e3-1417b0d4acd4",
   "metadata": {},
   "outputs": [],
   "source": []
  },
  {
   "cell_type": "markdown",
   "id": "f22400ae-4b70-4fa8-bc0f-ad00bd23ba55",
   "metadata": {},
   "source": [
    "## 3. Workflow"
   ]
  },
  {
   "cell_type": "markdown",
   "id": "28a21130-ebda-4399-9df8-0b865f1c9989",
   "metadata": {},
   "source": [
    "### 3.1 Overview Pipeline"
   ]
  },
  {
   "cell_type": "code",
   "execution_count": null,
   "id": "d0b49fb9-a0a0-48ea-bc07-7c10d7174eb9",
   "metadata": {},
   "outputs": [],
   "source": []
  },
  {
   "cell_type": "markdown",
   "id": "7e2d8aab-618c-42ee-a138-26e1d93d44a0",
   "metadata": {},
   "source": [
    "\n",
    "<center> <img src=\"img/flow.png\" width=\"700\"/></center>\n"
   ]
  },
  {
   "cell_type": "markdown",
   "id": "cec774f9-9943-4b73-89d2-f30ddd71049b",
   "metadata": {},
   "source": [
    "- 3 main steps:\n",
    "\n"
   ]
  },
  {
   "cell_type": "markdown",
   "id": "3d99b7cb-72fd-4e11-bd9d-effbe7209c67",
   "metadata": {},
   "source": [
    "### 3.2 Data Pipeline"
   ]
  },
  {
   "cell_type": "markdown",
   "id": "d3b3acce-62b7-4fa9-9924-4656a9e20f8a",
   "metadata": {},
   "source": [
    "<center> <img src=\"img/flow2.png\" width=\"700\"/></center>"
   ]
  },
  {
   "cell_type": "markdown",
   "id": "d6a2cc4a-0525-41a1-8a2b-11a8c53c7fea",
   "metadata": {},
   "source": [
    "- `ETL` L Extract - Tranform - Load\n"
   ]
  },
  {
   "cell_type": "markdown",
   "id": "cab66a13-d187-4582-b5bb-1a12959d3549",
   "metadata": {},
   "source": [
    "!pip install scikit learn"
   ]
  },
  {
   "cell_type": "markdown",
   "id": "c2eb3ac1-9b05-4edb-9331-e847549208f7",
   "metadata": {},
   "source": [
    "## 4. Practice"
   ]
  },
  {
   "cell_type": "markdown",
   "id": "472344fc-069b-4550-91fc-756e3ffcff02",
   "metadata": {},
   "source": [
    "### 4.0 Install and import necessary packages \n",
    "\n",
    "`!pip install scikit-learn`"
   ]
  },
  {
   "cell_type": "markdown",
   "id": "0ce17fef-fa0a-45cf-97fa-b586ebb65585",
   "metadata": {},
   "source": [
    "![](https://scikit-learn.org/stable/_static/ml_map.png)"
   ]
  },
  {
   "cell_type": "code",
   "execution_count": 1,
   "id": "d5f22871-f839-4e12-92d3-9560da66a442",
   "metadata": {},
   "outputs": [],
   "source": [
    "# pandas, numpy, matplotlib, seaborn\n",
    "import pandas as pd\n",
    "import numpy as np\n",
    "import matplotlib.pyplot as plt\n",
    "import seaborn as sns"
   ]
  },
  {
   "cell_type": "code",
   "execution_count": null,
   "id": "fce89d66-7bab-465a-b988-b9d6c978e6e9",
   "metadata": {},
   "outputs": [],
   "source": []
  },
  {
   "cell_type": "code",
   "execution_count": null,
   "id": "5fe4bea5-d22e-4cc9-96a4-9ee9c6066639",
   "metadata": {},
   "outputs": [],
   "source": []
  },
  {
   "cell_type": "markdown",
   "id": "61a77155-fe38-4138-aacb-4f431ef40c08",
   "metadata": {},
   "source": [
    "### 4.1 Problem"
   ]
  },
  {
   "cell_type": "markdown",
   "id": "f84e6963-af78-4c42-b00a-c8026b8dc6b6",
   "metadata": {},
   "source": [
    "<center> <img src=\"img/iris.png\"  width=\"500\"/></center>"
   ]
  },
  {
   "cell_type": "code",
   "execution_count": 2,
   "id": "6d16d641-1698-4da4-a933-e1905dbb1114",
   "metadata": {},
   "outputs": [
    {
     "data": {
      "text/html": [
       "<div>\n",
       "<style scoped>\n",
       "    .dataframe tbody tr th:only-of-type {\n",
       "        vertical-align: middle;\n",
       "    }\n",
       "\n",
       "    .dataframe tbody tr th {\n",
       "        vertical-align: top;\n",
       "    }\n",
       "\n",
       "    .dataframe thead th {\n",
       "        text-align: right;\n",
       "    }\n",
       "</style>\n",
       "<table border=\"1\" class=\"dataframe\">\n",
       "  <thead>\n",
       "    <tr style=\"text-align: right;\">\n",
       "      <th></th>\n",
       "      <th>sepal_length</th>\n",
       "      <th>sepal_width</th>\n",
       "      <th>petal_length</th>\n",
       "      <th>petal_width</th>\n",
       "      <th>species</th>\n",
       "    </tr>\n",
       "  </thead>\n",
       "  <tbody>\n",
       "    <tr>\n",
       "      <th>0</th>\n",
       "      <td>5.1</td>\n",
       "      <td>3.5</td>\n",
       "      <td>1.4</td>\n",
       "      <td>0.2</td>\n",
       "      <td>setosa</td>\n",
       "    </tr>\n",
       "    <tr>\n",
       "      <th>1</th>\n",
       "      <td>4.9</td>\n",
       "      <td>3.0</td>\n",
       "      <td>1.4</td>\n",
       "      <td>0.2</td>\n",
       "      <td>setosa</td>\n",
       "    </tr>\n",
       "    <tr>\n",
       "      <th>2</th>\n",
       "      <td>4.7</td>\n",
       "      <td>3.2</td>\n",
       "      <td>1.3</td>\n",
       "      <td>0.2</td>\n",
       "      <td>setosa</td>\n",
       "    </tr>\n",
       "    <tr>\n",
       "      <th>3</th>\n",
       "      <td>4.6</td>\n",
       "      <td>3.1</td>\n",
       "      <td>1.5</td>\n",
       "      <td>0.2</td>\n",
       "      <td>setosa</td>\n",
       "    </tr>\n",
       "    <tr>\n",
       "      <th>4</th>\n",
       "      <td>5.0</td>\n",
       "      <td>3.6</td>\n",
       "      <td>1.4</td>\n",
       "      <td>0.2</td>\n",
       "      <td>setosa</td>\n",
       "    </tr>\n",
       "  </tbody>\n",
       "</table>\n",
       "</div>"
      ],
      "text/plain": [
       "   sepal_length  sepal_width  petal_length  petal_width species\n",
       "0           5.1          3.5           1.4          0.2  setosa\n",
       "1           4.9          3.0           1.4          0.2  setosa\n",
       "2           4.7          3.2           1.3          0.2  setosa\n",
       "3           4.6          3.1           1.5          0.2  setosa\n",
       "4           5.0          3.6           1.4          0.2  setosa"
      ]
     },
     "execution_count": 2,
     "metadata": {},
     "output_type": "execute_result"
    }
   ],
   "source": [
    "iris = sns.load_dataset('iris')\n",
    "iris.head()"
   ]
  },
  {
   "cell_type": "code",
   "execution_count": 3,
   "id": "a2e3960d-ff69-46cc-945a-c0894c2d509c",
   "metadata": {},
   "outputs": [
    {
     "data": {
      "text/plain": [
       "array(['setosa', 'versicolor', 'virginica'], dtype=object)"
      ]
     },
     "execution_count": 3,
     "metadata": {},
     "output_type": "execute_result"
    }
   ],
   "source": [
    "iris.species.unique()"
   ]
  },
  {
   "cell_type": "code",
   "execution_count": null,
   "id": "2dd61531-0f2b-46d7-9a49-c4d1a63e4502",
   "metadata": {},
   "outputs": [],
   "source": []
  },
  {
   "cell_type": "markdown",
   "id": "564718ab-a3d6-4175-8ca3-922f7d98efca",
   "metadata": {},
   "source": [
    "#### 4.3.1 Statistics"
   ]
  },
  {
   "cell_type": "code",
   "execution_count": 4,
   "id": "8e5883b2-3f87-496a-a381-591b2117c90c",
   "metadata": {},
   "outputs": [
    {
     "name": "stdout",
     "output_type": "stream",
     "text": [
      "<class 'pandas.core.frame.DataFrame'>\n",
      "RangeIndex: 150 entries, 0 to 149\n",
      "Data columns (total 5 columns):\n",
      " #   Column        Non-Null Count  Dtype  \n",
      "---  ------        --------------  -----  \n",
      " 0   sepal_length  150 non-null    float64\n",
      " 1   sepal_width   150 non-null    float64\n",
      " 2   petal_length  150 non-null    float64\n",
      " 3   petal_width   150 non-null    float64\n",
      " 4   species       150 non-null    object \n",
      "dtypes: float64(4), object(1)\n",
      "memory usage: 6.0+ KB\n"
     ]
    }
   ],
   "source": [
    "iris.info()"
   ]
  },
  {
   "cell_type": "code",
   "execution_count": 5,
   "id": "1621e364-396d-45fe-9d10-2a9ca030735f",
   "metadata": {},
   "outputs": [
    {
     "data": {
      "text/plain": [
       "(150, 5)"
      ]
     },
     "execution_count": 5,
     "metadata": {},
     "output_type": "execute_result"
    }
   ],
   "source": [
    "iris.shape"
   ]
  },
  {
   "cell_type": "code",
   "execution_count": 6,
   "id": "661c6370-86d2-4563-aa3c-75ba05f712c5",
   "metadata": {},
   "outputs": [
    {
     "data": {
      "text/html": [
       "<div>\n",
       "<style scoped>\n",
       "    .dataframe tbody tr th:only-of-type {\n",
       "        vertical-align: middle;\n",
       "    }\n",
       "\n",
       "    .dataframe tbody tr th {\n",
       "        vertical-align: top;\n",
       "    }\n",
       "\n",
       "    .dataframe thead th {\n",
       "        text-align: right;\n",
       "    }\n",
       "</style>\n",
       "<table border=\"1\" class=\"dataframe\">\n",
       "  <thead>\n",
       "    <tr style=\"text-align: right;\">\n",
       "      <th></th>\n",
       "      <th>sepal_length</th>\n",
       "      <th>sepal_width</th>\n",
       "      <th>petal_length</th>\n",
       "      <th>petal_width</th>\n",
       "    </tr>\n",
       "  </thead>\n",
       "  <tbody>\n",
       "    <tr>\n",
       "      <th>count</th>\n",
       "      <td>150.000000</td>\n",
       "      <td>150.000000</td>\n",
       "      <td>150.000000</td>\n",
       "      <td>150.000000</td>\n",
       "    </tr>\n",
       "    <tr>\n",
       "      <th>mean</th>\n",
       "      <td>5.843333</td>\n",
       "      <td>3.057333</td>\n",
       "      <td>3.758000</td>\n",
       "      <td>1.199333</td>\n",
       "    </tr>\n",
       "    <tr>\n",
       "      <th>std</th>\n",
       "      <td>0.828066</td>\n",
       "      <td>0.435866</td>\n",
       "      <td>1.765298</td>\n",
       "      <td>0.762238</td>\n",
       "    </tr>\n",
       "    <tr>\n",
       "      <th>min</th>\n",
       "      <td>4.300000</td>\n",
       "      <td>2.000000</td>\n",
       "      <td>1.000000</td>\n",
       "      <td>0.100000</td>\n",
       "    </tr>\n",
       "    <tr>\n",
       "      <th>25%</th>\n",
       "      <td>5.100000</td>\n",
       "      <td>2.800000</td>\n",
       "      <td>1.600000</td>\n",
       "      <td>0.300000</td>\n",
       "    </tr>\n",
       "    <tr>\n",
       "      <th>50%</th>\n",
       "      <td>5.800000</td>\n",
       "      <td>3.000000</td>\n",
       "      <td>4.350000</td>\n",
       "      <td>1.300000</td>\n",
       "    </tr>\n",
       "    <tr>\n",
       "      <th>75%</th>\n",
       "      <td>6.400000</td>\n",
       "      <td>3.300000</td>\n",
       "      <td>5.100000</td>\n",
       "      <td>1.800000</td>\n",
       "    </tr>\n",
       "    <tr>\n",
       "      <th>max</th>\n",
       "      <td>7.900000</td>\n",
       "      <td>4.400000</td>\n",
       "      <td>6.900000</td>\n",
       "      <td>2.500000</td>\n",
       "    </tr>\n",
       "  </tbody>\n",
       "</table>\n",
       "</div>"
      ],
      "text/plain": [
       "       sepal_length  sepal_width  petal_length  petal_width\n",
       "count    150.000000   150.000000    150.000000   150.000000\n",
       "mean       5.843333     3.057333      3.758000     1.199333\n",
       "std        0.828066     0.435866      1.765298     0.762238\n",
       "min        4.300000     2.000000      1.000000     0.100000\n",
       "25%        5.100000     2.800000      1.600000     0.300000\n",
       "50%        5.800000     3.000000      4.350000     1.300000\n",
       "75%        6.400000     3.300000      5.100000     1.800000\n",
       "max        7.900000     4.400000      6.900000     2.500000"
      ]
     },
     "execution_count": 6,
     "metadata": {},
     "output_type": "execute_result"
    }
   ],
   "source": [
    "iris.describe()"
   ]
  },
  {
   "cell_type": "code",
   "execution_count": 7,
   "id": "84123fe8-0417-4c00-bc51-18780a13ec7a",
   "metadata": {},
   "outputs": [
    {
     "data": {
      "text/plain": [
       "sepal_length    0\n",
       "sepal_width     0\n",
       "petal_length    0\n",
       "petal_width     0\n",
       "species         0\n",
       "dtype: int64"
      ]
     },
     "execution_count": 7,
     "metadata": {},
     "output_type": "execute_result"
    }
   ],
   "source": [
    "iris.isnull().sum()"
   ]
  },
  {
   "cell_type": "code",
   "execution_count": 13,
   "id": "6fc860be-edd4-4463-b71d-e2753b87f39c",
   "metadata": {},
   "outputs": [
    {
     "ename": "AttributeError",
     "evalue": "'NoneType' object has no attribute 'dropna'",
     "output_type": "error",
     "traceback": [
      "\u001b[1;31m---------------------------------------------------------------------------\u001b[0m",
      "\u001b[1;31mAttributeError\u001b[0m                            Traceback (most recent call last)",
      "\u001b[1;32m<ipython-input-13-b33e779dac12>\u001b[0m in \u001b[0;36m<module>\u001b[1;34m\u001b[0m\n\u001b[0;32m      1\u001b[0m \u001b[1;31m#1 -> 2 Nan -> distribution doesnt affect\u001b[0m\u001b[1;33m\u001b[0m\u001b[1;33m\u001b[0m\u001b[1;33m\u001b[0m\u001b[0m\n\u001b[1;32m----> 2\u001b[1;33m \u001b[0miris\u001b[0m \u001b[1;33m=\u001b[0m \u001b[0miris\u001b[0m\u001b[1;33m.\u001b[0m\u001b[0mdropna\u001b[0m\u001b[1;33m(\u001b[0m\u001b[1;33m)\u001b[0m\u001b[1;33m\u001b[0m\u001b[1;33m\u001b[0m\u001b[0m\n\u001b[0m\u001b[0;32m      3\u001b[0m \u001b[1;31m#iris = iris.dropna(inplace = True)\u001b[0m\u001b[1;33m\u001b[0m\u001b[1;33m\u001b[0m\u001b[1;33m\u001b[0m\u001b[0m\n",
      "\u001b[1;31mAttributeError\u001b[0m: 'NoneType' object has no attribute 'dropna'"
     ]
    }
   ],
   "source": [
    "#1 -> 2 Nan -> distribution doesnt affect\n",
    "iris = iris.dropna()\n",
    "#iris = iris.dropna(inplace = True)"
   ]
  },
  {
   "cell_type": "code",
   "execution_count": 14,
   "id": "364e24b6-ed55-4dac-8514-66026b7b3a2c",
   "metadata": {},
   "outputs": [
    {
     "ename": "AttributeError",
     "evalue": "'NoneType' object has no attribute 'fillna'",
     "output_type": "error",
     "traceback": [
      "\u001b[1;31m---------------------------------------------------------------------------\u001b[0m",
      "\u001b[1;31mAttributeError\u001b[0m                            Traceback (most recent call last)",
      "\u001b[1;32m<ipython-input-14-f20be99c0698>\u001b[0m in \u001b[0;36m<module>\u001b[1;34m\u001b[0m\n\u001b[0;32m      1\u001b[0m \u001b[1;31m#More NaNs\u001b[0m\u001b[1;33m\u001b[0m\u001b[1;33m\u001b[0m\u001b[1;33m\u001b[0m\u001b[0m\n\u001b[1;32m----> 2\u001b[1;33m \u001b[0miris\u001b[0m\u001b[1;33m.\u001b[0m\u001b[0mfillna\u001b[0m\u001b[1;33m(\u001b[0m\u001b[1;33m-\u001b[0m\u001b[1;36m1\u001b[0m\u001b[1;33m)\u001b[0m \u001b[1;31m# dien gia tri max dinh la -1\u001b[0m\u001b[1;33m\u001b[0m\u001b[1;33m\u001b[0m\u001b[0m\n\u001b[0m",
      "\u001b[1;31mAttributeError\u001b[0m: 'NoneType' object has no attribute 'fillna'"
     ]
    }
   ],
   "source": [
    "#More NaNs\n",
    "iris.fillna(-1) # dien gia tri max dinh la -1\n"
   ]
  },
  {
   "cell_type": "code",
   "execution_count": null,
   "id": "1777b86a-54e0-4bbd-a0ef-fc26eb92dc9a",
   "metadata": {},
   "outputs": [],
   "source": []
  },
  {
   "cell_type": "code",
   "execution_count": null,
   "id": "efa6cdb0-8792-4d46-af39-c7bd45a48daa",
   "metadata": {},
   "outputs": [],
   "source": []
  },
  {
   "cell_type": "code",
   "execution_count": null,
   "id": "ec9e8c22-f838-4282-8bfa-24ea7b0ac98a",
   "metadata": {},
   "outputs": [],
   "source": []
  },
  {
   "cell_type": "markdown",
   "id": "f07f95b8-3669-460f-9491-b0ef691489ae",
   "metadata": {},
   "source": [
    "#### 4.3.2 Visualization"
   ]
  },
  {
   "cell_type": "code",
   "execution_count": null,
   "id": "9ed25a48-5bd6-4033-859c-c70670b8151a",
   "metadata": {},
   "outputs": [],
   "source": []
  },
  {
   "cell_type": "code",
   "execution_count": null,
   "id": "a05ed30c-4824-4170-bfab-07717e75132b",
   "metadata": {},
   "outputs": [],
   "source": []
  },
  {
   "cell_type": "markdown",
   "id": "1a925cba-61bc-4248-8ca8-f04a0790d7ea",
   "metadata": {},
   "source": [
    "### 4.4 Model"
   ]
  },
  {
   "cell_type": "markdown",
   "id": "0cc17902-4bc2-4a4a-8f85-555ad7d10dd0",
   "metadata": {},
   "source": [
    "#### 4.4.1 Train test plit"
   ]
  },
  {
   "cell_type": "markdown",
   "id": "ec043190-7ac2-4ecc-b471-6fa09ed4a30e",
   "metadata": {},
   "source": [
    "#### 4.4.2 Train model"
   ]
  },
  {
   "cell_type": "markdown",
   "id": "16f14e59-79f7-4c6e-81fd-8935dc7de294",
   "metadata": {},
   "source": [
    "#### 4.4.2 Predict model"
   ]
  },
  {
   "cell_type": "markdown",
   "id": "703c2745-d02e-46da-9e90-f65c02e75c76",
   "metadata": {},
   "source": [
    "## NEXT LESSION: Real-life case study with **CREDIT SCORING**"
   ]
  },
  {
   "cell_type": "code",
   "execution_count": null,
   "id": "d5af5290-f463-4dfb-8efe-139ac216b874",
   "metadata": {},
   "outputs": [],
   "source": []
  }
 ],
 "metadata": {
  "kernelspec": {
   "display_name": "Python 3",
   "language": "python",
   "name": "python3"
  },
  "language_info": {
   "codemirror_mode": {
    "name": "ipython",
    "version": 3
   },
   "file_extension": ".py",
   "mimetype": "text/x-python",
   "name": "python",
   "nbconvert_exporter": "python",
   "pygments_lexer": "ipython3",
   "version": "3.7.10"
  }
 },
 "nbformat": 4,
 "nbformat_minor": 5
}
