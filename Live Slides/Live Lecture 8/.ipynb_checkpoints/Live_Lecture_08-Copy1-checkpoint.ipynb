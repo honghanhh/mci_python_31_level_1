{
 "cells": [
  {
   "cell_type": "markdown",
   "id": "e48e4783-3013-4b8e-8653-b1db847e1741",
   "metadata": {},
   "source": [
    "# <center> LESSON 8: Introduction to Machine Learning </center>"
   ]
  },
  {
   "cell_type": "markdown",
   "id": "71c8ded8-9527-4c5b-ad9f-2940de08854e",
   "metadata": {},
   "source": [
    "## 1. What is Machine Learning?"
   ]
  },
  {
   "cell_type": "markdown",
   "id": "88a9f961-3f63-466e-8079-9c31c2f7b12c",
   "metadata": {},
   "source": [
    "### 1.1 Evolution\n",
    "<center> <img src=\"http://www.metal-am.com/wp-content/uploads/sites/4/2020/12/fig-01-copy-1024x630.jpg\" width=\"500\"/></center>"
   ]
  },
  {
   "cell_type": "markdown",
   "id": "6bc63700-7972-43d1-877f-57bdf3ef940a",
   "metadata": {},
   "source": [
    "### 1.2 Definition\n",
    "<center> <img src=\"https://christophm.github.io/interpretable-ml-book/images/programing-ml.png\" width=\"500\"/></center>"
   ]
  },
  {
   "cell_type": "markdown",
   "id": "d1032ebc-c0b8-4219-9594-70e81e63fe22",
   "metadata": {},
   "source": [
    "|Input|Types|Output|\n",
    "|-|-|-|\n",
    "|Data, Rules|Classical Programming|Answers|\n",
    "|Data (with or without Answers)|Machine Learning|Rules|"
   ]
  },
  {
   "cell_type": "markdown",
   "id": "89d0a9cf-68cc-4bdf-9f4e-d96d077fa3a7",
   "metadata": {},
   "source": [
    "### 1.3 Reference\n",
    "<center> <img src=\"https://www.azquotes.com/picture-quotes/quote-no-one-knows-what-the-right-algorithm-is-but-it-gives-us-hope-that-if-we-can-discover-andrew-ng-125-25-69.jpg\" width=\"500\"/></center>\n",
    "\n",
    "\n",
    "Recommended courses: \n",
    "- [Machine Learning](https://www.coursera.org/learn/machine-learning)\n",
    "- [Deep Learning](https://www.coursera.org/specializations/deep-learning)"
   ]
  },
  {
   "cell_type": "markdown",
   "id": "9ba92fe6-9e24-4ffc-b193-edebe6f40546",
   "metadata": {},
   "source": [
    "## 2. Types of Machine Learning"
   ]
  },
  {
   "cell_type": "markdown",
   "id": "4c49aee8-9df9-46ee-9b41-7f6536e62cca",
   "metadata": {},
   "source": [
    "<center> <img src=\"https://www.7wdata.be/wp-content/uploads/2020/06/1FUZS9K4JPqzfXDcC83BQTw.png\" alt=\"anatomy\" width=\"700\"/></center>\n"
   ]
  },
  {
   "cell_type": "markdown",
   "id": "389d83c7-2c33-4883-93cb-7d2649e6f6dc",
   "metadata": {},
   "source": [
    "### 2.1 Supervised Learning\n"
   ]
  },
  {
   "cell_type": "markdown",
   "id": "4af19c53-2482-47e5-ac40-8b64a5cc80cc",
   "metadata": {},
   "source": [
    "### 2.2 Unsupervised Learning\n",
    "\n",
    "\n"
   ]
  },
  {
   "cell_type": "markdown",
   "id": "88f29b64-f202-4e4b-81d1-acdc6056c9dd",
   "metadata": {},
   "source": [
    "### 2.3 Reinforcement Learning"
   ]
  },
  {
   "cell_type": "markdown",
   "id": "f22400ae-4b70-4fa8-bc0f-ad00bd23ba55",
   "metadata": {},
   "source": [
    "## 3. Workflow"
   ]
  },
  {
   "cell_type": "markdown",
   "id": "28a21130-ebda-4399-9df8-0b865f1c9989",
   "metadata": {},
   "source": [
    "### 3.1 Overview Pipeline"
   ]
  },
  {
   "cell_type": "markdown",
   "id": "7e2d8aab-618c-42ee-a138-26e1d93d44a0",
   "metadata": {},
   "source": [
    "\n",
    "<center> <img src=\"img/flow.png\" width=\"700\"/></center>\n"
   ]
  },
  {
   "cell_type": "markdown",
   "id": "3d99b7cb-72fd-4e11-bd9d-effbe7209c67",
   "metadata": {},
   "source": [
    "### 3.2 Data Pipeline"
   ]
  },
  {
   "cell_type": "markdown",
   "id": "d3b3acce-62b7-4fa9-9924-4656a9e20f8a",
   "metadata": {},
   "source": [
    "<center> <img src=\"img/flow2.png\" width=\"700\"/></center>"
   ]
  },
  {
   "cell_type": "markdown",
   "id": "55524f62-a198-4135-ba06-dc42cbdb8eb4",
   "metadata": {},
   "source": [
    "## 4. Practice"
   ]
  },
  {
   "cell_type": "markdown",
   "id": "472344fc-069b-4550-91fc-756e3ffcff02",
   "metadata": {},
   "source": [
    "### 4.0 Install and import necessary packages \n",
    "\n",
    "`!pip install scikit-learn`"
   ]
  },
  {
   "cell_type": "markdown",
   "id": "0ce17fef-fa0a-45cf-97fa-b586ebb65585",
   "metadata": {},
   "source": [
    "![](https://scikit-learn.org/stable/_static/ml_map.png)"
   ]
  },
  {
   "cell_type": "markdown",
   "id": "61a77155-fe38-4138-aacb-4f431ef40c08",
   "metadata": {},
   "source": [
    "### 4.1 Problem"
   ]
  },
  {
   "cell_type": "markdown",
   "id": "f84e6963-af78-4c42-b00a-c8026b8dc6b6",
   "metadata": {},
   "source": [
    "<center> <img src=\"img/iris.png\"  width=\"500\"/></center>"
   ]
  },
  {
   "cell_type": "markdown",
   "id": "564718ab-a3d6-4175-8ca3-922f7d98efca",
   "metadata": {},
   "source": [
    "#### 4.3.1 Statistics"
   ]
  },
  {
   "cell_type": "markdown",
   "id": "f07f95b8-3669-460f-9491-b0ef691489ae",
   "metadata": {},
   "source": [
    "#### 4.3.2 Visualization"
   ]
  },
  {
   "cell_type": "markdown",
   "id": "1a925cba-61bc-4248-8ca8-f04a0790d7ea",
   "metadata": {},
   "source": [
    "### 4.4 Model"
   ]
  },
  {
   "cell_type": "markdown",
   "id": "0cc17902-4bc2-4a4a-8f85-555ad7d10dd0",
   "metadata": {},
   "source": [
    "#### 4.4.1 Train test plit"
   ]
  },
  {
   "cell_type": "markdown",
   "id": "ec043190-7ac2-4ecc-b471-6fa09ed4a30e",
   "metadata": {},
   "source": [
    "#### 4.4.2 Train model"
   ]
  },
  {
   "cell_type": "markdown",
   "id": "16f14e59-79f7-4c6e-81fd-8935dc7de294",
   "metadata": {},
   "source": [
    "#### 4.4.2 Predict model"
   ]
  },
  {
   "cell_type": "markdown",
   "id": "703c2745-d02e-46da-9e90-f65c02e75c76",
   "metadata": {},
   "source": [
    "## NEXT LESSION: Real-life case study with **CREDIT SCORING**"
   ]
  },
  {
   "cell_type": "code",
   "execution_count": null,
   "id": "d5af5290-f463-4dfb-8efe-139ac216b874",
   "metadata": {},
   "outputs": [],
   "source": []
  }
 ],
 "metadata": {
  "kernelspec": {
   "display_name": "Python 3",
   "language": "python",
   "name": "python3"
  },
  "language_info": {
   "codemirror_mode": {
    "name": "ipython",
    "version": 3
   },
   "file_extension": ".py",
   "mimetype": "text/x-python",
   "name": "python",
   "nbconvert_exporter": "python",
   "pygments_lexer": "ipython3",
   "version": "3.7.10"
  }
 },
 "nbformat": 4,
 "nbformat_minor": 5
}
