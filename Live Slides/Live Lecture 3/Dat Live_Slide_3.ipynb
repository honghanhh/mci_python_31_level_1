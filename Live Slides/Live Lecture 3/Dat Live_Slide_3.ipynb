{
 "cells": [
  {
   "cell_type": "markdown",
   "metadata": {},
   "source": [
    "# <center> LESSION3 </center>"
   ]
  },
  {
   "cell_type": "markdown",
   "metadata": {},
   "source": [
    "## PROGRAMMING FLOW\n",
    "\n",
    "* Sequential: Step by step \n",
    "* Loop: For While\n",
    "* Condition: If else elif\n"
   ]
  },
  {
   "cell_type": "markdown",
   "metadata": {},
   "source": [
    "### 1. Sequential "
   ]
  },
  {
   "cell_type": "code",
   "execution_count": 2,
   "metadata": {},
   "outputs": [
    {
     "name": "stdout",
     "output_type": "stream",
     "text": [
      "Hi all\n",
      "hi\n",
      "hi man\n"
     ]
    }
   ],
   "source": [
    "print (\"Hi all\")\n",
    "print(\"hi\")\n",
    "print('hi man')"
   ]
  },
  {
   "cell_type": "markdown",
   "metadata": {},
   "source": [
    "### 2.Loop\n"
   ]
  },
  {
   "cell_type": "markdown",
   "metadata": {},
   "source": [
    "* Interation: process each element frequently\n",
    "- For \n",
    "- While"
   ]
  },
  {
   "cell_type": "markdown",
   "metadata": {},
   "source": [
    "### 2.1. For "
   ]
  },
  {
   "cell_type": "markdown",
   "metadata": {},
   "source": [
    "- for value in interable\n",
    "- do something \n",
    "- if need can break our continue whatever "
   ]
  },
  {
   "cell_type": "markdown",
   "metadata": {},
   "source": [
    "- Use index: List Tuble Tupe Set Array"
   ]
  },
  {
   "cell_type": "code",
   "execution_count": 3,
   "metadata": {},
   "outputs": [],
   "source": [
    "# for index in range(len(interable)):\n",
    "    #business logic "
   ]
  },
  {
   "cell_type": "code",
   "execution_count": 4,
   "metadata": {},
   "outputs": [],
   "source": [
    "#Tab in python we call: Indent \n",
    "# We just can use only Table or Sapce"
   ]
  },
  {
   "cell_type": "markdown",
   "metadata": {},
   "source": [
    "### 2.2. While"
   ]
  },
  {
   "cell_type": "code",
   "execution_count": 7,
   "metadata": {},
   "outputs": [],
   "source": [
    "# While Condition: <Thecondition mean we have True or False>\n",
    "    #bussiness logic #indent \n",
    "    #break when condition is False"
   ]
  },
  {
   "cell_type": "code",
   "execution_count": 8,
   "metadata": {},
   "outputs": [
    {
     "data": {
      "text/plain": [
       "range(0, 10)"
      ]
     },
     "execution_count": 8,
     "metadata": {},
     "output_type": "execute_result"
    }
   ],
   "source": [
    "range(10)"
   ]
  },
  {
   "cell_type": "code",
   "execution_count": 9,
   "metadata": {},
   "outputs": [
    {
     "name": "stdout",
     "output_type": "stream",
     "text": [
      "['count', 'index', 'start', 'step', 'stop']\n"
     ]
    }
   ],
   "source": [
    "print([method for method in dir(range) if not method.startswith(\"_\")])"
   ]
  },
  {
   "cell_type": "markdown",
   "metadata": {},
   "source": [
    "|||\n",
    "|-|-|\n",
    "|range()|linspace()|\n",
    "|inclusived-exclusived value|inclusived-inclusivedvalue|"
   ]
  },
  {
   "cell_type": "code",
   "execution_count": 15,
   "metadata": {},
   "outputs": [
    {
     "data": {
      "text/plain": [
       "[2, 3, 4, 5, 6, 7, 8, 9]"
      ]
     },
     "execution_count": 15,
     "metadata": {},
     "output_type": "execute_result"
    }
   ],
   "source": [
    "list (range(2,10))"
   ]
  },
  {
   "cell_type": "code",
   "execution_count": 11,
   "metadata": {},
   "outputs": [
    {
     "data": {
      "text/plain": [
       "[0.0,\n",
       " 0.10101010101010101,\n",
       " 0.20202020202020202,\n",
       " 0.30303030303030304,\n",
       " 0.40404040404040403,\n",
       " 0.5050505050505051,\n",
       " 0.6060606060606061,\n",
       " 0.7070707070707071,\n",
       " 0.8080808080808081,\n",
       " 0.9090909090909091,\n",
       " 1.0101010101010102,\n",
       " 1.1111111111111112,\n",
       " 1.2121212121212122,\n",
       " 1.3131313131313131,\n",
       " 1.4141414141414141,\n",
       " 1.5151515151515151,\n",
       " 1.6161616161616161,\n",
       " 1.7171717171717171,\n",
       " 1.8181818181818181,\n",
       " 1.9191919191919191,\n",
       " 2.0202020202020203,\n",
       " 2.121212121212121,\n",
       " 2.2222222222222223,\n",
       " 2.323232323232323,\n",
       " 2.4242424242424243,\n",
       " 2.525252525252525,\n",
       " 2.6262626262626263,\n",
       " 2.727272727272727,\n",
       " 2.8282828282828283,\n",
       " 2.929292929292929,\n",
       " 3.0303030303030303,\n",
       " 3.131313131313131,\n",
       " 3.2323232323232323,\n",
       " 3.3333333333333335,\n",
       " 3.4343434343434343,\n",
       " 3.5353535353535355,\n",
       " 3.6363636363636362,\n",
       " 3.7373737373737375,\n",
       " 3.8383838383838382,\n",
       " 3.9393939393939394,\n",
       " 4.040404040404041,\n",
       " 4.141414141414141,\n",
       " 4.242424242424242,\n",
       " 4.343434343434343,\n",
       " 4.444444444444445,\n",
       " 4.545454545454545,\n",
       " 4.646464646464646,\n",
       " 4.747474747474747,\n",
       " 4.848484848484849,\n",
       " 4.94949494949495,\n",
       " 5.05050505050505,\n",
       " 5.151515151515151,\n",
       " 5.252525252525253,\n",
       " 5.353535353535354,\n",
       " 5.454545454545454,\n",
       " 5.555555555555555,\n",
       " 5.656565656565657,\n",
       " 5.757575757575758,\n",
       " 5.858585858585858,\n",
       " 5.959595959595959,\n",
       " 6.0606060606060606,\n",
       " 6.161616161616162,\n",
       " 6.262626262626262,\n",
       " 6.363636363636363,\n",
       " 6.4646464646464645,\n",
       " 6.565656565656566,\n",
       " 6.666666666666667,\n",
       " 6.767676767676767,\n",
       " 6.8686868686868685,\n",
       " 6.96969696969697,\n",
       " 7.070707070707071,\n",
       " 7.171717171717171,\n",
       " 7.2727272727272725,\n",
       " 7.373737373737374,\n",
       " 7.474747474747475,\n",
       " 7.575757575757575,\n",
       " 7.6767676767676765,\n",
       " 7.777777777777778,\n",
       " 7.878787878787879,\n",
       " 7.979797979797979,\n",
       " 8.080808080808081,\n",
       " 8.181818181818182,\n",
       " 8.282828282828282,\n",
       " 8.383838383838384,\n",
       " 8.484848484848484,\n",
       " 8.585858585858587,\n",
       " 8.686868686868687,\n",
       " 8.787878787878787,\n",
       " 8.88888888888889,\n",
       " 8.98989898989899,\n",
       " 9.09090909090909,\n",
       " 9.191919191919192,\n",
       " 9.292929292929292,\n",
       " 9.393939393939394,\n",
       " 9.494949494949495,\n",
       " 9.595959595959595,\n",
       " 9.696969696969697,\n",
       " 9.797979797979798,\n",
       " 9.8989898989899,\n",
       " 10.0]"
      ]
     },
     "execution_count": 11,
     "metadata": {},
     "output_type": "execute_result"
    }
   ],
   "source": [
    "import numpy as np \n",
    "list(np.linspace(0,10,100))"
   ]
  },
  {
   "cell_type": "code",
   "execution_count": 12,
   "metadata": {},
   "outputs": [
    {
     "data": {
      "text/plain": [
       "[2, 4, 6, 8]"
      ]
     },
     "execution_count": 12,
     "metadata": {},
     "output_type": "execute_result"
    }
   ],
   "source": [
    "list(range(2,10,2))"
   ]
  },
  {
   "cell_type": "markdown",
   "metadata": {},
   "source": [
    "# Casting (gán)"
   ]
  },
  {
   "cell_type": "code",
   "execution_count": 17,
   "metadata": {},
   "outputs": [],
   "source": [
    "a = '1'"
   ]
  },
  {
   "cell_type": "code",
   "execution_count": 18,
   "metadata": {},
   "outputs": [
    {
     "data": {
      "text/plain": [
       "str"
      ]
     },
     "execution_count": 18,
     "metadata": {},
     "output_type": "execute_result"
    }
   ],
   "source": [
    "type(a)"
   ]
  },
  {
   "cell_type": "code",
   "execution_count": 19,
   "metadata": {},
   "outputs": [
    {
     "data": {
      "text/plain": [
       "'11'"
      ]
     },
     "execution_count": 19,
     "metadata": {},
     "output_type": "execute_result"
    }
   ],
   "source": [
    "a*2"
   ]
  },
  {
   "cell_type": "code",
   "execution_count": 20,
   "metadata": {},
   "outputs": [],
   "source": [
    "#We have to check type of varibale carefully"
   ]
  },
  {
   "cell_type": "code",
   "execution_count": 21,
   "metadata": {},
   "outputs": [
    {
     "data": {
      "text/plain": [
       "2"
      ]
     },
     "execution_count": 21,
     "metadata": {},
     "output_type": "execute_result"
    }
   ],
   "source": [
    "int(a)*2"
   ]
  },
  {
   "cell_type": "markdown",
   "metadata": {},
   "source": [
    "- int \n",
    "- float()\n",
    "- str()"
   ]
  },
  {
   "cell_type": "code",
   "execution_count": 22,
   "metadata": {},
   "outputs": [],
   "source": [
    "#Check more information at Pythoncourse"
   ]
  },
  {
   "cell_type": "code",
   "execution_count": 23,
   "metadata": {},
   "outputs": [
    {
     "data": {
      "text/plain": [
       "3"
      ]
     },
     "execution_count": 23,
     "metadata": {},
     "output_type": "execute_result"
    }
   ],
   "source": [
    "int(3.14)"
   ]
  },
  {
   "cell_type": "code",
   "execution_count": 24,
   "metadata": {},
   "outputs": [],
   "source": [
    "#Note that when we tabke the interger of float number, we just have intergeation part of float()"
   ]
  },
  {
   "cell_type": "code",
   "execution_count": 25,
   "metadata": {},
   "outputs": [],
   "source": [
    "#len: use to claculate the length of list or ..."
   ]
  },
  {
   "cell_type": "code",
   "execution_count": 26,
   "metadata": {},
   "outputs": [],
   "source": [
    "#Excercise:"
   ]
  },
  {
   "cell_type": "markdown",
   "metadata": {},
   "source": [
    "<p> Excercise </p>\n",
    "We have a list from 0 to 10\n",
    "Make lít containing exponenatation of each item in the list"
   ]
  },
  {
   "cell_type": "code",
   "execution_count": 32,
   "metadata": {},
   "outputs": [
    {
     "name": "stdout",
     "output_type": "stream",
     "text": [
      "[0, 1, 4, 9, 16, 25, 36, 49, 64, 81, 100]\n"
     ]
    }
   ],
   "source": [
    "newlist= []\n",
    "for i in range(0,11):\n",
    "    newlist.append(i**2)\n",
    "print(newlist)"
   ]
  },
  {
   "cell_type": "code",
   "execution_count": 33,
   "metadata": {},
   "outputs": [],
   "source": [
    "#calculate the N!"
   ]
  },
  {
   "cell_type": "code",
   "execution_count": 41,
   "metadata": {},
   "outputs": [
    {
     "name": "stdin",
     "output_type": "stream",
     "text": [
      "Enter the value you wanna make the N!: 8\n"
     ]
    },
    {
     "name": "stdout",
     "output_type": "stream",
     "text": [
      "40320\n"
     ]
    }
   ],
   "source": [
    "x = input(\"Enter the value you wanna make the N!:\")\n",
    "value = 1\n",
    "for i in range(1,int(x)):\n",
    "    value = value * i\n",
    "final = value * int(x)\n",
    "print(final)"
   ]
  },
  {
   "cell_type": "markdown",
   "metadata": {},
   "source": [
    "### 2.2 WHILE\n"
   ]
  },
  {
   "cell_type": "code",
   "execution_count": 42,
   "metadata": {},
   "outputs": [],
   "source": [
    "# While Condition:\n",
    "    #bussiness logic #indent \n",
    "    #break when condition is False"
   ]
  },
  {
   "cell_type": "code",
   "execution_count": 86,
   "metadata": {},
   "outputs": [
    {
     "ename": "SyntaxError",
     "evalue": "EOL while scanning string literal (<ipython-input-86-926cfe1574f2>, line 2)",
     "output_type": "error",
     "traceback": [
      "\u001b[0;36m  File \u001b[0;32m\"<ipython-input-86-926cfe1574f2>\"\u001b[0;36m, line \u001b[0;32m2\u001b[0m\n\u001b[0;31m    print(f\"hello {i})#f is format\u001b[0m\n\u001b[0m                                  ^\u001b[0m\n\u001b[0;31mSyntaxError\u001b[0m\u001b[0;31m:\u001b[0m EOL while scanning string literal\n"
     ]
    }
   ],
   "source": [
    "while i <a:\n",
    "    print(f\"hello {i})#f is format\n",
    "    i +=1"
   ]
  },
  {
   "cell_type": "code",
   "execution_count": 46,
   "metadata": {},
   "outputs": [],
   "source": [
    "# Note that while is infinitive loop therefore pls controll welll"
   ]
  },
  {
   "cell_type": "code",
   "execution_count": 52,
   "metadata": {},
   "outputs": [
    {
     "name": "stdout",
     "output_type": "stream",
     "text": [
      "MCILession3\n"
     ]
    }
   ],
   "source": [
    "# String Format\n",
    "a = \"MCI\"\n",
    "b = \"Lession3\"\n",
    "print (a+b)"
   ]
  },
  {
   "cell_type": "code",
   "execution_count": 53,
   "metadata": {},
   "outputs": [
    {
     "name": "stdout",
     "output_type": "stream",
     "text": [
      "Hello MCI\n"
     ]
    }
   ],
   "source": [
    "print('Hello {}'.format(a))"
   ]
  },
  {
   "cell_type": "code",
   "execution_count": 61,
   "metadata": {},
   "outputs": [
    {
     "name": "stdout",
     "output_type": "stream",
     "text": [
      "hello MCI\n"
     ]
    }
   ],
   "source": [
    "print(\"hello %s\" %(a))"
   ]
  },
  {
   "cell_type": "code",
   "execution_count": 63,
   "metadata": {},
   "outputs": [
    {
     "name": "stdin",
     "output_type": "stream",
     "text": [
      "Enter Value: 8\n"
     ]
    },
    {
     "name": "stdout",
     "output_type": "stream",
     "text": [
      "Value 40320\n"
     ]
    }
   ],
   "source": [
    "#do N with while\n",
    "x = input(\"Enter Value:\")\n",
    "final =1\n",
    "x = int(x)\n",
    "while x >0:\n",
    "    final = final *x \n",
    "    x -=1\n",
    "print('Value {}'.format(final))"
   ]
  },
  {
   "cell_type": "code",
   "execution_count": 64,
   "metadata": {},
   "outputs": [],
   "source": [
    "#Note Hàm Truyền"
   ]
  },
  {
   "cell_type": "markdown",
   "metadata": {},
   "source": [
    "## 3. Condition\n"
   ]
  },
  {
   "cell_type": "markdown",
   "metadata": {},
   "source": [
    "- syntax \n",
    " \n",
    " * if condition1:\n",
    " *   business logic1#intent \n",
    " * elif condition2:\n",
    " *   business logic2#intent\n",
    " * else:\n",
    " *   business logic3#intent"
   ]
  },
  {
   "cell_type": "code",
   "execution_count": 65,
   "metadata": {},
   "outputs": [
    {
     "name": "stdout",
     "output_type": "stream",
     "text": [
      "x ix smaller than y\n"
     ]
    }
   ],
   "source": [
    "x =1 \n",
    "y =3\n",
    "if x <y:\n",
    "    print ('x ix smaller than y')\n",
    "else:\n",
    "    print ('y is smaller than x')\n",
    "        "
   ]
  },
  {
   "cell_type": "markdown",
   "metadata": {},
   "source": [
    "### 4. Function\n",
    "- Build-in function\n",
    "- User-defined function"
   ]
  },
  {
   "cell_type": "code",
   "execution_count": 67,
   "metadata": {},
   "outputs": [],
   "source": [
    "# def fucntion_name(arg1, arg2,....):\n",
    "    #bussiness logic\n",
    "    #return -->optional"
   ]
  },
  {
   "cell_type": "code",
   "execution_count": 75,
   "metadata": {},
   "outputs": [
    {
     "name": "stdout",
     "output_type": "stream",
     "text": [
      "4\n"
     ]
    }
   ],
   "source": [
    "li = [1,2,3,5]\n",
    "def length_list(li):\n",
    "    #bussiness logic\n",
    "    length = li.index(li[-1])+1\n",
    "    #return -->optional\n",
    "    return length\n",
    "print(length_list(li))\n"
   ]
  },
  {
   "cell_type": "markdown",
   "metadata": {},
   "source": [
    "- sum \n",
    "- average()\n"
   ]
  },
  {
   "cell_type": "code",
   "execution_count": 74,
   "metadata": {},
   "outputs": [],
   "source": [
    "def sum_abc(li):\n",
    "    sum_value = 0\n",
    "    for i in li:\n",
    "        sum_value+=i\n",
    "    return sum_value"
   ]
  },
  {
   "cell_type": "code",
   "execution_count": 76,
   "metadata": {},
   "outputs": [
    {
     "data": {
      "text/plain": [
       "11"
      ]
     },
     "execution_count": 76,
     "metadata": {},
     "output_type": "execute_result"
    }
   ],
   "source": [
    "sum_abc(li)"
   ]
  },
  {
   "cell_type": "code",
   "execution_count": 77,
   "metadata": {},
   "outputs": [],
   "source": [
    "def average_abc(li):\n",
    "    sum_value = 0\n",
    "    for i in li:\n",
    "        sum_value+=i\n",
    "    return sum_value/len(li)"
   ]
  },
  {
   "cell_type": "code",
   "execution_count": 82,
   "metadata": {},
   "outputs": [
    {
     "data": {
      "text/plain": [
       "2.75"
      ]
     },
     "execution_count": 82,
     "metadata": {},
     "output_type": "execute_result"
    }
   ],
   "source": [
    "average_abc(li)"
   ]
  },
  {
   "cell_type": "markdown",
   "metadata": {},
   "source": [
    "**Anoynimous fucntion**"
   ]
  },
  {
   "cell_type": "markdown",
   "metadata": {},
   "source": [
    "syntax: Output = lambla datastruture:datascture and algorithms"
   ]
  },
  {
   "cell_type": "code",
   "execution_count": 15,
   "metadata": {},
   "outputs": [
    {
     "data": {
      "text/plain": [
       "4"
      ]
     },
     "execution_count": 15,
     "metadata": {},
     "output_type": "execute_result"
    }
   ],
   "source": [
    "y = lambda x: x**2\n",
    "y(2)"
   ]
  },
  {
   "cell_type": "markdown",
   "metadata": {},
   "source": [
    "### 5. Comprehension\n"
   ]
  },
  {
   "cell_type": "code",
   "execution_count": 23,
   "metadata": {},
   "outputs": [
    {
     "data": {
      "text/plain": [
       "[1, 4, 9]"
      ]
     },
     "execution_count": 23,
     "metadata": {},
     "output_type": "execute_result"
    }
   ],
   "source": [
    "li = [1,2,3]\n",
    "li2 = []\n",
    "for i in li:\n",
    "    li2.append(i**2)\n",
    "li2"
   ]
  },
  {
   "cell_type": "code",
   "execution_count": 24,
   "metadata": {},
   "outputs": [
    {
     "data": {
      "text/plain": [
       "[1, 4, 9]"
      ]
     },
     "execution_count": 24,
     "metadata": {},
     "output_type": "execute_result"
    }
   ],
   "source": [
    "[i**2 for i in [1,2,3]]"
   ]
  },
  {
   "cell_type": "code",
   "execution_count": 25,
   "metadata": {},
   "outputs": [
    {
     "name": "stdout",
     "output_type": "stream",
     "text": [
      "[0, 1, 2, 3, 4, 5, 6, 7, 8, 9]\n"
     ]
    }
   ],
   "source": [
    "print([i for i in list(range(10))])"
   ]
  },
  {
   "cell_type": "code",
   "execution_count": 26,
   "metadata": {},
   "outputs": [],
   "source": [
    "# Note Comprehension for leaning at home"
   ]
  },
  {
   "cell_type": "markdown",
   "metadata": {},
   "source": [
    "note that we do not need to use [], it means that it is list"
   ]
  },
  {
   "cell_type": "code",
   "execution_count": 27,
   "metadata": {},
   "outputs": [
    {
     "data": {
      "text/plain": [
       "{1, 4, 9}"
      ]
     },
     "execution_count": 27,
     "metadata": {},
     "output_type": "execute_result"
    }
   ],
   "source": [
    "li3 = {i**2 for i in li } #for example we have the set\n",
    "li3"
   ]
  },
  {
   "cell_type": "code",
   "execution_count": 28,
   "metadata": {},
   "outputs": [
    {
     "data": {
      "text/plain": [
       "(1, 4, 9)"
      ]
     },
     "execution_count": 28,
     "metadata": {},
     "output_type": "execute_result"
    }
   ],
   "source": [
    "li3 = tuple(i**2 for i in li)# we have to call tuple instead of having to use the ()\n",
    "li3"
   ]
  },
  {
   "cell_type": "markdown",
   "metadata": {},
   "source": [
    "Excercise: return a list containning odd numbers giuven orginal list\n"
   ]
  },
  {
   "cell_type": "code",
   "execution_count": 29,
   "metadata": {},
   "outputs": [
    {
     "data": {
      "text/plain": [
       "[1, 3, 5, 9]"
      ]
     },
     "execution_count": 29,
     "metadata": {},
     "output_type": "execute_result"
    }
   ],
   "source": [
    "li = [1,2,3,4,5,6,8,9]\n",
    "li2 = [i for i in li if i%2 ==1]\n",
    "li2"
   ]
  },
  {
   "cell_type": "markdown",
   "metadata": {},
   "source": [
    "Excercise: return a list containning \n",
    "- odd numbers giuven orginal list **2 \n",
    "- even item: x \n"
   ]
  },
  {
   "cell_type": "code",
   "execution_count": 30,
   "metadata": {},
   "outputs": [],
   "source": [
    "li = [1,2,3,4,5,6,8,9]\n",
    "li2 = [i**2 if i%2 ==1 else i for i in li]"
   ]
  },
  {
   "cell_type": "code",
   "execution_count": 31,
   "metadata": {},
   "outputs": [
    {
     "data": {
      "text/plain": [
       "[1, 2, 9, 4, 25, 6, 8, 81]"
      ]
     },
     "execution_count": 31,
     "metadata": {},
     "output_type": "execute_result"
    }
   ],
   "source": [
    "li2"
   ]
  },
  {
   "cell_type": "code",
   "execution_count": 32,
   "metadata": {},
   "outputs": [],
   "source": [
    "li4 = [[1,2,3],\n",
    "       [2,3,4],\n",
    "       [7,8,9]]\n"
   ]
  },
  {
   "cell_type": "code",
   "execution_count": 33,
   "metadata": {},
   "outputs": [
    {
     "data": {
      "text/plain": [
       "[1, 2, 3, 2, 3, 4, 7, 8, 9]"
      ]
     },
     "execution_count": 33,
     "metadata": {},
     "output_type": "execute_result"
    }
   ],
   "source": [
    "[i for sub_li in li4 for i in sub_li] # chỉ sử dụng 1-2 vòng loop"
   ]
  },
  {
   "cell_type": "markdown",
   "metadata": {},
   "source": [
    "For more detail of Comprehension we can access it at: https://viblo.asia/p/su-dung-comprehensions-trong-python-pVYRPjJEG4ng"
   ]
  },
  {
   "cell_type": "markdown",
   "metadata": {},
   "source": [
    "syntax: f(x) for x in interable if i condion "
   ]
  },
  {
   "cell_type": "code",
   "execution_count": 36,
   "metadata": {},
   "outputs": [],
   "source": [
    "li = [1,2,3,4,5,6,7,9]"
   ]
  },
  {
   "cell_type": "code",
   "execution_count": 39,
   "metadata": {},
   "outputs": [],
   "source": [
    "a= [i for i in li if i%2==1]"
   ]
  },
  {
   "cell_type": "code",
   "execution_count": 40,
   "metadata": {},
   "outputs": [
    {
     "data": {
      "text/plain": [
       "[1, 3, 5, 7, 9]"
      ]
     },
     "execution_count": 40,
     "metadata": {},
     "output_type": "execute_result"
    }
   ],
   "source": [
    "a"
   ]
  },
  {
   "cell_type": "code",
   "execution_count": 43,
   "metadata": {},
   "outputs": [],
   "source": [
    "a = [i**2 if i%2==0 else i for i in li ]#Note that if we have else we have to move if and else to in front of for\n"
   ]
  },
  {
   "cell_type": "code",
   "execution_count": 44,
   "metadata": {},
   "outputs": [
    {
     "data": {
      "text/plain": [
       "[1, 4, 3, 16, 5, 36, 7, 9]"
      ]
     },
     "execution_count": 44,
     "metadata": {},
     "output_type": "execute_result"
    }
   ],
   "source": [
    "a"
   ]
  },
  {
   "cell_type": "markdown",
   "metadata": {},
   "source": [
    "syntax with else: f(x) if condition1 g(x) if condition2 else h(x) for i in interable"
   ]
  },
  {
   "cell_type": "code",
   "execution_count": null,
   "metadata": {},
   "outputs": [],
   "source": []
  }
 ],
 "metadata": {
  "kernelspec": {
   "display_name": "Python 3",
   "language": "python",
   "name": "python3"
  },
  "language_info": {
   "codemirror_mode": {
    "name": "ipython",
    "version": 3
   },
   "file_extension": ".py",
   "mimetype": "text/x-python",
   "name": "python",
   "nbconvert_exporter": "python",
   "pygments_lexer": "ipython3",
   "version": "3.8.8"
  }
 },
 "nbformat": 4,
 "nbformat_minor": 5
}
