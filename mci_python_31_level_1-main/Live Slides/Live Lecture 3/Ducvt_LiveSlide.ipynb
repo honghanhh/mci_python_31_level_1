{
 "cells": [
  {
   "cell_type": "markdown",
   "id": "bcdf000d-762e-4395-a9df-6e77cc460acc",
   "metadata": {},
   "source": [
    "LESSION 3\n",
    "PROGRAMING FLOW"
   ]
  },
  {
   "cell_type": "markdown",
   "id": "167f05ea-e631-4a4a-ba90-510bb690badf",
   "metadata": {},
   "source": [
    "1. Sequetial"
   ]
  },
  {
   "cell_type": "code",
   "execution_count": 1,
   "id": "eb5810c8-9661-4e67-a3f8-e2b45c614795",
   "metadata": {},
   "outputs": [
    {
     "name": "stdout",
     "output_type": "stream",
     "text": [
      "Hello\n",
      "Everyone\n",
      "!\n"
     ]
    }
   ],
   "source": [
    "print(\"Hello\")\n",
    "print(\"Everyone\")\n",
    "print(\"!\")"
   ]
  },
  {
   "cell_type": "markdown",
   "id": "787501c1-c89b-46fa-a5ff-eac331f6d4de",
   "metadata": {},
   "source": [
    "2. Loop"
   ]
  },
  {
   "cell_type": "markdown",
   "id": "081c3f6e-efee-48f9-a4fd-20165500615f",
   "metadata": {},
   "source": [
    "- Iteration\n",
    "- For\n",
    "- While"
   ]
  },
  {
   "cell_type": "markdown",
   "id": "6b2f7d04-846c-45fd-9b37-49c51ceda123",
   "metadata": {},
   "source": [
    "2.1 For"
   ]
  },
  {
   "cell_type": "code",
   "execution_count": null,
   "id": "bf252407-7d6d-4554-bad5-baefd9740b2b",
   "metadata": {},
   "outputs": [],
   "source": [
    "n, li, i =  int(input()), [], 0\n",
    "while i < n :\n",
    "  val = i**2\n",
    "  li.append(val)\n",
    "  i += 1\n",
    "print(li)"
   ]
  },
  {
   "cell_type": "markdown",
   "id": "8143864c-2a7d-4b22-aa4c-d96355256803",
   "metadata": {},
   "source": [
    "- Length"
   ]
  },
  {
   "cell_type": "code",
   "execution_count": null,
   "id": "44464d35-4c0c-4ed1-819f-e02dde2b3405",
   "metadata": {},
   "outputs": [],
   "source": [
    "def length_of_list(li):\n",
    "  len = 0\n",
    "  for i in li:\n",
    "    len += 1\n",
    "  return len\n",
    "li = [0,1,2,3,4]\n",
    "print(length_of_list(li))"
   ]
  },
  {
   "cell_type": "markdown",
   "id": "eb6f0e47-80c8-405b-afa5-c0f2f148c3bc",
   "metadata": {},
   "source": [
    "- Sum"
   ]
  },
  {
   "cell_type": "code",
   "execution_count": null,
   "id": "061bcc7e-e6ed-47cd-af4c-57cadac8c1ea",
   "metadata": {},
   "outputs": [],
   "source": [
    "def sum_of_list(li):\n",
    "  sum = 0\n",
    "  for i in li:\n",
    "    sum += li[i]\n",
    "  return sum\n",
    "li = [0,1,2,3,4]\n",
    "print(sum(li))"
   ]
  },
  {
   "cell_type": "markdown",
   "id": "df76ff8f-5b48-4fd6-bcb5-be97a46a2033",
   "metadata": {},
   "source": [
    "- Avg"
   ]
  },
  {
   "cell_type": "code",
   "execution_count": null,
   "id": "971f03f5-fdee-4067-af1c-68ef17a0b7c8",
   "metadata": {},
   "outputs": [],
   "source": [
    "def avg_of_list(li):\n",
    "  sum, len, avg = 0, 0, 0\n",
    "  for i in li:\n",
    "    len += 1\n",
    "    sum += li[i]\n",
    "  avg = sum/len\n",
    "  return avg\n",
    "li = [0,1,2,3,4]\n",
    "print(avg_of_list(li))"
   ]
  },
  {
   "cell_type": "markdown",
   "id": "026e7928-97cf-463e-a9fe-d547ebfc46ed",
   "metadata": {},
   "source": [
    "- Comprehension"
   ]
  },
  {
   "cell_type": "code",
   "execution_count": null,
   "id": "ccc66a7e-13a3-42e6-be05-645dcf1d981e",
   "metadata": {},
   "outputs": [],
   "source": [
    "li = [1,3,4,5,6,7,8,9,15,16,17,19]\n",
    "li2 = [ i**2 if i%2 == 1 else i for i in li]\n",
    "print(li2)"
   ]
  }
 ],
 "metadata": {
  "kernelspec": {
   "display_name": "Python 3",
   "language": "python",
   "name": "python3"
  },
  "language_info": {
   "codemirror_mode": {
    "name": "ipython",
    "version": 3
   },
   "file_extension": ".py",
   "mimetype": "text/x-python",
   "name": "python",
   "nbconvert_exporter": "python",
   "pygments_lexer": "ipython3",
   "version": "3.7.0"
  }
 },
 "nbformat": 4,
 "nbformat_minor": 5
}
