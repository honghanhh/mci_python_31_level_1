{
 "cells": [
  {
   "cell_type": "markdown",
   "id": "742cce7d-5c61-417c-aa70-d315ea1332f9",
   "metadata": {},
   "source": [
    "# Lesson 3"
   ]
  },
  {
   "cell_type": "markdown",
   "id": "4ed8557a-2600-4455-a5fe-ff080e04e77f",
   "metadata": {},
   "source": [
    "## PROGRAMMING FLOW"
   ]
  },
  {
   "cell_type": "markdown",
   "id": "b1632a41-6943-41e2-bc02-9e754c2501d3",
   "metadata": {},
   "source": [
    "- Sequential...\n",
    "- Loop: For, while...\n",
    "- Condition: if elif else\n",
    "- Function"
   ]
  },
  {
   "cell_type": "markdown",
   "id": "fa7196ae-01a5-43d9-820b-0d6d8c2047a9",
   "metadata": {},
   "source": [
    "### 1. Sequential"
   ]
  },
  {
   "cell_type": "code",
   "execution_count": 4,
   "id": "f28aa3c0-1eff-4298-82d1-f2950a1e003b",
   "metadata": {},
   "outputs": [
    {
     "name": "stdout",
     "output_type": "stream",
     "text": [
      "everyone\n",
      "Hello\n",
      "!\n"
     ]
    }
   ],
   "source": [
    "print('everyone')\n",
    "print('Hello')\n",
    "print('!')"
   ]
  },
  {
   "cell_type": "markdown",
   "id": "6b9677d3-24f9-4677-bc60-2650fd14f7c3",
   "metadata": {},
   "source": [
    "### 2. Loop"
   ]
  },
  {
   "cell_type": "markdown",
   "id": "2ce5b802-15de-4c13-9e7c-03a5f90bbd94",
   "metadata": {},
   "source": [
    "- Iteration: \n",
    "- For\n",
    "- While"
   ]
  },
  {
   "cell_type": "markdown",
   "id": "8cdfd9b7-bde0-4cfe-86b5-e71d5b0c9b1a",
   "metadata": {},
   "source": [
    "#### 2.1 For"
   ]
  },
  {
   "cell_type": "markdown",
   "id": "390d8106-7e58-4980-8158-279e88dc3d2b",
   "metadata": {},
   "source": [
    "```\n",
    "For value in interable:\n",
    "    business logic #indent\n",
    "```"
   ]
  },
  {
   "cell_type": "markdown",
   "id": "dea1709a-334c-488c-aa07-2f5530cd114c",
   "metadata": {},
   "source": [
    "```\n",
    "For index in range(len(interable)):\n",
    "    business logic\n",
    "```"
   ]
  },
  {
   "cell_type": "code",
   "execution_count": 44,
   "id": "941b5dd4-ed37-48eb-b2cf-c2f182ce5f84",
   "metadata": {},
   "outputs": [
    {
     "data": {
      "text/plain": [
       "[0, 1, 2, 3, 4, 5, 6, 7, 8, 9]"
      ]
     },
     "execution_count": 44,
     "metadata": {},
     "output_type": "execute_result"
    }
   ],
   "source": [
    "list(range(10)) #0 (inclusive) ->9 (exclusive)"
   ]
  },
  {
   "cell_type": "code",
   "execution_count": 14,
   "id": "a2f802c4-d66c-406f-b425-778e16efeda5",
   "metadata": {},
   "outputs": [
    {
     "data": {
      "text/plain": [
       "[2, 3, 4, 5, 6, 7, 8, 9]"
      ]
     },
     "execution_count": 14,
     "metadata": {},
     "output_type": "execute_result"
    }
   ],
   "source": [
    "list(range(2,10))"
   ]
  },
  {
   "cell_type": "code",
   "execution_count": 15,
   "id": "bfdaa985-52a0-4037-b86b-7d923e4c59c6",
   "metadata": {},
   "outputs": [
    {
     "data": {
      "text/plain": [
       "[2, 4, 6, 8]"
      ]
     },
     "execution_count": 15,
     "metadata": {},
     "output_type": "execute_result"
    }
   ],
   "source": [
    "list(range(2,10,2))"
   ]
  },
  {
   "cell_type": "code",
   "execution_count": 26,
   "id": "39dbaf84-664a-424b-a734-92bfdaad62eb",
   "metadata": {},
   "outputs": [
    {
     "data": {
      "text/plain": [
       "4"
      ]
     },
     "execution_count": 26,
     "metadata": {},
     "output_type": "execute_result"
    }
   ],
   "source": [
    "len(range(2,10,2))"
   ]
  },
  {
   "cell_type": "markdown",
   "id": "4386bac1-aee6-4a35-886b-1aebd99af0eb",
   "metadata": {},
   "source": [
    "Casting"
   ]
  },
  {
   "cell_type": "code",
   "execution_count": 17,
   "id": "1ecf0436-56a9-47ae-81cc-4b8673dc52ec",
   "metadata": {},
   "outputs": [],
   "source": [
    "a = '1'"
   ]
  },
  {
   "cell_type": "code",
   "execution_count": 18,
   "id": "059b03b8-8571-4518-89d8-64ea6c1f2f8e",
   "metadata": {},
   "outputs": [
    {
     "data": {
      "text/plain": [
       "str"
      ]
     },
     "execution_count": 18,
     "metadata": {},
     "output_type": "execute_result"
    }
   ],
   "source": [
    "type(a)"
   ]
  },
  {
   "cell_type": "code",
   "execution_count": 19,
   "id": "1d3c04b4-888c-4c1e-a364-31adaa8948b5",
   "metadata": {},
   "outputs": [
    {
     "data": {
      "text/plain": [
       "'11'"
      ]
     },
     "execution_count": 19,
     "metadata": {},
     "output_type": "execute_result"
    }
   ],
   "source": [
    "a*2"
   ]
  },
  {
   "cell_type": "code",
   "execution_count": 20,
   "id": "7a4d89aa-bd75-45de-9200-00a971d4794e",
   "metadata": {},
   "outputs": [
    {
     "data": {
      "text/plain": [
       "2"
      ]
     },
     "execution_count": 20,
     "metadata": {},
     "output_type": "execute_result"
    }
   ],
   "source": [
    "int(a)*2"
   ]
  },
  {
   "cell_type": "markdown",
   "id": "5602540f-90e8-46a1-a6bd-8baa185f9420",
   "metadata": {},
   "source": [
    "- int()\n",
    "- float\n",
    "- str()..."
   ]
  },
  {
   "cell_type": "code",
   "execution_count": 23,
   "id": "7a25a5bb-a722-4c4b-b2a9-4a63e1818617",
   "metadata": {},
   "outputs": [],
   "source": [
    "b = 'i'"
   ]
  },
  {
   "cell_type": "code",
   "execution_count": 24,
   "id": "19d23e0b-d966-4491-b6a3-c9eba820a71d",
   "metadata": {},
   "outputs": [
    {
     "ename": "ValueError",
     "evalue": "invalid literal for int() with base 10: 'i'",
     "output_type": "error",
     "traceback": [
      "\u001b[0;31m---------------------------------------------------------------------------\u001b[0m",
      "\u001b[0;31mValueError\u001b[0m                                Traceback (most recent call last)",
      "\u001b[0;32m<ipython-input-24-07ae29993d50>\u001b[0m in \u001b[0;36m<module>\u001b[0;34m\u001b[0m\n\u001b[0;32m----> 1\u001b[0;31m \u001b[0mint\u001b[0m\u001b[0;34m(\u001b[0m\u001b[0mb\u001b[0m\u001b[0;34m)\u001b[0m\u001b[0;34m\u001b[0m\u001b[0;34m\u001b[0m\u001b[0m\n\u001b[0m",
      "\u001b[0;31mValueError\u001b[0m: invalid literal for int() with base 10: 'i'"
     ]
    }
   ],
   "source": [
    "int(b)"
   ]
  },
  {
   "cell_type": "code",
   "execution_count": 25,
   "id": "6845d1d3-864b-45c6-9009-3d6f18135593",
   "metadata": {},
   "outputs": [
    {
     "data": {
      "text/plain": [
       "3"
      ]
     },
     "execution_count": 25,
     "metadata": {},
     "output_type": "execute_result"
    }
   ],
   "source": [
    "int(3.14)"
   ]
  },
  {
   "cell_type": "markdown",
   "id": "0663f59f-9193-46bc-80d5-28c0de1848c8",
   "metadata": {},
   "source": [
    "Exercise: Given a list from 0 to 10, return 1 new list containing exponentation of each item in the list"
   ]
  },
  {
   "cell_type": "code",
   "execution_count": 18,
   "id": "4190d78c-0d2d-4656-b6f8-fedbb22e5499",
   "metadata": {},
   "outputs": [
    {
     "data": {
      "text/plain": [
       "[0, 1, 2, 3, 4, 5, 6, 7, 8, 9, 10]"
      ]
     },
     "execution_count": 18,
     "metadata": {},
     "output_type": "execute_result"
    }
   ],
   "source": [
    "li = list(range(11))\n",
    "li"
   ]
  },
  {
   "cell_type": "code",
   "execution_count": 34,
   "id": "8731585d-effd-4607-9bda-5651859a73dd",
   "metadata": {},
   "outputs": [],
   "source": [
    "li1 = [] # empty list\n",
    "for val in li:\n",
    "# print(val, val**2)\n",
    "    li1.append(val**2)"
   ]
  },
  {
   "cell_type": "code",
   "execution_count": 35,
   "id": "9cf191a6-954b-4455-98ec-d11e59ce065b",
   "metadata": {},
   "outputs": [
    {
     "data": {
      "text/plain": [
       "[0, 1, 4, 9, 16, 25, 36, 49, 64, 81, 100]"
      ]
     },
     "execution_count": 35,
     "metadata": {},
     "output_type": "execute_result"
    }
   ],
   "source": [
    "li1"
   ]
  },
  {
   "cell_type": "code",
   "execution_count": 19,
   "id": "b5d18415-84b3-4994-a7fb-06436c305e03",
   "metadata": {},
   "outputs": [],
   "source": [
    "li2 = [] #empty list\n",
    "for idx in range(len(li)):\n",
    "         li2.append(li[idx]**2)"
   ]
  },
  {
   "cell_type": "code",
   "execution_count": 21,
   "id": "70ea070f-f1f6-40d6-8d9a-da6335f66938",
   "metadata": {},
   "outputs": [
    {
     "data": {
      "text/plain": [
       "[0, 1, 4, 9, 16, 25, 36, 49, 64, 81, 100]"
      ]
     },
     "execution_count": 21,
     "metadata": {},
     "output_type": "execute_result"
    }
   ],
   "source": [
    "li2"
   ]
  },
  {
   "cell_type": "code",
   "execution_count": null,
   "id": "15b3c26b-a069-4875-bceb-a93e8ae955c0",
   "metadata": {},
   "outputs": [],
   "source": []
  },
  {
   "cell_type": "code",
   "execution_count": null,
   "id": "fca11cfc-c861-4358-8bcf-6cef66882621",
   "metadata": {},
   "outputs": [],
   "source": []
  },
  {
   "cell_type": "code",
   "execution_count": null,
   "id": "624ec8d5-6c08-459b-9605-ed8c747931dc",
   "metadata": {},
   "outputs": [],
   "source": []
  },
  {
   "cell_type": "code",
   "execution_count": null,
   "id": "043e59e5-9bbe-4fed-a457-907fd8e9c0a5",
   "metadata": {},
   "outputs": [],
   "source": []
  },
  {
   "cell_type": "markdown",
   "id": "bdb0bc33-6964-4213-be49-0c53cbe9811a",
   "metadata": {},
   "source": [
    "Excercise: Write a program to calculate n! of an integer \n",
    "- n\n",
    "- n = 8\n",
    "- n! = 1x2x3x4x5x6x7x8"
   ]
  },
  {
   "cell_type": "code",
   "execution_count": null,
   "id": "873f2362-b712-4e14-af8f-9aeec1c34ceb",
   "metadata": {},
   "outputs": [],
   "source": [
    "#Dat's solution\n",
    "x = input(\"Enter the value you wanna make the N!:\")\n",
    "value = 1\n",
    "for i in range(1,int(x)+1):\n",
    "    value = value * i\n",
    "# final = value * int(x)\n",
    "print(final)"
   ]
  },
  {
   "cell_type": "code",
   "execution_count": null,
   "id": "e91b0933-3526-4cf0-a113-9a722dc0c8cd",
   "metadata": {},
   "outputs": [],
   "source": [
    "#Long's solution\n",
    "n=8\n",
    "a=1\n",
    "for i in range(1,n+1):\n",
    "    print(i)\n",
    "    a=a*i\n",
    "    # a *= i"
   ]
  },
  {
   "cell_type": "code",
   "execution_count": null,
   "id": "b2f88fc8-646f-4098-a448-6131767d14b8",
   "metadata": {},
   "outputs": [],
   "source": [
    "def tinhgiaithua(n):\n",
    "    giai_thua = 1;\n",
    "    if (n == 0 or n == 1):\n",
    "        return giai_thua;\n",
    "    else:\n",
    "        for i in range(2, n + 1):\n",
    "            giai_thua = giai_thua * i;\n",
    "        return giai_thua;\n",
    " \n",
    "n = int(input(\"Nhập số nguyên dương n = \"));\n",
    "print(\"Giai thừa của\", n, \"là\", tinhgiaithua(n));"
   ]
  },
  {
   "cell_type": "code",
   "execution_count": null,
   "id": "d86cbc59-ba0f-458d-91b0-f0aef3c67f00",
   "metadata": {},
   "outputs": [],
   "source": []
  },
  {
   "cell_type": "code",
   "execution_count": null,
   "id": "10845da0-af05-4526-996d-8dfc8ea0323f",
   "metadata": {},
   "outputs": [],
   "source": []
  },
  {
   "cell_type": "code",
   "execution_count": null,
   "id": "b1a4dfe9-aa2f-440a-8b26-cf11567adcb5",
   "metadata": {},
   "outputs": [],
   "source": []
  },
  {
   "cell_type": "code",
   "execution_count": null,
   "id": "a37cb5d0-03c1-417f-8ce2-2b8137684fac",
   "metadata": {},
   "outputs": [],
   "source": []
  },
  {
   "cell_type": "code",
   "execution_count": null,
   "id": "cd6adc2d-e193-4686-82cb-82647e68e86e",
   "metadata": {},
   "outputs": [],
   "source": []
  },
  {
   "cell_type": "code",
   "execution_count": null,
   "id": "4fc6624b-2b1f-4bcd-a3e3-51878a0abbf1",
   "metadata": {},
   "outputs": [],
   "source": []
  },
  {
   "cell_type": "markdown",
   "id": "8187c612-48a3-4d9a-8e02-0c5e9fb54449",
   "metadata": {},
   "source": [
    "#### 2.2 While"
   ]
  },
  {
   "cell_type": "markdown",
   "id": "fb66d84c-0296-4218-8b46-a144bf4a79dd",
   "metadata": {},
   "source": [
    "```\n",
    "While condition(True/False):\n",
    "    business logic\n",
    "```"
   ]
  },
  {
   "cell_type": "code",
   "execution_count": null,
   "id": "75383e6b-830a-4c00-9ff0-f99c89834e98",
   "metadata": {},
   "outputs": [],
   "source": []
  }
 ],
 "metadata": {
  "kernelspec": {
   "display_name": "Python 3",
   "language": "python",
   "name": "python3"
  },
  "language_info": {
   "codemirror_mode": {
    "name": "ipython",
    "version": 3
   },
   "file_extension": ".py",
   "mimetype": "text/x-python",
   "name": "python",
   "nbconvert_exporter": "python",
   "pygments_lexer": "ipython3",
   "version": "3.7.10"
  }
 },
 "nbformat": 4,
 "nbformat_minor": 5
}
