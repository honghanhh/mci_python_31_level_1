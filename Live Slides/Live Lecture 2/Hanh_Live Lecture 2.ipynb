{
 "cells": [
  {
   "cell_type": "markdown",
   "id": "edb9b0d5",
   "metadata": {},
   "source": [
    "![](https://i.ytimg.com/vi/bVOHeROLNyQ/maxresdefault.jpg)"
   ]
  },
  {
   "cell_type": "code",
   "execution_count": null,
   "id": "c247f8b0-4e4d-4893-ac35-07505b60062a",
   "metadata": {},
   "outputs": [],
   "source": []
  }
 ],
 "metadata": {
  "kernelspec": {
   "display_name": "Python 3",
   "language": "python",
   "name": "python3"
  },
  "language_info": {
   "codemirror_mode": {
    "name": "ipython",
    "version": 3
   },
   "file_extension": ".py",
   "mimetype": "text/x-python",
   "name": "python",
   "nbconvert_exporter": "python",
   "pygments_lexer": "ipython3",
   "version": "3.7.10"
  }
 },
 "nbformat": 4,
 "nbformat_minor": 5
}
