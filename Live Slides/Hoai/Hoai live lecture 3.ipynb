{
 "cells": [
  {
   "cell_type": "markdown",
   "id": "96b56b71-190d-45c2-ac19-129c890fbad2",
   "metadata": {},
   "source": [
    "# lesson 3"
   ]
  },
  {
   "cell_type": "markdown",
   "id": "a91eecd5-a48a-4f62-bf98-15188aa55a8e",
   "metadata": {},
   "source": [
    "## programming flow"
   ]
  },
  {
   "cell_type": "markdown",
   "id": "3edf1740-b715-40ba-ad3c-a6cef8a5a4a1",
   "metadata": {},
   "source": [
    "- sequential\n",
    "- loop: For, While\n",
    "- condition\n",
    "- function"
   ]
  },
  {
   "cell_type": "markdown",
   "id": "2b0ad4e0-2797-4013-bdcc-e2242ec778dc",
   "metadata": {},
   "source": [
    "### sequential"
   ]
  },
  {
   "cell_type": "code",
   "execution_count": 2,
   "id": "feb5dd1b-f912-4efb-9ec5-1f7f6b440b8d",
   "metadata": {},
   "outputs": [
    {
     "name": "stdout",
     "output_type": "stream",
     "text": [
      "hello\n",
      "everyone\n",
      "so many times\n"
     ]
    }
   ],
   "source": [
    "print('hello')\n",
    "print('everyone')\n",
    "print('so many times')"
   ]
  },
  {
   "cell_type": "markdown",
   "id": "40f01540-9195-4b2d-a201-55c28218336a",
   "metadata": {},
   "source": [
    "- Iteration\n",
    "- For\n",
    "- While"
   ]
  },
  {
   "cell_type": "markdown",
   "id": "4b02fe3a-b293-4fd6-8677-6f11b02a4b68",
   "metadata": {},
   "source": [
    "#### 2.1 For "
   ]
  },
  {
   "cell_type": "markdown",
   "id": "f3628179-346e-4cbb-8582-1e3d64f758c9",
   "metadata": {},
   "source": [
    "''' \n",
    "for value in iterable:\n",
    "business logic\n",
    "'''"
   ]
  },
  {
   "cell_type": "markdown",
   "id": "2063125b-4228-418b-8d2d-2792fc178acb",
   "metadata": {},
   "source": [
    "for index in range(len(iterable)):\n",
    "    business logic"
   ]
  },
  {
   "cell_type": "markdown",
   "id": "823f2304-814a-4816-9100-04e7db18f744",
   "metadata": {},
   "source": [
    "#### 2.2 While"
   ]
  },
  {
   "cell_type": "markdown",
   "id": "08f92a57-656c-4d85-9aa3-cd90c43d838d",
   "metadata": {},
   "source": [
    "while condition (TRue/false):\n",
    "    business logic"
   ]
  },
  {
   "cell_type": "markdown",
   "id": "69429ed1-9747-4b19-8ae5-22b4ed712092",
   "metadata": {},
   "source": [
    "excercise: given a list from 0 to 10, return a new list containing exponentation of each item in the list\n"
   ]
  },
  {
   "cell_type": "markdown",
   "id": "cb306bba-62e8-41de-891f-76b5d3e2a841",
   "metadata": {},
   "source": [
    "list(range(20))"
   ]
  },
  {
   "cell_type": "code",
   "execution_count": null,
   "id": "28b6529c-4193-438d-8504-347cbc736b9b",
   "metadata": {},
   "outputs": [],
   "source": []
  }
 ],
 "metadata": {
  "kernelspec": {
   "display_name": "Python 3",
   "language": "python",
   "name": "python3"
  },
  "language_info": {
   "codemirror_mode": {
    "name": "ipython",
    "version": 3
   },
   "file_extension": ".py",
   "mimetype": "text/x-python",
   "name": "python",
   "nbconvert_exporter": "python",
   "pygments_lexer": "ipython3",
   "version": "3.7.10"
  }
 },
 "nbformat": 4,
 "nbformat_minor": 5
}
