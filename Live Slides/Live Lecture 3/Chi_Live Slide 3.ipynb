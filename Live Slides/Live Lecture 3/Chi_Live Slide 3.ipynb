{
 "cells": [
  {
   "cell_type": "markdown",
   "id": "d4ccb5c0-1c5d-4d06-959f-15912f6e68a6",
   "metadata": {},
   "source": [
    "###Lesson3"
   ]
  },
  {
   "cell_type": "code",
   "execution_count": null,
   "id": "8b7b0f65-b23a-4291-ac97-d47a3c08bec7",
   "metadata": {},
   "outputs": [],
   "source": []
  }
 ],
 "metadata": {
  "kernelspec": {
   "display_name": "Python 3",
   "language": "python",
   "name": "python3"
  },
  "language_info": {
   "codemirror_mode": {
    "name": "ipython",
    "version": 3
   },
   "file_extension": ".py",
   "mimetype": "text/x-python",
   "name": "python",
   "nbconvert_exporter": "python",
   "pygments_lexer": "ipython3",
   "version": "3.7.10"
  }
 },
 "nbformat": 4,
 "nbformat_minor": 5
}
