{
 "cells": [
  {
   "cell_type": "markdown",
   "id": "c3fd8b51-41c0-49a5-9d4e-6d17fc289080",
   "metadata": {},
   "source": [
    "## bài 3\n"
   ]
  },
  {
   "cell_type": "markdown",
   "id": "b1fd0aa1-4ee9-4c10-9921-7977db84335f",
   "metadata": {},
   "source": [
    "### bài 3 test"
   ]
  },
  {
   "cell_type": "markdown",
   "id": "29b52ca4-91f6-4c2b-84b9-833d2bb9d852",
   "metadata": {},
   "source": [
    "# Progaramming Flow"
   ]
  },
  {
   "cell_type": "markdown",
   "id": "0af6601e-fd5a-4070-a049-955fcf995f16",
   "metadata": {},
   "source": [
    "- Seqential\n",
    "- Loop : For, while ...\n",
    "- Condition : If else esle\n",
    "- Funtion"
   ]
  },
  {
   "cell_type": "markdown",
   "id": "9b08cbe1-5633-4054-9fe0-1f38aba9666f",
   "metadata": {},
   "source": [
    "## 1 . Sequential"
   ]
  },
  {
   "cell_type": "code",
   "execution_count": 1,
   "id": "936bc915-ca6f-42ee-add9-f3be2cd59381",
   "metadata": {},
   "outputs": [
    {
     "name": "stdout",
     "output_type": "stream",
     "text": [
      "everyone\n",
      "Hello\n",
      "!\n"
     ]
    }
   ],
   "source": [
    "print ('everyone')\n",
    "print ('Hello')\n",
    "print ('!')"
   ]
  },
  {
   "cell_type": "markdown",
   "id": "2a2ec912-d157-46ee-9e37-f46cd49b04f3",
   "metadata": {},
   "source": [
    "## 2 . Loop"
   ]
  },
  {
   "cell_type": "markdown",
   "id": "adeef077-8b80-4da2-ab6f-712ffcf3bbc5",
   "metadata": {},
   "source": [
    "- Iteration\n",
    "- For\n",
    "- wwhile"
   ]
  },
  {
   "cell_type": "markdown",
   "id": "043add88-6e53-4a77-accd-83a7ed05be56",
   "metadata": {},
   "source": [
    "## 2.1 For\n"
   ]
  },
  {
   "cell_type": "markdown",
   "id": "db684db1-ef5a-487f-9ce1-7aa833a1bdc4",
   "metadata": {},
   "source": [
    "```\n",
    "for value in interable:\n",
    "    bussiness logic #indent\n",
    "```"
   ]
  },
  {
   "cell_type": "markdown",
   "id": "8de29fc3-43e1-4b20-b08a-7590794f166b",
   "metadata": {},
   "source": [
    "```\n",
    "for index in range(len(interablr)):\n",
    "    bussiness logic\n",
    "```\n"
   ]
  },
  {
   "cell_type": "code",
   "execution_count": 2,
   "id": "cc4f8312-cdf1-4488-8409-274e6e76cfb2",
   "metadata": {},
   "outputs": [
    {
     "data": {
      "text/plain": [
       "[0, 1, 2, 3, 4, 5, 6, 7, 8, 9]"
      ]
     },
     "execution_count": 2,
     "metadata": {},
     "output_type": "execute_result"
    }
   ],
   "source": [
    "list (range(10)) # (inclusive ) -> 0 -> 9"
   ]
  },
  {
   "cell_type": "code",
   "execution_count": 3,
   "id": "9c3559ad-8f09-410b-b83c-3e53c51823c7",
   "metadata": {},
   "outputs": [
    {
     "data": {
      "text/plain": [
       "[2, 3, 4, 5, 6, 7, 8, 9]"
      ]
     },
     "execution_count": 3,
     "metadata": {},
     "output_type": "execute_result"
    }
   ],
   "source": [
    "list(range(2,10))"
   ]
  },
  {
   "cell_type": "code",
   "execution_count": 4,
   "id": "6feadf73-1f0e-48a9-87dc-0f8438b264f1",
   "metadata": {},
   "outputs": [
    {
     "data": {
      "text/plain": [
       "[2, 4, 6, 8]"
      ]
     },
     "execution_count": 4,
     "metadata": {},
     "output_type": "execute_result"
    }
   ],
   "source": [
    "list(range(2,10,2))"
   ]
  },
  {
   "cell_type": "code",
   "execution_count": 10,
   "id": "6483392f-b27a-4577-8455-e81aedfaed9b",
   "metadata": {},
   "outputs": [
    {
     "data": {
      "text/plain": [
       "4"
      ]
     },
     "execution_count": 10,
     "metadata": {},
     "output_type": "execute_result"
    }
   ],
   "source": [
    "len(range(2,10,2))"
   ]
  },
  {
   "cell_type": "code",
   "execution_count": 5,
   "id": "d0fccbb7-a3e6-45d6-9d1a-cd0b45ab1441",
   "metadata": {},
   "outputs": [],
   "source": [
    "# Casting (Ép Kiểu)\n",
    "a = '1'"
   ]
  },
  {
   "cell_type": "code",
   "execution_count": 6,
   "id": "b57f8237-5873-4f4d-8252-77f822cbd981",
   "metadata": {},
   "outputs": [
    {
     "data": {
      "text/plain": [
       "str"
      ]
     },
     "execution_count": 6,
     "metadata": {},
     "output_type": "execute_result"
    }
   ],
   "source": [
    "type (a)"
   ]
  },
  {
   "cell_type": "code",
   "execution_count": 8,
   "id": "bc684d9f-ba11-4c8e-a2a9-42d69a7ada7e",
   "metadata": {},
   "outputs": [
    {
     "data": {
      "text/plain": [
       "'11'"
      ]
     },
     "execution_count": 8,
     "metadata": {},
     "output_type": "execute_result"
    }
   ],
   "source": [
    "a*2"
   ]
  },
  {
   "cell_type": "code",
   "execution_count": 9,
   "id": "b954648c-d9e5-4dfb-a30e-5e5ab013ff5e",
   "metadata": {},
   "outputs": [
    {
     "data": {
      "text/plain": [
       "2"
      ]
     },
     "execution_count": 9,
     "metadata": {},
     "output_type": "execute_result"
    }
   ],
   "source": [
    "int(a)*2"
   ]
  },
  {
   "cell_type": "markdown",
   "id": "e606b77e-0f9b-48cc-b022-f550a4a92f6c",
   "metadata": {},
   "source": [
    "- int()\n",
    "- float()\n",
    "- str()\n",
    "..."
   ]
  },
  {
   "cell_type": "markdown",
   "id": "1da3f64f-5f2e-4596-b47c-547726348733",
   "metadata": {},
   "source": [
    "Ex 1: Cho 1 list từ 0 tới 10, đưa ra 1 list mới là bình phương các số trong list đó."
   ]
  },
  {
   "cell_type": "code",
   "execution_count": 19,
   "id": "08ef4c15-8ad3-4d04-927c-9b7d5913a7f8",
   "metadata": {},
   "outputs": [
    {
     "data": {
      "text/plain": [
       "[0, 1, 2, 3, 4, 5, 6, 7, 8, 9, 10]"
      ]
     },
     "execution_count": 19,
     "metadata": {},
     "output_type": "execute_result"
    }
   ],
   "source": [
    "li = list(range(11))\n",
    "li"
   ]
  },
  {
   "cell_type": "code",
   "execution_count": 20,
   "id": "d8ad0c28-4666-4a70-af94-b7dc2aef7e2b",
   "metadata": {},
   "outputs": [],
   "source": [
    "li1 = [] # empty list\n",
    "for val in li:\n",
    "# print(val,val**2)\n",
    "    li1.append(val**2)"
   ]
  },
  {
   "cell_type": "code",
   "execution_count": 21,
   "id": "99fc55f9-bcab-4509-849e-70c69728df95",
   "metadata": {},
   "outputs": [
    {
     "data": {
      "text/plain": [
       "[0, 1, 4, 9, 16, 25, 36, 49, 64, 81, 100]"
      ]
     },
     "execution_count": 21,
     "metadata": {},
     "output_type": "execute_result"
    }
   ],
   "source": [
    "li1"
   ]
  },
  {
   "cell_type": "code",
   "execution_count": 23,
   "id": "24fc1651-7e9f-4fe4-b185-7dc94cb083de",
   "metadata": {},
   "outputs": [],
   "source": [
    "li2 = []\n",
    "for idx in range(len(li)):\n",
    "    li2.append(li[idx]**2)\n"
   ]
  },
  {
   "cell_type": "code",
   "execution_count": 24,
   "id": "5e68a946-49fd-4e20-abe6-6ea976402d3d",
   "metadata": {},
   "outputs": [
    {
     "data": {
      "text/plain": [
       "[0, 1, 2, 3, 4, 5, 6, 7, 8, 9, 10]"
      ]
     },
     "execution_count": 24,
     "metadata": {},
     "output_type": "execute_result"
    }
   ],
   "source": [
    "list(range(len(li)))"
   ]
  },
  {
   "cell_type": "markdown",
   "id": "24b52764-86df-4174-8227-a1fe5f19e7c1",
   "metadata": {},
   "source": [
    "Ex 2, Tính giai thừa của n số nguyên dương\n"
   ]
  },
  {
   "cell_type": "code",
   "execution_count": 25,
   "id": "d6f3dba1-31d6-4e3a-9819-38fe20c86835",
   "metadata": {},
   "outputs": [
    {
     "name": "stdin",
     "output_type": "stream",
     "text": [
      "Nhập số nguyên dương n =  8\n"
     ]
    },
    {
     "name": "stdout",
     "output_type": "stream",
     "text": [
      "Giai thừa của 8 là 40320\n"
     ]
    }
   ],
   "source": [
    "def tinhgiaithua(n):\n",
    "    giai_thua = 1;\n",
    "    if (n == 0 or n == 1):\n",
    "        return giai_thua;\n",
    "    else:\n",
    "        for i in range(2, n + 1):\n",
    "            giai_thua = giai_thua * i;\n",
    "        return giai_thua;\n",
    " \n",
    "n = int(input(\"Nhập số nguyên dương n = \"));\n",
    "print(\"Giai thừa của\", n, \"là\", tinhgiaithua(n));"
   ]
  },
  {
   "cell_type": "code",
   "execution_count": 26,
   "id": "5ab7e331-3eaf-4050-94c5-cd2e7eb59409",
   "metadata": {},
   "outputs": [
    {
     "data": {
      "text/plain": [
       "[2, 3, 4, 5, 6, 7]"
      ]
     },
     "execution_count": 26,
     "metadata": {},
     "output_type": "execute_result"
    }
   ],
   "source": [
    "li3 = list(range(2,n))\n",
    "li3"
   ]
  },
  {
   "cell_type": "code",
   "execution_count": null,
   "id": "a903c2b6-2fee-4247-879b-37530b35fc8e",
   "metadata": {},
   "outputs": [],
   "source": []
  },
  {
   "cell_type": "code",
   "execution_count": null,
   "id": "da5f4435-9788-4511-81d2-f2f83341dfda",
   "metadata": {},
   "outputs": [],
   "source": []
  },
  {
   "cell_type": "code",
   "execution_count": null,
   "id": "45366f31-dfa2-4423-b991-5edafd68534b",
   "metadata": {},
   "outputs": [],
   "source": []
  },
  {
   "cell_type": "code",
   "execution_count": null,
   "id": "592240cc-533d-4bb2-baa7-71552d272fd8",
   "metadata": {},
   "outputs": [],
   "source": []
  },
  {
   "cell_type": "code",
   "execution_count": null,
   "id": "d08e7381-e51f-4111-930f-71a0548c2cc3",
   "metadata": {},
   "outputs": [],
   "source": []
  },
  {
   "cell_type": "markdown",
   "id": "ca7bd906-b0ad-490f-92ce-8a754098c16e",
   "metadata": {},
   "source": [
    "## 2.2 While"
   ]
  },
  {
   "cell_type": "markdown",
   "id": "dbb6ee83-7801-4f3a-9490-39914cdd6890",
   "metadata": {},
   "source": [
    "```\n",
    "while condition (True/False):\n",
    "    bussiness logic\n",
    "```"
   ]
  },
  {
   "cell_type": "code",
   "execution_count": 27,
   "id": "9d4f75da-08ed-4092-8c4a-69000b0fd773",
   "metadata": {},
   "outputs": [],
   "source": [
    "a = 4\n",
    "i = 0\n"
   ]
  },
  {
   "cell_type": "code",
   "execution_count": null,
   "id": "205d7051-eda7-4467-9bcb-1a037236e1fa",
   "metadata": {},
   "outputs": [],
   "source": [
    "a, i = 4, 0"
   ]
  },
  {
   "cell_type": "code",
   "execution_count": 28,
   "id": "6a331395-3da9-4f12-afae-b507af6169b6",
   "metadata": {},
   "outputs": [
    {
     "name": "stdout",
     "output_type": "stream",
     "text": [
      "Hello 0\n",
      "Hello 1\n",
      "Hello 2\n",
      "Hello 3\n"
     ]
    }
   ],
   "source": [
    "while i<a:\n",
    "    print(f\"Hello {i}\")\n",
    "    i += 1"
   ]
  },
  {
   "cell_type": "markdown",
   "id": "7bf98081-39d1-439e-82a1-79385482c621",
   "metadata": {},
   "source": [
    "**String format**"
   ]
  },
  {
   "cell_type": "code",
   "execution_count": 29,
   "id": "9e5e87a8-e7d1-4098-ae7e-496562ffbd18",
   "metadata": {},
   "outputs": [],
   "source": [
    "a= 'MCI'\n",
    "b= 'Lesoon 3'"
   ]
  },
  {
   "cell_type": "code",
   "execution_count": 30,
   "id": "3b7d09eb-43f0-4f0d-bce5-ff149a76cf3a",
   "metadata": {},
   "outputs": [
    {
     "name": "stdout",
     "output_type": "stream",
     "text": [
      "Hello MCI Lesoon 3\n"
     ]
    }
   ],
   "source": [
    "print('Hello MCI Lesoon 3')"
   ]
  },
  {
   "cell_type": "code",
   "execution_count": 33,
   "id": "0f0635f3-742a-4005-b7f9-972a7cb9942a",
   "metadata": {},
   "outputs": [],
   "source": [
    "a  = 'unicon'"
   ]
  },
  {
   "cell_type": "code",
   "execution_count": 38,
   "id": "a11af79a-0456-4c9e-8b4d-de0621622603",
   "metadata": {},
   "outputs": [
    {
     "name": "stdout",
     "output_type": "stream",
     "text": [
      "Hello unicon\n"
     ]
    }
   ],
   "source": [
    "print('Hello {}' .format(a))"
   ]
  },
  {
   "cell_type": "code",
   "execution_count": 40,
   "id": "5a88ec16-7d1a-4e43-9ce6-9ed363d795fd",
   "metadata": {},
   "outputs": [
    {
     "name": "stdout",
     "output_type": "stream",
     "text": [
      "Hello  unicon\n"
     ]
    }
   ],
   "source": [
    "print( f'Hello  {a}') # f -> format"
   ]
  },
  {
   "cell_type": "code",
   "execution_count": 36,
   "id": "12ecda44-1853-4060-a575-528f88fdcd53",
   "metadata": {},
   "outputs": [
    {
     "name": "stdout",
     "output_type": "stream",
     "text": [
      "Hello unicon\n"
     ]
    }
   ],
   "source": [
    "print('Hello %s' %(a)) # %s -> string, %d ->"
   ]
  },
  {
   "cell_type": "markdown",
   "id": "b190e955-d8c3-4578-9252-a5a0ccf0c29b",
   "metadata": {},
   "source": [
    "Ex 3, Tính giai thừa của n số nguyên dương\n",
    "\n"
   ]
  },
  {
   "cell_type": "code",
   "execution_count": 44,
   "id": "26ae5404-2255-41e1-98d2-20ad9e32dcbb",
   "metadata": {},
   "outputs": [
    {
     "name": "stdout",
     "output_type": "stream",
     "text": [
      "40320\n"
     ]
    }
   ],
   "source": [
    "fac = 1\n",
    "i = 1\n",
    "while i < n+1:\n",
    "    fac *=i\n",
    "    i +=1\n",
    "print(fac)"
   ]
  },
  {
   "cell_type": "markdown",
   "id": "c8974f99-b5ba-474c-b433-9b73fe9776b4",
   "metadata": {},
   "source": [
    "## 3. Condition\n"
   ]
  },
  {
   "cell_type": "markdown",
   "id": "e1528931-595f-4e2e-806d-d6f5a321093b",
   "metadata": {},
   "source": [
    "```\n",
    "if condition(True/False):\n",
    "    bussinisse logic\n",
    "elif condition(True/False): # optional\n",
    "    bussinisse logic\n",
    "elif condition(True/False): # optional\n",
    "   bussinisse logic\n",
    "elif condition(True/False): # optional\n",
    "    bussinisse logic\n",
    "    ....\n",
    "else: \n",
    "    bussiness logic #-> optional\n",
    "```"
   ]
  },
  {
   "cell_type": "code",
   "execution_count": 45,
   "id": "90497cc1-8cbd-4638-9665-c8b7ccb83444",
   "metadata": {},
   "outputs": [],
   "source": [
    "x = 1\n",
    "y = 3\n"
   ]
  },
  {
   "cell_type": "code",
   "execution_count": 48,
   "id": "2d52b556-4f62-4dcf-8c55-ca8101de573f",
   "metadata": {},
   "outputs": [
    {
     "name": "stdout",
     "output_type": "stream",
     "text": [
      "x is smaller than y\n"
     ]
    }
   ],
   "source": [
    "if x < y:\n",
    "    print(\"x is smaller than y\") # ignore becase condition is false\n",
    "elif x > y:\n",
    "    print(\"x is larger than y\")\n",
    "else:\n",
    "    print(\"x is equal to y\")"
   ]
  },
  {
   "cell_type": "markdown",
   "id": "5dc1b6d9-184d-461e-8724-a62bfb8abc4e",
   "metadata": {},
   "source": [
    "## 4. Function (user - defined)"
   ]
  },
  {
   "cell_type": "markdown",
   "id": "0f89c6ee-0849-4ce7-93ba-2ba756b1ce15",
   "metadata": {},
   "source": [
    "```\n",
    "def function_name(arg1, arg2, ...):\n",
    "    bussinisse logic\n",
    "    return # -> optional\n",
    "```"
   ]
  },
  {
   "cell_type": "markdown",
   "id": "5d9aaeb6-4965-46e8-b6de-e34fe1db4ca7",
   "metadata": {},
   "source": [
    "- Built-in function: len(),range()\n",
    "- User-defined function"
   ]
  },
  {
   "cell_type": "code",
   "execution_count": 49,
   "id": "72078e05-122c-486a-9814-ff5fb63c2593",
   "metadata": {},
   "outputs": [
    {
     "data": {
      "text/plain": [
       "3"
      ]
     },
     "execution_count": 49,
     "metadata": {},
     "output_type": "execute_result"
    }
   ],
   "source": [
    "li = (1,2,3)\n",
    "len(li)"
   ]
  },
  {
   "cell_type": "markdown",
   "id": "efb73e98-5feb-414c-b0c2-d20734f22b55",
   "metadata": {},
   "source": [
    "Ex 4, Viết lại hàm lenght của usug def"
   ]
  },
  {
   "cell_type": "code",
   "execution_count": null,
   "id": "0fc634e6-a370-48cc-b5fb-90906fe53c9d",
   "metadata": {},
   "outputs": [],
   "source": [
    "def do_dai_chuoi(n):\n",
    "    "
   ]
  },
  {
   "cell_type": "code",
   "execution_count": 51,
   "id": "6978e4e1-48ef-4fd0-a27d-e18f3cd7c180",
   "metadata": {},
   "outputs": [],
   "source": [
    "def findLength(n):\n",
    "    count = 0\n",
    "    for i in n:\n",
    "        count+= 1\n",
    "    return count\n"
   ]
  },
  {
   "cell_type": "code",
   "execution_count": 53,
   "id": "f4e33392-3ec9-4055-9a58-6ceaf608e843",
   "metadata": {},
   "outputs": [],
   "source": [
    "def findLength(n):\n",
    "    count = 0\n",
    "    for _ in n:\n",
    "        count+= 1\n",
    "    return count"
   ]
  },
  {
   "cell_type": "code",
   "execution_count": null,
   "id": "4d5f425e-3a57-43d3-a24c-c80e3d98348f",
   "metadata": {},
   "outputs": [],
   "source": [
    "EX 5: Sum() , Average() "
   ]
  },
  {
   "cell_type": "markdown",
   "id": "c8169664-3d68-4779-a0b8-8d6cee674104",
   "metadata": {},
   "source": [
    "**Anonymous Function (no name)**"
   ]
  },
  {
   "cell_type": "code",
   "execution_count": 57,
   "id": "80a59a55-2609-4d27-949d-72963077c660",
   "metadata": {},
   "outputs": [],
   "source": [
    "def expo1(x):\n",
    "    return x**2"
   ]
  },
  {
   "cell_type": "code",
   "execution_count": 58,
   "id": "7aa73a7a-480d-454d-a952-9ace78cc8bc9",
   "metadata": {},
   "outputs": [
    {
     "data": {
      "text/plain": [
       "25"
      ]
     },
     "execution_count": 58,
     "metadata": {},
     "output_type": "execute_result"
    }
   ],
   "source": [
    "expo1(5)"
   ]
  },
  {
   "cell_type": "code",
   "execution_count": null,
   "id": "74de3f5b-020d-4e54-98d8-f137c5dae1ac",
   "metadata": {},
   "outputs": [],
   "source": []
  },
  {
   "cell_type": "code",
   "execution_count": 55,
   "id": "8403b1cd-775b-496b-857a-41a460928883",
   "metadata": {},
   "outputs": [],
   "source": [
    "expo = lambda x : x**2\n"
   ]
  },
  {
   "cell_type": "code",
   "execution_count": 56,
   "id": "8e05de2a-c5e8-4816-b8f0-c208e3f65fe1",
   "metadata": {},
   "outputs": [
    {
     "data": {
      "text/plain": [
       "4"
      ]
     },
     "execution_count": 56,
     "metadata": {},
     "output_type": "execute_result"
    }
   ],
   "source": [
    "expo(2)"
   ]
  },
  {
   "cell_type": "code",
   "execution_count": null,
   "id": "1a6420c5-0a13-44e2-9103-28612112368b",
   "metadata": {},
   "outputs": [],
   "source": [
    "\n",
    "\n",
    "\n",
    "\n",
    "\n"
   ]
  },
  {
   "cell_type": "markdown",
   "id": "236dfc33-3412-4cc8-ad5a-c73e5e37edeb",
   "metadata": {},
   "source": [
    "## 5. Comprehension\n"
   ]
  },
  {
   "cell_type": "code",
   "execution_count": 60,
   "id": "e541be66-ed0e-4db8-9dea-52330e6e54e1",
   "metadata": {},
   "outputs": [
    {
     "data": {
      "text/plain": [
       "[1, 4, 9]"
      ]
     },
     "execution_count": 60,
     "metadata": {},
     "output_type": "execute_result"
    }
   ],
   "source": [
    "li = (1, 2, 3)\n",
    "li2 = []\n",
    "for i in li:\n",
    "    li2.append(i**2)\n",
    "li2"
   ]
  },
  {
   "cell_type": "code",
   "execution_count": 61,
   "id": "9ef79c45-f010-4315-a7a5-37e9f8ac4372",
   "metadata": {},
   "outputs": [
    {
     "data": {
      "text/plain": [
       "[1, 4, 9]"
      ]
     },
     "execution_count": 61,
     "metadata": {},
     "output_type": "execute_result"
    }
   ],
   "source": [
    "li3 = [i**2 for i in li]\n",
    "li3"
   ]
  },
  {
   "cell_type": "code",
   "execution_count": 62,
   "id": "da70fa0f-1425-4ba0-851c-bc240a21a872",
   "metadata": {},
   "outputs": [
    {
     "data": {
      "text/plain": [
       "list"
      ]
     },
     "execution_count": 62,
     "metadata": {},
     "output_type": "execute_result"
    }
   ],
   "source": [
    "type(li3)"
   ]
  },
  {
   "cell_type": "markdown",
   "id": "5e7509f0-f6bb-4b60-b1e5-8cb5689d907c",
   "metadata": {},
   "source": [
    "ex 6, Return a list contaning odd numbers given original list"
   ]
  },
  {
   "cell_type": "code",
   "execution_count": 65,
   "id": "fd3c584a-971f-45e7-90b8-059f013775f7",
   "metadata": {},
   "outputs": [],
   "source": [
    "li = (1,2,3,4,5,6,7)"
   ]
  },
  {
   "cell_type": "code",
   "execution_count": 66,
   "id": "f84beb7b-ef7e-4136-bda6-684343c39eab",
   "metadata": {},
   "outputs": [
    {
     "data": {
      "text/plain": [
       "[1, 3, 5, 7]"
      ]
     },
     "execution_count": 66,
     "metadata": {},
     "output_type": "execute_result"
    }
   ],
   "source": [
    "li2 = [i for i in li if i%2 ==1]\n",
    "li2"
   ]
  },
  {
   "cell_type": "code",
   "execution_count": 64,
   "id": "b9916d26-5267-49d7-b15d-6746001fe087",
   "metadata": {},
   "outputs": [
    {
     "data": {
      "text/plain": [
       "(1, 2, 3, 4, 5, 6, 7)"
      ]
     },
     "execution_count": 64,
     "metadata": {},
     "output_type": "execute_result"
    }
   ],
   "source": [
    "li = (1,2,3,4,5,6,7)\n",
    "li"
   ]
  },
  {
   "cell_type": "code",
   "execution_count": 68,
   "id": "82ef2349-6213-41cf-b213-5e9a8620a0d8",
   "metadata": {},
   "outputs": [
    {
     "data": {
      "text/plain": [
       "[1, 2, 9, 4, 25, 6, 49]"
      ]
     },
     "execution_count": 68,
     "metadata": {},
     "output_type": "execute_result"
    }
   ],
   "source": [
    "li3 = [i**2 if i%2 ==1 else i for i in li ]\n",
    "li3"
   ]
  },
  {
   "cell_type": "code",
   "execution_count": null,
   "id": "7bc035e6-7dfb-4465-b888-115470d134df",
   "metadata": {},
   "outputs": [],
   "source": []
  }
 ],
 "metadata": {
  "kernelspec": {
   "display_name": "Python 3",
   "language": "python",
   "name": "python3"
  },
  "language_info": {
   "codemirror_mode": {
    "name": "ipython",
    "version": 3
   },
   "file_extension": ".py",
   "mimetype": "text/x-python",
   "name": "python",
   "nbconvert_exporter": "python",
   "pygments_lexer": "ipython3",
   "version": "3.7.10"
  }
 },
 "nbformat": 4,
 "nbformat_minor": 5
}
