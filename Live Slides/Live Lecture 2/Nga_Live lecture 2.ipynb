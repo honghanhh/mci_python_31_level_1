{
 "cells": [
  {
   "cell_type": "markdown",
   "id": "ea2f4e53-b5e0-4eca-96e3-6fde1cefa506",
   "metadata": {},
   "source": [
    "# PYTHON"
   ]
  },
  {
   "cell_type": "markdown",
   "id": "1b8607e0-a742-4edb-aec7-6f4cf8e87f10",
   "metadata": {},
   "source": [
    "- Interpreter (Python): viết câu lệnh đến đâu chạy chương trình đến đấy (ngôn ngữ thông dịch)\n",
    "- Compiler (C, C++, Java): viết câu lệnh hết rồi mới chạy chương trình (ngôn ngữ biên dịch)  "
   ]
  },
  {
   "cell_type": "code",
   "execution_count": 3,
   "id": "475f4151-22f5-442c-920a-0722780de553",
   "metadata": {},
   "outputs": [
    {
     "name": "stdout",
     "output_type": "stream",
     "text": [
      "Hello, world!\n"
     ]
    }
   ],
   "source": [
    "print('Hello, world!')"
   ]
  },
  {
   "cell_type": "code",
   "execution_count": 4,
   "id": "aa69ed91-c150-4b30-9beb-4afc42c5aa68",
   "metadata": {},
   "outputs": [
    {
     "name": "stdout",
     "output_type": "stream",
     "text": [
      "Hello, world!\n"
     ]
    }
   ],
   "source": [
    "print('Hello, world!') #return+ shift for MacOS, enter+shift => Comment"
   ]
  },
  {
   "cell_type": "markdown",
   "id": "4f36094e-e6f7-4297-8556-37c14abfe335",
   "metadata": {},
   "source": [
    "Comment 1: What is Python?"
   ]
  },
  {
   "cell_type": "code",
   "execution_count": 5,
   "id": "d6b11d56-d2ef-48e7-b05e-a4e93727db2a",
   "metadata": {},
   "outputs": [
    {
     "name": "stdout",
     "output_type": "stream",
     "text": [
      "MCI Python Lesson 2\n"
     ]
    }
   ],
   "source": [
    "# Comment\n",
    "print('MCI Python Lesson 2')"
   ]
  },
  {
   "cell_type": "markdown",
   "id": "a16f2bc6-d611-4121-b4b9-1476be3a7ad9",
   "metadata": {},
   "source": [
    "#### *Cách ghi comment ghi chú\n",
    "- Comment dòng nào thì phải để dấu # ở trước dòng đấy, Hoặc gõ 3 dấu ```\n",
    "- Cái này dùng để comment, ghi chú cho dễ nhớ khi đang code, vì tất cả những cái xuất hiện sau dấu # hoặc ``` sẽ không được hiện ra"
   ]
  },
  {
   "cell_type": "code",
   "execution_count": 9,
   "id": "e5e1e3a4-29e3-4df6-96b9-1c516a423919",
   "metadata": {},
   "outputs": [
    {
     "name": "stdout",
     "output_type": "stream",
     "text": [
      "MCI Python Lesson 2\n"
     ]
    }
   ],
   "source": [
    "# Comment 1\n",
    "# Comment 2\n",
    "\"\"\"\n",
    "Test\n",
    "for comment\n",
    "\"\"\"\n",
    "'''\n",
    "Today\n",
    "is \n",
    "weekend!\n",
    "Everyone \n",
    "is \n",
    "happy\n",
    "'''\n",
    "print('MCI Python Lesson 2')\n"
   ]
  },
  {
   "cell_type": "markdown",
   "id": "4e5db5cb-7ec7-4dbe-9cd9-73e557206528",
   "metadata": {},
   "source": [
    "## 1. Variable"
   ]
  },
  {
   "cell_type": "code",
   "execution_count": 11,
   "id": "bd7352d8-201a-44b5-ac4f-3b3ccde0700f",
   "metadata": {},
   "outputs": [
    {
     "data": {
      "text/plain": [
       "2"
      ]
     },
     "execution_count": 11,
     "metadata": {},
     "output_type": "execute_result"
    }
   ],
   "source": [
    "1+1"
   ]
  },
  {
   "cell_type": "code",
   "execution_count": 15,
   "id": "afa794f8-9c90-46c5-ba3f-f8e639517107",
   "metadata": {},
   "outputs": [],
   "source": [
    "int_number = 1+1 # variable_name = value"
   ]
  },
  {
   "cell_type": "code",
   "execution_count": 16,
   "id": "95d20e35-6e0c-411f-825b-5f2a11e082ae",
   "metadata": {},
   "outputs": [
    {
     "data": {
      "text/plain": [
       "2"
      ]
     },
     "execution_count": 16,
     "metadata": {},
     "output_type": "execute_result"
    }
   ],
   "source": [
    "int_number"
   ]
  },
  {
   "cell_type": "code",
   "execution_count": 17,
   "id": "56a51509-70c5-41c8-829c-5277dac19bfb",
   "metadata": {},
   "outputs": [
    {
     "data": {
      "text/plain": [
       "int"
      ]
     },
     "execution_count": 17,
     "metadata": {},
     "output_type": "execute_result"
    }
   ],
   "source": [
    "type(int_number) #integer"
   ]
  },
  {
   "cell_type": "code",
   "execution_count": 18,
   "id": "4ed7fdc1-6593-4dc8-ad7d-9cc4f5ffd992",
   "metadata": {},
   "outputs": [],
   "source": [
    "f_number = 3.14 # Float number"
   ]
  },
  {
   "cell_type": "code",
   "execution_count": 19,
   "id": "891863da-a793-4b26-bbdb-6913f026cbca",
   "metadata": {},
   "outputs": [
    {
     "data": {
      "text/plain": [
       "float"
      ]
     },
     "execution_count": 19,
     "metadata": {},
     "output_type": "execute_result"
    }
   ],
   "source": [
    "type(f_number)"
   ]
  },
  {
   "cell_type": "code",
   "execution_count": 20,
   "id": "887c423a-2cd4-4259-88bd-cad3dec258fd",
   "metadata": {},
   "outputs": [
    {
     "data": {
      "text/plain": [
       "int"
      ]
     },
     "execution_count": 20,
     "metadata": {},
     "output_type": "execute_result"
    }
   ],
   "source": [
    "# type = 0 #Should not do that\n",
    "type(2)"
   ]
  },
  {
   "cell_type": "markdown",
   "id": "06d95fc3-8ad0-4669-aef6-3fbe9890fdab",
   "metadata": {},
   "source": [
    "#### *Conventions:\n",
    "- Start with characters or underscore (not start with number)\n",
    "- Variable names in python are case-sensitive: Num != NUM != num\n",
    "- Avoid naming variable close to common keyword in Python (e.g: list, ...)"
   ]
  },
  {
   "cell_type": "markdown",
   "id": "7362d6bd-4036-4b8f-acb4-ba298e535aff",
   "metadata": {},
   "source": [
    "## 2. Operation & Operators\n"
   ]
  },
  {
   "cell_type": "markdown",
   "id": "6916c4e5-c44b-4831-b98e-9da51920d596",
   "metadata": {},
   "source": [
    "1+1 =>      +: operation     1: operator"
   ]
  },
  {
   "cell_type": "markdown",
   "id": "c8271835-054c-455b-8b67-79f78b533751",
   "metadata": {},
   "source": [
    "(Để tạo ra một bảng bằng markdown trong python, xếp các cột bằng dấu ||. Mỗi dòng trong bảng phải xuống dòng và chứa đủ số cột ở dòng đầu tiên (header). Ngay dưới dòng header phải cố một dòng |-|-| bằng số cột. Phải tạo markdown riêng, không được gộp với cái khác)"
   ]
  },
  {
   "cell_type": "markdown",
   "id": "cb971046-a8b7-49e3-9da7-93a84fc96eb0",
   "metadata": {},
   "source": [
    "|Operation|Meaning|Examples|\n",
    "|-|-|-|\n",
    "|+|Adding Operator (Cộng)|a+b|\n",
    "|-|Substraction (Trừ)|a-b|\n",
    "|*|Multiplication (Nhân)|a*b|\n",
    "|/|Division (Chia)|a/b|\n",
    "|%|Modulus (Chia lấy số dư)|a%b|\n",
    "|//|Floor division (Chia lấy phần nguyên)|a//b|\n",
    "|**|Exponentation(Lũy thừa)|a**b|"
   ]
  },
  {
   "cell_type": "code",
   "execution_count": 30,
   "id": "a2dc16b1-24d0-4085-8d4e-fd8c670fb092",
   "metadata": {},
   "outputs": [],
   "source": [
    "a = 22\n",
    "b = 10"
   ]
  },
  {
   "cell_type": "code",
   "execution_count": 31,
   "id": "4c54c10f-e50b-4602-a485-3e5f334d4567",
   "metadata": {},
   "outputs": [
    {
     "data": {
      "text/plain": [
       "32"
      ]
     },
     "execution_count": 31,
     "metadata": {},
     "output_type": "execute_result"
    }
   ],
   "source": [
    "a+b"
   ]
  },
  {
   "cell_type": "code",
   "execution_count": 32,
   "id": "5eb502aa-6581-4bd4-886f-66533f78e43d",
   "metadata": {},
   "outputs": [
    {
     "data": {
      "text/plain": [
       "12"
      ]
     },
     "execution_count": 32,
     "metadata": {},
     "output_type": "execute_result"
    }
   ],
   "source": [
    "a-b"
   ]
  },
  {
   "cell_type": "code",
   "execution_count": 33,
   "id": "47737ad5-b315-4e4d-93a3-26dd6b19dcfd",
   "metadata": {},
   "outputs": [
    {
     "data": {
      "text/plain": [
       "220"
      ]
     },
     "execution_count": 33,
     "metadata": {},
     "output_type": "execute_result"
    }
   ],
   "source": [
    "a * b"
   ]
  },
  {
   "cell_type": "code",
   "execution_count": 34,
   "id": "caa4afbe-e26a-47ea-8ec1-5898fd93dff2",
   "metadata": {},
   "outputs": [
    {
     "data": {
      "text/plain": [
       "2.2"
      ]
     },
     "execution_count": 34,
     "metadata": {},
     "output_type": "execute_result"
    }
   ],
   "source": [
    "a/b"
   ]
  },
  {
   "cell_type": "code",
   "execution_count": 36,
   "id": "19e34926-0d9f-4ff6-9f64-247a9c1561b0",
   "metadata": {},
   "outputs": [
    {
     "data": {
      "text/plain": [
       "2"
      ]
     },
     "execution_count": 36,
     "metadata": {},
     "output_type": "execute_result"
    }
   ],
   "source": [
    "a//b"
   ]
  },
  {
   "cell_type": "code",
   "execution_count": 35,
   "id": "3f485f50-114e-4008-8f6c-c0ea11cb491a",
   "metadata": {},
   "outputs": [
    {
     "data": {
      "text/plain": [
       "2"
      ]
     },
     "execution_count": 35,
     "metadata": {},
     "output_type": "execute_result"
    }
   ],
   "source": [
    "a%b"
   ]
  },
  {
   "cell_type": "code",
   "execution_count": 37,
   "id": "44c02ebe-a6f7-4d98-9f70-215f11b4c385",
   "metadata": {},
   "outputs": [
    {
     "data": {
      "text/plain": [
       "26559922791424"
      ]
     },
     "execution_count": 37,
     "metadata": {},
     "output_type": "execute_result"
    }
   ],
   "source": [
    "a**b"
   ]
  },
  {
   "cell_type": "markdown",
   "id": "e2b128a1-ff4f-4cfe-86be-cbf506fe497f",
   "metadata": {},
   "source": [
    "## 3. Logic operations"
   ]
  },
  {
   "cell_type": "markdown",
   "id": "c8b5892d-6f07-4acd-8a7c-76cd95c790d2",
   "metadata": {},
   "source": [
    "- AND: True if all are true\n",
    "- OR: True if at least one is true\n",
    "- NOT: Not true = false, False -> True\n",
    "- XOR: Same value -> False, Else -> True\n",
    "- AND before OR\n",
    "- Ngược giá trị -> False"
   ]
  },
  {
   "cell_type": "code",
   "execution_count": 39,
   "id": "0c22cc27-49a9-45c3-8110-8b71cecb7801",
   "metadata": {},
   "outputs": [
    {
     "data": {
      "text/plain": [
       "True"
      ]
     },
     "execution_count": 39,
     "metadata": {},
     "output_type": "execute_result"
    }
   ],
   "source": [
    "True and True"
   ]
  },
  {
   "cell_type": "code",
   "execution_count": 41,
   "id": "8062bbde-70f5-45a9-98a9-00c32be54fc2",
   "metadata": {},
   "outputs": [
    {
     "data": {
      "text/plain": [
       "True"
      ]
     },
     "execution_count": 41,
     "metadata": {},
     "output_type": "execute_result"
    }
   ],
   "source": [
    "True or False"
   ]
  },
  {
   "cell_type": "code",
   "execution_count": 40,
   "id": "6e130dc2-3140-4091-8dea-1049d4eea1b9",
   "metadata": {},
   "outputs": [
    {
     "data": {
      "text/plain": [
       "True"
      ]
     },
     "execution_count": 40,
     "metadata": {},
     "output_type": "execute_result"
    }
   ],
   "source": [
    "True and False or True and True"
   ]
  },
  {
   "cell_type": "code",
   "execution_count": 42,
   "id": "7ad3100c-6d59-4f97-b59b-a96437c3ace9",
   "metadata": {},
   "outputs": [
    {
     "data": {
      "text/plain": [
       "False"
      ]
     },
     "execution_count": 42,
     "metadata": {},
     "output_type": "execute_result"
    }
   ],
   "source": [
    "True and False"
   ]
  },
  {
   "cell_type": "markdown",
   "id": "c2883e43-7beb-4cb3-a69c-fc6a8ac1a245",
   "metadata": {},
   "source": [
    "## 4. Conditional operations"
   ]
  },
  {
   "cell_type": "markdown",
   "id": "0abceb99-1726-42c6-9b39-bbc4f01bec01",
   "metadata": {},
   "source": [
    "|Operator | Meaning|\n",
    "|-|-|\n",
    "|<| Less than|\n",
    "|>| Greater than|\n",
    "|<=| Less than or equal to|\n",
    "|>=| Greater than or equal to|\n",
    "|==| Equal to |\n",
    "|!= | Not equal to|"
   ]
  },
  {
   "cell_type": "markdown",
   "id": "02b51d99-4e9d-4d29-ac59-303837770133",
   "metadata": {},
   "source": [
    "#### *Note:\n",
    "- = meaning assignment\n",
    "- == meaning comparison"
   ]
  },
  {
   "cell_type": "code",
   "execution_count": 44,
   "id": "858ab1bc-a134-410c-84a6-9dce853e8fa6",
   "metadata": {},
   "outputs": [
    {
     "data": {
      "text/plain": [
       "False"
      ]
     },
     "execution_count": 44,
     "metadata": {},
     "output_type": "execute_result"
    }
   ],
   "source": [
    "1==2"
   ]
  },
  {
   "cell_type": "markdown",
   "id": "fe6dacdd-8bcf-408b-a3dc-4234d2d72983",
   "metadata": {},
   "source": [
    "## 5. Data types"
   ]
  },
  {
   "cell_type": "markdown",
   "id": "626de134-d3d5-4844-bb72-bc40e806ada9",
   "metadata": {},
   "source": [
    "Program = Data structure + Algorithms"
   ]
  },
  {
   "cell_type": "markdown",
   "id": "eb4434cd-32dc-42cd-bb2e-298efc597619",
   "metadata": {},
   "source": [
    "#### *Data types:\n",
    "- Numeric: integer, float, complex,...\n",
    "- String: text, char\n",
    "- Boolean: True/False\n",
    "- Datetime\n",
    "- Nonetype"
   ]
  },
  {
   "cell_type": "code",
   "execution_count": 45,
   "id": "27747a46-d153-46da-b86c-58f2c30cf5eb",
   "metadata": {},
   "outputs": [
    {
     "data": {
      "text/plain": [
       "int"
      ]
     },
     "execution_count": 45,
     "metadata": {},
     "output_type": "execute_result"
    }
   ],
   "source": [
    "type(a)"
   ]
  },
  {
   "cell_type": "code",
   "execution_count": 46,
   "id": "312a8e94-3cd8-4955-a159-e182abc70a42",
   "metadata": {},
   "outputs": [
    {
     "data": {
      "text/plain": [
       "float"
      ]
     },
     "execution_count": 46,
     "metadata": {},
     "output_type": "execute_result"
    }
   ],
   "source": [
    "type(3.14)"
   ]
  },
  {
   "cell_type": "code",
   "execution_count": 47,
   "id": "50678ddb-187d-4d0c-9627-46ec2aed56b9",
   "metadata": {},
   "outputs": [
    {
     "data": {
      "text/plain": [
       "complex"
      ]
     },
     "execution_count": 47,
     "metadata": {},
     "output_type": "execute_result"
    }
   ],
   "source": [
    "type(1+2j)"
   ]
  },
  {
   "cell_type": "code",
   "execution_count": 49,
   "id": "14ff566d-efcf-492a-aaaa-e8bd29df18db",
   "metadata": {},
   "outputs": [
    {
     "data": {
      "text/plain": [
       "str"
      ]
     },
     "execution_count": 49,
     "metadata": {},
     "output_type": "execute_result"
    }
   ],
   "source": [
    "type('Dương Thuý Nga')"
   ]
  },
  {
   "cell_type": "markdown",
   "id": "4fc9816c-4687-4d8d-b35e-03505678acaa",
   "metadata": {},
   "source": [
    "## 6. Data Structures\n",
    "Gồm 2 loại:\n",
    "- Built-in data structures: python có sẵn (e.g: list, dictionary, tuples, set,...)\n",
    "    - List: [], list(), có index\n",
    "    - Tuples: (), tuples(), có index\n",
    "    - Set: {}, set(), non-index, no-duplicated\n",
    "    - Dictionary: {key:value}, no-duplicated\n",
    "- User-defined data structures: người dùng định nghĩa và gọi ra (e.g: stack, queue, tree, linked list, graph, hasmap,...)"
   ]
  },
  {
   "cell_type": "markdown",
   "id": "a1c2123a-0fb6-4f94-b707-145753cac450",
   "metadata": {},
   "source": [
    "### 6.1 List"
   ]
  },
  {
   "cell_type": "code",
   "execution_count": 54,
   "id": "58294954-92d1-4eec-883a-166affcfd1a4",
   "metadata": {},
   "outputs": [],
   "source": [
    "#Creating a list \n",
    "li = [1, 2, 'python', 3.14] #list contains items (Lấy phần tử trong mảng)"
   ]
  },
  {
   "cell_type": "code",
   "execution_count": 55,
   "id": "b168aa54-bd34-4d63-a426-27021d11780a",
   "metadata": {},
   "outputs": [
    {
     "data": {
      "text/plain": [
       "[1, 2, 'python', 3.14]"
      ]
     },
     "execution_count": 55,
     "metadata": {},
     "output_type": "execute_result"
    }
   ],
   "source": [
    "li"
   ]
  },
  {
   "cell_type": "code",
   "execution_count": 57,
   "id": "f5fb2980-0504-4e7e-a577-eddad9c6cb60",
   "metadata": {},
   "outputs": [
    {
     "data": {
      "text/plain": [
       "['__add__',\n",
       " '__class__',\n",
       " '__contains__',\n",
       " '__delattr__',\n",
       " '__delitem__',\n",
       " '__dir__',\n",
       " '__doc__',\n",
       " '__eq__',\n",
       " '__format__',\n",
       " '__ge__',\n",
       " '__getattribute__',\n",
       " '__getitem__',\n",
       " '__gt__',\n",
       " '__hash__',\n",
       " '__iadd__',\n",
       " '__imul__',\n",
       " '__init__',\n",
       " '__init_subclass__',\n",
       " '__iter__',\n",
       " '__le__',\n",
       " '__len__',\n",
       " '__lt__',\n",
       " '__mul__',\n",
       " '__ne__',\n",
       " '__new__',\n",
       " '__reduce__',\n",
       " '__reduce_ex__',\n",
       " '__repr__',\n",
       " '__reversed__',\n",
       " '__rmul__',\n",
       " '__setattr__',\n",
       " '__setitem__',\n",
       " '__sizeof__',\n",
       " '__str__',\n",
       " '__subclasshook__',\n",
       " 'append',\n",
       " 'clear',\n",
       " 'copy',\n",
       " 'count',\n",
       " 'extend',\n",
       " 'index',\n",
       " 'insert',\n",
       " 'pop',\n",
       " 'remove',\n",
       " 'reverse',\n",
       " 'sort']"
      ]
     },
     "execution_count": 57,
     "metadata": {},
     "output_type": "execute_result"
    }
   ],
   "source": [
    "dir(li) #gọi ra các hàm có thể sử dụng với biến li"
   ]
  },
  {
   "cell_type": "code",
   "execution_count": 58,
   "id": "680f8116-9f74-4d8d-8b2c-223b2f3f47e4",
   "metadata": {},
   "outputs": [
    {
     "data": {
      "text/plain": [
       "['append',\n",
       " 'clear',\n",
       " 'copy',\n",
       " 'count',\n",
       " 'extend',\n",
       " 'index',\n",
       " 'insert',\n",
       " 'pop',\n",
       " 'remove',\n",
       " 'reverse',\n",
       " 'sort']"
      ]
     },
     "execution_count": 58,
     "metadata": {},
     "output_type": "execute_result"
    }
   ],
   "source": [
    "[method for method in dir(li) if not method.startswith('_')] \n",
    "\n",
    "#gọi ra các method trong dir(li) không bắt đầu bởi dấu \"_\"\n",
    "#Đây là các hàm sửa trực tiếp giá trị của biến chứ không phải một phép tính thông thường"
   ]
  },
  {
   "cell_type": "code",
   "execution_count": 59,
   "id": "00b0dfb9-60fd-49b5-bde6-13bf1cf88d3c",
   "metadata": {},
   "outputs": [
    {
     "data": {
      "text/plain": [
       "[1, 2, 'python', 3.14, 10]"
      ]
     },
     "execution_count": 59,
     "metadata": {},
     "output_type": "execute_result"
    }
   ],
   "source": [
    "#append dùng để nối dài thêm danh sách\n",
    "li.append(10)\n",
    "li"
   ]
  },
  {
   "cell_type": "markdown",
   "id": "32478598-8e51-42d7-9fc2-376b805acbb6",
   "metadata": {},
   "source": [
    "#### *Note:\n",
    "Để biết một hàm có tác dụng gì, gõ tên hàm ra, rồi nhấn Shift + Tab"
   ]
  },
  {
   "cell_type": "markdown",
   "id": "0b335c67-f6f5-413a-8b21-c1c4975872ea",
   "metadata": {
    "tags": []
   },
   "source": [
    "#### *INDEX:\n",
    "- Là SỐ THỨ TỰ của phần tử trong danh sách:\n",
    "- Khi đếm từ trái sang thì bắt đầu từ 0, tăng dần sang phải\n",
    "- Khi đếm từ phải sang thì bắt đầu từ -1, giảm dần sang trái"
   ]
  },
  {
   "cell_type": "code",
   "execution_count": 61,
   "id": "86d3a054-1690-4357-8738-471ca70b9b58",
   "metadata": {},
   "outputs": [],
   "source": [
    "li.append(12) # shift + tab để xem hàm dùng để làm gì"
   ]
  },
  {
   "cell_type": "code",
   "execution_count": 63,
   "id": "72977ce2-993d-4c33-ae05-fabd85a4dd0f",
   "metadata": {},
   "outputs": [
    {
     "data": {
      "text/plain": [
       "[1, 2, 'python', 3.14, 10, 12]"
      ]
     },
     "execution_count": 63,
     "metadata": {},
     "output_type": "execute_result"
    }
   ],
   "source": [
    "li"
   ]
  },
  {
   "cell_type": "markdown",
   "id": "9dd3a919-f022-48a0-94a3-caba8f7ac142",
   "metadata": {},
   "source": [
    "#### *2 types:\n",
    "- Assign directly to variable and non return (Gán trực tiếp cho biến và không trả về)\n",
    "- Return and need to assign to new variable (Trả về và cần gán cho biến mới)\n"
   ]
  },
  {
   "cell_type": "code",
   "execution_count": 64,
   "id": "170f8319-ce2e-4bab-b218-b78308a6aae3",
   "metadata": {},
   "outputs": [
    {
     "data": {
      "text/plain": [
       "1"
      ]
     },
     "execution_count": 64,
     "metadata": {},
     "output_type": "execute_result"
    }
   ],
   "source": [
    "li[0]"
   ]
  },
  {
   "cell_type": "code",
   "execution_count": 67,
   "id": "c9fba846-cf52-4a95-82e6-2cf4ddcb8f02",
   "metadata": {},
   "outputs": [
    {
     "data": {
      "text/plain": [
       "'python'"
      ]
     },
     "execution_count": 67,
     "metadata": {},
     "output_type": "execute_result"
    }
   ],
   "source": [
    "li[2]"
   ]
  },
  {
   "cell_type": "code",
   "execution_count": 68,
   "id": "c7b7e379-0bd4-4e1b-b5a7-621050564209",
   "metadata": {},
   "outputs": [
    {
     "data": {
      "text/plain": [
       "12"
      ]
     },
     "execution_count": 68,
     "metadata": {},
     "output_type": "execute_result"
    }
   ],
   "source": [
    "li[-1]"
   ]
  },
  {
   "cell_type": "code",
   "execution_count": 69,
   "id": "c500f7ec-0002-43c4-bfb8-c1cbc1d873e3",
   "metadata": {},
   "outputs": [
    {
     "data": {
      "text/plain": [
       "[1, 2, 'python']"
      ]
     },
     "execution_count": 69,
     "metadata": {},
     "output_type": "execute_result"
    }
   ],
   "source": [
    "li[0:3]"
   ]
  },
  {
   "cell_type": "code",
   "execution_count": 72,
   "id": "bdce934b-3970-473e-b3f4-98d64e6f7063",
   "metadata": {},
   "outputs": [
    {
     "data": {
      "text/plain": [
       "['l', 'l', 'o']"
      ]
     },
     "execution_count": 72,
     "metadata": {},
     "output_type": "execute_result"
    }
   ],
   "source": [
    "li[-3:]"
   ]
  },
  {
   "cell_type": "code",
   "execution_count": 73,
   "id": "6198f95f-70ae-491f-b696-8b7604d7a999",
   "metadata": {},
   "outputs": [
    {
     "data": {
      "text/plain": [
       "[1, 2, 'python', 3.14, 10, 12, 'h', 'e', 'l', 'l', 'o']"
      ]
     },
     "execution_count": 73,
     "metadata": {},
     "output_type": "execute_result"
    }
   ],
   "source": [
    "li"
   ]
  },
  {
   "cell_type": "code",
   "execution_count": 81,
   "id": "4b2b9738-f04c-4267-adc1-2f398357f3a7",
   "metadata": {},
   "outputs": [
    {
     "data": {
      "text/plain": [
       "[1, 2, 'python', 3.14, 10, 12, 'e', 'l', 'l', 'o']"
      ]
     },
     "execution_count": 81,
     "metadata": {},
     "output_type": "execute_result"
    }
   ],
   "source": [
    "li.remove('h')\n",
    "li"
   ]
  },
  {
   "cell_type": "code",
   "execution_count": 83,
   "id": "649b6171-caa2-4c8a-ace0-82dfd3f3f757",
   "metadata": {},
   "outputs": [
    {
     "data": {
      "text/plain": [
       "'o'"
      ]
     },
     "execution_count": 83,
     "metadata": {},
     "output_type": "execute_result"
    }
   ],
   "source": [
    "li.pop(-1)"
   ]
  },
  {
   "cell_type": "code",
   "execution_count": 84,
   "id": "9c116d8f-3329-4cff-9870-d69dd8a2131c",
   "metadata": {},
   "outputs": [
    {
     "data": {
      "text/plain": [
       "[1, 2, 'python', 3.14, 10, 12, 'e', 'l', 'l']"
      ]
     },
     "execution_count": 84,
     "metadata": {},
     "output_type": "execute_result"
    }
   ],
   "source": [
    "li"
   ]
  },
  {
   "cell_type": "code",
   "execution_count": 85,
   "id": "5c52faae-6c58-4038-a533-ceab6f4f6643",
   "metadata": {},
   "outputs": [],
   "source": [
    "li.remove(1)"
   ]
  },
  {
   "cell_type": "code",
   "execution_count": 86,
   "id": "17b6a76c-8aaa-46b5-9445-91a1b7629dd5",
   "metadata": {},
   "outputs": [
    {
     "data": {
      "text/plain": [
       "[2, 'python', 3.14, 10, 12, 'e', 'l', 'l']"
      ]
     },
     "execution_count": 86,
     "metadata": {},
     "output_type": "execute_result"
    }
   ],
   "source": [
    "li"
   ]
  },
  {
   "cell_type": "code",
   "execution_count": 87,
   "id": "1e3170a6-54d1-49ff-a6bf-470c7f22fb92",
   "metadata": {},
   "outputs": [],
   "source": [
    "li.append(2)"
   ]
  },
  {
   "cell_type": "code",
   "execution_count": 89,
   "id": "beba65bb-79e7-4f54-842b-35539e333205",
   "metadata": {},
   "outputs": [
    {
     "data": {
      "text/plain": [
       "['python', 3.14, 10, 12, 'e', 'l', 'l', 2]"
      ]
     },
     "execution_count": 89,
     "metadata": {},
     "output_type": "execute_result"
    }
   ],
   "source": [
    "li"
   ]
  },
  {
   "cell_type": "code",
   "execution_count": 90,
   "id": "27d9307d-544b-40d7-be10-7847575be3c6",
   "metadata": {},
   "outputs": [],
   "source": [
    "li.remove(2)"
   ]
  },
  {
   "cell_type": "code",
   "execution_count": 91,
   "id": "db0562e3-c2a2-45d6-a79c-fd6bc275e617",
   "metadata": {},
   "outputs": [
    {
     "data": {
      "text/plain": [
       "['python', 3.14, 10, 12, 'e', 'l', 'l']"
      ]
     },
     "execution_count": 91,
     "metadata": {},
     "output_type": "execute_result"
    }
   ],
   "source": [
    "li"
   ]
  },
  {
   "cell_type": "code",
   "execution_count": 92,
   "id": "f5551107-dca4-4dda-b0b1-729df79023de",
   "metadata": {},
   "outputs": [],
   "source": [
    "li2 = ['chó','mèo']"
   ]
  },
  {
   "cell_type": "code",
   "execution_count": 93,
   "id": "ec4d4d0a-d162-4475-b534-123164706b57",
   "metadata": {},
   "outputs": [],
   "source": [
    "li.extend(li2)"
   ]
  },
  {
   "cell_type": "code",
   "execution_count": 94,
   "id": "5ee2dba3-b648-4071-bf72-4f27d048183c",
   "metadata": {},
   "outputs": [
    {
     "data": {
      "text/plain": [
       "['python', 3.14, 10, 12, 'e', 'l', 'l', 'chó', 'mèo']"
      ]
     },
     "execution_count": 94,
     "metadata": {},
     "output_type": "execute_result"
    }
   ],
   "source": [
    "li"
   ]
  },
  {
   "cell_type": "code",
   "execution_count": 95,
   "id": "611cae7a-f4c3-4238-b6a8-22bee1e95ae1",
   "metadata": {},
   "outputs": [],
   "source": [
    "del  li[0]"
   ]
  },
  {
   "cell_type": "code",
   "execution_count": 96,
   "id": "2cc9484a-6725-4195-9aed-946d6dbb27b9",
   "metadata": {},
   "outputs": [
    {
     "data": {
      "text/plain": [
       "[3.14, 10, 12, 'e', 'l', 'l', 'chó', 'mèo']"
      ]
     },
     "execution_count": 96,
     "metadata": {},
     "output_type": "execute_result"
    }
   ],
   "source": [
    "li"
   ]
  },
  {
   "cell_type": "code",
   "execution_count": 98,
   "id": "7910cc74-b8e5-4e27-bf34-a9ced593bb47",
   "metadata": {},
   "outputs": [
    {
     "data": {
      "text/plain": [
       "0"
      ]
     },
     "execution_count": 98,
     "metadata": {},
     "output_type": "execute_result"
    }
   ],
   "source": [
    "li.count('haha')"
   ]
  },
  {
   "cell_type": "code",
   "execution_count": 99,
   "id": "948a552e-9755-4a42-ad33-c0725378b10d",
   "metadata": {},
   "outputs": [
    {
     "data": {
      "text/plain": [
       "8"
      ]
     },
     "execution_count": 99,
     "metadata": {},
     "output_type": "execute_result"
    }
   ],
   "source": [
    "len(li)"
   ]
  },
  {
   "cell_type": "markdown",
   "id": "9bf3b415-ad4b-4f06-8362-238f214ccbbc",
   "metadata": {},
   "source": [
    "## 6.2 Tuples"
   ]
  },
  {
   "cell_type": "code",
   "execution_count": 100,
   "id": "573896a7-f7d1-46ce-9a88-6d4f18108184",
   "metadata": {},
   "outputs": [],
   "source": [
    "tu = (1, 2, 3, 'Vietnam')"
   ]
  },
  {
   "cell_type": "code",
   "execution_count": 101,
   "id": "76804363-d573-4d00-a850-316b39e57d14",
   "metadata": {},
   "outputs": [
    {
     "data": {
      "text/plain": [
       "(1, 2, 3, 'Vietnam')"
      ]
     },
     "execution_count": 101,
     "metadata": {},
     "output_type": "execute_result"
    }
   ],
   "source": [
    "tu"
   ]
  },
  {
   "cell_type": "code",
   "execution_count": 102,
   "id": "715d6587-41c1-4ef6-ac38-c60681688bd7",
   "metadata": {},
   "outputs": [
    {
     "data": {
      "text/plain": [
       "tuple"
      ]
     },
     "execution_count": 102,
     "metadata": {},
     "output_type": "execute_result"
    }
   ],
   "source": [
    "type(tu)"
   ]
  },
  {
   "cell_type": "code",
   "execution_count": 103,
   "id": "f00add9e-994e-4a8f-be89-0b7ed6a20b30",
   "metadata": {},
   "outputs": [
    {
     "data": {
      "text/plain": [
       "['__add__',\n",
       " '__class__',\n",
       " '__contains__',\n",
       " '__delattr__',\n",
       " '__dir__',\n",
       " '__doc__',\n",
       " '__eq__',\n",
       " '__format__',\n",
       " '__ge__',\n",
       " '__getattribute__',\n",
       " '__getitem__',\n",
       " '__getnewargs__',\n",
       " '__gt__',\n",
       " '__hash__',\n",
       " '__init__',\n",
       " '__init_subclass__',\n",
       " '__iter__',\n",
       " '__le__',\n",
       " '__len__',\n",
       " '__lt__',\n",
       " '__mul__',\n",
       " '__ne__',\n",
       " '__new__',\n",
       " '__reduce__',\n",
       " '__reduce_ex__',\n",
       " '__repr__',\n",
       " '__rmul__',\n",
       " '__setattr__',\n",
       " '__sizeof__',\n",
       " '__str__',\n",
       " '__subclasshook__',\n",
       " 'count',\n",
       " 'index']"
      ]
     },
     "execution_count": 103,
     "metadata": {},
     "output_type": "execute_result"
    }
   ],
   "source": [
    "dir(tu)"
   ]
  },
  {
   "cell_type": "code",
   "execution_count": 104,
   "id": "abf17899-6ea1-4a43-b465-fdf1411bc252",
   "metadata": {},
   "outputs": [
    {
     "data": {
      "text/plain": [
       "['count', 'index']"
      ]
     },
     "execution_count": 104,
     "metadata": {},
     "output_type": "execute_result"
    }
   ],
   "source": [
    "[method for method in dir(tu) if not method.startswith('_')]"
   ]
  },
  {
   "cell_type": "code",
   "execution_count": 105,
   "id": "a585daea-c246-4a29-ba15-c8cd2756231b",
   "metadata": {},
   "outputs": [
    {
     "data": {
      "text/plain": [
       "1"
      ]
     },
     "execution_count": 105,
     "metadata": {},
     "output_type": "execute_result"
    }
   ],
   "source": [
    "tu.count('Vietnam')"
   ]
  },
  {
   "cell_type": "code",
   "execution_count": 106,
   "id": "4e84fa61-0acb-4132-8999-bc390817acfa",
   "metadata": {},
   "outputs": [
    {
     "data": {
      "text/plain": [
       "3"
      ]
     },
     "execution_count": 106,
     "metadata": {},
     "output_type": "execute_result"
    }
   ],
   "source": [
    "tu.index('Vietnam')"
   ]
  },
  {
   "cell_type": "code",
   "execution_count": 107,
   "id": "866d5bfd-7273-42ae-a417-f1b19a161983",
   "metadata": {},
   "outputs": [],
   "source": [
    "tu = (2,2,9,9,9,'sehun','hihi')"
   ]
  },
  {
   "cell_type": "code",
   "execution_count": 108,
   "id": "92d66e80-79a3-4dcb-b4e3-e9c2985a284b",
   "metadata": {},
   "outputs": [
    {
     "name": "stdout",
     "output_type": "stream",
     "text": [
      "1\n",
      "2\n",
      "3\n"
     ]
    }
   ],
   "source": [
    "print(tu.count('hihi'))\n",
    "print(tu.count(2))\n",
    "print(tu.count(9))"
   ]
  },
  {
   "cell_type": "code",
   "execution_count": 109,
   "id": "b796e0fe-3a86-49e7-be09-4727c01326d4",
   "metadata": {},
   "outputs": [
    {
     "data": {
      "text/plain": [
       "(2, 2, 9, 9, 9, 'sehun', 'hihi')"
      ]
     },
     "execution_count": 109,
     "metadata": {},
     "output_type": "execute_result"
    }
   ],
   "source": [
    "tu"
   ]
  },
  {
   "cell_type": "code",
   "execution_count": 110,
   "id": "229aa387-1b2f-4186-abad-3d23a14bdeeb",
   "metadata": {},
   "outputs": [
    {
     "data": {
      "text/plain": [
       "5"
      ]
     },
     "execution_count": 110,
     "metadata": {},
     "output_type": "execute_result"
    }
   ],
   "source": [
    "tu.index('sehun')"
   ]
  },
  {
   "cell_type": "code",
   "execution_count": 111,
   "id": "e664e506-7be8-4362-b08a-dfb9729fb331",
   "metadata": {},
   "outputs": [
    {
     "data": {
      "text/plain": [
       "2"
      ]
     },
     "execution_count": 111,
     "metadata": {},
     "output_type": "execute_result"
    }
   ],
   "source": [
    "tu.index(9)"
   ]
  },
  {
   "cell_type": "code",
   "execution_count": 112,
   "id": "b0887a87-1b13-46af-bd85-07bf9d1ee118",
   "metadata": {},
   "outputs": [
    {
     "data": {
      "text/plain": [
       "2"
      ]
     },
     "execution_count": 112,
     "metadata": {},
     "output_type": "execute_result"
    }
   ],
   "source": [
    "tu[0] #tương tự như list, dùng để trả giá trị thứ 0 trong tuples"
   ]
  },
  {
   "cell_type": "markdown",
   "id": "3a97327c-cab6-40c6-adab-c912855677ed",
   "metadata": {},
   "source": [
    "### 6.3 Set"
   ]
  },
  {
   "cell_type": "code",
   "execution_count": 114,
   "id": "70104cef-05d8-43a1-8cbd-7b94d4f3582f",
   "metadata": {},
   "outputs": [],
   "source": [
    "s = {1,1,2,2,2,3,4,5,6,7,'nga','sehun'}"
   ]
  },
  {
   "cell_type": "code",
   "execution_count": 115,
   "id": "b525f44d-dbfb-4cf5-921e-5574170a9daa",
   "metadata": {},
   "outputs": [
    {
     "data": {
      "text/plain": [
       "{1, 2, 3, 4, 5, 6, 7, 'nga', 'sehun'}"
      ]
     },
     "execution_count": 115,
     "metadata": {},
     "output_type": "execute_result"
    }
   ],
   "source": [
    "s"
   ]
  },
  {
   "cell_type": "code",
   "execution_count": 117,
   "id": "4a31205b-50c9-47a4-a83e-1640b8879aca",
   "metadata": {},
   "outputs": [
    {
     "data": {
      "text/plain": [
       "['add',\n",
       " 'clear',\n",
       " 'copy',\n",
       " 'difference',\n",
       " 'difference_update',\n",
       " 'discard',\n",
       " 'intersection',\n",
       " 'intersection_update',\n",
       " 'isdisjoint',\n",
       " 'issubset',\n",
       " 'issuperset',\n",
       " 'pop',\n",
       " 'remove',\n",
       " 'symmetric_difference',\n",
       " 'symmetric_difference_update',\n",
       " 'union',\n",
       " 'update']"
      ]
     },
     "execution_count": 117,
     "metadata": {},
     "output_type": "execute_result"
    }
   ],
   "source": [
    "[method for method in dir(s) if not method.startswith('_')]"
   ]
  },
  {
   "cell_type": "code",
   "execution_count": 118,
   "id": "12a120a8-813a-4fb0-b197-2c0ee6909faa",
   "metadata": {},
   "outputs": [],
   "source": [
    "s1 = {2,3,4,5,6,7}"
   ]
  },
  {
   "cell_type": "code",
   "execution_count": 119,
   "id": "32a59810-5a2d-454d-b294-09be868e7e7f",
   "metadata": {},
   "outputs": [
    {
     "data": {
      "text/plain": [
       "{1, 'nga', 'sehun'}"
      ]
     },
     "execution_count": 119,
     "metadata": {},
     "output_type": "execute_result"
    }
   ],
   "source": [
    "s.difference(s1) #lấy giá trị thuộc se nhứng không thuộc s1"
   ]
  },
  {
   "cell_type": "code",
   "execution_count": 122,
   "id": "5bf0a74d-48a5-4f17-8394-8c0dade8087f",
   "metadata": {},
   "outputs": [
    {
     "data": {
      "text/plain": [
       "set()"
      ]
     },
     "execution_count": 122,
     "metadata": {},
     "output_type": "execute_result"
    }
   ],
   "source": [
    "s1.difference (s)"
   ]
  },
  {
   "cell_type": "code",
   "execution_count": 120,
   "id": "0f038d9d-b14d-4339-a838-ad84c3cbf51a",
   "metadata": {},
   "outputs": [
    {
     "data": {
      "text/plain": [
       "{2, 3, 4, 5, 6, 7}"
      ]
     },
     "execution_count": 120,
     "metadata": {},
     "output_type": "execute_result"
    }
   ],
   "source": [
    "s.intersection(s1) #lấy giá trị trùng nhau"
   ]
  },
  {
   "cell_type": "code",
   "execution_count": 121,
   "id": "089fb0dc-a002-4778-a882-e4704de91186",
   "metadata": {},
   "outputs": [
    {
     "data": {
      "text/plain": [
       "{1, 'nga', 'sehun'}"
      ]
     },
     "execution_count": 121,
     "metadata": {},
     "output_type": "execute_result"
    }
   ],
   "source": [
    "s.symmetric_difference(s1)"
   ]
  },
  {
   "cell_type": "code",
   "execution_count": 126,
   "id": "b10517f0-3396-4014-90c5-1557e61cff57",
   "metadata": {},
   "outputs": [],
   "source": [
    "s.intersection_update(s1) # Update s giống s1"
   ]
  },
  {
   "cell_type": "code",
   "execution_count": 127,
   "id": "1a1bf81d-f165-477d-b4d8-5af8d5c14934",
   "metadata": {},
   "outputs": [
    {
     "data": {
      "text/plain": [
       "{2, 3, 4, 5, 6, 7}"
      ]
     },
     "execution_count": 127,
     "metadata": {},
     "output_type": "execute_result"
    }
   ],
   "source": [
    "s"
   ]
  },
  {
   "cell_type": "code",
   "execution_count": 128,
   "id": "7593fe86-781d-4eee-a862-a4432f2c40c5",
   "metadata": {},
   "outputs": [
    {
     "data": {
      "text/plain": [
       "{2, 3, 4, 5, 6, 7}"
      ]
     },
     "execution_count": 128,
     "metadata": {},
     "output_type": "execute_result"
    }
   ],
   "source": [
    "s1"
   ]
  },
  {
   "cell_type": "markdown",
   "id": "5e6f1b18-9486-4636-9a9c-2f4d719c013e",
   "metadata": {},
   "source": [
    "#### *Note:\n",
    "difference_update: thay nội dung set ban đầu = phần khác nhau giữa 2 set"
   ]
  },
  {
   "cell_type": "code",
   "execution_count": 129,
   "id": "6baaa3fd-c134-40ef-b8dc-6e3a8bcfcd7d",
   "metadata": {},
   "outputs": [],
   "source": [
    "s.symmetric_difference_update(s1) # update và bỏ \"s\""
   ]
  },
  {
   "cell_type": "code",
   "execution_count": 130,
   "id": "233c9237-09ed-4530-babd-79550b0a8b49",
   "metadata": {},
   "outputs": [
    {
     "data": {
      "text/plain": [
       "set()"
      ]
     },
     "execution_count": 130,
     "metadata": {},
     "output_type": "execute_result"
    }
   ],
   "source": [
    "s"
   ]
  },
  {
   "cell_type": "code",
   "execution_count": 131,
   "id": "c7fb413e-88a4-4f9f-82e6-0ab16206bf11",
   "metadata": {},
   "outputs": [
    {
     "data": {
      "text/plain": [
       "{2, 3, 4, 5, 6, 7}"
      ]
     },
     "execution_count": 131,
     "metadata": {},
     "output_type": "execute_result"
    }
   ],
   "source": [
    "s1"
   ]
  },
  {
   "cell_type": "code",
   "execution_count": 132,
   "id": "ba04c207-f579-4611-aa02-9d48fb6d36c4",
   "metadata": {},
   "outputs": [],
   "source": [
    "s = {1,1,2,3,4,4,4,5}"
   ]
  },
  {
   "cell_type": "code",
   "execution_count": 133,
   "id": "e3a05ccf-3214-4965-bf3f-61c40936e480",
   "metadata": {},
   "outputs": [
    {
     "data": {
      "text/plain": [
       "{1, 2, 3, 4, 5}"
      ]
     },
     "execution_count": 133,
     "metadata": {},
     "output_type": "execute_result"
    }
   ],
   "source": [
    "s"
   ]
  },
  {
   "cell_type": "code",
   "execution_count": 134,
   "id": "d2ada66f-2aad-4b78-8189-bd14f858ad37",
   "metadata": {},
   "outputs": [
    {
     "data": {
      "text/plain": [
       "{1, 2, 3, 4, 5, 6, 7}"
      ]
     },
     "execution_count": 134,
     "metadata": {},
     "output_type": "execute_result"
    }
   ],
   "source": [
    "s.union(s1) # trả về bản coppy của s"
   ]
  },
  {
   "cell_type": "code",
   "execution_count": 135,
   "id": "07d87328-c525-46c9-8f95-6595684a5684",
   "metadata": {},
   "outputs": [
    {
     "data": {
      "text/plain": [
       "{1, 2, 3, 4, 5}"
      ]
     },
     "execution_count": 135,
     "metadata": {},
     "output_type": "execute_result"
    }
   ],
   "source": [
    "s"
   ]
  },
  {
   "cell_type": "code",
   "execution_count": 136,
   "id": "9cd24d43-3d95-4772-8064-7b26f48839a1",
   "metadata": {},
   "outputs": [
    {
     "data": {
      "text/plain": [
       "{2, 3, 4, 5, 6, 7}"
      ]
     },
     "execution_count": 136,
     "metadata": {},
     "output_type": "execute_result"
    }
   ],
   "source": [
    "s1"
   ]
  },
  {
   "cell_type": "code",
   "execution_count": 142,
   "id": "cc45f141-6c1e-4019-978d-6a05b8890080",
   "metadata": {},
   "outputs": [
    {
     "data": {
      "text/plain": [
       "{1, 6, 7}"
      ]
     },
     "execution_count": 142,
     "metadata": {},
     "output_type": "execute_result"
    }
   ],
   "source": [
    "s.symmetric_difference(s1) #lấy các giá trị không trùng nhau"
   ]
  },
  {
   "cell_type": "code",
   "execution_count": 144,
   "id": "e0cc17a0-b8e2-429c-9812-9d1996ae8e5d",
   "metadata": {},
   "outputs": [
    {
     "data": {
      "text/plain": [
       "{2, 3, 4, 5}"
      ]
     },
     "execution_count": 144,
     "metadata": {},
     "output_type": "execute_result"
    }
   ],
   "source": [
    "s2 = {1, 2, 3}\n",
    "s.discard(1)\n",
    "s"
   ]
  },
  {
   "cell_type": "code",
   "execution_count": 146,
   "id": "920151a5-3c09-4251-be88-363e86fcf82b",
   "metadata": {},
   "outputs": [
    {
     "data": {
      "text/plain": [
       "False"
      ]
     },
     "execution_count": 146,
     "metadata": {},
     "output_type": "execute_result"
    }
   ],
   "source": [
    "s.isdisjoint(s2) #check 2 set xem có phải không giao nhau không, true = không giao nhau, false = có giao"
   ]
  },
  {
   "cell_type": "code",
   "execution_count": 147,
   "id": "de54dda2-9163-4123-b506-8ee3f865feab",
   "metadata": {},
   "outputs": [
    {
     "data": {
      "text/plain": [
       "False"
      ]
     },
     "execution_count": 147,
     "metadata": {},
     "output_type": "execute_result"
    }
   ],
   "source": [
    "s.issuperset(s1)"
   ]
  },
  {
   "cell_type": "code",
   "execution_count": 138,
   "id": "5ac990ab-3278-4f33-9dcf-8cdc8fb4127a",
   "metadata": {},
   "outputs": [
    {
     "data": {
      "text/plain": [
       "False"
      ]
     },
     "execution_count": 138,
     "metadata": {},
     "output_type": "execute_result"
    }
   ],
   "source": [
    "s.issubset(s1)"
   ]
  },
  {
   "cell_type": "markdown",
   "id": "941cf9ce-a41e-4213-91fc-82e9a89420b9",
   "metadata": {},
   "source": [
    "### 6.4 Dictionary"
   ]
  },
  {
   "cell_type": "markdown",
   "id": "14ea1abf-a516-4d54-aff8-bef9bab6f6a0",
   "metadata": {},
   "source": [
    "{key:value}"
   ]
  },
  {
   "cell_type": "code",
   "execution_count": 150,
   "id": "c96aca69-56f7-4dfb-8418-35b4669e0f79",
   "metadata": {},
   "outputs": [],
   "source": [
    "my_dict={}"
   ]
  },
  {
   "cell_type": "code",
   "execution_count": 154,
   "id": "94ba8752-3c97-4c23-94a7-744b29d50ff7",
   "metadata": {},
   "outputs": [
    {
     "data": {
      "text/plain": [
       "dict"
      ]
     },
     "execution_count": 154,
     "metadata": {},
     "output_type": "execute_result"
    }
   ],
   "source": [
    "type(my_dict)"
   ]
  },
  {
   "cell_type": "code",
   "execution_count": 155,
   "id": "c0060041-82f0-4e3d-a913-090d691f2bd4",
   "metadata": {},
   "outputs": [
    {
     "data": {
      "text/plain": [
       "{1: 'java', 2: 'Python', 3: 'C++'}"
      ]
     },
     "execution_count": 155,
     "metadata": {},
     "output_type": "execute_result"
    }
   ],
   "source": [
    "my_dict1 = {1:'java', 2:'Python', 3:'C++'}\n",
    "my_dict1"
   ]
  },
  {
   "cell_type": "code",
   "execution_count": 169,
   "id": "f5331a2e-1040-4934-b445-90c465b1aa7b",
   "metadata": {},
   "outputs": [],
   "source": [
    "# Changing an element\n",
    "my_dict1['C++'] = 'C'"
   ]
  },
  {
   "cell_type": "code",
   "execution_count": 157,
   "id": "9f91416b-b7f4-4797-ad5d-629778e07cc5",
   "metadata": {},
   "outputs": [
    {
     "data": {
      "text/plain": [
       "{1: 'java', 2: 'Python', 3: 'C++', 'C++': 'C'}"
      ]
     },
     "execution_count": 157,
     "metadata": {},
     "output_type": "execute_result"
    }
   ],
   "source": [
    "my_dict1"
   ]
  },
  {
   "cell_type": "code",
   "execution_count": 158,
   "id": "dbc7d120-7e60-4e6e-86a9-d3e420f45f87",
   "metadata": {},
   "outputs": [
    {
     "data": {
      "text/plain": [
       "{1: 'Golang', 2: 'Python', 3: 'C++', 'C++': 'C'}"
      ]
     },
     "execution_count": 158,
     "metadata": {},
     "output_type": "execute_result"
    }
   ],
   "source": [
    "my_dict1[1] = 'Golang'\n",
    "my_dict1"
   ]
  },
  {
   "cell_type": "code",
   "execution_count": 159,
   "id": "42d6bdfe-3ef9-41d6-8274-b5f436cce642",
   "metadata": {},
   "outputs": [
    {
     "data": {
      "text/plain": [
       "['clear',\n",
       " 'copy',\n",
       " 'fromkeys',\n",
       " 'get',\n",
       " 'items',\n",
       " 'keys',\n",
       " 'pop',\n",
       " 'popitem',\n",
       " 'setdefault',\n",
       " 'update',\n",
       " 'values']"
      ]
     },
     "execution_count": 159,
     "metadata": {},
     "output_type": "execute_result"
    }
   ],
   "source": [
    "[method for method in dir(my_dict1) if not method.startswith('_')]"
   ]
  },
  {
   "cell_type": "code",
   "execution_count": 160,
   "id": "34a56d25-b3b4-4649-9d52-798536eb39a5",
   "metadata": {},
   "outputs": [
    {
     "data": {
      "text/plain": [
       "{1: 'GOGI', 2: 'MANWAH', 3: 'SUMO', 4: 'KPUB', 5: 'HUTONG'}"
      ]
     },
     "execution_count": 160,
     "metadata": {},
     "output_type": "execute_result"
    }
   ],
   "source": [
    "my_dict2 = {1:'GOGI', 2:'MANWAH', 3:'SUMO', 4:'KPUB', 5:'HUTONG'}\n",
    "my_dict2"
   ]
  },
  {
   "cell_type": "code",
   "execution_count": 161,
   "id": "ae377597-9707-43b9-964d-39b37e2ef3b6",
   "metadata": {},
   "outputs": [],
   "source": [
    "my_dict3 = my_dict2.copy()"
   ]
  },
  {
   "cell_type": "code",
   "execution_count": 162,
   "id": "5f873368-b3c5-412c-b599-317dabb1516e",
   "metadata": {},
   "outputs": [
    {
     "data": {
      "text/plain": [
       "{1: 'GOGI', 2: 'MANWAH', 3: 'SUMO', 4: 'KPUB', 5: 'HUTONG'}"
      ]
     },
     "execution_count": 162,
     "metadata": {},
     "output_type": "execute_result"
    }
   ],
   "source": [
    "my_dict3"
   ]
  },
  {
   "cell_type": "code",
   "execution_count": 163,
   "id": "d92d6491-0917-4f4e-bc51-bd6cd380b4f1",
   "metadata": {},
   "outputs": [
    {
     "data": {
      "text/plain": [
       "{'S': None, 'Q': None, 'L': None}"
      ]
     },
     "execution_count": 163,
     "metadata": {},
     "output_type": "execute_result"
    }
   ],
   "source": [
    "my_dict1.fromkeys('SQL')"
   ]
  },
  {
   "cell_type": "code",
   "execution_count": 178,
   "id": "e797cbe2-d756-4f17-bfbd-376426e5d8fa",
   "metadata": {},
   "outputs": [
    {
     "data": {
      "text/plain": [
       "dict_items([(2, 'Python'), (3, 'C++'), ('C++', 'C')])"
      ]
     },
     "execution_count": 178,
     "metadata": {},
     "output_type": "execute_result"
    }
   ],
   "source": [
    "my_dict1.items()"
   ]
  },
  {
   "cell_type": "code",
   "execution_count": 166,
   "id": "18c8e561-a533-4f31-a553-9842695bdf1c",
   "metadata": {},
   "outputs": [
    {
     "data": {
      "text/plain": [
       "dict_keys([1, 2, 3, 'C++'])"
      ]
     },
     "execution_count": 166,
     "metadata": {},
     "output_type": "execute_result"
    }
   ],
   "source": [
    "my_dict1.keys()"
   ]
  },
  {
   "cell_type": "code",
   "execution_count": 167,
   "id": "0115a538-b7f0-45a0-9556-75a6b694a7a8",
   "metadata": {},
   "outputs": [
    {
     "data": {
      "text/plain": [
       "dict_values(['Golang', 'Python', 'C++', 'C'])"
      ]
     },
     "execution_count": 167,
     "metadata": {},
     "output_type": "execute_result"
    }
   ],
   "source": [
    "my_dict1.values()"
   ]
  },
  {
   "cell_type": "code",
   "execution_count": 168,
   "id": "55bb1902-e881-41a0-a91a-13b49a48016f",
   "metadata": {},
   "outputs": [
    {
     "data": {
      "text/plain": [
       "'Golang'"
      ]
     },
     "execution_count": 168,
     "metadata": {},
     "output_type": "execute_result"
    }
   ],
   "source": [
    "my_dict1.pop(1)"
   ]
  },
  {
   "cell_type": "code",
   "execution_count": 182,
   "id": "82f62bb4-d54e-47ef-943b-8b2239050033",
   "metadata": {},
   "outputs": [
    {
     "data": {
      "text/plain": [
       "'Python'"
      ]
     },
     "execution_count": 182,
     "metadata": {},
     "output_type": "execute_result"
    }
   ],
   "source": [
    "my_dict1.get(2)"
   ]
  },
  {
   "cell_type": "code",
   "execution_count": null,
   "id": "e0590410-01ef-4c5d-9818-210427e0d228",
   "metadata": {},
   "outputs": [],
   "source": []
  }
 ],
 "metadata": {
  "kernelspec": {
   "display_name": "Python 3",
   "language": "python",
   "name": "python3"
  },
  "language_info": {
   "codemirror_mode": {
    "name": "ipython",
    "version": 3
   },
   "file_extension": ".py",
   "mimetype": "text/x-python",
   "name": "python",
   "nbconvert_exporter": "python",
   "pygments_lexer": "ipython3",
   "version": "3.7.10"
  }
 },
 "nbformat": 4,
 "nbformat_minor": 5
}
