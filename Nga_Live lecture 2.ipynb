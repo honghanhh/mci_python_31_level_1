{
 "cells": [
  {
<<<<<<< Updated upstream
   "cell_type": "code",
   "execution_count": null,
   "id": "4d2b7f85-43d5-4fa1-82e9-9d5a8ea087bf",
   "metadata": {},
   "outputs": [],
   "source": []
=======
   "cell_type": "markdown",
   "id": "69116aa2-2211-4682-a9ea-2a466ef455d1",
   "metadata": {},
   "source": [
    "## 1.Python"
   ]
  },
  {
   "cell_type": "markdown",
   "id": "5787bb69-3612-42f4-8f26-4c3d8ce07540",
   "metadata": {},
   "source": [
    "- Interpreter (Python): viết câu lệnh đến đâu chạy chương trình đến đấy\n",
    "- Compiler (C, C++, Java): viết câu lệnh hết rồi mới chạy chương trình    "
   ]
  },
  {
   "cell_type": "code",
   "execution_count": 2,
   "id": "de080693-9898-41e3-87e2-c4dad142de8e",
   "metadata": {},
   "outputs": [
    {
     "name": "stdout",
     "output_type": "stream",
     "text": [
      "Hello,world!\n"
     ]
    }
   ],
   "source": [
    "print('Hello,world!')"
   ]
  },
  {
   "cell_type": "code",
   "execution_count": 3,
   "id": "98bb1ab5-00da-4f09-83b3-116833c0fd82",
   "metadata": {},
   "outputs": [
    {
     "name": "stdout",
     "output_type": "stream",
     "text": [
      "MCI Python Lesson 2\n"
     ]
    }
   ],
   "source": [
    "# Comment\n",
    "print('MCI Python Lesson 2')"
   ]
  },
  {
   "cell_type": "markdown",
   "id": "0d5aef6c-01c2-4875-bda3-8fc4de77e62f",
   "metadata": {},
   "source": [
    "#### *Cách ghi comment ghi chú\n",
    "\n",
    "Comment dòng nào thì phải để dấu # ở trước dòng đấy\n",
    "Hoặc gõ 3 dấu '''\n",
    "=> Cái này dùng để comment, ghi chú cho dễ nhớ khi đang code, vì tất cả những cái xuất hiện sau dấu # hoặc ''' sẽ không được hiện ra"
   ]
  },
  {
   "cell_type": "code",
   "execution_count": 5,
   "id": "83c0e92f-f7ac-4278-a715-fe6c364999f1",
   "metadata": {},
   "outputs": [
    {
     "name": "stdout",
     "output_type": "stream",
     "text": [
      "MCI Python Lesson 2\n"
     ]
    }
   ],
   "source": [
    "# Comment 1\n",
    "# Comment 2\n",
    "'''\n",
    "Today\n",
    "is\n",
    "weekend!\n",
    "Everyone\n",
    "is\n",
    "happy\n",
    "'''\n",
    "\n",
    "print('MCI Python Lesson 2')"
   ]
  },
  {
   "cell_type": "markdown",
   "id": "c7f4917e-415d-4a54-a106-64b4d1eaeb4e",
   "metadata": {},
   "source": [
    "### 1. Variable"
   ]
  },
  {
   "cell_type": "code",
   "execution_count": 8,
   "id": "ce767886-3038-442b-80d5-92ac9c948973",
   "metadata": {},
   "outputs": [
    {
     "data": {
      "text/plain": [
       "2"
      ]
     },
     "execution_count": 8,
     "metadata": {},
     "output_type": "execute_result"
    }
   ],
   "source": [
    "1+1"
   ]
  },
  {
   "cell_type": "code",
   "execution_count": 11,
   "id": "7b62be2f-e8fb-4170-be6a-bec2f7b0f9c6",
   "metadata": {},
   "outputs": [],
   "source": [
    "int_number = 2"
   ]
  },
  {
   "cell_type": "code",
   "execution_count": 12,
   "id": "c2d59778-9715-492e-8556-654fa406bd2b",
   "metadata": {},
   "outputs": [
    {
     "data": {
      "text/plain": [
       "int"
      ]
     },
     "execution_count": 12,
     "metadata": {},
     "output_type": "execute_result"
    }
   ],
   "source": [
    "type(int_number) #integer"
   ]
  },
  {
   "cell_type": "code",
   "execution_count": 13,
   "id": "477d32ce-b09a-497f-9536-a5bfb8dcb39b",
   "metadata": {},
   "outputs": [],
   "source": [
    "f_number = 3.14"
   ]
  },
  {
   "cell_type": "code",
   "execution_count": 14,
   "id": "c5b348b2-3bda-4ba6-aeda-6615ac946b83",
   "metadata": {},
   "outputs": [
    {
     "data": {
      "text/plain": [
       "float"
      ]
     },
     "execution_count": 14,
     "metadata": {},
     "output_type": "execute_result"
    }
   ],
   "source": [
    "type(f_number)"
   ]
  },
  {
   "cell_type": "markdown",
   "id": "c2ab2635-2f21-40c9-ab5a-0ec81b0e1aa3",
   "metadata": {},
   "source": [
    "#### Convention:\n",
    "-  Start with characters or underscore (not start with number)\n",
    "- Case-sensitive: Num!= NUM!= num\n",
    "- Avoid same name with key board in Python"
   ]
  },
  {
   "cell_type": "markdown",
   "id": "d5b09bd6-2fdb-4b96-9d24-538bdb64d102",
   "metadata": {},
   "source": [
    "### 2. Operation & Operators"
   ]
  },
  {
   "cell_type": "markdown",
   "id": "3dc1c7c3-3bdb-479f-b07d-5e510500a0cb",
   "metadata": {},
   "source": [
    "|Operation|Meaning|Examples|\n",
    "|-|-|-|\n",
    "|+|Adding Operator|a+b|\n",
    "|-|Substraction|a-b|\n",
    "|*|Multiplication|a*b|\n",
    "|/|Division|a/b|\n",
    "|%|Modulus|a%b|\n",
    "|^|.|a**b|"
   ]
  },
  {
   "cell_type": "code",
   "execution_count": 51,
   "id": "718c94a3-fd4d-4c3a-8466-69b6a544f506",
   "metadata": {},
   "outputs": [
    {
     "ename": "SyntaxError",
     "evalue": "cannot assign to literal (<ipython-input-51-01f9530e23f5>, line 1)",
     "output_type": "error",
     "traceback": [
      "\u001b[0;36m  File \u001b[0;32m\"<ipython-input-51-01f9530e23f5>\"\u001b[0;36m, line \u001b[0;32m1\u001b[0m\n\u001b[0;31m    a=23,b=18\u001b[0m\n\u001b[0m      ^\u001b[0m\n\u001b[0;31mSyntaxError\u001b[0m\u001b[0;31m:\u001b[0m cannot assign to literal\n"
     ]
    }
   ],
   "source": [
    "a=23,b=18"
   ]
  },
  {
   "cell_type": "code",
   "execution_count": null,
   "id": "1b07da4a-e008-411f-ada9-af51d6673597",
   "metadata": {},
   "outputs": [],
   "source": []
  },
  {
   "cell_type": "code",
   "execution_count": null,
   "id": "8a107abc-d5fd-4322-a695-5b42a8688efd",
   "metadata": {},
   "outputs": [],
   "source": []
  },
  {
   "cell_type": "code",
   "execution_count": null,
   "id": "9a815b81-24f5-4259-b38d-6dc649198814",
   "metadata": {},
   "outputs": [],
   "source": []
  },
  {
   "cell_type": "code",
   "execution_count": null,
   "id": "2cc6f027-e94e-4928-ae3c-1b712c18c75b",
   "metadata": {},
   "outputs": [],
   "source": []
  },
  {
   "cell_type": "markdown",
   "id": "ac05b6e2-9146-4354-9e18-641a1840a37e",
   "metadata": {},
   "source": [
    "### 3. Logic operations"
   ]
  },
  {
   "cell_type": "markdown",
   "id": "213c34ce-2edd-4ca6-bbe7-1d23cf31656e",
   "metadata": {},
   "source": [
    "- AND: True if all true\n",
    "- OR: True if at least one true\n",
    "- NOT: True -> False, False -> True\n",
    "- XOR: Same values -> False, else -> True"
   ]
  },
  {
   "cell_type": "code",
   "execution_count": 17,
   "id": "d62e2c69-4336-44e1-b165-c66ca5909042",
   "metadata": {},
   "outputs": [
    {
     "data": {
      "text/plain": [
       "True"
      ]
     },
     "execution_count": 17,
     "metadata": {},
     "output_type": "execute_result"
    }
   ],
   "source": [
    "True and True"
   ]
  },
  {
   "cell_type": "code",
   "execution_count": 18,
   "id": "00a336a9-fd03-4389-b8b3-f7a4f152c79d",
   "metadata": {},
   "outputs": [
    {
     "data": {
      "text/plain": [
       "False"
      ]
     },
     "execution_count": 18,
     "metadata": {},
     "output_type": "execute_result"
    }
   ],
   "source": [
    "True and False"
   ]
  },
  {
   "cell_type": "code",
   "execution_count": 19,
   "id": "22548a00-5e8b-4042-814a-84cb64539d2b",
   "metadata": {},
   "outputs": [
    {
     "data": {
      "text/plain": [
       "True"
      ]
     },
     "execution_count": 19,
     "metadata": {},
     "output_type": "execute_result"
    }
   ],
   "source": [
    "True and False or True and True"
   ]
  },
  {
   "cell_type": "markdown",
   "id": "d4e1af78-2c5d-4589-a1d0-febe110e0959",
   "metadata": {},
   "source": [
    "### 4. Conditional operations"
   ]
  },
  {
   "cell_type": "code",
   "execution_count": 32,
   "id": "766519f9-76d1-44c4-a494-f6cacaa3866a",
   "metadata": {},
   "outputs": [
    {
     "ename": "SyntaxError",
     "evalue": "invalid syntax (<ipython-input-32-02e2a1cf84a2>, line 1)",
     "output_type": "error",
     "traceback": [
      "\u001b[0;36m  File \u001b[0;32m\"<ipython-input-32-02e2a1cf84a2>\"\u001b[0;36m, line \u001b[0;32m1\u001b[0m\n\u001b[0;31m    |Operator|Meaning|\u001b[0m\n\u001b[0m    ^\u001b[0m\n\u001b[0;31mSyntaxError\u001b[0m\u001b[0;31m:\u001b[0m invalid syntax\n"
     ]
    }
   ],
   "source": [
    "|Operator|Meaning|\n",
    "|<|Les than|\n",
    "|>|Greater than|\n",
    "|<=|Less than or equal to|\n",
    "|>=|Greater than or equal to|\n",
    "|==|Equal to|\n",
    "|!=|Not equal to|\n"
   ]
  },
  {
   "cell_type": "code",
   "execution_count": 31,
   "id": "1c26a30f-4320-4d8a-b0dc-69bb0bc00bdd",
   "metadata": {},
   "outputs": [
    {
     "data": {
      "text/plain": [
       "False"
      ]
     },
     "execution_count": 31,
     "metadata": {},
     "output_type": "execute_result"
    }
   ],
   "source": [
    "1==2"
   ]
  },
  {
   "cell_type": "markdown",
   "id": "13aea5f8-02d0-43fd-bb4b-e334359c9436",
   "metadata": {},
   "source": [
    "### 4. Data types\n",
    "Program = data structures + algorithms"
   ]
  },
  {
   "cell_type": "markdown",
   "id": "217a3d87-bc78-4768-8054-9f7880a42ddf",
   "metadata": {},
   "source": [
    "- Numeric: integer (int), float, complex...\n",
    "- String: text, chart\n",
    "- Boolean: True/ False\n",
    "- Datetime\n",
    "- NoneType"
   ]
  },
  {
   "cell_type": "code",
   "execution_count": null,
   "id": "89bf3e70-ba28-4aa9-ac43-2c74094e90de",
   "metadata": {},
   "outputs": [],
   "source": [
    "type(a)"
   ]
  },
  {
   "cell_type": "code",
   "execution_count": 39,
   "id": "754b2011-c3a3-4f0a-831e-72e1bb509e21",
   "metadata": {},
   "outputs": [
    {
     "data": {
      "text/plain": [
       "float"
      ]
     },
     "execution_count": 39,
     "metadata": {},
     "output_type": "execute_result"
    }
   ],
   "source": [
    "type(3.14)"
   ]
  },
  {
   "cell_type": "code",
   "execution_count": 41,
   "id": "c93c154c-d462-4b4e-b19b-c37ab1c55f10",
   "metadata": {},
   "outputs": [
    {
     "data": {
      "text/plain": [
       "complex"
      ]
     },
     "execution_count": 41,
     "metadata": {},
     "output_type": "execute_result"
    }
   ],
   "source": [
    "type(1+2j)"
   ]
  },
  {
   "cell_type": "code",
   "execution_count": 42,
   "id": "f5d6efef-85d8-490e-a47e-4aa0e8d88179",
   "metadata": {},
   "outputs": [
    {
     "data": {
      "text/plain": [
       "str"
      ]
     },
     "execution_count": 42,
     "metadata": {},
     "output_type": "execute_result"
    }
   ],
   "source": [
    "type(\"Hello everyone\")"
   ]
  },
  {
   "cell_type": "markdown",
   "id": "c4b00251-b616-49e5-a59b-fe88e19c575d",
   "metadata": {},
   "source": [
    "### 4. Data structures"
   ]
  },
  {
   "cell_type": "markdown",
   "id": "5cb3a170-97aa-4936-9517-95c1243a6e6b",
   "metadata": {},
   "source": [
    "- Built-in data structures: list, dictionary, tuples, set...\n",
    "- User-defined data structures: stack, queue, tree, linked list, graph, hashmap..."
   ]
  },
  {
   "cell_type": "code",
   "execution_count": null,
   "id": "5c26062b-f018-4333-838b-0d9a0a008ae8",
   "metadata": {},
   "outputs": [],
   "source": [
    "- List [], list (), index\n",
    "- Tuples: (), tuples(), index\n",
    "- Set: "
   ]
>>>>>>> Stashed changes
  }
 ],
 "metadata": {
  "kernelspec": {
   "display_name": "Python 3",
   "language": "python",
   "name": "python3"
  },
  "language_info": {
   "codemirror_mode": {
    "name": "ipython",
    "version": 3
   },
   "file_extension": ".py",
   "mimetype": "text/x-python",
   "name": "python",
   "nbconvert_exporter": "python",
   "pygments_lexer": "ipython3",
<<<<<<< Updated upstream
   "version": "3.7.10"
=======
   "version": "3.8.8"
>>>>>>> Stashed changes
  }
 },
 "nbformat": 4,
 "nbformat_minor": 5
}
