{
 "cells": [
  {
   "cell_type": "markdown",
   "id": "29eccae6-dbf0-4de6-b6a0-e95e848b5cb8",
   "metadata": {},
   "source": [
    "# <center> LESSON 7: Data Visualization with MATPLOTLIB, SEABORN </center>"
   ]
  },
  {
   "cell_type": "markdown",
   "id": "fdacd8d4-062f-4ae2-911c-7fec4bd90f8a",
   "metadata": {},
   "source": [
    "<center> \n",
    "<p float=\"left\">\n",
    "  <img src=\"https://matplotlib.org/_static/logo2_compressed.svg\" width=\"400\" />\n",
    "  <img src=\"https://seaborn.pydata.org/_static/logo-wide-lightbg.svg\" width=\"400\" /> \n",
    "</p> \n",
    "</center>"
   ]
  },
  {
   "cell_type": "markdown",
   "id": "7443d29b-818d-4d01-a6e9-947adcabed95",
   "metadata": {},
   "source": [
    "## 1. INTRODUCTION\n",
    "### 1.1 What is Matplotlib? \n"
   ]
  },
  {
   "cell_type": "markdown",
   "id": "3b784725-bf97-4098-bfbc-4ea52fc669df",
   "metadata": {},
   "source": [
    "### 1.2 What is Seaborn?"
   ]
  },
  {
   "cell_type": "markdown",
   "id": "1840edd6-78ec-438f-a6c4-7af8e8a71725",
   "metadata": {},
   "source": [
    "### 1.3 Installation\n",
    "\n",
    "\n"
   ]
  },
  {
   "cell_type": "markdown",
   "id": "bedf18a7-7feb-4d8f-9546-1263ac375d6c",
   "metadata": {},
   "source": [
    "### 1.4 Import "
   ]
  },
  {
   "cell_type": "markdown",
   "id": "4b25a5a8-bf42-428a-8af7-4737f6b957b0",
   "metadata": {},
   "source": [
    "## 2. VISUALIZATION "
   ]
  },
  {
   "cell_type": "markdown",
   "id": "b472336d-b041-4d02-b674-046b051a5e51",
   "metadata": {},
   "source": [
    "### 2.1. Line graph"
   ]
  },
  {
   "cell_type": "markdown",
   "id": "9eaeae17-3600-4af9-a997-26dcd13d2146",
   "metadata": {},
   "source": [
    "#### 2.1.1 Plot 1 line graph"
   ]
  },
  {
   "cell_type": "markdown",
   "id": "1fdc5dfc-063c-4be8-99a7-953a0973bbdd",
   "metadata": {},
   "source": [
    "#### 2.1.2 Plot 2 line graph"
   ]
  },
  {
   "cell_type": "markdown",
   "id": "90f1ed21-bb14-45c5-91b9-ada29df656f3",
   "metadata": {},
   "source": [
    "### 2.2. Distribution/Histogram plot"
   ]
  },
  {
   "cell_type": "markdown",
   "id": "b7bfe80c-fd61-44a9-a604-a84fdef27722",
   "metadata": {},
   "source": [
    "### 2.3. Scatter plot"
   ]
  },
  {
   "cell_type": "markdown",
   "id": "a4370442-4b13-40b0-bde4-bd6b2510355a",
   "metadata": {},
   "source": [
    "### 2.4. Box plot"
   ]
  },
  {
   "cell_type": "markdown",
   "id": "6b17c1e8-f29e-4bc6-a051-4d6b65976c47",
   "metadata": {},
   "source": [
    "### 2.5. Pie chart"
   ]
  },
  {
   "cell_type": "markdown",
   "id": "54a0b24a-39cd-412d-884a-27995987b1d9",
   "metadata": {},
   "source": [
    "### 2.6. Swarmplot"
   ]
  },
  {
   "cell_type": "markdown",
   "id": "94ddadab-b650-4b5d-b43b-65066fd7e657",
   "metadata": {},
   "source": [
    "### 2.7. Catplot"
   ]
  },
  {
   "cell_type": "markdown",
   "id": "3f22d0c1-0d89-4b8c-8e71-fa33067975da",
   "metadata": {},
   "source": [
    "![](https://www.english-learning.net/wp-content/uploads/2018/03/Thank-you.jpg)"
   ]
  },
  {
   "cell_type": "code",
   "execution_count": null,
   "id": "f89d7f8c-c580-4fa5-ba1a-c8b4bc01261f",
   "metadata": {},
   "outputs": [],
   "source": []
  }
 ],
 "metadata": {
  "kernelspec": {
   "display_name": "Python 3",
   "language": "python",
   "name": "python3"
  },
  "language_info": {
   "codemirror_mode": {
    "name": "ipython",
    "version": 3
   },
   "file_extension": ".py",
   "mimetype": "text/x-python",
   "name": "python",
   "nbconvert_exporter": "python",
   "pygments_lexer": "ipython3",
   "version": "3.8.8"
  }
 },
 "nbformat": 4,
 "nbformat_minor": 5
}
