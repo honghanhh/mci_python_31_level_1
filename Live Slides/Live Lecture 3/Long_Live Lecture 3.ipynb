{
 "cells": [
  {
   "cell_type": "markdown",
   "id": "e2ffdddc-dfa4-4f9c-91e4-dc06078559ba",
   "metadata": {},
   "source": [
    "# Lesson 3"
   ]
  },
  {
   "cell_type": "markdown",
   "id": "948b15da",
   "metadata": {},
   "source": [
    "### Programming flow"
   ]
  },
  {
   "cell_type": "markdown",
   "id": "955c13f7",
   "metadata": {},
   "source": [
    "- Sequential\n",
    "- Loop: for, while\n",
    "- Condition: if, elif, else...\n",
    "- Function"
   ]
  },
  {
   "cell_type": "markdown",
   "id": "eb67a403",
   "metadata": {},
   "source": [
    "### 1. Sequential"
   ]
  },
  {
   "cell_type": "code",
   "execution_count": 1,
   "id": "54e436fb",
   "metadata": {},
   "outputs": [
    {
     "name": "stdout",
     "output_type": "stream",
     "text": [
      "hello\n",
      "everyone\n"
     ]
    }
   ],
   "source": [
    "print('hello') #câu lệnh nào ở trước thì chạy trước\n",
    "print('everyone')"
   ]
  },
  {
   "cell_type": "markdown",
   "id": "155f038a",
   "metadata": {},
   "source": [
    "### 2. Loop"
   ]
  },
  {
   "cell_type": "markdown",
   "id": "53204780",
   "metadata": {},
   "source": [
    "- Iteration\n",
    "- For\n",
    "- While"
   ]
  },
  {
   "cell_type": "markdown",
   "id": "eccd1ac5",
   "metadata": {},
   "source": [
    "### For"
   ]
  },
  {
   "cell_type": "markdown",
   "id": "69f69912",
   "metadata": {},
   "source": [
    "```\n",
    "(iterable là một cấu trúc bao gồm nhiều phần từ)\n",
    "for value in iterable \n",
    "    business logic #indent\n",
    "```"
   ]
  },
  {
   "cell_type": "markdown",
   "id": "20c28b02",
   "metadata": {},
   "source": [
    "```\n",
    "for index in range(len(iterable)):\n",
    "    business logic\n",
    "```"
   ]
  },
  {
   "cell_type": "code",
   "execution_count": 6,
   "id": "4e41af4a",
   "metadata": {},
   "outputs": [
    {
     "data": {
      "text/plain": [
       "[0, 1, 2, 3, 4, 5, 6, 7, 8, 9]"
      ]
     },
     "execution_count": 6,
     "metadata": {},
     "output_type": "execute_result"
    }
   ],
   "source": [
    "list (range (10)) #0 (inclusive) -> 9 (exclusive)"
   ]
  },
  {
   "cell_type": "code",
   "execution_count": 7,
   "id": "24f85cea",
   "metadata": {},
   "outputs": [
    {
     "data": {
      "text/plain": [
       "[2, 3, 4, 5, 6, 7, 8, 9]"
      ]
     },
     "execution_count": 7,
     "metadata": {},
     "output_type": "execute_result"
    }
   ],
   "source": [
    "list(range(2,10))"
   ]
  },
  {
   "cell_type": "code",
   "execution_count": 8,
   "id": "033223db",
   "metadata": {},
   "outputs": [
    {
     "data": {
      "text/plain": [
       "[2, 4, 6, 8]"
      ]
     },
     "execution_count": 8,
     "metadata": {},
     "output_type": "execute_result"
    }
   ],
   "source": [
    "list(range(2,10,2))"
   ]
  },
  {
   "cell_type": "code",
   "execution_count": 23,
   "id": "736fd873",
   "metadata": {},
   "outputs": [
    {
     "data": {
      "text/plain": [
       "4"
      ]
     },
     "execution_count": 23,
     "metadata": {},
     "output_type": "execute_result"
    }
   ],
   "source": [
    "len(range(2,10,2))"
   ]
  },
  {
   "cell_type": "markdown",
   "id": "ee113d47",
   "metadata": {},
   "source": [
    "Casting"
   ]
  },
  {
   "cell_type": "code",
   "execution_count": 9,
   "id": "0432146f",
   "metadata": {},
   "outputs": [],
   "source": [
    "a = '1'"
   ]
  },
  {
   "cell_type": "code",
   "execution_count": 10,
   "id": "812b05f6",
   "metadata": {},
   "outputs": [
    {
     "data": {
      "text/plain": [
       "str"
      ]
     },
     "execution_count": 10,
     "metadata": {},
     "output_type": "execute_result"
    }
   ],
   "source": [
    "type (a)"
   ]
  },
  {
   "cell_type": "code",
   "execution_count": 12,
   "id": "d6def348",
   "metadata": {},
   "outputs": [
    {
     "data": {
      "text/plain": [
       "'11'"
      ]
     },
     "execution_count": 12,
     "metadata": {},
     "output_type": "execute_result"
    }
   ],
   "source": [
    "a*2 #biến dạng str nhân hai lần"
   ]
  },
  {
   "cell_type": "code",
   "execution_count": 15,
   "id": "b7c29b50",
   "metadata": {},
   "outputs": [
    {
     "data": {
      "text/plain": [
       "2"
      ]
     },
     "execution_count": 15,
     "metadata": {},
     "output_type": "execute_result"
    }
   ],
   "source": [
    "int(a)*2"
   ]
  },
  {
   "cell_type": "code",
   "execution_count": 20,
   "id": "04adf561",
   "metadata": {},
   "outputs": [
    {
     "data": {
      "text/plain": [
       "3"
      ]
     },
     "execution_count": 20,
     "metadata": {},
     "output_type": "execute_result"
    }
   ],
   "source": [
    "int(3.14) #ép dạng biến từ float về int làm tròn thành số nguyên"
   ]
  },
  {
   "cell_type": "code",
   "execution_count": 30,
   "id": "7f1845bb",
   "metadata": {},
   "outputs": [],
   "source": [
    "li = list(range(11))"
   ]
  },
  {
   "cell_type": "code",
   "execution_count": 31,
   "id": "2f283367",
   "metadata": {},
   "outputs": [
    {
     "data": {
      "text/plain": [
       "[0, 1, 2, 3, 4, 5, 6, 7, 8, 9, 10]"
      ]
     },
     "execution_count": 31,
     "metadata": {},
     "output_type": "execute_result"
    }
   ],
   "source": [
    "li"
   ]
  },
  {
   "cell_type": "code",
   "execution_count": 34,
   "id": "da11ac8e",
   "metadata": {},
   "outputs": [
    {
     "name": "stdout",
     "output_type": "stream",
     "text": [
      "0\n",
      "1\n",
      "4\n",
      "9\n",
      "16\n",
      "25\n",
      "36\n",
      "49\n",
      "64\n",
      "81\n",
      "100\n"
     ]
    }
   ],
   "source": [
    "lil = [] #empty list\n",
    "for val in li:\n",
    "    print(val**2)\n",
    "    lil.append(val**2)"
   ]
  },
  {
   "cell_type": "code",
   "execution_count": 35,
   "id": "887f628b",
   "metadata": {},
   "outputs": [
    {
     "data": {
      "text/plain": [
       "[0, 1, 4, 9, 16, 25, 36, 49, 64, 81, 100]"
      ]
     },
     "execution_count": 35,
     "metadata": {},
     "output_type": "execute_result"
    }
   ],
   "source": [
    "lil"
   ]
  },
  {
   "cell_type": "code",
   "execution_count": 37,
   "id": "709ec1c4",
   "metadata": {},
   "outputs": [],
   "source": [
    "li2 = []\n",
    "for idx in range(len(li)):\n",
    "    li2.append(li[idx]**2)"
   ]
  },
  {
   "cell_type": "code",
   "execution_count": 38,
   "id": "59c73d9b",
   "metadata": {},
   "outputs": [
    {
     "data": {
      "text/plain": [
       "[0, 1, 4, 9, 16, 25, 36, 49, 64, 81, 100]"
      ]
     },
     "execution_count": 38,
     "metadata": {},
     "output_type": "execute_result"
    }
   ],
   "source": [
    "li2"
   ]
  },
  {
   "cell_type": "code",
   "execution_count": 1,
   "id": "62e02360",
   "metadata": {},
   "outputs": [
    {
     "name": "stdout",
     "output_type": "stream",
     "text": [
      "8\n",
      "40320\n"
     ]
    }
   ],
   "source": [
    "n =  int(input())\n",
    "val = 1\n",
    "for i in range(1,n+1):\n",
    "  val *= i\n",
    "print(val)"
   ]
  },
  {
   "cell_type": "markdown",
   "id": "c74128aa",
   "metadata": {},
   "source": [
    "### While"
   ]
  },
  {
   "cell_type": "markdown",
   "id": "05861d34",
   "metadata": {},
   "source": [
    "```\n",
    "While condition(True/False):\n",
    "    business logic\n",
    "```"
   ]
  },
  {
   "cell_type": "code",
   "execution_count": null,
   "id": "d2b2bd17",
   "metadata": {},
   "outputs": [],
   "source": [
    "a = 4\n",
    "i = 0"
   ]
  },
  {
   "cell_type": "code",
   "execution_count": null,
   "id": "69e4ac1f",
   "metadata": {},
   "outputs": [],
   "source": [
    "a, i = 4, 0"
   ]
  },
  {
   "cell_type": "code",
   "execution_count": null,
   "id": "0fea721e",
   "metadata": {},
   "outputs": [],
   "source": [
    "while i < a:\n",
    "    print(f'hello {i}')\n",
    "    i += 1"
   ]
  },
  {
   "cell_type": "code",
   "execution_count": 9,
   "id": "e7cda09c",
   "metadata": {},
   "outputs": [
    {
     "name": "stdout",
     "output_type": "stream",
     "text": [
      "Enter Value:8\n",
      "40320\n"
     ]
    }
   ],
   "source": [
    "#do N with while\n",
    "x = input(\"Enter Value:\")\n",
    "final =1\n",
    "x = int(x)\n",
    "while x >0:\n",
    "    final = final *x \n",
    "    x -=1\n",
    "print(final)"
   ]
  },
  {
   "cell_type": "markdown",
   "id": "38a01bc3",
   "metadata": {},
   "source": [
    "### Condition"
   ]
  },
  {
   "cell_type": "markdown",
   "id": "44e10b6b",
   "metadata": {},
   "source": [
    "```\n",
    "if condition(True/False):\n",
    "    business logic\n",
    "elif condition(True/False):\n",
    "    business logic\n",
    "else:\n",
    "    business logic\n",
    "```"
   ]
  },
  {
   "cell_type": "code",
   "execution_count": 20,
   "id": "adbcc87d",
   "metadata": {},
   "outputs": [],
   "source": [
    "x = 3\n",
    "y = 3"
   ]
  },
  {
   "cell_type": "code",
   "execution_count": 21,
   "id": "34f3cf8a",
   "metadata": {},
   "outputs": [
    {
     "name": "stdout",
     "output_type": "stream",
     "text": [
      "x is equal to y\n"
     ]
    }
   ],
   "source": [
    "if x < y:\n",
    "    print('x is smaller than y')\n",
    "elif x > y:\n",
    "    print('x is larger than y')\n",
    "else:\n",
    "    print('x is equal to y')"
   ]
  },
  {
   "cell_type": "markdown",
   "id": "d3fa88ae",
   "metadata": {},
   "source": [
    "### Fuction"
   ]
  },
  {
   "cell_type": "markdown",
   "id": "6ec8f630",
   "metadata": {},
   "source": [
    "- build-in function: len(), range()\n",
    "- User-defined function"
   ]
  },
  {
   "cell_type": "markdown",
   "id": "b1be30ca",
   "metadata": {},
   "source": [
    "```\n",
    "def function_name(arg1, arg2, ...):\n",
    "    business logic\n",
    "    return (optional)\n",
    "```"
   ]
  },
  {
   "cell_type": "code",
   "execution_count": 30,
   "id": "33402dcf",
   "metadata": {},
   "outputs": [],
   "source": [
    "li = [1, 2, 3, 4]"
   ]
  },
  {
   "cell_type": "code",
   "execution_count": 39,
   "id": "1b4409a0",
   "metadata": {},
   "outputs": [
    {
     "data": {
      "text/plain": [
       "4"
      ]
     },
     "execution_count": 39,
     "metadata": {},
     "output_type": "execute_result"
    }
   ],
   "source": [
    "li.index(li[-1])+1"
   ]
  },
  {
   "cell_type": "markdown",
   "id": "ea2f91c3",
   "metadata": {},
   "source": [
    "### Anonymous function"
   ]
  },
  {
   "cell_type": "code",
   "execution_count": 40,
   "id": "5ba217c5",
   "metadata": {},
   "outputs": [],
   "source": [
    "expo = lambda x: x**2"
   ]
  },
  {
   "cell_type": "code",
   "execution_count": 41,
   "id": "92009ffb",
   "metadata": {},
   "outputs": [
    {
     "data": {
      "text/plain": [
       "4"
      ]
     },
     "execution_count": 41,
     "metadata": {},
     "output_type": "execute_result"
    }
   ],
   "source": [
    "expo(2)"
   ]
  },
  {
   "cell_type": "markdown",
   "id": "b56bfb0d",
   "metadata": {},
   "source": [
    "### 5. Comprehension"
   ]
  },
  {
   "cell_type": "code",
   "execution_count": 42,
   "id": "9ff6527b",
   "metadata": {},
   "outputs": [
    {
     "data": {
      "text/plain": [
       "[1, 4, 9]"
      ]
     },
     "execution_count": 42,
     "metadata": {},
     "output_type": "execute_result"
    }
   ],
   "source": [
    "li = [ 1, 2, 3]\n",
    "li2 = []\n",
    "for i in li:\n",
    "    li2.append(i**2)\n",
    "li2"
   ]
  },
  {
   "cell_type": "code",
   "execution_count": 43,
   "id": "e0d9bae5",
   "metadata": {},
   "outputs": [],
   "source": [
    "li3 = [i**2 for i in li]"
   ]
  },
  {
   "cell_type": "code",
   "execution_count": 44,
   "id": "ac138de5",
   "metadata": {},
   "outputs": [
    {
     "data": {
      "text/plain": [
       "[1, 4, 9]"
      ]
     },
     "execution_count": 44,
     "metadata": {},
     "output_type": "execute_result"
    }
   ],
   "source": [
    "li3"
   ]
  },
  {
   "cell_type": "code",
   "execution_count": 45,
   "id": "796f4259",
   "metadata": {},
   "outputs": [],
   "source": [
    "li = [1, 2, 3, 4, 5, 6, 7]"
   ]
  },
  {
   "cell_type": "code",
   "execution_count": 57,
   "id": "f18f2207",
   "metadata": {},
   "outputs": [],
   "source": [
    "li2 = [i for i in li if i%2 == 1]"
   ]
  },
  {
   "cell_type": "code",
   "execution_count": 58,
   "id": "dbdf3cb4",
   "metadata": {},
   "outputs": [
    {
     "data": {
      "text/plain": [
       "[1, 3, 5, 7]"
      ]
     },
     "execution_count": 58,
     "metadata": {},
     "output_type": "execute_result"
    }
   ],
   "source": [
    "li2"
   ]
  },
  {
   "cell_type": "code",
   "execution_count": 59,
   "id": "0bdd53db",
   "metadata": {},
   "outputs": [],
   "source": [
    "li3 = [i**2 if i%2 == 1 else i for i in li ]"
   ]
  },
  {
   "cell_type": "code",
   "execution_count": 60,
   "id": "31565343",
   "metadata": {},
   "outputs": [
    {
     "data": {
      "text/plain": [
       "[1, 2, 9, 4, 25, 6, 49]"
      ]
     },
     "execution_count": 60,
     "metadata": {},
     "output_type": "execute_result"
    }
   ],
   "source": [
    "li3"
   ]
  },
  {
   "cell_type": "code",
   "execution_count": null,
   "id": "e7fa021c",
   "metadata": {},
   "outputs": [],
   "source": []
  }
 ],
 "metadata": {
  "kernelspec": {
   "display_name": "Python 3",
   "language": "python",
   "name": "python3"
  },
  "language_info": {
   "codemirror_mode": {
    "name": "ipython",
    "version": 3
   },
   "file_extension": ".py",
   "mimetype": "text/x-python",
   "name": "python",
   "nbconvert_exporter": "python",
   "pygments_lexer": "ipython3",
   "version": "3.7.10"
  }
 },
 "nbformat": 4,
 "nbformat_minor": 5
}
