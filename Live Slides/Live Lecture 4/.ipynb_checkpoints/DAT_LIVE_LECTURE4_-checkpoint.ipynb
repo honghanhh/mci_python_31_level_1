{
 "cells": [
  {
   "cell_type": "markdown",
   "id": "d7e00545-b385-490f-be2d-c657b2b38ac4",
   "metadata": {
    "tags": []
   },
   "source": [
    "# <center> LESSION 4 Introduction To Numpy </center>"
   ]
  },
  {
   "cell_type": "markdown",
   "id": "a4ecad0f-6079-44e0-a55d-8367485b33d5",
   "metadata": {},
   "source": [
    "##  1. INTRODOCTION "
   ]
  },
  {
   "cell_type": "markdown",
   "id": "5a0c625e-7a7f-4aae-9078-6496b09f07ef",
   "metadata": {},
   "source": [
    "![](data:image/png;base64,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)"
   ]
  },
  {
   "cell_type": "markdown",
   "id": "cd301495-ce47-40f7-90f1-ebd79cf05537",
   "metadata": {},
   "source": [
    "** NumPY** (Numerical Python) = multidimensional array + matrix data structure"
   ]
  },
  {
   "cell_type": "markdown",
   "id": "fe7619d4-a41d-455e-a398-8992cf641b82",
   "metadata": {},
   "source": [
    "## 1.1 Installtion \n",
    "- Install when creating a virtual/conda enviroment \n",
    "- conda create -n name_which_you_wanna python=3.7 numpy pandas...\n",
    "- when you miss to install them you can consider in our enviroment with: conda install ...\n",
    "- To list all the libs which we are using you can consider conda frezee requirement.txt"
   ]
  },
  {
   "cell_type": "code",
   "execution_count": 3,
   "id": "6ffd236f-eceb-4cb5-be44-4ca065461d5c",
   "metadata": {},
   "outputs": [
    {
     "name": "stdout",
     "output_type": "stream",
     "text": [
      "Collecting scikit-learn\n",
      "  Downloading scikit_learn-0.24.2-cp37-cp37m-macosx_10_13_x86_64.whl (7.2 MB)\n",
      "\u001b[K     |████████████████████████████████| 7.2 MB 4.2 MB/s eta 0:00:01\n",
      "\u001b[?25hCollecting threadpoolctl>=2.0.0\n",
      "  Using cached threadpoolctl-2.1.0-py3-none-any.whl (12 kB)\n",
      "Requirement already satisfied: numpy>=1.13.3 in /opt/anaconda3/envs/anthony/lib/python3.7/site-packages (from scikit-learn) (1.20.2)\n",
      "Requirement already satisfied: scipy>=0.19.1 in /opt/anaconda3/envs/anthony/lib/python3.7/site-packages (from scikit-learn) (1.6.2)\n",
      "Collecting joblib>=0.11\n",
      "  Using cached joblib-1.0.1-py3-none-any.whl (303 kB)\n",
      "Installing collected packages: threadpoolctl, joblib, scikit-learn\n",
      "Successfully installed joblib-1.0.1 scikit-learn-0.24.2 threadpoolctl-2.1.0\n"
     ]
    }
   ],
   "source": [
    "!pip install scikit-learn"
   ]
  },
  {
   "cell_type": "code",
   "execution_count": 4,
   "id": "e7944fcc-520b-4708-9632-d13407d6aed5",
   "metadata": {},
   "outputs": [
    {
     "name": "stdout",
     "output_type": "stream",
     "text": [
      "Requirement already satisfied: numpy in /opt/anaconda3/envs/anthony/lib/python3.7/site-packages (1.20.2)\n"
     ]
    }
   ],
   "source": [
    "!pip install numpy"
   ]
  },
  {
   "cell_type": "markdown",
   "id": "9a6376bc-a391-499c-b28b-5711284a5098",
   "metadata": {},
   "source": [
    "Ref: https://www.anaconda.com/blog/understanding-conda-and-pip\n"
   ]
  },
  {
   "cell_type": "markdown",
   "id": "445d9638-9b93-4f56-9a4a-b212d561ed01",
   "metadata": {},
   "source": [
    "## 1.2 Import"
   ]
  },
  {
   "cell_type": "code",
   "execution_count": 8,
   "id": "bfe48cac-20dd-499a-8976-cb3edc8b8d82",
   "metadata": {},
   "outputs": [],
   "source": [
    "import numpy as np"
   ]
  },
  {
   "cell_type": "markdown",
   "id": "d7dfca50-09ad-428d-af7c-710a1e62ec2f",
   "metadata": {},
   "source": [
    "## 1.3 Why Numpy"
   ]
  },
  {
   "cell_type": "code",
   "execution_count": 9,
   "id": "4923e764-754b-4fbf-bf4d-34201b774657",
   "metadata": {},
   "outputs": [],
   "source": [
    "# Have to learn scikit-learn well for machinelearning "
   ]
  },
  {
   "cell_type": "code",
   "execution_count": 10,
   "id": "6c8bd942-a50a-4a51-9f26-082cd69ff498",
   "metadata": {},
   "outputs": [],
   "source": [
    "#Datasctucture on python: list,tuple,set,class,fuction..."
   ]
  },
  {
   "cell_type": "code",
   "execution_count": 11,
   "id": "cbf44fb1-8698-48e5-a653-0fd82a369405",
   "metadata": {},
   "outputs": [
    {
     "data": {
      "text/plain": [
       "[1, 2, 3, 3, 4, 5]"
      ]
     },
     "execution_count": 11,
     "metadata": {},
     "output_type": "execute_result"
    }
   ],
   "source": [
    "li = [1,2,3]\n",
    "li1 = [3,4,5]\n",
    "li+li1"
   ]
  },
  {
   "cell_type": "code",
   "execution_count": 12,
   "id": "5353f1f3-1a6a-45e3-bed6-90aac68ab41d",
   "metadata": {},
   "outputs": [
    {
     "data": {
      "text/plain": [
       "array([5, 7, 9])"
      ]
     },
     "execution_count": 12,
     "metadata": {},
     "output_type": "execute_result"
    }
   ],
   "source": [
    "arr = np.array ([1,2,3])\n",
    "arr1= np.array ([4,5,6])\n",
    "arr+arr1"
   ]
  },
  {
   "cell_type": "code",
   "execution_count": 13,
   "id": "8686c185-1d56-4774-bab1-f4a13989b8a7",
   "metadata": {},
   "outputs": [],
   "source": [
    "#numpy means that vectorlization "
   ]
  },
  {
   "cell_type": "code",
   "execution_count": 15,
   "id": "ad4dcedd-d57f-4f3b-8580-6f513c515c57",
   "metadata": {},
   "outputs": [],
   "source": [
    "#process data quick than list and save the memmory\n",
    "#optimize our code programming with the best memory"
   ]
  },
  {
   "cell_type": "markdown",
   "id": "df6eac02-0f49-4f89-b99e-414d5f74602c",
   "metadata": {},
   "source": [
    "* Vectorlization"
   ]
  },
  {
   "cell_type": "markdown",
   "id": "5e53afe5-63cc-4a06-843c-e2bd30a18412",
   "metadata": {},
   "source": [
    "* Broadcasting"
   ]
  },
  {
   "cell_type": "markdown",
   "id": "7b4efc6a-2e5c-4893-b107-2c636cb72291",
   "metadata": {},
   "source": [
    "![](data:image/png;base64,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)"
   ]
  },
  {
   "cell_type": "markdown",
   "id": "e700fe99-8cbd-4bd9-ae11-7f6e85cb0db8",
   "metadata": {},
   "source": [
    "# 2. Bassics of Numpy "
   ]
  },
  {
   "cell_type": "markdown",
   "id": "e1caee56-d1dc-4393-8528-3a44b5d2b3d2",
   "metadata": {},
   "source": [
    "'''\n",
    "ndarray\n",
    "''' = N-Dimenssional Array"
   ]
  },
  {
   "cell_type": "markdown",
   "id": "691f494e-9414-4993-a9d6-212a3a022469",
   "metadata": {},
   "source": [
    "- Talk alitle bit about Tensor \n",
    "- 0-D arry: Scalar\n",
    "- 1-D array: Vector \n",
    "- 2-D array: Maxtrix\n",
    "- 3D arrry: Tensor "
   ]
  },
  {
   "cell_type": "code",
   "execution_count": 20,
   "id": "eec383dd-ef6d-49d5-a319-1c4eabfb96d2",
   "metadata": {},
   "outputs": [],
   "source": [
    "#When we talk about depplearning we have to know well about Tensor"
   ]
  },
  {
   "cell_type": "markdown",
   "id": "66cc9ee8-4909-4a77-ba33-ac89c507b8a4",
   "metadata": {},
   "source": [
    "## 2.1 How to creat a array"
   ]
  },
  {
   "cell_type": "code",
   "execution_count": 22,
   "id": "33a15962-a9b2-4201-9cc5-24491b2513c9",
   "metadata": {},
   "outputs": [],
   "source": [
    "# np. array () is the way to creat (have to learn)"
   ]
  },
  {
   "cell_type": "code",
   "execution_count": 24,
   "id": "5f058185-798a-4aa1-9150-2c393f1b6db4",
   "metadata": {},
   "outputs": [],
   "source": [
    "# with list we can add whatever type of element which we wanna do \n",
    "li = [1,2,3,True, False, 'abascbjasc']"
   ]
  },
  {
   "cell_type": "code",
   "execution_count": 147,
   "id": "2e096d99-2f81-4435-b25b-ff64ef1ff808",
   "metadata": {},
   "outputs": [],
   "source": [
    "#[method for method in dir(np) if not method.startswith('_')]"
   ]
  },
  {
   "cell_type": "code",
   "execution_count": 28,
   "id": "6efdc099-e94c-42d7-96b7-9cc59ba6755c",
   "metadata": {},
   "outputs": [
    {
     "data": {
      "text/plain": [
       "(numpy.int64, numpy.int64, numpy.int64)"
      ]
     },
     "execution_count": 28,
     "metadata": {},
     "output_type": "execute_result"
    }
   ],
   "source": [
    "arr = np.array([1,3,4])\n",
    "type(arr[0]), type(arr[1]),type(arr[2])"
   ]
  },
  {
   "cell_type": "code",
   "execution_count": 36,
   "id": "5c8883b4-256f-45ca-aa35-4cc4a545014d",
   "metadata": {},
   "outputs": [
    {
     "data": {
      "text/plain": [
       "array(['1', '2', '3', 'True', 'False', 'abascbjasc'], dtype='<U21')"
      ]
     },
     "execution_count": 36,
     "metadata": {},
     "output_type": "execute_result"
    }
   ],
   "source": [
    "arr1 = np.array(li)\n",
    "arr1"
   ]
  },
  {
   "cell_type": "code",
   "execution_count": 39,
   "id": "4f655861-db8e-4944-b3c1-7366a5ca5aed",
   "metadata": {},
   "outputs": [
    {
     "data": {
      "text/plain": [
       "<function __main__.<lambda>(x, y)>"
      ]
     },
     "execution_count": 39,
     "metadata": {},
     "output_type": "execute_result"
    }
   ],
   "source": [
    "lambda x,y:x+y"
   ]
  },
  {
   "cell_type": "code",
   "execution_count": 42,
   "id": "d8296a3e-5967-468b-9ba4-eb9014080634",
   "metadata": {},
   "outputs": [],
   "source": [
    "def addition(a,b):\n",
    "    '''\n",
    "    Sum of 2 members \n",
    "    Prarameters:\n",
    "    a: First Number\n",
    "    b: Seconda Number\n",
    "    '''\n",
    "    return a+b\n",
    "#Take information aobout Docstring"
   ]
  },
  {
   "cell_type": "markdown",
   "id": "4ac1fd5a-868e-4b6f-ae05-0d7d8964d2b3",
   "metadata": {},
   "source": [
    "REF:https://github.com/numpy/numpy"
   ]
  },
  {
   "cell_type": "code",
   "execution_count": 46,
   "id": "0316b931-7a34-4ebe-9aa4-4370b9d48491",
   "metadata": {},
   "outputs": [],
   "source": [
    "arr1 = np.array([1,2,3])# array 1 dimentsion with 3 element"
   ]
  },
  {
   "cell_type": "code",
   "execution_count": 49,
   "id": "357458e3-01de-4980-ba38-8f19ed5415dc",
   "metadata": {},
   "outputs": [
    {
     "name": "stdout",
     "output_type": "stream",
     "text": [
      "Number of demmesion 1\n"
     ]
    }
   ],
   "source": [
    "print('Number of demmesion {}'.format(arr1.ndim))"
   ]
  },
  {
   "cell_type": "code",
   "execution_count": 51,
   "id": "2438dc6a-e074-49b5-ad43-1fcb20286ea0",
   "metadata": {},
   "outputs": [],
   "source": [
    "arr1 = np.array([[1,2,3],\n",
    "                [2,3,4]])"
   ]
  },
  {
   "cell_type": "code",
   "execution_count": 53,
   "id": "173cb551-a449-406c-91f1-e3478ac35bf0",
   "metadata": {},
   "outputs": [
    {
     "name": "stdout",
     "output_type": "stream",
     "text": [
      "Number of demmesion (2, 3)\n"
     ]
    }
   ],
   "source": [
    "print('Number of demmesion {}'.format(arr1.shape))"
   ]
  },
  {
   "cell_type": "code",
   "execution_count": 54,
   "id": "fea91377-ad75-4ba1-900f-bebe71a67d8a",
   "metadata": {},
   "outputs": [],
   "source": [
    "#shape show demension and each element in each demmention "
   ]
  },
  {
   "cell_type": "code",
   "execution_count": 60,
   "id": "c085c6fc-13d8-4e65-9457-d882add6ad39",
   "metadata": {},
   "outputs": [
    {
     "name": "stdout",
     "output_type": "stream",
     "text": [
      "Number of element 6\n"
     ]
    }
   ],
   "source": [
    "print('Number of element {}'.format(arr1.shape[0]*arr1.shape[1]))"
   ]
  },
  {
   "cell_type": "code",
   "execution_count": 61,
   "id": "334b3ff4-1ec3-438d-a823-556dfbe2559d",
   "metadata": {},
   "outputs": [],
   "source": [
    "# Beside np.array()we have np.zeros(), np.ones(),np.full,np.arange(),np.linsapce()"
   ]
  },
  {
   "cell_type": "markdown",
   "id": "39f526fd-846b-4513-90ef-3fdd67ca5285",
   "metadata": {},
   "source": [
    "|Function|Meanings|\n",
    "|-|-|\n",
    "|np.zeros()|An array filled with 0s|\n",
    "|np.ones()|An array filled with 1s|\n",
    "|np.full()|An array filled with 'fill_vlaue|\n",
    "|np.arange()|An array that contains a range of envely sapced intervals|\n",
    "|np.linspace()|Array with values that spaces lineanrly in a speciafied interval|\n",
    "|np.random()|Array with value filled ramdomly|"
   ]
  },
  {
   "cell_type": "code",
   "execution_count": 70,
   "id": "b96d3ff7-eeaa-4776-b7ab-1905f87d6c60",
   "metadata": {},
   "outputs": [
    {
     "data": {
      "text/plain": [
       "array([0., 0., 0.])"
      ]
     },
     "execution_count": 70,
     "metadata": {},
     "output_type": "execute_result"
    }
   ],
   "source": [
    "np.zeros(shape=3)"
   ]
  },
  {
   "cell_type": "code",
   "execution_count": 68,
   "id": "17e9dee1-0acd-4043-868a-31b589e9ddfa",
   "metadata": {},
   "outputs": [
    {
     "data": {
      "text/plain": [
       "array([0., 0., 0.])"
      ]
     },
     "execution_count": 68,
     "metadata": {},
     "output_type": "execute_result"
    }
   ],
   "source": [
    "np.zeros(3)"
   ]
  },
  {
   "cell_type": "code",
   "execution_count": 64,
   "id": "de223529-8006-4c9a-9095-1821dcb29207",
   "metadata": {},
   "outputs": [
    {
     "data": {
      "text/plain": [
       "array([[0., 0.],\n",
       "       [0., 0.],\n",
       "       [0., 0.]])"
      ]
     },
     "execution_count": 64,
     "metadata": {},
     "output_type": "execute_result"
    }
   ],
   "source": [
    "np.zeros(shape=(3,2))"
   ]
  },
  {
   "cell_type": "code",
   "execution_count": 65,
   "id": "356a3a26-f25e-4910-8e16-9612ab069fcb",
   "metadata": {},
   "outputs": [
    {
     "data": {
      "text/plain": [
       "array([1., 1., 1.])"
      ]
     },
     "execution_count": 65,
     "metadata": {},
     "output_type": "execute_result"
    }
   ],
   "source": [
    "np.ones(3)"
   ]
  },
  {
   "cell_type": "code",
   "execution_count": 66,
   "id": "91be773a-fe95-4846-a9ff-6b63758e21fd",
   "metadata": {},
   "outputs": [
    {
     "data": {
      "text/plain": [
       "array([[1., 1.],\n",
       "       [1., 1.],\n",
       "       [1., 1.]])"
      ]
     },
     "execution_count": 66,
     "metadata": {},
     "output_type": "execute_result"
    }
   ],
   "source": [
    "np.ones((3,2))"
   ]
  },
  {
   "cell_type": "code",
   "execution_count": 69,
   "id": "db8cd439-bab8-4d93-869b-5b1dcd15d271",
   "metadata": {},
   "outputs": [
    {
     "data": {
      "text/plain": [
       "array(['mci', 'mci', 'mci'], dtype='<U3')"
      ]
     },
     "execution_count": 69,
     "metadata": {},
     "output_type": "execute_result"
    }
   ],
   "source": [
    "np.full(3,'mci')"
   ]
  },
  {
   "cell_type": "code",
   "execution_count": 71,
   "id": "c70b1ff5-dcd6-45d2-b678-1d10f3fcf7bf",
   "metadata": {},
   "outputs": [
    {
     "data": {
      "text/plain": [
       "array([1, 3, 5, 7, 9])"
      ]
     },
     "execution_count": 71,
     "metadata": {},
     "output_type": "execute_result"
    }
   ],
   "source": [
    "np.arange(1,10,2)"
   ]
  },
  {
   "cell_type": "code",
   "execution_count": 74,
   "id": "3aaa1051-bfe6-4bd2-ad58-12416f745be1",
   "metadata": {},
   "outputs": [
    {
     "data": {
      "text/plain": [
       "array([1. , 1.5, 2. , 2.5, 3. , 3.5, 4. , 4.5, 5. , 5.5, 6. , 6.5, 7. ,\n",
       "       7.5, 8. , 8.5, 9. , 9.5])"
      ]
     },
     "execution_count": 74,
     "metadata": {},
     "output_type": "execute_result"
    }
   ],
   "source": [
    "np.arange(1,10,0.5,dtype='float')"
   ]
  },
  {
   "cell_type": "code",
   "execution_count": 75,
   "id": "3e5b7a14-dba5-4ee8-b2c3-2fd516d49b6e",
   "metadata": {},
   "outputs": [],
   "source": [
    "#iclisive startvalue but exclusive stopvalue"
   ]
  },
  {
   "cell_type": "code",
   "execution_count": 78,
   "id": "6d04a4f1-4b62-4c2f-a20d-0534866e3ec8",
   "metadata": {},
   "outputs": [
    {
     "data": {
      "text/plain": [
       "array([ 1.        ,  1.18367347,  1.36734694,  1.55102041,  1.73469388,\n",
       "        1.91836735,  2.10204082,  2.28571429,  2.46938776,  2.65306122,\n",
       "        2.83673469,  3.02040816,  3.20408163,  3.3877551 ,  3.57142857,\n",
       "        3.75510204,  3.93877551,  4.12244898,  4.30612245,  4.48979592,\n",
       "        4.67346939,  4.85714286,  5.04081633,  5.2244898 ,  5.40816327,\n",
       "        5.59183673,  5.7755102 ,  5.95918367,  6.14285714,  6.32653061,\n",
       "        6.51020408,  6.69387755,  6.87755102,  7.06122449,  7.24489796,\n",
       "        7.42857143,  7.6122449 ,  7.79591837,  7.97959184,  8.16326531,\n",
       "        8.34693878,  8.53061224,  8.71428571,  8.89795918,  9.08163265,\n",
       "        9.26530612,  9.44897959,  9.63265306,  9.81632653, 10.        ])"
      ]
     },
     "execution_count": 78,
     "metadata": {},
     "output_type": "execute_result"
    }
   ],
   "source": [
    "np.linspace(1,10,50,dtype='float')"
   ]
  },
  {
   "cell_type": "code",
   "execution_count": null,
   "id": "92926920-13f4-4787-a546-98ed13a66611",
   "metadata": {},
   "outputs": [],
   "source": [
    "#Inclusive start and Inclusivestop value"
   ]
  },
  {
   "cell_type": "code",
   "execution_count": 79,
   "id": "2b128d3b-b6db-40b8-9de0-6d7c87e87472",
   "metadata": {},
   "outputs": [],
   "source": [
    "#Beside if we do not to need to care about what we are doing "
   ]
  },
  {
   "cell_type": "code",
   "execution_count": 82,
   "id": "79bd3eba-9102-41db-8472-9986df47180f",
   "metadata": {},
   "outputs": [],
   "source": [
    "#np.random-->pseudo-random"
   ]
  },
  {
   "cell_type": "code",
   "execution_count": 85,
   "id": "0dafe628-812c-4e03-8b6d-e9ac76a90af9",
   "metadata": {},
   "outputs": [
    {
     "data": {
      "text/plain": [
       "array([[0.19157434, 0.40912218, 0.60731967, 0.07563992],\n",
       "       [0.91222448, 0.98053855, 0.50373921, 0.37662953],\n",
       "       [0.09702409, 0.1145912 , 0.06743086, 0.47463781]])"
      ]
     },
     "execution_count": 85,
     "metadata": {},
     "output_type": "execute_result"
    }
   ],
   "source": [
    "np.random.random((3,4))"
   ]
  },
  {
   "cell_type": "code",
   "execution_count": 86,
   "id": "0878031c-a4d3-4aa9-920d-9bf00c8a221c",
   "metadata": {},
   "outputs": [],
   "source": [
    "#(a,b) means that 3 rows/3demensions with 4 elemnets in each dimension"
   ]
  },
  {
   "cell_type": "code",
   "execution_count": 90,
   "id": "29ac2baa-e9ca-4bbe-9218-ef4367e1ee46",
   "metadata": {},
   "outputs": [
    {
     "data": {
      "text/plain": [
       "60647"
      ]
     },
     "execution_count": 90,
     "metadata": {},
     "output_type": "execute_result"
    }
   ],
   "source": [
    "from datetime import datetime\n",
    "x = datetime.now().microsecond\n",
    "rand = 2*x +5 \n",
    "rand "
   ]
  },
  {
   "cell_type": "code",
   "execution_count": 91,
   "id": "9200d86a-8a00-48e2-a8bd-1502b93e95f1",
   "metadata": {},
   "outputs": [],
   "source": [
    "#Howwever the random-fuction always have to follwo a ways althoug we think that it is not real"
   ]
  },
  {
   "cell_type": "code",
   "execution_count": 93,
   "id": "3af8dad5-c935-4252-9c79-91bad6e59ada",
   "metadata": {},
   "outputs": [
    {
     "data": {
      "text/plain": [
       "array([[0.80317959, 0.50046514, 0.59808336, 0.29508074],\n",
       "       [0.19561488, 0.02631627, 0.29330996, 0.64623266],\n",
       "       [0.58563405, 0.83102857, 0.66714263, 0.87737997]])"
      ]
     },
     "execution_count": 93,
     "metadata": {},
     "output_type": "execute_result"
    }
   ],
   "source": [
    "np.random.random((3,4))#return all value which are contained from 0-1 uniform distribution "
   ]
  },
  {
   "cell_type": "markdown",
   "id": "8aac56e8-f57c-41c5-baa7-90566ce3ccc9",
   "metadata": {},
   "source": [
    "![](https://upload.wikimedia.org/wikipedia/commons/thumb/9/96/Uniform_Distribution_PDF_SVG.svg/1200px-Uniform_Distribution_PDF_SVG.svg.png)"
   ]
  },
  {
   "cell_type": "code",
   "execution_count": 98,
   "id": "51514d52-94c7-4b86-98ee-5113a6f38af7",
   "metadata": {},
   "outputs": [],
   "source": [
    "#Theprobability of each lements is the same in this range that is uniform distribution"
   ]
  },
  {
   "cell_type": "code",
   "execution_count": 112,
   "id": "bf75b875-0f72-4d90-8bd1-299438b57081",
   "metadata": {},
   "outputs": [
    {
     "data": {
      "text/plain": [
       "(array([ 9830.,  9880., 10025., 10054.,  9935.,  9988.,  9684., 10124.,\n",
       "        10140.,  9966., 10049.,  9899.,  9925.,  9998.,  9907.,  9840.,\n",
       "        10085., 10147., 10034.,  9834.,  9936.,  9902.,  9988., 10061.,\n",
       "        10151., 10021.,  9990., 10124., 10043., 10082., 10073.,  9794.,\n",
       "         9911., 10042., 10006., 10024.,  9842., 10149., 10062.,  9986.,\n",
       "        10075., 10130.,  9934., 10092., 10037.,  9896., 10066., 10142.,\n",
       "        10031., 10108., 10007., 10164., 10174.,  9926.,  9998., 10092.,\n",
       "         9828.,  9779., 10102.,  9924.,  9972., 10085.,  9898.,  9956.,\n",
       "        10036.,  9895., 10216., 10012., 10046.,  9871.,  9901.,  9960.,\n",
       "         9932., 10025., 10056., 10043., 10148., 10134.,  9888.,  9909.,\n",
       "         9957., 10088.,  9909.,  9948.,  9994.,  9914.,  9838., 10134.,\n",
       "        10064.,  9996., 10144.,  9880., 10233., 10118.,  9977.,  9866.,\n",
       "         9947.,  9969.,  9956., 10049.]),\n",
       " array([1.11606291e-06, 1.00010821e-02, 2.00010482e-02, 3.00010142e-02,\n",
       "        4.00009803e-02, 5.00009463e-02, 6.00009124e-02, 7.00008784e-02,\n",
       "        8.00008445e-02, 9.00008105e-02, 1.00000777e-01, 1.10000743e-01,\n",
       "        1.20000709e-01, 1.30000675e-01, 1.40000641e-01, 1.50000607e-01,\n",
       "        1.60000573e-01, 1.70000539e-01, 1.80000505e-01, 1.90000471e-01,\n",
       "        2.00000437e-01, 2.10000403e-01, 2.20000369e-01, 2.30000335e-01,\n",
       "        2.40000301e-01, 2.50000267e-01, 2.60000233e-01, 2.70000199e-01,\n",
       "        2.80000165e-01, 2.90000131e-01, 3.00000098e-01, 3.10000064e-01,\n",
       "        3.20000030e-01, 3.29999996e-01, 3.39999962e-01, 3.49999928e-01,\n",
       "        3.59999894e-01, 3.69999860e-01, 3.79999826e-01, 3.89999792e-01,\n",
       "        3.99999758e-01, 4.09999724e-01, 4.19999690e-01, 4.29999656e-01,\n",
       "        4.39999622e-01, 4.49999588e-01, 4.59999554e-01, 4.69999520e-01,\n",
       "        4.79999486e-01, 4.89999452e-01, 4.99999419e-01, 5.09999385e-01,\n",
       "        5.19999351e-01, 5.29999317e-01, 5.39999283e-01, 5.49999249e-01,\n",
       "        5.59999215e-01, 5.69999181e-01, 5.79999147e-01, 5.89999113e-01,\n",
       "        5.99999079e-01, 6.09999045e-01, 6.19999011e-01, 6.29998977e-01,\n",
       "        6.39998943e-01, 6.49998909e-01, 6.59998875e-01, 6.69998841e-01,\n",
       "        6.79998807e-01, 6.89998773e-01, 6.99998740e-01, 7.09998706e-01,\n",
       "        7.19998672e-01, 7.29998638e-01, 7.39998604e-01, 7.49998570e-01,\n",
       "        7.59998536e-01, 7.69998502e-01, 7.79998468e-01, 7.89998434e-01,\n",
       "        7.99998400e-01, 8.09998366e-01, 8.19998332e-01, 8.29998298e-01,\n",
       "        8.39998264e-01, 8.49998230e-01, 8.59998196e-01, 8.69998162e-01,\n",
       "        8.79998128e-01, 8.89998094e-01, 8.99998060e-01, 9.09998027e-01,\n",
       "        9.19997993e-01, 9.29997959e-01, 9.39997925e-01, 9.49997891e-01,\n",
       "        9.59997857e-01, 9.69997823e-01, 9.79997789e-01, 9.89997755e-01,\n",
       "        9.99997721e-01]),\n",
       " <BarContainer object of 100 artists>)"
      ]
     },
     "execution_count": 112,
     "metadata": {},
     "output_type": "execute_result"
    },
    {
     "data": {
      "image/png": "[encoded data removed]",
      "text/plain": [
       "<Figure size 432x288 with 1 Axes>"
      ]
     },
     "metadata": {
      "needs_background": "light"
     },
     "output_type": "display_data"
    }
   ],
   "source": [
    "np.random.random(100)\n",
    "import matplotlib.pyplot as plt\n",
    "plt.hist(np.random.random(1000000), bins = 100)"
   ]
  },
  {
   "cell_type": "code",
   "execution_count": 113,
   "id": "e8cafc29-c6c9-480d-9e9b-f172d694e2aa",
   "metadata": {},
   "outputs": [],
   "source": [
    "#That is an image to determine that the random depend on uniform distribution \n",
    "#Population and Sample "
   ]
  },
  {
   "cell_type": "markdown",
   "id": "6c6e5eb9-f70b-44bb-89c9-b3a0b6846798",
   "metadata": {},
   "source": [
    "**Population and Sample**"
   ]
  },
  {
   "cell_type": "code",
   "execution_count": 114,
   "id": "5c33e660-007b-4b7e-871f-0d91c7a565a5",
   "metadata": {},
   "outputs": [],
   "source": [
    "# Hoc sac xuat thong Ke"
   ]
  },
  {
   "cell_type": "markdown",
   "id": "39f3bc05-d047-4771-882a-6d6d20e89a26",
   "metadata": {},
   "source": [
    "Ref: https://medium.com/@feraguilari/histograms-in-data-science-fdb30af97e21"
   ]
  },
  {
   "cell_type": "code",
   "execution_count": 116,
   "id": "244adaa6-de45-4b6f-b35b-2956dd17ab4d",
   "metadata": {},
   "outputs": [
    {
     "data": {
      "text/plain": [
       "-0.2624167606888963"
      ]
     },
     "execution_count": 116,
     "metadata": {},
     "output_type": "execute_result"
    }
   ],
   "source": [
    "np.random.normal() #Gauss Distribution "
   ]
  },
  {
   "cell_type": "markdown",
   "id": "751d49d9-e114-4816-888e-b251d1690efe",
   "metadata": {},
   "source": [
    "[Ref about histogram in Datascience](https://medium.com/@feraguilari/histograms-in-data-science-fdb30af97e21)\n"
   ]
  },
  {
   "cell_type": "markdown",
   "id": "58e2aae7-7297-498c-860a-0d7fbb00afc6",
   "metadata": {},
   "source": [
    "**Normal Distribution**"
   ]
  },
  {
   "cell_type": "markdown",
   "id": "503d388e-3325-4141-8f0e-98bba15d0433",
   "metadata": {},
   "source": [
    "![](https://www.researchgate.net/profile/Mohamed-Abdelkareem-3/publication/339429775/figure/fig5/AS:866295083986945@1583552251305/Probability-distribution-function-a-uniform-distribution-of-the-excitation-frequency.png)"
   ]
  },
  {
   "cell_type": "markdown",
   "id": "6ad0af4a-3c39-4497-a1c2-8287aa2eccab",
   "metadata": {},
   "source": [
    "**Normal Distribution \n",
    "- Symetric\n",
    "- ring-shape\n",
    "- Mean represent central tendency of data distribution(mean = median = mode)\n",
    "- Mean and Standard deveriation \n",
    "Ref: https://www.wikilectures.eu/w/Gaussian_Distribution"
   ]
  },
  {
   "cell_type": "markdown",
   "id": "8e5b5e27-6649-4c1b-b9a1-37ce30e9d16a",
   "metadata": {},
   "source": [
    "https://maths.uel.edu.vn/Resources/Docs/SubDomain/maths/TaiLieuHocTap/ToanUngDung/univariate-analysis-22-638.jpg"
   ]
  },
  {
   "cell_type": "code",
   "execution_count": 123,
   "id": "ab787fcc-4540-4439-9f34-1783e5f9202b",
   "metadata": {},
   "outputs": [
    {
     "data": {
      "text/plain": [
       "(array([0., 0., 0., 0., 0., 1., 0., 0., 0., 0.]),\n",
       " array([21.49572873, 21.59572873, 21.69572873, 21.79572873, 21.89572873,\n",
       "        21.99572873, 22.09572873, 22.19572873, 22.29572873, 22.39572873,\n",
       "        22.49572873]),\n",
       " <BarContainer object of 10 artists>)"
      ]
     },
     "execution_count": 123,
     "metadata": {},
     "output_type": "execute_result"
    },
    {
     "data": {
      "image/png": "[encoded data removed]",
      "text/plain": [
       "<Figure size 432x288 with 1 Axes>"
      ]
     },
     "metadata": {
      "needs_background": "light"
     },
     "output_type": "display_data"
    }
   ],
   "source": [
    "plt.hist(np.random.normal(10,10))"
   ]
  },
  {
   "cell_type": "code",
   "execution_count": 128,
   "id": "3f5d5ed3-6530-4be4-b04d-53c559be1795",
   "metadata": {},
   "outputs": [
    {
     "data": {
      "text/plain": [
       "array([0.5488135 , 0.71518937, 0.60276338, 0.54488318, 0.4236548 ,\n",
       "       0.64589411, 0.43758721, 0.891773  , 0.96366276, 0.38344152,\n",
       "       0.79172504, 0.52889492, 0.56804456, 0.92559664, 0.07103606,\n",
       "       0.0871293 , 0.0202184 , 0.83261985, 0.77815675, 0.87001215,\n",
       "       0.97861834, 0.79915856, 0.46147936, 0.78052918, 0.11827443,\n",
       "       0.63992102, 0.14335329, 0.94466892, 0.52184832, 0.41466194,\n",
       "       0.26455561, 0.77423369, 0.45615033, 0.56843395, 0.0187898 ,\n",
       "       0.6176355 , 0.61209572, 0.616934  , 0.94374808, 0.6818203 ,\n",
       "       0.3595079 , 0.43703195, 0.6976312 , 0.06022547, 0.66676672,\n",
       "       0.67063787, 0.21038256, 0.1289263 , 0.31542835, 0.36371077,\n",
       "       0.57019677, 0.43860151, 0.98837384, 0.10204481, 0.20887676,\n",
       "       0.16130952, 0.65310833, 0.2532916 , 0.46631077, 0.24442559,\n",
       "       0.15896958, 0.11037514, 0.65632959, 0.13818295, 0.19658236,\n",
       "       0.36872517, 0.82099323, 0.09710128, 0.83794491, 0.09609841,\n",
       "       0.97645947, 0.4686512 , 0.97676109, 0.60484552, 0.73926358,\n",
       "       0.03918779, 0.28280696, 0.12019656, 0.2961402 , 0.11872772,\n",
       "       0.31798318, 0.41426299, 0.0641475 , 0.69247212, 0.56660145,\n",
       "       0.26538949, 0.52324805, 0.09394051, 0.5759465 , 0.9292962 ,\n",
       "       0.31856895, 0.66741038, 0.13179786, 0.7163272 , 0.28940609,\n",
       "       0.18319136, 0.58651293, 0.02010755, 0.82894003, 0.00469548])"
      ]
     },
     "execution_count": 128,
     "metadata": {},
     "output_type": "execute_result"
    }
   ],
   "source": [
    "np.random.seed(0) # seeed for reproducibility\n",
    "arr = np.random.random(100)\n",
    "arr"
   ]
  },
  {
   "cell_type": "markdown",
   "id": "24afaa8f-85f7-4172-9413-2ff021b83d02",
   "metadata": {},
   "source": [
    "**Save and Load**"
   ]
  },
  {
   "cell_type": "code",
   "execution_count": 129,
   "id": "f3a2279b-9ab9-429c-abc5-3314607ea6ae",
   "metadata": {},
   "outputs": [],
   "source": [
    "np.savetxt('text.txt', arr)"
   ]
  },
  {
   "cell_type": "code",
   "execution_count": 133,
   "id": "51a10cf0-47a4-4fc9-9878-14b6a845e067",
   "metadata": {},
   "outputs": [],
   "source": [
    "arr1 = np.loadtxt('text.txt')"
   ]
  },
  {
   "cell_type": "code",
   "execution_count": 142,
   "id": "a8c50bc4-35f0-4064-81c6-28e3c708183b",
   "metadata": {},
   "outputs": [
    {
     "name": "stdout",
     "output_type": "stream",
     "text": [
      "rm: text.txt: No such file or directory\n"
     ]
    }
   ],
   "source": [
    "!rm text.txt"
   ]
  },
  {
   "cell_type": "code",
   "execution_count": 143,
   "id": "4b48b562-09c0-4e74-b04e-2605c4c3a69a",
   "metadata": {},
   "outputs": [
    {
     "data": {
      "text/plain": [
       "'/Users/macbook/Documents/GitHub/mci_python_31_level_1/Live Slides/Live Lecture 4'"
      ]
     },
     "execution_count": 143,
     "metadata": {},
     "output_type": "execute_result"
    }
   ],
   "source": [
    "pwd"
   ]
  },
  {
   "cell_type": "code",
   "execution_count": 136,
   "id": "b79d0bea-6ef9-49a9-8cf6-d61abb089cde",
   "metadata": {},
   "outputs": [],
   "source": [
    "#how to check where we are being pwd"
   ]
  },
  {
   "cell_type": "code",
   "execution_count": 137,
   "id": "0241d866-1ddd-4a9f-b052-502b2fc02dad",
   "metadata": {},
   "outputs": [],
   "source": [
    "!mkdir Save_test"
   ]
  },
  {
   "cell_type": "code",
   "execution_count": 139,
   "id": "4f35b6c7-9bf1-409e-9b2d-920121d96597",
   "metadata": {},
   "outputs": [],
   "source": [
    "np.savetxt('./Save_test/test.txt',arr)"
   ]
  },
  {
   "cell_type": "code",
   "execution_count": 140,
   "id": "ba043413-10b8-463a-9480-6933db11c48b",
   "metadata": {},
   "outputs": [],
   "source": [
    "!rm -r Save_test/"
   ]
  },
  {
   "cell_type": "markdown",
   "id": "19865984-bd99-49bd-962a-386facfa4045",
   "metadata": {},
   "source": [
    "## 2.2 Index and  Slicing"
   ]
  },
  {
   "cell_type": "code",
   "execution_count": 144,
   "id": "43947865-9c24-43bc-81de-294217300b1e",
   "metadata": {},
   "outputs": [],
   "source": [
    "#variable_name[index]"
   ]
  },
  {
   "cell_type": "code",
   "execution_count": 148,
   "id": "0cc60e41-6054-4f34-94e0-5d6fea023e14",
   "metadata": {},
   "outputs": [
    {
     "data": {
      "text/plain": [
       "array([[ 1.,  2.,  3.,  4.],\n",
       "       [ 5.,  6.,  7.,  8.],\n",
       "       [ 9., 10., 11., 12.],\n",
       "       [13., 14., 15., 16.]])"
      ]
     },
     "execution_count": 148,
     "metadata": {},
     "output_type": "execute_result"
    }
   ],
   "source": [
    "arr = np.linspace(1,16,16).reshape(4,4)\n",
    "arr"
   ]
  },
  {
   "cell_type": "code",
   "execution_count": 149,
   "id": "2f69c51e-27a5-49d0-9e9e-039ef16d9af3",
   "metadata": {},
   "outputs": [],
   "source": [
    "#When using reshape we have to make sure the size should be the the number of linspaces"
   ]
  },
  {
   "cell_type": "code",
   "execution_count": 150,
   "id": "7ac598a4-95fa-48b4-a855-b39494e2e71a",
   "metadata": {},
   "outputs": [
    {
     "data": {
      "text/plain": [
       "array([1., 2., 3., 4.])"
      ]
     },
     "execution_count": 150,
     "metadata": {},
     "output_type": "execute_result"
    }
   ],
   "source": [
    "arr[0]"
   ]
  },
  {
   "cell_type": "code",
   "execution_count": 151,
   "id": "1c8e92f0-613c-4ec2-ac0b-f51a4cbc90bc",
   "metadata": {},
   "outputs": [
    {
     "data": {
      "text/plain": [
       "array([5., 6., 7., 8.])"
      ]
     },
     "execution_count": 151,
     "metadata": {},
     "output_type": "execute_result"
    }
   ],
   "source": [
    "arr[1]"
   ]
  },
  {
   "cell_type": "markdown",
   "id": "b9bab7a0-8f0e-4005-bc58-02682f1894f8",
   "metadata": {},
   "source": [
    "|Function|Meanings|\n",
    "|-|-|\n",
    "|np.arrange()|Inclusive startvalue and Exclusive stopvalue|\n",
    "|np.linspace()|Inclusive startvalue and Inclusive stopvalue|"
   ]
  },
  {
   "cell_type": "code",
   "execution_count": 152,
   "id": "e06a95b3-02fe-45a0-947f-a0822568f49c",
   "metadata": {},
   "outputs": [
    {
     "data": {
      "text/plain": [
       "array([5., 6., 7., 8.])"
      ]
     },
     "execution_count": 152,
     "metadata": {},
     "output_type": "execute_result"
    }
   ],
   "source": [
    "arr[1,:]"
   ]
  },
  {
   "cell_type": "code",
   "execution_count": 157,
   "id": "6a4a90c7-51e4-45d0-855c-f5f2ee9f96a9",
   "metadata": {},
   "outputs": [
    {
     "data": {
      "text/plain": [
       "array([1., 2., 3., 4.])"
      ]
     },
     "execution_count": 157,
     "metadata": {},
     "output_type": "execute_result"
    }
   ],
   "source": [
    "arr[0,:]"
   ]
  },
  {
   "cell_type": "code",
   "execution_count": 155,
   "id": "7000efca-6d3f-4cb8-b62c-d84390c94a30",
   "metadata": {},
   "outputs": [
    {
     "data": {
      "text/plain": [
       "array([ 1.,  5.,  9., 13.])"
      ]
     },
     "execution_count": 155,
     "metadata": {},
     "output_type": "execute_result"
    }
   ],
   "source": [
    "arr[:,0]"
   ]
  },
  {
   "cell_type": "code",
   "execution_count": 158,
   "id": "b975d637-ff9f-403a-9f41-fee46be9a3d1",
   "metadata": {},
   "outputs": [
    {
     "data": {
      "text/plain": [
       "array([[ 1.,  2.,  3.,  4.],\n",
       "       [ 5.,  6.,  7.,  8.],\n",
       "       [ 9., 10., 11., 12.],\n",
       "       [13., 14., 15., 16.]])"
      ]
     },
     "execution_count": 158,
     "metadata": {},
     "output_type": "execute_result"
    }
   ],
   "source": [
    "arr"
   ]
  },
  {
   "cell_type": "code",
   "execution_count": 162,
   "id": "b952ff8e-934c-4f08-9570-c627da021d34",
   "metadata": {},
   "outputs": [
    {
     "data": {
      "text/plain": [
       "array([[1., 2.],\n",
       "       [5., 6.]])"
      ]
     },
     "execution_count": 162,
     "metadata": {},
     "output_type": "execute_result"
    }
   ],
   "source": [
    "arr[0:2,0:2]#incluive start and Exclusive stop"
   ]
  },
  {
   "cell_type": "code",
   "execution_count": 167,
   "id": "a0f829a4-45c7-4fc7-b34e-1dbf8f7588bb",
   "metadata": {},
   "outputs": [
    {
     "data": {
      "text/plain": [
       "array([[3., 4.],\n",
       "       [7., 8.]])"
      ]
     },
     "execution_count": 167,
     "metadata": {},
     "output_type": "execute_result"
    }
   ],
   "source": [
    "arr[0:2,2:4]"
   ]
  },
  {
   "cell_type": "code",
   "execution_count": 168,
   "id": "6f725a94-0a6a-4856-96b3-4b838d550479",
   "metadata": {},
   "outputs": [],
   "source": [
    "#note that (a,b) a là hàng còn B là số phần trử trong số hàng đó\n"
   ]
  },
  {
   "cell_type": "markdown",
   "id": "d76e7003-fcd4-448e-9641-d9d83da8cd1a",
   "metadata": {},
   "source": [
    "## 2.3 Basic Maths"
   ]
  },
  {
   "cell_type": "code",
   "execution_count": 172,
   "id": "245460cc-d690-497c-b345-1088b2685aa4",
   "metadata": {},
   "outputs": [],
   "source": [
    "arr1 = np.array([[1,2],\n",
    "                 [2,4]])\n",
    "arr2 = np.array([[10,20],\n",
    "                 [20,40]])"
   ]
  },
  {
   "cell_type": "code",
   "execution_count": 173,
   "id": "5f23bc39-3320-4d4e-8c46-d7b76cfdf562",
   "metadata": {},
   "outputs": [
    {
     "data": {
      "text/plain": [
       "array([[11, 22],\n",
       "       [22, 44]])"
      ]
     },
     "execution_count": 173,
     "metadata": {},
     "output_type": "execute_result"
    }
   ],
   "source": [
    "arr1+arr2"
   ]
  },
  {
   "cell_type": "code",
   "execution_count": 174,
   "id": "03a30064-10ae-4b3d-98ef-3ccb92314099",
   "metadata": {},
   "outputs": [
    {
     "data": {
      "text/plain": [
       "array([[ -9, -18],\n",
       "       [-18, -36]])"
      ]
     },
     "execution_count": 174,
     "metadata": {},
     "output_type": "execute_result"
    }
   ],
   "source": [
    "arr1 -arr2"
   ]
  },
  {
   "cell_type": "code",
   "execution_count": 178,
   "id": "45485a28-9779-48db-8fe0-50e839dcb0f1",
   "metadata": {},
   "outputs": [
    {
     "data": {
      "text/plain": [
       "array([[ 10,  40],\n",
       "       [ 40, 160]])"
      ]
     },
     "execution_count": 178,
     "metadata": {},
     "output_type": "execute_result"
    }
   ],
   "source": [
    "arr1*arr2"
   ]
  },
  {
   "cell_type": "code",
   "execution_count": 179,
   "id": "474cfb15-db79-4422-9105-cb132f7e4c55",
   "metadata": {},
   "outputs": [
    {
     "data": {
      "text/plain": [
       "array([[0.1, 0.1],\n",
       "       [0.1, 0.1]])"
      ]
     },
     "execution_count": 179,
     "metadata": {},
     "output_type": "execute_result"
    }
   ],
   "source": [
    "arr1/arr2"
   ]
  },
  {
   "cell_type": "code",
   "execution_count": 180,
   "id": "d6f6ece3-0e7f-47b3-b0ec-b3972dd889b8",
   "metadata": {},
   "outputs": [
    {
     "data": {
      "text/plain": [
       "array([[ 50, 100],\n",
       "       [100, 200]])"
      ]
     },
     "execution_count": 180,
     "metadata": {},
     "output_type": "execute_result"
    }
   ],
   "source": [
    "#Matrix mulplication\n",
    "arr1 @ arr2"
   ]
  },
  {
   "cell_type": "code",
   "execution_count": 181,
   "id": "4d9f3f02-752d-4e0a-b4a3-fcc265c0e74c",
   "metadata": {},
   "outputs": [],
   "source": [
    "#mean-median-mode"
   ]
  },
  {
   "cell_type": "code",
   "execution_count": 5,
   "id": "989d82b5-346e-47a0-8f61-d8ef05457cab",
   "metadata": {},
   "outputs": [],
   "source": [
    "arr = np.linspace(1,12,12,dtype='int').reshape(3,4)"
   ]
  },
  {
   "cell_type": "code",
   "execution_count": 5,
   "id": "8e5618c0-62b2-458e-9497-6ab5ab4e95c8",
   "metadata": {},
   "outputs": [
    {
     "data": {
      "text/plain": [
       "array([[ 1,  2,  3,  4],\n",
       "       [ 5,  6,  7,  8],\n",
       "       [ 9, 10, 11, 12]])"
      ]
     },
     "execution_count": 5,
     "metadata": {},
     "output_type": "execute_result"
    }
   ],
   "source": [
    "arr"
   ]
  },
  {
   "cell_type": "code",
   "execution_count": 6,
   "id": "cd325bf0-75ce-4eef-b752-2d8f0f747166",
   "metadata": {},
   "outputs": [
    {
     "data": {
      "text/plain": [
       "6.5"
      ]
     },
     "execution_count": 6,
     "metadata": {},
     "output_type": "execute_result"
    }
   ],
   "source": [
    "import numpy as np\n",
    "np.mean(arr)"
   ]
  },
  {
   "cell_type": "code",
   "execution_count": 7,
   "id": "6b246694-1e8d-4d85-865f-c6246e72f45f",
   "metadata": {},
   "outputs": [
    {
     "data": {
      "text/plain": [
       "6.5"
      ]
     },
     "execution_count": 7,
     "metadata": {},
     "output_type": "execute_result"
    }
   ],
   "source": [
    "np.median(arr)"
   ]
  },
  {
   "cell_type": "code",
   "execution_count": null,
   "id": "5c2b9e09-34dc-4ef4-b96b-3b0f9827cd15",
   "metadata": {},
   "outputs": [],
   "source": [
    "#FINISH"
   ]
  }
 ],
 "metadata": {
  "kernelspec": {
   "display_name": "Python 3",
   "language": "python",
   "name": "python3"
  },
  "language_info": {
   "codemirror_mode": {
    "name": "ipython",
    "version": 3
   },
   "file_extension": ".py",
   "mimetype": "text/x-python",
   "name": "python",
   "nbconvert_exporter": "python",
   "pygments_lexer": "ipython3",
   "version": "3.7.0"
  }
 },
 "nbformat": 4,
 "nbformat_minor": 5
}
