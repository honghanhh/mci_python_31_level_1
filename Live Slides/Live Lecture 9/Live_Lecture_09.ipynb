{
 "cells": [
  {
   "cell_type": "markdown",
   "id": "4d25cbf4-c61f-472f-a63c-1d4d1560a10e",
   "metadata": {},
   "source": [
    "# <center> LESSON 9: CASE STUDY with CREDIT SCORING </center>"
   ]
  },
  {
   "cell_type": "markdown",
   "id": "f0f04520-90a4-4508-b8cc-3ab2f97590e5",
   "metadata": {},
   "source": [
    "## 1. PROBLEM\n",
    "\n",
    "Banks play a crucial role in market economies. They decide who can get finance and on what terms and can make or break investment decisions. For markets and society to function, individuals and companies need access to credit. \n",
    "\n",
    "Credit scoring algorithms, which make a guess at the probability of default, are the method banks use to determine whether or not a loan should be granted. This competition requires participants to improve on the state of the art in credit scoring, by predicting the probability that somebody will experience financial distress in the next two years.\n",
    "\n",
    "- **Input**: Historical data of 250,000 borrowers.\n",
    "- **Output**: SeriousDlqin2yrs.\n",
    "- **Goal**: Build a model that borrowers can use to help make the best financial decisions."
   ]
  },
  {
   "cell_type": "markdown",
   "id": "29c06173-b68c-47c7-a989-34f8a9c4c095",
   "metadata": {},
   "source": [
    "Reference: [Kaggle Dataset](https://www.kaggle.com/c/GiveMeSomeCredit)"
   ]
  },
  {
   "cell_type": "markdown",
   "id": "717033bd-c27e-4dbe-b053-d4822c6fe7bd",
   "metadata": {},
   "source": [
    "## 2. Exploratory Data Analysis (EDA)"
   ]
  },
  {
   "cell_type": "markdown",
   "id": "04b84143-33b4-4463-87fa-65a11746f1f9",
   "metadata": {},
   "source": [
    "### 2.1 Variables descriptions"
   ]
  },
  {
   "cell_type": "markdown",
   "id": "be0f8213-edb5-43dc-8e0b-83354e2919e6",
   "metadata": {},
   "source": [
    "|Variables|Descriptions|\n",
    "|-|-|\n",
    "|**SeriousDlqin2yrs**| Person experienced 90 days past due delinquency or worse|\n",
    "|**RevolvingUtilizationOfUnsecuredLines**| Total balance on credit cards and personal lines of credit except real estate and no installment debt like car loans divided by the sum of credit limits|\n",
    "|**age**| Age of borrower in years|\n",
    "|**NumberOfTime30-59DaysPastDueNotWorse**| Number of times borrower has been 30-59 days past due but no worse in the last 2 years||\n",
    "|**DebtRatio**| Monthly debt payments, alimony,living costs divided by monthy gross income\n",
    "|**MonthlyIncome**| Monthly income|\n",
    "|**NumberOfOpenCreditLinesAndLoans**| Number of Open loans (installment like car loan or mortgage) and Lines of credit (e.g. credit cards)|\n",
    "|**NumberOfTimes90DaysLate**| Number of times borrower has been 90 days or more past due|\n",
    "|**NumberRealEstateLoansOrLines**| Number of mortgage and real estate loans including home equity lines of credit|\n",
    "|**NumberOfTime60-89DaysPastDueNotWorse**| Number of times borrower has been 60-89 days past due but no worse in the last 2 years|\n",
    "|**NumberOfDependents**| Number of dependents in family excluding themselves (spouse, children etc.)|"
   ]
  },
  {
   "cell_type": "markdown",
   "id": "0552cbf7-3df0-46b9-9e30-230e170fa517",
   "metadata": {},
   "source": [
    "### 2.2 Statistics"
   ]
  },
  {
   "cell_type": "markdown",
   "id": "6f9ca2f1-5cd1-4e4c-804d-2ed0ec488ad4",
   "metadata": {},
   "source": [
    "**Q1: Import necessary libraries: Pandas, Numpy, Matplotlib, Seaborn**"
   ]
  },
  {
   "cell_type": "code",
   "execution_count": null,
   "id": "cb013cef-cfa4-49d7-81e6-fe0e7ebb0e6e",
   "metadata": {},
   "outputs": [],
   "source": []
  },
  {
   "cell_type": "markdown",
   "id": "83dd5e2c-bceb-4f31-a824-59d31a61b4f4",
   "metadata": {},
   "source": [
    "**Q2: Load data using pd.read_csv()**"
   ]
  },
  {
   "cell_type": "code",
   "execution_count": null,
   "id": "c3616d35-20a0-438f-b493-0cb6cb88325b",
   "metadata": {},
   "outputs": [],
   "source": []
  },
  {
   "cell_type": "markdown",
   "id": "0e57838e-6dfe-44de-9011-9668a6082fe6",
   "metadata": {},
   "source": [
    "**Q3: Get the first 5 rows of train set**"
   ]
  },
  {
   "cell_type": "code",
   "execution_count": null,
   "id": "eca877f2-f214-43e3-aea5-7235b588f5ef",
   "metadata": {},
   "outputs": [],
   "source": []
  },
  {
   "cell_type": "markdown",
   "id": "bb18e103-d1db-45e4-b6e1-0ed231571952",
   "metadata": {},
   "source": [
    "**Q4: Get number of rows and columns of  train set**"
   ]
  },
  {
   "cell_type": "code",
   "execution_count": null,
   "id": "337ed795-a13b-4d44-bdbe-42ddd0ada23e",
   "metadata": {},
   "outputs": [],
   "source": []
  },
  {
   "cell_type": "markdown",
   "id": "c29df1d8-3c32-433c-927d-5a9c8685c849",
   "metadata": {},
   "source": [
    "**Q5: Describe the distribution of train set**"
   ]
  },
  {
   "cell_type": "code",
   "execution_count": null,
   "id": "6a82b752-56b2-4b21-bff1-385ed7430359",
   "metadata": {},
   "outputs": [],
   "source": []
  },
  {
   "cell_type": "markdown",
   "id": "b4e3ab1d-9b97-4e6d-b453-e04de98e7689",
   "metadata": {},
   "source": [
    "**Q6: Get information of train set by df.info()**"
   ]
  },
  {
   "cell_type": "code",
   "execution_count": null,
   "id": "f561870d-fed0-4aac-b964-665f1b8a1e06",
   "metadata": {},
   "outputs": [],
   "source": []
  },
  {
   "cell_type": "markdown",
   "id": "abb026fa-2219-4aaa-9cab-422b227c176a",
   "metadata": {},
   "source": [
    "**Q7: Get the missing percent per columns of train set**"
   ]
  },
  {
   "cell_type": "code",
   "execution_count": null,
   "id": "e6c1cd05-ac01-4863-baf2-9ede8f177e53",
   "metadata": {},
   "outputs": [],
   "source": []
  },
  {
   "cell_type": "markdown",
   "id": "0a9b3c72-a328-4890-9ef0-7cfeda88dd18",
   "metadata": {},
   "source": [
    "### 2.3 Visualization"
   ]
  },
  {
   "cell_type": "markdown",
   "id": "5504329f-36dd-4182-bd97-4eab3666df33",
   "metadata": {},
   "source": [
    "**Q8: Target disitribution on train set via bar chart**"
   ]
  },
  {
   "cell_type": "code",
   "execution_count": null,
   "id": "5da5dfc6-0c82-4875-aed7-43d7c673bcda",
   "metadata": {},
   "outputs": [],
   "source": []
  },
  {
   "cell_type": "markdown",
   "id": "aa5fed8c-c9a7-4d2b-acf8-6818bc683534",
   "metadata": {},
   "source": [
    "**Q9: Correlation of features and target**"
   ]
  },
  {
   "cell_type": "code",
   "execution_count": null,
   "id": "3a964303-6bd0-4377-8639-7d5c3bfe04b8",
   "metadata": {},
   "outputs": [],
   "source": []
  },
  {
   "cell_type": "markdown",
   "id": "50ffa369-38f5-4a4d-8c24-1aa838cf5040",
   "metadata": {},
   "source": [
    "**Q10: Describe features distribution and correlation given histogram and pairplot chart**"
   ]
  },
  {
   "cell_type": "code",
   "execution_count": null,
   "id": "ea98d48a-b9e4-470c-8cb7-3a0e50a8aa93",
   "metadata": {},
   "outputs": [],
   "source": []
  },
  {
   "cell_type": "markdown",
   "id": "9ade92c3-a2d1-492d-8c35-1c07fdd1af23",
   "metadata": {},
   "source": [
    "**Q11: Explore each feature with target using catplot**"
   ]
  },
  {
   "cell_type": "code",
   "execution_count": null,
   "id": "20c7079f-cbfe-4d58-9dd0-6219b1b484bf",
   "metadata": {},
   "outputs": [],
   "source": []
  },
  {
   "cell_type": "markdown",
   "id": "6d114e8d-1894-4c8f-977c-8c88b1e91cd0",
   "metadata": {},
   "source": [
    "## 3. MODEL"
   ]
  },
  {
   "cell_type": "markdown",
   "id": "a11c209d-268a-4c0b-958d-3c6c2d0f1943",
   "metadata": {},
   "source": [
    "**Q12: Handle outliers in dataset**"
   ]
  },
  {
   "cell_type": "code",
   "execution_count": null,
   "id": "7b4452bb-8772-4004-8e09-5cb07220358c",
   "metadata": {},
   "outputs": [],
   "source": []
  },
  {
   "cell_type": "markdown",
   "id": "52bd288a-4efa-4ccf-a64b-c11f3e889ed0",
   "metadata": {},
   "source": [
    "**Q13: Merge train and test dataset**"
   ]
  },
  {
   "cell_type": "code",
   "execution_count": null,
   "id": "446765c2-c457-4dfe-a342-2c3f4484ac02",
   "metadata": {},
   "outputs": [],
   "source": []
  },
  {
   "cell_type": "markdown",
   "id": "45455922-912b-42d8-ac52-1963d1f4422c",
   "metadata": {},
   "source": [
    "**Q14: Rename columns name into shorter alias**"
   ]
  },
  {
   "cell_type": "code",
   "execution_count": null,
   "id": "ae58c16c-b05a-44bf-bd13-1814b15546a0",
   "metadata": {},
   "outputs": [],
   "source": []
  },
  {
   "cell_type": "markdown",
   "id": "223a40b5-a7ef-4564-9a09-cef06f3a0280",
   "metadata": {},
   "source": [
    "**Q15: Building binary/dummy variables**"
   ]
  },
  {
   "cell_type": "code",
   "execution_count": null,
   "id": "5a09f88b-c321-4198-a3c9-f5b3efbba9f7",
   "metadata": {},
   "outputs": [],
   "source": []
  },
  {
   "cell_type": "markdown",
   "id": "b487fd3c-21e3-43c2-8417-4781debe999b",
   "metadata": {},
   "source": [
    "**Q16: Train test split**"
   ]
  },
  {
   "cell_type": "code",
   "execution_count": null,
   "id": "1ad8bad1-8d8f-406f-948e-c748e9865ed6",
   "metadata": {},
   "outputs": [],
   "source": []
  },
  {
   "cell_type": "markdown",
   "id": "db92cc0c-f060-43ae-b42c-143079df0179",
   "metadata": {},
   "source": [
    "**Q17: Train prediction model using Random Forest Classifier**"
   ]
  },
  {
   "cell_type": "code",
   "execution_count": null,
   "id": "3fd72a59-3c92-4a77-9f61-278a37d22647",
   "metadata": {},
   "outputs": [],
   "source": []
  },
  {
   "cell_type": "markdown",
   "id": "48b77ee7-a7d0-46a1-abca-fa8430ac70f6",
   "metadata": {},
   "source": [
    "**Q18: Get feature importance from classifier**"
   ]
  },
  {
   "cell_type": "code",
   "execution_count": null,
   "id": "58285abf-cb00-43f8-917b-52744f3924b0",
   "metadata": {},
   "outputs": [],
   "source": []
  },
  {
   "cell_type": "markdown",
   "id": "668c3e37-5855-41cc-bce8-d12a66a90da9",
   "metadata": {},
   "source": [
    "**Q19: Retrain with better parameters**"
   ]
  },
  {
   "cell_type": "code",
   "execution_count": null,
   "id": "04859c66-bae2-45a3-aff1-b417ca41de66",
   "metadata": {},
   "outputs": [],
   "source": []
  },
  {
   "cell_type": "markdown",
   "id": "38058ff2-c3a7-4f5d-83ce-53b4dc4e8a63",
   "metadata": {},
   "source": [
    "**Q20: Predict and evaluate the model performance**"
   ]
  },
  {
   "cell_type": "code",
   "execution_count": null,
   "id": "60fc99dc-db83-472f-842a-e95e7c11bed9",
   "metadata": {},
   "outputs": [],
   "source": []
  },
  {
   "cell_type": "markdown",
   "id": "ee027911-743e-46b0-a321-9d9cdd4fe182",
   "metadata": {},
   "source": [
    "<center> <img src=\"https://media.makeameme.org/created/have-a-nice-17d2442086.jpg\" width=\"500\"/> </center>"
   ]
  },
  {
   "cell_type": "code",
   "execution_count": null,
   "id": "1292e8d6-9f81-40bd-8160-d934d20ef23c",
   "metadata": {},
   "outputs": [],
   "source": []
  }
 ],
 "metadata": {
  "kernelspec": {
   "display_name": "Python 3",
   "language": "python",
   "name": "python3"
  },
  "language_info": {
   "codemirror_mode": {
    "name": "ipython",
    "version": 3
   },
   "file_extension": ".py",
   "mimetype": "text/x-python",
   "name": "python",
   "nbconvert_exporter": "python",
   "pygments_lexer": "ipython3",
   "version": "3.7.10"
  }
 },
 "nbformat": 4,
 "nbformat_minor": 5
}
