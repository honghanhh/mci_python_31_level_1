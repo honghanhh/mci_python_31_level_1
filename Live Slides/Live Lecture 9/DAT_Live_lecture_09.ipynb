{
 "cells": [
  {
   "cell_type": "markdown",
   "id": "4d25cbf4-c61f-472f-a63c-1d4d1560a10e",
   "metadata": {},
   "source": [
    "# <center> LESSON 9: CASE STUDY with CREDIT SCORING </center>"
   ]
  },
  {
   "cell_type": "markdown",
   "id": "1165972f-3d31-4a17-87ae-0090214e3e29",
   "metadata": {},
   "source": [
    "BASEL I, II, III, IV --> rules  \n",
    "* Datasource which we have alot of data at: https://www.kaggle.com/\n",
    "* We can learn and have some test at Kaggle \n",
    "* In Kaggle which we have train and test separately instead of we have to show them different as iris before "
   ]
  },
  {
   "cell_type": "markdown",
   "id": "f0f04520-90a4-4508-b8cc-3ab2f97590e5",
   "metadata": {},
   "source": [
    "## 1. PROBLEM\n",
    "\n",
    "Banks play a crucial role in market economies. They decide who can get finance and on what terms and can make or break investment decisions. For markets and society to function, individuals and companies need access to credit. \n",
    "\n",
    "Credit scoring algorithms, which make a guess at the probability of default, are the method banks use to determine whether or not a loan should be granted. This competition requires participants to improve on the state of the art in credit scoring, by predicting the probability that somebody will experience financial distress in the next two years.\n",
    "\n",
    "- **Input**: Historical data of 250,000 borrowers.\n",
    "- **Output**: SeriousDlqin2yrs.\n",
    "- **Goal**: Build a model that borrowers can use to help make the best financial decisions."
   ]
  },
  {
   "cell_type": "markdown",
   "id": "29c06173-b68c-47c7-a989-34f8a9c4c095",
   "metadata": {},
   "source": [
    "Reference: [Kaggle Dataset](https://www.kaggle.com/c/GiveMeSomeCredit)"
   ]
  },
  {
   "cell_type": "markdown",
   "id": "717033bd-c27e-4dbe-b053-d4822c6fe7bd",
   "metadata": {},
   "source": [
    "## 2. Exploratory Data Analysis (EDA)"
   ]
  },
  {
   "cell_type": "markdown",
   "id": "04b84143-33b4-4463-87fa-65a11746f1f9",
   "metadata": {},
   "source": [
    "### 2.1 Variables descriptions"
   ]
  },
  {
   "cell_type": "markdown",
   "id": "be0f8213-edb5-43dc-8e0b-83354e2919e6",
   "metadata": {},
   "source": [
    "|Variables|Descriptions|\n",
    "|-|-|\n",
    "|**SeriousDlqin2yrs**| Person experienced 90 days past due delinquency or worse|\n",
    "|**RevolvingUtilizationOfUnsecuredLines**| Total balance on credit cards and personal lines of credit except real estate and no installment debt like car loans divided by the sum of credit limits|\n",
    "|**age**| Age of borrower in years|\n",
    "|**NumberOfTime30-59DaysPastDueNotWorse**| Number of times borrower has been 30-59 days past due but no worse in the last 2 years||\n",
    "|**DebtRatio**| Monthly debt payments, alimony,living costs divided by monthy gross income\n",
    "|**MonthlyIncome**| Monthly income|\n",
    "|**NumberOfOpenCreditLinesAndLoans**| Number of Open loans (installment like car loan or mortgage) and Lines of credit (e.g. credit cards)|\n",
    "|**NumberOfTimes90DaysLate**| Number of times borrower has been 90 days or more past due|\n",
    "|**NumberRealEstateLoansOrLines**| Number of mortgage and real estate loans including home equity lines of credit|\n",
    "|**NumberOfTime60-89DaysPastDueNotWorse**| Number of times borrower has been 60-89 days past due but no worse in the last 2 years|\n",
    "|**NumberOfDependents**| Number of dependents in family excluding themselves (spouse, children etc.)|"
   ]
  },
  {
   "cell_type": "markdown",
   "id": "9170fe78-d45a-4364-97ce-d18d987903f0",
   "metadata": {},
   "source": [
    "* SeriousDlqin2yrs Serious in 2 years"
   ]
  },
  {
   "cell_type": "markdown",
   "id": "0552cbf7-3df0-46b9-9e30-230e170fa517",
   "metadata": {},
   "source": [
    "### 2.2 Statistics"
   ]
  },
  {
   "cell_type": "markdown",
   "id": "e7a12782-c8c1-4866-842c-17fc4323ea86",
   "metadata": {},
   "source": [
    "Database: SQL and Oracle \n",
    "\n",
    "BigData: We will use datawarehouse or DataLake (Spark Hadoop) \n",
    "\n",
    "    - RAW DATA->ETL(Extract Transform Load)->Clean Data \n",
    "    - Clean Data -> EDA(Exporylory Data Analystis)->Vizulization(matplotlib seaborn, pandas) and Statistic(pandas) --> Feature Engineering (Process the missing value) \n",
    "In the realtime: Featureengineering: Selection - > Build the model \n",
    "\n",
    "Next Step - > Train model \n",
    "Validate model in test data \n",
    "If good:\n",
    "    Do it and test move it to deploy (historgram, index,....precession)\n",
    "else:\n",
    "    Check again the EDA \n"
   ]
  },
  {
   "cell_type": "markdown",
   "id": "6f9ca2f1-5cd1-4e4c-804d-2ed0ec488ad4",
   "metadata": {},
   "source": [
    "**Q1: Import necessary libraries: Pandas, Numpy, Matplotlib, Seaborn**"
   ]
  },
  {
   "cell_type": "code",
   "execution_count": 1,
   "id": "cb013cef-cfa4-49d7-81e6-fe0e7ebb0e6e",
   "metadata": {},
   "outputs": [],
   "source": [
    "import pandas as pd\n",
    "import numpy as np\n",
    "import matplotlib.pyplot as plt \n",
    "import seaborn as sns"
   ]
  },
  {
   "cell_type": "markdown",
   "id": "83dd5e2c-bceb-4f31-a824-59d31a61b4f4",
   "metadata": {},
   "source": [
    "**Q2: Load data using pd.read_csv()**"
   ]
  },
  {
   "cell_type": "code",
   "execution_count": 2,
   "id": "c3616d35-20a0-438f-b493-0cb6cb88325b",
   "metadata": {},
   "outputs": [],
   "source": [
    "df_train = pd.read_csv('cs-training.csv')\n",
    "df_test = pd.read_csv('cs-test.csv')"
   ]
  },
  {
   "cell_type": "markdown",
   "id": "0e57838e-6dfe-44de-9011-9668a6082fe6",
   "metadata": {},
   "source": [
    "**Q3: Get the first 5 rows of train set**"
   ]
  },
  {
   "cell_type": "code",
   "execution_count": 3,
   "id": "eca877f2-f214-43e3-aea5-7235b588f5ef",
   "metadata": {},
   "outputs": [
    {
     "data": {
      "text/html": [
       "<div>\n",
       "<style scoped>\n",
       "    .dataframe tbody tr th:only-of-type {\n",
       "        vertical-align: middle;\n",
       "    }\n",
       "\n",
       "    .dataframe tbody tr th {\n",
       "        vertical-align: top;\n",
       "    }\n",
       "\n",
       "    .dataframe thead th {\n",
       "        text-align: right;\n",
       "    }\n",
       "</style>\n",
       "<table border=\"1\" class=\"dataframe\">\n",
       "  <thead>\n",
       "    <tr style=\"text-align: right;\">\n",
       "      <th></th>\n",
       "      <th>SeriousDlqin2yrs</th>\n",
       "      <th>RevolvingUtilizationOfUnsecuredLines</th>\n",
       "      <th>age</th>\n",
       "      <th>NumberOfTime30-59DaysPastDueNotWorse</th>\n",
       "      <th>DebtRatio</th>\n",
       "      <th>MonthlyIncome</th>\n",
       "      <th>NumberOfOpenCreditLinesAndLoans</th>\n",
       "      <th>NumberOfTimes90DaysLate</th>\n",
       "      <th>NumberRealEstateLoansOrLines</th>\n",
       "      <th>NumberOfTime60-89DaysPastDueNotWorse</th>\n",
       "      <th>NumberOfDependents</th>\n",
       "    </tr>\n",
       "  </thead>\n",
       "  <tbody>\n",
       "    <tr>\n",
       "      <th>0</th>\n",
       "      <td>1</td>\n",
       "      <td>0.766127</td>\n",
       "      <td>45</td>\n",
       "      <td>2</td>\n",
       "      <td>0.802982</td>\n",
       "      <td>9120.0</td>\n",
       "      <td>13</td>\n",
       "      <td>0</td>\n",
       "      <td>6</td>\n",
       "      <td>0</td>\n",
       "      <td>2.0</td>\n",
       "    </tr>\n",
       "    <tr>\n",
       "      <th>1</th>\n",
       "      <td>0</td>\n",
       "      <td>0.957151</td>\n",
       "      <td>40</td>\n",
       "      <td>0</td>\n",
       "      <td>0.121876</td>\n",
       "      <td>2600.0</td>\n",
       "      <td>4</td>\n",
       "      <td>0</td>\n",
       "      <td>0</td>\n",
       "      <td>0</td>\n",
       "      <td>1.0</td>\n",
       "    </tr>\n",
       "    <tr>\n",
       "      <th>2</th>\n",
       "      <td>0</td>\n",
       "      <td>0.658180</td>\n",
       "      <td>38</td>\n",
       "      <td>1</td>\n",
       "      <td>0.085113</td>\n",
       "      <td>3042.0</td>\n",
       "      <td>2</td>\n",
       "      <td>1</td>\n",
       "      <td>0</td>\n",
       "      <td>0</td>\n",
       "      <td>0.0</td>\n",
       "    </tr>\n",
       "    <tr>\n",
       "      <th>3</th>\n",
       "      <td>0</td>\n",
       "      <td>0.233810</td>\n",
       "      <td>30</td>\n",
       "      <td>0</td>\n",
       "      <td>0.036050</td>\n",
       "      <td>3300.0</td>\n",
       "      <td>5</td>\n",
       "      <td>0</td>\n",
       "      <td>0</td>\n",
       "      <td>0</td>\n",
       "      <td>0.0</td>\n",
       "    </tr>\n",
       "    <tr>\n",
       "      <th>4</th>\n",
       "      <td>0</td>\n",
       "      <td>0.907239</td>\n",
       "      <td>49</td>\n",
       "      <td>1</td>\n",
       "      <td>0.024926</td>\n",
       "      <td>63588.0</td>\n",
       "      <td>7</td>\n",
       "      <td>0</td>\n",
       "      <td>1</td>\n",
       "      <td>0</td>\n",
       "      <td>0.0</td>\n",
       "    </tr>\n",
       "  </tbody>\n",
       "</table>\n",
       "</div>"
      ],
      "text/plain": [
       "   SeriousDlqin2yrs  RevolvingUtilizationOfUnsecuredLines  age  \\\n",
       "0                 1                              0.766127   45   \n",
       "1                 0                              0.957151   40   \n",
       "2                 0                              0.658180   38   \n",
       "3                 0                              0.233810   30   \n",
       "4                 0                              0.907239   49   \n",
       "\n",
       "   NumberOfTime30-59DaysPastDueNotWorse  DebtRatio  MonthlyIncome  \\\n",
       "0                                     2   0.802982         9120.0   \n",
       "1                                     0   0.121876         2600.0   \n",
       "2                                     1   0.085113         3042.0   \n",
       "3                                     0   0.036050         3300.0   \n",
       "4                                     1   0.024926        63588.0   \n",
       "\n",
       "   NumberOfOpenCreditLinesAndLoans  NumberOfTimes90DaysLate  \\\n",
       "0                               13                        0   \n",
       "1                                4                        0   \n",
       "2                                2                        1   \n",
       "3                                5                        0   \n",
       "4                                7                        0   \n",
       "\n",
       "   NumberRealEstateLoansOrLines  NumberOfTime60-89DaysPastDueNotWorse  \\\n",
       "0                             6                                     0   \n",
       "1                             0                                     0   \n",
       "2                             0                                     0   \n",
       "3                             0                                     0   \n",
       "4                             1                                     0   \n",
       "\n",
       "   NumberOfDependents  \n",
       "0                 2.0  \n",
       "1                 1.0  \n",
       "2                 0.0  \n",
       "3                 0.0  \n",
       "4                 0.0  "
      ]
     },
     "execution_count": 3,
     "metadata": {},
     "output_type": "execute_result"
    }
   ],
   "source": [
    "df_train.head()"
   ]
  },
  {
   "cell_type": "code",
   "execution_count": 4,
   "id": "3c29e91b-a848-40d0-b7c4-e585bef060df",
   "metadata": {},
   "outputs": [
    {
     "data": {
      "text/html": [
       "<div>\n",
       "<style scoped>\n",
       "    .dataframe tbody tr th:only-of-type {\n",
       "        vertical-align: middle;\n",
       "    }\n",
       "\n",
       "    .dataframe tbody tr th {\n",
       "        vertical-align: top;\n",
       "    }\n",
       "\n",
       "    .dataframe thead th {\n",
       "        text-align: right;\n",
       "    }\n",
       "</style>\n",
       "<table border=\"1\" class=\"dataframe\">\n",
       "  <thead>\n",
       "    <tr style=\"text-align: right;\">\n",
       "      <th></th>\n",
       "      <th>SeriousDlqin2yrs</th>\n",
       "      <th>RevolvingUtilizationOfUnsecuredLines</th>\n",
       "      <th>age</th>\n",
       "      <th>NumberOfTime30-59DaysPastDueNotWorse</th>\n",
       "      <th>DebtRatio</th>\n",
       "      <th>MonthlyIncome</th>\n",
       "      <th>NumberOfOpenCreditLinesAndLoans</th>\n",
       "      <th>NumberOfTimes90DaysLate</th>\n",
       "      <th>NumberRealEstateLoansOrLines</th>\n",
       "      <th>NumberOfTime60-89DaysPastDueNotWorse</th>\n",
       "      <th>NumberOfDependents</th>\n",
       "    </tr>\n",
       "  </thead>\n",
       "  <tbody>\n",
       "    <tr>\n",
       "      <th>0</th>\n",
       "      <td>NaN</td>\n",
       "      <td>0.885519</td>\n",
       "      <td>43</td>\n",
       "      <td>0</td>\n",
       "      <td>0.177513</td>\n",
       "      <td>5700.0</td>\n",
       "      <td>4</td>\n",
       "      <td>0</td>\n",
       "      <td>0</td>\n",
       "      <td>0</td>\n",
       "      <td>0.0</td>\n",
       "    </tr>\n",
       "    <tr>\n",
       "      <th>1</th>\n",
       "      <td>NaN</td>\n",
       "      <td>0.463295</td>\n",
       "      <td>57</td>\n",
       "      <td>0</td>\n",
       "      <td>0.527237</td>\n",
       "      <td>9141.0</td>\n",
       "      <td>15</td>\n",
       "      <td>0</td>\n",
       "      <td>4</td>\n",
       "      <td>0</td>\n",
       "      <td>2.0</td>\n",
       "    </tr>\n",
       "    <tr>\n",
       "      <th>2</th>\n",
       "      <td>NaN</td>\n",
       "      <td>0.043275</td>\n",
       "      <td>59</td>\n",
       "      <td>0</td>\n",
       "      <td>0.687648</td>\n",
       "      <td>5083.0</td>\n",
       "      <td>12</td>\n",
       "      <td>0</td>\n",
       "      <td>1</td>\n",
       "      <td>0</td>\n",
       "      <td>2.0</td>\n",
       "    </tr>\n",
       "    <tr>\n",
       "      <th>3</th>\n",
       "      <td>NaN</td>\n",
       "      <td>0.280308</td>\n",
       "      <td>38</td>\n",
       "      <td>1</td>\n",
       "      <td>0.925961</td>\n",
       "      <td>3200.0</td>\n",
       "      <td>7</td>\n",
       "      <td>0</td>\n",
       "      <td>2</td>\n",
       "      <td>0</td>\n",
       "      <td>0.0</td>\n",
       "    </tr>\n",
       "    <tr>\n",
       "      <th>4</th>\n",
       "      <td>NaN</td>\n",
       "      <td>1.000000</td>\n",
       "      <td>27</td>\n",
       "      <td>0</td>\n",
       "      <td>0.019917</td>\n",
       "      <td>3865.0</td>\n",
       "      <td>4</td>\n",
       "      <td>0</td>\n",
       "      <td>0</td>\n",
       "      <td>0</td>\n",
       "      <td>1.0</td>\n",
       "    </tr>\n",
       "  </tbody>\n",
       "</table>\n",
       "</div>"
      ],
      "text/plain": [
       "   SeriousDlqin2yrs  RevolvingUtilizationOfUnsecuredLines  age  \\\n",
       "0               NaN                              0.885519   43   \n",
       "1               NaN                              0.463295   57   \n",
       "2               NaN                              0.043275   59   \n",
       "3               NaN                              0.280308   38   \n",
       "4               NaN                              1.000000   27   \n",
       "\n",
       "   NumberOfTime30-59DaysPastDueNotWorse  DebtRatio  MonthlyIncome  \\\n",
       "0                                     0   0.177513         5700.0   \n",
       "1                                     0   0.527237         9141.0   \n",
       "2                                     0   0.687648         5083.0   \n",
       "3                                     1   0.925961         3200.0   \n",
       "4                                     0   0.019917         3865.0   \n",
       "\n",
       "   NumberOfOpenCreditLinesAndLoans  NumberOfTimes90DaysLate  \\\n",
       "0                                4                        0   \n",
       "1                               15                        0   \n",
       "2                               12                        0   \n",
       "3                                7                        0   \n",
       "4                                4                        0   \n",
       "\n",
       "   NumberRealEstateLoansOrLines  NumberOfTime60-89DaysPastDueNotWorse  \\\n",
       "0                             0                                     0   \n",
       "1                             4                                     0   \n",
       "2                             1                                     0   \n",
       "3                             2                                     0   \n",
       "4                             0                                     0   \n",
       "\n",
       "   NumberOfDependents  \n",
       "0                 0.0  \n",
       "1                 2.0  \n",
       "2                 2.0  \n",
       "3                 0.0  \n",
       "4                 1.0  "
      ]
     },
     "execution_count": 4,
     "metadata": {},
     "output_type": "execute_result"
    }
   ],
   "source": [
    "df_test.head()"
   ]
  },
  {
   "cell_type": "markdown",
   "id": "e9586feb-2d97-4baf-91a5-44849f68ec92",
   "metadata": {},
   "source": []
  },
  {
   "cell_type": "code",
   "execution_count": 5,
   "id": "8ddf3b3e-f24a-40b4-b89d-62a15dfa0963",
   "metadata": {},
   "outputs": [
    {
     "data": {
      "text/plain": [
       "(101503, 11)"
      ]
     },
     "execution_count": 5,
     "metadata": {},
     "output_type": "execute_result"
    }
   ],
   "source": [
    "df_train.shape\n",
    "df_test.shape "
   ]
  },
  {
   "cell_type": "code",
   "execution_count": 6,
   "id": "d6613781-dfbe-4a8b-96b3-883e9f2041f3",
   "metadata": {},
   "outputs": [
    {
     "data": {
      "text/plain": [
       "1650000"
      ]
     },
     "execution_count": 6,
     "metadata": {},
     "output_type": "execute_result"
    }
   ],
   "source": [
    "df_train.size"
   ]
  },
  {
   "cell_type": "code",
   "execution_count": 7,
   "id": "49191691-2c03-43cf-8e3f-8a3737e85bea",
   "metadata": {},
   "outputs": [
    {
     "name": "stdout",
     "output_type": "stream",
     "text": [
      "<class 'pandas.core.frame.DataFrame'>\n",
      "RangeIndex: 150000 entries, 0 to 149999\n",
      "Data columns (total 11 columns):\n",
      " #   Column                                Non-Null Count   Dtype  \n",
      "---  ------                                --------------   -----  \n",
      " 0   SeriousDlqin2yrs                      150000 non-null  int64  \n",
      " 1   RevolvingUtilizationOfUnsecuredLines  150000 non-null  float64\n",
      " 2   age                                   150000 non-null  int64  \n",
      " 3   NumberOfTime30-59DaysPastDueNotWorse  150000 non-null  int64  \n",
      " 4   DebtRatio                             150000 non-null  float64\n",
      " 5   MonthlyIncome                         120269 non-null  float64\n",
      " 6   NumberOfOpenCreditLinesAndLoans       150000 non-null  int64  \n",
      " 7   NumberOfTimes90DaysLate               150000 non-null  int64  \n",
      " 8   NumberRealEstateLoansOrLines          150000 non-null  int64  \n",
      " 9   NumberOfTime60-89DaysPastDueNotWorse  150000 non-null  int64  \n",
      " 10  NumberOfDependents                    146076 non-null  float64\n",
      "dtypes: float64(4), int64(7)\n",
      "memory usage: 12.6 MB\n"
     ]
    }
   ],
   "source": [
    "df_train.info()"
   ]
  },
  {
   "cell_type": "markdown",
   "id": "bb18e103-d1db-45e4-b6e1-0ed231571952",
   "metadata": {},
   "source": [
    "**Q4: Get number of rows and columns of  train set**"
   ]
  },
  {
   "cell_type": "code",
   "execution_count": 14,
   "id": "337ed795-a13b-4d44-bdbe-42ddd0ada23e",
   "metadata": {},
   "outputs": [
    {
     "data": {
      "text/plain": [
       "(150000, 11)"
      ]
     },
     "execution_count": 14,
     "metadata": {},
     "output_type": "execute_result"
    }
   ],
   "source": [
    "df_train.shape"
   ]
  },
  {
   "cell_type": "markdown",
   "id": "c29df1d8-3c32-433c-927d-5a9c8685c849",
   "metadata": {},
   "source": [
    "**Q5: Describe the distribution of train set**"
   ]
  },
  {
   "cell_type": "code",
   "execution_count": 15,
   "id": "6a82b752-56b2-4b21-bff1-385ed7430359",
   "metadata": {},
   "outputs": [
    {
     "data": {
      "text/html": [
       "<div>\n",
       "<style scoped>\n",
       "    .dataframe tbody tr th:only-of-type {\n",
       "        vertical-align: middle;\n",
       "    }\n",
       "\n",
       "    .dataframe tbody tr th {\n",
       "        vertical-align: top;\n",
       "    }\n",
       "\n",
       "    .dataframe thead th {\n",
       "        text-align: right;\n",
       "    }\n",
       "</style>\n",
       "<table border=\"1\" class=\"dataframe\">\n",
       "  <thead>\n",
       "    <tr style=\"text-align: right;\">\n",
       "      <th></th>\n",
       "      <th>SeriousDlqin2yrs</th>\n",
       "      <th>RevolvingUtilizationOfUnsecuredLines</th>\n",
       "      <th>age</th>\n",
       "      <th>NumberOfTime30-59DaysPastDueNotWorse</th>\n",
       "      <th>DebtRatio</th>\n",
       "      <th>MonthlyIncome</th>\n",
       "      <th>NumberOfOpenCreditLinesAndLoans</th>\n",
       "      <th>NumberOfTimes90DaysLate</th>\n",
       "      <th>NumberRealEstateLoansOrLines</th>\n",
       "      <th>NumberOfTime60-89DaysPastDueNotWorse</th>\n",
       "      <th>NumberOfDependents</th>\n",
       "    </tr>\n",
       "  </thead>\n",
       "  <tbody>\n",
       "    <tr>\n",
       "      <th>count</th>\n",
       "      <td>150000.000000</td>\n",
       "      <td>150000.000000</td>\n",
       "      <td>150000.000000</td>\n",
       "      <td>150000.000000</td>\n",
       "      <td>150000.000000</td>\n",
       "      <td>1.202690e+05</td>\n",
       "      <td>150000.000000</td>\n",
       "      <td>150000.000000</td>\n",
       "      <td>150000.000000</td>\n",
       "      <td>150000.000000</td>\n",
       "      <td>146076.000000</td>\n",
       "    </tr>\n",
       "    <tr>\n",
       "      <th>mean</th>\n",
       "      <td>0.066840</td>\n",
       "      <td>6.048438</td>\n",
       "      <td>52.295207</td>\n",
       "      <td>0.421033</td>\n",
       "      <td>353.005076</td>\n",
       "      <td>6.670221e+03</td>\n",
       "      <td>8.452760</td>\n",
       "      <td>0.265973</td>\n",
       "      <td>1.018240</td>\n",
       "      <td>0.240387</td>\n",
       "      <td>0.757222</td>\n",
       "    </tr>\n",
       "    <tr>\n",
       "      <th>std</th>\n",
       "      <td>0.249746</td>\n",
       "      <td>249.755371</td>\n",
       "      <td>14.771866</td>\n",
       "      <td>4.192781</td>\n",
       "      <td>2037.818523</td>\n",
       "      <td>1.438467e+04</td>\n",
       "      <td>5.145951</td>\n",
       "      <td>4.169304</td>\n",
       "      <td>1.129771</td>\n",
       "      <td>4.155179</td>\n",
       "      <td>1.115086</td>\n",
       "    </tr>\n",
       "    <tr>\n",
       "      <th>min</th>\n",
       "      <td>0.000000</td>\n",
       "      <td>0.000000</td>\n",
       "      <td>0.000000</td>\n",
       "      <td>0.000000</td>\n",
       "      <td>0.000000</td>\n",
       "      <td>0.000000e+00</td>\n",
       "      <td>0.000000</td>\n",
       "      <td>0.000000</td>\n",
       "      <td>0.000000</td>\n",
       "      <td>0.000000</td>\n",
       "      <td>0.000000</td>\n",
       "    </tr>\n",
       "    <tr>\n",
       "      <th>25%</th>\n",
       "      <td>0.000000</td>\n",
       "      <td>0.029867</td>\n",
       "      <td>41.000000</td>\n",
       "      <td>0.000000</td>\n",
       "      <td>0.175074</td>\n",
       "      <td>3.400000e+03</td>\n",
       "      <td>5.000000</td>\n",
       "      <td>0.000000</td>\n",
       "      <td>0.000000</td>\n",
       "      <td>0.000000</td>\n",
       "      <td>0.000000</td>\n",
       "    </tr>\n",
       "    <tr>\n",
       "      <th>50%</th>\n",
       "      <td>0.000000</td>\n",
       "      <td>0.154181</td>\n",
       "      <td>52.000000</td>\n",
       "      <td>0.000000</td>\n",
       "      <td>0.366508</td>\n",
       "      <td>5.400000e+03</td>\n",
       "      <td>8.000000</td>\n",
       "      <td>0.000000</td>\n",
       "      <td>1.000000</td>\n",
       "      <td>0.000000</td>\n",
       "      <td>0.000000</td>\n",
       "    </tr>\n",
       "    <tr>\n",
       "      <th>75%</th>\n",
       "      <td>0.000000</td>\n",
       "      <td>0.559046</td>\n",
       "      <td>63.000000</td>\n",
       "      <td>0.000000</td>\n",
       "      <td>0.868254</td>\n",
       "      <td>8.249000e+03</td>\n",
       "      <td>11.000000</td>\n",
       "      <td>0.000000</td>\n",
       "      <td>2.000000</td>\n",
       "      <td>0.000000</td>\n",
       "      <td>1.000000</td>\n",
       "    </tr>\n",
       "    <tr>\n",
       "      <th>max</th>\n",
       "      <td>1.000000</td>\n",
       "      <td>50708.000000</td>\n",
       "      <td>109.000000</td>\n",
       "      <td>98.000000</td>\n",
       "      <td>329664.000000</td>\n",
       "      <td>3.008750e+06</td>\n",
       "      <td>58.000000</td>\n",
       "      <td>98.000000</td>\n",
       "      <td>54.000000</td>\n",
       "      <td>98.000000</td>\n",
       "      <td>20.000000</td>\n",
       "    </tr>\n",
       "  </tbody>\n",
       "</table>\n",
       "</div>"
      ],
      "text/plain": [
       "       SeriousDlqin2yrs  RevolvingUtilizationOfUnsecuredLines            age  \\\n",
       "count     150000.000000                         150000.000000  150000.000000   \n",
       "mean           0.066840                              6.048438      52.295207   \n",
       "std            0.249746                            249.755371      14.771866   \n",
       "min            0.000000                              0.000000       0.000000   \n",
       "25%            0.000000                              0.029867      41.000000   \n",
       "50%            0.000000                              0.154181      52.000000   \n",
       "75%            0.000000                              0.559046      63.000000   \n",
       "max            1.000000                          50708.000000     109.000000   \n",
       "\n",
       "       NumberOfTime30-59DaysPastDueNotWorse      DebtRatio  MonthlyIncome  \\\n",
       "count                         150000.000000  150000.000000   1.202690e+05   \n",
       "mean                               0.421033     353.005076   6.670221e+03   \n",
       "std                                4.192781    2037.818523   1.438467e+04   \n",
       "min                                0.000000       0.000000   0.000000e+00   \n",
       "25%                                0.000000       0.175074   3.400000e+03   \n",
       "50%                                0.000000       0.366508   5.400000e+03   \n",
       "75%                                0.000000       0.868254   8.249000e+03   \n",
       "max                               98.000000  329664.000000   3.008750e+06   \n",
       "\n",
       "       NumberOfOpenCreditLinesAndLoans  NumberOfTimes90DaysLate  \\\n",
       "count                    150000.000000            150000.000000   \n",
       "mean                          8.452760                 0.265973   \n",
       "std                           5.145951                 4.169304   \n",
       "min                           0.000000                 0.000000   \n",
       "25%                           5.000000                 0.000000   \n",
       "50%                           8.000000                 0.000000   \n",
       "75%                          11.000000                 0.000000   \n",
       "max                          58.000000                98.000000   \n",
       "\n",
       "       NumberRealEstateLoansOrLines  NumberOfTime60-89DaysPastDueNotWorse  \\\n",
       "count                 150000.000000                         150000.000000   \n",
       "mean                       1.018240                              0.240387   \n",
       "std                        1.129771                              4.155179   \n",
       "min                        0.000000                              0.000000   \n",
       "25%                        0.000000                              0.000000   \n",
       "50%                        1.000000                              0.000000   \n",
       "75%                        2.000000                              0.000000   \n",
       "max                       54.000000                             98.000000   \n",
       "\n",
       "       NumberOfDependents  \n",
       "count       146076.000000  \n",
       "mean             0.757222  \n",
       "std              1.115086  \n",
       "min              0.000000  \n",
       "25%              0.000000  \n",
       "50%              0.000000  \n",
       "75%              1.000000  \n",
       "max             20.000000  "
      ]
     },
     "execution_count": 15,
     "metadata": {},
     "output_type": "execute_result"
    }
   ],
   "source": [
    "df_train.describe()"
   ]
  },
  {
   "cell_type": "markdown",
   "id": "3a0b942b-5740-49c3-b4a6-9590a6bb04a5",
   "metadata": {},
   "source": [
    "In the readtime we have to use it as box plot to see what we have "
   ]
  },
  {
   "cell_type": "markdown",
   "id": "b4e3ab1d-9b97-4e6d-b453-e04de98e7689",
   "metadata": {},
   "source": [
    "**Q6: Get information of train set by df.info()**"
   ]
  },
  {
   "cell_type": "code",
   "execution_count": 16,
   "id": "f561870d-fed0-4aac-b964-665f1b8a1e06",
   "metadata": {},
   "outputs": [
    {
     "name": "stdout",
     "output_type": "stream",
     "text": [
      "<class 'pandas.core.frame.DataFrame'>\n",
      "RangeIndex: 101503 entries, 0 to 101502\n",
      "Data columns (total 11 columns):\n",
      " #   Column                                Non-Null Count   Dtype  \n",
      "---  ------                                --------------   -----  \n",
      " 0   SeriousDlqin2yrs                      0 non-null       float64\n",
      " 1   RevolvingUtilizationOfUnsecuredLines  101503 non-null  float64\n",
      " 2   age                                   101503 non-null  int64  \n",
      " 3   NumberOfTime30-59DaysPastDueNotWorse  101503 non-null  int64  \n",
      " 4   DebtRatio                             101503 non-null  float64\n",
      " 5   MonthlyIncome                         81400 non-null   float64\n",
      " 6   NumberOfOpenCreditLinesAndLoans       101503 non-null  int64  \n",
      " 7   NumberOfTimes90DaysLate               101503 non-null  int64  \n",
      " 8   NumberRealEstateLoansOrLines          101503 non-null  int64  \n",
      " 9   NumberOfTime60-89DaysPastDueNotWorse  101503 non-null  int64  \n",
      " 10  NumberOfDependents                    98877 non-null   float64\n",
      "dtypes: float64(5), int64(6)\n",
      "memory usage: 8.5 MB\n"
     ]
    }
   ],
   "source": [
    "df_test.info()"
   ]
  },
  {
   "cell_type": "markdown",
   "id": "abb026fa-2219-4aaa-9cab-422b227c176a",
   "metadata": {},
   "source": [
    "**Q7: Get the missing percent per columns of train set**"
   ]
  },
  {
   "cell_type": "code",
   "execution_count": 17,
   "id": "e6c1cd05-ac01-4863-baf2-9ede8f177e53",
   "metadata": {},
   "outputs": [
    {
     "data": {
      "text/plain": [
       "SeriousDlqin2yrs                         0.000000\n",
       "RevolvingUtilizationOfUnsecuredLines     0.000000\n",
       "age                                      0.000000\n",
       "NumberOfTime30-59DaysPastDueNotWorse     0.000000\n",
       "DebtRatio                                0.000000\n",
       "MonthlyIncome                           19.820667\n",
       "NumberOfOpenCreditLinesAndLoans          0.000000\n",
       "NumberOfTimes90DaysLate                  0.000000\n",
       "NumberRealEstateLoansOrLines             0.000000\n",
       "NumberOfTime60-89DaysPastDueNotWorse     0.000000\n",
       "NumberOfDependents                       2.616000\n",
       "dtype: float64"
      ]
     },
     "execution_count": 17,
     "metadata": {},
     "output_type": "execute_result"
    }
   ],
   "source": [
    "df_train.isnull().sum()/len(df_train)*100"
   ]
  },
  {
   "cell_type": "markdown",
   "id": "740d6a6f-23d0-434f-b21a-f1b15ece9d50",
   "metadata": {},
   "source": [
    "\"null\" reason: Ngẫu nhiên, không ngẫy nhiên hay hoàn toàn ngẫu nhiên\n",
    "Nếu missing:"
   ]
  },
  {
   "cell_type": "code",
   "execution_count": 18,
   "id": "07f35629-2c88-4678-bd41-94e1090c861e",
   "metadata": {},
   "outputs": [
    {
     "data": {
      "text/plain": [
       "SeriousDlqin2yrs                            0\n",
       "RevolvingUtilizationOfUnsecuredLines        0\n",
       "age                                         0\n",
       "NumberOfTime30-59DaysPastDueNotWorse        0\n",
       "DebtRatio                                   0\n",
       "MonthlyIncome                           29731\n",
       "NumberOfOpenCreditLinesAndLoans             0\n",
       "NumberOfTimes90DaysLate                     0\n",
       "NumberRealEstateLoansOrLines                0\n",
       "NumberOfTime60-89DaysPastDueNotWorse        0\n",
       "NumberOfDependents                       3924\n",
       "dtype: int64"
      ]
     },
     "execution_count": 18,
     "metadata": {},
     "output_type": "execute_result"
    }
   ],
   "source": [
    "df_train.isnull().sum() #howmany missing vallue"
   ]
  },
  {
   "cell_type": "markdown",
   "id": "e93d0809-e500-4a0a-ac66-b05d382ce299",
   "metadata": {},
   "source": [
    "## 2.3 Visullization"
   ]
  },
  {
   "cell_type": "markdown",
   "id": "5504329f-36dd-4182-bd97-4eab3666df33",
   "metadata": {},
   "source": [
    "**Q8: Target disitribution on train set via bar chart**"
   ]
  },
  {
   "cell_type": "markdown",
   "id": "aad56f07-a788-43cf-9e33-8197385c02d7",
   "metadata": {},
   "source": [
    "Imbalanced data: Dữ liệu không tương xứng "
   ]
  },
  {
   "cell_type": "code",
   "execution_count": 19,
   "id": "182393cd-2fc2-4688-8e7f-a64f5b0afc27",
   "metadata": {},
   "outputs": [
    {
     "data": {
      "text/plain": [
       "0    139974\n",
       "1     10026\n",
       "Name: SeriousDlqin2yrs, dtype: int64"
      ]
     },
     "execution_count": 19,
     "metadata": {},
     "output_type": "execute_result"
    }
   ],
   "source": [
    "df_train.SeriousDlqin2yrs.value_counts()"
   ]
  },
  {
   "cell_type": "code",
   "execution_count": 20,
   "id": "ffad91df-ad52-485b-9d43-b986d00fc372",
   "metadata": {},
   "outputs": [
    {
     "data": {
      "text/plain": [
       "Text(0, 0.5, 'Frequency')"
      ]
     },
     "execution_count": 20,
     "metadata": {},
     "output_type": "execute_result"
    },
    {
     "data": {
      "image/png": "[encoded data removed]",
      "text/plain": [
       "<Figure size 720x504 with 1 Axes>"
      ]
     },
     "metadata": {
      "needs_background": "light"
     },
     "output_type": "display_data"
    }
   ],
   "source": [
    "plt.figure(figsize=(10,7))\n",
    "df_train.SeriousDlqin2yrs.value_counts().plot(kind = 'bar',color = ['green','red'])\n",
    "plt.title('Target Distribution')\n",
    "plt.xlabel('Deliquency in 2 years')\n",
    "plt.ylabel('Frequency')"
   ]
  },
  {
   "cell_type": "code",
   "execution_count": 22,
   "id": "768e1169-bc54-413f-9649-45998f368e4b",
   "metadata": {},
   "outputs": [
    {
     "data": {
      "text/plain": [
       "Text(0, 0.5, 'Frequency')"
      ]
     },
     "execution_count": 22,
     "metadata": {},
     "output_type": "execute_result"
    },
    {
     "data": {
      "image/png": "[encoded data removed]",
      "text/plain": [
       "<Figure size 720x504 with 1 Axes>"
      ]
     },
     "metadata": {
      "needs_background": "light"
     },
     "output_type": "display_data"
    }
   ],
   "source": [
    "plt.figure(figsize = (10,7))\n",
    "sns.countplot(x=df_train.SeriousDlqin2yrs)\n",
    "plt.title('Target Distribution')\n",
    "plt.xlabel('Deliquency in 2 years')\n",
    "plt.ylabel('Frequency')"
   ]
  },
  {
   "cell_type": "markdown",
   "id": "0e583c89-a762-4931-99c7-09f18b82ffa6",
   "metadata": {},
   "source": [
    "Accuracy score: ~93%\n",
    "Precesion: \n",
    "Recall: \n",
    "F1-Score:\n",
    "basing on that which will show howmany %  also the harmony mean \n",
    "AUC and Gini (bank)"
   ]
  },
  {
   "cell_type": "code",
   "execution_count": 23,
   "id": "5d4c5fb2-a3c8-487f-ba8d-d3b32bdfe8ea",
   "metadata": {},
   "outputs": [
    {
     "data": {
      "text/html": [
       "<div>\n",
       "<style scoped>\n",
       "    .dataframe tbody tr th:only-of-type {\n",
       "        vertical-align: middle;\n",
       "    }\n",
       "\n",
       "    .dataframe tbody tr th {\n",
       "        vertical-align: top;\n",
       "    }\n",
       "\n",
       "    .dataframe thead th {\n",
       "        text-align: right;\n",
       "    }\n",
       "</style>\n",
       "<table border=\"1\" class=\"dataframe\">\n",
       "  <thead>\n",
       "    <tr style=\"text-align: right;\">\n",
       "      <th></th>\n",
       "      <th>SeriousDlqin2yrs</th>\n",
       "      <th>RevolvingUtilizationOfUnsecuredLines</th>\n",
       "      <th>age</th>\n",
       "      <th>NumberOfTime30-59DaysPastDueNotWorse</th>\n",
       "      <th>DebtRatio</th>\n",
       "      <th>MonthlyIncome</th>\n",
       "      <th>NumberOfOpenCreditLinesAndLoans</th>\n",
       "      <th>NumberOfTimes90DaysLate</th>\n",
       "      <th>NumberRealEstateLoansOrLines</th>\n",
       "      <th>NumberOfTime60-89DaysPastDueNotWorse</th>\n",
       "      <th>NumberOfDependents</th>\n",
       "    </tr>\n",
       "  </thead>\n",
       "  <tbody>\n",
       "    <tr>\n",
       "      <th>0</th>\n",
       "      <td>1</td>\n",
       "      <td>0.766127</td>\n",
       "      <td>45</td>\n",
       "      <td>2</td>\n",
       "      <td>0.802982</td>\n",
       "      <td>9120.0</td>\n",
       "      <td>13</td>\n",
       "      <td>0</td>\n",
       "      <td>6</td>\n",
       "      <td>0</td>\n",
       "      <td>2.0</td>\n",
       "    </tr>\n",
       "    <tr>\n",
       "      <th>1</th>\n",
       "      <td>0</td>\n",
       "      <td>0.957151</td>\n",
       "      <td>40</td>\n",
       "      <td>0</td>\n",
       "      <td>0.121876</td>\n",
       "      <td>2600.0</td>\n",
       "      <td>4</td>\n",
       "      <td>0</td>\n",
       "      <td>0</td>\n",
       "      <td>0</td>\n",
       "      <td>1.0</td>\n",
       "    </tr>\n",
       "    <tr>\n",
       "      <th>2</th>\n",
       "      <td>0</td>\n",
       "      <td>0.658180</td>\n",
       "      <td>38</td>\n",
       "      <td>1</td>\n",
       "      <td>0.085113</td>\n",
       "      <td>3042.0</td>\n",
       "      <td>2</td>\n",
       "      <td>1</td>\n",
       "      <td>0</td>\n",
       "      <td>0</td>\n",
       "      <td>0.0</td>\n",
       "    </tr>\n",
       "    <tr>\n",
       "      <th>3</th>\n",
       "      <td>0</td>\n",
       "      <td>0.233810</td>\n",
       "      <td>30</td>\n",
       "      <td>0</td>\n",
       "      <td>0.036050</td>\n",
       "      <td>3300.0</td>\n",
       "      <td>5</td>\n",
       "      <td>0</td>\n",
       "      <td>0</td>\n",
       "      <td>0</td>\n",
       "      <td>0.0</td>\n",
       "    </tr>\n",
       "    <tr>\n",
       "      <th>4</th>\n",
       "      <td>0</td>\n",
       "      <td>0.907239</td>\n",
       "      <td>49</td>\n",
       "      <td>1</td>\n",
       "      <td>0.024926</td>\n",
       "      <td>63588.0</td>\n",
       "      <td>7</td>\n",
       "      <td>0</td>\n",
       "      <td>1</td>\n",
       "      <td>0</td>\n",
       "      <td>0.0</td>\n",
       "    </tr>\n",
       "  </tbody>\n",
       "</table>\n",
       "</div>"
      ],
      "text/plain": [
       "   SeriousDlqin2yrs  RevolvingUtilizationOfUnsecuredLines  age  \\\n",
       "0                 1                              0.766127   45   \n",
       "1                 0                              0.957151   40   \n",
       "2                 0                              0.658180   38   \n",
       "3                 0                              0.233810   30   \n",
       "4                 0                              0.907239   49   \n",
       "\n",
       "   NumberOfTime30-59DaysPastDueNotWorse  DebtRatio  MonthlyIncome  \\\n",
       "0                                     2   0.802982         9120.0   \n",
       "1                                     0   0.121876         2600.0   \n",
       "2                                     1   0.085113         3042.0   \n",
       "3                                     0   0.036050         3300.0   \n",
       "4                                     1   0.024926        63588.0   \n",
       "\n",
       "   NumberOfOpenCreditLinesAndLoans  NumberOfTimes90DaysLate  \\\n",
       "0                               13                        0   \n",
       "1                                4                        0   \n",
       "2                                2                        1   \n",
       "3                                5                        0   \n",
       "4                                7                        0   \n",
       "\n",
       "   NumberRealEstateLoansOrLines  NumberOfTime60-89DaysPastDueNotWorse  \\\n",
       "0                             6                                     0   \n",
       "1                             0                                     0   \n",
       "2                             0                                     0   \n",
       "3                             0                                     0   \n",
       "4                             1                                     0   \n",
       "\n",
       "   NumberOfDependents  \n",
       "0                 2.0  \n",
       "1                 1.0  \n",
       "2                 0.0  \n",
       "3                 0.0  \n",
       "4                 0.0  "
      ]
     },
     "execution_count": 23,
     "metadata": {},
     "output_type": "execute_result"
    }
   ],
   "source": [
    "df_train.head()"
   ]
  },
  {
   "cell_type": "markdown",
   "id": "aa5fed8c-c9a7-4d2b-acf8-6818bc683534",
   "metadata": {},
   "source": [
    "**Q9: Correlation of features and target**"
   ]
  },
  {
   "cell_type": "code",
   "execution_count": 25,
   "id": "3a964303-6bd0-4377-8639-7d5c3bfe04b8",
   "metadata": {},
   "outputs": [
    {
     "data": {
      "text/plain": [
       "<AxesSubplot:>"
      ]
     },
     "execution_count": 25,
     "metadata": {},
     "output_type": "execute_result"
    },
    {
     "data": {
      "image/png": "[encoded data removed]",
      "text/plain": [
       "<Figure size 720x720 with 2 Axes>"
      ]
     },
     "metadata": {
      "needs_background": "light"
     },
     "output_type": "display_data"
    }
   ],
   "source": [
    "plt.figure(figsize=(10,10))\n",
    "sns.heatmap(df_train.corr(),annot = True) # tận dụng heatmap to show vizulization"
   ]
  },
  {
   "cell_type": "code",
   "execution_count": 26,
   "id": "eacea89a-8514-4c6d-9c60-14bccae02cda",
   "metadata": {},
   "outputs": [
    {
     "data": {
      "image/png": "[encoded data removed]",
      "text/plain": [
       "<Figure size 720x720 with 2 Axes>"
      ]
     },
     "metadata": {
      "needs_background": "light"
     },
     "output_type": "display_data"
    }
   ],
   "source": [
    "plt.figure(figsize=(10,10))\n",
    "sns.heatmap(df_train.corr(),annot = True);"
   ]
  },
  {
   "cell_type": "markdown",
   "id": "50ffa369-38f5-4a4d-8c24-1aa838cf5040",
   "metadata": {},
   "source": [
    "**Q10: Describe features distribution and correlation given histogram and pairplot chart**"
   ]
  },
  {
   "cell_type": "code",
   "execution_count": 27,
   "id": "3d934773-88f1-4900-b0ce-7488bd56d914",
   "metadata": {},
   "outputs": [
    {
     "data": {
      "text/plain": [
       "array([[<AxesSubplot:title={'center':'SeriousDlqin2yrs'}>,\n",
       "        <AxesSubplot:title={'center':'RevolvingUtilizationOfUnsecuredLines'}>,\n",
       "        <AxesSubplot:title={'center':'age'}>],\n",
       "       [<AxesSubplot:title={'center':'NumberOfTime30-59DaysPastDueNotWorse'}>,\n",
       "        <AxesSubplot:title={'center':'DebtRatio'}>,\n",
       "        <AxesSubplot:title={'center':'MonthlyIncome'}>],\n",
       "       [<AxesSubplot:title={'center':'NumberOfOpenCreditLinesAndLoans'}>,\n",
       "        <AxesSubplot:title={'center':'NumberOfTimes90DaysLate'}>,\n",
       "        <AxesSubplot:title={'center':'NumberRealEstateLoansOrLines'}>],\n",
       "       [<AxesSubplot:title={'center':'NumberOfTime60-89DaysPastDueNotWorse'}>,\n",
       "        <AxesSubplot:title={'center':'NumberOfDependents'}>,\n",
       "        <AxesSubplot:>]], dtype=object)"
      ]
     },
     "execution_count": 27,
     "metadata": {},
     "output_type": "execute_result"
    },
    {
     "data": {
      "image/png": "[encoded data removed]",
      "text/plain": [
       "<Figure size 720x720 with 12 Axes>"
      ]
     },
     "metadata": {
      "needs_background": "light"
     },
     "output_type": "display_data"
    }
   ],
   "source": [
    "df_train.hist(figsize=(10,10))"
   ]
  },
  {
   "cell_type": "code",
   "execution_count": 28,
   "id": "585f15a7-9dc4-490a-92f2-91fe875a3e0b",
   "metadata": {},
   "outputs": [
    {
     "name": "stdout",
     "output_type": "stream",
     "text": [
      "<class 'pandas.core.frame.DataFrame'>\n",
      "RangeIndex: 150000 entries, 0 to 149999\n",
      "Data columns (total 11 columns):\n",
      " #   Column                                Non-Null Count   Dtype  \n",
      "---  ------                                --------------   -----  \n",
      " 0   SeriousDlqin2yrs                      150000 non-null  int64  \n",
      " 1   RevolvingUtilizationOfUnsecuredLines  150000 non-null  float64\n",
      " 2   age                                   150000 non-null  int64  \n",
      " 3   NumberOfTime30-59DaysPastDueNotWorse  150000 non-null  int64  \n",
      " 4   DebtRatio                             150000 non-null  float64\n",
      " 5   MonthlyIncome                         120269 non-null  float64\n",
      " 6   NumberOfOpenCreditLinesAndLoans       150000 non-null  int64  \n",
      " 7   NumberOfTimes90DaysLate               150000 non-null  int64  \n",
      " 8   NumberRealEstateLoansOrLines          150000 non-null  int64  \n",
      " 9   NumberOfTime60-89DaysPastDueNotWorse  150000 non-null  int64  \n",
      " 10  NumberOfDependents                    146076 non-null  float64\n",
      "dtypes: float64(4), int64(7)\n",
      "memory usage: 12.6 MB\n"
     ]
    }
   ],
   "source": [
    "df_train.info()"
   ]
  },
  {
   "cell_type": "code",
   "execution_count": null,
   "id": "a57b1487-75b1-4b5c-aeb6-3bb65a54c053",
   "metadata": {},
   "outputs": [],
   "source": [
    "sns.pairplot(data = df_train);"
   ]
  },
  {
   "cell_type": "code",
   "execution_count": 30,
   "id": "77753391-1218-4d06-aa1f-6ddf93aa2511",
   "metadata": {},
   "outputs": [
    {
     "data": {
      "text/plain": [
       "Index(['SeriousDlqin2yrs', 'RevolvingUtilizationOfUnsecuredLines', 'age',\n",
       "       'NumberOfTime30-59DaysPastDueNotWorse', 'DebtRatio', 'MonthlyIncome',\n",
       "       'NumberOfOpenCreditLinesAndLoans', 'NumberOfTimes90DaysLate',\n",
       "       'NumberRealEstateLoansOrLines', 'NumberOfTime60-89DaysPastDueNotWorse',\n",
       "       'NumberOfDependents'],\n",
       "      dtype='object')"
      ]
     },
     "execution_count": 30,
     "metadata": {},
     "output_type": "execute_result"
    }
   ],
   "source": [
    "df_train.columns #to take the name of all columns "
   ]
  },
  {
   "cell_type": "code",
   "execution_count": 105,
   "id": "64d14988-7428-4c29-be28-936394c3fba0",
   "metadata": {},
   "outputs": [],
   "source": [
    "#sns.displot(df_train['RevolvingUtilizationOfUnsecuredLines'])"
   ]
  },
  {
   "cell_type": "markdown",
   "id": "9ade92c3-a2d1-492d-8c35-1c07fdd1af23",
   "metadata": {},
   "source": [
    "**Q11: Explore each feature with target**"
   ]
  },
  {
   "cell_type": "code",
   "execution_count": null,
   "id": "20c7079f-cbfe-4d58-9dd0-6219b1b484bf",
   "metadata": {},
   "outputs": [],
   "source": []
  },
  {
   "cell_type": "markdown",
   "id": "6d114e8d-1894-4c8f-977c-8c88b1e91cd0",
   "metadata": {},
   "source": [
    "## 3. MODEL"
   ]
  },
  {
   "cell_type": "markdown",
   "id": "a11c209d-268a-4c0b-958d-3c6c2d0f1943",
   "metadata": {},
   "source": [
    "**Q12: Handle outliers in dataset**"
   ]
  },
  {
   "cell_type": "markdown",
   "id": "9c4dba18-faa0-4893-bfa3-3eeb363f9d93",
   "metadata": {},
   "source": [
    "Misssing Value and Outliner "
   ]
  },
  {
   "cell_type": "markdown",
   "id": "c3610e03-8e1c-4a07-9aa0-089eba2e5882",
   "metadata": {},
   "source": [
    "Inter Quantile Range (normale distribution)"
   ]
  },
  {
   "cell_type": "markdown",
   "id": "9e273d04-9f10-492c-94f5-fbe8ca92f855",
   "metadata": {},
   "source": [
    "![](https://mathbitsnotebook.com/Algebra2/Statistics/normalstandard.jpg)"
   ]
  },
  {
   "cell_type": "markdown",
   "id": "f057cc8c-7f81-47a5-9eff-14e2d3cb123f",
   "metadata": {},
   "source": [
    "We will collect the data from Q1 to Q3 IQR "
   ]
  },
  {
   "cell_type": "markdown",
   "id": "9ebf5a81-5002-4954-8347-457ddc93d043",
   "metadata": {},
   "source": [
    "Q1-1.5IQR-Q3+1.5IQR"
   ]
  },
  {
   "cell_type": "markdown",
   "id": "f3d23830-5d64-453f-b387-ab6ac4293f7e",
   "metadata": {},
   "source": [
    "![](https://upload.wikimedia.org/wikipedia/commons/8/89/Boxplot_vs_PDF.png)"
   ]
  },
  {
   "cell_type": "markdown",
   "id": "993436f7-cd65-4ef1-87f5-54740a1ecb5a",
   "metadata": {},
   "source": [
    "1.5 is defaults 2,3 depending on your distribution"
   ]
  },
  {
   "cell_type": "code",
   "execution_count": 31,
   "id": "c722da70-cbb7-4489-b7aa-96699e495a9e",
   "metadata": {},
   "outputs": [],
   "source": [
    "from collections import Counter\n",
    "def detect_ouliers(df,n, features):\n",
    "    \"\"\"\n",
    "    df = dataframe\n",
    "    feature: lisst containning column names\n",
    "    \"\"\"\n",
    "    outliner_indices = []#indices = index+es\n",
    "    #iterate over feature(columns)\n",
    "    for col in features:\n",
    "        #Step 2: calculate the 1st quntile(25%)\n",
    "        Q1 = np.percentile(df[col],25)\n",
    "        #Step 3: Calculate the 3rd quantile(75%)\n",
    "        Q3 = np.percentile(df[col],75)\n",
    "        #Step 4: Calculate IQR = Q3-Q1\n",
    "        IQR = Q3-Q1\n",
    "        #Step 5: Outlier step <Q1-1.5IQR and >Q3+1.5IQR\n",
    "        outlier_step = 1.5 *IQR\n",
    "        #Step 6: Determine the list off indices off outlier for feature\n",
    "        outlier_list_col = df[(df[col] < Q1- 1.5*IQR)|(df[col] > Q3 + 1.5*IQR)].index\n",
    "        #Step 7: append them \n",
    "        outliner_indices.extend(outlier_list_col)\n",
    "        #note taht append [1,2,3] and [2,3] -> [1,2,3,[2,3]] however extand will append two list [1,2,3,2,3]\n",
    "    #Select rows containning morre than outliers\n",
    "    outlier_indices = Counter(outliner_indices)\n",
    "    multiple_outliers = list(k for k,v in outlier_indices.items() if v>n)#(comprehesion)take key give value larger than n \n",
    "    return multiple_outliers \n"
   ]
  },
  {
   "cell_type": "code",
   "execution_count": 32,
   "id": "9ec852e9-c8e4-425d-af54-57e5d4ca12b7",
   "metadata": {},
   "outputs": [],
   "source": [
    "from collections import Counter\n",
    "a = [1,3,4,3,4]"
   ]
  },
  {
   "cell_type": "code",
   "execution_count": 33,
   "id": "c420237a-0bb8-49cc-a13f-60ca04d1de49",
   "metadata": {},
   "outputs": [
    {
     "data": {
      "text/plain": [
       "Counter({1: 1, 3: 2, 4: 2})"
      ]
     },
     "execution_count": 33,
     "metadata": {},
     "output_type": "execute_result"
    }
   ],
   "source": [
    "Counter(a)"
   ]
  },
  {
   "cell_type": "code",
   "execution_count": 34,
   "id": "8db2089a-5325-46b4-b622-b65547f5b37c",
   "metadata": {},
   "outputs": [
    {
     "data": {
      "text/plain": [
       "Index(['SeriousDlqin2yrs', 'RevolvingUtilizationOfUnsecuredLines', 'age',\n",
       "       'NumberOfTime30-59DaysPastDueNotWorse', 'DebtRatio', 'MonthlyIncome',\n",
       "       'NumberOfOpenCreditLinesAndLoans', 'NumberOfTimes90DaysLate',\n",
       "       'NumberRealEstateLoansOrLines', 'NumberOfTime60-89DaysPastDueNotWorse',\n",
       "       'NumberOfDependents'],\n",
       "      dtype='object')"
      ]
     },
     "execution_count": 34,
     "metadata": {},
     "output_type": "execute_result"
    }
   ],
   "source": [
    "df_train.columns"
   ]
  },
  {
   "cell_type": "code",
   "execution_count": 36,
   "id": "88a3f068-19fc-46b6-9268-86a44cf760ed",
   "metadata": {},
   "outputs": [],
   "source": [
    "features = ['RevolvingUtilizationOfUnsecuredLines', 'age',\n",
    "       'NumberOfTime30-59DaysPastDueNotWorse', 'DebtRatio', 'MonthlyIncome',\n",
    "       'NumberOfOpenCreditLinesAndLoans', 'NumberOfTimes90DaysLate',\n",
    "       'NumberRealEstateLoansOrLines', 'NumberOfTime60-89DaysPastDueNotWorse',\n",
    "       'NumberOfDependents']"
   ]
  },
  {
   "cell_type": "code",
   "execution_count": 37,
   "id": "782be534-5483-4980-b213-e28d6418d38f",
   "metadata": {},
   "outputs": [],
   "source": [
    "outlier_to_drop = detect_ouliers(df_train,3,features)"
   ]
  },
  {
   "cell_type": "code",
   "execution_count": 41,
   "id": "6e82d298-1be8-4081-90cd-03b5ac988aed",
   "metadata": {},
   "outputs": [
    {
     "data": {
      "text/plain": [
       "(150000, 520)"
      ]
     },
     "execution_count": 41,
     "metadata": {},
     "output_type": "execute_result"
    }
   ],
   "source": [
    "len(df_train),len(outlier_to_drop)"
   ]
  },
  {
   "cell_type": "code",
   "execution_count": 52,
   "id": "5af1033a-05e8-4ffd-91d9-74c698caf950",
   "metadata": {},
   "outputs": [
    {
     "data": {
      "text/plain": [
       "520"
      ]
     },
     "execution_count": 52,
     "metadata": {},
     "output_type": "execute_result"
    }
   ],
   "source": [
    "len(outlier_to_drop)"
   ]
  },
  {
   "cell_type": "code",
   "execution_count": 54,
   "id": "c6ddd6fe-c6bb-4548-b893-32f115159a34",
   "metadata": {},
   "outputs": [],
   "source": [
    "df=df_train.drop(outlier_to_drop,axis = 0) #drop hàng axis=1 drop cột"
   ]
  },
  {
   "cell_type": "markdown",
   "id": "f56af942-e49c-4136-bdcc-9ae8a68c1260",
   "metadata": {},
   "source": [
    "That is the Feature Engineering task \n",
    "(Remove the outliner)"
   ]
  },
  {
   "cell_type": "markdown",
   "id": "52bd288a-4efa-4ccf-a64b-c11f3e889ed0",
   "metadata": {},
   "source": [
    "**Q13: Merge train and test dataset**"
   ]
  },
  {
   "cell_type": "code",
   "execution_count": 62,
   "id": "446765c2-c457-4dfe-a342-2c3f4484ac02",
   "metadata": {},
   "outputs": [
    {
     "data": {
      "text/html": [
       "<div>\n",
       "<style scoped>\n",
       "    .dataframe tbody tr th:only-of-type {\n",
       "        vertical-align: middle;\n",
       "    }\n",
       "\n",
       "    .dataframe tbody tr th {\n",
       "        vertical-align: top;\n",
       "    }\n",
       "\n",
       "    .dataframe thead th {\n",
       "        text-align: right;\n",
       "    }\n",
       "</style>\n",
       "<table border=\"1\" class=\"dataframe\">\n",
       "  <thead>\n",
       "    <tr style=\"text-align: right;\">\n",
       "      <th></th>\n",
       "      <th>Target</th>\n",
       "      <th>UnsecLines</th>\n",
       "      <th>age</th>\n",
       "      <th>Late3059</th>\n",
       "      <th>DebtRatio</th>\n",
       "      <th>MonthlyIncome</th>\n",
       "      <th>OpenCredit</th>\n",
       "      <th>Late90</th>\n",
       "      <th>PropLines</th>\n",
       "      <th>Late60-89</th>\n",
       "      <th>Deps</th>\n",
       "    </tr>\n",
       "  </thead>\n",
       "  <tbody>\n",
       "    <tr>\n",
       "      <th>0</th>\n",
       "      <td>1.0</td>\n",
       "      <td>0.766127</td>\n",
       "      <td>45</td>\n",
       "      <td>2</td>\n",
       "      <td>0.802982</td>\n",
       "      <td>9120.0</td>\n",
       "      <td>13</td>\n",
       "      <td>0</td>\n",
       "      <td>6</td>\n",
       "      <td>0</td>\n",
       "      <td>2.0</td>\n",
       "    </tr>\n",
       "    <tr>\n",
       "      <th>1</th>\n",
       "      <td>0.0</td>\n",
       "      <td>0.957151</td>\n",
       "      <td>40</td>\n",
       "      <td>0</td>\n",
       "      <td>0.121876</td>\n",
       "      <td>2600.0</td>\n",
       "      <td>4</td>\n",
       "      <td>0</td>\n",
       "      <td>0</td>\n",
       "      <td>0</td>\n",
       "      <td>1.0</td>\n",
       "    </tr>\n",
       "    <tr>\n",
       "      <th>2</th>\n",
       "      <td>0.0</td>\n",
       "      <td>0.658180</td>\n",
       "      <td>38</td>\n",
       "      <td>1</td>\n",
       "      <td>0.085113</td>\n",
       "      <td>3042.0</td>\n",
       "      <td>2</td>\n",
       "      <td>1</td>\n",
       "      <td>0</td>\n",
       "      <td>0</td>\n",
       "      <td>0.0</td>\n",
       "    </tr>\n",
       "    <tr>\n",
       "      <th>3</th>\n",
       "      <td>0.0</td>\n",
       "      <td>0.233810</td>\n",
       "      <td>30</td>\n",
       "      <td>0</td>\n",
       "      <td>0.036050</td>\n",
       "      <td>3300.0</td>\n",
       "      <td>5</td>\n",
       "      <td>0</td>\n",
       "      <td>0</td>\n",
       "      <td>0</td>\n",
       "      <td>0.0</td>\n",
       "    </tr>\n",
       "    <tr>\n",
       "      <th>4</th>\n",
       "      <td>0.0</td>\n",
       "      <td>0.907239</td>\n",
       "      <td>49</td>\n",
       "      <td>1</td>\n",
       "      <td>0.024926</td>\n",
       "      <td>63588.0</td>\n",
       "      <td>7</td>\n",
       "      <td>0</td>\n",
       "      <td>1</td>\n",
       "      <td>0</td>\n",
       "      <td>0.0</td>\n",
       "    </tr>\n",
       "    <tr>\n",
       "      <th>...</th>\n",
       "      <td>...</td>\n",
       "      <td>...</td>\n",
       "      <td>...</td>\n",
       "      <td>...</td>\n",
       "      <td>...</td>\n",
       "      <td>...</td>\n",
       "      <td>...</td>\n",
       "      <td>...</td>\n",
       "      <td>...</td>\n",
       "      <td>...</td>\n",
       "      <td>...</td>\n",
       "    </tr>\n",
       "    <tr>\n",
       "      <th>101498</th>\n",
       "      <td>NaN</td>\n",
       "      <td>0.282653</td>\n",
       "      <td>24</td>\n",
       "      <td>0</td>\n",
       "      <td>0.068522</td>\n",
       "      <td>1400.0</td>\n",
       "      <td>5</td>\n",
       "      <td>0</td>\n",
       "      <td>0</td>\n",
       "      <td>0</td>\n",
       "      <td>0.0</td>\n",
       "    </tr>\n",
       "    <tr>\n",
       "      <th>101499</th>\n",
       "      <td>NaN</td>\n",
       "      <td>0.922156</td>\n",
       "      <td>36</td>\n",
       "      <td>3</td>\n",
       "      <td>0.934217</td>\n",
       "      <td>7615.0</td>\n",
       "      <td>8</td>\n",
       "      <td>0</td>\n",
       "      <td>2</td>\n",
       "      <td>0</td>\n",
       "      <td>4.0</td>\n",
       "    </tr>\n",
       "    <tr>\n",
       "      <th>101500</th>\n",
       "      <td>NaN</td>\n",
       "      <td>0.081596</td>\n",
       "      <td>70</td>\n",
       "      <td>0</td>\n",
       "      <td>836.000000</td>\n",
       "      <td>NaN</td>\n",
       "      <td>3</td>\n",
       "      <td>0</td>\n",
       "      <td>0</td>\n",
       "      <td>0</td>\n",
       "      <td>NaN</td>\n",
       "    </tr>\n",
       "    <tr>\n",
       "      <th>101501</th>\n",
       "      <td>NaN</td>\n",
       "      <td>0.335457</td>\n",
       "      <td>56</td>\n",
       "      <td>0</td>\n",
       "      <td>3568.000000</td>\n",
       "      <td>NaN</td>\n",
       "      <td>8</td>\n",
       "      <td>0</td>\n",
       "      <td>2</td>\n",
       "      <td>1</td>\n",
       "      <td>3.0</td>\n",
       "    </tr>\n",
       "    <tr>\n",
       "      <th>101502</th>\n",
       "      <td>NaN</td>\n",
       "      <td>0.441842</td>\n",
       "      <td>29</td>\n",
       "      <td>0</td>\n",
       "      <td>0.198918</td>\n",
       "      <td>5916.0</td>\n",
       "      <td>12</td>\n",
       "      <td>0</td>\n",
       "      <td>0</td>\n",
       "      <td>0</td>\n",
       "      <td>0.0</td>\n",
       "    </tr>\n",
       "  </tbody>\n",
       "</table>\n",
       "<p>251503 rows × 11 columns</p>\n",
       "</div>"
      ],
      "text/plain": [
       "        Target  UnsecLines  age  Late3059    DebtRatio  MonthlyIncome  \\\n",
       "0          1.0    0.766127   45         2     0.802982         9120.0   \n",
       "1          0.0    0.957151   40         0     0.121876         2600.0   \n",
       "2          0.0    0.658180   38         1     0.085113         3042.0   \n",
       "3          0.0    0.233810   30         0     0.036050         3300.0   \n",
       "4          0.0    0.907239   49         1     0.024926        63588.0   \n",
       "...        ...         ...  ...       ...          ...            ...   \n",
       "101498     NaN    0.282653   24         0     0.068522         1400.0   \n",
       "101499     NaN    0.922156   36         3     0.934217         7615.0   \n",
       "101500     NaN    0.081596   70         0   836.000000            NaN   \n",
       "101501     NaN    0.335457   56         0  3568.000000            NaN   \n",
       "101502     NaN    0.441842   29         0     0.198918         5916.0   \n",
       "\n",
       "        OpenCredit  Late90  PropLines  Late60-89  Deps  \n",
       "0               13       0          6          0   2.0  \n",
       "1                4       0          0          0   1.0  \n",
       "2                2       1          0          0   0.0  \n",
       "3                5       0          0          0   0.0  \n",
       "4                7       0          1          0   0.0  \n",
       "...            ...     ...        ...        ...   ...  \n",
       "101498           5       0          0          0   0.0  \n",
       "101499           8       0          2          0   4.0  \n",
       "101500           3       0          0          0   NaN  \n",
       "101501           8       0          2          1   3.0  \n",
       "101502          12       0          0          0   0.0  \n",
       "\n",
       "[251503 rows x 11 columns]"
      ]
     },
     "execution_count": 62,
     "metadata": {},
     "output_type": "execute_result"
    }
   ],
   "source": [
    "pd.concat([df_train,df_test],axis =0) #train test is the same all until now\n",
    "#Nối row với nhau axis =0"
   ]
  },
  {
   "cell_type": "markdown",
   "id": "45455922-912b-42d8-ac52-1963d1f4422c",
   "metadata": {},
   "source": [
    "**Q14: Rename columns name into shorter alias**"
   ]
  },
  {
   "cell_type": "code",
   "execution_count": 63,
   "id": "bbe16c88-892c-4f79-81b9-d04c8b8d49b2",
   "metadata": {},
   "outputs": [],
   "source": [
    "dataset = pd.concat([df_train,df_test],axis =0)"
   ]
  },
  {
   "cell_type": "code",
   "execution_count": 64,
   "id": "8e2810fd-355a-461b-8d1b-c51908c0584b",
   "metadata": {},
   "outputs": [
    {
     "data": {
      "text/html": [
       "<div>\n",
       "<style scoped>\n",
       "    .dataframe tbody tr th:only-of-type {\n",
       "        vertical-align: middle;\n",
       "    }\n",
       "\n",
       "    .dataframe tbody tr th {\n",
       "        vertical-align: top;\n",
       "    }\n",
       "\n",
       "    .dataframe thead th {\n",
       "        text-align: right;\n",
       "    }\n",
       "</style>\n",
       "<table border=\"1\" class=\"dataframe\">\n",
       "  <thead>\n",
       "    <tr style=\"text-align: right;\">\n",
       "      <th></th>\n",
       "      <th>Target</th>\n",
       "      <th>UnsecLines</th>\n",
       "      <th>age</th>\n",
       "      <th>Late3059</th>\n",
       "      <th>DebtRatio</th>\n",
       "      <th>MonthlyIncome</th>\n",
       "      <th>OpenCredit</th>\n",
       "      <th>Late90</th>\n",
       "      <th>PropLines</th>\n",
       "      <th>Late60-89</th>\n",
       "      <th>Deps</th>\n",
       "    </tr>\n",
       "  </thead>\n",
       "  <tbody>\n",
       "    <tr>\n",
       "      <th>0</th>\n",
       "      <td>1.0</td>\n",
       "      <td>0.766127</td>\n",
       "      <td>45</td>\n",
       "      <td>2</td>\n",
       "      <td>0.802982</td>\n",
       "      <td>9120.0</td>\n",
       "      <td>13</td>\n",
       "      <td>0</td>\n",
       "      <td>6</td>\n",
       "      <td>0</td>\n",
       "      <td>2.0</td>\n",
       "    </tr>\n",
       "    <tr>\n",
       "      <th>1</th>\n",
       "      <td>0.0</td>\n",
       "      <td>0.957151</td>\n",
       "      <td>40</td>\n",
       "      <td>0</td>\n",
       "      <td>0.121876</td>\n",
       "      <td>2600.0</td>\n",
       "      <td>4</td>\n",
       "      <td>0</td>\n",
       "      <td>0</td>\n",
       "      <td>0</td>\n",
       "      <td>1.0</td>\n",
       "    </tr>\n",
       "    <tr>\n",
       "      <th>2</th>\n",
       "      <td>0.0</td>\n",
       "      <td>0.658180</td>\n",
       "      <td>38</td>\n",
       "      <td>1</td>\n",
       "      <td>0.085113</td>\n",
       "      <td>3042.0</td>\n",
       "      <td>2</td>\n",
       "      <td>1</td>\n",
       "      <td>0</td>\n",
       "      <td>0</td>\n",
       "      <td>0.0</td>\n",
       "    </tr>\n",
       "    <tr>\n",
       "      <th>3</th>\n",
       "      <td>0.0</td>\n",
       "      <td>0.233810</td>\n",
       "      <td>30</td>\n",
       "      <td>0</td>\n",
       "      <td>0.036050</td>\n",
       "      <td>3300.0</td>\n",
       "      <td>5</td>\n",
       "      <td>0</td>\n",
       "      <td>0</td>\n",
       "      <td>0</td>\n",
       "      <td>0.0</td>\n",
       "    </tr>\n",
       "    <tr>\n",
       "      <th>4</th>\n",
       "      <td>0.0</td>\n",
       "      <td>0.907239</td>\n",
       "      <td>49</td>\n",
       "      <td>1</td>\n",
       "      <td>0.024926</td>\n",
       "      <td>63588.0</td>\n",
       "      <td>7</td>\n",
       "      <td>0</td>\n",
       "      <td>1</td>\n",
       "      <td>0</td>\n",
       "      <td>0.0</td>\n",
       "    </tr>\n",
       "  </tbody>\n",
       "</table>\n",
       "</div>"
      ],
      "text/plain": [
       "   Target  UnsecLines  age  Late3059  DebtRatio  MonthlyIncome  OpenCredit  \\\n",
       "0     1.0    0.766127   45         2   0.802982         9120.0          13   \n",
       "1     0.0    0.957151   40         0   0.121876         2600.0           4   \n",
       "2     0.0    0.658180   38         1   0.085113         3042.0           2   \n",
       "3     0.0    0.233810   30         0   0.036050         3300.0           5   \n",
       "4     0.0    0.907239   49         1   0.024926        63588.0           7   \n",
       "\n",
       "   Late90  PropLines  Late60-89  Deps  \n",
       "0       0          6          0   2.0  \n",
       "1       0          0          0   1.0  \n",
       "2       1          0          0   0.0  \n",
       "3       0          0          0   0.0  \n",
       "4       0          1          0   0.0  "
      ]
     },
     "execution_count": 64,
     "metadata": {},
     "output_type": "execute_result"
    }
   ],
   "source": [
    "dataset.head()"
   ]
  },
  {
   "cell_type": "code",
   "execution_count": 65,
   "id": "ae58c16c-b05a-44bf-bd13-1814b15546a0",
   "metadata": {},
   "outputs": [],
   "source": [
    "dataset = dataset.rename(columns={'SeriousDlqin2yrs':'Target',\n",
    "                        'RevolvingUtilizationOfUnsecuredLines':'UnsecLines',\n",
    "                        'NumberOfTime30-59DaysPastDueNotWorse':'Late3059',\n",
    "                        'NumberOfOpenCreditLinesAndLoans':'OpenCredit',\n",
    "                        'NumberOfTimes90DaysLate': 'Late90',\n",
    "                        'NumberRealEstateLoansOrLines': 'PropLines',\n",
    "                        'NumberOfTime60-89DaysPastDueNotWorse':'Late60-89',\n",
    "                        'NumberOfDependents':'Deps'\n",
    "                       })\n",
    "#syntax: dataset.rename(columns{key:value}) key is old name and value is new name\n",
    "df_train = df_train.rename(columns={'SeriousDlqin2yrs':'Target',\n",
    "                        'RevolvingUtilizationOfUnsecuredLines':'UnsecLines',\n",
    "                        'NumberOfTime30-59DaysPastDueNotWorse':'Late3059',\n",
    "                        'NumberOfOpenCreditLinesAndLoans':'OpenCredit',\n",
    "                        'NumberOfTimes90DaysLate': 'Late90',\n",
    "                        'NumberRealEstateLoansOrLines': 'PropLines',\n",
    "                        'NumberOfTime60-89DaysPastDueNotWorse':'Late60-89',\n",
    "                        'NumberOfDependents':'Deps'\n",
    "                       })\n",
    "\n",
    "df_test = df_test.rename(columns={'SeriousDlqin2yrs':'Target',\n",
    "                        'RevolvingUtilizationOfUnsecuredLines':'UnsecLines',\n",
    "                        'NumberOfTime30-59DaysPastDueNotWorse':'Late3059',\n",
    "                        'NumberOfOpenCreditLinesAndLoans':'OpenCredit',\n",
    "                        'NumberOfTimes90DaysLate': 'Late90',\n",
    "                        'NumberRealEstateLoansOrLines': 'PropLines',\n",
    "                        'NumberOfTime60-89DaysPastDueNotWorse':'Late60-89',\n",
    "                        'NumberOfDependents':'Deps'\n",
    "                       })"
   ]
  },
  {
   "cell_type": "code",
   "execution_count": 58,
   "id": "07d69a26-6c61-42b0-a355-7a332a73d105",
   "metadata": {},
   "outputs": [
    {
     "data": {
      "text/html": [
       "<div>\n",
       "<style scoped>\n",
       "    .dataframe tbody tr th:only-of-type {\n",
       "        vertical-align: middle;\n",
       "    }\n",
       "\n",
       "    .dataframe tbody tr th {\n",
       "        vertical-align: top;\n",
       "    }\n",
       "\n",
       "    .dataframe thead th {\n",
       "        text-align: right;\n",
       "    }\n",
       "</style>\n",
       "<table border=\"1\" class=\"dataframe\">\n",
       "  <thead>\n",
       "    <tr style=\"text-align: right;\">\n",
       "      <th></th>\n",
       "      <th>Target</th>\n",
       "      <th>UnsecLines</th>\n",
       "      <th>age</th>\n",
       "      <th>Late3059</th>\n",
       "      <th>DebtRatio</th>\n",
       "      <th>MonthlyIncome</th>\n",
       "      <th>OpenCredit</th>\n",
       "      <th>Late90</th>\n",
       "      <th>PropLines</th>\n",
       "      <th>Late60-89</th>\n",
       "      <th>Deps</th>\n",
       "    </tr>\n",
       "  </thead>\n",
       "  <tbody>\n",
       "    <tr>\n",
       "      <th>0</th>\n",
       "      <td>1</td>\n",
       "      <td>0.766127</td>\n",
       "      <td>45</td>\n",
       "      <td>2</td>\n",
       "      <td>0.802982</td>\n",
       "      <td>9120.0</td>\n",
       "      <td>13</td>\n",
       "      <td>0</td>\n",
       "      <td>6</td>\n",
       "      <td>0</td>\n",
       "      <td>2.0</td>\n",
       "    </tr>\n",
       "    <tr>\n",
       "      <th>1</th>\n",
       "      <td>0</td>\n",
       "      <td>0.957151</td>\n",
       "      <td>40</td>\n",
       "      <td>0</td>\n",
       "      <td>0.121876</td>\n",
       "      <td>2600.0</td>\n",
       "      <td>4</td>\n",
       "      <td>0</td>\n",
       "      <td>0</td>\n",
       "      <td>0</td>\n",
       "      <td>1.0</td>\n",
       "    </tr>\n",
       "    <tr>\n",
       "      <th>2</th>\n",
       "      <td>0</td>\n",
       "      <td>0.658180</td>\n",
       "      <td>38</td>\n",
       "      <td>1</td>\n",
       "      <td>0.085113</td>\n",
       "      <td>3042.0</td>\n",
       "      <td>2</td>\n",
       "      <td>1</td>\n",
       "      <td>0</td>\n",
       "      <td>0</td>\n",
       "      <td>0.0</td>\n",
       "    </tr>\n",
       "    <tr>\n",
       "      <th>3</th>\n",
       "      <td>0</td>\n",
       "      <td>0.233810</td>\n",
       "      <td>30</td>\n",
       "      <td>0</td>\n",
       "      <td>0.036050</td>\n",
       "      <td>3300.0</td>\n",
       "      <td>5</td>\n",
       "      <td>0</td>\n",
       "      <td>0</td>\n",
       "      <td>0</td>\n",
       "      <td>0.0</td>\n",
       "    </tr>\n",
       "    <tr>\n",
       "      <th>4</th>\n",
       "      <td>0</td>\n",
       "      <td>0.907239</td>\n",
       "      <td>49</td>\n",
       "      <td>1</td>\n",
       "      <td>0.024926</td>\n",
       "      <td>63588.0</td>\n",
       "      <td>7</td>\n",
       "      <td>0</td>\n",
       "      <td>1</td>\n",
       "      <td>0</td>\n",
       "      <td>0.0</td>\n",
       "    </tr>\n",
       "  </tbody>\n",
       "</table>\n",
       "</div>"
      ],
      "text/plain": [
       "   Target  UnsecLines  age  Late3059  DebtRatio  MonthlyIncome  OpenCredit  \\\n",
       "0       1    0.766127   45         2   0.802982         9120.0          13   \n",
       "1       0    0.957151   40         0   0.121876         2600.0           4   \n",
       "2       0    0.658180   38         1   0.085113         3042.0           2   \n",
       "3       0    0.233810   30         0   0.036050         3300.0           5   \n",
       "4       0    0.907239   49         1   0.024926        63588.0           7   \n",
       "\n",
       "   Late90  PropLines  Late60-89  Deps  \n",
       "0       0          6          0   2.0  \n",
       "1       0          0          0   1.0  \n",
       "2       1          0          0   0.0  \n",
       "3       0          0          0   0.0  \n",
       "4       0          1          0   0.0  "
      ]
     },
     "execution_count": 58,
     "metadata": {},
     "output_type": "execute_result"
    }
   ],
   "source": [
    "df_train.head()"
   ]
  },
  {
   "cell_type": "markdown",
   "id": "223a40b5-a7ef-4564-9a09-cef06f3a0280",
   "metadata": {},
   "source": [
    "**Q15: Building binary/dummy variables**\n",
    "**Hints**: Quantile data first"
   ]
  },
  {
   "cell_type": "markdown",
   "id": "94ea7874-f2f0-4448-b74e-66f3945538a4",
   "metadata": {},
   "source": [
    "||Space between 2 bins|frequency|\n",
    "|-|-|-|\n",
    "|'cut'|equal|different|\n",
    "|'qcut'|same|same|"
   ]
  },
  {
   "cell_type": "code",
   "execution_count": 70,
   "id": "c05e786c-f6cb-46e1-8194-faec3c51b544",
   "metadata": {},
   "outputs": [
    {
     "data": {
      "text/plain": [
       "UnsecLines      \n",
       "(-0.001, 0.0192]    50301\n",
       "(0.083, 0.271]      50301\n",
       "(0.702, 50708.0]    50301\n",
       "(0.0192, 0.083]     50300\n",
       "(0.271, 0.702]      50300\n",
       "dtype: int64"
      ]
     },
     "execution_count": 70,
     "metadata": {},
     "output_type": "execute_result"
    }
   ],
   "source": [
    "pd.DataFrame(pd.qcut(dataset.UnsecLines,5)).value_counts()"
   ]
  },
  {
   "cell_type": "code",
   "execution_count": 66,
   "id": "d9cd4245-171a-42e1-8b7c-d7c7756ca60c",
   "metadata": {},
   "outputs": [
    {
     "data": {
      "text/plain": [
       "UnsecLines      \n",
       "(-0.001, 0.0192]    50301\n",
       "(0.083, 0.271]      50301\n",
       "(0.702, 50708.0]    50301\n",
       "(0.0192, 0.083]     50300\n",
       "(0.271, 0.702]      50300\n",
       "dtype: int64"
      ]
     },
     "execution_count": 66,
     "metadata": {},
     "output_type": "execute_result"
    }
   ],
   "source": [
    "pd.DataFrame(pd.qcut(dataset.UnsecLines,5)).value_counts()\n",
    "#dataset.UnsecLines cột muốn chia \n",
    "#q=5 số lượng beam mà muốn chia ra"
   ]
  },
  {
   "cell_type": "code",
   "execution_count": 73,
   "id": "bd02e2d5-bfc4-40c8-8ca6-1b8e3cafe506",
   "metadata": {},
   "outputs": [
    {
     "data": {
      "text/plain": [
       "array([4, 4, 3, ..., 1, 3, 3], dtype=int8)"
      ]
     },
     "execution_count": 73,
     "metadata": {},
     "output_type": "execute_result"
    }
   ],
   "source": [
    "(pd.qcut(dataset.UnsecLines.values,5)).codes # return 0,4"
   ]
  },
  {
   "cell_type": "code",
   "execution_count": 74,
   "id": "4afac2c2-c992-4eb5-8b25-b4fc6d135b9b",
   "metadata": {},
   "outputs": [],
   "source": [
    "dataset.UnsecLines = pd.qcut(dataset.UnsecLines.values,5).codes"
   ]
  },
  {
   "cell_type": "code",
   "execution_count": 76,
   "id": "ef35189e-e38a-4db4-bd0d-9702b2cc431b",
   "metadata": {},
   "outputs": [
    {
     "data": {
      "text/plain": [
       "<seaborn.axisgrid.FacetGrid at 0x135d705f8>"
      ]
     },
     "execution_count": 76,
     "metadata": {},
     "output_type": "execute_result"
    },
    {
     "data": {
      "image/png": "[encoded data removed]",
      "text/plain": [
       "<Figure size 360x360 with 1 Axes>"
      ]
     },
     "metadata": {
      "needs_background": "light"
     },
     "output_type": "display_data"
    }
   ],
   "source": [
    "sns.catplot(data = dataset,x='UnsecLines',y= 'Target',kind = 'bar') #category is cat"
   ]
  },
  {
   "cell_type": "markdown",
   "id": "4cb0a429-4c92-48b8-8ee6-1634fb05346b",
   "metadata": {},
   "source": [
    "The trend increase imedidately (exponetial)\n",
    "Vao cum 4: Ti le no xau cao \n",
    "standard validation = dark[small]color "
   ]
  },
  {
   "cell_type": "code",
   "execution_count": 142,
   "id": "5d1e94c3-864d-4150-9b5c-08669a711925",
   "metadata": {},
   "outputs": [
    {
     "data": {
      "text/plain": [
       "<seaborn.axisgrid.FacetGrid at 0x224aa07f0>"
      ]
     },
     "execution_count": 142,
     "metadata": {},
     "output_type": "execute_result"
    },
    {
     "data": {
      "image/png": "[encoded data removed]",
      "text/plain": [
       "<Figure size 360x360 with 1 Axes>"
      ]
     },
     "metadata": {
      "needs_background": "light"
     },
     "output_type": "display_data"
    }
   ],
   "source": [
    "dataset.age = pd.qcut(dataset.age.values,5).codes\n",
    "sns.catplot(data = dataset,x='age',y= 'Target',kind = 'bar')"
   ]
  },
  {
   "cell_type": "code",
   "execution_count": 77,
   "id": "faca182b-17a0-4550-8b59-dfc61a37dc50",
   "metadata": {},
   "outputs": [
    {
     "ename": "ValueError",
     "evalue": "Bin edges must be unique: array([ 0.,  0.,  0.,  0.,  0., 98.]).\nYou can drop duplicate edges by setting the 'duplicates' kwarg",
     "output_type": "error",
     "traceback": [
      "\u001b[0;31m---------------------------------------------------------------------------\u001b[0m",
      "\u001b[0;31mValueError\u001b[0m                                Traceback (most recent call last)",
      "\u001b[0;32m<ipython-input-77-f751d58615f0>\u001b[0m in \u001b[0;36m<module>\u001b[0;34m\u001b[0m\n\u001b[0;32m----> 1\u001b[0;31m \u001b[0mdataset\u001b[0m\u001b[0;34m.\u001b[0m\u001b[0mLate3059\u001b[0m \u001b[0;34m=\u001b[0m \u001b[0mpd\u001b[0m\u001b[0;34m.\u001b[0m\u001b[0mqcut\u001b[0m\u001b[0;34m(\u001b[0m\u001b[0mdataset\u001b[0m\u001b[0;34m.\u001b[0m\u001b[0mLate3059\u001b[0m\u001b[0;34m.\u001b[0m\u001b[0mvalues\u001b[0m\u001b[0;34m,\u001b[0m\u001b[0;36m5\u001b[0m\u001b[0;34m)\u001b[0m\u001b[0;34m.\u001b[0m\u001b[0mcodes\u001b[0m\u001b[0;34m\u001b[0m\u001b[0m\n\u001b[0m\u001b[1;32m      2\u001b[0m \u001b[0msns\u001b[0m\u001b[0;34m.\u001b[0m\u001b[0mcatplot\u001b[0m\u001b[0;34m(\u001b[0m\u001b[0mdata\u001b[0m \u001b[0;34m=\u001b[0m \u001b[0mdataset\u001b[0m\u001b[0;34m,\u001b[0m\u001b[0mx\u001b[0m\u001b[0;34m=\u001b[0m\u001b[0;34m'Late3059'\u001b[0m\u001b[0;34m,\u001b[0m\u001b[0my\u001b[0m\u001b[0;34m=\u001b[0m \u001b[0;34m'Target'\u001b[0m\u001b[0;34m,\u001b[0m\u001b[0mkind\u001b[0m \u001b[0;34m=\u001b[0m \u001b[0;34m'bar'\u001b[0m\u001b[0;34m)\u001b[0m\u001b[0;34m\u001b[0m\u001b[0m\n",
      "\u001b[0;32m/opt/anaconda3/envs/anthony/lib/python3.7/site-packages/pandas/core/reshape/tile.py\u001b[0m in \u001b[0;36mqcut\u001b[0;34m(x, q, labels, retbins, precision, duplicates)\u001b[0m\n\u001b[1;32m    363\u001b[0m         \u001b[0minclude_lowest\u001b[0m\u001b[0;34m=\u001b[0m\u001b[0;32mTrue\u001b[0m\u001b[0;34m,\u001b[0m\u001b[0;34m\u001b[0m\u001b[0m\n\u001b[1;32m    364\u001b[0m         \u001b[0mdtype\u001b[0m\u001b[0;34m=\u001b[0m\u001b[0mdtype\u001b[0m\u001b[0;34m,\u001b[0m\u001b[0;34m\u001b[0m\u001b[0m\n\u001b[0;32m--> 365\u001b[0;31m         \u001b[0mduplicates\u001b[0m\u001b[0;34m=\u001b[0m\u001b[0mduplicates\u001b[0m\u001b[0;34m,\u001b[0m\u001b[0;34m\u001b[0m\u001b[0m\n\u001b[0m\u001b[1;32m    366\u001b[0m     )\n\u001b[1;32m    367\u001b[0m \u001b[0;34m\u001b[0m\u001b[0m\n",
      "\u001b[0;32m/opt/anaconda3/envs/anthony/lib/python3.7/site-packages/pandas/core/reshape/tile.py\u001b[0m in \u001b[0;36m_bins_to_cuts\u001b[0;34m(x, bins, right, labels, precision, include_lowest, dtype, duplicates, ordered)\u001b[0m\n\u001b[1;32m    398\u001b[0m         \u001b[0;32mif\u001b[0m \u001b[0mduplicates\u001b[0m \u001b[0;34m==\u001b[0m \u001b[0;34m\"raise\"\u001b[0m\u001b[0;34m:\u001b[0m\u001b[0;34m\u001b[0m\u001b[0m\n\u001b[1;32m    399\u001b[0m             raise ValueError(\n\u001b[0;32m--> 400\u001b[0;31m                 \u001b[0;34mf\"Bin edges must be unique: {repr(bins)}.\\n\"\u001b[0m\u001b[0;34m\u001b[0m\u001b[0m\n\u001b[0m\u001b[1;32m    401\u001b[0m                 \u001b[0;34mf\"You can drop duplicate edges by setting the 'duplicates' kwarg\"\u001b[0m\u001b[0;34m\u001b[0m\u001b[0m\n\u001b[1;32m    402\u001b[0m             )\n",
      "\u001b[0;31mValueError\u001b[0m: Bin edges must be unique: array([ 0.,  0.,  0.,  0.,  0., 98.]).\nYou can drop duplicate edges by setting the 'duplicates' kwarg"
     ]
    }
   ],
   "source": [
    "dataset.Late3059 = pd.qcut(dataset.Late3059.values,5).codes\n",
    "sns.catplot(data = dataset,x='Late3059',y= 'Target',kind = 'bar')"
   ]
  },
  {
   "cell_type": "code",
   "execution_count": 78,
   "id": "2b91bb2a-1250-4590-96ab-d9db2d537d05",
   "metadata": {},
   "outputs": [
    {
     "data": {
      "text/plain": [
       "Index(['Target', 'UnsecLines', 'age', 'Late3059', 'DebtRatio', 'MonthlyIncome',\n",
       "       'OpenCredit', 'Late90', 'PropLines', 'Late60-89', 'Deps'],\n",
       "      dtype='object')"
      ]
     },
     "execution_count": 78,
     "metadata": {},
     "output_type": "execute_result"
    }
   ],
   "source": [
    "dataset.columns"
   ]
  },
  {
   "cell_type": "code",
   "execution_count": 79,
   "id": "9e2db40a-ad50-42d8-b3ee-b0725306f42f",
   "metadata": {},
   "outputs": [
    {
     "data": {
      "text/plain": [
       "<seaborn.axisgrid.FacetGrid at 0x135d12cf8>"
      ]
     },
     "execution_count": 79,
     "metadata": {},
     "output_type": "execute_result"
    },
    {
     "data": {
      "image/png": "[encoded data removed]",
      "text/plain": [
       "<Figure size 360x360 with 1 Axes>"
      ]
     },
     "metadata": {
      "needs_background": "light"
     },
     "output_type": "display_data"
    }
   ],
   "source": [
    "dataset.DebtRatio = pd.qcut(dataset.DebtRatio.values,5).codes\n",
    "sns.catplot(data = dataset,x='DebtRatio',y= 'Target',kind = 'bar')"
   ]
  },
  {
   "cell_type": "code",
   "execution_count": 80,
   "id": "a8b9874f-e821-45f5-99ec-71f67aea78f6",
   "metadata": {},
   "outputs": [
    {
     "data": {
      "text/plain": [
       "<seaborn.axisgrid.FacetGrid at 0x135db4e10>"
      ]
     },
     "execution_count": 80,
     "metadata": {},
     "output_type": "execute_result"
    },
    {
     "data": {
      "image/png": "[encoded data removed]",
      "text/plain": [
       "<Figure size 360x360 with 1 Axes>"
      ]
     },
     "metadata": {
      "needs_background": "light"
     },
     "output_type": "display_data"
    }
   ],
   "source": [
    "dataset.MonthlyIncome = pd.qcut(dataset.MonthlyIncome.values,5).codes\n",
    "sns.catplot(data = dataset,x='MonthlyIncome',y= 'Target',kind = 'bar')"
   ]
  },
  {
   "cell_type": "code",
   "execution_count": 81,
   "id": "c7478457-05cd-4b34-9742-b47f94038102",
   "metadata": {},
   "outputs": [],
   "source": [
    "dataset  = pd.concat([df_train,df_test],axis =0)"
   ]
  },
  {
   "cell_type": "code",
   "execution_count": 82,
   "id": "a17ec763-9f3d-4890-bd53-17f261c8cd73",
   "metadata": {},
   "outputs": [
    {
     "data": {
      "text/plain": [
       "(49834, 5400.0)"
      ]
     },
     "execution_count": 82,
     "metadata": {},
     "output_type": "execute_result"
    }
   ],
   "source": [
    "dataset.MonthlyIncome.isnull().sum(), dataset.MonthlyIncome.median()"
   ]
  },
  {
   "cell_type": "code",
   "execution_count": 83,
   "id": "3096ef2b-a040-4980-83b7-89d460c5a21e",
   "metadata": {},
   "outputs": [],
   "source": [
    "dataset.MonthlyIncome =  dataset.MonthlyIncome.fillna(dataset.MonthlyIncome.median())"
   ]
  },
  {
   "cell_type": "code",
   "execution_count": 84,
   "id": "df2700ec-99ff-4449-9216-d2f66482001a",
   "metadata": {},
   "outputs": [
    {
     "data": {
      "text/plain": [
       "<seaborn.axisgrid.FacetGrid at 0x145216780>"
      ]
     },
     "execution_count": 84,
     "metadata": {},
     "output_type": "execute_result"
    },
    {
     "data": {
      "image/png": "[encoded data removed]",
      "text/plain": [
       "<Figure size 360x360 with 1 Axes>"
      ]
     },
     "metadata": {
      "needs_background": "light"
     },
     "output_type": "display_data"
    }
   ],
   "source": [
    "dataset.MonthlyIncome = pd.qcut(dataset.MonthlyIncome.values,5).codes\n",
    "sns.catplot(data = dataset,x='MonthlyIncome',y= 'Target',kind = 'bar')"
   ]
  },
  {
   "cell_type": "code",
   "execution_count": 85,
   "id": "907b6946-3d51-451f-942e-b9427f3cc975",
   "metadata": {},
   "outputs": [
    {
     "data": {
      "text/plain": [
       "Index(['Target', 'UnsecLines', 'age', 'Late3059', 'DebtRatio', 'MonthlyIncome',\n",
       "       'OpenCredit', 'Late90', 'PropLines', 'Late60-89', 'Deps'],\n",
       "      dtype='object')"
      ]
     },
     "execution_count": 85,
     "metadata": {},
     "output_type": "execute_result"
    }
   ],
   "source": [
    "dataset.columns"
   ]
  },
  {
   "cell_type": "code",
   "execution_count": 86,
   "id": "66a00a1a-732e-4b78-9d51-7ee0085efbac",
   "metadata": {},
   "outputs": [
    {
     "data": {
      "text/plain": [
       "<seaborn.axisgrid.FacetGrid at 0x135dbf588>"
      ]
     },
     "execution_count": 86,
     "metadata": {},
     "output_type": "execute_result"
    },
    {
     "data": {
      "image/png": "[encoded data removed]",
      "text/plain": [
       "<Figure size 360x360 with 1 Axes>"
      ]
     },
     "metadata": {
      "needs_background": "light"
     },
     "output_type": "display_data"
    }
   ],
   "source": [
    "dataset.Late90 = [4 if x>=4 else x for x in dataset.Late90]\n",
    "sns.catplot(data = dataset,x='Late90',y= 'Target',kind = 'bar')"
   ]
  },
  {
   "cell_type": "code",
   "execution_count": 87,
   "id": "52c4c890-37fe-418b-843b-17621a4805bd",
   "metadata": {},
   "outputs": [
    {
     "data": {
      "text/plain": [
       "<seaborn.axisgrid.FacetGrid at 0x1451f8320>"
      ]
     },
     "execution_count": 87,
     "metadata": {},
     "output_type": "execute_result"
    },
    {
     "data": {
      "image/png": "[encoded data removed]",
      "text/plain": [
       "<Figure size 360x360 with 1 Axes>"
      ]
     },
     "metadata": {
      "needs_background": "light"
     },
     "output_type": "display_data"
    }
   ],
   "source": [
    "sns.catplot(data = dataset,x='Late60-89',y= 'Target',kind = 'bar')"
   ]
  },
  {
   "cell_type": "code",
   "execution_count": 88,
   "id": "7c7cc519-e888-462d-af31-7f7c0f492f24",
   "metadata": {},
   "outputs": [
    {
     "data": {
      "text/plain": [
       "<seaborn.axisgrid.FacetGrid at 0x131286128>"
      ]
     },
     "execution_count": 88,
     "metadata": {},
     "output_type": "execute_result"
    },
    {
     "data": {
      "image/png": "[encoded data removed]",
      "text/plain": [
       "<Figure size 360x360 with 1 Axes>"
      ]
     },
     "metadata": {
      "needs_background": "light"
     },
     "output_type": "display_data"
    }
   ],
   "source": [
    "dataset['Late60-89'] = [3 if x>= 3 else x for x in dataset.Late90]\n",
    "sns.catplot(data = dataset,x='Late60-89',y= 'Target',kind = 'bar')"
   ]
  },
  {
   "cell_type": "code",
   "execution_count": 89,
   "id": "4770f9b4-d801-481f-a9cc-e4a72327abe5",
   "metadata": {},
   "outputs": [
    {
     "data": {
      "text/plain": [
       "<seaborn.axisgrid.FacetGrid at 0x1339d5940>"
      ]
     },
     "execution_count": 89,
     "metadata": {},
     "output_type": "execute_result"
    },
    {
     "data": {
      "image/png": "[encoded data removed]",
      "text/plain": [
       "<Figure size 360x360 with 1 Axes>"
      ]
     },
     "metadata": {
      "needs_background": "light"
     },
     "output_type": "display_data"
    }
   ],
   "source": [
    "dataset.Deps = dataset.Deps.fillna(dataset.Deps.median())\n",
    "dataset['Deps'] = [4 if x>= 4 else x for x in dataset.Late90]\n",
    "sns.catplot(data = dataset,x='Deps',y= 'Target',kind = 'bar')"
   ]
  },
  {
   "cell_type": "code",
   "execution_count": 90,
   "id": "d086f2dc-0900-4110-979c-1bf2bc703ee1",
   "metadata": {},
   "outputs": [
    {
     "data": {
      "text/plain": [
       "11"
      ]
     },
     "execution_count": 90,
     "metadata": {},
     "output_type": "execute_result"
    }
   ],
   "source": [
    "len(dataset.columns)"
   ]
  },
  {
   "cell_type": "code",
   "execution_count": 91,
   "id": "964b2a51-fb40-4eba-8cee-08c1a5f29ce4",
   "metadata": {},
   "outputs": [
    {
     "data": {
      "text/plain": [
       "Index(['Target', 'UnsecLines', 'age', 'Late3059', 'DebtRatio', 'MonthlyIncome',\n",
       "       'OpenCredit', 'Late90', 'PropLines', 'Late60-89', 'Deps'],\n",
       "      dtype='object')"
      ]
     },
     "execution_count": 91,
     "metadata": {},
     "output_type": "execute_result"
    }
   ],
   "source": [
    "dataset.columns"
   ]
  },
  {
   "cell_type": "code",
   "execution_count": null,
   "id": "b2dfe822-2833-4afe-b880-628bc13c809a",
   "metadata": {},
   "outputs": [],
   "source": [
    "column_names = ['Target', 'UnsecLines', 'age', 'Late3059', 'DebtRatio', 'MonthlyIncome',\n",
    "       'OpenCredit', 'Late90', 'PropLines', 'Late60-89', 'Deps']\n",
    "for col in column_names:\n",
    "    dataset = pd.get_dummies(dataset,columns = [col],prefix=col)"
   ]
  },
  {
   "cell_type": "code",
   "execution_count": null,
   "id": "2fdd3a8d-383d-4d29-a412-fc04d269f3fa",
   "metadata": {},
   "outputs": [],
   "source": [
    "dataset.columns"
   ]
  },
  {
   "cell_type": "markdown",
   "id": "b487fd3c-21e3-43c2-8417-4781debe999b",
   "metadata": {},
   "source": [
    "**Q16: Train test split**"
   ]
  },
  {
   "cell_type": "code",
   "execution_count": 7,
   "id": "bd4c62d1-c0e4-4dfd-88d7-8de967bd9b50",
   "metadata": {},
   "outputs": [
    {
     "data": {
      "text/html": [
       "<div>\n",
       "<style scoped>\n",
       "    .dataframe tbody tr th:only-of-type {\n",
       "        vertical-align: middle;\n",
       "    }\n",
       "\n",
       "    .dataframe tbody tr th {\n",
       "        vertical-align: top;\n",
       "    }\n",
       "\n",
       "    .dataframe thead th {\n",
       "        text-align: right;\n",
       "    }\n",
       "</style>\n",
       "<table border=\"1\" class=\"dataframe\">\n",
       "  <thead>\n",
       "    <tr style=\"text-align: right;\">\n",
       "      <th></th>\n",
       "      <th>SeriousDlqin2yrs</th>\n",
       "      <th>RevolvingUtilizationOfUnsecuredLines</th>\n",
       "      <th>age</th>\n",
       "      <th>NumberOfTime30-59DaysPastDueNotWorse</th>\n",
       "      <th>DebtRatio</th>\n",
       "      <th>MonthlyIncome</th>\n",
       "      <th>NumberOfOpenCreditLinesAndLoans</th>\n",
       "      <th>NumberOfTimes90DaysLate</th>\n",
       "      <th>NumberRealEstateLoansOrLines</th>\n",
       "      <th>NumberOfTime60-89DaysPastDueNotWorse</th>\n",
       "      <th>NumberOfDependents</th>\n",
       "    </tr>\n",
       "  </thead>\n",
       "  <tbody>\n",
       "    <tr>\n",
       "      <th>0</th>\n",
       "      <td>1</td>\n",
       "      <td>0.766127</td>\n",
       "      <td>45</td>\n",
       "      <td>2</td>\n",
       "      <td>0.802982</td>\n",
       "      <td>9120.0</td>\n",
       "      <td>13</td>\n",
       "      <td>0</td>\n",
       "      <td>6</td>\n",
       "      <td>0</td>\n",
       "      <td>2.0</td>\n",
       "    </tr>\n",
       "    <tr>\n",
       "      <th>1</th>\n",
       "      <td>0</td>\n",
       "      <td>0.957151</td>\n",
       "      <td>40</td>\n",
       "      <td>0</td>\n",
       "      <td>0.121876</td>\n",
       "      <td>2600.0</td>\n",
       "      <td>4</td>\n",
       "      <td>0</td>\n",
       "      <td>0</td>\n",
       "      <td>0</td>\n",
       "      <td>1.0</td>\n",
       "    </tr>\n",
       "    <tr>\n",
       "      <th>2</th>\n",
       "      <td>0</td>\n",
       "      <td>0.658180</td>\n",
       "      <td>38</td>\n",
       "      <td>1</td>\n",
       "      <td>0.085113</td>\n",
       "      <td>3042.0</td>\n",
       "      <td>2</td>\n",
       "      <td>1</td>\n",
       "      <td>0</td>\n",
       "      <td>0</td>\n",
       "      <td>0.0</td>\n",
       "    </tr>\n",
       "    <tr>\n",
       "      <th>3</th>\n",
       "      <td>0</td>\n",
       "      <td>0.233810</td>\n",
       "      <td>30</td>\n",
       "      <td>0</td>\n",
       "      <td>0.036050</td>\n",
       "      <td>3300.0</td>\n",
       "      <td>5</td>\n",
       "      <td>0</td>\n",
       "      <td>0</td>\n",
       "      <td>0</td>\n",
       "      <td>0.0</td>\n",
       "    </tr>\n",
       "    <tr>\n",
       "      <th>4</th>\n",
       "      <td>0</td>\n",
       "      <td>0.907239</td>\n",
       "      <td>49</td>\n",
       "      <td>1</td>\n",
       "      <td>0.024926</td>\n",
       "      <td>63588.0</td>\n",
       "      <td>7</td>\n",
       "      <td>0</td>\n",
       "      <td>1</td>\n",
       "      <td>0</td>\n",
       "      <td>0.0</td>\n",
       "    </tr>\n",
       "  </tbody>\n",
       "</table>\n",
       "</div>"
      ],
      "text/plain": [
       "   SeriousDlqin2yrs  RevolvingUtilizationOfUnsecuredLines  age  \\\n",
       "0                 1                              0.766127   45   \n",
       "1                 0                              0.957151   40   \n",
       "2                 0                              0.658180   38   \n",
       "3                 0                              0.233810   30   \n",
       "4                 0                              0.907239   49   \n",
       "\n",
       "   NumberOfTime30-59DaysPastDueNotWorse  DebtRatio  MonthlyIncome  \\\n",
       "0                                     2   0.802982         9120.0   \n",
       "1                                     0   0.121876         2600.0   \n",
       "2                                     1   0.085113         3042.0   \n",
       "3                                     0   0.036050         3300.0   \n",
       "4                                     1   0.024926        63588.0   \n",
       "\n",
       "   NumberOfOpenCreditLinesAndLoans  NumberOfTimes90DaysLate  \\\n",
       "0                               13                        0   \n",
       "1                                4                        0   \n",
       "2                                2                        1   \n",
       "3                                5                        0   \n",
       "4                                7                        0   \n",
       "\n",
       "   NumberRealEstateLoansOrLines  NumberOfTime60-89DaysPastDueNotWorse  \\\n",
       "0                             6                                     0   \n",
       "1                             0                                     0   \n",
       "2                             0                                     0   \n",
       "3                             0                                     0   \n",
       "4                             1                                     0   \n",
       "\n",
       "   NumberOfDependents  \n",
       "0                 2.0  \n",
       "1                 1.0  \n",
       "2                 0.0  \n",
       "3                 0.0  \n",
       "4                 0.0  "
      ]
     },
     "execution_count": 7,
     "metadata": {},
     "output_type": "execute_result"
    }
   ],
   "source": [
    "df_train.head()"
   ]
  },
  {
   "cell_type": "code",
   "execution_count": 99,
   "id": "1ad8bad1-8d8f-406f-948e-c748e9865ed6",
   "metadata": {},
   "outputs": [
    {
     "data": {
      "text/html": [
       "<div>\n",
       "<style scoped>\n",
       "    .dataframe tbody tr th:only-of-type {\n",
       "        vertical-align: middle;\n",
       "    }\n",
       "\n",
       "    .dataframe tbody tr th {\n",
       "        vertical-align: top;\n",
       "    }\n",
       "\n",
       "    .dataframe thead th {\n",
       "        text-align: right;\n",
       "    }\n",
       "</style>\n",
       "<table border=\"1\" class=\"dataframe\">\n",
       "  <thead>\n",
       "    <tr style=\"text-align: right;\">\n",
       "      <th></th>\n",
       "      <th>Target</th>\n",
       "      <th>UnsecLines</th>\n",
       "      <th>age</th>\n",
       "      <th>Late3059</th>\n",
       "      <th>DebtRatio</th>\n",
       "      <th>MonthlyIncome</th>\n",
       "      <th>OpenCredit</th>\n",
       "      <th>Late90</th>\n",
       "      <th>PropLines</th>\n",
       "      <th>Late60-89</th>\n",
       "      <th>Deps</th>\n",
       "    </tr>\n",
       "  </thead>\n",
       "  <tbody>\n",
       "    <tr>\n",
       "      <th>0</th>\n",
       "      <td>NaN</td>\n",
       "      <td>0.885519</td>\n",
       "      <td>43</td>\n",
       "      <td>0</td>\n",
       "      <td>0.177513</td>\n",
       "      <td>3</td>\n",
       "      <td>4</td>\n",
       "      <td>0</td>\n",
       "      <td>0</td>\n",
       "      <td>0</td>\n",
       "      <td>0</td>\n",
       "    </tr>\n",
       "    <tr>\n",
       "      <th>1</th>\n",
       "      <td>NaN</td>\n",
       "      <td>0.463295</td>\n",
       "      <td>57</td>\n",
       "      <td>0</td>\n",
       "      <td>0.527237</td>\n",
       "      <td>4</td>\n",
       "      <td>15</td>\n",
       "      <td>0</td>\n",
       "      <td>4</td>\n",
       "      <td>0</td>\n",
       "      <td>0</td>\n",
       "    </tr>\n",
       "    <tr>\n",
       "      <th>2</th>\n",
       "      <td>NaN</td>\n",
       "      <td>0.043275</td>\n",
       "      <td>59</td>\n",
       "      <td>0</td>\n",
       "      <td>0.687648</td>\n",
       "      <td>1</td>\n",
       "      <td>12</td>\n",
       "      <td>0</td>\n",
       "      <td>1</td>\n",
       "      <td>0</td>\n",
       "      <td>0</td>\n",
       "    </tr>\n",
       "    <tr>\n",
       "      <th>3</th>\n",
       "      <td>NaN</td>\n",
       "      <td>0.280308</td>\n",
       "      <td>38</td>\n",
       "      <td>1</td>\n",
       "      <td>0.925961</td>\n",
       "      <td>0</td>\n",
       "      <td>7</td>\n",
       "      <td>0</td>\n",
       "      <td>2</td>\n",
       "      <td>0</td>\n",
       "      <td>0</td>\n",
       "    </tr>\n",
       "    <tr>\n",
       "      <th>4</th>\n",
       "      <td>NaN</td>\n",
       "      <td>1.000000</td>\n",
       "      <td>27</td>\n",
       "      <td>0</td>\n",
       "      <td>0.019917</td>\n",
       "      <td>1</td>\n",
       "      <td>4</td>\n",
       "      <td>0</td>\n",
       "      <td>0</td>\n",
       "      <td>0</td>\n",
       "      <td>0</td>\n",
       "    </tr>\n",
       "    <tr>\n",
       "      <th>...</th>\n",
       "      <td>...</td>\n",
       "      <td>...</td>\n",
       "      <td>...</td>\n",
       "      <td>...</td>\n",
       "      <td>...</td>\n",
       "      <td>...</td>\n",
       "      <td>...</td>\n",
       "      <td>...</td>\n",
       "      <td>...</td>\n",
       "      <td>...</td>\n",
       "      <td>...</td>\n",
       "    </tr>\n",
       "    <tr>\n",
       "      <th>101498</th>\n",
       "      <td>NaN</td>\n",
       "      <td>0.282653</td>\n",
       "      <td>24</td>\n",
       "      <td>0</td>\n",
       "      <td>0.068522</td>\n",
       "      <td>0</td>\n",
       "      <td>5</td>\n",
       "      <td>0</td>\n",
       "      <td>0</td>\n",
       "      <td>0</td>\n",
       "      <td>0</td>\n",
       "    </tr>\n",
       "    <tr>\n",
       "      <th>101499</th>\n",
       "      <td>NaN</td>\n",
       "      <td>0.922156</td>\n",
       "      <td>36</td>\n",
       "      <td>3</td>\n",
       "      <td>0.934217</td>\n",
       "      <td>3</td>\n",
       "      <td>8</td>\n",
       "      <td>0</td>\n",
       "      <td>2</td>\n",
       "      <td>0</td>\n",
       "      <td>0</td>\n",
       "    </tr>\n",
       "    <tr>\n",
       "      <th>101500</th>\n",
       "      <td>NaN</td>\n",
       "      <td>0.081596</td>\n",
       "      <td>70</td>\n",
       "      <td>0</td>\n",
       "      <td>836.000000</td>\n",
       "      <td>1</td>\n",
       "      <td>3</td>\n",
       "      <td>0</td>\n",
       "      <td>0</td>\n",
       "      <td>0</td>\n",
       "      <td>0</td>\n",
       "    </tr>\n",
       "    <tr>\n",
       "      <th>101501</th>\n",
       "      <td>NaN</td>\n",
       "      <td>0.335457</td>\n",
       "      <td>56</td>\n",
       "      <td>0</td>\n",
       "      <td>3568.000000</td>\n",
       "      <td>1</td>\n",
       "      <td>8</td>\n",
       "      <td>0</td>\n",
       "      <td>2</td>\n",
       "      <td>0</td>\n",
       "      <td>0</td>\n",
       "    </tr>\n",
       "    <tr>\n",
       "      <th>101502</th>\n",
       "      <td>NaN</td>\n",
       "      <td>0.441842</td>\n",
       "      <td>29</td>\n",
       "      <td>0</td>\n",
       "      <td>0.198918</td>\n",
       "      <td>3</td>\n",
       "      <td>12</td>\n",
       "      <td>0</td>\n",
       "      <td>0</td>\n",
       "      <td>0</td>\n",
       "      <td>0</td>\n",
       "    </tr>\n",
       "  </tbody>\n",
       "</table>\n",
       "<p>101503 rows × 11 columns</p>\n",
       "</div>"
      ],
      "text/plain": [
       "        Target  UnsecLines  age  Late3059    DebtRatio  MonthlyIncome  \\\n",
       "0          NaN    0.885519   43         0     0.177513              3   \n",
       "1          NaN    0.463295   57         0     0.527237              4   \n",
       "2          NaN    0.043275   59         0     0.687648              1   \n",
       "3          NaN    0.280308   38         1     0.925961              0   \n",
       "4          NaN    1.000000   27         0     0.019917              1   \n",
       "...        ...         ...  ...       ...          ...            ...   \n",
       "101498     NaN    0.282653   24         0     0.068522              0   \n",
       "101499     NaN    0.922156   36         3     0.934217              3   \n",
       "101500     NaN    0.081596   70         0   836.000000              1   \n",
       "101501     NaN    0.335457   56         0  3568.000000              1   \n",
       "101502     NaN    0.441842   29         0     0.198918              3   \n",
       "\n",
       "        OpenCredit  Late90  PropLines  Late60-89  Deps  \n",
       "0                4       0          0          0     0  \n",
       "1               15       0          4          0     0  \n",
       "2               12       0          1          0     0  \n",
       "3                7       0          2          0     0  \n",
       "4                4       0          0          0     0  \n",
       "...            ...     ...        ...        ...   ...  \n",
       "101498           5       0          0          0     0  \n",
       "101499           8       0          2          0     0  \n",
       "101500           3       0          0          0     0  \n",
       "101501           8       0          2          0     0  \n",
       "101502          12       0          0          0     0  \n",
       "\n",
       "[101503 rows x 11 columns]"
      ]
     },
     "execution_count": 99,
     "metadata": {},
     "output_type": "execute_result"
    }
   ],
   "source": [
    "train = dataset[:len(df_train)]\n",
    "test = dataset[len(df_train):]\n",
    "train\n",
    "test"
   ]
  },
  {
   "cell_type": "markdown",
   "id": "db92cc0c-f060-43ae-b42c-143079df0179",
   "metadata": {},
   "source": [
    "**Q17: Train prediction model using Random Forest Classifier**"
   ]
  },
  {
   "cell_type": "code",
   "execution_count": 114,
   "id": "3fd72a59-3c92-4a77-9f61-278a37d22647",
   "metadata": {},
   "outputs": [
    {
     "name": "stderr",
     "output_type": "stream",
     "text": [
      "/opt/anaconda3/envs/anthony/lib/python3.7/site-packages/ipykernel_launcher.py:1: SettingWithCopyWarning: \n",
      "A value is trying to be set on a copy of a slice from a DataFrame.\n",
      "Try using .loc[row_indexer,col_indexer] = value instead\n",
      "\n",
      "See the caveats in the documentation: https://pandas.pydata.org/pandas-docs/stable/user_guide/indexing.html#returning-a-view-versus-a-copy\n",
      "  \"\"\"Entry point for launching an IPython kernel.\n"
     ]
    }
   ],
   "source": [
    "train['Target'] = train['Target'].astype(int)#casting using castype\n",
    "X_train = train.drop(labels =['Target'], axis =1)#loại bỏ cột target\n",
    "X_test = test.drop(labels =['Target'], axis =1)#loại bỏ cột Target\n",
    "Y_train = train.Target\n",
    "Y_test = test.Target"
   ]
  },
  {
   "cell_type": "code",
   "execution_count": 116,
   "id": "06f4a302-d508-46e4-9e28-7e268ba2b38c",
   "metadata": {},
   "outputs": [
    {
     "data": {
      "text/plain": [
       "RandomForestClassifier(max_features='sqrt', n_estimators=50)"
      ]
     },
     "execution_count": 116,
     "metadata": {},
     "output_type": "execute_result"
    }
   ],
   "source": [
    "from sklearn.ensemble import RandomForestClassifier\n",
    "clf = RandomForestClassifier(n_estimators =50, max_features = 'sqrt')#CREAT MODEL\n",
    "clf.fit(X_train,Y_train)#PUSH XTRAIN AND TRAIN"
   ]
  },
  {
   "cell_type": "code",
   "execution_count": 120,
   "id": "42d58d3e-c380-4e59-96f4-6b781ef55e67",
   "metadata": {},
   "outputs": [
    {
     "data": {
      "text/plain": [
       "array([0, 0, 0, ..., 0, 0, 0])"
      ]
     },
     "execution_count": 120,
     "metadata": {},
     "output_type": "execute_result"
    }
   ],
   "source": [
    "y_pred = clf.predict(X_test)\n",
    "y_pred"
   ]
  },
  {
   "cell_type": "markdown",
   "id": "48b77ee7-a7d0-46a1-abca-fa8430ac70f6",
   "metadata": {},
   "source": [
    "**Q18: Get feature importance from classifier**"
   ]
  },
  {
   "cell_type": "code",
   "execution_count": 121,
   "id": "42670c5e-1fb6-467b-a9dd-2efe13118604",
   "metadata": {},
   "outputs": [],
   "source": [
    "#Show the the importanal features"
   ]
  },
  {
   "cell_type": "code",
   "execution_count": 133,
   "id": "58285abf-cb00-43f8-917b-52744f3924b0",
   "metadata": {},
   "outputs": [
    {
     "data": {
      "text/html": [
       "<div>\n",
       "<style scoped>\n",
       "    .dataframe tbody tr th:only-of-type {\n",
       "        vertical-align: middle;\n",
       "    }\n",
       "\n",
       "    .dataframe tbody tr th {\n",
       "        vertical-align: top;\n",
       "    }\n",
       "\n",
       "    .dataframe thead th {\n",
       "        text-align: right;\n",
       "    }\n",
       "</style>\n",
       "<table border=\"1\" class=\"dataframe\">\n",
       "  <thead>\n",
       "    <tr style=\"text-align: right;\">\n",
       "      <th></th>\n",
       "      <th>names</th>\n",
       "      <th>importance</th>\n",
       "    </tr>\n",
       "  </thead>\n",
       "  <tbody>\n",
       "    <tr>\n",
       "      <th>3</th>\n",
       "      <td>DebtRatio</td>\n",
       "      <td>0.249794</td>\n",
       "    </tr>\n",
       "    <tr>\n",
       "      <th>0</th>\n",
       "      <td>UnsecLines</td>\n",
       "      <td>0.242800</td>\n",
       "    </tr>\n",
       "    <tr>\n",
       "      <th>1</th>\n",
       "      <td>age</td>\n",
       "      <td>0.159542</td>\n",
       "    </tr>\n",
       "    <tr>\n",
       "      <th>5</th>\n",
       "      <td>OpenCredit</td>\n",
       "      <td>0.106474</td>\n",
       "    </tr>\n",
       "    <tr>\n",
       "      <th>2</th>\n",
       "      <td>Late3059</td>\n",
       "      <td>0.052596</td>\n",
       "    </tr>\n",
       "    <tr>\n",
       "      <th>9</th>\n",
       "      <td>Deps</td>\n",
       "      <td>0.046506</td>\n",
       "    </tr>\n",
       "    <tr>\n",
       "      <th>6</th>\n",
       "      <td>Late90</td>\n",
       "      <td>0.042719</td>\n",
       "    </tr>\n",
       "    <tr>\n",
       "      <th>7</th>\n",
       "      <td>PropLines</td>\n",
       "      <td>0.036528</td>\n",
       "    </tr>\n",
       "    <tr>\n",
       "      <th>4</th>\n",
       "      <td>MonthlyIncome</td>\n",
       "      <td>0.035711</td>\n",
       "    </tr>\n",
       "    <tr>\n",
       "      <th>8</th>\n",
       "      <td>Late60-89</td>\n",
       "      <td>0.027331</td>\n",
       "    </tr>\n",
       "  </tbody>\n",
       "</table>\n",
       "</div>"
      ],
      "text/plain": [
       "           names  importance\n",
       "3      DebtRatio    0.249794\n",
       "0     UnsecLines    0.242800\n",
       "1            age    0.159542\n",
       "5     OpenCredit    0.106474\n",
       "2       Late3059    0.052596\n",
       "9           Deps    0.046506\n",
       "6         Late90    0.042719\n",
       "7      PropLines    0.036528\n",
       "4  MonthlyIncome    0.035711\n",
       "8      Late60-89    0.027331"
      ]
     },
     "execution_count": 133,
     "metadata": {},
     "output_type": "execute_result"
    }
   ],
   "source": [
    "features = pd. DataFrame()\n",
    "features['names'] = X_train.columns\n",
    "features['importance'] = clf.feature_importances_\n",
    "features = features.sort_values(by=['importance'], ascending = False)\n",
    "features"
   ]
  },
  {
   "cell_type": "code",
   "execution_count": 134,
   "id": "e54a5684-52ac-4bbd-ab3d-3d753698bd30",
   "metadata": {},
   "outputs": [
    {
     "data": {
      "text/plain": [
       "<AxesSubplot:>"
      ]
     },
     "execution_count": 134,
     "metadata": {},
     "output_type": "execute_result"
    },
    {
     "data": {
      "image/png": "[encoded data removed]",
      "text/plain": [
       "<Figure size 360x360 with 1 Axes>"
      ]
     },
     "metadata": {
      "needs_background": "light"
     },
     "output_type": "display_data"
    }
   ],
   "source": [
    "features.plot(kind = 'bar',figsize = (5,5))"
   ]
  },
  {
   "cell_type": "markdown",
   "id": "668c3e37-5855-41cc-bce8-d12a66a90da9",
   "metadata": {},
   "source": [
    "**Q19: Retrain with better parameters**"
   ]
  },
  {
   "cell_type": "markdown",
   "id": "8aa4d53d-c89a-4d8e-87bf-b2dbd612b1c3",
   "metadata": {},
   "source": [
    "Parameter +chanhe combination of feature (cat thu xem ntn roi dua ra)"
   ]
  },
  {
   "cell_type": "markdown",
   "id": "38058ff2-c3a7-4f5d-83ce-53b4dc4e8a63",
   "metadata": {},
   "source": [
    "**Q20: Predict and evaluate the model performance**"
   ]
  },
  {
   "cell_type": "markdown",
   "id": "db89e9fe-7984-4f8d-b842-3dfb9829e275",
   "metadata": {},
   "source": [
    "Đôi khi trả về xác xuất % bao nhiêu nợ xấu tốt ntn "
   ]
  },
  {
   "cell_type": "code",
   "execution_count": 135,
   "id": "b6334994-25a1-4fb4-b599-e3f375eca94b",
   "metadata": {},
   "outputs": [
    {
     "data": {
      "text/plain": [
       "array([0.02, 0.06, 0.02, ..., 0.  , 0.  , 0.02])"
      ]
     },
     "execution_count": 135,
     "metadata": {},
     "output_type": "execute_result"
    }
   ],
   "source": [
    "y_pred = clf.predict_proba(X_test)[:,1] #Threshold We have to show it actually to show what we have with this result\n",
    "y_pred"
   ]
  },
  {
   "cell_type": "markdown",
   "id": "47ffd8e0-88fb-4381-9053-ac7ced8e876a",
   "metadata": {},
   "source": [
    "Đánh gía threadhold dựa trên: bad rate(deafault)+population rejection (phải giữ khách hàng tiềm năng)"
   ]
  },
  {
   "cell_type": "markdown",
   "id": "2b0ee367-034c-41e0-98f6-0d6de88e14ad",
   "metadata": {},
   "source": [
    "Phải đánh giá được threshold tốt hay xấu"
   ]
  },
  {
   "cell_type": "markdown",
   "id": "ee027911-743e-46b0-a321-9d9cdd4fe182",
   "metadata": {},
   "source": [
    "<center> <img src=\"https://media.makeameme.org/created/have-a-nice-17d2442086.jpg\" width=\"500\"/> </center>"
   ]
  }
 ],
 "metadata": {
  "kernelspec": {
   "display_name": "Python 3",
   "language": "python",
   "name": "python3"
  },
  "language_info": {
   "codemirror_mode": {
    "name": "ipython",
    "version": 3
   },
   "file_extension": ".py",
   "mimetype": "text/x-python",
   "name": "python",
   "nbconvert_exporter": "python",
   "pygments_lexer": "ipython3",
   "version": "3.7.0"
  }
 },
 "nbformat": 4,
 "nbformat_minor": 5
}
