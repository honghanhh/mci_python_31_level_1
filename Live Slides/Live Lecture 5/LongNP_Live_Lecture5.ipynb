{
 "cells": [
  {
   "cell_type": "markdown",
   "id": "ecb4d0c3-4ff4-4b9f-bd8d-6064efde73de",
   "metadata": {},
   "source": [
    "# Lesson 5"
   ]
  },
  {
   "cell_type": "markdown",
   "id": "83a1937d-c467-4b7d-99b1-d95ed880c568",
   "metadata": {},
   "source": [
    "## 1. Introduction"
   ]
  },
  {
   "cell_type": "markdown",
   "id": "763fa13b-4b94-4663-9e5a-8a26fcbd3cd1",
   "metadata": {},
   "source": [
    "Pandas = Panel Data\n",
    "\n",
    "`ref` = [Pandas Document](https://pandas.pydata.org/)\n"
   ]
  },
  {
   "cell_type": "markdown",
   "id": "a5a58b83-ad7e-429e-9254-691030559a19",
   "metadata": {},
   "source": [
    "**Install**"
   ]
  },
  {
   "cell_type": "markdown",
   "id": "5186eedc-8d25-4f5b-83fa-4ff65879b0c2",
   "metadata": {},
   "source": [
    "- Install when creating enviroment\n",
    "`\n",
    "conda create -n env_name python=3.8 pandas\n",
    "`"
   ]
  },
  {
   "cell_type": "markdown",
   "id": "459cb75d-fce2-42a9-9048-df8ea09018d0",
   "metadata": {},
   "source": [
    "## 2. Foundation / Basics"
   ]
  },
  {
   "cell_type": "markdown",
   "id": "f30a72bc-7c20-4bd4-8412-7377d42d42dc",
   "metadata": {},
   "source": [
    "### 2.1 Objects in Pandas"
   ]
  },
  {
   "cell_type": "markdown",
   "id": "d3f54d70-c697-4d71-b9a2-5c9e3b62e6f2",
   "metadata": {},
   "source": [
    "Data:\n",
    "- Structured data: table\n",
    "- Unstructured data: text, image"
   ]
  },
  {
   "cell_type": "markdown",
   "id": "0a83608b-fb5b-45ae-a343-af843bd3b48a",
   "metadata": {},
   "source": [
    "Objects in pandas"
   ]
  },
  {
   "cell_type": "markdown",
   "id": "8160be76-f338-4ebb-8b82-4efdf8e52777",
   "metadata": {},
   "source": [
    "- `Dataframe`: the name table or spreadsheet in Pandas\n",
    "- `Series`: a column in dataframe"
   ]
  },
  {
   "cell_type": "markdown",
   "id": "aff119c0-9a54-4b8b-bce0-54d84f171533",
   "metadata": {},
   "source": [
    "![](https://media.geeksforgeeks.org/wp-content/cdn-uploads/creating_dataframe1.png)"
   ]
  },
  {
   "cell_type": "markdown",
   "id": "02083d0a-4fb7-4fc2-9055-0b67d78c1fd8",
   "metadata": {},
   "source": [
    "![](https://www.datasciencemadesimple.com/wp-content/uploads/2020/05/create-series-in-python-pandas-0.png?ezimgfmt=ng%3Awebp%2Fngcb1%2Frs%3Adevice%2Frscb1-1)"
   ]
  },
  {
   "cell_type": "markdown",
   "id": "fd453898-382a-4d8c-8fe5-28de89829a39",
   "metadata": {},
   "source": [
    "### 2.2 Create dataframe"
   ]
  },
  {
   "cell_type": "code",
   "execution_count": 7,
   "id": "311ac4dd-bc53-44cc-9a3f-a8c9677f891f",
   "metadata": {},
   "outputs": [],
   "source": [
    "import pandas as pd"
   ]
  },
  {
   "cell_type": "markdown",
   "id": "0a183a26-81c9-4fcc-89b8-01692aec14df",
   "metadata": {},
   "source": [
    "- `pd.DataFrame()`\n",
    "- `pd.Series()`"
   ]
  },
  {
   "cell_type": "code",
   "execution_count": 10,
   "id": "8274d603-c5e8-42fb-b1a8-4ee007e3146a",
   "metadata": {},
   "outputs": [
    {
     "data": {
      "text/html": [
       "<div>\n",
       "<style scoped>\n",
       "    .dataframe tbody tr th:only-of-type {\n",
       "        vertical-align: middle;\n",
       "    }\n",
       "\n",
       "    .dataframe tbody tr th {\n",
       "        vertical-align: top;\n",
       "    }\n",
       "\n",
       "    .dataframe thead th {\n",
       "        text-align: right;\n",
       "    }\n",
       "</style>\n",
       "<table border=\"1\" class=\"dataframe\">\n",
       "  <thead>\n",
       "    <tr style=\"text-align: right;\">\n",
       "      <th></th>\n",
       "      <th>name</th>\n",
       "      <th>age</th>\n",
       "    </tr>\n",
       "  </thead>\n",
       "  <tbody>\n",
       "    <tr>\n",
       "      <th>0</th>\n",
       "      <td>Chi</td>\n",
       "      <td>12</td>\n",
       "    </tr>\n",
       "    <tr>\n",
       "      <th>1</th>\n",
       "      <td>Hao</td>\n",
       "      <td>24</td>\n",
       "    </tr>\n",
       "    <tr>\n",
       "      <th>2</th>\n",
       "      <td>Ten2</td>\n",
       "      <td>32</td>\n",
       "    </tr>\n",
       "    <tr>\n",
       "      <th>3</th>\n",
       "      <td>ten3</td>\n",
       "      <td>22</td>\n",
       "    </tr>\n",
       "  </tbody>\n",
       "</table>\n",
       "</div>"
      ],
      "text/plain": [
       "   name  age\n",
       "0   Chi   12\n",
       "1   Hao   24\n",
       "2  Ten2   32\n",
       "3  ten3   22"
      ]
     },
     "execution_count": 10,
     "metadata": {},
     "output_type": "execute_result"
    }
   ],
   "source": [
    "dict1 = {'name': ['Chi','Hao','Ten2','ten3'],\n",
    "         'age': [12,24,32,22]}\n",
    "df = pd.DataFrame(dict1)\n",
    "df"
   ]
  },
  {
   "cell_type": "code",
   "execution_count": 11,
   "id": "717e7674-98e8-4d3e-8814-080b5f8fc242",
   "metadata": {},
   "outputs": [
    {
     "data": {
      "text/plain": [
       "pandas.core.frame.DataFrame"
      ]
     },
     "execution_count": 11,
     "metadata": {},
     "output_type": "execute_result"
    }
   ],
   "source": [
    "type(df)"
   ]
  },
  {
   "cell_type": "code",
   "execution_count": 14,
   "id": "f1427675-ef39-478a-b989-8f928f013b73",
   "metadata": {},
   "outputs": [
    {
     "data": {
      "text/html": [
       "<div>\n",
       "<style scoped>\n",
       "    .dataframe tbody tr th:only-of-type {\n",
       "        vertical-align: middle;\n",
       "    }\n",
       "\n",
       "    .dataframe tbody tr th {\n",
       "        vertical-align: top;\n",
       "    }\n",
       "\n",
       "    .dataframe thead th {\n",
       "        text-align: right;\n",
       "    }\n",
       "</style>\n",
       "<table border=\"1\" class=\"dataframe\">\n",
       "  <thead>\n",
       "    <tr style=\"text-align: right;\">\n",
       "      <th></th>\n",
       "      <th>Name</th>\n",
       "      <th>Age</th>\n",
       "    </tr>\n",
       "  </thead>\n",
       "  <tbody>\n",
       "    <tr>\n",
       "      <th>0</th>\n",
       "      <td>Chi</td>\n",
       "      <td>12</td>\n",
       "    </tr>\n",
       "    <tr>\n",
       "      <th>1</th>\n",
       "      <td>Hao</td>\n",
       "      <td>24</td>\n",
       "    </tr>\n",
       "    <tr>\n",
       "      <th>2</th>\n",
       "      <td>Ten2</td>\n",
       "      <td>32</td>\n",
       "    </tr>\n",
       "    <tr>\n",
       "      <th>3</th>\n",
       "      <td>ten3</td>\n",
       "      <td>22</td>\n",
       "    </tr>\n",
       "  </tbody>\n",
       "</table>\n",
       "</div>"
      ],
      "text/plain": [
       "   Name  Age\n",
       "0   Chi   12\n",
       "1   Hao   24\n",
       "2  Ten2   32\n",
       "3  ten3   22"
      ]
     },
     "execution_count": 14,
     "metadata": {},
     "output_type": "execute_result"
    }
   ],
   "source": [
    "list_of_list = [['Chi',12],['Hao',24],['Ten2',32],['ten3',22]]\n",
    "df1 = pd.DataFrame(list_of_list, columns = ['Name', 'Age'])\n",
    "df1"
   ]
  },
  {
   "cell_type": "code",
   "execution_count": 19,
   "id": "5b7cd19f-40d6-4415-995c-97ca6eaaac25",
   "metadata": {},
   "outputs": [
    {
     "data": {
      "text/html": [
       "<div>\n",
       "<style scoped>\n",
       "    .dataframe tbody tr th:only-of-type {\n",
       "        vertical-align: middle;\n",
       "    }\n",
       "\n",
       "    .dataframe tbody tr th {\n",
       "        vertical-align: top;\n",
       "    }\n",
       "\n",
       "    .dataframe thead th {\n",
       "        text-align: right;\n",
       "    }\n",
       "</style>\n",
       "<table border=\"1\" class=\"dataframe\">\n",
       "  <thead>\n",
       "    <tr style=\"text-align: right;\">\n",
       "      <th></th>\n",
       "      <th>Name</th>\n",
       "      <th>Age</th>\n",
       "    </tr>\n",
       "  </thead>\n",
       "  <tbody>\n",
       "    <tr>\n",
       "      <th>0</th>\n",
       "      <td>Chi</td>\n",
       "      <td>12</td>\n",
       "    </tr>\n",
       "    <tr>\n",
       "      <th>1</th>\n",
       "      <td>Hao</td>\n",
       "      <td>24</td>\n",
       "    </tr>\n",
       "    <tr>\n",
       "      <th>2</th>\n",
       "      <td>Ten2</td>\n",
       "      <td>32</td>\n",
       "    </tr>\n",
       "    <tr>\n",
       "      <th>3</th>\n",
       "      <td>ten3</td>\n",
       "      <td>22</td>\n",
       "    </tr>\n",
       "  </tbody>\n",
       "</table>\n",
       "</div>"
      ],
      "text/plain": [
       "   Name  Age\n",
       "0   Chi   12\n",
       "1   Hao   24\n",
       "2  Ten2   32\n",
       "3  ten3   22"
      ]
     },
     "execution_count": 19,
     "metadata": {},
     "output_type": "execute_result"
    }
   ],
   "source": [
    "name = ['Chi','Hao','Ten2','ten3']\n",
    "tuoi = [12,24,32,22]\n",
    "df2 = pd.DataFrame(zip(name,tuoi), columns = ['Name','Age'])\n",
    "df2"
   ]
  },
  {
   "cell_type": "markdown",
   "id": "24e64dd3-615d-4e4c-9f0c-653bf95b4ba1",
   "metadata": {},
   "source": [
    "### 2.3 Creating a Serie"
   ]
  },
  {
   "cell_type": "code",
   "execution_count": 21,
   "id": "1574a51d-0211-47a8-a985-886f1cf27200",
   "metadata": {},
   "outputs": [
    {
     "data": {
      "text/plain": [
       "0     Chi\n",
       "1     Hao\n",
       "2    Ten2\n",
       "3    ten3\n",
       "Name: Name, dtype: object"
      ]
     },
     "execution_count": 21,
     "metadata": {},
     "output_type": "execute_result"
    }
   ],
   "source": [
    "series = df2['Name']\n",
    "series"
   ]
  },
  {
   "cell_type": "code",
   "execution_count": 23,
   "id": "d013d6db-5302-48c4-b607-7f4f3f7c3c12",
   "metadata": {},
   "outputs": [
    {
     "data": {
      "text/plain": [
       "0     Chi\n",
       "1     Hao\n",
       "2    Ten2\n",
       "3    ten3\n",
       "Name: Name, dtype: object"
      ]
     },
     "execution_count": 23,
     "metadata": {},
     "output_type": "execute_result"
    }
   ],
   "source": [
    "series1 = df2.Name\n",
    "series1"
   ]
  },
  {
   "cell_type": "code",
   "execution_count": 24,
   "id": "e7639819-02f0-411e-8171-727083e6d947",
   "metadata": {},
   "outputs": [
    {
     "data": {
      "text/html": [
       "<div>\n",
       "<style scoped>\n",
       "    .dataframe tbody tr th:only-of-type {\n",
       "        vertical-align: middle;\n",
       "    }\n",
       "\n",
       "    .dataframe tbody tr th {\n",
       "        vertical-align: top;\n",
       "    }\n",
       "\n",
       "    .dataframe thead th {\n",
       "        text-align: right;\n",
       "    }\n",
       "</style>\n",
       "<table border=\"1\" class=\"dataframe\">\n",
       "  <thead>\n",
       "    <tr style=\"text-align: right;\">\n",
       "      <th></th>\n",
       "      <th>Họ và tên</th>\n",
       "      <th>Tuổi</th>\n",
       "    </tr>\n",
       "  </thead>\n",
       "  <tbody>\n",
       "    <tr>\n",
       "      <th>0</th>\n",
       "      <td>Chi</td>\n",
       "      <td>12</td>\n",
       "    </tr>\n",
       "    <tr>\n",
       "      <th>1</th>\n",
       "      <td>Hao</td>\n",
       "      <td>24</td>\n",
       "    </tr>\n",
       "    <tr>\n",
       "      <th>2</th>\n",
       "      <td>Ten2</td>\n",
       "      <td>32</td>\n",
       "    </tr>\n",
       "    <tr>\n",
       "      <th>3</th>\n",
       "      <td>ten3</td>\n",
       "      <td>22</td>\n",
       "    </tr>\n",
       "  </tbody>\n",
       "</table>\n",
       "</div>"
      ],
      "text/plain": [
       "  Họ và tên  Tuổi\n",
       "0       Chi    12\n",
       "1       Hao    24\n",
       "2      Ten2    32\n",
       "3      ten3    22"
      ]
     },
     "execution_count": 24,
     "metadata": {},
     "output_type": "execute_result"
    }
   ],
   "source": [
    "df2 = pd.DataFrame(zip(name,tuoi), columns = ['Họ và tên','Tuổi'])\n",
    "df2"
   ]
  },
  {
   "cell_type": "code",
   "execution_count": 25,
   "id": "35b64349-c9f1-4b0b-a399-4991b293c7b6",
   "metadata": {},
   "outputs": [
    {
     "ename": "SyntaxError",
     "evalue": "invalid syntax (<ipython-input-25-f9b8198e0207>, line 1)",
     "output_type": "error",
     "traceback": [
      "\u001b[1;36m  File \u001b[1;32m\"<ipython-input-25-f9b8198e0207>\"\u001b[1;36m, line \u001b[1;32m1\u001b[0m\n\u001b[1;33m    series = df2.Họ và tên\u001b[0m\n\u001b[1;37m                     ^\u001b[0m\n\u001b[1;31mSyntaxError\u001b[0m\u001b[1;31m:\u001b[0m invalid syntax\n"
     ]
    }
   ],
   "source": [
    "series = df2.Họ và tên"
   ]
  },
  {
   "cell_type": "markdown",
   "id": "cf5c508b-549d-4e3e-9b62-e44d4e2d4bfd",
   "metadata": {},
   "source": [
    "### 2.4 I/O - Input/Output (Load and save data)"
   ]
  },
  {
   "cell_type": "code",
   "execution_count": 28,
   "id": "84502267-bf05-4ff6-91d2-cb3a4f9991c1",
   "metadata": {},
   "outputs": [
    {
     "ename": "SyntaxError",
     "evalue": "(unicode error) 'unicodeescape' codec can't decode bytes in position 2-3: truncated \\UXXXXXXXX escape (<ipython-input-28-7f6f03360e7e>, line 1)",
     "output_type": "error",
     "traceback": [
      "\u001b[1;36m  File \u001b[1;32m\"<ipython-input-28-7f6f03360e7e>\"\u001b[1;36m, line \u001b[1;32m1\u001b[0m\n\u001b[1;33m    df = pd.read_csv('C:\\Users\\ADMIN\\Documents\\GitHub\\mci_python_31_level_1\\Assignments\\Session_03\\Pandas\\Ecommerce Purchases.csv')\u001b[0m\n\u001b[1;37m                    ^\u001b[0m\n\u001b[1;31mSyntaxError\u001b[0m\u001b[1;31m:\u001b[0m (unicode error) 'unicodeescape' codec can't decode bytes in position 2-3: truncated \\UXXXXXXXX escape\n"
     ]
    }
   ],
   "source": [
    "df = pd.read_csv('C:\\Users\\ADMIN\\Documents\\GitHub\\mci_python_31_level_1\\Assignments\\Session_03\\Pandas\\Ecommerce Purchases.csv')"
   ]
  },
  {
   "cell_type": "code",
   "execution_count": null,
   "id": "4e81a3eb-dc17-4f13-8a29-b7ef1e2d9493",
   "metadata": {},
   "outputs": [],
   "source": [
    "df2 = pd.read_csv('https://')"
   ]
  }
 ],
 "metadata": {
  "kernelspec": {
   "display_name": "Python 3",
   "language": "python",
   "name": "python3"
  },
  "language_info": {
   "codemirror_mode": {
    "name": "ipython",
    "version": 3
   },
   "file_extension": ".py",
   "mimetype": "text/x-python",
   "name": "python",
   "nbconvert_exporter": "python",
   "pygments_lexer": "ipython3",
   "version": "3.7.10"
  }
 },
 "nbformat": 4,
 "nbformat_minor": 5
}
