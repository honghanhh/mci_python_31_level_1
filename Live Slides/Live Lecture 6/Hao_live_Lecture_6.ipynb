{
 "cells": [
  {
   "cell_type": "markdown",
   "id": "d79e8d79-b4a1-45f4-a4db-0df9f6ec7e6e",
   "metadata": {},
   "source": [
    "# Thuc hanh lai"
   ]
  },
  {
   "cell_type": "markdown",
   "id": "a8566411-6eb5-4b9c-9703-645b6de74474",
   "metadata": {},
   "source": [
    "I. Know your dataset\n",
    "This time we are going to pull data directly from the internet. Special thanks to: https://github.com/justmarkham for sharing the dataset and materials."
   ]
  },
  {
   "cell_type": "markdown",
   "id": "e009193d-927b-4093-ae93-c2f985082f07",
   "metadata": {},
   "source": [
    "I. Know your dataset"
   ]
  },
  {
   "cell_type": "markdown",
   "id": "c1b9780a-ed2b-4ab1-90e7-cba4b960878b",
   "metadata": {},
   "source": [
    "Step 1. Import the necessary libraries"
   ]
  },
  {
   "cell_type": "code",
   "execution_count": null,
   "id": "cdd5ceb3-c605-4f84-886c-636c73587ebb",
   "metadata": {},
   "outputs": [],
   "source": [
    "Step 2. Import the dataset from this address."
   ]
  },
  {
   "cell_type": "code",
   "execution_count": null,
   "id": "a6ea67da-5ba6-498e-ae4c-d495f13b9ca5",
   "metadata": {},
   "outputs": [],
   "source": [
    "Step 3. Assign it to a variable called chipo."
   ]
  },
  {
   "cell_type": "code",
   "execution_count": null,
   "id": "a35f57fa-ed1d-4949-8688-7af527675168",
   "metadata": {},
   "outputs": [],
   "source": [
    "Step 4. See the first 10 entries"
   ]
  },
  {
   "cell_type": "code",
   "execution_count": null,
   "id": "747bdfa4-2372-4292-8969-df69d82b5073",
   "metadata": {},
   "outputs": [],
   "source": [
    "Step 5. What is the number of observations in the dataset?"
   ]
  },
  {
   "cell_type": "code",
   "execution_count": null,
   "id": "0e7ce0ba-bc1e-4c9b-8463-3c603e91c864",
   "metadata": {},
   "outputs": [],
   "source": [
    "Step 6. What is the number of columns in the dataset?"
   ]
  },
  {
   "cell_type": "code",
   "execution_count": null,
   "id": "cba030f5-a4c4-4925-b5fc-709cadd42e8c",
   "metadata": {},
   "outputs": [],
   "source": [
    "Step 7. Print the name of all the columns."
   ]
  },
  {
   "cell_type": "code",
   "execution_count": null,
   "id": "4873afb2-a17b-4e71-85b4-9bd74e7029fb",
   "metadata": {},
   "outputs": [],
   "source": [
    "Step 8. How is the dataset indexed?¶\n"
   ]
  },
  {
   "cell_type": "code",
   "execution_count": null,
   "id": "8ca72fcf-dc8b-4644-8af0-424f9267c5bd",
   "metadata": {},
   "outputs": [],
   "source": [
    "Step 9. Which was the most-ordered item?\n"
   ]
  },
  {
   "cell_type": "code",
   "execution_count": null,
   "id": "a29c430c-c2d8-4130-aa54-19fa1044f3c4",
   "metadata": {},
   "outputs": [],
   "source": [
    "Step 10. For the most-ordered item, how many items were ordered?"
   ]
  },
  {
   "cell_type": "code",
   "execution_count": null,
   "id": "67a143ff-d61c-488f-8953-00de2cbd67ee",
   "metadata": {},
   "outputs": [],
   "source": [
    "Step 11. What was the most ordered item in the choice_description column?\n",
    "chipo.head(10) #NaN-missing vales"
   ]
  },
  {
   "cell_type": "code",
   "execution_count": null,
   "id": "e8a03114-d748-4467-abc9-0a61686d13de",
   "metadata": {},
   "outputs": [],
   "source": [
    "Step 12. How many items were ordered in total?"
   ]
  },
  {
   "cell_type": "code",
   "execution_count": null,
   "id": "bb53dab8-7488-4c49-bb89-b60b3b87ddc7",
   "metadata": {},
   "outputs": [],
   "source": [
    "Step 13.b. Create a lambda function and change the type of item price"
   ]
  },
  {
   "cell_type": "code",
   "execution_count": null,
   "id": "aae5fb0b-a4cc-4c5b-9c8e-5e95540158ff",
   "metadata": {},
   "outputs": [],
   "source": [
    "Step 13.c. Check the item price type"
   ]
  },
  {
   "cell_type": "code",
   "execution_count": null,
   "id": "53203f98-b73c-4d10-ad1e-f906894da2e1",
   "metadata": {},
   "outputs": [],
   "source": [
    "Step 14. How much was the revenue for the period in the dataset?"
   ]
  },
  {
   "cell_type": "code",
   "execution_count": null,
   "id": "99afc8ae-91ac-4761-aed7-2fc4d36b41dc",
   "metadata": {},
   "outputs": [],
   "source": [
    "Step 15. How many orders were made in the period?"
   ]
  },
  {
   "cell_type": "code",
   "execution_count": null,
   "id": "ff575566-549b-4ece-a6b8-1b0855694a7e",
   "metadata": {},
   "outputs": [],
   "source": [
    "Step 16. What is the average revenue amount per order?"
   ]
  },
  {
   "cell_type": "code",
   "execution_count": null,
   "id": "e496a49e-ade3-4471-ac82-2e5e23a2d424",
   "metadata": {},
   "outputs": [],
   "source": [
    "Step 17. How many different items are sold?"
   ]
  },
  {
   "cell_type": "code",
   "execution_count": null,
   "id": "9f287982-a46f-4352-963b-22c663b520ce",
   "metadata": {},
   "outputs": [],
   "source": [
    "II. Filtering & Sorting\n",
    "Step 18. How many products cost more than $10.00?"
   ]
  },
  {
   "cell_type": "code",
   "execution_count": null,
   "id": "73227665-2ec3-4d43-8c41-717132fc4f7f",
   "metadata": {},
   "outputs": [],
   "source": [
    "Step 19. What is the price of each item?"
   ]
  },
  {
   "cell_type": "code",
   "execution_count": null,
   "id": "891e6778-6e97-4d36-9e51-ce638370a231",
   "metadata": {},
   "outputs": [],
   "source": [
    "Step 20. Sort by the name of the item"
   ]
  },
  {
   "cell_type": "code",
   "execution_count": null,
   "id": "a0a6695b-8230-4f24-bd81-6ef00147314e",
   "metadata": {},
   "outputs": [],
   "source": [
    "Step 21. What was the quantity of the most expensive item ordered?"
   ]
  },
  {
   "cell_type": "code",
   "execution_count": null,
   "id": "a2e697b5-d20c-476b-a965-ed3e507d0366",
   "metadata": {},
   "outputs": [],
   "source": [
    "Step 22. How many times was a Veggie Salad Bowl ordered?"
   ]
  },
  {
   "cell_type": "code",
   "execution_count": null,
   "id": "2d7b8627-8eed-4464-89f2-6bb4f6e2d3e3",
   "metadata": {},
   "outputs": [],
   "source": [
    "Step 23. How many times did someone order more than one Canned Soda?"
   ]
  },
  {
   "cell_type": "code",
   "execution_count": null,
   "id": "a8b2a7b8-8758-44f5-83d5-7cf57bed9279",
   "metadata": {},
   "outputs": [],
   "source": []
  }
 ],
 "metadata": {
  "kernelspec": {
   "display_name": "Python 3",
   "language": "python",
   "name": "python3"
  },
  "language_info": {
   "codemirror_mode": {
    "name": "ipython",
    "version": 3
   },
   "file_extension": ".py",
   "mimetype": "text/x-python",
   "name": "python",
   "nbconvert_exporter": "python",
   "pygments_lexer": "ipython3",
   "version": "3.7.10"
  }
 },
 "nbformat": 4,
 "nbformat_minor": 5
}
