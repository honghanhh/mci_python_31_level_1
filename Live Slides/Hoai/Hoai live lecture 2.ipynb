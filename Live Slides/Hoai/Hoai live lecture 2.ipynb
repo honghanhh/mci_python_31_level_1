{
 "cells": [
  {
   "cell_type": "markdown",
   "id": "9fc9a943-0d93-4d6d-bf2f-e310da83ebd6",
   "metadata": {},
   "source": [
    "![](https://media.makeameme.org/created/hi-everyone-6glwbb.jpg)"
   ]
  },
  {
   "cell_type": "code",
   "execution_count": 1,
   "id": "9d2c53f4-28fb-440a-8bba-1288b172bf25",
   "metadata": {},
   "outputs": [
    {
     "name": "stdout",
     "output_type": "stream",
     "text": [
      "hello, World!\n"
     ]
    }
   ],
   "source": [
    "print('hello, World!')"
   ]
  },
  {
   "cell_type": "markdown",
   "id": "0ea9f8f8-803a-4efa-943b-16e6bdeb5b0f",
   "metadata": {},
   "source": [
    "\"\"\" \n",
    "test comment\n",
    "available\n",
    "\"\"\""
   ]
  },
  {
   "cell_type": "code",
   "execution_count": 3,
   "id": "0968a672-a0f1-4d5d-8d40-8d25c1be9cb4",
   "metadata": {},
   "outputs": [
    {
     "data": {
      "text/plain": [
       "2"
      ]
     },
     "execution_count": 3,
     "metadata": {},
     "output_type": "execute_result"
    }
   ],
   "source": [
    "1+1"
   ]
  },
  {
   "cell_type": "code",
   "execution_count": 5,
   "id": "f62c2a1d-b5e9-4775-b356-748e3390f57c",
   "metadata": {},
   "outputs": [],
   "source": [
    "int_number=1+1"
   ]
  },
  {
   "cell_type": "code",
   "execution_count": 6,
   "id": "88660962-619a-4d73-936b-e01ce2e7b33d",
   "metadata": {},
   "outputs": [
    {
     "data": {
      "text/plain": [
       "2"
      ]
     },
     "execution_count": 6,
     "metadata": {},
     "output_type": "execute_result"
    }
   ],
   "source": [
    "int_number"
   ]
  },
  {
   "cell_type": "code",
   "execution_count": 7,
   "id": "b03e0ada-0fd0-4204-ad15-c406034e6bd0",
   "metadata": {},
   "outputs": [
    {
     "data": {
      "text/plain": [
       "int"
      ]
     },
     "execution_count": 7,
     "metadata": {},
     "output_type": "execute_result"
    }
   ],
   "source": [
    "type(int_number)"
   ]
  },
  {
   "cell_type": "code",
   "execution_count": 8,
   "id": "e76a7211-531e-435a-9562-368062bdfff9",
   "metadata": {},
   "outputs": [],
   "source": [
    "f_number=3.14"
   ]
  },
  {
   "cell_type": "code",
   "execution_count": 9,
   "id": "40e87df7-188a-446e-8aff-e1c377ab477c",
   "metadata": {},
   "outputs": [
    {
     "data": {
      "text/plain": [
       "float"
      ]
     },
     "execution_count": 9,
     "metadata": {},
     "output_type": "execute_result"
    }
   ],
   "source": [
    "type(f_number)"
   ]
  },
  {
   "cell_type": "markdown",
   "id": "415e71d3-6a56-41ad-8eac-f93bc90105c0",
   "metadata": {},
   "source": [
    "''' \n",
    "variable \n",
    "'''"
   ]
  },
  {
   "cell_type": "markdown",
   "id": "82c1bf63-1202-4014-a706-55da01997f18",
   "metadata": {},
   "source": [
    "1+1 operation and 1 is operator"
   ]
  },
  {
   "cell_type": "markdown",
   "id": "8850d884-b6aa-48b9-b4a2-6f72008163a7",
   "metadata": {},
   "source": [
    "|operation|meaning|example|\n",
    "|-|-|-|\n",
    "|+|addition|a+b|\n",
    "|-|substraction|a-b|\n",
    "|*|multiplication|a*b|\n",
    "|/|division|a/b|\n",
    "|%|modulus|a%b|\n",
    "|//|floor division|a//b|\n",
    "|**|exponentation|a**b|"
   ]
  },
  {
   "cell_type": "code",
   "execution_count": 12,
   "id": "e6ff482c-ce42-4070-bc7f-71d67120ca16",
   "metadata": {},
   "outputs": [],
   "source": [
    "a=23\n",
    "b=10"
   ]
  },
  {
   "cell_type": "code",
   "execution_count": 13,
   "id": "e5f6958f-89ff-4da0-a4b4-d85cd1c7f856",
   "metadata": {},
   "outputs": [
    {
     "data": {
      "text/plain": [
       "33"
      ]
     },
     "execution_count": 13,
     "metadata": {},
     "output_type": "execute_result"
    }
   ],
   "source": [
    "a+b"
   ]
  },
  {
   "cell_type": "code",
   "execution_count": 14,
   "id": "abf1d88d-dba9-40b3-a3fb-e93ae7fb03f9",
   "metadata": {},
   "outputs": [
    {
     "data": {
      "text/plain": [
       "13"
      ]
     },
     "execution_count": 14,
     "metadata": {},
     "output_type": "execute_result"
    }
   ],
   "source": [
    "a-b"
   ]
  },
  {
   "cell_type": "code",
   "execution_count": 15,
   "id": "e2ea45ba-0e91-4474-b5a6-5689a4c6c89c",
   "metadata": {},
   "outputs": [
    {
     "data": {
      "text/plain": [
       "2"
      ]
     },
     "execution_count": 15,
     "metadata": {},
     "output_type": "execute_result"
    }
   ],
   "source": [
    "a//b"
   ]
  },
  {
   "cell_type": "code",
   "execution_count": 16,
   "id": "4655d679-6dd0-4312-b8e9-d692d25b1fe9",
   "metadata": {},
   "outputs": [
    {
     "data": {
      "text/plain": [
       "230"
      ]
     },
     "execution_count": 16,
     "metadata": {},
     "output_type": "execute_result"
    }
   ],
   "source": [
    "a*b"
   ]
  },
  {
   "cell_type": "code",
   "execution_count": 19,
   "id": "079f04f3-50b4-4d63-9fe8-f7eca81056f9",
   "metadata": {},
   "outputs": [
    {
     "data": {
      "text/plain": [
       "4.795831523312719"
      ]
     },
     "execution_count": 19,
     "metadata": {},
     "output_type": "execute_result"
    }
   ],
   "source": [
    "a**(1/2)"
   ]
  },
  {
   "cell_type": "code",
   "execution_count": 20,
   "id": "14dd43f7-546f-4bb5-82ac-44c956dcc2da",
   "metadata": {},
   "outputs": [
    {
     "data": {
      "text/plain": [
       "41426511213649"
      ]
     },
     "execution_count": 20,
     "metadata": {},
     "output_type": "execute_result"
    }
   ],
   "source": [
    "a**b"
   ]
  },
  {
   "cell_type": "code",
   "execution_count": 21,
   "id": "5463670c-92ae-4bc3-ba7f-d748f8f30235",
   "metadata": {},
   "outputs": [],
   "source": [
    "import math"
   ]
  },
  {
   "cell_type": "code",
   "execution_count": 22,
   "id": "3e8e0ebb-576a-494c-b944-72ebe0db6dc4",
   "metadata": {},
   "outputs": [
    {
     "data": {
      "text/plain": [
       "3"
      ]
     },
     "execution_count": 22,
     "metadata": {},
     "output_type": "execute_result"
    }
   ],
   "source": [
    "math.floor(3.14)"
   ]
  },
  {
   "cell_type": "markdown",
   "id": "909ff8ad-a39e-4a6d-8f17-37fb40e523e8",
   "metadata": {},
   "source": [
    "# logics operator"
   ]
  },
  {
   "cell_type": "markdown",
   "id": "cf069a21-aa8d-4102-b219-a23ce70feb03",
   "metadata": {},
   "source": [
    "- AND: true if all true\n",
    "- OR: true if at least one true\n",
    "- NOT: true->false, false->true\n",
    "- XOR: Same value->false, else->true"
   ]
  },
  {
   "cell_type": "markdown",
   "id": "3a069d9c-8feb-482e-9200-b33eee437bce",
   "metadata": {},
   "source": [
    "true and true"
   ]
  },
  {
   "cell_type": "markdown",
   "id": "bee36f47-2f0b-4ad8-8d82-2f694a74364f",
   "metadata": {},
   "source": [
    "# condition operator"
   ]
  },
  {
   "cell_type": "markdown",
   "id": "030359d4-50af-4489-baf4-730b4f74103a",
   "metadata": {},
   "source": [
    "|operator|meaning|\n",
    "|-|-|\n",
    "|>| greater than|\n",
    "|<| less than|\n",
    "|<=| less than or equal to|\n",
    "|>+| greater than or equal to|\n",
    "|==| equal to|\n",
    "|!=| not equal to|"
   ]
  },
  {
   "cell_type": "code",
   "execution_count": 29,
   "id": "654207de-17b4-4873-99cd-17b91821afcc",
   "metadata": {},
   "outputs": [
    {
     "data": {
      "text/plain": [
       "False"
      ]
     },
     "execution_count": 29,
     "metadata": {},
     "output_type": "execute_result"
    }
   ],
   "source": [
    "1==2"
   ]
  },
  {
   "cell_type": "code",
   "execution_count": 30,
   "id": "ddd8d02b-6572-44ad-9737-510dd4f0ff55",
   "metadata": {},
   "outputs": [
    {
     "data": {
      "text/plain": [
       "1"
      ]
     },
     "execution_count": 30,
     "metadata": {},
     "output_type": "execute_result"
    }
   ],
   "source": [
    "1#2"
   ]
  },
  {
   "cell_type": "markdown",
   "id": "805059ef-15f7-4f8d-ae5c-0b7ef03d85df",
   "metadata": {},
   "source": [
    "# data type "
   ]
  },
  {
   "cell_type": "markdown",
   "id": "83e613f6-0caf-4b59-b87a-6f1a9c48cce6",
   "metadata": {},
   "source": [
    "program= structure+algorithms\n",
    "- numeric: interger, float,complex(1+2i)\n",
    "- string: text, char\n",
    "- boolean: true/false\n",
    "- datetime:\n",
    "- nonetype\n",
    "    "
   ]
  },
  {
   "cell_type": "code",
   "execution_count": 31,
   "id": "cca844f1-58a3-40e7-95e9-6be31981bd0f",
   "metadata": {},
   "outputs": [
    {
     "data": {
      "text/plain": [
       "int"
      ]
     },
     "execution_count": 31,
     "metadata": {},
     "output_type": "execute_result"
    }
   ],
   "source": [
    "type(a)"
   ]
  },
  {
   "cell_type": "code",
   "execution_count": 32,
   "id": "578ef5b4-9c66-4dfa-80c0-da6c096f5f8b",
   "metadata": {},
   "outputs": [
    {
     "data": {
      "text/plain": [
       "float"
      ]
     },
     "execution_count": 32,
     "metadata": {},
     "output_type": "execute_result"
    }
   ],
   "source": [
    "type(3.14)"
   ]
  },
  {
   "cell_type": "markdown",
   "id": "b91a945b-5a9d-40ab-84ce-c13e8a4b85be",
   "metadata": {},
   "source": [
    "type(1+2i)"
   ]
  },
  {
   "cell_type": "code",
   "execution_count": 34,
   "id": "58666d8d-dddc-4b15-9986-e3d0ef1ca0af",
   "metadata": {},
   "outputs": [
    {
     "data": {
      "text/plain": [
       "str"
      ]
     },
     "execution_count": 34,
     "metadata": {},
     "output_type": "execute_result"
    }
   ],
   "source": [
    "type('hello, world!')"
   ]
  },
  {
   "cell_type": "code",
   "execution_count": 36,
   "id": "e4016f4d-267b-4aa4-894a-c29a92009a29",
   "metadata": {},
   "outputs": [
    {
     "data": {
      "text/plain": [
       "True"
      ]
     },
     "execution_count": 36,
     "metadata": {},
     "output_type": "execute_result"
    }
   ],
   "source": [
    "1<2"
   ]
  },
  {
   "cell_type": "code",
   "execution_count": 38,
   "id": "b321d70f-9f8b-4b21-9792-3b5b9b975c7b",
   "metadata": {},
   "outputs": [
    {
     "data": {
      "text/plain": [
       "bool"
      ]
     },
     "execution_count": 38,
     "metadata": {},
     "output_type": "execute_result"
    }
   ],
   "source": [
    "type(True)"
   ]
  },
  {
   "cell_type": "markdown",
   "id": "023b1fad-471c-4d08-97d6-89082209ccb9",
   "metadata": {},
   "source": [
    "# data structure"
   ]
  },
  {
   "cell_type": "markdown",
   "id": "947850bb-40dd-4692-b870-26cb4b8e0c87",
   "metadata": {},
   "source": [
    "- built in data structure: list, tuples, set,dictionary\n",
    "- user data structure"
   ]
  },
  {
   "cell_type": "code",
   "execution_count": 42,
   "id": "f095eaf1-7093-481e-aa09-f89c282c83b7",
   "metadata": {},
   "outputs": [],
   "source": [
    "list = [1,2,3,'python',3.14]"
   ]
  },
  {
   "cell_type": "code",
   "execution_count": 43,
   "id": "a35d76be-fdc9-499c-bb77-8d9e629f7f59",
   "metadata": {},
   "outputs": [
    {
     "data": {
      "text/plain": [
       "[1, 2, 3, 'python', 3.14]"
      ]
     },
     "execution_count": 43,
     "metadata": {},
     "output_type": "execute_result"
    }
   ],
   "source": [
    "list"
   ]
  },
  {
   "cell_type": "code",
   "execution_count": 49,
   "id": "d75abe7d-ffc9-429a-a477-bc1d2f83e893",
   "metadata": {},
   "outputs": [
    {
     "data": {
      "text/plain": [
       "['__add__',\n",
       " '__class__',\n",
       " '__contains__',\n",
       " '__delattr__',\n",
       " '__delitem__',\n",
       " '__dir__',\n",
       " '__doc__',\n",
       " '__eq__',\n",
       " '__format__',\n",
       " '__ge__',\n",
       " '__getattribute__',\n",
       " '__getitem__',\n",
       " '__gt__',\n",
       " '__hash__',\n",
       " '__iadd__',\n",
       " '__imul__',\n",
       " '__init__',\n",
       " '__init_subclass__',\n",
       " '__iter__',\n",
       " '__le__',\n",
       " '__len__',\n",
       " '__lt__',\n",
       " '__mul__',\n",
       " '__ne__',\n",
       " '__new__',\n",
       " '__reduce__',\n",
       " '__reduce_ex__',\n",
       " '__repr__',\n",
       " '__reversed__',\n",
       " '__rmul__',\n",
       " '__setattr__',\n",
       " '__setitem__',\n",
       " '__sizeof__',\n",
       " '__str__',\n",
       " '__subclasshook__',\n",
       " 'append',\n",
       " 'clear',\n",
       " 'copy',\n",
       " 'count',\n",
       " 'extend',\n",
       " 'index',\n",
       " 'insert',\n",
       " 'pop',\n",
       " 'remove',\n",
       " 'reverse',\n",
       " 'sort']"
      ]
     },
     "execution_count": 49,
     "metadata": {},
     "output_type": "execute_result"
    }
   ],
   "source": [
    "[method for method in dir(list) if not method.startswith('-')]"
   ]
  },
  {
   "cell_type": "code",
   "execution_count": 50,
   "id": "dadfad8b-d8ad-46f5-b0db-4de0f96aa9de",
   "metadata": {},
   "outputs": [],
   "source": [
    "list.append(10)"
   ]
  },
  {
   "cell_type": "code",
   "execution_count": 51,
   "id": "3d916b72-896c-44b7-9a3d-3acb2bc8c015",
   "metadata": {},
   "outputs": [
    {
     "data": {
      "text/plain": [
       "[1, 2, 3, 'python', 3.14, 10]"
      ]
     },
     "execution_count": 51,
     "metadata": {},
     "output_type": "execute_result"
    }
   ],
   "source": [
    "list"
   ]
  },
  {
   "cell_type": "code",
   "execution_count": 52,
   "id": "64b183c4-b95c-47ef-adb6-a0bcd92ac839",
   "metadata": {},
   "outputs": [],
   "source": [
    "list.append(11)"
   ]
  },
  {
   "cell_type": "code",
   "execution_count": 54,
   "id": "374369b2-16c6-4417-8acb-c11bdfeb1b05",
   "metadata": {},
   "outputs": [
    {
     "data": {
      "text/plain": [
       "[1, 2]"
      ]
     },
     "execution_count": 54,
     "metadata": {},
     "output_type": "execute_result"
    }
   ],
   "source": [
    "list[:2]"
   ]
  },
  {
   "cell_type": "code",
   "execution_count": 55,
   "id": "917eef24-eff7-4c38-af7e-23f478d07743",
   "metadata": {},
   "outputs": [
    {
     "data": {
      "text/plain": [
       "7"
      ]
     },
     "execution_count": 55,
     "metadata": {},
     "output_type": "execute_result"
    }
   ],
   "source": [
    "len(list)"
   ]
  },
  {
   "cell_type": "code",
   "execution_count": 58,
   "id": "af1a4b2e-5c8d-47c0-be98-fcbb0a38f983",
   "metadata": {},
   "outputs": [
    {
     "data": {
      "text/plain": [
       "1"
      ]
     },
     "execution_count": 58,
     "metadata": {},
     "output_type": "execute_result"
    }
   ],
   "source": [
    "list.count(1)"
   ]
  },
  {
   "cell_type": "code",
   "execution_count": 59,
   "id": "0e1f4a12-d81f-4a03-9f9a-524b06a8ddf1",
   "metadata": {},
   "outputs": [],
   "source": [
    "tuple = (1,2,'Hoai', 3,14)"
   ]
  },
  {
   "cell_type": "code",
   "execution_count": 60,
   "id": "e8e17457-a9dd-4a67-861c-a8dc7e04737f",
   "metadata": {},
   "outputs": [
    {
     "data": {
      "text/plain": [
       "(1, 2, 'Hoai', 3, 14)"
      ]
     },
     "execution_count": 60,
     "metadata": {},
     "output_type": "execute_result"
    }
   ],
   "source": [
    "tuple"
   ]
  },
  {
   "cell_type": "code",
   "execution_count": 64,
   "id": "fbb116a0-a65a-418b-9163-8f1944c3debc",
   "metadata": {},
   "outputs": [
    {
     "data": {
      "text/plain": [
       "['__add__',\n",
       " '__class__',\n",
       " '__contains__',\n",
       " '__delattr__',\n",
       " '__dir__',\n",
       " '__doc__',\n",
       " '__eq__',\n",
       " '__format__',\n",
       " '__ge__',\n",
       " '__getattribute__',\n",
       " '__getitem__',\n",
       " '__getnewargs__',\n",
       " '__gt__',\n",
       " '__hash__',\n",
       " '__init__',\n",
       " '__init_subclass__',\n",
       " '__iter__',\n",
       " '__le__',\n",
       " '__len__',\n",
       " '__lt__',\n",
       " '__mul__',\n",
       " '__ne__',\n",
       " '__new__',\n",
       " '__reduce__',\n",
       " '__reduce_ex__',\n",
       " '__repr__',\n",
       " '__rmul__',\n",
       " '__setattr__',\n",
       " '__sizeof__',\n",
       " '__str__',\n",
       " '__subclasshook__',\n",
       " 'count',\n",
       " 'index']"
      ]
     },
     "execution_count": 64,
     "metadata": {},
     "output_type": "execute_result"
    }
   ],
   "source": [
    "[method for method in dir(tuple) if not method.startswith('-')]"
   ]
  },
  {
   "cell_type": "code",
   "execution_count": 66,
   "id": "22704b61-2ffd-48c3-9543-cf21621e3285",
   "metadata": {},
   "outputs": [],
   "source": [
    "set={1,1,2,4,3}"
   ]
  },
  {
   "cell_type": "code",
   "execution_count": 67,
   "id": "e54b90fd-d739-4dff-a401-ba1ed2f247fe",
   "metadata": {},
   "outputs": [
    {
     "data": {
      "text/plain": [
       "{1, 2, 3, 4}"
      ]
     },
     "execution_count": 67,
     "metadata": {},
     "output_type": "execute_result"
    }
   ],
   "source": [
    "set"
   ]
  },
  {
   "cell_type": "code",
   "execution_count": 68,
   "id": "9d908358-cb50-4b68-b987-c29453f43924",
   "metadata": {},
   "outputs": [],
   "source": [
    "set1= (1,3,5,5)"
   ]
  },
  {
   "cell_type": "code",
   "execution_count": 69,
   "id": "4c3648db-dda6-41cc-a4f5-8f93f1556c94",
   "metadata": {},
   "outputs": [
    {
     "data": {
      "text/plain": [
       "(1, 3, 5, 5)"
      ]
     },
     "execution_count": 69,
     "metadata": {},
     "output_type": "execute_result"
    }
   ],
   "source": [
    "set1"
   ]
  },
  {
   "cell_type": "code",
   "execution_count": 70,
   "id": "6ea99fce-b003-4a2a-91de-bb116676f74a",
   "metadata": {},
   "outputs": [
    {
     "data": {
      "text/plain": [
       "{2, 4}"
      ]
     },
     "execution_count": 70,
     "metadata": {},
     "output_type": "execute_result"
    }
   ],
   "source": [
    "set.difference(set1)"
   ]
  },
  {
   "cell_type": "code",
   "execution_count": 71,
   "id": "9de51f3a-442d-4ec8-885f-d37732314ce5",
   "metadata": {},
   "outputs": [
    {
     "data": {
      "text/plain": [
       "['__and__',\n",
       " '__class__',\n",
       " '__contains__',\n",
       " '__delattr__',\n",
       " '__dir__',\n",
       " '__doc__',\n",
       " '__eq__',\n",
       " '__format__',\n",
       " '__ge__',\n",
       " '__getattribute__',\n",
       " '__gt__',\n",
       " '__hash__',\n",
       " '__iand__',\n",
       " '__init__',\n",
       " '__init_subclass__',\n",
       " '__ior__',\n",
       " '__isub__',\n",
       " '__iter__',\n",
       " '__ixor__',\n",
       " '__le__',\n",
       " '__len__',\n",
       " '__lt__',\n",
       " '__ne__',\n",
       " '__new__',\n",
       " '__or__',\n",
       " '__rand__',\n",
       " '__reduce__',\n",
       " '__reduce_ex__',\n",
       " '__repr__',\n",
       " '__ror__',\n",
       " '__rsub__',\n",
       " '__rxor__',\n",
       " '__setattr__',\n",
       " '__sizeof__',\n",
       " '__str__',\n",
       " '__sub__',\n",
       " '__subclasshook__',\n",
       " '__xor__',\n",
       " 'add',\n",
       " 'clear',\n",
       " 'copy',\n",
       " 'difference',\n",
       " 'difference_update',\n",
       " 'discard',\n",
       " 'intersection',\n",
       " 'intersection_update',\n",
       " 'isdisjoint',\n",
       " 'issubset',\n",
       " 'issuperset',\n",
       " 'pop',\n",
       " 'remove',\n",
       " 'symmetric_difference',\n",
       " 'symmetric_difference_update',\n",
       " 'union',\n",
       " 'update']"
      ]
     },
     "execution_count": 71,
     "metadata": {},
     "output_type": "execute_result"
    }
   ],
   "source": [
    "dir(set)"
   ]
  },
  {
   "cell_type": "code",
   "execution_count": 72,
   "id": "2f8c46c9-7d12-4099-a04b-5ea332f1d6bf",
   "metadata": {},
   "outputs": [],
   "source": [
    "set.discard(1)"
   ]
  },
  {
   "cell_type": "code",
   "execution_count": 73,
   "id": "be61f6cc-e125-4a66-9b80-1b7d4ef7138e",
   "metadata": {},
   "outputs": [
    {
     "data": {
      "text/plain": [
       "{2, 3, 4}"
      ]
     },
     "execution_count": 73,
     "metadata": {},
     "output_type": "execute_result"
    }
   ],
   "source": [
    "set"
   ]
  },
  {
   "cell_type": "code",
   "execution_count": 78,
   "id": "eb34bf11-f78a-44d4-ad7e-5ba8f42b8be8",
   "metadata": {},
   "outputs": [
    {
     "data": {
      "text/plain": [
       "<function set.update>"
      ]
     },
     "execution_count": 78,
     "metadata": {},
     "output_type": "execute_result"
    }
   ],
   "source": [
    "set.update"
   ]
  },
  {
   "cell_type": "code",
   "execution_count": 79,
   "id": "8c204d4d-042c-4f67-a673-73fce618bac6",
   "metadata": {},
   "outputs": [
    {
     "data": {
      "text/plain": [
       "{2, 3, 4}"
      ]
     },
     "execution_count": 79,
     "metadata": {},
     "output_type": "execute_result"
    }
   ],
   "source": [
    "set"
   ]
  },
  {
   "cell_type": "code",
   "execution_count": 80,
   "id": "592a55e6-45ce-4961-97fd-dd2df9e3ef6b",
   "metadata": {},
   "outputs": [
    {
     "data": {
      "text/plain": [
       "<function set.issuperset>"
      ]
     },
     "execution_count": 80,
     "metadata": {},
     "output_type": "execute_result"
    }
   ],
   "source": [
    "set.issuperset"
   ]
  },
  {
   "cell_type": "code",
   "execution_count": 81,
   "id": "cd545563-9166-4d5b-b470-560bc47c05b5",
   "metadata": {},
   "outputs": [
    {
     "data": {
      "text/plain": [
       "{2, 3, 4}"
      ]
     },
     "execution_count": 81,
     "metadata": {},
     "output_type": "execute_result"
    }
   ],
   "source": [
    "set"
   ]
  },
  {
   "cell_type": "code",
   "execution_count": 82,
   "id": "7e13c732-9fa6-48ae-878a-1101294469fb",
   "metadata": {},
   "outputs": [],
   "source": [
    "dict={1:'java', 2:'Python', 3:'C++'}"
   ]
  },
  {
   "cell_type": "code",
   "execution_count": 83,
   "id": "9099985f-f494-4ee2-84d0-54dd12043a7f",
   "metadata": {},
   "outputs": [
    {
     "data": {
      "text/plain": [
       "{1: 'java', 2: 'Python', 3: 'C++'}"
      ]
     },
     "execution_count": 83,
     "metadata": {},
     "output_type": "execute_result"
    }
   ],
   "source": [
    "dict"
   ]
  },
  {
   "cell_type": "code",
   "execution_count": 85,
   "id": "002735e7-61da-4169-be26-e2fbea5a81ec",
   "metadata": {},
   "outputs": [],
   "source": [
    "dict['Python']='HTML'"
   ]
  },
  {
   "cell_type": "code",
   "execution_count": 86,
   "id": "213022e6-95d0-40aa-b7de-81c5c01a8d9f",
   "metadata": {},
   "outputs": [
    {
     "data": {
      "text/plain": [
       "{1: 'java', 2: 'Python', 3: 'C++', 'Python': 'HTML'}"
      ]
     },
     "execution_count": 86,
     "metadata": {},
     "output_type": "execute_result"
    }
   ],
   "source": [
    "dict"
   ]
  },
  {
   "cell_type": "code",
   "execution_count": 87,
   "id": "a0103776-24bd-4e30-8a49-d6e349e3df21",
   "metadata": {},
   "outputs": [],
   "source": [
    "dict[1]='SQL'"
   ]
  },
  {
   "cell_type": "code",
   "execution_count": 88,
   "id": "1950b025-7439-428b-86b3-6d39bcd1ec78",
   "metadata": {},
   "outputs": [
    {
     "data": {
      "text/plain": [
       "{1: 'SQL', 2: 'Python', 3: 'C++', 'Python': 'HTML'}"
      ]
     },
     "execution_count": 88,
     "metadata": {},
     "output_type": "execute_result"
    }
   ],
   "source": [
    "dict"
   ]
  },
  {
   "cell_type": "code",
   "execution_count": 89,
   "id": "7fdd1b67-f002-4bc8-a3aa-7bff53c94912",
   "metadata": {},
   "outputs": [
    {
     "data": {
      "text/plain": [
       "['__class__',\n",
       " '__contains__',\n",
       " '__delattr__',\n",
       " '__delitem__',\n",
       " '__dir__',\n",
       " '__doc__',\n",
       " '__eq__',\n",
       " '__format__',\n",
       " '__ge__',\n",
       " '__getattribute__',\n",
       " '__getitem__',\n",
       " '__gt__',\n",
       " '__hash__',\n",
       " '__init__',\n",
       " '__init_subclass__',\n",
       " '__iter__',\n",
       " '__le__',\n",
       " '__len__',\n",
       " '__lt__',\n",
       " '__ne__',\n",
       " '__new__',\n",
       " '__reduce__',\n",
       " '__reduce_ex__',\n",
       " '__repr__',\n",
       " '__setattr__',\n",
       " '__setitem__',\n",
       " '__sizeof__',\n",
       " '__str__',\n",
       " '__subclasshook__',\n",
       " 'clear',\n",
       " 'copy',\n",
       " 'fromkeys',\n",
       " 'get',\n",
       " 'items',\n",
       " 'keys',\n",
       " 'pop',\n",
       " 'popitem',\n",
       " 'setdefault',\n",
       " 'update',\n",
       " 'values']"
      ]
     },
     "execution_count": 89,
     "metadata": {},
     "output_type": "execute_result"
    }
   ],
   "source": [
    "dir(dict)"
   ]
  },
  {
   "cell_type": "code",
   "execution_count": 94,
   "id": "0dfce93d-ad5a-4d9a-8d41-44c172e23b4d",
   "metadata": {},
   "outputs": [],
   "source": [
    "dict.clear()"
   ]
  },
  {
   "cell_type": "code",
   "execution_count": null,
   "id": "f86c124b-eac4-43a0-88d2-1fe38082f831",
   "metadata": {},
   "outputs": [],
   "source": []
  }
 ],
 "metadata": {
  "kernelspec": {
   "display_name": "Python 3",
   "language": "python",
   "name": "python3"
  },
  "language_info": {
   "codemirror_mode": {
    "name": "ipython",
    "version": 3
   },
   "file_extension": ".py",
   "mimetype": "text/x-python",
   "name": "python",
   "nbconvert_exporter": "python",
   "pygments_lexer": "ipython3",
   "version": "3.7.10"
  }
 },
 "nbformat": 4,
 "nbformat_minor": 5
}
