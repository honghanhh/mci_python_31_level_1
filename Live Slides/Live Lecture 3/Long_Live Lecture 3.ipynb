{
 "cells": [
  {
   "cell_type": "markdown",
   "id": "e2ffdddc-dfa4-4f9c-91e4-dc06078559ba",
   "metadata": {},
   "source": [
    "# Lesson 3"
   ]
  },
  {
   "cell_type": "markdown",
   "id": "e77eccaf-ea69-4cae-b22f-697bbbd43a91",
   "metadata": {},
   "source": [
    "### PROGRAMING FLOW"
   ]
  },
  {
   "cell_type": "markdown",
   "id": "d0cf9870-12bd-46a6-919f-2787a4c4b61e",
   "metadata": {},
   "source": [
    "== sequent\n",
    "==loop\n",
    "==condition\n",
    "==function"
   ]
  },
  {
   "cell_type": "markdown",
   "id": "2f0aab9f-a216-4b08-ae02-9201dff285f9",
   "metadata": {},
   "source": [
    "#1.Sequential"
   ]
  },
  {
   "cell_type": "code",
   "execution_count": 1,
   "id": "a4b2ff31-34f4-4020-927c-015c87bce6c9",
   "metadata": {},
   "outputs": [
    {
     "name": "stdout",
     "output_type": "stream",
     "text": [
      "hello\n",
      "long\n",
      "!\n"
     ]
    }
   ],
   "source": [
    "print('hello')\n",
    "print('long')\n",
    "print('!')"
   ]
  },
  {
   "cell_type": "markdown",
   "id": "e26d0dcd-d96c-4759-ba5b-92d189b2b4c1",
   "metadata": {},
   "source": [
    "## 2.Loop"
   ]
  },
  {
   "cell_type": "markdown",
   "id": "a581bf82-0b11-45ba-b654-6dbf5d5f04cd",
   "metadata": {},
   "source": [
    "- interation:\n",
    "- For\n",
    "- While"
   ]
  },
  {
   "cell_type": "markdown",
   "id": "86587c88-647f-4eab-8a29-7267b1d66ddd",
   "metadata": {},
   "source": [
    "## 2.1 FOR"
   ]
  },
  {
   "cell_type": "markdown",
   "id": "e4db5b0f-bce2-4f26-9039-f874ccb4049a",
   "metadata": {},
   "source": [
    "....\n",
    "for value in iterable:\n",
    "bussiness logic\n",
    "..."
   ]
  },
  {
   "cell_type": "markdown",
   "id": "41ea69f4-8ba3-497a-b0f9-0ea93ade3f05",
   "metadata": {},
   "source": [
    "---\n",
    "for index in range (len(iterable)):\n",
    "   bussiness logi\n",
    "---"
   ]
  },
  {
   "cell_type": "code",
   "execution_count": 6,
   "id": "de85a6fa-e82c-4e89-878f-a47a0322aae2",
   "metadata": {},
   "outputs": [
    {
     "data": {
      "text/plain": [
       "[1, 3, 5, 7, 9]"
      ]
     },
     "execution_count": 6,
     "metadata": {},
     "output_type": "execute_result"
    }
   ],
   "source": [
    "list(range(1,10,2))"
   ]
  },
  {
   "cell_type": "markdown",
   "id": "82f44a59-09a4-49d4-bd29-c76c7971e0c8",
   "metadata": {},
   "source": [
    "casting:"
   ]
  },
  {
   "cell_type": "code",
   "execution_count": 8,
   "id": "2322374f-bb95-4342-9402-81b25ec805a6",
   "metadata": {},
   "outputs": [],
   "source": [
    "a='1'"
   ]
  },
  {
   "cell_type": "code",
   "execution_count": 9,
   "id": "0bf9dd71-9f72-48ff-b41d-0e904ac514c9",
   "metadata": {},
   "outputs": [
    {
     "data": {
      "text/plain": [
       "str"
      ]
     },
     "execution_count": 9,
     "metadata": {},
     "output_type": "execute_result"
    }
   ],
   "source": [
    "type(a)"
   ]
  },
  {
   "cell_type": "code",
   "execution_count": 10,
   "id": "b5aec4fa-f4d0-4b31-bdb8-7c051d0f8bab",
   "metadata": {},
   "outputs": [
    {
     "data": {
      "text/plain": [
       "2"
      ]
     },
     "execution_count": 10,
     "metadata": {},
     "output_type": "execute_result"
    }
   ],
   "source": [
    "int(a)*2"
   ]
  },
  {
   "cell_type": "markdown",
   "id": "73972100-6eb0-4c2d-a266-725d28b3e9a2",
   "metadata": {},
   "source": [
    "- int\n",
    "- float"
   ]
  },
  {
   "cell_type": "markdown",
   "id": "7ad23aed-e0a7-4ddf-b1f8-6a9a5eb7947f",
   "metadata": {},
   "source": [
    "exercise: give a list from 0 to 10, return 1 new list containing exponentation in the list"
   ]
  },
  {
   "cell_type": "code",
   "execution_count": 14,
   "id": "0fd3e0f0-f462-4ed6-b0e4-d3ff749a737c",
   "metadata": {},
   "outputs": [
    {
     "data": {
      "text/plain": [
       "[0, 1, 2, 3, 4, 5, 6, 7, 8, 9, 10]"
      ]
     },
     "execution_count": 14,
     "metadata": {},
     "output_type": "execute_result"
    }
   ],
   "source": [
    "li = list(range(11))\n",
    "li"
   ]
  },
  {
   "cell_type": "code",
   "execution_count": 16,
   "id": "48de3bdc-494f-488f-9953-2f07f8866577",
   "metadata": {},
   "outputs": [],
   "source": [
    "li1 = []\n",
    "for val in li:\n",
    "    li1.append(val**2)"
   ]
  },
  {
   "cell_type": "code",
   "execution_count": 17,
   "id": "268c6100-970f-466d-a206-aa3eb0e8f4a3",
   "metadata": {},
   "outputs": [
    {
     "data": {
      "text/plain": [
       "[0, 1, 4, 9, 16, 25, 36, 49, 64, 81, 100]"
      ]
     },
     "execution_count": 17,
     "metadata": {},
     "output_type": "execute_result"
    }
   ],
   "source": [
    "li1"
   ]
  },
  {
   "cell_type": "code",
   "execution_count": null,
   "id": "11c11e84-84f4-4c97-afae-75db6eabaf5f",
   "metadata": {},
   "outputs": [],
   "source": [
    "li2 = []\n",
    "for idx in range(len(li)):"
   ]
  },
  {
   "cell_type": "markdown",
   "id": "1a0bc4ef-7bc0-48c9-940d-827f3fe55a7f",
   "metadata": {},
   "source": [
    "exercise: write a program to calculate n! an interger"
   ]
  },
  {
   "cell_type": "code",
   "execution_count": 21,
   "id": "612824ad-08a3-4a73-85ae-9d34ac23288d",
   "metadata": {},
   "outputs": [],
   "source": [
    "n=8\n",
    "a=1\n",
    "for i in range(1,n+1):\n",
    "    a=a*i"
   ]
  },
  {
   "cell_type": "code",
   "execution_count": 22,
   "id": "926e75d2-513b-495e-b4db-6999e626e90a",
   "metadata": {},
   "outputs": [
    {
     "data": {
      "text/plain": [
       "40320"
      ]
     },
     "execution_count": 22,
     "metadata": {},
     "output_type": "execute_result"
    }
   ],
   "source": [
    "a"
   ]
  },
  {
   "cell_type": "code",
   "execution_count": null,
   "id": "21a4a438-4a07-40f9-bd33-98deed3911c5",
   "metadata": {},
   "outputs": [],
   "source": []
  },
  {
   "cell_type": "markdown",
   "id": "9f6b77e6-4eed-46c1-a453-704c11a3fd58",
   "metadata": {},
   "source": [
    "## 2.2 while"
   ]
  },
  {
   "cell_type": "code",
   "execution_count": null,
   "id": "f3b4100a-6d63-436e-a928-1c9199af25ab",
   "metadata": {},
   "outputs": [],
   "source": [
    "a=4\n",
    "i=0"
   ]
  },
  {
   "cell_type": "code",
   "execution_count": 26,
   "id": "904881c0-2fbe-4434-807e-be69c5bd606d",
   "metadata": {},
   "outputs": [],
   "source": [
    "a, i= 4, 0"
   ]
  },
  {
   "cell_type": "code",
   "execution_count": 27,
   "id": "e6c6773b-4d80-45a5-86b2-6b4a2c436c9b",
   "metadata": {},
   "outputs": [
    {
     "name": "stdout",
     "output_type": "stream",
     "text": [
      "hello0\n",
      "hello1\n",
      "hello2\n",
      "hello3\n"
     ]
    }
   ],
   "source": [
    "while i < a:\n",
    "    print(f\"hello{i}\")\n",
    "    i += 1"
   ]
  },
  {
   "cell_type": "code",
   "execution_count": 33,
   "id": "56b91738-7f6f-4cfc-8639-e74ea08d3ad7",
   "metadata": {},
   "outputs": [],
   "source": [
    "n=8\n",
    "a=1\n",
    "fac=1\n",
    "while a < n+1:\n",
    "    fac = a*fac\n",
    "    a=a+1"
   ]
  },
  {
   "cell_type": "code",
   "execution_count": 34,
   "id": "b926eeab-2c8d-4807-8d71-8ba7ac3e3757",
   "metadata": {},
   "outputs": [
    {
     "data": {
      "text/plain": [
       "40320"
      ]
     },
     "execution_count": 34,
     "metadata": {},
     "output_type": "execute_result"
    }
   ],
   "source": [
    "fac"
   ]
  },
  {
   "cell_type": "markdown",
   "id": "d60cadca-b23f-47ca-b856-412ac137349b",
   "metadata": {},
   "source": [
    "### 3. condition"
   ]
  },
  {
   "cell_type": "code",
   "execution_count": 40,
   "id": "fe78e5be-0da4-4433-850c-fd113938108d",
   "metadata": {},
   "outputs": [],
   "source": [
    "x=5\n",
    "y=5"
   ]
  },
  {
   "cell_type": "code",
   "execution_count": 41,
   "id": "874c7a48-8e82-47e4-890e-4bebb3e43c7b",
   "metadata": {},
   "outputs": [
    {
     "name": "stdout",
     "output_type": "stream",
     "text": [
      "x=y\n"
     ]
    }
   ],
   "source": [
    "if x < y:\n",
    "    print('X is smaller than Y')\n",
    "elif x>y:\n",
    "    print(\"X is langer than Y\")\n",
    "else:\n",
    "    print('x=y')"
   ]
  },
  {
   "cell_type": "markdown",
   "id": "d52fd62f-b441-4135-8862-f1908c0f65a2",
   "metadata": {},
   "source": [
    "### 4.Function"
   ]
  },
  {
   "cell_type": "markdown",
   "id": "9e183621-d23c-4ba0-83c7-582afb0c16c5",
   "metadata": {},
   "source": [
    "--- built in function: len(), range()\n",
    "--- user-define function"
   ]
  },
  {
   "cell_type": "markdown",
   "id": "a0ddd0e4-47f2-4aa9-8700-1151958d8c4b",
   "metadata": {},
   "source": [
    "___\n",
    "def function_name(arg1, arg2,...):\n",
    "    bussiness logic\n",
    "    return 0---> optiona\n",
    "___"
   ]
  },
  {
   "cell_type": "code",
   "execution_count": 64,
   "id": "be0f1ae8-cce9-4069-94fc-42fe80d4758c",
   "metadata": {},
   "outputs": [],
   "source": [
    "li=[1,2,3]"
   ]
  },
  {
   "cell_type": "code",
   "execution_count": 69,
   "id": "db99fc79-9c03-441f-98a3-e2c65240b522",
   "metadata": {},
   "outputs": [],
   "source": [
    "def length_of_list(li):\n",
    "    a= 0\n",
    "    for i in li:\n",
    "        a= i+1\n",
    "    return a"
   ]
  },
  {
   "cell_type": "code",
   "execution_count": 71,
   "id": "1c266947-0c56-497d-8298-162a75ddd842",
   "metadata": {},
   "outputs": [
    {
     "data": {
      "text/plain": [
       "4"
      ]
     },
     "execution_count": 71,
     "metadata": {},
     "output_type": "execute_result"
    }
   ],
   "source": [
    "length_of_list(li)"
   ]
  },
  {
   "cell_type": "code",
   "execution_count": 72,
   "id": "13fc05ed-d879-4334-aa4f-cc2499522295",
   "metadata": {},
   "outputs": [],
   "source": [
    "expo = lambda x : x**2"
   ]
  },
  {
   "cell_type": "code",
   "execution_count": 73,
   "id": "480d09e0-f256-436e-969b-d0979cc79f78",
   "metadata": {},
   "outputs": [
    {
     "data": {
      "text/plain": [
       "4"
      ]
     },
     "execution_count": 73,
     "metadata": {},
     "output_type": "execute_result"
    }
   ],
   "source": [
    "expo(2)"
   ]
  },
  {
   "cell_type": "code",
   "execution_count": 75,
   "id": "4404fba0-686c-43e5-981c-36626095cd36",
   "metadata": {},
   "outputs": [],
   "source": [
    "def findLength(string):\n",
    "    count = 0\n",
    "    for i in string:\n",
    "        count+= 1\n",
    "    return count\n"
   ]
  },
  {
   "cell_type": "code",
   "execution_count": 77,
   "id": "ae4d0e4e-ea35-4e45-8a5a-a26e8fd7f5fa",
   "metadata": {},
   "outputs": [
    {
     "data": {
      "text/plain": [
       "4"
      ]
     },
     "execution_count": 77,
     "metadata": {},
     "output_type": "execute_result"
    }
   ],
   "source": [
    "findLength(\"hanh\")"
   ]
  },
  {
   "cell_type": "markdown",
   "id": "9d368f52-82ea-45e9-b558-ec34835fdb0b",
   "metadata": {},
   "source": [
    "---\n",
    "while condition\n",
    "---"
   ]
  },
  {
   "cell_type": "code",
   "execution_count": null,
   "id": "3796fd5f-5e7f-4ee2-9d22-43e74e407eef",
   "metadata": {},
   "outputs": [],
   "source": []
  },
  {
   "cell_type": "code",
   "execution_count": null,
   "id": "571775e1-f509-495b-8a74-da89c7dda08f",
   "metadata": {},
   "outputs": [],
   "source": []
  },
  {
   "cell_type": "code",
   "execution_count": null,
   "id": "eb39e035-f57d-4ce0-8fe8-574d3c75f4bd",
   "metadata": {},
   "outputs": [],
   "source": []
  },
  {
   "cell_type": "code",
   "execution_count": null,
   "id": "995e3ae2-20cc-4b84-8adb-afabcd2bd696",
   "metadata": {},
   "outputs": [],
   "source": []
  },
  {
   "cell_type": "code",
   "execution_count": null,
   "id": "dcdb113c-ad14-4564-8097-2d7245944d8c",
   "metadata": {},
   "outputs": [],
   "source": []
  },
  {
   "cell_type": "code",
   "execution_count": null,
   "id": "68d89478-279a-406b-b436-8d156affbefb",
   "metadata": {},
   "outputs": [],
   "source": []
  },
  {
   "cell_type": "code",
   "execution_count": null,
   "id": "dd9a8b57-aa8d-47bc-b25c-7294ca5f5ee9",
   "metadata": {},
   "outputs": [],
   "source": []
  }
 ],
 "metadata": {
  "kernelspec": {
   "display_name": "Python 3",
   "language": "python",
   "name": "python3"
  },
  "language_info": {
   "codemirror_mode": {
    "name": "ipython",
    "version": 3
   },
   "file_extension": ".py",
   "mimetype": "text/x-python",
   "name": "python",
   "nbconvert_exporter": "python",
   "pygments_lexer": "ipython3",
   "version": "3.7.10"
  }
 },
 "nbformat": 4,
 "nbformat_minor": 5
}
