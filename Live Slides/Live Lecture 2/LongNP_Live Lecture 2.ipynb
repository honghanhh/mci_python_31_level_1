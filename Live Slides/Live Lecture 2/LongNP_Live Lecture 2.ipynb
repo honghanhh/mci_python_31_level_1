{
 "cells": [
  {
   "cell_type": "markdown",
   "id": "6b9e68f1-adc4-45c7-bd8c-f8378b21d656",
   "metadata": {},
   "source": [
    "# 1. Python\n",
    "- Python là một ngôn ngữ thông dịch (intepreter): viết lệnh đến đâu chạy luôn đến đó.\n",
    "- Các ngôn ngữ biên dịch (compiler): C, C++, Java"
   ]
  },
  {
   "cell_type": "code",
   "execution_count": 1,
   "id": "3abb9a2c-d830-45af-b824-edcde7c66714",
   "metadata": {},
   "outputs": [
    {
     "name": "stdout",
     "output_type": "stream",
     "text": [
      "Hello, world!\n"
     ]
    }
   ],
   "source": [
    "print('Hello, world!')"
   ]
  },
  {
   "cell_type": "code",
   "execution_count": 2,
   "id": "c70bcfc2-384f-4823-a903-5664bd5c325c",
   "metadata": {},
   "outputs": [
    {
     "name": "stdout",
     "output_type": "stream",
     "text": [
      "MCI Python Lesson2\n"
     ]
    }
   ],
   "source": [
    "# Comment gì đó\n",
    "print('MCI Python Lesson2')"
   ]
  },
  {
   "cell_type": "code",
   "execution_count": 4,
   "id": "0026d4c2-5353-4667-9260-333c0779f95c",
   "metadata": {},
   "outputs": [
    {
     "data": {
      "text/plain": [
       "3"
      ]
     },
     "execution_count": 4,
     "metadata": {},
     "output_type": "execute_result"
    }
   ],
   "source": [
    "#comment\n",
    "'''viết gì đó giữa 3 dấu nháy đơn cũng có nghĩa là comment, không được chạy code'''\n",
    "2+1"
   ]
  },
  {
   "cell_type": "markdown",
   "id": "48e95c8b-442a-4277-92ef-041d181f41a6",
   "metadata": {},
   "source": [
    "### 1. Biến - Variable(s)"
   ]
  },
  {
   "cell_type": "code",
   "execution_count": 5,
   "id": "bacc24f4-b947-4564-9e16-b3dccba02cd9",
   "metadata": {},
   "outputs": [],
   "source": [
    "int_number = 2"
   ]
  },
  {
   "cell_type": "code",
   "execution_count": 6,
   "id": "9e7cf25b-2950-4d57-8151-c9f94429d798",
   "metadata": {},
   "outputs": [
    {
     "data": {
      "text/plain": [
       "int"
      ]
     },
     "execution_count": 6,
     "metadata": {},
     "output_type": "execute_result"
    }
   ],
   "source": [
    "type(int_number) #integer"
   ]
  },
  {
   "cell_type": "code",
   "execution_count": 7,
   "id": "b9e04e74-dbc5-48bd-85ed-f63cf1be544c",
   "metadata": {},
   "outputs": [
    {
     "data": {
      "text/plain": [
       "float"
      ]
     },
     "execution_count": 7,
     "metadata": {},
     "output_type": "execute_result"
    }
   ],
   "source": [
    "f_number = 3.14\n",
    "type(f_number)"
   ]
  },
  {
   "cell_type": "markdown",
   "id": "e5178eb5-ef5d-4a46-b795-7a0469e73af6",
   "metadata": {},
   "source": [
    "Conventions for naming variables:\n",
    "- Start with a letter or underscore (do not start with number)\n",
    "- Variable names in python are case-sensitive\n",
    "- Avoid naming variable close to common keyword in Python (e.g: list, ...)"
   ]
  },
  {
   "cell_type": "markdown",
   "id": "7d2a6517-fe50-4f09-958c-c64b5be5909c",
   "metadata": {},
   "source": [
    "## 2. Operation & Operators\n",
    "(Để tạo ra một bảng bằng markdown trong python, xếp các cột bằng dấu || và thêm một dòng |-|-|-| phía dưới dòng header)\n",
    "| Operation | Meaning | Examples |\n",
    "|-|-|-|\n",
    "| + | Cộng |a+b |\n",
    "| - | Trừ | a-b |\n",
    "| * | Nhân | a * b |\n",
    "| / | Chia | a/b |\n",
    "| % | Chia lấy số dư | a%b |\n",
    "| // | Floor | a//b |\n",
    "| ** | lũy thừa | a ** b |"
   ]
  },
  {
   "cell_type": "markdown",
   "id": "da910a54-93ae-4cd4-b849-be250a87cf5e",
   "metadata": {},
   "source": [
    "### 3. Logical operatión"
   ]
  },
  {
   "cell_type": "markdown",
   "id": "71688bca-1e09-4ed0-928c-a7a1c6f85f67",
   "metadata": {},
   "source": [
    "- AND: True if all are true\n",
    "- OR: True if at least one is true\n",
    "- NOT: Not true = false, False -> True\n",
    "- XOR: Same value -> False, Else -> True\n",
    "- AND before OR"
   ]
  },
  {
   "cell_type": "code",
   "execution_count": 16,
   "id": "c16c30de-d102-41e0-a017-a49bdd8f7f33",
   "metadata": {},
   "outputs": [
    {
     "data": {
      "text/plain": [
       "True"
      ]
     },
     "execution_count": 16,
     "metadata": {},
     "output_type": "execute_result"
    }
   ],
   "source": [
    "True and True"
   ]
  },
  {
   "cell_type": "code",
   "execution_count": 13,
   "id": "9f29a038-7c5c-4318-ad50-19f8ebc3c3b8",
   "metadata": {},
   "outputs": [
    {
     "data": {
      "text/plain": [
       "True"
      ]
     },
     "execution_count": 13,
     "metadata": {},
     "output_type": "execute_result"
    }
   ],
   "source": [
    "True or False"
   ]
  },
  {
   "cell_type": "code",
   "execution_count": 14,
   "id": "fed632c2-e534-4afc-83b2-a626ac2090cc",
   "metadata": {},
   "outputs": [
    {
     "data": {
      "text/plain": [
       "True"
      ]
     },
     "execution_count": 14,
     "metadata": {},
     "output_type": "execute_result"
    }
   ],
   "source": [
    "True and False or True and True"
   ]
  },
  {
   "cell_type": "markdown",
   "id": "dbfb322b-d2dd-47b9-8700-e786a830cbda",
   "metadata": {},
   "source": [
    "### 4. Conditional operations"
   ]
  },
  {
   "cell_type": "markdown",
   "id": "a2f08d3d-aac0-41f1-ac1a-c68a2d3648c7",
   "metadata": {},
   "source": [
    "|Operator | Meaning|\n",
    "|<| Less than|\n",
    "|>| Greater than|\n",
    "|<=| Less than or equal to|\n",
    "|>=| Greater than or equal to|\n",
    "|==| Equal to |\n",
    "|!=| Not equal to|\n",
    "\n",
    "Note:\n",
    "- = meaning assignment\n",
    "- == meaning comparison"
   ]
  },
  {
   "cell_type": "code",
   "execution_count": 18,
   "id": "a94153f0-2bd8-4473-bbf4-9e5210822f88",
   "metadata": {},
   "outputs": [
    {
     "data": {
      "text/plain": [
       "False"
      ]
     },
     "execution_count": 18,
     "metadata": {},
     "output_type": "execute_result"
    }
   ],
   "source": [
    "1 == 2"
   ]
  },
  {
   "cell_type": "markdown",
   "id": "0d7306eb-47c6-4627-a4c3-96debab19f72",
   "metadata": {},
   "source": [
    "### 5. Data types\n",
    "Program = data structures + algorithms"
   ]
  },
  {
   "cell_type": "markdown",
   "id": "1fdde8f0-9513-4e6c-87ff-8f442c5be508",
   "metadata": {},
   "source": [
    "Data types\n",
    "- Numberic: integer (INT), float (FLOAT), complex(i+2j),...\n",
    "- Strings: text, char\n",
    "- Boolean: True / False\n",
    "- Datetime\n",
    "- NoneType"
   ]
  },
  {
   "cell_type": "code",
   "execution_count": 21,
   "id": "9c98e421-a159-4bda-b891-e52df6b910aa",
   "metadata": {},
   "outputs": [
    {
     "data": {
      "text/plain": [
       "int"
      ]
     },
     "execution_count": 21,
     "metadata": {},
     "output_type": "execute_result"
    }
   ],
   "source": [
    "a = 1 + 1\n",
    "type(a)"
   ]
  },
  {
   "cell_type": "code",
   "execution_count": 22,
   "id": "ec025896-81b3-4a89-9524-e9e7af871033",
   "metadata": {},
   "outputs": [
    {
     "data": {
      "text/plain": [
       "float"
      ]
     },
     "execution_count": 22,
     "metadata": {},
     "output_type": "execute_result"
    }
   ],
   "source": [
    "type(3.14)"
   ]
  },
  {
   "cell_type": "code",
   "execution_count": 23,
   "id": "bf8c6552-1a4d-4ca5-8a95-818025547215",
   "metadata": {},
   "outputs": [
    {
     "data": {
      "text/plain": [
       "complex"
      ]
     },
     "execution_count": 23,
     "metadata": {},
     "output_type": "execute_result"
    }
   ],
   "source": [
    "type(1+2j)"
   ]
  },
  {
   "cell_type": "code",
   "execution_count": 24,
   "id": "2a242ae6-769b-4094-a5c2-2f566b371368",
   "metadata": {},
   "outputs": [
    {
     "data": {
      "text/plain": [
       "str"
      ]
     },
     "execution_count": 24,
     "metadata": {},
     "output_type": "execute_result"
    }
   ],
   "source": [
    "type('Không sợ vợ')"
   ]
  },
  {
   "cell_type": "markdown",
   "id": "29ff0d9d-0ffb-454d-9046-c4a763e98f7f",
   "metadata": {},
   "source": [
    "### 4. Data Structures\n",
    "Gồm 2 loại\n",
    "- Built-in data structures: python có sẵn (e.g: list, dictionary, tuples, set)\n",
    "    - List: [], list(), có index\n",
    "    - Tuples: (), tuples(), có index\n",
    "    - Set: {}, set(), non-index, no-duplicated\n",
    "    - Dictionary: {key:value}, no-duplicated\n",
    "- User-defined data structures: người dùng định nghĩa và gọi ra (e.g: stack, queue, tree, linked list, graph, hasmap,...)"
   ]
  },
  {
   "cell_type": "markdown",
   "id": "7256ee24-b878-445a-8ab7-aa3f417ec694",
   "metadata": {},
   "source": [
    "#### 4.1 List"
   ]
  },
  {
   "cell_type": "code",
   "execution_count": 27,
   "id": "a5fe2a62-e36b-49f2-aa28-23ff7d657b44",
   "metadata": {},
   "outputs": [],
   "source": [
    "#Creating a list\n",
    "li = [1, 2, 'python', 3.14] #list contains items"
   ]
  },
  {
   "cell_type": "code",
   "execution_count": 28,
   "id": "ec8d19e2-ac3a-4533-8126-933a902a2a44",
   "metadata": {},
   "outputs": [
    {
     "data": {
      "text/plain": [
       "[1, 2, 'python', 3.14]"
      ]
     },
     "execution_count": 28,
     "metadata": {},
     "output_type": "execute_result"
    }
   ],
   "source": [
    "li"
   ]
  },
  {
   "cell_type": "code",
   "execution_count": 30,
   "id": "c00749b4-9b23-4865-b183-2c4713c5ec69",
   "metadata": {},
   "outputs": [
    {
     "data": {
      "text/plain": [
       "['__add__',\n",
       " '__class__',\n",
       " '__contains__',\n",
       " '__delattr__',\n",
       " '__delitem__',\n",
       " '__dir__',\n",
       " '__doc__',\n",
       " '__eq__',\n",
       " '__format__',\n",
       " '__ge__',\n",
       " '__getattribute__',\n",
       " '__getitem__',\n",
       " '__gt__',\n",
       " '__hash__',\n",
       " '__iadd__',\n",
       " '__imul__',\n",
       " '__init__',\n",
       " '__init_subclass__',\n",
       " '__iter__',\n",
       " '__le__',\n",
       " '__len__',\n",
       " '__lt__',\n",
       " '__mul__',\n",
       " '__ne__',\n",
       " '__new__',\n",
       " '__reduce__',\n",
       " '__reduce_ex__',\n",
       " '__repr__',\n",
       " '__reversed__',\n",
       " '__rmul__',\n",
       " '__setattr__',\n",
       " '__setitem__',\n",
       " '__sizeof__',\n",
       " '__str__',\n",
       " '__subclasshook__',\n",
       " 'append',\n",
       " 'clear',\n",
       " 'copy',\n",
       " 'count',\n",
       " 'extend',\n",
       " 'index',\n",
       " 'insert',\n",
       " 'pop',\n",
       " 'remove',\n",
       " 'reverse',\n",
       " 'sort']"
      ]
     },
     "execution_count": 30,
     "metadata": {},
     "output_type": "execute_result"
    }
   ],
   "source": [
    "dir(li) #gọi ra các hàm có thể sử dụng với biến li"
   ]
  },
  {
   "cell_type": "code",
   "execution_count": 35,
   "id": "97e56107-5acf-4110-81f7-7f1e098fe101",
   "metadata": {},
   "outputs": [
    {
     "data": {
      "text/plain": [
       "['append',\n",
       " 'clear',\n",
       " 'copy',\n",
       " 'count',\n",
       " 'extend',\n",
       " 'index',\n",
       " 'insert',\n",
       " 'pop',\n",
       " 'remove',\n",
       " 'reverse',\n",
       " 'sort']"
      ]
     },
     "execution_count": 35,
     "metadata": {},
     "output_type": "execute_result"
    }
   ],
   "source": [
    "[method for method in dir(li) if not method.startswith('_')] \n",
    "\n",
    "#gọi ra các method trong dir(li) không bắt đầu bởi dấu \"_\"\n",
    "#Đây là các hàm sửa trực tiếp giá trị của biến chứ không phải một phép tính thông thường"
   ]
  },
  {
   "cell_type": "code",
   "execution_count": 34,
   "id": "44999d7d-3aa1-421d-910a-9f27730c26c1",
   "metadata": {},
   "outputs": [
    {
     "data": {
      "text/plain": [
       "[1, 2, 'python', 3.14, 10, 10]"
      ]
     },
     "execution_count": 34,
     "metadata": {},
     "output_type": "execute_result"
    }
   ],
   "source": [
    "#append dùng để nối dài thêm danh sách\n",
    "li.append(10)\n",
    "li"
   ]
  },
  {
   "cell_type": "markdown",
   "id": "c4e797ca-9da2-4db3-b110-fd785ff16516",
   "metadata": {},
   "source": [
    "### Lưu ý:\n",
    "Để biết một hàm có tác dụng gì, gõ tên hàm ra, rồi nhấn Shift +  Tab"
   ]
  },
  {
   "cell_type": "markdown",
   "id": "7e537b62-19b7-4b47-b4e3-6548a436f685",
   "metadata": {},
   "source": [
    "### INDEX\n",
    "- Là SỐ THỨ TỰ của phần tử trong danh sách:\n",
    "- Khi đếm từ trái sang thì bắt đầu từ 0, tăng dần sang phải\n",
    "- Khi đếm từ phải sang thì bắt đầu từ -1, giảm dần sang trái"
   ]
  },
  {
   "cell_type": "markdown",
   "id": "bdfedbd3-e638-4649-893d-ab54052cba93",
   "metadata": {},
   "source": [
    "Truy suất phần tử thứ 3"
   ]
  },
  {
   "cell_type": "code",
   "execution_count": 36,
   "id": "21d37b19-b3da-4710-874f-e211d5f77b25",
   "metadata": {},
   "outputs": [
    {
     "data": {
      "text/plain": [
       "'python'"
      ]
     },
     "execution_count": 36,
     "metadata": {},
     "output_type": "execute_result"
    }
   ],
   "source": [
    "li[2]"
   ]
  },
  {
   "cell_type": "code",
   "execution_count": 37,
   "id": "260e9af1-1342-453b-8384-1ece21bdf21f",
   "metadata": {},
   "outputs": [
    {
     "data": {
      "text/plain": [
       "10"
      ]
     },
     "execution_count": 37,
     "metadata": {},
     "output_type": "execute_result"
    }
   ],
   "source": [
    "li[-1]"
   ]
  },
  {
   "cell_type": "code",
   "execution_count": 38,
   "id": "ba041f71-ae9f-4f65-8b23-d7f587841d15",
   "metadata": {},
   "outputs": [
    {
     "data": {
      "text/plain": [
       "[1, 2, 'python']"
      ]
     },
     "execution_count": 38,
     "metadata": {},
     "output_type": "execute_result"
    }
   ],
   "source": [
    "li[0:3]"
   ]
  },
  {
   "cell_type": "code",
   "execution_count": 40,
   "id": "02179c0a-fb60-4d5a-805f-93c0b71bba57",
   "metadata": {},
   "outputs": [
    {
     "data": {
      "text/plain": [
       "[3.14, 10, 10]"
      ]
     },
     "execution_count": 40,
     "metadata": {},
     "output_type": "execute_result"
    }
   ],
   "source": [
    "li[-3:]"
   ]
  },
  {
   "cell_type": "code",
   "execution_count": 41,
   "id": "10c8ddbe-8025-4240-880f-354ddb00694f",
   "metadata": {},
   "outputs": [
    {
     "data": {
      "text/plain": [
       "[1, 2, 'python', 3.14, 10, 10]"
      ]
     },
     "execution_count": 41,
     "metadata": {},
     "output_type": "execute_result"
    }
   ],
   "source": [
    "li"
   ]
  },
  {
   "cell_type": "code",
   "execution_count": 47,
   "id": "d640f88c-c67d-4f71-8dec-4b4838324a5a",
   "metadata": {},
   "outputs": [
    {
     "data": {
      "text/plain": [
       "[1, 2, 'python', 3.14, 10, 'l', 'o', 'g', 'l', 'o', 'n', 'g']"
      ]
     },
     "execution_count": 47,
     "metadata": {},
     "output_type": "execute_result"
    }
   ],
   "source": [
    "li.remove('n')\n",
    "li"
   ]
  },
  {
   "cell_type": "code",
   "execution_count": 49,
   "id": "64d1af63-9881-409c-b4c4-f4fad237e3fc",
   "metadata": {},
   "outputs": [
    {
     "data": {
      "text/plain": [
       "[1, 2, 'python', 3.14, 10, 'l', 'o', 'g', 'l', 'o']"
      ]
     },
     "execution_count": 49,
     "metadata": {},
     "output_type": "execute_result"
    }
   ],
   "source": [
    "li.pop(10)\n",
    "li"
   ]
  },
  {
   "cell_type": "code",
   "execution_count": 51,
   "id": "1fb348e1-c5a5-4abf-9178-63a89c671023",
   "metadata": {},
   "outputs": [],
   "source": [
    "li2 = ['chó','mèo']"
   ]
  },
  {
   "cell_type": "code",
   "execution_count": 52,
   "id": "7ea8da17-02e1-4c0b-8421-11dcd67a9ede",
   "metadata": {},
   "outputs": [],
   "source": [
    "li.extend(li2)"
   ]
  },
  {
   "cell_type": "code",
   "execution_count": 53,
   "id": "08150591-bfcf-430d-a504-64be8d160d91",
   "metadata": {},
   "outputs": [
    {
     "data": {
      "text/plain": [
       "[1, 2, 'python', 3.14, 10, 'l', 'o', 'g', 'l', 'o', 'chó', 'mèo']"
      ]
     },
     "execution_count": 53,
     "metadata": {},
     "output_type": "execute_result"
    }
   ],
   "source": [
    "li"
   ]
  },
  {
   "cell_type": "code",
   "execution_count": 54,
   "id": "20695145-41e9-4842-b8f9-9ffd552a23a5",
   "metadata": {},
   "outputs": [],
   "source": [
    "del  li[0]"
   ]
  },
  {
   "cell_type": "code",
   "execution_count": 56,
   "id": "488aa72b-e5da-44e7-bb9c-8d31c3657a80",
   "metadata": {},
   "outputs": [
    {
     "data": {
      "text/plain": [
       "0"
      ]
     },
     "execution_count": 56,
     "metadata": {},
     "output_type": "execute_result"
    }
   ],
   "source": [
    "li.count('hâha')"
   ]
  },
  {
   "cell_type": "markdown",
   "id": "941b4d92-f73a-4991-93e3-9f4528aa55c5",
   "metadata": {},
   "source": [
    "#### 4.2 Tuples"
   ]
  },
  {
   "cell_type": "code",
   "execution_count": 57,
   "id": "36a26748-9398-407a-a4fc-6424846293e4",
   "metadata": {},
   "outputs": [],
   "source": [
    "tu = (1, 2, 3, 'Vietnam')"
   ]
  },
  {
   "cell_type": "code",
   "execution_count": 58,
   "id": "a04f14c0-2315-4823-904f-3189a1ee412c",
   "metadata": {},
   "outputs": [
    {
     "data": {
      "text/plain": [
       "(1, 2, 3, 'Vietnam')"
      ]
     },
     "execution_count": 58,
     "metadata": {},
     "output_type": "execute_result"
    }
   ],
   "source": [
    "tu"
   ]
  },
  {
   "cell_type": "code",
   "execution_count": 59,
   "id": "52bcdc46-704a-4a04-b31a-7bce44ecfe0d",
   "metadata": {},
   "outputs": [
    {
     "data": {
      "text/plain": [
       "tuple"
      ]
     },
     "execution_count": 59,
     "metadata": {},
     "output_type": "execute_result"
    }
   ],
   "source": [
    "type(tu)"
   ]
  },
  {
   "cell_type": "code",
   "execution_count": 60,
   "id": "f14c9818-bdbe-4537-ab3b-27282d66a1e3",
   "metadata": {},
   "outputs": [
    {
     "data": {
      "text/plain": [
       "['__add__',\n",
       " '__class__',\n",
       " '__contains__',\n",
       " '__delattr__',\n",
       " '__dir__',\n",
       " '__doc__',\n",
       " '__eq__',\n",
       " '__format__',\n",
       " '__ge__',\n",
       " '__getattribute__',\n",
       " '__getitem__',\n",
       " '__getnewargs__',\n",
       " '__gt__',\n",
       " '__hash__',\n",
       " '__init__',\n",
       " '__init_subclass__',\n",
       " '__iter__',\n",
       " '__le__',\n",
       " '__len__',\n",
       " '__lt__',\n",
       " '__mul__',\n",
       " '__ne__',\n",
       " '__new__',\n",
       " '__reduce__',\n",
       " '__reduce_ex__',\n",
       " '__repr__',\n",
       " '__rmul__',\n",
       " '__setattr__',\n",
       " '__sizeof__',\n",
       " '__str__',\n",
       " '__subclasshook__',\n",
       " 'count',\n",
       " 'index']"
      ]
     },
     "execution_count": 60,
     "metadata": {},
     "output_type": "execute_result"
    }
   ],
   "source": [
    "dir(tu)"
   ]
  },
  {
   "cell_type": "code",
   "execution_count": 61,
   "id": "58ce1de1-324d-44e6-8cc9-df0bfd36105c",
   "metadata": {},
   "outputs": [
    {
     "data": {
      "text/plain": [
       "1"
      ]
     },
     "execution_count": 61,
     "metadata": {},
     "output_type": "execute_result"
    }
   ],
   "source": [
    "tu.count('Vietnam')"
   ]
  },
  {
   "cell_type": "code",
   "execution_count": 62,
   "id": "738267d5-3efb-4a67-b8e0-bc30479523c3",
   "metadata": {},
   "outputs": [],
   "source": [
    "tu = (2,2,9,9,9,'long dep trai','hihi')"
   ]
  },
  {
   "cell_type": "code",
   "execution_count": 63,
   "id": "7cdd0de6-1eef-43ea-93ca-d3fe7067751e",
   "metadata": {},
   "outputs": [
    {
     "name": "stdout",
     "output_type": "stream",
     "text": [
      "1\n",
      "2\n",
      "3\n"
     ]
    }
   ],
   "source": [
    "print(tu.count('hihi'))\n",
    "print(tu.count(2))\n",
    "print(tu.count(9))"
   ]
  },
  {
   "cell_type": "code",
   "execution_count": 64,
   "id": "51af1e0e-49f7-4311-8f23-21d5f24e1d5d",
   "metadata": {},
   "outputs": [
    {
     "data": {
      "text/plain": [
       "(2, 2, 9, 9, 9, 'long dep trai', 'hihi')"
      ]
     },
     "execution_count": 64,
     "metadata": {},
     "output_type": "execute_result"
    }
   ],
   "source": [
    "tu"
   ]
  },
  {
   "cell_type": "code",
   "execution_count": 65,
   "id": "d72339a7-bfd3-4e23-a961-a2bd15e8b04c",
   "metadata": {},
   "outputs": [
    {
     "data": {
      "text/plain": [
       "5"
      ]
     },
     "execution_count": 65,
     "metadata": {},
     "output_type": "execute_result"
    }
   ],
   "source": [
    "tu.index('long dep trai')"
   ]
  },
  {
   "cell_type": "code",
   "execution_count": 66,
   "id": "7b07abbb-bef4-4870-9687-9b00d5594740",
   "metadata": {},
   "outputs": [
    {
     "data": {
      "text/plain": [
       "2"
      ]
     },
     "execution_count": 66,
     "metadata": {},
     "output_type": "execute_result"
    }
   ],
   "source": [
    "tu.index(9)"
   ]
  },
  {
   "cell_type": "code",
   "execution_count": 70,
   "id": "882acf14-27a5-438c-86bd-5a8e4dbaf4db",
   "metadata": {},
   "outputs": [
    {
     "data": {
      "text/plain": [
       "2"
      ]
     },
     "execution_count": 70,
     "metadata": {},
     "output_type": "execute_result"
    }
   ],
   "source": [
    "tu.index(9)"
   ]
  },
  {
   "cell_type": "code",
   "execution_count": 71,
   "id": "8bbccc65-fac9-4072-ae95-6ec517ab7b79",
   "metadata": {},
   "outputs": [
    {
     "data": {
      "text/plain": [
       "2"
      ]
     },
     "execution_count": 71,
     "metadata": {},
     "output_type": "execute_result"
    }
   ],
   "source": [
    "tu[0] #tương tự như list, dùng để trả giá trị thứ 0 trong tuples"
   ]
  },
  {
   "cell_type": "markdown",
   "id": "e8bcde48-3ba6-4fe3-92e3-6110b877021b",
   "metadata": {},
   "source": [
    "#### 4.3 Set"
   ]
  },
  {
   "cell_type": "code",
   "execution_count": 87,
   "id": "d71cf344-d1bb-458b-8d70-bce338b3dd95",
   "metadata": {},
   "outputs": [],
   "source": [
    "se = {1,1,2,2,2,3,4,5,6,7,'long','long'}"
   ]
  },
  {
   "cell_type": "code",
   "execution_count": 74,
   "id": "833a13d4-5da9-40f7-ae79-537547692ed5",
   "metadata": {},
   "outputs": [
    {
     "data": {
      "text/plain": [
       "{1, 2, 3, 4, 5, 6, 7, 'long'}"
      ]
     },
     "execution_count": 74,
     "metadata": {},
     "output_type": "execute_result"
    }
   ],
   "source": [
    "se"
   ]
  },
  {
   "cell_type": "code",
   "execution_count": 77,
   "id": "415cb312-0e61-49e9-b160-c1d2396300f4",
   "metadata": {
    "tags": []
   },
   "outputs": [
    {
     "data": {
      "text/plain": [
       "['add',\n",
       " 'clear',\n",
       " 'copy',\n",
       " 'difference',\n",
       " 'difference_update',\n",
       " 'discard',\n",
       " 'intersection',\n",
       " 'intersection_update',\n",
       " 'isdisjoint',\n",
       " 'issubset',\n",
       " 'issuperset',\n",
       " 'pop',\n",
       " 'remove',\n",
       " 'symmetric_difference',\n",
       " 'symmetric_difference_update',\n",
       " 'union',\n",
       " 'update']"
      ]
     },
     "execution_count": 77,
     "metadata": {},
     "output_type": "execute_result"
    }
   ],
   "source": [
    "[method for method in dir(se) if not method.startswith('_')]"
   ]
  },
  {
   "cell_type": "code",
   "execution_count": 78,
   "id": "468a0d56-2b29-4a6b-b01e-0c0f6a75c88a",
   "metadata": {},
   "outputs": [],
   "source": [
    "s1 = {2,3,4,5,6,7}"
   ]
  },
  {
   "cell_type": "code",
   "execution_count": 92,
   "id": "abf9a9bf-2f6c-422e-9178-9cebf8174199",
   "metadata": {},
   "outputs": [
    {
     "data": {
      "text/plain": [
       "{1, 'long'}"
      ]
     },
     "execution_count": 92,
     "metadata": {},
     "output_type": "execute_result"
    }
   ],
   "source": [
    "se.difference(s1) #lấy giá trị thuộc se nhứng không thuộc s1"
   ]
  },
  {
   "cell_type": "code",
   "execution_count": 81,
   "id": "42399c85-4d55-459b-801d-d023bb94a727",
   "metadata": {},
   "outputs": [
    {
     "data": {
      "text/plain": [
       "{2, 3, 4, 5, 6, 7}"
      ]
     },
     "execution_count": 81,
     "metadata": {},
     "output_type": "execute_result"
    }
   ],
   "source": [
    "se.intersection(s1) #lấy giá trị trùng nhau"
   ]
  },
  {
   "cell_type": "code",
   "execution_count": 84,
   "id": "52214eb1-0378-4418-a045-c74f9267896d",
   "metadata": {},
   "outputs": [
    {
     "data": {
      "text/plain": [
       "{1, 'long'}"
      ]
     },
     "execution_count": 84,
     "metadata": {},
     "output_type": "execute_result"
    }
   ],
   "source": [
    "se.symmetric_difference(s1)"
   ]
  },
  {
   "cell_type": "code",
   "execution_count": 88,
   "id": "09a8492a-8896-4a59-98e9-21c3eb9b9039",
   "metadata": {},
   "outputs": [
    {
     "data": {
      "text/plain": [
       "{1, 2, 3, 4, 5, 6, 7, 'long'}"
      ]
     },
     "execution_count": 88,
     "metadata": {},
     "output_type": "execute_result"
    }
   ],
   "source": [
    "se"
   ]
  },
  {
   "cell_type": "code",
   "execution_count": 90,
   "id": "2871ace9-3ce6-4f49-b576-6335b91d6906",
   "metadata": {},
   "outputs": [],
   "source": [
    "s2 = {1,3,10, 15, 29}"
   ]
  },
  {
   "cell_type": "markdown",
   "id": "b3429577-e723-4ff3-be8f-1cc22f34db76",
   "metadata": {},
   "source": [
    "##### Note\n",
    "difference_update: thay nội dung set ban đầu = phần khác nhau giữa 2 set\n"
   ]
  },
  {
   "cell_type": "code",
   "execution_count": 107,
   "id": "879f5092-97a1-47ec-a24d-50340ced3164",
   "metadata": {},
   "outputs": [
    {
     "data": {
      "text/plain": [
       "{1, 10, 15, 2, 29, 4, 5, 6, 7, 'long'}"
      ]
     },
     "execution_count": 107,
     "metadata": {},
     "output_type": "execute_result"
    }
   ],
   "source": [
    "se.symmetric_difference(s2) #lấy các giá trị không trùng nhau"
   ]
  },
  {
   "cell_type": "code",
   "execution_count": 100,
   "id": "f2985706-2fb6-4c07-859e-e46990c5539d",
   "metadata": {},
   "outputs": [
    {
     "data": {
      "text/plain": [
       "{2, 3, 4, 5, 6, 7, 'long'}"
      ]
     },
     "execution_count": 100,
     "metadata": {},
     "output_type": "execute_result"
    }
   ],
   "source": [
    "s3 = {1, 2, 3}\n",
    "se.discard(1)\n",
    "se"
   ]
  },
  {
   "cell_type": "code",
   "execution_count": 106,
   "id": "8f9e2d9e-0e6c-4b8d-9b5a-35a3b1541ff1",
   "metadata": {},
   "outputs": [
    {
     "data": {
      "text/plain": [
       "False"
      ]
     },
     "execution_count": 106,
     "metadata": {},
     "output_type": "execute_result"
    }
   ],
   "source": [
    "se.isdisjoint(s3) #check 2 set xem có phải không giao nhau không, true = không giao nhau, false = có giao"
   ]
  },
  {
   "cell_type": "markdown",
   "id": "17e51faa-1ab7-42cb-88d0-7de2c1e784f2",
   "metadata": {},
   "source": [
    "#### 4.3 Dictionary"
   ]
  },
  {
   "cell_type": "code",
   "execution_count": 103,
   "id": "4f8eb856-9477-4fb2-b6d4-38e2330905a9",
   "metadata": {},
   "outputs": [],
   "source": [
    "dick = {\"tên\":\"long\",\"tuổi\":\"28\",\"địa_chỉ\":\"Hanoi\",\"sợ vợ\":\"không\"}"
   ]
  },
  {
   "cell_type": "code",
   "execution_count": 104,
   "id": "a80446d1-0f0d-42de-aeb9-792c9406aa83",
   "metadata": {},
   "outputs": [
    {
     "data": {
      "text/plain": [
       "{'tên': 'long', 'tuổi': '28', 'địa_chỉ': 'Hanoi', 'sợ vợ': 'không'}"
      ]
     },
     "execution_count": 104,
     "metadata": {},
     "output_type": "execute_result"
    }
   ],
   "source": [
    "dick"
   ]
  },
  {
   "cell_type": "code",
   "execution_count": 109,
   "id": "317de336-ba24-40e5-8462-3da207196f63",
   "metadata": {},
   "outputs": [],
   "source": [
    "# changing an element\n",
    "dick[\"sợ vợ\"] = 'hơi hơi'"
   ]
  },
  {
   "cell_type": "code",
   "execution_count": 110,
   "id": "29436962-f744-4bf8-a59f-0735c9a43e90",
   "metadata": {},
   "outputs": [
    {
     "data": {
      "text/plain": [
       "{'tên': 'long', 'tuổi': '28', 'địa_chỉ': 'Hanoi', 'sợ vợ': 'hơi hơi'}"
      ]
     },
     "execution_count": 110,
     "metadata": {},
     "output_type": "execute_result"
    }
   ],
   "source": [
    "dick"
   ]
  },
  {
   "cell_type": "code",
   "execution_count": 112,
   "id": "ce41afec-e4cb-4f59-b4f8-1942d6c23987",
   "metadata": {},
   "outputs": [
    {
     "data": {
      "text/plain": [
       "{'tên': 'long',\n",
       " 'tuổi': '28',\n",
       " 'địa_chỉ': 'Hanoi',\n",
       " 'sợ vợ': 'hơi hơi',\n",
       " 'thật không': 'thật'}"
      ]
     },
     "execution_count": 112,
     "metadata": {},
     "output_type": "execute_result"
    }
   ],
   "source": [
    "dick[\"thật không\"] = \"thật\"\n",
    "dick"
   ]
  },
  {
   "cell_type": "code",
   "execution_count": 113,
   "id": "b79b4b68-4013-441d-9094-b192f6385f5d",
   "metadata": {},
   "outputs": [
    {
     "data": {
      "text/plain": [
       "['clear',\n",
       " 'copy',\n",
       " 'fromkeys',\n",
       " 'get',\n",
       " 'items',\n",
       " 'keys',\n",
       " 'pop',\n",
       " 'popitem',\n",
       " 'setdefault',\n",
       " 'update',\n",
       " 'values']"
      ]
     },
     "execution_count": 113,
     "metadata": {},
     "output_type": "execute_result"
    }
   ],
   "source": [
    "[method for method in dir(dick) if not method.startswith('_')]"
   ]
  },
  {
   "cell_type": "code",
   "execution_count": 123,
   "id": "aecd340c-8c05-4433-bc64-999e7a59e86f",
   "metadata": {},
   "outputs": [
    {
     "data": {
      "text/plain": [
       "'long'"
      ]
     },
     "execution_count": 123,
     "metadata": {},
     "output_type": "execute_result"
    }
   ],
   "source": [
    "dick.get(\"tên\") #tra từ điển key \"tên\""
   ]
  },
  {
   "cell_type": "code",
   "execution_count": 130,
   "id": "3c9c80de-abda-4ffa-b22d-4ad87df846ca",
   "metadata": {},
   "outputs": [
    {
     "data": {
      "text/plain": [
       "dict_items([('tên', 'long'), ('tuổi', '28'), ('địa_chỉ', 'Hanoi'), ('sợ vợ', 'hơi hơi'), ('thật không', 'thật')])"
      ]
     },
     "execution_count": 130,
     "metadata": {},
     "output_type": "execute_result"
    }
   ],
   "source": [
    "dick.items() \n",
    "# trong ngoặc trống, không cần điền gì\n",
    "#lấy một list, trong đó các phần từ của list là các tuples chứa cặp key và value tương ứng"
   ]
  },
  {
   "cell_type": "code",
   "execution_count": 131,
   "id": "799c9604-99f7-4b8b-91e2-e14ce7f15911",
   "metadata": {},
   "outputs": [
    {
     "data": {
      "text/plain": [
       "dict_keys(['tên', 'tuổi', 'địa_chỉ', 'sợ vợ', 'thật không'])"
      ]
     },
     "execution_count": 131,
     "metadata": {},
     "output_type": "execute_result"
    }
   ],
   "source": [
    "dick.keys()\n",
    "#lấy 1 list các key của dictionary dưới dạng list"
   ]
  },
  {
   "cell_type": "code",
   "execution_count": 134,
   "id": "28d9f821-b97c-4368-b5b4-b5bd520db629",
   "metadata": {},
   "outputs": [
    {
     "data": {
      "text/plain": [
       "'haha'"
      ]
     },
     "execution_count": 134,
     "metadata": {},
     "output_type": "execute_result"
    }
   ],
   "source": [
    "dick.pop(\"giàu không\",\"haha\")\n",
    "#remove key trong argument đầu tiên, và trả lại value của nó\n",
    "#nếu không thấy key đó, trả lại argument 2\n",
    "#nếu không có cả argument 2 thì báo lỗi"
   ]
  },
  {
   "cell_type": "code",
   "execution_count": 141,
   "id": "70e8369c-660f-402e-8c10-0be93ff3354a",
   "metadata": {},
   "outputs": [
    {
     "data": {
      "text/plain": [
       "('sợ vợ', 'hơi hơi')"
      ]
     },
     "execution_count": 141,
     "metadata": {},
     "output_type": "execute_result"
    }
   ],
   "source": [
    "dick.popitem() \n",
    "#xóa một key và giá trị của nó"
   ]
  },
  {
   "cell_type": "code",
   "execution_count": 142,
   "id": "6dd33f18-f303-4701-85ab-2dd4033a863a",
   "metadata": {},
   "outputs": [
    {
     "data": {
      "text/plain": [
       "{'tên': 'long', 'tuổi': '28', 'địa_chỉ': 'Hanoi'}"
      ]
     },
     "execution_count": 142,
     "metadata": {},
     "output_type": "execute_result"
    }
   ],
   "source": [
    "dick"
   ]
  },
  {
   "cell_type": "code",
   "execution_count": 138,
   "id": "3ee3b176-1fb5-43e9-a0d8-5f68d6626af3",
   "metadata": {},
   "outputs": [
    {
     "data": {
      "text/plain": [
       "'haha lần nữa'"
      ]
     },
     "execution_count": 138,
     "metadata": {},
     "output_type": "execute_result"
    }
   ],
   "source": [
    "dick.setdefault(\"sắp giàu\",\"haha lần nữa\")"
   ]
  },
  {
   "cell_type": "code",
   "execution_count": null,
   "id": "0d34a025-68f1-4c27-86ab-94c0769756fa",
   "metadata": {},
   "outputs": [],
   "source": []
  }
 ],
 "metadata": {
  "kernelspec": {
   "display_name": "Python 3",
   "language": "python",
   "name": "python3"
  },
  "language_info": {
   "codemirror_mode": {
    "name": "ipython",
    "version": 3
   },
   "file_extension": ".py",
   "mimetype": "text/x-python",
   "name": "python",
   "nbconvert_exporter": "python",
   "pygments_lexer": "ipython3",
   "version": "3.7.10"
  }
 },
 "nbformat": 4,
 "nbformat_minor": 5
}
