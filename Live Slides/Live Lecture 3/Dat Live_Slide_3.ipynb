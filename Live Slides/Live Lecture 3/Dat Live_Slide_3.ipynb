{
 "cells": [
  {
   "cell_type": "code",
   "execution_count": 1,
   "id": "e540b0fd-6f9d-4469-8eeb-a5ac38cfb869",
   "metadata": {},
   "outputs": [],
   "source": [
    "# LESSION3"
   ]
  },
  {
   "cell_type": "code",
   "execution_count": null,
   "id": "55860e92-3f42-4f55-9a83-7d6b6d57b0ac",
   "metadata": {},
   "outputs": [],
   "source": []
  }
 ],
 "metadata": {
  "kernelspec": {
   "display_name": "Python 3",
   "language": "python",
   "name": "python3"
  },
  "language_info": {
   "codemirror_mode": {
    "name": "ipython",
    "version": 3
   },
   "file_extension": ".py",
   "mimetype": "text/x-python",
   "name": "python",
   "nbconvert_exporter": "python",
   "pygments_lexer": "ipython3",
   "version": "3.7.0"
  }
 },
 "nbformat": 4,
 "nbformat_minor": 5
}
