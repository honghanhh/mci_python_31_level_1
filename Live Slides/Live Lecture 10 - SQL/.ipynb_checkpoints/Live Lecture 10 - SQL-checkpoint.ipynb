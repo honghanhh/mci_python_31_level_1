{
 "cells": [
  {
   "cell_type": "markdown",
   "id": "1c9c0c2e-b312-44aa-87c2-b02d9131da11",
   "metadata": {},
   "source": [
    "# <center> LESSON 10*: CONNECT PANDAS WITH SQL </center>"
   ]
  },
  {
   "cell_type": "code",
   "execution_count": null,
   "id": "f2b29f06-f126-4c16-aaa3-4a4b5c09ac83",
   "metadata": {},
   "outputs": [],
   "source": []
  }
 ],
 "metadata": {
  "kernelspec": {
   "display_name": "Python 3",
   "language": "python",
   "name": "python3"
  },
  "language_info": {
   "codemirror_mode": {
    "name": "ipython",
    "version": 3
   },
   "file_extension": ".py",
   "mimetype": "text/x-python",
   "name": "python",
   "nbconvert_exporter": "python",
   "pygments_lexer": "ipython3",
   "version": "3.7.10"
  }
 },
 "nbformat": 4,
 "nbformat_minor": 5
}
