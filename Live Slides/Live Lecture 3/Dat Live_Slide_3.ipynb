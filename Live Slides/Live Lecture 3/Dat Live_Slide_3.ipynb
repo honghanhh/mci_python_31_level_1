{
 "cells": [
  {
   "cell_type": "markdown",
   "id": "81a58cf5",
   "metadata": {},
   "source": [
    "# <center> LESSION3 </center>"
   ]
  },
  {
   "cell_type": "markdown",
   "id": "e792e6bc",
   "metadata": {},
   "source": [
    "## PROGRAMMING FLOW\n",
    "\n",
    "* Sequential: Step by steps together until done the programing\n",
    "* Loop: For While\n",
    "* Condition: If else elif\n"
   ]
  },
  {
   "cell_type": "markdown",
   "id": "55ac46e7",
   "metadata": {},
   "source": [
    "### 1. Sequential "
   ]
  },
  {
   "cell_type": "code",
   "execution_count": 1,
   "id": "a85199fc",
   "metadata": {},
   "outputs": [
    {
     "name": "stdout",
     "output_type": "stream",
     "text": [
      "Hi all\n",
      "hi\n",
      "hi man\n"
     ]
    }
   ],
   "source": [
    "print (\"Hi all\")\n",
    "print(\"hi\")\n",
    "print('hi man')"
   ]
  },
  {
   "cell_type": "markdown",
   "id": "47eea228",
   "metadata": {},
   "source": [
    "### 2.Loop\n"
   ]
  },
  {
   "cell_type": "markdown",
   "id": "f03a1e88",
   "metadata": {},
   "source": [
    "* Interation: process each element frequently\n",
    "- For \n",
    "- While"
   ]
  },
  {
   "cell_type": "markdown",
   "id": "40224073",
   "metadata": {},
   "source": [
    "### 2.1. For "
   ]
  },
  {
   "cell_type": "markdown",
   "id": "a1568d09",
   "metadata": {},
   "source": [
    "- for value in interable\n",
    "- do something \n",
    "- if need can break our continue whatever "
   ]
  },
  {
   "cell_type": "markdown",
   "id": "f6d8d62d",
   "metadata": {},
   "source": [
    "- Use index: List Tuble Tupe Set Array"
   ]
  },
  {
   "cell_type": "code",
   "execution_count": 3,
   "id": "3de3fda2-d639-42dc-a802-b91179d5fb6a",
   "metadata": {},
   "outputs": [
    {
     "data": {
      "text/plain": [
       "\u001b[0;31mInit signature:\u001b[0m \u001b[0mrange\u001b[0m\u001b[0;34m(\u001b[0m\u001b[0mself\u001b[0m\u001b[0;34m,\u001b[0m \u001b[0;34m/\u001b[0m\u001b[0;34m,\u001b[0m \u001b[0;34m*\u001b[0m\u001b[0margs\u001b[0m\u001b[0;34m,\u001b[0m \u001b[0;34m**\u001b[0m\u001b[0mkwargs\u001b[0m\u001b[0;34m)\u001b[0m\u001b[0;34m\u001b[0m\u001b[0m\n",
       "\u001b[0;31mDocstring:\u001b[0m     \n",
       "range(stop) -> range object\n",
       "range(start, stop[, step]) -> range object\n",
       "\n",
       "Return an object that produces a sequence of integers from start (inclusive)\n",
       "to stop (exclusive) by step.  range(i, j) produces i, i+1, i+2, ..., j-1.\n",
       "start defaults to 0, and stop is omitted!  range(4) produces 0, 1, 2, 3.\n",
       "These are exactly the valid indices for a list of 4 elements.\n",
       "When step is given, it specifies the increment (or decrement).\n",
       "\u001b[0;31mType:\u001b[0m           type\n",
       "\u001b[0;31mSubclasses:\u001b[0m     \n"
      ]
     },
     "metadata": {},
     "output_type": "display_data"
    }
   ],
   "source": [
    "range?"
   ]
  },
  {
   "cell_type": "code",
   "execution_count": 12,
   "id": "7a493e13-56ca-4ee7-bba3-101ab5135c22",
   "metadata": {},
   "outputs": [
    {
     "data": {
      "text/plain": [
       "[100, 99, 98, 97, 96]"
      ]
     },
     "execution_count": 12,
     "metadata": {},
     "output_type": "execute_result"
    }
   ],
   "source": [
    "list(range(100,0,-1))[:5]"
   ]
  },
  {
   "cell_type": "code",
   "execution_count": 2,
   "id": "d082fa17",
   "metadata": {},
   "outputs": [],
   "source": [
    "# for index in range(len(interable)):\n",
    "    #business logic "
   ]
  },
  {
   "cell_type": "code",
   "execution_count": 4,
   "id": "21b5831f",
   "metadata": {},
   "outputs": [],
   "source": [
    "#Tab in python we call: Indent \n",
    "# We just can use only Table or Sapce"
   ]
  },
  {
   "cell_type": "code",
   "execution_count": 14,
   "id": "1cdf1109-c868-4a03-b582-0b70243a9214",
   "metadata": {},
   "outputs": [],
   "source": [
    "#casting ép kiểu: ép kiểu dữ liệu để chuyển databasetype"
   ]
  },
  {
   "cell_type": "code",
   "execution_count": 15,
   "id": "3a17af85-22cd-469d-af7d-9edf1e53d8b3",
   "metadata": {},
   "outputs": [],
   "source": [
    "a= '1'"
   ]
  },
  {
   "cell_type": "code",
   "execution_count": 18,
   "id": "9e3e05f0-0879-49fd-87dd-4aa36cdabce3",
   "metadata": {},
   "outputs": [
    {
     "data": {
      "text/plain": [
       "1"
      ]
     },
     "execution_count": 18,
     "metadata": {},
     "output_type": "execute_result"
    }
   ],
   "source": [
    "int(a)"
   ]
  },
  {
   "cell_type": "code",
   "execution_count": 19,
   "id": "dfba4586-30f3-48cc-8138-e85f7cb8aa73",
   "metadata": {},
   "outputs": [],
   "source": [
    "b='i'"
   ]
  },
  {
   "cell_type": "markdown",
   "id": "5abbe4fc",
   "metadata": {},
   "source": [
    "### 2.2. While"
   ]
  },
  {
   "cell_type": "code",
   "execution_count": 7,
   "id": "59004186",
   "metadata": {},
   "outputs": [],
   "source": [
    "# While Condition: <Thecondition mean we have True or False>\n",
    "    #bussiness logic #indent \n",
    "    #break when condition is False"
   ]
  },
  {
   "cell_type": "code",
   "execution_count": 22,
   "id": "b8535e24",
   "metadata": {},
   "outputs": [
    {
     "data": {
      "text/plain": [
       "range(0, 10)"
      ]
     },
     "execution_count": 22,
     "metadata": {},
     "output_type": "execute_result"
    }
   ],
   "source": [
    "range(10)"
   ]
  },
  {
   "cell_type": "code",
   "execution_count": 23,
   "id": "e17e5f19",
   "metadata": {},
   "outputs": [
    {
     "name": "stdout",
     "output_type": "stream",
     "text": [
      "['count', 'index', 'start', 'step', 'stop']\n"
     ]
    }
   ],
   "source": [
    "print([method for method in dir(range) if not method.startswith(\"_\")])"
   ]
  },
  {
   "cell_type": "markdown",
   "id": "f6d009fb",
   "metadata": {},
   "source": [
    "|||\n",
    "|-|-|\n",
    "|range()|linspace()|\n",
    "|inclusived-exclusived value|inclusived-inclusivedvalue|"
   ]
  },
  {
   "cell_type": "code",
   "execution_count": 45,
   "id": "7bbf3c6a",
   "metadata": {},
   "outputs": [],
   "source": [
    "a=list(range(2,10))"
   ]
  },
  {
   "cell_type": "code",
   "execution_count": 53,
   "id": "a104c22f-4ebb-43e8-89a4-c6f2efa287ee",
   "metadata": {},
   "outputs": [
    {
     "data": {
      "text/plain": [
       "[1, 2, 3, 7]"
      ]
     },
     "execution_count": 53,
     "metadata": {},
     "output_type": "execute_result"
    }
   ],
   "source": [
    "a=[1,3,7,2]\n",
    "a.sort()\n",
    "a"
   ]
  },
  {
   "cell_type": "code",
   "execution_count": null,
   "id": "5c701c37",
   "metadata": {},
   "outputs": [],
   "source": [
    "import numpy as np \n",
    "list(np.linspace(0,10,100).sort_values(ascending=False))"
   ]
  },
  {
   "cell_type": "code",
   "execution_count": 26,
   "id": "1debfb36",
   "metadata": {},
   "outputs": [
    {
     "data": {
      "text/plain": [
       "[2, 4, 6, 8]"
      ]
     },
     "execution_count": 26,
     "metadata": {},
     "output_type": "execute_result"
    }
   ],
   "source": [
    "list(range(2,10,2))"
   ]
  },
  {
   "cell_type": "markdown",
   "id": "65c3257f",
   "metadata": {},
   "source": [
    "# Casting (gán)"
   ]
  },
  {
   "cell_type": "code",
   "execution_count": 27,
   "id": "196746b7",
   "metadata": {},
   "outputs": [],
   "source": [
    "a = '1'"
   ]
  },
  {
   "cell_type": "code",
   "execution_count": 28,
   "id": "9cf454ff",
   "metadata": {},
   "outputs": [
    {
     "data": {
      "text/plain": [
       "str"
      ]
     },
     "execution_count": 28,
     "metadata": {},
     "output_type": "execute_result"
    }
   ],
   "source": [
    "type(a)"
   ]
  },
  {
   "cell_type": "code",
   "execution_count": 29,
   "id": "da79d8e9",
   "metadata": {
    "collapsed": true,
    "jupyter": {
     "outputs_hidden": true
    },
    "tags": []
   },
   "outputs": [
    {
     "data": {
      "text/plain": [
       "'11'"
      ]
     },
     "execution_count": 29,
     "metadata": {},
     "output_type": "execute_result"
    }
   ],
   "source": [
    "a*2"
   ]
  },
  {
   "cell_type": "code",
   "execution_count": 30,
   "id": "7d8648db",
   "metadata": {},
   "outputs": [],
   "source": [
    "#We have to check type of varibale carefully"
   ]
  },
  {
   "cell_type": "code",
   "execution_count": 31,
   "id": "1a6d1318",
   "metadata": {},
   "outputs": [
    {
     "data": {
      "text/plain": [
       "2"
      ]
     },
     "execution_count": 31,
     "metadata": {},
     "output_type": "execute_result"
    }
   ],
   "source": [
    "int(a)*2"
   ]
  },
  {
   "cell_type": "markdown",
   "id": "3230be68",
   "metadata": {},
   "source": [
    "- int \n",
    "- float()\n",
    "- str()"
   ]
  },
  {
   "cell_type": "code",
   "execution_count": 32,
   "id": "f36b4e9a",
   "metadata": {},
   "outputs": [],
   "source": [
    "#Check more information at Pythoncourse"
   ]
  },
  {
   "cell_type": "code",
   "execution_count": 33,
   "id": "6c80ff50",
   "metadata": {},
   "outputs": [
    {
     "data": {
      "text/plain": [
       "3"
      ]
     },
     "execution_count": 33,
     "metadata": {},
     "output_type": "execute_result"
    }
   ],
   "source": [
    "int(3.14)"
   ]
  },
  {
   "cell_type": "code",
   "execution_count": 34,
   "id": "66c6e9b5",
   "metadata": {},
   "outputs": [],
   "source": [
    "#Note that when we tabke the interger of float number, we just have intergeation part of float()"
   ]
  },
  {
   "cell_type": "code",
   "execution_count": 35,
   "id": "4e817b50",
   "metadata": {},
   "outputs": [],
   "source": [
    "#len: use to claculate the length of list or ..."
   ]
  },
  {
   "cell_type": "code",
   "execution_count": 36,
   "id": "2b10e6d8",
   "metadata": {},
   "outputs": [],
   "source": [
    "#Excercise:"
   ]
  },
  {
   "cell_type": "markdown",
   "id": "07893749",
   "metadata": {},
   "source": [
    "<p> Excercise </p>\n",
    "We have a list from 0 to 10\n",
    "Make lít containing exponenatation of each item in the list"
   ]
  },
  {
   "cell_type": "code",
   "execution_count": 37,
   "id": "fb525b05",
   "metadata": {},
   "outputs": [
    {
     "name": "stdout",
     "output_type": "stream",
     "text": [
      "[0, 1, 4, 9, 16, 25, 36, 49, 64, 81, 100]\n"
     ]
    }
   ],
   "source": [
    "newlist= []\n",
    "for i in range(0,11):\n",
    "    newlist.append(i**2)\n",
    "print(newlist)"
   ]
  },
  {
   "cell_type": "code",
   "execution_count": 38,
   "id": "7be6650a",
   "metadata": {},
   "outputs": [],
   "source": [
    "#calculate the N!"
   ]
  },
  {
   "cell_type": "code",
   "execution_count": null,
   "id": "0b9d437c",
   "metadata": {},
   "outputs": [],
   "source": [
    "x = input(\"Enter the value you wanna make the N!:\")\n",
    "value = 1\n",
    "for i in range(1,int(x)):\n",
    "    value = value * i\n",
    "final = value * int(x)\n",
    "print(final)"
   ]
  },
  {
   "cell_type": "markdown",
   "id": "1e249ccc",
   "metadata": {},
   "source": [
    "### 2.2 WHILE\n"
   ]
  },
  {
   "cell_type": "code",
   "execution_count": null,
   "id": "46e2eb78",
   "metadata": {},
   "outputs": [],
   "source": [
    "# While Condition:\n",
    "    #bussiness logic #indent \n",
    "    #break when condition is False"
   ]
  },
  {
   "cell_type": "code",
   "execution_count": null,
   "id": "71cea556",
   "metadata": {},
   "outputs": [],
   "source": [
    "while i <a:\n",
    "    print(f\"hello {i})#f is format\n",
    "    i +=1"
   ]
  },
  {
   "cell_type": "code",
   "execution_count": null,
   "id": "49edecda",
   "metadata": {},
   "outputs": [],
   "source": [
    "# Note that while is infinitive loop therefore pls controll welll"
   ]
  },
  {
   "cell_type": "code",
   "execution_count": null,
   "id": "42af8a88",
   "metadata": {},
   "outputs": [],
   "source": [
    "# String Format\n",
    "a = \"MCI\"\n",
    "b = \"Lession3\"\n",
    "print (a+b)"
   ]
  },
  {
   "cell_type": "code",
   "execution_count": null,
   "id": "932c1691",
   "metadata": {},
   "outputs": [],
   "source": [
    "print('Hello {}'.format(a))"
   ]
  },
  {
   "cell_type": "code",
   "execution_count": 61,
   "id": "2cb38b4b",
   "metadata": {},
   "outputs": [
    {
     "name": "stdout",
     "output_type": "stream",
     "text": [
      "hello MCI\n"
     ]
    }
   ],
   "source": [
    "print(\"hello %s\" %(a))"
   ]
  },
  {
   "cell_type": "code",
   "execution_count": 63,
   "id": "8f244b09",
   "metadata": {},
   "outputs": [
    {
     "name": "stdin",
     "output_type": "stream",
     "text": [
      "Enter Value: 8\n"
     ]
    },
    {
     "name": "stdout",
     "output_type": "stream",
     "text": [
      "Value 40320\n"
     ]
    }
   ],
   "source": [
    "#do N with while\n",
    "x = input(\"Enter Value:\")\n",
    "final =1\n",
    "x = int(x)\n",
    "while x >0:\n",
    "    final = final *x \n",
    "    x -=1\n",
    "print('Value {}'.format(final))"
   ]
  },
  {
   "cell_type": "code",
   "execution_count": 64,
   "id": "0aa92786",
   "metadata": {},
   "outputs": [],
   "source": [
    "#Note Hàm Truyền"
   ]
  },
  {
   "cell_type": "markdown",
   "id": "2e2ab430",
   "metadata": {},
   "source": [
    "## 3. Condition\n"
   ]
  },
  {
   "cell_type": "markdown",
   "id": "4bb65498",
   "metadata": {},
   "source": [
    "- syntax \n",
    " \n",
    " * if condition1:\n",
    " *   business logic1#intent \n",
    " * elif condition2:\n",
    " *   business logic2#intent\n",
    " * else:\n",
    " *   business logic3#intent"
   ]
  },
  {
   "cell_type": "code",
   "execution_count": 65,
   "id": "5faa4859",
   "metadata": {},
   "outputs": [
    {
     "name": "stdout",
     "output_type": "stream",
     "text": [
      "x ix smaller than y\n"
     ]
    }
   ],
   "source": [
    "x =1 \n",
    "y =3\n",
    "if x <y:\n",
    "    print ('x ix smaller than y')\n",
    "else:\n",
    "    print ('y is smaller than x')\n",
    "        "
   ]
  },
  {
   "cell_type": "markdown",
   "id": "0da765d7",
   "metadata": {},
   "source": [
    "### 4. Function\n",
    "- Build-in function\n",
    "- User-defined function"
   ]
  },
  {
   "cell_type": "code",
   "execution_count": 67,
   "id": "cf3246fe",
   "metadata": {},
   "outputs": [],
   "source": [
    "# def fucntion_name(arg1, arg2,....):\n",
    "    #bussiness logic\n",
    "    #return -->optional"
   ]
  },
  {
   "cell_type": "code",
   "execution_count": 75,
   "id": "5489b312",
   "metadata": {},
   "outputs": [
    {
     "name": "stdout",
     "output_type": "stream",
     "text": [
      "4\n"
     ]
    }
   ],
   "source": [
    "li = [1,2,3,5]\n",
    "def length_list(li):\n",
    "    #bussiness logic\n",
    "    length = li.index(li[-1])+1\n",
    "    #return -->optional\n",
    "    return length\n",
    "print(length_list(li))\n"
   ]
  },
  {
   "cell_type": "markdown",
   "id": "30ddf26f",
   "metadata": {},
   "source": [
    "- sum \n",
    "- average()\n"
   ]
  },
  {
   "cell_type": "code",
   "execution_count": 74,
   "id": "d3abcab9",
   "metadata": {},
   "outputs": [],
   "source": [
    "def sum_abc(li):\n",
    "    sum_value = 0\n",
    "    for i in li:\n",
    "        sum_value+=i\n",
    "    return sum_value"
   ]
  },
  {
   "cell_type": "code",
   "execution_count": 76,
   "id": "fa8fea96",
   "metadata": {},
   "outputs": [
    {
     "data": {
      "text/plain": [
       "11"
      ]
     },
     "execution_count": 76,
     "metadata": {},
     "output_type": "execute_result"
    }
   ],
   "source": [
    "sum_abc(li)"
   ]
  },
  {
   "cell_type": "code",
   "execution_count": 77,
   "id": "f76f8eaf",
   "metadata": {},
   "outputs": [],
   "source": [
    "def average_abc(li):\n",
    "    sum_value = 0\n",
    "    for i in li:\n",
    "        sum_value+=i\n",
    "    return sum_value/len(li)"
   ]
  },
  {
   "cell_type": "code",
   "execution_count": 82,
   "id": "a93c21f3",
   "metadata": {},
   "outputs": [
    {
     "data": {
      "text/plain": [
       "2.75"
      ]
     },
     "execution_count": 82,
     "metadata": {},
     "output_type": "execute_result"
    }
   ],
   "source": [
    "average_abc(li)"
   ]
  },
  {
   "cell_type": "markdown",
   "id": "0924fc3a",
   "metadata": {},
   "source": [
    "**Anoynimous fucntion**"
   ]
  },
  {
   "cell_type": "markdown",
   "id": "89aaa733",
   "metadata": {},
   "source": [
    "syntax: Output = lambla datastruture:datascture and algorithms"
   ]
  },
  {
   "cell_type": "code",
   "execution_count": 15,
   "id": "df1f4f41",
   "metadata": {},
   "outputs": [
    {
     "data": {
      "text/plain": [
       "4"
      ]
     },
     "execution_count": 15,
     "metadata": {},
     "output_type": "execute_result"
    }
   ],
   "source": [
    "y = lambda x: x**2\n",
    "y(2)"
   ]
  },
  {
   "cell_type": "markdown",
   "id": "e24f952c",
   "metadata": {},
   "source": [
    "### 5. Comprehension\n"
   ]
  },
  {
   "cell_type": "code",
   "execution_count": 23,
   "id": "91dac26c",
   "metadata": {},
   "outputs": [
    {
     "data": {
      "text/plain": [
       "[1, 4, 9]"
      ]
     },
     "execution_count": 23,
     "metadata": {},
     "output_type": "execute_result"
    }
   ],
   "source": [
    "li = [1,2,3]\n",
    "li2 = []\n",
    "for i in li:\n",
    "    li2.append(i**2)\n",
    "li2"
   ]
  },
  {
   "cell_type": "code",
   "execution_count": 24,
   "id": "d351d5b3",
   "metadata": {},
   "outputs": [
    {
     "data": {
      "text/plain": [
       "[1, 4, 9]"
      ]
     },
     "execution_count": 24,
     "metadata": {},
     "output_type": "execute_result"
    }
   ],
   "source": [
    "[i**2 for i in [1,2,3]]"
   ]
  },
  {
   "cell_type": "code",
   "execution_count": 25,
   "id": "779fd96a",
   "metadata": {},
   "outputs": [
    {
     "name": "stdout",
     "output_type": "stream",
     "text": [
      "[0, 1, 2, 3, 4, 5, 6, 7, 8, 9]\n"
     ]
    }
   ],
   "source": [
    "print([i for i in list(range(10))])"
   ]
  },
  {
   "cell_type": "code",
   "execution_count": 26,
   "id": "1b393e8c",
   "metadata": {},
   "outputs": [],
   "source": [
    "# Note Comprehension for leaning at home"
   ]
  },
  {
   "cell_type": "markdown",
   "id": "5f660700",
   "metadata": {},
   "source": [
    "note that we do not need to use [], it means that it is list"
   ]
  },
  {
   "cell_type": "code",
   "execution_count": 27,
   "id": "91f7d4ba",
   "metadata": {},
   "outputs": [
    {
     "data": {
      "text/plain": [
       "{1, 4, 9}"
      ]
     },
     "execution_count": 27,
     "metadata": {},
     "output_type": "execute_result"
    }
   ],
   "source": [
    "li3 = {i**2 for i in li } #for example we have the set\n",
    "li3"
   ]
  },
  {
   "cell_type": "code",
   "execution_count": 28,
   "id": "2ee30dfb",
   "metadata": {},
   "outputs": [
    {
     "data": {
      "text/plain": [
       "(1, 4, 9)"
      ]
     },
     "execution_count": 28,
     "metadata": {},
     "output_type": "execute_result"
    }
   ],
   "source": [
    "li3 = tuple(i**2 for i in li)# we have to call tuple instead of having to use the ()\n",
    "li3"
   ]
  },
  {
   "cell_type": "markdown",
   "id": "9f382bee",
   "metadata": {},
   "source": [
    "Excercise: return a list containning odd numbers giuven orginal list\n"
   ]
  },
  {
   "cell_type": "code",
   "execution_count": 29,
   "id": "e3a33ba9",
   "metadata": {},
   "outputs": [
    {
     "data": {
      "text/plain": [
       "[1, 3, 5, 9]"
      ]
     },
     "execution_count": 29,
     "metadata": {},
     "output_type": "execute_result"
    }
   ],
   "source": [
    "li = [1,2,3,4,5,6,8,9]\n",
    "li2 = [i for i in li if i%2 ==1]\n",
    "li2"
   ]
  },
  {
   "cell_type": "markdown",
   "id": "9ea0ce1c",
   "metadata": {},
   "source": [
    "Excercise: return a list containning \n",
    "- odd numbers giuven orginal list **2 \n",
    "- even item: x \n"
   ]
  },
  {
   "cell_type": "code",
   "execution_count": 30,
   "id": "0e222fca",
   "metadata": {},
   "outputs": [],
   "source": [
    "li = [1,2,3,4,5,6,8,9]\n",
    "li2 = [i**2 if i%2 ==1 else i for i in li]"
   ]
  },
  {
   "cell_type": "code",
   "execution_count": 31,
   "id": "c70174d0",
   "metadata": {},
   "outputs": [
    {
     "data": {
      "text/plain": [
       "[1, 2, 9, 4, 25, 6, 8, 81]"
      ]
     },
     "execution_count": 31,
     "metadata": {},
     "output_type": "execute_result"
    }
   ],
   "source": [
    "li2"
   ]
  },
  {
   "cell_type": "code",
   "execution_count": 32,
   "id": "231b7eec",
   "metadata": {},
   "outputs": [],
   "source": [
    "li4 = [[1,2,3],\n",
    "       [2,3,4],\n",
    "       [7,8,9]]\n"
   ]
  },
  {
   "cell_type": "code",
   "execution_count": 33,
   "id": "e84b6fa7",
   "metadata": {},
   "outputs": [
    {
     "data": {
      "text/plain": [
       "[1, 2, 3, 2, 3, 4, 7, 8, 9]"
      ]
     },
     "execution_count": 33,
     "metadata": {},
     "output_type": "execute_result"
    }
   ],
   "source": [
    "[i for sub_li in li4 for i in sub_li] # chỉ sử dụng 1-2 vòng loop"
   ]
  },
  {
   "cell_type": "markdown",
   "id": "aa036ff9",
   "metadata": {},
   "source": [
    "For more detail of Comprehension we can access it at: https://viblo.asia/p/su-dung-comprehensions-trong-python-pVYRPjJEG4ng"
   ]
  },
  {
   "cell_type": "markdown",
   "id": "5c0f9594",
   "metadata": {},
   "source": [
    "syntax: f(x) for x in interable if i condion "
   ]
  },
  {
   "cell_type": "code",
   "execution_count": 54,
   "id": "defd5b67",
   "metadata": {},
   "outputs": [],
   "source": [
    "li = [1,2,3,4,5,6,7,9]"
   ]
  },
  {
   "cell_type": "code",
   "execution_count": 55,
   "id": "2f8199ec",
   "metadata": {},
   "outputs": [],
   "source": [
    "a= [i for i in li if i%2==1]"
   ]
  },
  {
   "cell_type": "code",
   "execution_count": 56,
   "id": "48c32ad9",
   "metadata": {},
   "outputs": [
    {
     "data": {
      "text/plain": [
       "[1, 3, 5, 7, 9]"
      ]
     },
     "execution_count": 56,
     "metadata": {},
     "output_type": "execute_result"
    }
   ],
   "source": [
    "a"
   ]
  },
  {
   "cell_type": "code",
   "execution_count": 65,
   "id": "4965cf34",
   "metadata": {},
   "outputs": [],
   "source": [
    "a = [i^2 if i%2==0 else i for i in a]#Note that if we have else we have to move if and else to in front of for"
   ]
  },
  {
   "cell_type": "code",
   "execution_count": 66,
   "id": "d6a61345",
   "metadata": {},
   "outputs": [
    {
     "data": {
      "text/plain": [
       "[1, 6, 3, 18, 5, 38, 7, 9]"
      ]
     },
     "execution_count": 66,
     "metadata": {},
     "output_type": "execute_result"
    }
   ],
   "source": [
    "a"
   ]
  },
  {
   "cell_type": "markdown",
   "id": "81622e6f",
   "metadata": {},
   "source": [
    "syntax with else: f(x) if condition1 g(x) if condition2 else h(x) for i in interable"
   ]
  },
  {
   "cell_type": "code",
   "execution_count": 63,
   "id": "50934810",
   "metadata": {},
   "outputs": [
    {
     "name": "stdout",
     "output_type": "stream",
     "text": [
      "[4, 16, 5, 36, 7, 9]\n"
     ]
    }
   ],
   "source": [
    "print([i for i in a if i>3])"
   ]
  },
  {
   "cell_type": "code",
   "execution_count": 67,
   "id": "8019e160-1b28-4bd2-9d3c-043387051aa8",
   "metadata": {},
   "outputs": [],
   "source": [
    "#Comprehension"
   ]
  },
  {
   "cell_type": "markdown",
   "id": "70cd1794-d1f1-48d6-ac8e-7c7891279df3",
   "metadata": {},
   "source": [
    "* Tóm lại, để tạo ra một list ta dùng:[f(x) for x in iterable if condition ]\n",
    "* và sử dụng cú pháp dưới đây để tạo set hoặc dict:  { f(x) for x in iterable if condition } "
   ]
  },
  {
   "cell_type": "code",
   "execution_count": 69,
   "id": "10e59417-7f71-430b-b55b-057c36288e76",
   "metadata": {},
   "outputs": [
    {
     "data": {
      "text/plain": [
       "[2, 6, 3, 18, 5, 38, 7, 9]"
      ]
     },
     "execution_count": 69,
     "metadata": {},
     "output_type": "execute_result"
    }
   ],
   "source": [
    "# for multiple conditions\n",
    "a\n",
    "[value*2 if value==1 else value for value in a]"
   ]
  }
 ],
 "metadata": {
  "kernelspec": {
   "display_name": "Python 3",
   "language": "python",
   "name": "python3"
  },
  "language_info": {
   "codemirror_mode": {
    "name": "ipython",
    "version": 3
   },
   "file_extension": ".py",
   "mimetype": "text/x-python",
   "name": "python",
   "nbconvert_exporter": "python",
   "pygments_lexer": "ipython3",
   "version": "3.7.0"
  }
 },
 "nbformat": 4,
 "nbformat_minor": 5
}
