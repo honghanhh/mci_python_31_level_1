{
 "cells": [
  {
   "cell_type": "markdown",
   "id": "ee40e72c-5361-43e3-92b1-55bbc777d82e",
   "metadata": {},
   "source": [
    "<center> Lesson 4: Introduction to Numpy\n",
    "   "
   ]
  },
  {
   "cell_type": "markdown",
   "id": "cdae81cd-a045-4e72-a9a7-f8b874a4b4c7",
   "metadata": {},
   "source": [
    "### Introduction"
   ]
  },
  {
   "cell_type": "markdown",
   "id": "fa7aef88-b27b-4fd6-8b54-bf52f96e242a",
   "metadata": {},
   "source": [
    "![](data:image/png;base64,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)"
   ]
  },
  {
   "cell_type": "markdown",
   "id": "3ceb649d-fee0-41b5-841c-3d6643d46bda",
   "metadata": {},
   "source": [
    "Numerical Python = multidimensional array + matrix data structure"
   ]
  },
  {
   "cell_type": "markdown",
   "id": "96fdc03e-4194-48e1-9eaa-188887c959f0",
   "metadata": {},
   "source": [
    "### Installation"
   ]
  },
  {
   "cell_type": "markdown",
   "id": "48b128f2-fb9f-4bb5-bb5e-f654f4685109",
   "metadata": {},
   "source": [
    "- Install when creating a virtual/conda environment\n",
    "```\n",
    "conda create -n hanh python=3.7 numpy pandas...\n",
    "```\n",
    "- Install via 'conda' or 'pip'\n",
    "```\n",
    "conda install numpy\n",
    "```\n",
    "pip install numpy"
   ]
  },
  {
   "cell_type": "code",
   "execution_count": 1,
   "id": "19625599-a0c8-48a8-b4dc-732dc5149314",
   "metadata": {},
   "outputs": [
    {
     "name": "stdout",
     "output_type": "stream",
     "text": [
      "Collecting scikit-learn\n",
      "  Downloading scikit_learn-0.24.2-cp37-cp37m-macosx_10_13_x86_64.whl (7.2 MB)\n",
      "\u001b[K     |████████████████████████████████| 7.2 MB 6.8 MB/s eta 0:00:01\n",
      "\u001b[?25hCollecting joblib>=0.11\n",
      "  Downloading joblib-1.0.1-py3-none-any.whl (303 kB)\n",
      "\u001b[K     |████████████████████████████████| 303 kB 7.8 MB/s eta 0:00:01\n",
      "\u001b[?25hRequirement already satisfied: numpy>=1.13.3 in /Users/liamnguyen/opt/anaconda3/envs/long/lib/python3.7/site-packages (from scikit-learn) (1.20.2)\n",
      "Requirement already satisfied: scipy>=0.19.1 in /Users/liamnguyen/opt/anaconda3/envs/long/lib/python3.7/site-packages (from scikit-learn) (1.6.2)\n",
      "Collecting threadpoolctl>=2.0.0\n",
      "  Downloading threadpoolctl-2.1.0-py3-none-any.whl (12 kB)\n",
      "Installing collected packages: threadpoolctl, joblib, scikit-learn\n",
      "Successfully installed joblib-1.0.1 scikit-learn-0.24.2 threadpoolctl-2.1.0\n"
     ]
    }
   ],
   "source": [
    "!pip install scikit-learn #machine learning"
   ]
  },
  {
   "cell_type": "markdown",
   "id": "11912aa0-34da-42c8-9bea-5ec2d00fc881",
   "metadata": {},
   "source": [
    "### Import"
   ]
  },
  {
   "cell_type": "code",
   "execution_count": 3,
   "id": "46375dc9-ebd6-4692-97ed-9560388862d3",
   "metadata": {},
   "outputs": [],
   "source": [
    "import numpy as np #vào thư viện numpy viết tắt bằng np"
   ]
  },
  {
   "cell_type": "markdown",
   "id": "2fd3a420-1072-457c-84d3-645b4bace319",
   "metadata": {},
   "source": [
    "__Vectorization__"
   ]
  },
  {
   "cell_type": "code",
   "execution_count": 4,
   "id": "209d323c-14fb-427a-8820-7e7217396c5d",
   "metadata": {},
   "outputs": [],
   "source": [
    "li = [1, 2, 3]"
   ]
  },
  {
   "cell_type": "code",
   "execution_count": 5,
   "id": "5020dcf9-d1ef-4a9e-8913-993d80d80d3e",
   "metadata": {},
   "outputs": [],
   "source": [
    "li1 = [4, 5, 6]"
   ]
  },
  {
   "cell_type": "code",
   "execution_count": 6,
   "id": "79c49bb6-8eb6-4fec-9ab9-58d5cdff475d",
   "metadata": {},
   "outputs": [
    {
     "data": {
      "text/plain": [
       "array([5, 7, 9])"
      ]
     },
     "execution_count": 6,
     "metadata": {},
     "output_type": "execute_result"
    }
   ],
   "source": [
    "arr = np.array([1, 2, 3])\n",
    "arr1 = np.array([4, 5, 6])\n",
    "arr + arr1"
   ]
  },
  {
   "cell_type": "markdown",
   "id": "cef9eccd-0c67-46c3-8b2e-32a0689ca38e",
   "metadata": {},
   "source": [
    "__Broadcasting__"
   ]
  },
  {
   "cell_type": "markdown",
   "id": "831cd5f4-3de7-4aa0-8e9f-fdb17370520e",
   "metadata": {},
   "source": [
    "### Basics"
   ]
  },
  {
   "cell_type": "markdown",
   "id": "97b27bce-3161-44f5-bea1-3b335558e356",
   "metadata": {},
   "source": [
    "ndarray = N-dimensional array"
   ]
  },
  {
   "cell_type": "markdown",
   "id": "1d04397e-4bfd-4073-8b1b-50b0bdd80952",
   "metadata": {},
   "source": [
    "- 0-D array: Scalar\n",
    "- 1-D array: Vector\n",
    "- 2-D array: Matrix\n",
    "- 3-D array: Tensor"
   ]
  },
  {
   "cell_type": "markdown",
   "id": "92f56119-d4aa-46a7-846b-75abacd5e25e",
   "metadata": {},
   "source": [
    "__Creating an array__"
   ]
  },
  {
   "cell_type": "markdown",
   "id": "bb16872f-d464-4843-adcf-4aafd49090fd",
   "metadata": {},
   "source": [
    "`np.array()`"
   ]
  },
  {
   "cell_type": "code",
   "execution_count": 10,
   "id": "a193c49e-8770-42ea-b591-202834917f46",
   "metadata": {},
   "outputs": [],
   "source": [
    "li = [1, 3.14, 'str']"
   ]
  },
  {
   "cell_type": "code",
   "execution_count": 11,
   "id": "b0fe098d-d67c-4dc5-a50b-13253da1bf7f",
   "metadata": {},
   "outputs": [
    {
     "data": {
      "text/plain": [
       "[1, 3.14, 'str']"
      ]
     },
     "execution_count": 11,
     "metadata": {},
     "output_type": "execute_result"
    }
   ],
   "source": [
    "li"
   ]
  },
  {
   "cell_type": "code",
   "execution_count": 13,
   "id": "482e4d5e-0f73-4562-bd3e-051fd634cc07",
   "metadata": {},
   "outputs": [
    {
     "data": {
      "text/plain": [
       "(int, float, str)"
      ]
     },
     "execution_count": 13,
     "metadata": {},
     "output_type": "execute_result"
    }
   ],
   "source": [
    "type(li[0]),type(li[1]),type(li[2])"
   ]
  },
  {
   "cell_type": "code",
   "execution_count": 14,
   "id": "afcf39e1-ea10-4f5e-a75c-684a05c45a95",
   "metadata": {},
   "outputs": [
    {
     "data": {
      "text/plain": [
       "(numpy.int64, numpy.int64, numpy.int64)"
      ]
     },
     "execution_count": 14,
     "metadata": {},
     "output_type": "execute_result"
    }
   ],
   "source": [
    "arr = np.array([1, 2, 3])\n",
    "type(arr[0]),type(arr[1]),type(arr[2])"
   ]
  },
  {
   "cell_type": "code",
   "execution_count": 15,
   "id": "5f3ed390-c469-4a4c-832a-43555320dca2",
   "metadata": {},
   "outputs": [],
   "source": [
    "arr1 = np.array(li) #casting into 1 type"
   ]
  },
  {
   "cell_type": "code",
   "execution_count": 16,
   "id": "16a4cbd8-e9a8-4ccd-8cff-c85435025888",
   "metadata": {},
   "outputs": [
    {
     "data": {
      "text/plain": [
       "array(['1', '3.14', 'str'], dtype='<U32')"
      ]
     },
     "execution_count": 16,
     "metadata": {},
     "output_type": "execute_result"
    }
   ],
   "source": [
    "arr1"
   ]
  },
  {
   "cell_type": "code",
   "execution_count": 18,
   "id": "59d89570-d63b-49cc-9780-4ad9f661d94d",
   "metadata": {},
   "outputs": [],
   "source": [
    "def addition(a,b): #viết hướng dẫn docstring\n",
    "    '''\n",
    "    sum of 2 numbers\n",
    "    \n",
    "    Parameters:\n",
    "    a: first number\n",
    "    b: second number\n",
    "    '''\n",
    "    return a+b"
   ]
  },
  {
   "cell_type": "code",
   "execution_count": 21,
   "id": "3c71ff59-7ba2-48b0-8c74-8ec85c3719d6",
   "metadata": {},
   "outputs": [
    {
     "data": {
      "text/plain": [
       "array(['1', '3.14', 'str'], dtype='<U32')"
      ]
     },
     "execution_count": 21,
     "metadata": {},
     "output_type": "execute_result"
    }
   ],
   "source": [
    "arr1 = np.array([1, 2, 3]) #array 1 dimension with 3 elements"
   ]
  },
  {
   "cell_type": "code",
   "execution_count": 23,
   "id": "bf14f81c-8ba9-4678-a770-a9b05f731e49",
   "metadata": {},
   "outputs": [
    {
     "data": {
      "text/plain": [
       "1"
      ]
     },
     "execution_count": 23,
     "metadata": {},
     "output_type": "execute_result"
    }
   ],
   "source": [
    "arr1.ndim #xác định array có bnh dimension"
   ]
  },
  {
   "cell_type": "code",
   "execution_count": 27,
   "id": "9e5c2075-3892-4b03-8568-0468ef14c52d",
   "metadata": {},
   "outputs": [],
   "source": [
    "arr1 = np.array([[1, 2, 3],[2, 3, 4]]) #array 2 dimension with 3 elements each"
   ]
  },
  {
   "cell_type": "code",
   "execution_count": 29,
   "id": "fb0bd45d-e353-4a6d-ba76-a7d5c0221c86",
   "metadata": {},
   "outputs": [
    {
     "data": {
      "text/plain": [
       "2"
      ]
     },
     "execution_count": 29,
     "metadata": {},
     "output_type": "execute_result"
    }
   ],
   "source": [
    "arr1.ndim"
   ]
  },
  {
   "cell_type": "code",
   "execution_count": 30,
   "id": "4fbfe849-e959-4754-8eeb-bcf9c5cb1f9f",
   "metadata": {},
   "outputs": [
    {
     "data": {
      "text/plain": [
       "(2, 3)"
      ]
     },
     "execution_count": 30,
     "metadata": {},
     "output_type": "execute_result"
    }
   ],
   "source": [
    "arr1.shape #dimension và mỗi phần tử của dimension"
   ]
  },
  {
   "cell_type": "code",
   "execution_count": 31,
   "id": "c5ebda49-eae9-4c1b-be94-92eb1a74e22c",
   "metadata": {},
   "outputs": [
    {
     "data": {
      "text/plain": [
       "2"
      ]
     },
     "execution_count": 31,
     "metadata": {},
     "output_type": "execute_result"
    }
   ],
   "source": [
    "len(arr1)"
   ]
  },
  {
   "cell_type": "code",
   "execution_count": 32,
   "id": "1be71cdb-8349-4755-88a0-50fdf2c72a03",
   "metadata": {},
   "outputs": [
    {
     "data": {
      "text/plain": [
       "6"
      ]
     },
     "execution_count": 32,
     "metadata": {},
     "output_type": "execute_result"
    }
   ],
   "source": [
    "arr1.size #đếm từng phần tử nhỏ"
   ]
  },
  {
   "cell_type": "markdown",
   "id": "368b9d5c-7218-490b-84f6-2e6263062fed",
   "metadata": {},
   "source": [
    "__Beside `np.array`,we use `np.zeros()`,`np.arange()`,`np,ones()`,`np.linspace()`,`np.full()`__"
   ]
  },
  {
   "cell_type": "markdown",
   "id": "cac4876a-bac6-4c78-8cb8-2b7c762d64cb",
   "metadata": {},
   "source": [
    "`np.random()`-> pseudo-random (random giả)"
   ]
  },
  {
   "cell_type": "code",
   "execution_count": 37,
   "id": "20e0a4a4-4d20-4d65-b72c-c22e31f59a1e",
   "metadata": {},
   "outputs": [
    {
     "data": {
      "text/plain": [
       "array([[0.73739844, 0.62496322, 0.08289583],\n",
       "       [0.91141725, 0.77138527, 0.31161281],\n",
       "       [0.8375942 , 0.0253583 , 0.05755164]])"
      ]
     },
     "execution_count": 37,
     "metadata": {},
     "output_type": "execute_result"
    }
   ],
   "source": [
    "np.random.random([3,3])"
   ]
  },
  {
   "cell_type": "code",
   "execution_count": 41,
   "id": "0d663cbb-52e1-4823-9bfc-a6e68fc3ad1f",
   "metadata": {},
   "outputs": [
    {
     "data": {
      "text/plain": [
       "398653"
      ]
     },
     "execution_count": 41,
     "metadata": {},
     "output_type": "execute_result"
    }
   ],
   "source": [
    "from datetime import datetime\n",
    "x = datetime.now().microsecond\n",
    "rand = 2*x+5\n",
    "rand"
   ]
  },
  {
   "cell_type": "code",
   "execution_count": 45,
   "id": "dff80d56-8bdd-4bfd-8563-6d99bb05416f",
   "metadata": {},
   "outputs": [
    {
     "data": {
      "text/plain": [
       "array([[ 0.07135269,  1.80434914, -0.0986526 ],\n",
       "       [ 1.09662741, -0.63141084, -1.90200075],\n",
       "       [ 0.68425634,  0.39692497, -1.05940386]])"
      ]
     },
     "execution_count": 45,
     "metadata": {},
     "output_type": "execute_result"
    }
   ],
   "source": [
    "np.random.normal(0,1,(3,3)) #normal (Gaussian) distribution"
   ]
  },
  {
   "cell_type": "markdown",
   "id": "0e5c12c1-81c2-44d2-ade1-dd0e8a06c445",
   "metadata": {},
   "source": [
    "__Normal distribution__\n",
    "- ring-shaped\n",
    "- symetric via mean\n",
    "- mean represents central tendency of data's distribution (mean = median = mode)"
   ]
  },
  {
   "cell_type": "code",
   "execution_count": null,
   "id": "4c5fc695-dd3e-49cf-a6f5-a31c9b59aea9",
   "metadata": {},
   "outputs": [],
   "source": [
    "np.random.seed(0) # seed for reproducibility tái sử dụng"
   ]
  },
  {
   "cell_type": "markdown",
   "id": "0c1ad876-a1ce-4bba-b6a4-793e15f12ebd",
   "metadata": {},
   "source": [
    "__Save and load__"
   ]
  },
  {
   "cell_type": "code",
   "execution_count": 47,
   "id": "10162c0e-b48b-4307-8d65-90fe7f57c667",
   "metadata": {},
   "outputs": [],
   "source": [
    "np.savetxt('text.txt',arr)"
   ]
  },
  {
   "cell_type": "markdown",
   "id": "23c46ba0-8f61-4585-9791-277fbf14504d",
   "metadata": {},
   "source": [
    "__Index and Slicing__"
   ]
  },
  {
   "cell_type": "code",
   "execution_count": 57,
   "id": "01ced170-ab3c-499d-98ec-032c1e0f9b21",
   "metadata": {},
   "outputs": [],
   "source": [
    "arr = np.linspace(1,16,16).reshape(4,4)"
   ]
  },
  {
   "cell_type": "code",
   "execution_count": 58,
   "id": "a0224c48-2bbf-46cc-8dbc-e81671670510",
   "metadata": {},
   "outputs": [
    {
     "data": {
      "text/plain": [
       "array([[ 1.,  2.,  3.,  4.],\n",
       "       [ 5.,  6.,  7.,  8.],\n",
       "       [ 9., 10., 11., 12.],\n",
       "       [13., 14., 15., 16.]])"
      ]
     },
     "execution_count": 58,
     "metadata": {},
     "output_type": "execute_result"
    }
   ],
   "source": [
    "arr"
   ]
  },
  {
   "cell_type": "code",
   "execution_count": 59,
   "id": "a79181a2-0211-4ec7-b833-c362fa38bf4c",
   "metadata": {},
   "outputs": [
    {
     "data": {
      "text/plain": [
       "array([5., 6., 7., 8.])"
      ]
     },
     "execution_count": 59,
     "metadata": {},
     "output_type": "execute_result"
    }
   ],
   "source": [
    "arr[1,:]"
   ]
  },
  {
   "cell_type": "code",
   "execution_count": 60,
   "id": "6cc6bbd4-dfca-4295-beb9-e35a7a56f4d3",
   "metadata": {},
   "outputs": [
    {
     "data": {
      "text/plain": [
       "array([ 3.,  7., 11., 15.])"
      ]
     },
     "execution_count": 60,
     "metadata": {},
     "output_type": "execute_result"
    }
   ],
   "source": [
    "arr[:,2]"
   ]
  },
  {
   "cell_type": "code",
   "execution_count": 61,
   "id": "2e22988d-9ac4-45a0-a78f-21d3019bc15b",
   "metadata": {},
   "outputs": [
    {
     "data": {
      "text/plain": [
       "array([[1., 2.],\n",
       "       [5., 6.]])"
      ]
     },
     "execution_count": 61,
     "metadata": {},
     "output_type": "execute_result"
    }
   ],
   "source": [
    "arr[0:2,0:2]"
   ]
  },
  {
   "cell_type": "code",
   "execution_count": 67,
   "id": "aa5ffe20-1fd0-4af4-95c0-176861d7836a",
   "metadata": {},
   "outputs": [
    {
     "data": {
      "text/plain": [
       "array([[3., 4.],\n",
       "       [7., 8.]])"
      ]
     },
     "execution_count": 67,
     "metadata": {},
     "output_type": "execute_result"
    }
   ],
   "source": [
    "arr[0:2,2:4]"
   ]
  },
  {
   "cell_type": "markdown",
   "id": "d34d720c-a408-4259-aee2-c9dad110144e",
   "metadata": {},
   "source": [
    "__Basic Math__"
   ]
  },
  {
   "cell_type": "code",
   "execution_count": 68,
   "id": "4287a5f9-72e4-45a6-bd64-26d238755be1",
   "metadata": {},
   "outputs": [],
   "source": [
    "arr1 = np.array([[1,2],[3,4]])"
   ]
  },
  {
   "cell_type": "code",
   "execution_count": 69,
   "id": "bc8d06ae-ceea-4244-b54f-cbafc5b053e2",
   "metadata": {},
   "outputs": [],
   "source": [
    "arr2 = np.array([[11,12],[13,14]])"
   ]
  },
  {
   "cell_type": "code",
   "execution_count": 70,
   "id": "15ddfca4-3be4-456a-b9fb-2a5b01c9a1c5",
   "metadata": {},
   "outputs": [
    {
     "data": {
      "text/plain": [
       "array([[12, 14],\n",
       "       [16, 18]])"
      ]
     },
     "execution_count": 70,
     "metadata": {},
     "output_type": "execute_result"
    }
   ],
   "source": [
    "arr1 + arr2 #element-wise"
   ]
  },
  {
   "cell_type": "code",
   "execution_count": 71,
   "id": "029d2436-a898-4989-8cb2-048e96df8c7d",
   "metadata": {},
   "outputs": [],
   "source": [
    "# matrix multiplication"
   ]
  },
  {
   "cell_type": "code",
   "execution_count": 72,
   "id": "51759e4f-8c75-46c0-b83c-5b97245c6ddb",
   "metadata": {},
   "outputs": [
    {
     "data": {
      "text/plain": [
       "array([[37, 40],\n",
       "       [85, 92]])"
      ]
     },
     "execution_count": 72,
     "metadata": {},
     "output_type": "execute_result"
    }
   ],
   "source": [
    "arr1 @ arr2"
   ]
  },
  {
   "cell_type": "code",
   "execution_count": null,
   "id": "77d78519-4065-4cf0-8ac4-e6b7116708ab",
   "metadata": {},
   "outputs": [],
   "source": []
  }
 ],
 "metadata": {
  "kernelspec": {
   "display_name": "Python 3",
   "language": "python",
   "name": "python3"
  },
  "language_info": {
   "codemirror_mode": {
    "name": "ipython",
    "version": 3
   },
   "file_extension": ".py",
   "mimetype": "text/x-python",
   "name": "python",
   "nbconvert_exporter": "python",
   "pygments_lexer": "ipython3",
   "version": "3.7.10"
  }
 },
 "nbformat": 4,
 "nbformat_minor": 5
}
