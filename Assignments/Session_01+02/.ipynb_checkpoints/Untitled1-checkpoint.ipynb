{
 "cells": [
  {
   "cell_type": "code",
   "execution_count": 1,
   "id": "a2d48bbc-554f-4338-a24a-378fb6e83a35",
   "metadata": {},
   "outputs": [
    {
     "name": "stderr",
     "output_type": "stream",
     "text": [
      "'[]' is not recognized as an internal or external command,\n",
      "operable program or batch file.\n"
     ]
    }
   ],
   "source": [
    "![](https://gamek.vn/yua-mikami-he-lo-tam-su-ve-qua-khu-bo-nha-ra-o-rieng-cam-thay-may-man-trong-chuyen-quan-he-20210609144932655.chn)"
   ]
  },
  {
   "cell_type": "code",
   "execution_count": null,
   "id": "066b8396-d74b-4198-a8f2-be14804105aa",
   "metadata": {},
   "outputs": [],
   "source": []
  }
 ],
 "metadata": {
  "kernelspec": {
   "display_name": "Python 3",
   "language": "python",
   "name": "python3"
  },
  "language_info": {
   "codemirror_mode": {
    "name": "ipython",
    "version": 3
   },
   "file_extension": ".py",
   "mimetype": "text/x-python",
   "name": "python",
   "nbconvert_exporter": "python",
   "pygments_lexer": "ipython3",
   "version": "3.7.10"
  }
 },
 "nbformat": 4,
 "nbformat_minor": 5
}
