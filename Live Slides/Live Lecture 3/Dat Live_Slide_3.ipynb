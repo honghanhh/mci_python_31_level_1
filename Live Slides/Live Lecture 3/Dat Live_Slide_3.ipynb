{
 "cells": [
  {
   "cell_type": "code",
   "execution_count": 1,
   "id": "e540b0fd-6f9d-4469-8eeb-a5ac38cfb869",
   "metadata": {},
   "outputs": [],
   "source": [
    "# LESSION3"
   ]
  },
  {
   "cell_type": "markdown",
   "id": "986f0f79-bbe1-4754-be0a-4a37ced4c69e",
   "metadata": {},
   "source": [
    "## PROGRAMMING FLOW\n",
    "\n",
    "* Sequential: Step by step \n",
    "* Loop: For While\n",
    "* Condition: If else elif\n"
   ]
  },
  {
   "cell_type": "markdown",
   "id": "7d1014a8-657a-46ac-8acc-5952ae68e848",
   "metadata": {},
   "source": [
    "### 1. Sequential "
   ]
  },
  {
   "cell_type": "code",
   "execution_count": 3,
   "id": "66ea7cd3-c61f-4505-9583-6d4ef76e6a82",
   "metadata": {},
   "outputs": [
    {
     "name": "stdout",
     "output_type": "stream",
     "text": [
      "Hi all\n"
     ]
    }
   ],
   "source": [
    "print (\"Hi all\")"
   ]
  },
  {
   "cell_type": "markdown",
   "id": "5ea60b18-e8a3-480a-998e-bc86939af632",
   "metadata": {},
   "source": [
    "### 2.Loop\n"
   ]
  },
  {
   "cell_type": "markdown",
   "id": "e015f465-2b74-41bd-8887-c3ddcbf0462a",
   "metadata": {},
   "source": [
    "* Interation: process each element frequently\n",
    "- For \n",
    "- While"
   ]
  },
  {
   "cell_type": "markdown",
   "id": "3391f286-c741-4ae5-99c4-9e660e62d039",
   "metadata": {},
   "source": [
    "### 2.1. For "
   ]
  },
  {
   "cell_type": "markdown",
   "id": "2bbef545-1931-460f-aa34-ace4fb3eaed1",
   "metadata": {},
   "source": [
    "- for value in interable\n",
    "- do something \n",
    "- if need can break our continue whatever "
   ]
  },
  {
   "cell_type": "markdown",
   "id": "be0c7e9a-7b86-4b1c-a817-1890eedbfb64",
   "metadata": {},
   "source": [
    "- Use index: List Tuble Tupe Set Array"
   ]
  },
  {
   "cell_type": "code",
   "execution_count": 4,
   "id": "8b1b6564-9afa-4531-8420-727b2e12806d",
   "metadata": {},
   "outputs": [],
   "source": [
    "# for index in range(len(interable)):\n",
    "    #business logic "
   ]
  },
  {
   "cell_type": "code",
   "execution_count": 6,
   "id": "8e6e49dd-8bb5-4713-8a38-e7b5fee3717f",
   "metadata": {},
   "outputs": [],
   "source": [
    "#Tab in python we call: Indent \n",
    "# We just can use only Table or Sapce"
   ]
  },
  {
   "cell_type": "markdown",
   "id": "6dd14f9f-c34f-4f71-88cb-a21f9ef20f32",
   "metadata": {},
   "source": [
    "### 2.2. While"
   ]
  },
  {
   "cell_type": "code",
   "execution_count": 12,
   "id": "44a336d7-697e-475a-ad9f-c8982d10af5c",
   "metadata": {},
   "outputs": [],
   "source": [
    "# While Condition:\n",
    "    #bussiness logic #indent \n",
    "    #break when condition is False"
   ]
  },
  {
   "cell_type": "code",
   "execution_count": 13,
   "id": "6296fbb8-7d6d-4e4e-8f4b-3893da96c935",
   "metadata": {},
   "outputs": [
    {
     "data": {
      "text/plain": [
       "range(0, 10)"
      ]
     },
     "execution_count": 13,
     "metadata": {},
     "output_type": "execute_result"
    }
   ],
   "source": [
    "range(10)"
   ]
  },
  {
   "cell_type": "code",
   "execution_count": 14,
   "id": "aaa71cbf-45b9-4986-a27e-ee90f06b6437",
   "metadata": {},
   "outputs": [
    {
     "name": "stdout",
     "output_type": "stream",
     "text": [
      "['count', 'index', 'start', 'step', 'stop']\n"
     ]
    }
   ],
   "source": [
    "print([method for method in dir(range) if not method.startswith(\"_\")])"
   ]
  },
  {
   "cell_type": "code",
   "execution_count": 15,
   "id": "f3d55a51-90c9-4958-88c5-acbf4494fa0e",
   "metadata": {},
   "outputs": [
    {
     "data": {
      "text/plain": [
       "[2, 3, 4, 5, 6, 7, 8, 9]"
      ]
     },
     "execution_count": 15,
     "metadata": {},
     "output_type": "execute_result"
    }
   ],
   "source": [
    "list (range(2,10))\n"
   ]
  },
  {
   "cell_type": "code",
   "execution_count": 16,
   "id": "39dc4de0-5fe8-4dd5-a9e0-40f978ea043e",
   "metadata": {},
   "outputs": [
    {
     "data": {
      "text/plain": [
       "[2, 4, 6, 8]"
      ]
     },
     "execution_count": 16,
     "metadata": {},
     "output_type": "execute_result"
    }
   ],
   "source": [
    "list(range(2,10,2))"
   ]
  },
  {
   "cell_type": "markdown",
   "id": "db442a5f-1a5a-466c-977e-211359b09dfa",
   "metadata": {},
   "source": [
    "# Casting (gán)"
   ]
  },
  {
   "cell_type": "code",
   "execution_count": 17,
   "id": "ce0368be-511a-4e0d-aa22-b9b917cd2331",
   "metadata": {},
   "outputs": [],
   "source": [
    "a = '1'"
   ]
  },
  {
   "cell_type": "code",
   "execution_count": 18,
   "id": "07d82549-ef6d-462a-9e8b-a2145b94a2d6",
   "metadata": {},
   "outputs": [
    {
     "data": {
      "text/plain": [
       "str"
      ]
     },
     "execution_count": 18,
     "metadata": {},
     "output_type": "execute_result"
    }
   ],
   "source": [
    "type(a)"
   ]
  },
  {
   "cell_type": "code",
   "execution_count": 19,
   "id": "5b3b01cb-1d4d-4542-9a84-918d10f5a47e",
   "metadata": {},
   "outputs": [
    {
     "data": {
      "text/plain": [
       "'11'"
      ]
     },
     "execution_count": 19,
     "metadata": {},
     "output_type": "execute_result"
    }
   ],
   "source": [
    "a*2"
   ]
  },
  {
   "cell_type": "code",
   "execution_count": 20,
   "id": "6ed61e9f-a6d0-404a-ac5a-5b9cf8035799",
   "metadata": {},
   "outputs": [],
   "source": [
    "#We have to check type of varibale carefully"
   ]
  },
  {
   "cell_type": "code",
   "execution_count": 21,
   "id": "c14837c7-13bb-4c2b-a7fe-ed7256b308f6",
   "metadata": {},
   "outputs": [
    {
     "data": {
      "text/plain": [
       "2"
      ]
     },
     "execution_count": 21,
     "metadata": {},
     "output_type": "execute_result"
    }
   ],
   "source": [
    "int(a)*2"
   ]
  },
  {
   "cell_type": "markdown",
   "id": "95821d8f-829f-4fe1-a636-9c137351b352",
   "metadata": {},
   "source": [
    "- int \n",
    "- float()\n",
    "- str()"
   ]
  },
  {
   "cell_type": "code",
   "execution_count": 22,
   "id": "bbe9a455-5e36-4fc0-a85a-2343292e2ff0",
   "metadata": {},
   "outputs": [],
   "source": [
    "#Check more information at Pythoncourse"
   ]
  },
  {
   "cell_type": "code",
   "execution_count": 23,
   "id": "58404c6c-53b8-420b-8df6-84f2d3dd781c",
   "metadata": {},
   "outputs": [
    {
     "data": {
      "text/plain": [
       "3"
      ]
     },
     "execution_count": 23,
     "metadata": {},
     "output_type": "execute_result"
    }
   ],
   "source": [
    "int(3.14)"
   ]
  },
  {
   "cell_type": "code",
   "execution_count": 24,
   "id": "7831c719-c100-409c-9751-77e3dc661a4d",
   "metadata": {},
   "outputs": [],
   "source": [
    "#Note that when we tabke the interger of float number, we just have intergeation part of float()"
   ]
  },
  {
   "cell_type": "code",
   "execution_count": 25,
   "id": "e251fe02-6236-4074-852b-4d1c874e8bb2",
   "metadata": {},
   "outputs": [],
   "source": [
    "#len: use to claculate the length of list or ..."
   ]
  },
  {
   "cell_type": "code",
   "execution_count": 26,
   "id": "490b6e5f-dc9d-49e0-b963-edab14c77ed9",
   "metadata": {},
   "outputs": [],
   "source": [
    "#Excercise:"
   ]
  },
  {
   "cell_type": "markdown",
   "id": "abe3e2e2-0d3e-4787-861f-4b99cfee4214",
   "metadata": {},
   "source": [
    "<p> Excercise </p>\n",
    "We have a list from 0 to 10\n",
    "Make lít containing exponenatation of each item in the list"
   ]
  },
  {
   "cell_type": "code",
   "execution_count": 32,
   "id": "85fee8ff-fc27-4513-9fd4-115d9208a6c8",
   "metadata": {},
   "outputs": [
    {
     "name": "stdout",
     "output_type": "stream",
     "text": [
      "[0, 1, 4, 9, 16, 25, 36, 49, 64, 81, 100]\n"
     ]
    }
   ],
   "source": [
    "newlist= []\n",
    "for i in range(0,11):\n",
    "    newlist.append(i**2)\n",
    "print(newlist)"
   ]
  },
  {
   "cell_type": "code",
   "execution_count": 33,
   "id": "10fc9669-1edb-44db-bc89-a0c442fa32d3",
   "metadata": {},
   "outputs": [],
   "source": [
    "#calculate the N!"
   ]
  },
  {
   "cell_type": "code",
   "execution_count": 41,
   "id": "f6e12730-dfc4-442b-bd67-17f4c876d0e4",
   "metadata": {},
   "outputs": [
    {
     "name": "stdin",
     "output_type": "stream",
     "text": [
      "Enter the value you wanna make the N!: 8\n"
     ]
    },
    {
     "name": "stdout",
     "output_type": "stream",
     "text": [
      "40320\n"
     ]
    }
   ],
   "source": [
    "x = input(\"Enter the value you wanna make the N!:\")\n",
    "value = 1\n",
    "for i in range(1,int(x)):\n",
    "    value = value * i\n",
    "final = value * int(x)\n",
    "print(final)"
   ]
  },
  {
   "cell_type": "markdown",
   "id": "469c6cc2-57f9-41b3-bfdf-dfb228c0b167",
   "metadata": {},
   "source": [
    "### 2.2 WHILE\n"
   ]
  },
  {
   "cell_type": "code",
   "execution_count": 42,
   "id": "7e05f32f-faa4-45e4-85f7-0c9a73270009",
   "metadata": {},
   "outputs": [],
   "source": [
    "# While Condition:\n",
    "    #bussiness logic #indent \n",
    "    #break when condition is False"
   ]
  },
  {
   "cell_type": "code",
   "execution_count": 86,
   "id": "c87b4983-5b68-49b6-8cfa-698f40f60a41",
   "metadata": {},
   "outputs": [
    {
     "ename": "SyntaxError",
     "evalue": "EOL while scanning string literal (<ipython-input-86-926cfe1574f2>, line 2)",
     "output_type": "error",
     "traceback": [
      "\u001b[0;36m  File \u001b[0;32m\"<ipython-input-86-926cfe1574f2>\"\u001b[0;36m, line \u001b[0;32m2\u001b[0m\n\u001b[0;31m    print(f\"hello {i})#f is format\u001b[0m\n\u001b[0m                                  ^\u001b[0m\n\u001b[0;31mSyntaxError\u001b[0m\u001b[0;31m:\u001b[0m EOL while scanning string literal\n"
     ]
    }
   ],
   "source": [
    "while i <a:\n",
    "    print(f\"hello {i})#f is format\n",
    "    i +=1"
   ]
  },
  {
   "cell_type": "code",
   "execution_count": 46,
   "id": "776f611f-dc91-4ae0-8e7f-2a4551dbe5dd",
   "metadata": {},
   "outputs": [],
   "source": [
    "# Note that while is infinitive loop therefore pls controll welll"
   ]
  },
  {
   "cell_type": "code",
   "execution_count": 52,
   "id": "acdf962e-e840-4d89-a851-20d13d4a57bf",
   "metadata": {},
   "outputs": [
    {
     "name": "stdout",
     "output_type": "stream",
     "text": [
      "MCILession3\n"
     ]
    }
   ],
   "source": [
    "# String Format\n",
    "a = \"MCI\"\n",
    "b = \"Lession3\"\n",
    "print (a+b)"
   ]
  },
  {
   "cell_type": "code",
   "execution_count": 53,
   "id": "2838bc77-f6fb-4ec4-879c-e73b39e01467",
   "metadata": {},
   "outputs": [
    {
     "name": "stdout",
     "output_type": "stream",
     "text": [
      "Hello MCI\n"
     ]
    }
   ],
   "source": [
    "print('Hello {}'.format(a))"
   ]
  },
  {
   "cell_type": "code",
   "execution_count": 61,
   "id": "34b4fd73-542a-4d6b-a21d-73489669173e",
   "metadata": {},
   "outputs": [
    {
     "name": "stdout",
     "output_type": "stream",
     "text": [
      "hello MCI\n"
     ]
    }
   ],
   "source": [
    "print(\"hello %s\" %(a))"
   ]
  },
  {
   "cell_type": "code",
   "execution_count": 63,
   "id": "e9874c05-7399-454d-8d59-9c467b7c2d73",
   "metadata": {},
   "outputs": [
    {
     "name": "stdin",
     "output_type": "stream",
     "text": [
      "Enter Value: 8\n"
     ]
    },
    {
     "name": "stdout",
     "output_type": "stream",
     "text": [
      "Value 40320\n"
     ]
    }
   ],
   "source": [
    "#do N with while\n",
    "x = input(\"Enter Value:\")\n",
    "final =1\n",
    "x = int(x)\n",
    "while x >0:\n",
    "    final = final *x \n",
    "    x -=1\n",
    "print('Value {}'.format(final))"
   ]
  },
  {
   "cell_type": "code",
   "execution_count": 64,
   "id": "372d597b-090c-4957-9e05-be9cf59f33bd",
   "metadata": {},
   "outputs": [],
   "source": [
    "#Note Hàm Truyền"
   ]
  },
  {
   "cell_type": "markdown",
   "id": "f308892e-f2e3-4efb-aa42-8e14beca37f4",
   "metadata": {},
   "source": [
    "## 3. Condition\n"
   ]
  },
  {
   "cell_type": "markdown",
   "id": "d594fde5-3442-4f60-9c29-c52b54d93b3d",
   "metadata": {},
   "source": [
    "- syntax \n",
    " \n",
    " * if condition1:\n",
    " *   business logic1#intent \n",
    " * elif condition2:\n",
    " *   business logic2#intent\n",
    " * else:\n",
    " *   business logic3#intent"
   ]
  },
  {
   "cell_type": "code",
   "execution_count": 65,
   "id": "e4a4d35a-ed39-49d4-8eef-1ea3411f64ff",
   "metadata": {},
   "outputs": [
    {
     "name": "stdout",
     "output_type": "stream",
     "text": [
      "x ix smaller than y\n"
     ]
    }
   ],
   "source": [
    "x =1 \n",
    "y =3\n",
    "if x <y:\n",
    "    print ('x ix smaller than y')\n",
    "else:\n",
    "    print ('y is smaller than x')\n",
    "        "
   ]
  },
  {
   "cell_type": "markdown",
   "id": "077ed2c6-5851-410f-ac26-117a96b11de1",
   "metadata": {},
   "source": [
    "### 4. Function\n",
    "- Build-in function\n",
    "- User-defined function"
   ]
  },
  {
   "cell_type": "code",
   "execution_count": 67,
   "id": "93713853-33d5-4cf2-9401-350c7eb86d1a",
   "metadata": {},
   "outputs": [],
   "source": [
    "# def fucntion_name(arg1, arg2,....):\n",
    "    #bussiness logic\n",
    "    #return -->optional"
   ]
  },
  {
   "cell_type": "code",
   "execution_count": 75,
   "id": "90b85adf-0935-40bc-9796-482c914b8c3b",
   "metadata": {},
   "outputs": [
    {
     "name": "stdout",
     "output_type": "stream",
     "text": [
      "4\n"
     ]
    }
   ],
   "source": [
    "li = [1,2,3,5]\n",
    "def length_list(li):\n",
    "    #bussiness logic\n",
    "    length = li.index(li[-1])+1\n",
    "    #return -->optional\n",
    "    return length\n",
    "print(length_list(li))\n"
   ]
  },
  {
   "cell_type": "markdown",
   "id": "ab04b824-6679-4275-adb7-30ec0bbdfd87",
   "metadata": {},
   "source": [
    "- sum \n",
    "- average()\n"
   ]
  },
  {
   "cell_type": "code",
   "execution_count": 74,
   "id": "eb9bb9bd-0bc0-42c5-9e57-76ea9f2aa5d3",
   "metadata": {},
   "outputs": [],
   "source": [
    "def sum_abc(li):\n",
    "    sum_value = 0\n",
    "    for i in li:\n",
    "        sum_value+=i\n",
    "    return sum_value"
   ]
  },
  {
   "cell_type": "code",
   "execution_count": 76,
   "id": "49022f55-3d9f-4462-a759-1ffb24a693d2",
   "metadata": {},
   "outputs": [
    {
     "data": {
      "text/plain": [
       "11"
      ]
     },
     "execution_count": 76,
     "metadata": {},
     "output_type": "execute_result"
    }
   ],
   "source": [
    "sum_abc(li)"
   ]
  },
  {
   "cell_type": "code",
   "execution_count": 77,
   "id": "27e69e7b-edbe-4e96-b239-e149a96b4149",
   "metadata": {},
   "outputs": [],
   "source": [
    "def average_abc(li):\n",
    "    sum_value = 0\n",
    "    for i in li:\n",
    "        sum_value+=i\n",
    "    return sum_value/len(li)"
   ]
  },
  {
   "cell_type": "code",
   "execution_count": 82,
   "id": "a6e4c386-7b87-4244-81f4-dcb3d1a86528",
   "metadata": {},
   "outputs": [
    {
     "data": {
      "text/plain": [
       "2.75"
      ]
     },
     "execution_count": 82,
     "metadata": {},
     "output_type": "execute_result"
    }
   ],
   "source": [
    "average_abc(li)"
   ]
  },
  {
   "cell_type": "markdown",
   "id": "d9dfd7c4-acd8-435a-87c7-a4d359eb62ad",
   "metadata": {},
   "source": [
    "** Anoynimous fucntio**"
   ]
  },
  {
   "cell_type": "code",
   "execution_count": 84,
   "id": "db247b42-7d37-46f3-96e3-e5940ea3f6b8",
   "metadata": {},
   "outputs": [],
   "source": [
    "expo = lambda x : x**2 "
   ]
  },
  {
   "cell_type": "code",
   "execution_count": 85,
   "id": "228750d0-13a8-4bf9-bd74-d50fda47ad97",
   "metadata": {},
   "outputs": [
    {
     "data": {
      "text/plain": [
       "100"
      ]
     },
     "execution_count": 85,
     "metadata": {},
     "output_type": "execute_result"
    }
   ],
   "source": [
    "expo(10)"
   ]
  },
  {
   "cell_type": "markdown",
   "id": "bdb12e2e-7e88-4c8b-8342-78aac92decc5",
   "metadata": {},
   "source": [
    "### 5. Comprehension\n"
   ]
  },
  {
   "cell_type": "code",
   "execution_count": 87,
   "id": "bd9af1e6-0415-4ad1-aa9a-d2145ff80eaf",
   "metadata": {},
   "outputs": [
    {
     "data": {
      "text/plain": [
       "[1, 4, 9]"
      ]
     },
     "execution_count": 87,
     "metadata": {},
     "output_type": "execute_result"
    }
   ],
   "source": [
    "li = [1,2,3]\n",
    "li2 = []\n",
    "for i in li:\n",
    "    li2.append(i**2)\n",
    "li2"
   ]
  },
  {
   "cell_type": "code",
   "execution_count": 88,
   "id": "a8970bb0-0f14-4e5b-9a62-305a221c453f",
   "metadata": {},
   "outputs": [
    {
     "data": {
      "text/plain": [
       "[1, 4, 9]"
      ]
     },
     "execution_count": 88,
     "metadata": {},
     "output_type": "execute_result"
    }
   ],
   "source": [
    "li3 = [i**2 for i in li ]\n",
    "li3"
   ]
  },
  {
   "cell_type": "code",
   "execution_count": 89,
   "id": "af2f9579-4a81-494f-919d-153a2cc40edd",
   "metadata": {},
   "outputs": [],
   "source": [
    "# Note Comprehension for leaning at home"
   ]
  },
  {
   "cell_type": "code",
   "execution_count": 90,
   "id": "08ce34ec-3075-46d0-9d96-0cd76168dc86",
   "metadata": {},
   "outputs": [
    {
     "data": {
      "text/plain": [
       "{1, 4, 9}"
      ]
     },
     "execution_count": 90,
     "metadata": {},
     "output_type": "execute_result"
    }
   ],
   "source": [
    "li3 = {i**2 for i in li }\n",
    "li3"
   ]
  },
  {
   "cell_type": "code",
   "execution_count": 92,
   "id": "ede87302-c81b-463c-a52f-7a928f7e682b",
   "metadata": {},
   "outputs": [
    {
     "data": {
      "text/plain": [
       "(1, 4, 9)"
      ]
     },
     "execution_count": 92,
     "metadata": {},
     "output_type": "execute_result"
    }
   ],
   "source": [
    "li3 = tuple(i**2 for i in li)\n",
    "li3"
   ]
  },
  {
   "cell_type": "markdown",
   "id": "c90b4c94-0d1d-4138-8acb-8828ad2aa54c",
   "metadata": {},
   "source": [
    "Excercise: return a list containning odd numbers giuven orginal list\n"
   ]
  },
  {
   "cell_type": "code",
   "execution_count": 98,
   "id": "db3ad5a8-4dce-4cf6-b672-faf7d5bc2da9",
   "metadata": {},
   "outputs": [
    {
     "data": {
      "text/plain": [
       "[1, 3, 5, 9]"
      ]
     },
     "execution_count": 98,
     "metadata": {},
     "output_type": "execute_result"
    }
   ],
   "source": [
    "li = [1,2,3,4,5,6,8,9]\n",
    "li2 = [i for i in li if i%2 ==1]\n",
    "li2"
   ]
  },
  {
   "cell_type": "markdown",
   "id": "7e145be8-85a3-4a38-85e9-d046fd6bd534",
   "metadata": {},
   "source": [
    "Excercise: return a list containning \n",
    "- odd numbers giuven orginal list **2 \n",
    "- even item: x \n"
   ]
  },
  {
   "cell_type": "code",
   "execution_count": 123,
   "id": "e92fdc8e-46fc-46f8-9652-7dd0104a4a91",
   "metadata": {},
   "outputs": [],
   "source": [
    "li = [1,2,3,4,5,6,8,9]\n",
    "li2 = [i**2 if i%2 ==1 else i for i in li]"
   ]
  },
  {
   "cell_type": "code",
   "execution_count": 118,
   "id": "2d72859a-9d3b-4796-9f68-9c8c6a4fb0d7",
   "metadata": {},
   "outputs": [
    {
     "data": {
      "text/plain": [
       "[1, 2, 9, 4, 25, 6, 8, 81]"
      ]
     },
     "execution_count": 118,
     "metadata": {},
     "output_type": "execute_result"
    }
   ],
   "source": [
    "li2"
   ]
  },
  {
   "cell_type": "code",
   "execution_count": 124,
   "id": "cfc5897a-8b45-4e91-8e1c-af48afbff256",
   "metadata": {},
   "outputs": [],
   "source": [
    "li4 = [[1,2,3],\n",
    "       [2,3,4],\n",
    "       [7,8,9]]\n"
   ]
  },
  {
   "cell_type": "code",
   "execution_count": 127,
   "id": "7201b08f-8115-446a-9aa0-006cc5ac68c7",
   "metadata": {},
   "outputs": [
    {
     "data": {
      "text/plain": [
       "[1, 2, 3, 2, 3, 4, 7, 8, 9]"
      ]
     },
     "execution_count": 127,
     "metadata": {},
     "output_type": "execute_result"
    }
   ],
   "source": [
    "[i for sub_li in li4 for i in sub_li] # chỉ sử dụng 1-2 vòng loop"
   ]
  },
  {
   "cell_type": "code",
   "execution_count": null,
   "id": "06d28cce-ae4b-4f1c-b2f7-972871ad4949",
   "metadata": {},
   "outputs": [],
   "source": []
  }
 ],
 "metadata": {
  "kernelspec": {
   "display_name": "Python 3",
   "language": "python",
   "name": "python3"
  },
  "language_info": {
   "codemirror_mode": {
    "name": "ipython",
    "version": 3
   },
   "file_extension": ".py",
   "mimetype": "text/x-python",
   "name": "python",
   "nbconvert_exporter": "python",
   "pygments_lexer": "ipython3",
   "version": "3.7.0"
  }
 },
 "nbformat": 4,
 "nbformat_minor": 5
}
