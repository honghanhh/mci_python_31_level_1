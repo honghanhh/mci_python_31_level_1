{
 "cells": [
  {
   "cell_type": "markdown",
   "id": "a63a2c8e-1fe7-46df-9141-f0c6e8f9fd80",
   "metadata": {},
   "source": [
    "# <center> LESSON 4: Introduction to NUMPY </center>\n"
   ]
  },
  {
   "cell_type": "markdown",
   "id": "0a070b84-bdab-4b84-b456-15865cb3336d",
   "metadata": {},
   "source": [
    "![](https://gradfutures.princeton.edu/sites/gradprofdev/files/events/numpylogo_-_gabe_perez-giz.png)"
   ]
  },
  {
   "cell_type": "markdown",
   "id": "61140cb0-e258-4349-8534-83f78b820465",
   "metadata": {},
   "source": [
    "## 1.INTRODUCTION"
   ]
  },
  {
   "cell_type": "markdown",
   "id": "75fb744f-32cf-47a4-a7fb-53e3a8131dda",
   "metadata": {},
   "source": [
    "**NumPY** (Numerical Python) = multidimensional array + matrix data structure"
   ]
  },
  {
   "cell_type": "markdown",
   "id": "f60a2860-f111-4035-8adc-11643c213713",
   "metadata": {},
   "source": [
    "### 1.1 Installation"
   ]
  },
  {
   "cell_type": "markdown",
   "id": "ba5b8b69-8adf-441a-bcd3-25e5dc09543f",
   "metadata": {},
   "source": [
    "- Install when creating a virtual/conda enviroment\n",
    "```\n",
    "conda create -n h.minh python=3.7 numpy pandas\n",
    "```\n",
    "- Install via conda or pip \n",
    "```\n",
    "or\n",
    "```\n",
    "pip install numpy\n"
   ]
  },
  {
   "cell_type": "code",
   "execution_count": 1,
   "id": "811b6094-0ff0-4c88-a859-4c692e137597",
   "metadata": {},
   "outputs": [
    {
     "name": "stdout",
     "output_type": "stream",
     "text": [
      "Requirement already satisfied: numpy in c:\\users\\phuoc\\anaconda3\\envs\\h.minh\\lib\\site-packages (1.20.2)\n"
     ]
    }
   ],
   "source": [
    " !pip install numpy"
   ]
  },
  {
   "cell_type": "code",
   "execution_count": 4,
   "id": "9c10c9e8-0b7f-4bae-9a8d-cccaed68d662",
   "metadata": {},
   "outputs": [
    {
     "name": "stdout",
     "output_type": "stream",
     "text": [
      "Collecting scikit-learn\n",
      "  Downloading scikit_learn-0.24.2-cp37-cp37m-win_amd64.whl (6.8 MB)\n",
      "Collecting threadpoolctl>=2.0.0\n",
      "  Downloading threadpoolctl-2.1.0-py3-none-any.whl (12 kB)\n",
      "Requirement already satisfied: numpy>=1.13.3 in c:\\users\\phuoc\\anaconda3\\envs\\h.minh\\lib\\site-packages (from scikit-learn) (1.20.2)\n",
      "Requirement already satisfied: scipy>=0.19.1 in c:\\users\\phuoc\\anaconda3\\envs\\h.minh\\lib\\site-packages (from scikit-learn) (1.6.2)\n",
      "Collecting joblib>=0.11\n",
      "  Downloading joblib-1.0.1-py3-none-any.whl (303 kB)\n",
      "Installing collected packages: threadpoolctl, joblib, scikit-learn\n",
      "Successfully installed joblib-1.0.1 scikit-learn-0.24.2 threadpoolctl-2.1.0\n"
     ]
    }
   ],
   "source": [
    "!pip install scikit-learn "
   ]
  },
  {
   "cell_type": "markdown",
   "id": "f558218b-69a5-4f92-8510-6447e9bf6f1c",
   "metadata": {},
   "source": [
    "### 1.2 Import"
   ]
  },
  {
   "cell_type": "code",
   "execution_count": 2,
   "id": "d068cb3e-3c46-4b3c-b3e3-aedc1c9f5e75",
   "metadata": {},
   "outputs": [],
   "source": [
    "import numpy as np"
   ]
  },
  {
   "cell_type": "markdown",
   "id": "9b23a8bc-66e6-42ce-9c2b-a9437c187236",
   "metadata": {},
   "source": [
    "### 1.3 Why Numpy"
   ]
  },
  {
   "cell_type": "code",
   "execution_count": 7,
   "id": "27b024b0-b602-4885-92eb-5eab5bf64bed",
   "metadata": {},
   "outputs": [
    {
     "data": {
      "text/plain": [
       "array([3, 5, 7])"
      ]
     },
     "execution_count": 7,
     "metadata": {},
     "output_type": "execute_result"
    }
   ],
   "source": [
    "ar = np.array([1,2,3])\n",
    "ar1 = np.array([2,3,4])\n",
    "ar + ar1"
   ]
  },
  {
   "cell_type": "markdown",
   "id": "b8795e75-22a4-4d29-b210-30569c6ce35a",
   "metadata": {},
   "source": [
    "- broadcasting "
   ]
  },
  {
   "cell_type": "markdown",
   "id": "2dc36d0e-53e4-449f-8fac-e3462be3ee67",
   "metadata": {},
   "source": [
    "![](https://i.stack.imgur.com/JcKv1.png)"
   ]
  },
  {
   "cell_type": "markdown",
   "id": "1263000b-821b-469d-96d0-56e11b1d9396",
   "metadata": {},
   "source": [
    "# 2. BASICS"
   ]
  },
  {
   "cell_type": "markdown",
   "id": "412e4fa2-50c7-4848-bc41-604c5dcb8103",
   "metadata": {},
   "source": [
    "`ndarray` = N-dimensional array"
   ]
  },
  {
   "cell_type": "markdown",
   "id": "bf9cb2f8-48c8-4d81-bd7b-4178b7d25d3e",
   "metadata": {},
   "source": [
    "- 0-D array: Scalar\n",
    "- 1-D array: Vector\n",
    "- 2-D array: Matrix\n",
    "- 3-D array: Tensor"
   ]
  },
  {
   "cell_type": "markdown",
   "id": "5200fd7f-a6f9-4cb2-b375-13195241dfc7",
   "metadata": {},
   "source": [
    "### 2.1 Create an array"
   ]
  },
  {
   "cell_type": "markdown",
   "id": "fb747f04-a629-4a14-b5de-54e93ad18493",
   "metadata": {},
   "source": [
    "`np.array()`"
   ]
  },
  {
   "cell_type": "code",
   "execution_count": 7,
   "id": "caa82a3a-2bb8-4775-bb3c-d1951224da23",
   "metadata": {},
   "outputs": [
    {
     "data": {
      "text/plain": [
       "[1, 2.14, 'str']"
      ]
     },
     "execution_count": 7,
     "metadata": {},
     "output_type": "execute_result"
    }
   ],
   "source": [
    "li = [1, 2.14, 'str']\n",
    "li"
   ]
  },
  {
   "cell_type": "code",
   "execution_count": 5,
   "id": "ee3d6f10-0c9f-43ad-b35b-eca5c1f23cd1",
   "metadata": {},
   "outputs": [
    {
     "data": {
      "text/plain": [
       "(numpy.int32, numpy.int32, numpy.int32)"
      ]
     },
     "execution_count": 5,
     "metadata": {},
     "output_type": "execute_result"
    }
   ],
   "source": [
    "ar = np.array([1, 2, 3])\n",
    "type(ar[0]), type(ar[1]), type(ar[2])"
   ]
  },
  {
   "cell_type": "code",
   "execution_count": 8,
   "id": "2a1b3acf-2b4a-42bc-9aec-3d883fda060c",
   "metadata": {},
   "outputs": [
    {
     "data": {
      "text/plain": [
       "array(['1', '2.14', 'str'], dtype='<U32')"
      ]
     },
     "execution_count": 8,
     "metadata": {},
     "output_type": "execute_result"
    }
   ],
   "source": [
    "ar1 = np.array(li) #casting into 1 type\n",
    "ar1"
   ]
  },
  {
   "cell_type": "code",
   "execution_count": 9,
   "id": "89f8d161-ed6a-407d-b053-a9df12053b23",
   "metadata": {},
   "outputs": [],
   "source": [
    "def addition(a,b):\n",
    "    '''\n",
    "    sum of 2 numbers\n",
    "    \n",
    "    parameters\n",
    "    a: first number\n",
    "    b: second number\n",
    "    '''\n",
    "    return a+b"
   ]
  },
  {
   "cell_type": "code",
   "execution_count": 10,
   "id": "5caa48e0-9ec9-4761-a072-b35b836da6b3",
   "metadata": {},
   "outputs": [
    {
     "data": {
      "text/plain": [
       "<function __main__.addition(a, b)>"
      ]
     },
     "execution_count": 10,
     "metadata": {},
     "output_type": "execute_result"
    }
   ],
   "source": [
    "addition"
   ]
  },
  {
   "cell_type": "code",
   "execution_count": 3,
   "id": "451ee253-f280-4323-b56e-380b88f6e770",
   "metadata": {},
   "outputs": [],
   "source": [
    "ar1 = np.array([[1, 2, 4],\n",
    "               [2, 3, 4]]) #array 1 dimension wwith 3 elements"
   ]
  },
  {
   "cell_type": "code",
   "execution_count": 16,
   "id": "ca1a74a6-1651-46c7-8e9a-0f0291514e95",
   "metadata": {},
   "outputs": [
    {
     "data": {
      "text/plain": [
       "2"
      ]
     },
     "execution_count": 16,
     "metadata": {},
     "output_type": "execute_result"
    }
   ],
   "source": [
    "ar1.ndim"
   ]
  },
  {
   "cell_type": "code",
   "execution_count": 17,
   "id": "ccf4403c-c99d-49af-866d-188edf4a386e",
   "metadata": {},
   "outputs": [
    {
     "data": {
      "text/plain": [
       "(2, 3)"
      ]
     },
     "execution_count": 17,
     "metadata": {},
     "output_type": "execute_result"
    }
   ],
   "source": [
    "ar1.shape #dimension+elements per dimension"
   ]
  },
  {
   "cell_type": "code",
   "execution_count": 18,
   "id": "cf44aaa1-2917-4f73-93a0-9b7cf9964f1e",
   "metadata": {},
   "outputs": [
    {
     "data": {
      "text/plain": [
       "2"
      ]
     },
     "execution_count": 18,
     "metadata": {},
     "output_type": "execute_result"
    }
   ],
   "source": [
    "len(ar1)"
   ]
  },
  {
   "cell_type": "code",
   "execution_count": 19,
   "id": "ac39eeb2-9f6e-4684-9d7f-fadd13b8ce55",
   "metadata": {},
   "outputs": [
    {
     "data": {
      "text/plain": [
       "6"
      ]
     },
     "execution_count": 19,
     "metadata": {},
     "output_type": "execute_result"
    }
   ],
   "source": [
    "ar1.size"
   ]
  },
  {
   "cell_type": "markdown",
   "id": "ecf6fe71-6c3e-436b-9ea9-ed8f9c2c2742",
   "metadata": {},
   "source": [
    "beside `np.array()`, we use `np.zeros()`, `np.ones`, `np.arange`, `np.linspace`"
   ]
  },
  {
   "cell_type": "code",
   "execution_count": 7,
   "id": "bb7c17ee-6ee3-4e3e-ae83-e9d921ddd7a5",
   "metadata": {},
   "outputs": [
    {
     "data": {
      "text/plain": [
       "array([0., 0., 0.])"
      ]
     },
     "execution_count": 7,
     "metadata": {},
     "output_type": "execute_result"
    }
   ],
   "source": [
    "np.zeros(shape=3)"
   ]
  },
  {
   "cell_type": "code",
   "execution_count": 8,
   "id": "c72b6fb5-ae4f-4e0d-8755-e6be83d9b002",
   "metadata": {},
   "outputs": [
    {
     "data": {
      "text/plain": [
       "array([[0., 0.],\n",
       "       [0., 0.],\n",
       "       [0., 0.]])"
      ]
     },
     "execution_count": 8,
     "metadata": {},
     "output_type": "execute_result"
    }
   ],
   "source": [
    "np.zeros(shape=[3,2])"
   ]
  },
  {
   "cell_type": "code",
   "execution_count": 9,
   "id": "1add69f8-1d81-4e17-9907-d36189095e28",
   "metadata": {},
   "outputs": [
    {
     "data": {
      "text/plain": [
       "array(['mci', 'mci', 'mci'], dtype='<U3')"
      ]
     },
     "execution_count": 9,
     "metadata": {},
     "output_type": "execute_result"
    }
   ],
   "source": [
    "np.full(3,'mci')"
   ]
  },
  {
   "cell_type": "code",
   "execution_count": null,
   "id": "4adb9fda-bb0c-44eb-ba0d-1970b3a93945",
   "metadata": {},
   "outputs": [],
   "source": [
    "np.arange "
   ]
  }
 ],
 "metadata": {
  "kernelspec": {
   "display_name": "Python 3",
   "language": "python",
   "name": "python3"
  },
  "language_info": {
   "codemirror_mode": {
    "name": "ipython",
    "version": 3
   },
   "file_extension": ".py",
   "mimetype": "text/x-python",
   "name": "python",
   "nbconvert_exporter": "python",
   "pygments_lexer": "ipython3",
   "version": "3.7.10"
  }
 },
 "nbformat": 4,
 "nbformat_minor": 5
}
