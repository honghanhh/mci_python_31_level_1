{
 "cells": [
  {
   "cell_type": "markdown",
   "id": "d4ccb5c0-1c5d-4d06-959f-15912f6e68a6",
   "metadata": {},
   "source": [
    "### Lesson3"
   ]
  },
  {
   "cell_type": "markdown",
   "id": "42cda005-72a6-4c4a-bf88-7291ea4ff8a1",
   "metadata": {},
   "source": [
    "## Programming flow"
   ]
  },
  {
   "cell_type": "markdown",
   "id": "53d19e55-16d0-4e8b-b326-dd75230a33f7",
   "metadata": {},
   "source": [
    "- Sequential:\n",
    "- Loop: For, while\n",
    "- Condition: "
   ]
  },
  {
   "cell_type": "markdown",
   "id": "5d7b0db3-3833-4da7-b5d3-36e61672776f",
   "metadata": {},
   "source": [
    "### 1. Sequential"
   ]
  },
  {
   "cell_type": "code",
   "execution_count": 2,
   "id": "db30b4da-aac9-491d-8488-305d7ae9bd72",
   "metadata": {},
   "outputs": [
    {
     "name": "stdout",
     "output_type": "stream",
     "text": [
      "hello\n",
      ",everyone!\n"
     ]
    }
   ],
   "source": [
    "print('hello')\n",
    "print(',everyone!')"
   ]
  },
  {
   "cell_type": "markdown",
   "id": "17447fcb-920b-48c6-86cd-6583f842f5b7",
   "metadata": {},
   "source": [
    "## 2. Loop"
   ]
  },
  {
   "cell_type": "markdown",
   "id": "15fd7813-32a0-40cc-bf51-8dbabbeae5e3",
   "metadata": {},
   "source": [
    "- Iteration:\n",
    "- for\n",
    "- while"
   ]
  },
  {
   "cell_type": "markdown",
   "id": "2f2a8db1-7740-4ecf-869d-9de3e6e29acd",
   "metadata": {},
   "source": [
    "## 2.1 for"
   ]
  },
  {
   "cell_type": "markdown",
   "id": "1db5ef6c-1828-47f6-84ed-54ca6ccb0381",
   "metadata": {},
   "source": [
    "for value in iterable:\n",
    "    business logic #indent"
   ]
  },
  {
   "cell_type": "markdown",
   "id": "14117183-c15f-48bd-b2a9-37f8ff1ff684",
   "metadata": {},
   "source": [
    "for index in range(len(iterable)):\n",
    "    business logic"
   ]
  },
  {
   "cell_type": "code",
   "execution_count": 5,
   "id": "dfbc834d-824f-4ac7-ad91-2c77b1a052c0",
   "metadata": {},
   "outputs": [
    {
     "data": {
      "text/plain": [
       "[0, 1, 2, 3, 4, 5, 6, 7, 8, 9]"
      ]
     },
     "execution_count": 5,
     "metadata": {},
     "output_type": "execute_result"
    }
   ],
   "source": [
    "list(range(10)) # 0 (inclusive) -> 9(exclusive)"
   ]
  },
  {
   "cell_type": "code",
   "execution_count": 6,
   "id": "eff4458e-9fee-44a9-b8f7-7e084ad7a2a5",
   "metadata": {},
   "outputs": [
    {
     "data": {
      "text/plain": [
       "[2, 3, 4, 5, 6, 7, 8, 9]"
      ]
     },
     "execution_count": 6,
     "metadata": {},
     "output_type": "execute_result"
    }
   ],
   "source": [
    "list(range(2,10))"
   ]
  },
  {
   "cell_type": "code",
   "execution_count": 7,
   "id": "4295756f-01e4-4c63-b53c-ab328bb9f32b",
   "metadata": {},
   "outputs": [
    {
     "data": {
      "text/plain": [
       "[2, 4, 6, 8]"
      ]
     },
     "execution_count": 7,
     "metadata": {},
     "output_type": "execute_result"
    }
   ],
   "source": [
    "list(range(2,10,2))"
   ]
  },
  {
   "cell_type": "code",
   "execution_count": 13,
   "id": "e2a4bc61-2c61-490c-b89c-1a22f979b9f0",
   "metadata": {},
   "outputs": [
    {
     "data": {
      "text/plain": [
       "4"
      ]
     },
     "execution_count": 13,
     "metadata": {},
     "output_type": "execute_result"
    }
   ],
   "source": [
    "len(list(range(2,10,2)))"
   ]
  },
  {
   "cell_type": "markdown",
   "id": "e53634d9-ddc9-4d63-b3c8-4cfef16019e1",
   "metadata": {},
   "source": [
    "casting"
   ]
  },
  {
   "cell_type": "code",
   "execution_count": 8,
   "id": "6d27aca7-d81e-44a8-a346-2cc2a9ca2d7d",
   "metadata": {},
   "outputs": [],
   "source": [
    "a='1'"
   ]
  },
  {
   "cell_type": "code",
   "execution_count": 9,
   "id": "9d20da1b-009a-49fa-8ef0-5ca39b3a0586",
   "metadata": {},
   "outputs": [
    {
     "data": {
      "text/plain": [
       "str"
      ]
     },
     "execution_count": 9,
     "metadata": {},
     "output_type": "execute_result"
    }
   ],
   "source": [
    "type(a)"
   ]
  },
  {
   "cell_type": "code",
   "execution_count": 10,
   "id": "535a5892-f90a-4227-b104-9244a98de942",
   "metadata": {},
   "outputs": [
    {
     "data": {
      "text/plain": [
       "'11'"
      ]
     },
     "execution_count": 10,
     "metadata": {},
     "output_type": "execute_result"
    }
   ],
   "source": [
    "a*2"
   ]
  },
  {
   "cell_type": "code",
   "execution_count": 11,
   "id": "d90e5c96-97ec-4cda-a9b0-06c4320db41f",
   "metadata": {},
   "outputs": [
    {
     "data": {
      "text/plain": [
       "2"
      ]
     },
     "execution_count": 11,
     "metadata": {},
     "output_type": "execute_result"
    }
   ],
   "source": [
    "int(a)*2"
   ]
  },
  {
   "cell_type": "markdown",
   "id": "1eb8eaa7-bd04-4e77-9b81-702c60a2eacf",
   "metadata": {},
   "source": [
    "- int()\n",
    "- float()\n",
    "- str()\n",
    "..."
   ]
  },
  {
   "cell_type": "code",
   "execution_count": 12,
   "id": "ba1c77b0-fe68-455a-96fe-1ff09bc05258",
   "metadata": {},
   "outputs": [
    {
     "data": {
      "text/plain": [
       "3"
      ]
     },
     "execution_count": 12,
     "metadata": {},
     "output_type": "execute_result"
    }
   ],
   "source": [
    "int(3.14)"
   ]
  },
  {
   "cell_type": "markdown",
   "id": "595f7b8a-ab16-43f9-b8d5-7d4a0bd8c682",
   "metadata": {},
   "source": [
    "#### Excercise: Given a list from 0 to 10, return 1 new list containing exponentation of each item in the list"
   ]
  },
  {
   "cell_type": "code",
   "execution_count": 15,
   "id": "53531532-04ea-4bac-85aa-3be948acb7ed",
   "metadata": {},
   "outputs": [
    {
     "data": {
      "text/plain": [
       "[0, 1, 2, 3, 4, 5, 6, 7, 8, 9, 10]"
      ]
     },
     "execution_count": 15,
     "metadata": {},
     "output_type": "execute_result"
    }
   ],
   "source": [
    "li = list(range(11))\n",
    "li"
   ]
  },
  {
   "cell_type": "code",
   "execution_count": 18,
   "id": "51af66f5-d872-422b-9aa7-575065f43b52",
   "metadata": {},
   "outputs": [],
   "source": [
    "li1 = [] #empty list\n",
    "for val in li:\n",
    "#    print(val,val**2)\n",
    "    li1.append(val**2)"
   ]
  },
  {
   "cell_type": "code",
   "execution_count": 19,
   "id": "64d58741-2eff-4aaf-ab5e-a24b4577051f",
   "metadata": {},
   "outputs": [
    {
     "data": {
      "text/plain": [
       "[0, 1, 4, 9, 16, 25, 36, 49, 64, 81, 100]"
      ]
     },
     "execution_count": 19,
     "metadata": {},
     "output_type": "execute_result"
    }
   ],
   "source": [
    "li1"
   ]
  },
  {
   "cell_type": "code",
   "execution_count": 20,
   "id": "12192831-f392-4e2f-8666-57160b28d3ce",
   "metadata": {},
   "outputs": [],
   "source": [
    "li2 =[]\n",
    "for idx in range(len(li)):\n",
    "    li2.append(val**2)"
   ]
  },
  {
   "cell_type": "code",
   "execution_count": 21,
   "id": "35318a49-030a-4581-85ea-ffe06752aa7c",
   "metadata": {},
   "outputs": [
    {
     "data": {
      "text/plain": [
       "[0, 1, 2, 3, 4, 5, 6, 7, 8, 9, 10]"
      ]
     },
     "execution_count": 21,
     "metadata": {},
     "output_type": "execute_result"
    }
   ],
   "source": [
    "list(range(len(li)))"
   ]
  },
  {
   "cell_type": "markdown",
   "id": "62e7a8a6-6172-4422-bf1b-db0d447ecce5",
   "metadata": {},
   "source": [
    "### Exercise: write a program to calculate n! of an integer n"
   ]
  },
  {
   "cell_type": "code",
   "execution_count": null,
   "id": "72fd53cb-743b-4a0b-bf9d-4d19e0b5463d",
   "metadata": {},
   "outputs": [],
   "source": []
  },
  {
   "cell_type": "code",
   "execution_count": 26,
   "id": "99b176c3-911e-4380-a8b6-c02a8b94980a",
   "metadata": {},
   "outputs": [
    {
     "ename": "SyntaxError",
     "evalue": "invalid syntax (<ipython-input-26-1b370eaed7b0>, line 3)",
     "output_type": "error",
     "traceback": [
      "\u001b[0;36m  File \u001b[0;32m\"<ipython-input-26-1b370eaed7b0>\"\u001b[0;36m, line \u001b[0;32m3\u001b[0m\n\u001b[0;31m    for i in range(1,n+1)\u001b[0m\n\u001b[0m                         ^\u001b[0m\n\u001b[0;31mSyntaxError\u001b[0m\u001b[0;31m:\u001b[0m invalid syntax\n"
     ]
    }
   ],
   "source": [
    "n=8\n",
    "a=1\n",
    "for i in range(1,n+1)\n",
    "a=a*1"
   ]
  },
  {
   "cell_type": "code",
   "execution_count": null,
   "id": "ad35c08a-6965-4e9f-a95b-9d0971aa0efe",
   "metadata": {},
   "outputs": [],
   "source": [
    "for val in li:\n",
    "    li1.append(val,val*a)"
   ]
  },
  {
   "cell_type": "code",
   "execution_count": 24,
   "id": "0c9f4f23-e282-4e2c-8c58-9a2b917fc6ea",
   "metadata": {},
   "outputs": [
    {
     "data": {
      "text/plain": [
       "[0, 1, 4, 9, 16, 25, 36, 49, 64, 81, 100]"
      ]
     },
     "execution_count": 24,
     "metadata": {},
     "output_type": "execute_result"
    }
   ],
   "source": [
    "li1"
   ]
  },
  {
   "cell_type": "markdown",
   "id": "3fad9883-868c-4cbf-ad5f-5cc4d5e27b0d",
   "metadata": {},
   "source": [
    "## 2.2 while"
   ]
  },
  {
   "cell_type": "markdown",
   "id": "ecd89148-0161-4a8c-ae7c-fcd97204a01a",
   "metadata": {},
   "source": [
    "while condition(True/False):\n",
    "-    business logic"
   ]
  },
  {
   "cell_type": "code",
   "execution_count": 35,
   "id": "9d242e82-5b23-4a92-b431-848368f54096",
   "metadata": {},
   "outputs": [],
   "source": [
    "a = 4\n",
    "i = 0"
   ]
  },
  {
   "cell_type": "code",
   "execution_count": 36,
   "id": "82786f16-8aef-407d-a243-581a6fea74b8",
   "metadata": {},
   "outputs": [],
   "source": [
    "a, i = 4, 0"
   ]
  },
  {
   "cell_type": "code",
   "execution_count": 37,
   "id": "ea250e28-d568-4c9f-8c4a-d981e761bb83",
   "metadata": {},
   "outputs": [
    {
     "name": "stdout",
     "output_type": "stream",
     "text": [
      "Hello 0\n",
      "Hello 1\n",
      "Hello 2\n",
      "Hello 3\n"
     ]
    }
   ],
   "source": [
    "while i < a:\n",
    "    print(f\"Hello {i}\")\n",
    "    i += 1"
   ]
  },
  {
   "cell_type": "markdown",
   "id": "73eee06d-4c4f-4cbe-922e-1e7412c10466",
   "metadata": {},
   "source": [
    "#### String format"
   ]
  },
  {
   "cell_type": "code",
   "execution_count": 38,
   "id": "1fa95e0d-5e3d-42f4-855b-c1cd63d189b7",
   "metadata": {},
   "outputs": [],
   "source": [
    "a = 'MCI'\n",
    "b = 'Lesson 3'"
   ]
  },
  {
   "cell_type": "code",
   "execution_count": 39,
   "id": "002c0e38-111e-410c-96cd-b546b1e1b641",
   "metadata": {},
   "outputs": [
    {
     "name": "stdout",
     "output_type": "stream",
     "text": [
      "Hello MCI\n"
     ]
    }
   ],
   "source": [
    "print('Hello {}'.format(a))"
   ]
  },
  {
   "cell_type": "code",
   "execution_count": 40,
   "id": "a8fd49e8-f2f1-447d-b490-7aa89eb44c79",
   "metadata": {},
   "outputs": [
    {
     "name": "stdout",
     "output_type": "stream",
     "text": [
      "Hello MCI\n"
     ]
    }
   ],
   "source": [
    "print(f'Hello {a}')"
   ]
  },
  {
   "cell_type": "code",
   "execution_count": 41,
   "id": "527d8f19-3632-49cc-985c-97d6064dfacd",
   "metadata": {},
   "outputs": [
    {
     "name": "stdout",
     "output_type": "stream",
     "text": [
      "hello MCI\n"
     ]
    }
   ],
   "source": [
    "print('hello %s' %(a))"
   ]
  },
  {
   "cell_type": "code",
   "execution_count": 42,
   "id": "03d1c885-9cce-44cc-8fe3-73d8a8bc8071",
   "metadata": {},
   "outputs": [
    {
     "name": "stdin",
     "output_type": "stream",
     "text": [
      "Enter Value: 8\n"
     ]
    },
    {
     "name": "stdout",
     "output_type": "stream",
     "text": [
      "40320\n"
     ]
    }
   ],
   "source": [
    "#do N with while\n",
    "x = input(\"Enter Value:\")\n",
    "final =1\n",
    "x = int(x)\n",
    "while x >0:\n",
    "    final = final *x \n",
    "    x -=1\n",
    "print(final)"
   ]
  },
  {
   "cell_type": "code",
   "execution_count": 44,
   "id": "a916030e-45f8-46c5-8b01-5f1d0976163a",
   "metadata": {},
   "outputs": [
    {
     "name": "stdout",
     "output_type": "stream",
     "text": [
      "40320\n"
     ]
    }
   ],
   "source": [
    "n=8\n",
    "fac = 1\n",
    "i = 1\n",
    "while i < n+1:\n",
    "    fac *= i\n",
    "    i += 1\n",
    "print(fac)"
   ]
  },
  {
   "cell_type": "markdown",
   "id": "0f86e253-3475-4bed-8ebf-4b684b8167d5",
   "metadata": {},
   "source": [
    "## 3. Condition"
   ]
  },
  {
   "cell_type": "markdown",
   "id": "31c67e4f-223d-4f75-8063-85c29d02402b",
   "metadata": {},
   "source": [
    "```\n",
    "if condition (True/False)\n",
    "    business logic\n",
    "elif condition (True/False): # ->optional\n",
    "    business logic\n",
    "elif condition (True/False): # ->optional\n",
    "    business logic\n",
    "elif condition (True/False): # ->optional\n",
    "    business logic\n",
    "    ....\n",
    "else :\n",
    "    business logic: # ->optional\n",
    "```"
   ]
  },
  {
   "cell_type": "code",
   "execution_count": 46,
   "id": "50fe57e8-cfc8-43dd-9162-e9cffb07eeb5",
   "metadata": {},
   "outputs": [],
   "source": [
    "x = 1\n",
    "y =3"
   ]
  },
  {
   "cell_type": "code",
   "execution_count": 49,
   "id": "637446d0-239f-4631-9e37-adb7b4eb6b26",
   "metadata": {},
   "outputs": [
    {
     "name": "stdout",
     "output_type": "stream",
     "text": [
      "x is smaller than y\n"
     ]
    }
   ],
   "source": [
    "if x<y:\n",
    "    print(\"x is smaller than y\")\n",
    "elif x>y:\n",
    "    print(\"x is larger than y\")\n",
    "else:\n",
    "    print(\"x is equal to y\")"
   ]
  },
  {
   "cell_type": "markdown",
   "id": "ca1dd89e-b6de-4a7a-932a-b071cfb0fea0",
   "metadata": {},
   "source": [
    "## 4. Function"
   ]
  },
  {
   "cell_type": "markdown",
   "id": "19f5751a-c045-4529-a03e-57a6e2458b50",
   "metadata": {},
   "source": [
    "- Built-in function:len(), range(),...\n",
    "- User-defined function"
   ]
  },
  {
   "cell_type": "markdown",
   "id": "04f0d7c1-d300-4a3b-b9b0-8b3b5ca4177b",
   "metadata": {},
   "source": [
    "```\n",
    "def function_name(arg1, arg2,...)\n",
    "    business logic\n",
    "    return #--> optional\n",
    "```"
   ]
  },
  {
   "cell_type": "code",
   "execution_count": 50,
   "id": "13b1060d-932e-4c89-b908-2924e5ddc5cd",
   "metadata": {},
   "outputs": [
    {
     "name": "stdout",
     "output_type": "stream",
     "text": [
      "8\n"
     ]
    }
   ],
   "source": [
    "def length_list(li):\n",
    "    #bussiness\n",
    "    length = li.index(li[-1])+1\n",
    "    #print (length)\n",
    "    return length\n",
    "print(length_list(li))"
   ]
  },
  {
   "cell_type": "code",
   "execution_count": 51,
   "id": "b08469d6-e712-4777-89aa-3dec9a2dcea0",
   "metadata": {},
   "outputs": [],
   "source": [
    "li =[1,2,3,4]"
   ]
  },
  {
   "cell_type": "code",
   "execution_count": 52,
   "id": "0138a6b5-ec02-4526-b371-388ea70541db",
   "metadata": {},
   "outputs": [
    {
     "data": {
      "text/plain": [
       "4"
      ]
     },
     "execution_count": 52,
     "metadata": {},
     "output_type": "execute_result"
    }
   ],
   "source": [
    "length_list(li)"
   ]
  },
  {
   "cell_type": "code",
   "execution_count": 53,
   "id": "4e393a85-2a97-4c86-a9f6-11405e629e58",
   "metadata": {},
   "outputs": [],
   "source": [
    "def findLength(string):\n",
    "    count = 0\n",
    "    for _ in string:\n",
    "        count+= 1\n",
    "    return count"
   ]
  },
  {
   "cell_type": "code",
   "execution_count": 54,
   "id": "f2602e09-8e9d-4981-887a-dd98d542d6f7",
   "metadata": {},
   "outputs": [
    {
     "data": {
      "text/plain": [
       "3"
      ]
     },
     "execution_count": 54,
     "metadata": {},
     "output_type": "execute_result"
    }
   ],
   "source": [
    "findLength('Chi')"
   ]
  },
  {
   "cell_type": "markdown",
   "id": "2e7f856c-b493-4bfc-8716-592c86caf54a",
   "metadata": {},
   "source": [
    "```\n",
    "Exercise:\n",
    "- sum() #list\n",
    "- average() #list\n",
    "```"
   ]
  },
  {
   "cell_type": "markdown",
   "id": "720194c6-1fa3-4337-93c2-224fe6a8ed63",
   "metadata": {},
   "source": [
    "** Anonymous Function(no name)**"
   ]
  },
  {
   "cell_type": "code",
   "execution_count": 59,
   "id": "9ab225d3-f24c-4b6c-b24c-a5cca1b14e4e",
   "metadata": {},
   "outputs": [],
   "source": [
    "def expo1(x):\n",
    "    return x**2"
   ]
  },
  {
   "cell_type": "code",
   "execution_count": 56,
   "id": "6499216f-54ff-4269-88c5-b378c420a9d7",
   "metadata": {},
   "outputs": [],
   "source": [
    "expo = lambda x : x**2"
   ]
  },
  {
   "cell_type": "code",
   "execution_count": 57,
   "id": "0b39ca47-761d-49f5-8f8e-051f72363a5c",
   "metadata": {},
   "outputs": [
    {
     "data": {
      "text/plain": [
       "4"
      ]
     },
     "execution_count": 57,
     "metadata": {},
     "output_type": "execute_result"
    }
   ],
   "source": [
    "expo(2)"
   ]
  },
  {
   "cell_type": "code",
   "execution_count": 60,
   "id": "2f5f0dc6-a59a-43f3-bf25-053355a348de",
   "metadata": {},
   "outputs": [
    {
     "data": {
      "text/plain": [
       "9"
      ]
     },
     "execution_count": 60,
     "metadata": {},
     "output_type": "execute_result"
    }
   ],
   "source": [
    "expo1(3)"
   ]
  },
  {
   "cell_type": "markdown",
   "id": "1617d739-57b1-4a51-987a-b8299acd0deb",
   "metadata": {},
   "source": [
    "### 5. Comprehension"
   ]
  },
  {
   "cell_type": "code",
   "execution_count": 62,
   "id": "c9d2aa1e-1e98-4019-a1ca-f2ee1b0dbae2",
   "metadata": {},
   "outputs": [
    {
     "data": {
      "text/plain": [
       "[1, 4, 9]"
      ]
     },
     "execution_count": 62,
     "metadata": {},
     "output_type": "execute_result"
    }
   ],
   "source": [
    "li = [1,2,3]\n",
    "li2 = []\n",
    "for i in li:\n",
    "    li2.append(i**2)\n",
    "li2"
   ]
  },
  {
   "cell_type": "code",
   "execution_count": 63,
   "id": "10fb53a4-565e-426e-84ed-8a20b4f23803",
   "metadata": {},
   "outputs": [
    {
     "data": {
      "text/plain": [
       "[1, 4, 9]"
      ]
     },
     "execution_count": 63,
     "metadata": {},
     "output_type": "execute_result"
    }
   ],
   "source": [
    "li3 = [i**2 for i in li]\n",
    "li3"
   ]
  },
  {
   "cell_type": "markdown",
   "id": "1625f737-4a96-4d99-b4d0-22badd036cb1",
   "metadata": {},
   "source": [
    "#### Exercise: return a list containing odd numbers given original list"
   ]
  },
  {
   "cell_type": "code",
   "execution_count": 65,
   "id": "7bc7604b-222c-4bdb-a540-eb99dfeca2cb",
   "metadata": {},
   "outputs": [],
   "source": [
    "li =[1,2,3,4,5,7]"
   ]
  },
  {
   "cell_type": "code",
   "execution_count": 66,
   "id": "0ad859eb-2af0-4758-bb23-16aa66d385c6",
   "metadata": {},
   "outputs": [],
   "source": [
    "li2 = [i for i in li if i%2 ==1]"
   ]
  },
  {
   "cell_type": "code",
   "execution_count": 67,
   "id": "00fc499a-9df1-4e63-963e-dfa6a4fc0abf",
   "metadata": {},
   "outputs": [
    {
     "data": {
      "text/plain": [
       "[1, 3, 5, 7]"
      ]
     },
     "execution_count": 67,
     "metadata": {},
     "output_type": "execute_result"
    }
   ],
   "source": [
    "li2"
   ]
  },
  {
   "cell_type": "code",
   "execution_count": 68,
   "id": "212bcc07-e5b3-442a-a4ac-2fce9fedb701",
   "metadata": {},
   "outputs": [],
   "source": [
    "li3 = [i**2 if i%2 ==1 else i for i in li]"
   ]
  },
  {
   "cell_type": "code",
   "execution_count": 69,
   "id": "a615f2e6-f94d-40a0-a775-a5f12f6f4185",
   "metadata": {},
   "outputs": [
    {
     "data": {
      "text/plain": [
       "[1, 2, 9, 4, 25, 49]"
      ]
     },
     "execution_count": 69,
     "metadata": {},
     "output_type": "execute_result"
    }
   ],
   "source": [
    "li3"
   ]
  },
  {
   "cell_type": "code",
   "execution_count": null,
   "id": "bc3a4193-1996-4310-bf53-c9554075b64d",
   "metadata": {},
   "outputs": [],
   "source": [
    "li4 = [[1,2,3],\n",
    "      [4,5,6],\n",
    "      [7,8,9]]"
   ]
  }
 ],
 "metadata": {
  "kernelspec": {
   "display_name": "Python 3",
   "language": "python",
   "name": "python3"
  },
  "language_info": {
   "codemirror_mode": {
    "name": "ipython",
    "version": 3
   },
   "file_extension": ".py",
   "mimetype": "text/x-python",
   "name": "python",
   "nbconvert_exporter": "python",
   "pygments_lexer": "ipython3",
   "version": "3.7.10"
  }
 },
 "nbformat": 4,
 "nbformat_minor": 5
}
