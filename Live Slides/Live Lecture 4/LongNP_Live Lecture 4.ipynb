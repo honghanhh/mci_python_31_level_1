{
 "cells": [
  {
   "cell_type": "markdown",
   "id": "a923ee48-77de-4c20-97d6-4e4e9bb10d0c",
   "metadata": {},
   "source": [
    "# Lesson 4. NUMPY Introduction"
   ]
  },
  {
   "cell_type": "markdown",
   "id": "eb6798c4-ae48-4edb-8002-c4419eda8de1",
   "metadata": {},
   "source": [
    "![](https://en.wikipedia.org/wiki/NumPy#/media/File:NumPy_logo_2020.svg)"
   ]
  },
  {
   "cell_type": "markdown",
   "id": "4d57a6c4-b721-4248-b053-8cf81d029589",
   "metadata": {},
   "source": [
    "## 1.Introduction"
   ]
  },
  {
   "cell_type": "markdown",
   "id": "951ebc9f-ecda-48f0-b723-d6e97d12cfb5",
   "metadata": {},
   "source": [
    "**NumPy** (Numerical Python) = Multidimensional array + matrix data structure"
   ]
  },
  {
   "cell_type": "markdown",
   "id": "9f6bf63e-7b0e-44cd-bb3b-366598550427",
   "metadata": {},
   "source": [
    "### 1.1 Installation"
   ]
  },
  {
   "cell_type": "markdown",
   "id": "6fc321e7-9331-4a4f-8eb3-7850f29c38f2",
   "metadata": {},
   "source": [
    "- Install when creating a virtual/conda enviroment\n",
    "```\n",
    "    conda create -n longnp python=3.7 numpy\n",
    "```\n",
    "- Install to an existing enviroment\n",
    "```\n",
    "    conda install numpy\n",
    "```\n",
    "- On jupyter: \n",
    "```\n",
    "    !pip install numpy\n",
    "```"
   ]
  },
  {
   "cell_type": "code",
   "execution_count": 6,
   "id": "ef99fae4-a56c-42b6-83cc-588738d4414f",
   "metadata": {},
   "outputs": [
    {
     "name": "stdout",
     "output_type": "stream",
     "text": [
      "Requirement already satisfied: numpy in c:\\users\\admin\\anaconda3\\envs\\longnp\\lib\\site-packages (1.20.2)\n"
     ]
    }
   ],
   "source": [
    "!pip install numpy"
   ]
  },
  {
   "cell_type": "code",
   "execution_count": 11,
   "id": "e6fe52d4-de0d-49db-9d5b-e8de324fea72",
   "metadata": {},
   "outputs": [
    {
     "name": "stdout",
     "output_type": "stream",
     "text": [
      "Collecting scikit-learn\n",
      "  Downloading scikit_learn-0.24.2-cp37-cp37m-win_amd64.whl (6.8 MB)\n",
      "Collecting joblib>=0.11\n",
      "  Downloading joblib-1.0.1-py3-none-any.whl (303 kB)\n",
      "Requirement already satisfied: scipy>=0.19.1 in c:\\users\\admin\\anaconda3\\envs\\longnp\\lib\\site-packages (from scikit-learn) (1.6.2)\n",
      "Requirement already satisfied: numpy>=1.13.3 in c:\\users\\admin\\anaconda3\\envs\\longnp\\lib\\site-packages (from scikit-learn) (1.20.2)\n",
      "Collecting threadpoolctl>=2.0.0\n",
      "  Downloading threadpoolctl-2.1.0-py3-none-any.whl (12 kB)\n",
      "Installing collected packages: threadpoolctl, joblib, scikit-learn\n",
      "Successfully installed joblib-1.0.1 scikit-learn-0.24.2 threadpoolctl-2.1.0\n"
     ]
    }
   ],
   "source": [
    "!pip install scikit-learn"
   ]
  },
  {
   "cell_type": "markdown",
   "id": "f9abd1f5-a438-49a0-8a48-06a8429bd12d",
   "metadata": {},
   "source": [
    "### 1.2 Import"
   ]
  },
  {
   "cell_type": "code",
   "execution_count": 12,
   "id": "d0b43e6e-64b6-4638-82a1-bed9dd31630a",
   "metadata": {},
   "outputs": [],
   "source": [
    "import numpy as np"
   ]
  },
  {
   "cell_type": "markdown",
   "id": "f0b95ea8-62a5-46ac-b847-8629b8a804ab",
   "metadata": {},
   "source": [
    "### 1.3 Why Numpy? -> Faster"
   ]
  },
  {
   "cell_type": "markdown",
   "id": "e6e87fea-efe7-42e3-9942-62cc55185eca",
   "metadata": {},
   "source": [
    "- **Vectorization**"
   ]
  },
  {
   "cell_type": "code",
   "execution_count": 16,
   "id": "b5b06386-9c84-487e-a3e2-1db6ff6f2f89",
   "metadata": {},
   "outputs": [
    {
     "data": {
      "text/plain": [
       "[1, 2, 3, 2, 3, 4]"
      ]
     },
     "execution_count": 16,
     "metadata": {},
     "output_type": "execute_result"
    }
   ],
   "source": [
    "#Using list (not using numpy)\n",
    "\n",
    "li = [1,2,3]\n",
    "li1 = [2,3,4]\n",
    "li + li1"
   ]
  },
  {
   "cell_type": "code",
   "execution_count": 17,
   "id": "bdf7d804-5dfc-4af2-825e-5ee50f84ff46",
   "metadata": {},
   "outputs": [
    {
     "data": {
      "text/plain": [
       "array([3, 5, 7])"
      ]
     },
     "execution_count": 17,
     "metadata": {},
     "output_type": "execute_result"
    }
   ],
   "source": [
    "#Using array (method of numpy)\n",
    "\n",
    "arr = np.array([1,2,3])\n",
    "arr1 = np.array([2,3,4])\n",
    "arr + arr1"
   ]
  },
  {
   "cell_type": "markdown",
   "id": "5fbeaaf8-6fcc-4a6b-85ef-89000037d579",
   "metadata": {},
   "source": [
    "- **Broadcasting** "
   ]
  },
  {
   "cell_type": "markdown",
   "id": "e3f80411-766b-4bb9-ad92-cd3f7596364c",
   "metadata": {},
   "source": [
    "![](https://i.stack.imgur.com/JcKv1.png)"
   ]
  },
  {
   "cell_type": "markdown",
   "id": "59b581b8-062b-4906-aaf4-6ff5ac33e1b8",
   "metadata": {},
   "source": [
    "## 2. Basic of Numpy"
   ]
  },
  {
   "cell_type": "markdown",
   "id": "129a4f42-d6cf-4a5f-a5d4-8abed183769b",
   "metadata": {},
   "source": [
    "`ndarray` = N-dimensional array (mảng đa chiều)"
   ]
  },
  {
   "cell_type": "markdown",
   "id": "f7886f0e-471f-4b12-90ae-69bd791e7e8c",
   "metadata": {},
   "source": [
    "- 0-D array: number\n",
    "- 1-D array: Vector\n",
    "- 2-D array: Matrix\n",
    "- 3-D array: Tensor (ma trận đa chiều)"
   ]
  },
  {
   "cell_type": "markdown",
   "id": "f6e91c6a-dc10-493f-8409-83f028431ad2",
   "metadata": {},
   "source": [
    "### 2.1 Creating an array"
   ]
  },
  {
   "cell_type": "markdown",
   "id": "a95b11b5-0ad4-439b-a3a3-9e9e7a0bfa61",
   "metadata": {},
   "source": [
    "`nd.array()`"
   ]
  },
  {
   "cell_type": "code",
   "execution_count": 20,
   "id": "4a002be0-fbb3-47f6-a890-ea58d6e12d22",
   "metadata": {},
   "outputs": [
    {
     "data": {
      "text/plain": [
       "[1, 3.14, 'love']"
      ]
     },
     "execution_count": 20,
     "metadata": {},
     "output_type": "execute_result"
    }
   ],
   "source": [
    "li = [1, 3.14, 'love']\n",
    "li"
   ]
  },
  {
   "cell_type": "code",
   "execution_count": 21,
   "id": "4be02232-5d5b-49a8-8b21-b5a5660f658e",
   "metadata": {},
   "outputs": [
    {
     "data": {
      "text/plain": [
       "(int, float, str)"
      ]
     },
     "execution_count": 21,
     "metadata": {},
     "output_type": "execute_result"
    }
   ],
   "source": [
    "type(li[0]), type(li[1]), type(li[2])"
   ]
  },
  {
   "cell_type": "code",
   "execution_count": 23,
   "id": "f851ef16-108d-46f4-8da5-b4144ef0239b",
   "metadata": {},
   "outputs": [],
   "source": [
    "arr = np.array([1,2,3])"
   ]
  },
  {
   "cell_type": "code",
   "execution_count": 27,
   "id": "6933ff7d-d0a7-4fea-a467-f7b84795a202",
   "metadata": {},
   "outputs": [
    {
     "data": {
      "text/plain": [
       "(numpy.int32, numpy.int32, numpy.int32)"
      ]
     },
     "execution_count": 27,
     "metadata": {},
     "output_type": "execute_result"
    }
   ],
   "source": [
    "type(arr[0]), type(arr[1]), type(arr[2])"
   ]
  },
  {
   "cell_type": "code",
   "execution_count": 31,
   "id": "4ca27258-f395-4a1c-b1a4-675b2ddfdbb2",
   "metadata": {},
   "outputs": [
    {
     "data": {
      "text/plain": [
       "array(['1', '3.14', 'love'], dtype='<U32')"
      ]
     },
     "execution_count": 31,
     "metadata": {},
     "output_type": "execute_result"
    }
   ],
   "source": [
    "arr1 = np.array(li) #casting into 1 type\n",
    "arr1"
   ]
  },
  {
   "cell_type": "code",
   "execution_count": 33,
   "id": "dc27019f-452c-4a64-b77a-c49eeb09c80d",
   "metadata": {},
   "outputs": [],
   "source": [
    "def addition(a,b): #adding an Docstring\n",
    "    '''\n",
    "    Sum of two number\n",
    "    \n",
    "    Parameters: \n",
    "    a: first number\n",
    "    b: second number\n",
    "    '''\n",
    "    return a+b"
   ]
  },
  {
   "cell_type": "code",
   "execution_count": 35,
   "id": "7372a590-327a-42c1-bfc3-bd4999cea562",
   "metadata": {},
   "outputs": [
    {
     "data": {
      "text/plain": [
       "3"
      ]
     },
     "execution_count": 35,
     "metadata": {},
     "output_type": "execute_result"
    }
   ],
   "source": [
    "addition(1,2)"
   ]
  },
  {
   "cell_type": "markdown",
   "id": "0ab1a687-0f83-48d2-a8c2-51bf7d181410",
   "metadata": {},
   "source": [
    "Ref: [Numpy github](https://github.com/numpy/numpy)"
   ]
  },
  {
   "cell_type": "code",
   "execution_count": 36,
   "id": "aa9a6a8d-b217-4ca3-a64a-0714e185e773",
   "metadata": {},
   "outputs": [],
   "source": [
    "arr1 = np.array([1,2,4]) #array with 1 dimension"
   ]
  },
  {
   "cell_type": "code",
   "execution_count": 38,
   "id": "97e5e903-fff0-4c0d-9176-e5b6c2441afe",
   "metadata": {},
   "outputs": [
    {
     "data": {
      "text/plain": [
       "1"
      ]
     },
     "execution_count": 38,
     "metadata": {},
     "output_type": "execute_result"
    }
   ],
   "source": [
    "arr1.ndim #Return number of dimension of an array"
   ]
  },
  {
   "cell_type": "code",
   "execution_count": 40,
   "id": "f2f37756-a1f6-4711-bf59-6e8bb49f2fdd",
   "metadata": {},
   "outputs": [],
   "source": [
    "arr2 = np.array([[1,2,4],[2,3,4]]) #array with 2 dimension (notice the number of [])"
   ]
  },
  {
   "cell_type": "code",
   "execution_count": 41,
   "id": "8e601333-770c-492c-8f1d-b687bc834bc1",
   "metadata": {},
   "outputs": [
    {
     "data": {
      "text/plain": [
       "2"
      ]
     },
     "execution_count": 41,
     "metadata": {},
     "output_type": "execute_result"
    }
   ],
   "source": [
    "arr2.ndim"
   ]
  },
  {
   "cell_type": "code",
   "execution_count": 42,
   "id": "fe636933-4578-4ad4-9ab9-7bc7bfaade25",
   "metadata": {},
   "outputs": [
    {
     "data": {
      "text/plain": [
       "(2, 3)"
      ]
     },
     "execution_count": 42,
     "metadata": {},
     "output_type": "execute_result"
    }
   ],
   "source": [
    "arr2.shape #return number of dimensions + number of elements per dimension"
   ]
  },
  {
   "cell_type": "code",
   "execution_count": 44,
   "id": "faecf5f9-3a24-4526-bce2-ba66f246953d",
   "metadata": {},
   "outputs": [
    {
     "data": {
      "text/plain": [
       "2"
      ]
     },
     "execution_count": 44,
     "metadata": {},
     "output_type": "execute_result"
    }
   ],
   "source": [
    "len(arr2) #number of elements in the first dimension"
   ]
  },
  {
   "cell_type": "code",
   "execution_count": 45,
   "id": "65b9202b-1fef-4e41-ad1f-2a7924b6e3b6",
   "metadata": {},
   "outputs": [
    {
     "data": {
      "text/plain": [
       "6"
      ]
     },
     "execution_count": 45,
     "metadata": {},
     "output_type": "execute_result"
    }
   ],
   "source": [
    "arr2.size #total count of elements"
   ]
  },
  {
   "cell_type": "markdown",
   "id": "dac584dd-99c2-4368-804e-a121756dadde",
   "metadata": {},
   "source": [
    "Beside `np.array`, we can use `np.zeros()`, `np.ones()`, `np.full`, `np.arange()`, `np.linspace()` to create arrays"
   ]
  },
  {
   "cell_type": "markdown",
   "id": "a0121aac-503e-49bf-8618-f0f59640940f",
   "metadata": {},
   "source": [
    "|Function|Meaning|\n",
    "|-|-|\n",
    "|`np.zeros()`|An array filled with 0's|\n",
    "|`np.ones()`|An array filled with 1's|\n",
    "|`np.full()`|An array filled with `fill_value`|\n",
    "|`np.arange()`|An array that contains a range of evently spaced interval (các phần tử cách đều nhau)|\n",
    "|`np.linspace()`|An array with values that spaced linearly in a specified interval|"
   ]
  },
  {
   "cell_type": "code",
   "execution_count": 47,
   "id": "0aefc2a7-5181-4b2a-9628-49e2a919a2b5",
   "metadata": {},
   "outputs": [
    {
     "data": {
      "text/plain": [
       "array([0., 0., 0.])"
      ]
     },
     "execution_count": 47,
     "metadata": {},
     "output_type": "execute_result"
    }
   ],
   "source": [
    "np.zeros(3)"
   ]
  },
  {
   "cell_type": "code",
   "execution_count": 48,
   "id": "41e33b88-173e-408e-9e9c-c6a15be07bef",
   "metadata": {},
   "outputs": [
    {
     "data": {
      "text/plain": [
       "array([0., 0., 0.])"
      ]
     },
     "execution_count": 48,
     "metadata": {},
     "output_type": "execute_result"
    }
   ],
   "source": [
    "np.zeros(shape=3)"
   ]
  },
  {
   "cell_type": "code",
   "execution_count": 49,
   "id": "a8665390-7ea4-48a8-b4f3-69b54a6040c5",
   "metadata": {},
   "outputs": [
    {
     "data": {
      "text/plain": [
       "array([[0., 0., 0.],\n",
       "       [0., 0., 0.],\n",
       "       [0., 0., 0.]])"
      ]
     },
     "execution_count": 49,
     "metadata": {},
     "output_type": "execute_result"
    }
   ],
   "source": [
    "np.zeros(shape=(3,3))"
   ]
  },
  {
   "cell_type": "code",
   "execution_count": 50,
   "id": "2ceffa97-7d72-4e47-81b5-b0d6096d111d",
   "metadata": {},
   "outputs": [
    {
     "data": {
      "text/plain": [
       "(array([1., 1., 1.]),\n",
       " array([[1., 1.],\n",
       "        [1., 1.],\n",
       "        [1., 1.]]))"
      ]
     },
     "execution_count": 50,
     "metadata": {},
     "output_type": "execute_result"
    }
   ],
   "source": [
    "np.ones(3), np.ones((3,2))"
   ]
  },
  {
   "cell_type": "code",
   "execution_count": 51,
   "id": "c70ae9a4-ed01-4d8f-abba-ea86b52a60cf",
   "metadata": {},
   "outputs": [
    {
     "data": {
      "text/plain": [
       "array([['MCI', 'MCI'],\n",
       "       ['MCI', 'MCI'],\n",
       "       ['MCI', 'MCI']], dtype='<U3')"
      ]
     },
     "execution_count": 51,
     "metadata": {},
     "output_type": "execute_result"
    }
   ],
   "source": [
    "np.full((3,2),'MCI',)"
   ]
  },
  {
   "cell_type": "code",
   "execution_count": 62,
   "id": "4ef2184a-1ea8-4aa0-a0c7-31de0caa9bb3",
   "metadata": {},
   "outputs": [
    {
     "data": {
      "text/plain": [
       "array([1. , 3.7, 6.4, 9.1])"
      ]
     },
     "execution_count": 62,
     "metadata": {},
     "output_type": "execute_result"
    }
   ],
   "source": [
    "np.arange(1, 10, 2.7, dtype = float) #inclusive start and exclusive stop, similar to range()"
   ]
  },
  {
   "cell_type": "code",
   "execution_count": 61,
   "id": "deab9389-08a6-422b-9ab6-33d5cbfc15c7",
   "metadata": {},
   "outputs": [
    {
     "data": {
      "text/plain": [
       "array([ 1. ,  2.5,  4. ,  5.5,  7. ,  8.5, 10. ])"
      ]
     },
     "execution_count": 61,
     "metadata": {},
     "output_type": "execute_result"
    }
   ],
   "source": [
    "np.linspace(1, 10, 7, dtype = float) #include both start and stop"
   ]
  },
  {
   "cell_type": "markdown",
   "id": "b202a7d2-c6fb-4b89-bf47-5657b4eeee9f",
   "metadata": {},
   "source": [
    "`np.random()` --> pseudo-random (giả ngẫu nhiên)"
   ]
  },
  {
   "cell_type": "code",
   "execution_count": 68,
   "id": "f33094f5-6797-4729-940c-1e44fc26b464",
   "metadata": {},
   "outputs": [
    {
     "data": {
      "text/plain": [
       "array([[0.2306027 , 0.71572111, 0.9661118 ],\n",
       "       [0.16944235, 0.87468528, 0.12196865],\n",
       "       [0.74450237, 0.74216134, 0.1775645 ]])"
      ]
     },
     "execution_count": 68,
     "metadata": {},
     "output_type": "execute_result"
    }
   ],
   "source": [
    "np.random.random((3,3)) #return [0 - 1] --> uniform distribution: tất cả các kết quả khả năng xảy ra như nhau"
   ]
  },
  {
   "cell_type": "code",
   "execution_count": 69,
   "id": "b2b6394e-e532-4702-aade-3a0cc9a330bf",
   "metadata": {},
   "outputs": [
    {
     "data": {
      "text/plain": [
       "array([0.22896864, 0.91734859, 0.6255894 , 0.03728033, 0.32082139,\n",
       "       0.58960967, 0.76186218, 0.51333203, 0.22542078, 0.06934298,\n",
       "       0.45776765, 0.98851027, 0.40794063, 0.67638781, 0.14069877,\n",
       "       0.1030047 , 0.79579655, 0.88214393, 0.80381876, 0.05888001,\n",
       "       0.45235052, 0.19804206, 0.48133568, 0.58318861, 0.04982159,\n",
       "       0.54046551, 0.10123867, 0.02055281, 0.05726587, 0.12095857,\n",
       "       0.90311165, 0.26500227, 0.31326909, 0.70961373, 0.12339907,\n",
       "       0.85642646, 0.44893042, 0.28443386, 0.86481241, 0.38590222,\n",
       "       0.65718213, 0.69779861, 0.22294189, 0.70588898, 0.47880582,\n",
       "       0.17821564, 0.48491793, 0.65420327, 0.19643693, 0.43920334,\n",
       "       0.23757531, 0.38522279, 0.15162626, 0.47702018, 0.08497646,\n",
       "       0.50011177, 0.92985446, 0.00830036, 0.39478301, 0.9592679 ,\n",
       "       0.62530891, 0.26466602, 0.65856486, 0.486981  , 0.25058823,\n",
       "       0.62340534, 0.22253099, 0.76756549, 0.69434568, 0.59572746,\n",
       "       0.47265419, 0.198461  , 0.15417112, 0.41852512, 0.49279612,\n",
       "       0.98933957, 0.85745043, 0.47213071, 0.52362372, 0.19161412,\n",
       "       0.22754972, 0.12544917, 0.3726122 , 0.78431824, 0.33416229,\n",
       "       0.11535694, 0.33353208, 0.68534379, 0.7146166 , 0.55768597,\n",
       "       0.20224216, 0.02459763, 0.26672022, 0.2939996 , 0.34442362,\n",
       "       0.46146618, 0.21267153, 0.08713662, 0.71716424, 0.34722712])"
      ]
     },
     "execution_count": 69,
     "metadata": {},
     "output_type": "execute_result"
    }
   ],
   "source": [
    "np.random.random(100)"
   ]
  },
  {
   "cell_type": "code",
   "execution_count": 75,
   "id": "7b889a6e-a269-45f7-b607-cb0e59057a1b",
   "metadata": {},
   "outputs": [
    {
     "data": {
      "text/plain": [
       "(array([335., 358., 327., 350., 340., 368., 341., 345., 316., 354., 319.,\n",
       "        317., 348., 333., 329., 338., 306., 353., 321., 332., 327., 342.,\n",
       "        323., 288., 333., 347., 329., 295., 366., 320.]),\n",
       " array([1.83077389e-05, 3.33484193e-02, 6.66785309e-02, 1.00008642e-01,\n",
       "        1.33338754e-01, 1.66668866e-01, 1.99998977e-01, 2.33329089e-01,\n",
       "        2.66659200e-01, 2.99989312e-01, 3.33319424e-01, 3.66649535e-01,\n",
       "        3.99979647e-01, 4.33309758e-01, 4.66639870e-01, 4.99969981e-01,\n",
       "        5.33300093e-01, 5.66630205e-01, 5.99960316e-01, 6.33290428e-01,\n",
       "        6.66620539e-01, 6.99950651e-01, 7.33280763e-01, 7.66610874e-01,\n",
       "        7.99940986e-01, 8.33271097e-01, 8.66601209e-01, 8.99931320e-01,\n",
       "        9.33261432e-01, 9.66591544e-01, 9.99921655e-01]),\n",
       " <BarContainer object of 30 artists>)"
      ]
     },
     "execution_count": 75,
     "metadata": {},
     "output_type": "execute_result"
    },
    {
     "data": {
      "image/png": "[encoded data removed]",
      "text/plain": [
       "<Figure size 432x288 with 1 Axes>"
      ]
     },
     "metadata": {
      "needs_background": "light"
     },
     "output_type": "display_data"
    }
   ],
   "source": [
    "import matplotlib.pyplot as plt\n",
    "plt.hist(np.random.random(10000), bins=30)"
   ]
  },
  {
   "cell_type": "code",
   "execution_count": 77,
   "id": "db854f3c-6252-4266-8db1-020d9876fb69",
   "metadata": {},
   "outputs": [
    {
     "data": {
      "text/plain": [
       "array([[-1.5026429 , -1.11973872,  1.48024833],\n",
       "       [ 0.2807841 ,  0.13580883,  0.42455003],\n",
       "       [-1.94033475, -0.35908773, -0.71415855]])"
      ]
     },
     "execution_count": 77,
     "metadata": {},
     "output_type": "execute_result"
    }
   ],
   "source": [
    "np.random.normal(0,1,(3,3)) #normal (Gaussion) distribution"
   ]
  },
  {
   "cell_type": "markdown",
   "id": "e8a47683-89cd-494c-94dd-fe8e9753af58",
   "metadata": {},
   "source": [
    "![](https://www.researchgate.net/profile/Mohamed-Abdelkareem-3/publication/339429775/figure/fig5/AS:866295083986945@1583552251305/Probability-distribution-function-a-uniform-distribution-of-the-excitation-frequency.png)"
   ]
  },
  {
   "cell_type": "markdown",
   "id": "4507893a-3771-475c-bb9e-a3c2ab3d4bf2",
   "metadata": {},
   "source": [
    "**Normal distribution**\n",
    "- Ring-shaped\n",
    "- Synmetric via mean\n",
    "- Mean represents central tendency of data's distribution (mean = medium = mode)"
   ]
  },
  {
   "cell_type": "code",
   "execution_count": 123,
   "id": "95c0a81d-09a1-48e7-bb04-654a100e54d4",
   "metadata": {},
   "outputs": [
    {
     "data": {
      "text/plain": [
       "(array([1., 0., 0., 0., 0., 0., 0., 0., 0., 1.]),\n",
       " array([1.83485016, 2.04144779, 2.24804542, 2.45464306, 2.66124069,\n",
       "        2.86783832, 3.07443596, 3.28103359, 3.48763122, 3.69422885,\n",
       "        3.90082649]),\n",
       " <BarContainer object of 10 artists>)"
      ]
     },
     "execution_count": 123,
     "metadata": {},
     "output_type": "execute_result"
    },
    {
     "data": {
      "image/png": "[encoded data removed]",
      "text/plain": [
       "<Figure size 432x288 with 1 Axes>"
      ]
     },
     "metadata": {
      "needs_background": "light"
     },
     "output_type": "display_data"
    }
   ],
   "source": [
    "plt.hist(np.random.normal((3,3)))"
   ]
  },
  {
   "cell_type": "code",
   "execution_count": 92,
   "id": "8da45a8a-614b-4a28-b50f-5f971ec405ad",
   "metadata": {},
   "outputs": [],
   "source": [
    "arr = np.random.seed(0) # seed for reproducibility\n",
    "arr"
   ]
  },
  {
   "cell_type": "code",
   "execution_count": 98,
   "id": "8a685f0c-abc0-49c9-957d-e5174b368837",
   "metadata": {},
   "outputs": [
    {
     "data": {
      "text/plain": [
       "array([0.5488135 , 0.71518937, 0.60276338, 0.54488318, 0.4236548 ,\n",
       "       0.64589411, 0.43758721, 0.891773  , 0.96366276, 0.38344152,\n",
       "       0.79172504, 0.52889492, 0.56804456, 0.92559664, 0.07103606,\n",
       "       0.0871293 , 0.0202184 , 0.83261985, 0.77815675, 0.87001215,\n",
       "       0.97861834, 0.79915856, 0.46147936, 0.78052918, 0.11827443,\n",
       "       0.63992102, 0.14335329, 0.94466892, 0.52184832, 0.41466194,\n",
       "       0.26455561, 0.77423369, 0.45615033, 0.56843395, 0.0187898 ,\n",
       "       0.6176355 , 0.61209572, 0.616934  , 0.94374808, 0.6818203 ,\n",
       "       0.3595079 , 0.43703195, 0.6976312 , 0.06022547, 0.66676672,\n",
       "       0.67063787, 0.21038256, 0.1289263 , 0.31542835, 0.36371077,\n",
       "       0.57019677, 0.43860151, 0.98837384, 0.10204481, 0.20887676,\n",
       "       0.16130952, 0.65310833, 0.2532916 , 0.46631077, 0.24442559,\n",
       "       0.15896958, 0.11037514, 0.65632959, 0.13818295, 0.19658236,\n",
       "       0.36872517, 0.82099323, 0.09710128, 0.83794491, 0.09609841,\n",
       "       0.97645947, 0.4686512 , 0.97676109, 0.60484552, 0.73926358,\n",
       "       0.03918779, 0.28280696, 0.12019656, 0.2961402 , 0.11872772,\n",
       "       0.31798318, 0.41426299, 0.0641475 , 0.69247212, 0.56660145,\n",
       "       0.26538949, 0.52324805, 0.09394051, 0.5759465 , 0.9292962 ,\n",
       "       0.31856895, 0.66741038, 0.13179786, 0.7163272 , 0.28940609,\n",
       "       0.18319136, 0.58651293, 0.02010755, 0.82894003, 0.00469548])"
      ]
     },
     "execution_count": 98,
     "metadata": {},
     "output_type": "execute_result"
    }
   ],
   "source": [
    "arr = np.random.random(100)\n",
    "arr"
   ]
  },
  {
   "cell_type": "markdown",
   "id": "af51792a-cc46-4575-8c36-6af285ef01a7",
   "metadata": {},
   "source": [
    "**Save and load**"
   ]
  },
  {
   "cell_type": "code",
   "execution_count": 105,
   "id": "176017a6-c8b8-4e10-9741-077d0c0625ac",
   "metadata": {},
   "outputs": [],
   "source": [
    "np.savetxt('C:\\\\Users\\\\ADMIN\\\\Documents\\\\GitHub\\\\temp\\\\mci_python_31_level_1\\\\Live Slides\\\\Live Lecture 4\\\\Save_test\\\\name.txt', arr) #Save for reusing later"
   ]
  },
  {
   "cell_type": "code",
   "execution_count": 106,
   "id": "2cbef666-29e0-4c64-b01f-c187c5467cdf",
   "metadata": {},
   "outputs": [],
   "source": [
    "np.savetxt('.\\\\Save_test\\\\name.txt', arr) #Save for reusing later"
   ]
  },
  {
   "cell_type": "code",
   "execution_count": 100,
   "id": "f27dcb45-8783-4f69-a677-3ba90cd3fac6",
   "metadata": {},
   "outputs": [],
   "source": [
    "arr1 = np.loadtxt('name.txt')"
   ]
  },
  {
   "cell_type": "code",
   "execution_count": 101,
   "id": "ce438cba-ca30-47c4-9552-df03726aed4e",
   "metadata": {},
   "outputs": [
    {
     "data": {
      "text/plain": [
       "array([0.5488135 , 0.71518937, 0.60276338, 0.54488318, 0.4236548 ,\n",
       "       0.64589411, 0.43758721, 0.891773  , 0.96366276, 0.38344152,\n",
       "       0.79172504, 0.52889492, 0.56804456, 0.92559664, 0.07103606,\n",
       "       0.0871293 , 0.0202184 , 0.83261985, 0.77815675, 0.87001215,\n",
       "       0.97861834, 0.79915856, 0.46147936, 0.78052918, 0.11827443,\n",
       "       0.63992102, 0.14335329, 0.94466892, 0.52184832, 0.41466194,\n",
       "       0.26455561, 0.77423369, 0.45615033, 0.56843395, 0.0187898 ,\n",
       "       0.6176355 , 0.61209572, 0.616934  , 0.94374808, 0.6818203 ,\n",
       "       0.3595079 , 0.43703195, 0.6976312 , 0.06022547, 0.66676672,\n",
       "       0.67063787, 0.21038256, 0.1289263 , 0.31542835, 0.36371077,\n",
       "       0.57019677, 0.43860151, 0.98837384, 0.10204481, 0.20887676,\n",
       "       0.16130952, 0.65310833, 0.2532916 , 0.46631077, 0.24442559,\n",
       "       0.15896958, 0.11037514, 0.65632959, 0.13818295, 0.19658236,\n",
       "       0.36872517, 0.82099323, 0.09710128, 0.83794491, 0.09609841,\n",
       "       0.97645947, 0.4686512 , 0.97676109, 0.60484552, 0.73926358,\n",
       "       0.03918779, 0.28280696, 0.12019656, 0.2961402 , 0.11872772,\n",
       "       0.31798318, 0.41426299, 0.0641475 , 0.69247212, 0.56660145,\n",
       "       0.26538949, 0.52324805, 0.09394051, 0.5759465 , 0.9292962 ,\n",
       "       0.31856895, 0.66741038, 0.13179786, 0.7163272 , 0.28940609,\n",
       "       0.18319136, 0.58651293, 0.02010755, 0.82894003, 0.00469548])"
      ]
     },
     "execution_count": 101,
     "metadata": {},
     "output_type": "execute_result"
    }
   ],
   "source": [
    "arr1"
   ]
  },
  {
   "cell_type": "code",
   "execution_count": 102,
   "id": "06875048-5e0d-4ceb-b866-1473fbd7e29d",
   "metadata": {},
   "outputs": [
    {
     "data": {
      "text/plain": [
       "'C:\\\\Users\\\\ADMIN\\\\Documents\\\\GitHub\\\\temp\\\\mci_python_31_level_1\\\\Live Slides\\\\Live Lecture 4'"
      ]
     },
     "execution_count": 102,
     "metadata": {},
     "output_type": "execute_result"
    }
   ],
   "source": [
    "pwd\n"
   ]
  },
  {
   "cell_type": "markdown",
   "id": "22ffd5ca-7897-45fc-80d2-4bfece0cf3e0",
   "metadata": {},
   "source": [
    "### 2.2 Index & Slicing "
   ]
  },
  {
   "cell_type": "code",
   "execution_count": 109,
   "id": "9203a57b-2193-4b52-9f87-9d17ec4a876f",
   "metadata": {},
   "outputs": [
    {
     "data": {
      "text/plain": [
       "array([ 1.,  2.,  3.,  4.,  5.,  6.,  7.,  8.,  9., 10., 11., 12., 13.,\n",
       "       14., 15., 16.])"
      ]
     },
     "execution_count": 109,
     "metadata": {},
     "output_type": "execute_result"
    }
   ],
   "source": [
    "arr = np.linspace(1,16,16)\n",
    "arr"
   ]
  },
  {
   "cell_type": "code",
   "execution_count": 112,
   "id": "fe0c92a5-2734-4425-917e-6973bc869d5e",
   "metadata": {},
   "outputs": [
    {
     "data": {
      "text/plain": [
       "array([[ 1.,  2.,  3.,  4.],\n",
       "       [ 5.,  6.,  7.,  8.],\n",
       "       [ 9., 10., 11., 12.],\n",
       "       [13., 14., 15., 16.]])"
      ]
     },
     "execution_count": 112,
     "metadata": {},
     "output_type": "execute_result"
    }
   ],
   "source": [
    "#chuyển matrận 1 chiều sang ma trận nhiều chiều, với điều kiện số phần tử phải bằng nhau\n",
    "#ở đây 16 = 4 x 4\n",
    "\n",
    "arr = np.linspace(1,16,16).reshape(4,4) \n",
    "arr"
   ]
  },
  {
   "cell_type": "code",
   "execution_count": 115,
   "id": "497c380d-3e40-47e5-9a9e-e375569dd155",
   "metadata": {},
   "outputs": [
    {
     "data": {
      "text/plain": [
       "array([1., 2., 3., 4.])"
      ]
     },
     "execution_count": 115,
     "metadata": {},
     "output_type": "execute_result"
    }
   ],
   "source": [
    "#index\n",
    "arr[0]"
   ]
  },
  {
   "cell_type": "code",
   "execution_count": 117,
   "id": "d7c6c3c6-9503-407d-9acd-11f082e792dc",
   "metadata": {},
   "outputs": [
    {
     "data": {
      "text/plain": [
       "2.0"
      ]
     },
     "execution_count": 117,
     "metadata": {},
     "output_type": "execute_result"
    }
   ],
   "source": [
    "arr[0,1]"
   ]
  },
  {
   "cell_type": "code",
   "execution_count": 120,
   "id": "aec18ff4-fdec-4a81-ade2-5038cf787f05",
   "metadata": {},
   "outputs": [
    {
     "data": {
      "text/plain": [
       "array([1., 2., 3., 4.])"
      ]
     },
     "execution_count": 120,
     "metadata": {},
     "output_type": "execute_result"
    }
   ],
   "source": [
    "arr[0,:] #lấy một hàng (tương ứng 1 phần tử)"
   ]
  },
  {
   "cell_type": "code",
   "execution_count": 121,
   "id": "724d6a50-1d57-4f2b-b427-b9c4fc0c75ae",
   "metadata": {},
   "outputs": [
    {
     "data": {
      "text/plain": [
       "array([ 3.,  7., 11., 15.])"
      ]
     },
     "execution_count": 121,
     "metadata": {},
     "output_type": "execute_result"
    }
   ],
   "source": [
    "arr[:,2] #lấy một cột (tương ứng 1 phần tử trong mỗi phần tử của 1 chiều)"
   ]
  },
  {
   "cell_type": "code",
   "execution_count": 125,
   "id": "ca0d6daf-f173-475d-9a55-0b07c6424e33",
   "metadata": {},
   "outputs": [
    {
     "data": {
      "text/plain": [
       "array([[ 1.,  2.,  3.],\n",
       "       [ 5.,  6.,  7.],\n",
       "       [ 9., 10., 11.]])"
      ]
     },
     "execution_count": 125,
     "metadata": {},
     "output_type": "execute_result"
    }
   ],
   "source": [
    "arr[0:3,0:3] #inclusive start exclusive stop"
   ]
  },
  {
   "cell_type": "code",
   "execution_count": 134,
   "id": "b85f070f-0b15-48aa-b4c8-e3acdb55bf2d",
   "metadata": {},
   "outputs": [
    {
     "data": {
      "text/plain": [
       "array([[3., 4.],\n",
       "       [7., 8.]])"
      ]
     },
     "execution_count": 134,
     "metadata": {},
     "output_type": "execute_result"
    }
   ],
   "source": [
    "arr[:2,-2:]"
   ]
  },
  {
   "cell_type": "markdown",
   "id": "6b9366bf-f307-4934-b301-fa816336007c",
   "metadata": {},
   "source": [
    "### 2.3 Basic maths"
   ]
  },
  {
   "cell_type": "code",
   "execution_count": 135,
   "id": "9d93d0dd-1c01-4941-a940-4fc9ec7ef519",
   "metadata": {},
   "outputs": [],
   "source": [
    "arr1 = np.array([[1,2],\n",
    "                [2,4]])\n",
    "arr2 = np.array([[10,10],\n",
    "                [1,1]])"
   ]
  },
  {
   "cell_type": "code",
   "execution_count": 136,
   "id": "0c77562f-0993-457e-8dc2-195092441cfb",
   "metadata": {},
   "outputs": [
    {
     "data": {
      "text/plain": [
       "array([[11, 12],\n",
       "       [ 3,  5]])"
      ]
     },
     "execution_count": 136,
     "metadata": {},
     "output_type": "execute_result"
    }
   ],
   "source": [
    "arr1 + arr2 #element wise"
   ]
  },
  {
   "cell_type": "code",
   "execution_count": 137,
   "id": "b2fed659-4cfb-45e9-93ae-0d2de20e509d",
   "metadata": {},
   "outputs": [
    {
     "data": {
      "text/plain": [
       "array([[-9, -8],\n",
       "       [ 1,  3]])"
      ]
     },
     "execution_count": 137,
     "metadata": {},
     "output_type": "execute_result"
    }
   ],
   "source": [
    "arr1 - arr2"
   ]
  },
  {
   "cell_type": "code",
   "execution_count": 138,
   "id": "34e745b6-4f38-4c16-9004-8aab59abf6cc",
   "metadata": {},
   "outputs": [
    {
     "data": {
      "text/plain": [
       "array([[10, 20],\n",
       "       [ 2,  4]])"
      ]
     },
     "execution_count": 138,
     "metadata": {},
     "output_type": "execute_result"
    }
   ],
   "source": [
    "arr1 * arr2"
   ]
  },
  {
   "cell_type": "code",
   "execution_count": 139,
   "id": "34c0124e-8aea-4407-bb81-1c029d232b5d",
   "metadata": {},
   "outputs": [
    {
     "data": {
      "text/plain": [
       "array([[0.1, 0.2],\n",
       "       [2. , 4. ]])"
      ]
     },
     "execution_count": 139,
     "metadata": {},
     "output_type": "execute_result"
    }
   ],
   "source": [
    "arr1 / arr2"
   ]
  },
  {
   "cell_type": "code",
   "execution_count": 141,
   "id": "6032b56e-1586-4a22-8e90-22251b6c564d",
   "metadata": {},
   "outputs": [
    {
     "data": {
      "text/plain": [
       "array([[12, 12],\n",
       "       [24, 24]])"
      ]
     },
     "execution_count": 141,
     "metadata": {},
     "output_type": "execute_result"
    }
   ],
   "source": [
    "#matric multiplication\n",
    "arr1 @ arr2"
   ]
  },
  {
   "cell_type": "markdown",
   "id": "71d881b0-f9bb-460a-9e53-178e47b2a4b5",
   "metadata": {},
   "source": [
    "**Mean, Median, Mode**"
   ]
  },
  {
   "cell_type": "code",
   "execution_count": 142,
   "id": "9c63c624-f5d7-405f-a508-a95a8fd7c6be",
   "metadata": {},
   "outputs": [],
   "source": [
    "arr = np.linspace(1,12,12, dtype = 'int').reshape(3,4)"
   ]
  },
  {
   "cell_type": "code",
   "execution_count": 143,
   "id": "f0f4bc98-f20e-4b21-bf19-98e1560bb73a",
   "metadata": {},
   "outputs": [
    {
     "data": {
      "text/plain": [
       "6.5"
      ]
     },
     "execution_count": 143,
     "metadata": {},
     "output_type": "execute_result"
    }
   ],
   "source": [
    "np.mean(arr)"
   ]
  },
  {
   "cell_type": "code",
   "execution_count": 144,
   "id": "4dcd9a2a-1811-4367-b53a-4a97db60caa1",
   "metadata": {},
   "outputs": [
    {
     "data": {
      "text/plain": [
       "6.5"
      ]
     },
     "execution_count": 144,
     "metadata": {},
     "output_type": "execute_result"
    }
   ],
   "source": [
    "np.median(arr)"
   ]
  },
  {
   "cell_type": "code",
   "execution_count": 147,
   "id": "3d50e0bc-7c32-4ae0-8dec-cb40fb54c11d",
   "metadata": {},
   "outputs": [
    {
     "data": {
      "text/plain": [
       "3.452052529534663"
      ]
     },
     "execution_count": 147,
     "metadata": {},
     "output_type": "execute_result"
    }
   ],
   "source": [
    "np.std(arr)"
   ]
  },
  {
   "cell_type": "code",
   "execution_count": 148,
   "id": "34576077-cb2c-4def-8ae1-5f8353139c73",
   "metadata": {},
   "outputs": [
    {
     "data": {
      "text/plain": [
       "78"
      ]
     },
     "execution_count": 148,
     "metadata": {},
     "output_type": "execute_result"
    }
   ],
   "source": [
    "np.sum(arr)"
   ]
  },
  {
   "cell_type": "code",
   "execution_count": null,
   "id": "9a15114a-7d52-449a-bac5-4556f43abf6c",
   "metadata": {},
   "outputs": [],
   "source": []
  }
 ],
 "metadata": {
  "kernelspec": {
   "display_name": "Python 3",
   "language": "python",
   "name": "python3"
  },
  "language_info": {
   "codemirror_mode": {
    "name": "ipython",
    "version": 3
   },
   "file_extension": ".py",
   "mimetype": "text/x-python",
   "name": "python",
   "nbconvert_exporter": "python",
   "pygments_lexer": "ipython3",
   "version": "3.7.10"
  }
 },
 "nbformat": 4,
 "nbformat_minor": 5
}
