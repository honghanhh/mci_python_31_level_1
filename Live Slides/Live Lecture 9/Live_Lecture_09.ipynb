{
 "cells": [
  {
   "cell_type": "markdown",
   "id": "4d25cbf4-c61f-472f-a63c-1d4d1560a10e",
   "metadata": {},
   "source": [
    "# <center> LESSON 9: CASE STUDY with CREDIT SCORING </center>"
   ]
  },
  {
   "cell_type": "markdown",
   "id": "f0f04520-90a4-4508-b8cc-3ab2f97590e5",
   "metadata": {},
   "source": [
    "## 1. PROBLEM\n",
    "\n",
    "Banks play a crucial role in market economies. They decide who can get finance and on what terms and can make or break investment decisions. For markets and society to function, individuals and companies need access to credit. \n",
    "\n",
    "Credit scoring algorithms, which make a guess at the probability of default, are the method banks use to determine whether or not a loan should be granted. This competition requires participants to improve on the state of the art in credit scoring, by predicting the probability that somebody will experience financial distress in the next two years.\n",
    "\n",
    "- **Input**: Historical data of 250,000 borrowers.\n",
    "- **Output**: SeriousDlqin2yrs.\n",
    "- **Goal**: Build a model that borrowers can use to help make the best financial decisions."
   ]
  },
  {
   "cell_type": "markdown",
   "id": "6ff4b96a-7367-4b25-b3f1-ea70a4a0243e",
   "metadata": {},
   "source": [
    "BASEL I, II, III, IV -> rules + ML algorithms"
   ]
  },
  {
   "cell_type": "markdown",
   "id": "29c06173-b68c-47c7-a989-34f8a9c4c095",
   "metadata": {},
   "source": [
    "Reference: [Kaggle Dataset](https://www.kaggle.com/c/GiveMeSomeCredit)"
   ]
  },
  {
   "cell_type": "markdown",
   "id": "717033bd-c27e-4dbe-b053-d4822c6fe7bd",
   "metadata": {},
   "source": [
    "## 2. Exploratory Data Analysis (EDA)"
   ]
  },
  {
   "cell_type": "markdown",
   "id": "04b84143-33b4-4463-87fa-65a11746f1f9",
   "metadata": {},
   "source": [
    "### 2.1 Variables descriptions"
   ]
  },
  {
   "cell_type": "markdown",
   "id": "be0f8213-edb5-43dc-8e0b-83354e2919e6",
   "metadata": {},
   "source": [
    "|Variables|Descriptions|\n",
    "|-|-|\n",
    "|**SeriousDlqin2yrs**| Person experienced 90 days past due delinquency or worse|\n",
    "|**RevolvingUtilizationOfUnsecuredLines**| Total balance on credit cards and personal lines of credit except real estate and no installment debt like car loans divided by the sum of credit limits|\n",
    "|**age**| Age of borrower in years|\n",
    "|**NumberOfTime30-59DaysPastDueNotWorse**| Number of times borrower has been 30-59 days past due but no worse in the last 2 years||\n",
    "|**DebtRatio**| Monthly debt payments, alimony,living costs divided by monthy gross income\n",
    "|**MonthlyIncome**| Monthly income|\n",
    "|**NumberOfOpenCreditLinesAndLoans**| Number of Open loans (installment like car loan or mortgage) and Lines of credit (e.g. credit cards)|\n",
    "|**NumberOfTimes90DaysLate**| Number of times borrower has been 90 days or more past due|\n",
    "|**NumberRealEstateLoansOrLines**| Number of mortgage and real estate loans including home equity lines of credit|\n",
    "|**NumberOfTime60-89DaysPastDueNotWorse**| Number of times borrower has been 60-89 days past due but no worse in the last 2 years|\n",
    "|**NumberOfDependents**| Number of dependents in family excluding themselves (spouse, children etc.)|"
   ]
  },
  {
   "cell_type": "markdown",
   "id": "0552cbf7-3df0-46b9-9e30-230e170fa517",
   "metadata": {},
   "source": [
    "### 2.2 Statistics"
   ]
  },
  {
   "cell_type": "markdown",
   "id": "6f9ca2f1-5cd1-4e4c-804d-2ed0ec488ad4",
   "metadata": {},
   "source": [
    "**Q1: Import necessary libraries: Pandas, Numpy, Matplotlib, Seaborn**"
   ]
  },
  {
   "cell_type": "code",
   "execution_count": 1,
   "id": "cb013cef-cfa4-49d7-81e6-fe0e7ebb0e6e",
   "metadata": {},
   "outputs": [],
   "source": [
    "import pandas as pd\n",
    "import numpy as np\n",
    "import matplotlib.pyplot as plt\n",
    "import seaborn as sns"
   ]
  },
  {
   "cell_type": "markdown",
   "id": "83dd5e2c-bceb-4f31-a824-59d31a61b4f4",
   "metadata": {},
   "source": [
    "**Q2: Load data using pd.read_csv()**"
   ]
  },
  {
   "cell_type": "code",
   "execution_count": 2,
   "id": "c3616d35-20a0-438f-b493-0cb6cb88325b",
   "metadata": {},
   "outputs": [],
   "source": [
    "df_train = pd.read_csv('cs-training.csv')\n",
    "df_test = pd.read_csv('cs-test.csv')"
   ]
  },
  {
   "cell_type": "markdown",
   "id": "0e57838e-6dfe-44de-9011-9668a6082fe6",
   "metadata": {},
   "source": [
    "**Q3: Get the first 5 rows of train set**"
   ]
  },
  {
   "cell_type": "code",
   "execution_count": 3,
   "id": "eca877f2-f214-43e3-aea5-7235b588f5ef",
   "metadata": {},
   "outputs": [
    {
     "data": {
      "text/html": [
       "<div>\n",
       "<style scoped>\n",
       "    .dataframe tbody tr th:only-of-type {\n",
       "        vertical-align: middle;\n",
       "    }\n",
       "\n",
       "    .dataframe tbody tr th {\n",
       "        vertical-align: top;\n",
       "    }\n",
       "\n",
       "    .dataframe thead th {\n",
       "        text-align: right;\n",
       "    }\n",
       "</style>\n",
       "<table border=\"1\" class=\"dataframe\">\n",
       "  <thead>\n",
       "    <tr style=\"text-align: right;\">\n",
       "      <th></th>\n",
       "      <th>SeriousDlqin2yrs</th>\n",
       "      <th>RevolvingUtilizationOfUnsecuredLines</th>\n",
       "      <th>age</th>\n",
       "      <th>NumberOfTime30-59DaysPastDueNotWorse</th>\n",
       "      <th>DebtRatio</th>\n",
       "      <th>MonthlyIncome</th>\n",
       "      <th>NumberOfOpenCreditLinesAndLoans</th>\n",
       "      <th>NumberOfTimes90DaysLate</th>\n",
       "      <th>NumberRealEstateLoansOrLines</th>\n",
       "      <th>NumberOfTime60-89DaysPastDueNotWorse</th>\n",
       "      <th>NumberOfDependents</th>\n",
       "    </tr>\n",
       "  </thead>\n",
       "  <tbody>\n",
       "    <tr>\n",
       "      <th>0</th>\n",
       "      <td>1</td>\n",
       "      <td>0.766127</td>\n",
       "      <td>45</td>\n",
       "      <td>2</td>\n",
       "      <td>0.802982</td>\n",
       "      <td>9120.0</td>\n",
       "      <td>13</td>\n",
       "      <td>0</td>\n",
       "      <td>6</td>\n",
       "      <td>0</td>\n",
       "      <td>2.0</td>\n",
       "    </tr>\n",
       "    <tr>\n",
       "      <th>1</th>\n",
       "      <td>0</td>\n",
       "      <td>0.957151</td>\n",
       "      <td>40</td>\n",
       "      <td>0</td>\n",
       "      <td>0.121876</td>\n",
       "      <td>2600.0</td>\n",
       "      <td>4</td>\n",
       "      <td>0</td>\n",
       "      <td>0</td>\n",
       "      <td>0</td>\n",
       "      <td>1.0</td>\n",
       "    </tr>\n",
       "    <tr>\n",
       "      <th>2</th>\n",
       "      <td>0</td>\n",
       "      <td>0.658180</td>\n",
       "      <td>38</td>\n",
       "      <td>1</td>\n",
       "      <td>0.085113</td>\n",
       "      <td>3042.0</td>\n",
       "      <td>2</td>\n",
       "      <td>1</td>\n",
       "      <td>0</td>\n",
       "      <td>0</td>\n",
       "      <td>0.0</td>\n",
       "    </tr>\n",
       "    <tr>\n",
       "      <th>3</th>\n",
       "      <td>0</td>\n",
       "      <td>0.233810</td>\n",
       "      <td>30</td>\n",
       "      <td>0</td>\n",
       "      <td>0.036050</td>\n",
       "      <td>3300.0</td>\n",
       "      <td>5</td>\n",
       "      <td>0</td>\n",
       "      <td>0</td>\n",
       "      <td>0</td>\n",
       "      <td>0.0</td>\n",
       "    </tr>\n",
       "    <tr>\n",
       "      <th>4</th>\n",
       "      <td>0</td>\n",
       "      <td>0.907239</td>\n",
       "      <td>49</td>\n",
       "      <td>1</td>\n",
       "      <td>0.024926</td>\n",
       "      <td>63588.0</td>\n",
       "      <td>7</td>\n",
       "      <td>0</td>\n",
       "      <td>1</td>\n",
       "      <td>0</td>\n",
       "      <td>0.0</td>\n",
       "    </tr>\n",
       "  </tbody>\n",
       "</table>\n",
       "</div>"
      ],
      "text/plain": [
       "   SeriousDlqin2yrs  RevolvingUtilizationOfUnsecuredLines  age  \\\n",
       "0                 1                              0.766127   45   \n",
       "1                 0                              0.957151   40   \n",
       "2                 0                              0.658180   38   \n",
       "3                 0                              0.233810   30   \n",
       "4                 0                              0.907239   49   \n",
       "\n",
       "   NumberOfTime30-59DaysPastDueNotWorse  DebtRatio  MonthlyIncome  \\\n",
       "0                                     2   0.802982         9120.0   \n",
       "1                                     0   0.121876         2600.0   \n",
       "2                                     1   0.085113         3042.0   \n",
       "3                                     0   0.036050         3300.0   \n",
       "4                                     1   0.024926        63588.0   \n",
       "\n",
       "   NumberOfOpenCreditLinesAndLoans  NumberOfTimes90DaysLate  \\\n",
       "0                               13                        0   \n",
       "1                                4                        0   \n",
       "2                                2                        1   \n",
       "3                                5                        0   \n",
       "4                                7                        0   \n",
       "\n",
       "   NumberRealEstateLoansOrLines  NumberOfTime60-89DaysPastDueNotWorse  \\\n",
       "0                             6                                     0   \n",
       "1                             0                                     0   \n",
       "2                             0                                     0   \n",
       "3                             0                                     0   \n",
       "4                             1                                     0   \n",
       "\n",
       "   NumberOfDependents  \n",
       "0                 2.0  \n",
       "1                 1.0  \n",
       "2                 0.0  \n",
       "3                 0.0  \n",
       "4                 0.0  "
      ]
     },
     "execution_count": 3,
     "metadata": {},
     "output_type": "execute_result"
    }
   ],
   "source": [
    "df_train.head(5)"
   ]
  },
  {
   "cell_type": "code",
   "execution_count": 4,
   "id": "05060c2f-6d5d-466a-9139-442a7fcddae6",
   "metadata": {},
   "outputs": [
    {
     "data": {
      "text/html": [
       "<div>\n",
       "<style scoped>\n",
       "    .dataframe tbody tr th:only-of-type {\n",
       "        vertical-align: middle;\n",
       "    }\n",
       "\n",
       "    .dataframe tbody tr th {\n",
       "        vertical-align: top;\n",
       "    }\n",
       "\n",
       "    .dataframe thead th {\n",
       "        text-align: right;\n",
       "    }\n",
       "</style>\n",
       "<table border=\"1\" class=\"dataframe\">\n",
       "  <thead>\n",
       "    <tr style=\"text-align: right;\">\n",
       "      <th></th>\n",
       "      <th>SeriousDlqin2yrs</th>\n",
       "      <th>RevolvingUtilizationOfUnsecuredLines</th>\n",
       "      <th>age</th>\n",
       "      <th>NumberOfTime30-59DaysPastDueNotWorse</th>\n",
       "      <th>DebtRatio</th>\n",
       "      <th>MonthlyIncome</th>\n",
       "      <th>NumberOfOpenCreditLinesAndLoans</th>\n",
       "      <th>NumberOfTimes90DaysLate</th>\n",
       "      <th>NumberRealEstateLoansOrLines</th>\n",
       "      <th>NumberOfTime60-89DaysPastDueNotWorse</th>\n",
       "      <th>NumberOfDependents</th>\n",
       "    </tr>\n",
       "  </thead>\n",
       "  <tbody>\n",
       "    <tr>\n",
       "      <th>0</th>\n",
       "      <td>NaN</td>\n",
       "      <td>0.885519</td>\n",
       "      <td>43</td>\n",
       "      <td>0</td>\n",
       "      <td>0.177513</td>\n",
       "      <td>5700.0</td>\n",
       "      <td>4</td>\n",
       "      <td>0</td>\n",
       "      <td>0</td>\n",
       "      <td>0</td>\n",
       "      <td>0.0</td>\n",
       "    </tr>\n",
       "    <tr>\n",
       "      <th>1</th>\n",
       "      <td>NaN</td>\n",
       "      <td>0.463295</td>\n",
       "      <td>57</td>\n",
       "      <td>0</td>\n",
       "      <td>0.527237</td>\n",
       "      <td>9141.0</td>\n",
       "      <td>15</td>\n",
       "      <td>0</td>\n",
       "      <td>4</td>\n",
       "      <td>0</td>\n",
       "      <td>2.0</td>\n",
       "    </tr>\n",
       "    <tr>\n",
       "      <th>2</th>\n",
       "      <td>NaN</td>\n",
       "      <td>0.043275</td>\n",
       "      <td>59</td>\n",
       "      <td>0</td>\n",
       "      <td>0.687648</td>\n",
       "      <td>5083.0</td>\n",
       "      <td>12</td>\n",
       "      <td>0</td>\n",
       "      <td>1</td>\n",
       "      <td>0</td>\n",
       "      <td>2.0</td>\n",
       "    </tr>\n",
       "    <tr>\n",
       "      <th>3</th>\n",
       "      <td>NaN</td>\n",
       "      <td>0.280308</td>\n",
       "      <td>38</td>\n",
       "      <td>1</td>\n",
       "      <td>0.925961</td>\n",
       "      <td>3200.0</td>\n",
       "      <td>7</td>\n",
       "      <td>0</td>\n",
       "      <td>2</td>\n",
       "      <td>0</td>\n",
       "      <td>0.0</td>\n",
       "    </tr>\n",
       "    <tr>\n",
       "      <th>4</th>\n",
       "      <td>NaN</td>\n",
       "      <td>1.000000</td>\n",
       "      <td>27</td>\n",
       "      <td>0</td>\n",
       "      <td>0.019917</td>\n",
       "      <td>3865.0</td>\n",
       "      <td>4</td>\n",
       "      <td>0</td>\n",
       "      <td>0</td>\n",
       "      <td>0</td>\n",
       "      <td>1.0</td>\n",
       "    </tr>\n",
       "  </tbody>\n",
       "</table>\n",
       "</div>"
      ],
      "text/plain": [
       "   SeriousDlqin2yrs  RevolvingUtilizationOfUnsecuredLines  age  \\\n",
       "0               NaN                              0.885519   43   \n",
       "1               NaN                              0.463295   57   \n",
       "2               NaN                              0.043275   59   \n",
       "3               NaN                              0.280308   38   \n",
       "4               NaN                              1.000000   27   \n",
       "\n",
       "   NumberOfTime30-59DaysPastDueNotWorse  DebtRatio  MonthlyIncome  \\\n",
       "0                                     0   0.177513         5700.0   \n",
       "1                                     0   0.527237         9141.0   \n",
       "2                                     0   0.687648         5083.0   \n",
       "3                                     1   0.925961         3200.0   \n",
       "4                                     0   0.019917         3865.0   \n",
       "\n",
       "   NumberOfOpenCreditLinesAndLoans  NumberOfTimes90DaysLate  \\\n",
       "0                                4                        0   \n",
       "1                               15                        0   \n",
       "2                               12                        0   \n",
       "3                                7                        0   \n",
       "4                                4                        0   \n",
       "\n",
       "   NumberRealEstateLoansOrLines  NumberOfTime60-89DaysPastDueNotWorse  \\\n",
       "0                             0                                     0   \n",
       "1                             4                                     0   \n",
       "2                             1                                     0   \n",
       "3                             2                                     0   \n",
       "4                             0                                     0   \n",
       "\n",
       "   NumberOfDependents  \n",
       "0                 0.0  \n",
       "1                 2.0  \n",
       "2                 2.0  \n",
       "3                 0.0  \n",
       "4                 1.0  "
      ]
     },
     "execution_count": 4,
     "metadata": {},
     "output_type": "execute_result"
    }
   ],
   "source": [
    "df_test.head(5)"
   ]
  },
  {
   "cell_type": "markdown",
   "id": "bb18e103-d1db-45e4-b6e1-0ed231571952",
   "metadata": {},
   "source": [
    "**Q4: Get number of rows and columns of  train set**"
   ]
  },
  {
   "cell_type": "code",
   "execution_count": 5,
   "id": "337ed795-a13b-4d44-bdbe-42ddd0ada23e",
   "metadata": {},
   "outputs": [
    {
     "name": "stdout",
     "output_type": "stream",
     "text": [
      "<class 'pandas.core.frame.DataFrame'>\n",
      "RangeIndex: 150000 entries, 0 to 149999\n",
      "Data columns (total 11 columns):\n",
      " #   Column                                Non-Null Count   Dtype  \n",
      "---  ------                                --------------   -----  \n",
      " 0   SeriousDlqin2yrs                      150000 non-null  int64  \n",
      " 1   RevolvingUtilizationOfUnsecuredLines  150000 non-null  float64\n",
      " 2   age                                   150000 non-null  int64  \n",
      " 3   NumberOfTime30-59DaysPastDueNotWorse  150000 non-null  int64  \n",
      " 4   DebtRatio                             150000 non-null  float64\n",
      " 5   MonthlyIncome                         120269 non-null  float64\n",
      " 6   NumberOfOpenCreditLinesAndLoans       150000 non-null  int64  \n",
      " 7   NumberOfTimes90DaysLate               150000 non-null  int64  \n",
      " 8   NumberRealEstateLoansOrLines          150000 non-null  int64  \n",
      " 9   NumberOfTime60-89DaysPastDueNotWorse  150000 non-null  int64  \n",
      " 10  NumberOfDependents                    146076 non-null  float64\n",
      "dtypes: float64(4), int64(7)\n",
      "memory usage: 12.6 MB\n"
     ]
    }
   ],
   "source": [
    "df_train.info()"
   ]
  },
  {
   "cell_type": "code",
   "execution_count": 6,
   "id": "5d5c05c5-97a6-4507-b045-54b8c92f3e0a",
   "metadata": {},
   "outputs": [
    {
     "data": {
      "text/plain": [
       "((150000, 11), (101503, 11))"
      ]
     },
     "execution_count": 6,
     "metadata": {},
     "output_type": "execute_result"
    }
   ],
   "source": [
    "df_train.shape, df_test.shape"
   ]
  },
  {
   "cell_type": "markdown",
   "id": "c29df1d8-3c32-433c-927d-5a9c8685c849",
   "metadata": {},
   "source": [
    "**Q5: Describe the distribution of train set**"
   ]
  },
  {
   "cell_type": "code",
   "execution_count": 7,
   "id": "6a82b752-56b2-4b21-bff1-385ed7430359",
   "metadata": {},
   "outputs": [
    {
     "data": {
      "text/html": [
       "<div>\n",
       "<style scoped>\n",
       "    .dataframe tbody tr th:only-of-type {\n",
       "        vertical-align: middle;\n",
       "    }\n",
       "\n",
       "    .dataframe tbody tr th {\n",
       "        vertical-align: top;\n",
       "    }\n",
       "\n",
       "    .dataframe thead th {\n",
       "        text-align: right;\n",
       "    }\n",
       "</style>\n",
       "<table border=\"1\" class=\"dataframe\">\n",
       "  <thead>\n",
       "    <tr style=\"text-align: right;\">\n",
       "      <th></th>\n",
       "      <th>SeriousDlqin2yrs</th>\n",
       "      <th>RevolvingUtilizationOfUnsecuredLines</th>\n",
       "      <th>age</th>\n",
       "      <th>NumberOfTime30-59DaysPastDueNotWorse</th>\n",
       "      <th>DebtRatio</th>\n",
       "      <th>MonthlyIncome</th>\n",
       "      <th>NumberOfOpenCreditLinesAndLoans</th>\n",
       "      <th>NumberOfTimes90DaysLate</th>\n",
       "      <th>NumberRealEstateLoansOrLines</th>\n",
       "      <th>NumberOfTime60-89DaysPastDueNotWorse</th>\n",
       "      <th>NumberOfDependents</th>\n",
       "    </tr>\n",
       "  </thead>\n",
       "  <tbody>\n",
       "    <tr>\n",
       "      <th>count</th>\n",
       "      <td>150000.000000</td>\n",
       "      <td>150000.000000</td>\n",
       "      <td>150000.000000</td>\n",
       "      <td>150000.000000</td>\n",
       "      <td>150000.000000</td>\n",
       "      <td>1.202690e+05</td>\n",
       "      <td>150000.000000</td>\n",
       "      <td>150000.000000</td>\n",
       "      <td>150000.000000</td>\n",
       "      <td>150000.000000</td>\n",
       "      <td>146076.000000</td>\n",
       "    </tr>\n",
       "    <tr>\n",
       "      <th>mean</th>\n",
       "      <td>0.066840</td>\n",
       "      <td>6.048438</td>\n",
       "      <td>52.295207</td>\n",
       "      <td>0.421033</td>\n",
       "      <td>353.005076</td>\n",
       "      <td>6.670221e+03</td>\n",
       "      <td>8.452760</td>\n",
       "      <td>0.265973</td>\n",
       "      <td>1.018240</td>\n",
       "      <td>0.240387</td>\n",
       "      <td>0.757222</td>\n",
       "    </tr>\n",
       "    <tr>\n",
       "      <th>std</th>\n",
       "      <td>0.249746</td>\n",
       "      <td>249.755371</td>\n",
       "      <td>14.771866</td>\n",
       "      <td>4.192781</td>\n",
       "      <td>2037.818523</td>\n",
       "      <td>1.438467e+04</td>\n",
       "      <td>5.145951</td>\n",
       "      <td>4.169304</td>\n",
       "      <td>1.129771</td>\n",
       "      <td>4.155179</td>\n",
       "      <td>1.115086</td>\n",
       "    </tr>\n",
       "    <tr>\n",
       "      <th>min</th>\n",
       "      <td>0.000000</td>\n",
       "      <td>0.000000</td>\n",
       "      <td>0.000000</td>\n",
       "      <td>0.000000</td>\n",
       "      <td>0.000000</td>\n",
       "      <td>0.000000e+00</td>\n",
       "      <td>0.000000</td>\n",
       "      <td>0.000000</td>\n",
       "      <td>0.000000</td>\n",
       "      <td>0.000000</td>\n",
       "      <td>0.000000</td>\n",
       "    </tr>\n",
       "    <tr>\n",
       "      <th>25%</th>\n",
       "      <td>0.000000</td>\n",
       "      <td>0.029867</td>\n",
       "      <td>41.000000</td>\n",
       "      <td>0.000000</td>\n",
       "      <td>0.175074</td>\n",
       "      <td>3.400000e+03</td>\n",
       "      <td>5.000000</td>\n",
       "      <td>0.000000</td>\n",
       "      <td>0.000000</td>\n",
       "      <td>0.000000</td>\n",
       "      <td>0.000000</td>\n",
       "    </tr>\n",
       "    <tr>\n",
       "      <th>50%</th>\n",
       "      <td>0.000000</td>\n",
       "      <td>0.154181</td>\n",
       "      <td>52.000000</td>\n",
       "      <td>0.000000</td>\n",
       "      <td>0.366508</td>\n",
       "      <td>5.400000e+03</td>\n",
       "      <td>8.000000</td>\n",
       "      <td>0.000000</td>\n",
       "      <td>1.000000</td>\n",
       "      <td>0.000000</td>\n",
       "      <td>0.000000</td>\n",
       "    </tr>\n",
       "    <tr>\n",
       "      <th>75%</th>\n",
       "      <td>0.000000</td>\n",
       "      <td>0.559046</td>\n",
       "      <td>63.000000</td>\n",
       "      <td>0.000000</td>\n",
       "      <td>0.868254</td>\n",
       "      <td>8.249000e+03</td>\n",
       "      <td>11.000000</td>\n",
       "      <td>0.000000</td>\n",
       "      <td>2.000000</td>\n",
       "      <td>0.000000</td>\n",
       "      <td>1.000000</td>\n",
       "    </tr>\n",
       "    <tr>\n",
       "      <th>max</th>\n",
       "      <td>1.000000</td>\n",
       "      <td>50708.000000</td>\n",
       "      <td>109.000000</td>\n",
       "      <td>98.000000</td>\n",
       "      <td>329664.000000</td>\n",
       "      <td>3.008750e+06</td>\n",
       "      <td>58.000000</td>\n",
       "      <td>98.000000</td>\n",
       "      <td>54.000000</td>\n",
       "      <td>98.000000</td>\n",
       "      <td>20.000000</td>\n",
       "    </tr>\n",
       "  </tbody>\n",
       "</table>\n",
       "</div>"
      ],
      "text/plain": [
       "       SeriousDlqin2yrs  RevolvingUtilizationOfUnsecuredLines            age  \\\n",
       "count     150000.000000                         150000.000000  150000.000000   \n",
       "mean           0.066840                              6.048438      52.295207   \n",
       "std            0.249746                            249.755371      14.771866   \n",
       "min            0.000000                              0.000000       0.000000   \n",
       "25%            0.000000                              0.029867      41.000000   \n",
       "50%            0.000000                              0.154181      52.000000   \n",
       "75%            0.000000                              0.559046      63.000000   \n",
       "max            1.000000                          50708.000000     109.000000   \n",
       "\n",
       "       NumberOfTime30-59DaysPastDueNotWorse      DebtRatio  MonthlyIncome  \\\n",
       "count                         150000.000000  150000.000000   1.202690e+05   \n",
       "mean                               0.421033     353.005076   6.670221e+03   \n",
       "std                                4.192781    2037.818523   1.438467e+04   \n",
       "min                                0.000000       0.000000   0.000000e+00   \n",
       "25%                                0.000000       0.175074   3.400000e+03   \n",
       "50%                                0.000000       0.366508   5.400000e+03   \n",
       "75%                                0.000000       0.868254   8.249000e+03   \n",
       "max                               98.000000  329664.000000   3.008750e+06   \n",
       "\n",
       "       NumberOfOpenCreditLinesAndLoans  NumberOfTimes90DaysLate  \\\n",
       "count                    150000.000000            150000.000000   \n",
       "mean                          8.452760                 0.265973   \n",
       "std                           5.145951                 4.169304   \n",
       "min                           0.000000                 0.000000   \n",
       "25%                           5.000000                 0.000000   \n",
       "50%                           8.000000                 0.000000   \n",
       "75%                          11.000000                 0.000000   \n",
       "max                          58.000000                98.000000   \n",
       "\n",
       "       NumberRealEstateLoansOrLines  NumberOfTime60-89DaysPastDueNotWorse  \\\n",
       "count                 150000.000000                         150000.000000   \n",
       "mean                       1.018240                              0.240387   \n",
       "std                        1.129771                              4.155179   \n",
       "min                        0.000000                              0.000000   \n",
       "25%                        0.000000                              0.000000   \n",
       "50%                        1.000000                              0.000000   \n",
       "75%                        2.000000                              0.000000   \n",
       "max                       54.000000                             98.000000   \n",
       "\n",
       "       NumberOfDependents  \n",
       "count       146076.000000  \n",
       "mean             0.757222  \n",
       "std              1.115086  \n",
       "min              0.000000  \n",
       "25%              0.000000  \n",
       "50%              0.000000  \n",
       "75%              1.000000  \n",
       "max             20.000000  "
      ]
     },
     "execution_count": 7,
     "metadata": {},
     "output_type": "execute_result"
    }
   ],
   "source": [
    "df_train.describe() #boxplot"
   ]
  },
  {
   "cell_type": "markdown",
   "id": "b4e3ab1d-9b97-4e6d-b453-e04de98e7689",
   "metadata": {},
   "source": [
    "**Q6: Get information of train set by df.info()**"
   ]
  },
  {
   "cell_type": "code",
   "execution_count": 8,
   "id": "f561870d-fed0-4aac-b964-665f1b8a1e06",
   "metadata": {},
   "outputs": [
    {
     "name": "stdout",
     "output_type": "stream",
     "text": [
      "<class 'pandas.core.frame.DataFrame'>\n",
      "RangeIndex: 150000 entries, 0 to 149999\n",
      "Data columns (total 11 columns):\n",
      " #   Column                                Non-Null Count   Dtype  \n",
      "---  ------                                --------------   -----  \n",
      " 0   SeriousDlqin2yrs                      150000 non-null  int64  \n",
      " 1   RevolvingUtilizationOfUnsecuredLines  150000 non-null  float64\n",
      " 2   age                                   150000 non-null  int64  \n",
      " 3   NumberOfTime30-59DaysPastDueNotWorse  150000 non-null  int64  \n",
      " 4   DebtRatio                             150000 non-null  float64\n",
      " 5   MonthlyIncome                         120269 non-null  float64\n",
      " 6   NumberOfOpenCreditLinesAndLoans       150000 non-null  int64  \n",
      " 7   NumberOfTimes90DaysLate               150000 non-null  int64  \n",
      " 8   NumberRealEstateLoansOrLines          150000 non-null  int64  \n",
      " 9   NumberOfTime60-89DaysPastDueNotWorse  150000 non-null  int64  \n",
      " 10  NumberOfDependents                    146076 non-null  float64\n",
      "dtypes: float64(4), int64(7)\n",
      "memory usage: 12.6 MB\n"
     ]
    }
   ],
   "source": [
    "df_train.info()"
   ]
  },
  {
   "cell_type": "markdown",
   "id": "abb026fa-2219-4aaa-9cab-422b227c176a",
   "metadata": {},
   "source": [
    "**Q7: Get the missing percent per columns of train set**"
   ]
  },
  {
   "cell_type": "code",
   "execution_count": 9,
   "id": "e6c1cd05-ac01-4863-baf2-9ede8f177e53",
   "metadata": {},
   "outputs": [
    {
     "data": {
      "text/plain": [
       "SeriousDlqin2yrs                         0.000000\n",
       "RevolvingUtilizationOfUnsecuredLines     0.000000\n",
       "age                                      0.000000\n",
       "NumberOfTime30-59DaysPastDueNotWorse     0.000000\n",
       "DebtRatio                                0.000000\n",
       "MonthlyIncome                           19.820667\n",
       "NumberOfOpenCreditLinesAndLoans          0.000000\n",
       "NumberOfTimes90DaysLate                  0.000000\n",
       "NumberRealEstateLoansOrLines             0.000000\n",
       "NumberOfTime60-89DaysPastDueNotWorse     0.000000\n",
       "NumberOfDependents                       2.616000\n",
       "dtype: float64"
      ]
     },
     "execution_count": 9,
     "metadata": {},
     "output_type": "execute_result"
    }
   ],
   "source": [
    "# sum(missing)/len(data)\n",
    "df_train.isnull().sum()*100/len(df_train)"
   ]
  },
  {
   "cell_type": "markdown",
   "id": "0a9b3c72-a328-4890-9ef0-7cfeda88dd18",
   "metadata": {},
   "source": [
    "### 2.3 Visualization"
   ]
  },
  {
   "cell_type": "markdown",
   "id": "5504329f-36dd-4182-bd97-4eab3666df33",
   "metadata": {},
   "source": [
    "**Q8: Target disitribution on train set via bar chart**"
   ]
  },
  {
   "cell_type": "code",
   "execution_count": 10,
   "id": "5da5dfc6-0c82-4875-aed7-43d7c673bcda",
   "metadata": {},
   "outputs": [
    {
     "data": {
      "text/plain": [
       "0    93.316\n",
       "1     6.684\n",
       "Name: SeriousDlqin2yrs, dtype: float64"
      ]
     },
     "execution_count": 10,
     "metadata": {},
     "output_type": "execute_result"
    }
   ],
   "source": [
    "df_train.SeriousDlqin2yrs.value_counts()*100/len(df_train) #imbalanced data"
   ]
  },
  {
   "cell_type": "code",
   "execution_count": 11,
   "id": "9707e8bf-6a6b-438e-9566-2f8b49705660",
   "metadata": {},
   "outputs": [
    {
     "data": {
      "image/png": "[encoded data removed]",
      "text/plain": [
       "<Figure size 720x504 with 1 Axes>"
      ]
     },
     "metadata": {
      "needs_background": "light"
     },
     "output_type": "display_data"
    }
   ],
   "source": [
    "plt.figure(figsize=(10,7))\n",
    "df_train.SeriousDlqin2yrs.value_counts().plot(kind='bar', color=['red','green'])\n",
    "plt.title('Target distribution')\n",
    "plt.xlabel('Deliquency in 2 years')\n",
    "plt.ylabel('Frequency');"
   ]
  },
  {
   "cell_type": "code",
   "execution_count": 12,
   "id": "ca57d0ce-82e6-480c-8b0e-1c005a733581",
   "metadata": {},
   "outputs": [
    {
     "data": {
      "image/png": "[encoded data removed]",
      "text/plain": [
       "<Figure size 720x504 with 1 Axes>"
      ]
     },
     "metadata": {
      "needs_background": "light"
     },
     "output_type": "display_data"
    }
   ],
   "source": [
    "plt.figure(figsize=(10,7))\n",
    "sns.countplot(x=df_train.SeriousDlqin2yrs);"
   ]
  },
  {
   "cell_type": "markdown",
   "id": "aa5fed8c-c9a7-4d2b-acf8-6818bc683534",
   "metadata": {},
   "source": [
    "**Q9: Correlation of features and target**"
   ]
  },
  {
   "cell_type": "code",
   "execution_count": 13,
   "id": "3a964303-6bd0-4377-8639-7d5c3bfe04b8",
   "metadata": {},
   "outputs": [
    {
     "data": {
      "image/png": "[encoded data removed]",
      "text/plain": [
       "<Figure size 720x504 with 2 Axes>"
      ]
     },
     "metadata": {
      "needs_background": "light"
     },
     "output_type": "display_data"
    }
   ],
   "source": [
    "plt.figure(figsize=(10,7))\n",
    "sns.heatmap(df_train.corr(), annot=True);"
   ]
  },
  {
   "cell_type": "markdown",
   "id": "50ffa369-38f5-4a4d-8c24-1aa838cf5040",
   "metadata": {},
   "source": [
    "**Q10: Describe features distribution and correlation given histogram and pairplot chart**"
   ]
  },
  {
   "cell_type": "code",
   "execution_count": 14,
   "id": "ea98d48a-b9e4-470c-8cb7-3a0e50a8aa93",
   "metadata": {},
   "outputs": [
    {
     "data": {
      "image/png": "[encoded data removed]",
      "text/plain": [
       "<Figure size 720x720 with 12 Axes>"
      ]
     },
     "metadata": {
      "needs_background": "light"
     },
     "output_type": "display_data"
    }
   ],
   "source": [
    "df_train.hist(figsize=(10,10));"
   ]
  },
  {
   "cell_type": "markdown",
   "id": "9ade92c3-a2d1-492d-8c35-1c07fdd1af23",
   "metadata": {},
   "source": [
    "**Q11: Explore each feature with target**"
   ]
  },
  {
   "cell_type": "code",
   "execution_count": 15,
   "id": "20c7079f-cbfe-4d58-9dd0-6219b1b484bf",
   "metadata": {},
   "outputs": [
    {
     "data": {
      "text/plain": [
       "Index(['SeriousDlqin2yrs', 'RevolvingUtilizationOfUnsecuredLines', 'age',\n",
       "       'NumberOfTime30-59DaysPastDueNotWorse', 'DebtRatio', 'MonthlyIncome',\n",
       "       'NumberOfOpenCreditLinesAndLoans', 'NumberOfTimes90DaysLate',\n",
       "       'NumberRealEstateLoansOrLines', 'NumberOfTime60-89DaysPastDueNotWorse',\n",
       "       'NumberOfDependents'],\n",
       "      dtype='object')"
      ]
     },
     "execution_count": 15,
     "metadata": {},
     "output_type": "execute_result"
    }
   ],
   "source": [
    "df_train.columns"
   ]
  },
  {
   "cell_type": "code",
   "execution_count": 16,
   "id": "0bb3520b-0c2b-4e58-b2ec-7094ed76d2ce",
   "metadata": {},
   "outputs": [],
   "source": [
    "# sns.displot(df_train['RevolvingUtilizationOfUnsecuredLines']); #hisplot displot"
   ]
  },
  {
   "cell_type": "markdown",
   "id": "6d114e8d-1894-4c8f-977c-8c88b1e91cd0",
   "metadata": {},
   "source": [
    "## 3. MODEL"
   ]
  },
  {
   "cell_type": "markdown",
   "id": "a11c209d-268a-4c0b-958d-3c6c2d0f1943",
   "metadata": {},
   "source": [
    "**Q12: Handle outliers in dataset**"
   ]
  },
  {
   "cell_type": "markdown",
   "id": "1f643de7-aa23-4a29-abe7-69a7941b97a2",
   "metadata": {},
   "source": [
    "**Inter quantile range (IQR)**: any point < `Q1 - 1.5*IQR`, `>Q3+1.5IQR`\n",
    "![](https://upload.wikimedia.org/wikipedia/commons/8/89/Boxplot_vs_PDF.png)"
   ]
  },
  {
   "cell_type": "code",
   "execution_count": 17,
   "id": "7b4452bb-8772-4004-8e09-5cb07220358c",
   "metadata": {},
   "outputs": [],
   "source": [
    "from collections import Counter\n",
    "def detect_outliers(df, n, features):\n",
    "    \"\"\"\n",
    "    Input:\n",
    "    df: DataFrame\n",
    "    features: list containing column names\n",
    "    \"\"\"\n",
    "    outlier_indices = []\n",
    "    \n",
    "    #Step1: iterate over features(columns)\n",
    "    for col in features:\n",
    "        # Step 2: Calculate 1st quantile (25%)\n",
    "        Q1 = np.percentile(df[col], 25)\n",
    "        \n",
    "        # Step 3: Calculate 3rd quantile (75%)\n",
    "        Q3 = np.percentile(df[col], 75)\n",
    "        \n",
    "        # Step 4: Calcualte IQR = Q3-Q1\n",
    "        IQR = Q3 - Q1\n",
    "        \n",
    "        # Step 5: Outlier step < Q1 - 1.5IQR, > Q3+ 1.5IQR\n",
    "        outlier_step = 1.5 * IQR\n",
    "        \n",
    "        # Step 6: Determine a list of indices of outlier for features (cols)\n",
    "        outlier_list_col = df[(df[col] < Q1 - 1.5*IQR) | (df[col] > Q3 + 1.5*IQR)].index\n",
    "        \n",
    "        # Step 7: Append [1, 2, 3], [2,3] => [1,2,3,[2,3]], extend [1,2,3,2,3]\n",
    "        outlier_indices.extend(outlier_list_col)\n",
    "    \n",
    "    # Select rows containing more than n outliers\n",
    "    outlier_indices = Counter(outlier_indices)\n",
    "    multiple_outliers = list(k for k,v in outlier_indices.items() if v > n) # Take k given v > n\n",
    "        \n",
    "    return multiple_outliers"
   ]
  },
  {
   "cell_type": "code",
   "execution_count": 18,
   "id": "0a36dd19-5fc0-4e4c-8f45-4ad75e4bf0ba",
   "metadata": {},
   "outputs": [
    {
     "data": {
      "text/plain": [
       "Index(['SeriousDlqin2yrs', 'RevolvingUtilizationOfUnsecuredLines', 'age',\n",
       "       'NumberOfTime30-59DaysPastDueNotWorse', 'DebtRatio', 'MonthlyIncome',\n",
       "       'NumberOfOpenCreditLinesAndLoans', 'NumberOfTimes90DaysLate',\n",
       "       'NumberRealEstateLoansOrLines', 'NumberOfTime60-89DaysPastDueNotWorse',\n",
       "       'NumberOfDependents'],\n",
       "      dtype='object')"
      ]
     },
     "execution_count": 18,
     "metadata": {},
     "output_type": "execute_result"
    }
   ],
   "source": [
    "df_train.columns"
   ]
  },
  {
   "cell_type": "code",
   "execution_count": 19,
   "id": "1ac0e40f-56d6-4a45-83ec-8c980289e64f",
   "metadata": {},
   "outputs": [],
   "source": [
    "features = ['RevolvingUtilizationOfUnsecuredLines', 'age',\n",
    "       'NumberOfTime30-59DaysPastDueNotWorse', 'DebtRatio', 'MonthlyIncome',\n",
    "       'NumberOfOpenCreditLinesAndLoans', 'NumberOfTimes90DaysLate',\n",
    "       'NumberRealEstateLoansOrLines', 'NumberOfTime60-89DaysPastDueNotWorse',\n",
    "       'NumberOfDependents']\n",
    "outliers_to_drop = detect_outliers(df_train, 2, features)"
   ]
  },
  {
   "cell_type": "code",
   "execution_count": 20,
   "id": "030dcb5c-1eb8-49c1-bc6e-5fab40ac581e",
   "metadata": {},
   "outputs": [
    {
     "data": {
      "text/plain": [
       "(150000, 3527)"
      ]
     },
     "execution_count": 20,
     "metadata": {},
     "output_type": "execute_result"
    }
   ],
   "source": [
    "len(df_train), len(outliers_to_drop)"
   ]
  },
  {
   "cell_type": "code",
   "execution_count": 21,
   "id": "8e8f23dc-83c5-4e06-a6d4-18ba975ca312",
   "metadata": {},
   "outputs": [
    {
     "name": "stdout",
     "output_type": "stream",
     "text": [
      "<class 'pandas.core.frame.DataFrame'>\n",
      "Int64Index: 146473 entries, 0 to 149999\n",
      "Data columns (total 11 columns):\n",
      " #   Column                                Non-Null Count   Dtype  \n",
      "---  ------                                --------------   -----  \n",
      " 0   SeriousDlqin2yrs                      146473 non-null  int64  \n",
      " 1   RevolvingUtilizationOfUnsecuredLines  146473 non-null  float64\n",
      " 2   age                                   146473 non-null  int64  \n",
      " 3   NumberOfTime30-59DaysPastDueNotWorse  146473 non-null  int64  \n",
      " 4   DebtRatio                             146473 non-null  float64\n",
      " 5   MonthlyIncome                         118224 non-null  float64\n",
      " 6   NumberOfOpenCreditLinesAndLoans       146473 non-null  int64  \n",
      " 7   NumberOfTimes90DaysLate               146473 non-null  int64  \n",
      " 8   NumberRealEstateLoansOrLines          146473 non-null  int64  \n",
      " 9   NumberOfTime60-89DaysPastDueNotWorse  146473 non-null  int64  \n",
      " 10  NumberOfDependents                    142707 non-null  float64\n",
      "dtypes: float64(4), int64(7)\n",
      "memory usage: 13.4 MB\n"
     ]
    }
   ],
   "source": [
    "df_train = df_train.drop(outliers_to_drop, axis=0)\n",
    "df_train.info()"
   ]
  },
  {
   "cell_type": "markdown",
   "id": "52bd288a-4efa-4ccf-a64b-c11f3e889ed0",
   "metadata": {},
   "source": [
    "**Q13: Merge train and test dataset**"
   ]
  },
  {
   "cell_type": "code",
   "execution_count": 22,
   "id": "446765c2-c457-4dfe-a342-2c3f4484ac02",
   "metadata": {},
   "outputs": [
    {
     "name": "stdout",
     "output_type": "stream",
     "text": [
      "<class 'pandas.core.frame.DataFrame'>\n",
      "Int64Index: 247976 entries, 0 to 101502\n",
      "Data columns (total 11 columns):\n",
      " #   Column                                Non-Null Count   Dtype  \n",
      "---  ------                                --------------   -----  \n",
      " 0   SeriousDlqin2yrs                      146473 non-null  float64\n",
      " 1   RevolvingUtilizationOfUnsecuredLines  247976 non-null  float64\n",
      " 2   age                                   247976 non-null  int64  \n",
      " 3   NumberOfTime30-59DaysPastDueNotWorse  247976 non-null  int64  \n",
      " 4   DebtRatio                             247976 non-null  float64\n",
      " 5   MonthlyIncome                         199624 non-null  float64\n",
      " 6   NumberOfOpenCreditLinesAndLoans       247976 non-null  int64  \n",
      " 7   NumberOfTimes90DaysLate               247976 non-null  int64  \n",
      " 8   NumberRealEstateLoansOrLines          247976 non-null  int64  \n",
      " 9   NumberOfTime60-89DaysPastDueNotWorse  247976 non-null  int64  \n",
      " 10  NumberOfDependents                    241584 non-null  float64\n",
      "dtypes: float64(5), int64(6)\n",
      "memory usage: 22.7 MB\n"
     ]
    }
   ],
   "source": [
    "dataset = pd.concat([df_train, df_test], axis = 0)\n",
    "dataset.info()"
   ]
  },
  {
   "cell_type": "markdown",
   "id": "45455922-912b-42d8-ac52-1963d1f4422c",
   "metadata": {},
   "source": [
    "**Q14: Rename columns name into shorter alias**"
   ]
  },
  {
   "cell_type": "code",
   "execution_count": 23,
   "id": "ae58c16c-b05a-44bf-bd13-1814b15546a0",
   "metadata": {},
   "outputs": [],
   "source": [
    "dataset = dataset.rename(columns={'SeriousDlqin2yrs':'Target',\n",
    "                        'RevolvingUtilizationOfUnsecuredLines':'UnsecLines',\n",
    "                        'NumberOfTime30-59DaysPastDueNotWorse':'Late3059',\n",
    "                        'NumberOfOpenCreditLinesAndLoans':'OpenCredit',\n",
    "                        'NumberOfTimes90DaysLate': 'Late90',\n",
    "                        'NumberRealEstateLoansOrLines': 'PropLines',\n",
    "                        'NumberOfTime60-89DaysPastDueNotWorse':'Late60-89',\n",
    "                        'NumberOfDependents':'Deps'\n",
    "                       })\n",
    "\n",
    "df_train = df_train.rename(columns={'SeriousDlqin2yrs':'Target',\n",
    "                        'RevolvingUtilizationOfUnsecuredLines':'UnsecLines',\n",
    "                        'NumberOfTime30-59DaysPastDueNotWorse':'Late3059',\n",
    "                        'NumberOfOpenCreditLinesAndLoans':'OpenCredit',\n",
    "                        'NumberOfTimes90DaysLate': 'Late90',\n",
    "                        'NumberRealEstateLoansOrLines': 'PropLines',\n",
    "                        'NumberOfTime60-89DaysPastDueNotWorse':'Late60-89',\n",
    "                        'NumberOfDependents':'Deps'\n",
    "                       })\n",
    "\n",
    "df_test = df_test.rename(columns={'SeriousDlqin2yrs':'Target',\n",
    "                        'RevolvingUtilizationOfUnsecuredLines':'UnsecLines',\n",
    "                        'NumberOfTime30-59DaysPastDueNotWorse':'Late3059',\n",
    "                        'NumberOfOpenCreditLinesAndLoans':'OpenCredit',\n",
    "                        'NumberOfTimes90DaysLate': 'Late90',\n",
    "                        'NumberRealEstateLoansOrLines': 'PropLines',\n",
    "                        'NumberOfTime60-89DaysPastDueNotWorse':'Late60-89',\n",
    "                        'NumberOfDependents':'Deps'\n",
    "                       })"
   ]
  },
  {
   "cell_type": "markdown",
   "id": "223a40b5-a7ef-4564-9a09-cef06f3a0280",
   "metadata": {},
   "source": [
    "**Q15: Building binary/dummy variables**\n",
    "**Hints**: Quantile data first"
   ]
  },
  {
   "cell_type": "markdown",
   "id": "b928e210-26f1-44da-941e-cdbbbaa57319",
   "metadata": {},
   "source": [
    "||space between 2 bins|frequency of samples per bins|\n",
    "|-|-|-|\n",
    "|`cut`|equal|different|\n",
    "|`qcut`|unequal|(almost) same|"
   ]
  },
  {
   "cell_type": "code",
   "execution_count": 24,
   "id": "5a09f88b-c321-4198-a3c9-f5b3efbba9f7",
   "metadata": {},
   "outputs": [
    {
     "data": {
      "text/plain": [
       "UnsecLines      \n",
       "(-0.001, 0.0189]    49597\n",
       "(0.0808, 0.262]     49595\n",
       "(0.262, 0.682]      49595\n",
       "(0.682, 50708.0]    49595\n",
       "(0.0189, 0.0808]    49594\n",
       "dtype: int64"
      ]
     },
     "execution_count": 24,
     "metadata": {},
     "output_type": "execute_result"
    }
   ],
   "source": [
    "pd.DataFrame(pd.qcut(dataset.UnsecLines, 5)).value_counts()"
   ]
  },
  {
   "cell_type": "code",
   "execution_count": 25,
   "id": "aa3c3eca-22c6-4688-9299-8d56e39bd703",
   "metadata": {},
   "outputs": [],
   "source": [
    "dataset.UnsecLines = pd.qcut(dataset.UnsecLines.values, 5).codes # 0-4"
   ]
  },
  {
   "cell_type": "code",
   "execution_count": 26,
   "id": "3ded2c0b-6c57-42fa-b083-0b85374fd2c3",
   "metadata": {},
   "outputs": [
    {
     "data": {
      "image/png": "[encoded data removed]",
      "text/plain": [
       "<Figure size 360x360 with 1 Axes>"
      ]
     },
     "metadata": {
      "needs_background": "light"
     },
     "output_type": "display_data"
    }
   ],
   "source": [
    "sns.catplot(data = dataset, x='UnsecLines', y='Target', kind='bar');"
   ]
  },
  {
   "cell_type": "code",
   "execution_count": 27,
   "id": "004a76c9-d7ff-49ef-9431-9dde4232eec8",
   "metadata": {},
   "outputs": [
    {
     "data": {
      "image/png": "[encoded data removed]",
      "text/plain": [
       "<Figure size 360x360 with 1 Axes>"
      ]
     },
     "metadata": {
      "needs_background": "light"
     },
     "output_type": "display_data"
    }
   ],
   "source": [
    "dataset.age = pd.qcut(dataset.age.values, 5).codes # 0-4\n",
    "sns.catplot(data = dataset, x='age', y='Target', kind='bar');"
   ]
  },
  {
   "cell_type": "code",
   "execution_count": 28,
   "id": "31ba4f82-c974-49fb-a40a-08f15d197e38",
   "metadata": {},
   "outputs": [
    {
     "data": {
      "image/png": "[encoded data removed]",
      "text/plain": [
       "<Figure size 360x360 with 1 Axes>"
      ]
     },
     "metadata": {
      "needs_background": "light"
     },
     "output_type": "display_data"
    }
   ],
   "source": [
    "sns.catplot(data = dataset, x='Late3059', y='Target', kind='bar');"
   ]
  },
  {
   "cell_type": "code",
   "execution_count": 29,
   "id": "769621f9-63d1-4f5f-a4e1-4a61ffdd55d7",
   "metadata": {},
   "outputs": [
    {
     "data": {
      "image/png": "[encoded data removed]",
      "text/plain": [
       "<Figure size 360x360 with 1 Axes>"
      ]
     },
     "metadata": {
      "needs_background": "light"
     },
     "output_type": "display_data"
    }
   ],
   "source": [
    "# dataset.Late3059 = pd.qcut(dataset.Late3059.values, 5).codes # 0-4\n",
    "dataset.Late3059 = [6 if x >= 6 else x for x in dataset.Late3059]\n",
    "sns.catplot(data = dataset, x='Late3059', y='Target', kind='bar');"
   ]
  },
  {
   "cell_type": "code",
   "execution_count": 30,
   "id": "71623076-7137-46f3-bac4-9d7d042b970e",
   "metadata": {},
   "outputs": [
    {
     "data": {
      "text/plain": [
       "Index(['Target', 'UnsecLines', 'age', 'Late3059', 'DebtRatio', 'MonthlyIncome',\n",
       "       'OpenCredit', 'Late90', 'PropLines', 'Late60-89', 'Deps'],\n",
       "      dtype='object')"
      ]
     },
     "execution_count": 30,
     "metadata": {},
     "output_type": "execute_result"
    }
   ],
   "source": [
    "dataset.columns"
   ]
  },
  {
   "cell_type": "code",
   "execution_count": 31,
   "id": "e584bebc-0301-496e-86bc-71f655f1ef69",
   "metadata": {},
   "outputs": [
    {
     "data": {
      "image/png": "[encoded data removed]",
      "text/plain": [
       "<Figure size 360x360 with 1 Axes>"
      ]
     },
     "metadata": {
      "needs_background": "light"
     },
     "output_type": "display_data"
    }
   ],
   "source": [
    "dataset.DebtRatio = pd.cut(dataset.DebtRatio.values, 5).codes\n",
    "sns.catplot(data = dataset, x='DebtRatio', y='Target', kind='bar');"
   ]
  },
  {
   "cell_type": "code",
   "execution_count": 32,
   "id": "7be5a662-5a36-4532-be84-5f921a18445a",
   "metadata": {},
   "outputs": [
    {
     "data": {
      "text/plain": [
       "(48352, 5414.0)"
      ]
     },
     "execution_count": 32,
     "metadata": {},
     "output_type": "execute_result"
    }
   ],
   "source": [
    "# sns.catplot(data = dataset, x='MonthlyIncome', y='Target', kind='bar');\n",
    "dataset.MonthlyIncome.isnull().sum(), dataset.MonthlyIncome.median()"
   ]
  },
  {
   "cell_type": "code",
   "execution_count": 33,
   "id": "5d524f00-1639-40cf-827c-ee20a3196ef8",
   "metadata": {},
   "outputs": [
    {
     "data": {
      "text/plain": [
       "0"
      ]
     },
     "execution_count": 33,
     "metadata": {},
     "output_type": "execute_result"
    }
   ],
   "source": [
    "dataset.MonthlyIncome = dataset.MonthlyIncome.fillna(dataset.MonthlyIncome.median())\n",
    "dataset.MonthlyIncome.isnull().sum()"
   ]
  },
  {
   "cell_type": "code",
   "execution_count": 34,
   "id": "a7f221ee-de94-47c8-a936-9e923e0981b4",
   "metadata": {},
   "outputs": [
    {
     "data": {
      "image/png": "[encoded data removed]",
      "text/plain": [
       "<Figure size 360x360 with 1 Axes>"
      ]
     },
     "metadata": {
      "needs_background": "light"
     },
     "output_type": "display_data"
    }
   ],
   "source": [
    "dataset.MonthlyIncome = pd.qcut(dataset.MonthlyIncome.values,5).codes\n",
    "sns.catplot(data = dataset, x='MonthlyIncome', y='Target', kind='bar');"
   ]
  },
  {
   "cell_type": "code",
   "execution_count": 35,
   "id": "7074d752-818b-4465-b305-067a8997db42",
   "metadata": {},
   "outputs": [
    {
     "data": {
      "image/png": "[encoded data removed]",
      "text/plain": [
       "<Figure size 360x360 with 1 Axes>"
      ]
     },
     "metadata": {
      "needs_background": "light"
     },
     "output_type": "display_data"
    }
   ],
   "source": [
    "dataset.OpenCredit = pd.qcut(dataset.OpenCredit.values,5).codes\n",
    "sns.catplot(data = dataset, x='OpenCredit', y='Target', kind='bar');"
   ]
  },
  {
   "cell_type": "code",
   "execution_count": 37,
   "id": "7acad45b-6eff-414a-88f3-fd7063ab1136",
   "metadata": {},
   "outputs": [
    {
     "data": {
      "image/png": "[encoded data removed]",
      "text/plain": [
       "<Figure size 360x360 with 1 Axes>"
      ]
     },
     "metadata": {
      "needs_background": "light"
     },
     "output_type": "display_data"
    }
   ],
   "source": [
    "# dataset.Late90 = pd.qcut(dataset.Late90.values,5).codes\n",
    "dataset.Late90 = [5 if x >= 5 else x for x in dataset.Late90]\n",
    "sns.catplot(data = dataset, x='Late90', y='Target', kind='bar');"
   ]
  },
  {
   "cell_type": "code",
   "execution_count": 41,
   "id": "0cdc552f-09f1-48cd-ac49-8fa2eb68be33",
   "metadata": {},
   "outputs": [
    {
     "data": {
      "image/png": "[encoded data removed]",
      "text/plain": [
       "<Figure size 360x360 with 1 Axes>"
      ]
     },
     "metadata": {
      "needs_background": "light"
     },
     "output_type": "display_data"
    }
   ],
   "source": [
    "dataset['Late60-89'] = [3 if x >= 3 else x for x in dataset['Late60-89']]\n",
    "sns.catplot(data = dataset, x='Late60-89', y='Target', kind='bar');"
   ]
  },
  {
   "cell_type": "code",
   "execution_count": 42,
   "id": "b1769891-b0a2-4b9f-b701-31a37ecddeae",
   "metadata": {},
   "outputs": [
    {
     "data": {
      "image/png": "[encoded data removed]",
      "text/plain": [
       "<Figure size 360x360 with 1 Axes>"
      ]
     },
     "metadata": {
      "needs_background": "light"
     },
     "output_type": "display_data"
    }
   ],
   "source": [
    "dataset.Deps = dataset.Deps.fillna(dataset.Deps.median())\n",
    "dataset['Deps'] = [4 if x >= 4 else x for x in dataset['Deps']]\n",
    "sns.catplot(data = dataset, x='Deps', y='Target', kind='bar');"
   ]
  },
  {
   "cell_type": "code",
   "execution_count": 43,
   "id": "5d684dc5-ccc9-4b5f-a6d7-bad8925013ab",
   "metadata": {},
   "outputs": [
    {
     "data": {
      "text/plain": [
       "11"
      ]
     },
     "execution_count": 43,
     "metadata": {},
     "output_type": "execute_result"
    }
   ],
   "source": [
    "len(dataset.columns)"
   ]
  },
  {
   "cell_type": "code",
   "execution_count": 44,
   "id": "8897a114-2217-4b0a-9d04-73f56332a3c6",
   "metadata": {},
   "outputs": [
    {
     "data": {
      "text/plain": [
       "Index(['Target', 'UnsecLines', 'age', 'Late3059', 'DebtRatio', 'MonthlyIncome',\n",
       "       'OpenCredit', 'Late90', 'PropLines', 'Late60-89', 'Deps'],\n",
       "      dtype='object')"
      ]
     },
     "execution_count": 44,
     "metadata": {},
     "output_type": "execute_result"
    }
   ],
   "source": [
    "dataset.columns"
   ]
  },
  {
   "cell_type": "code",
   "execution_count": 46,
   "id": "c1b1ae56-6b5e-4dd8-a2d8-28734dabd261",
   "metadata": {},
   "outputs": [],
   "source": [
    "column_names = ['UnsecLines', 'age', 'Late3059', 'DebtRatio', 'MonthlyIncome',\n",
    "       'OpenCredit', 'Late90', 'PropLines', 'Late60-89', 'Deps']\n",
    "for col in column_names:\n",
    "    dataset = pd.get_dummies(dataset, columns = [col], prefix=col)"
   ]
  },
  {
   "cell_type": "code",
   "execution_count": 47,
   "id": "04b5618b-4e00-49f5-b117-e1f24f63c013",
   "metadata": {},
   "outputs": [
    {
     "data": {
      "text/plain": [
       "Index(['Target', 'UnsecLines_0', 'UnsecLines_1', 'UnsecLines_2',\n",
       "       'UnsecLines_3', 'UnsecLines_4', 'age_0', 'age_1', 'age_2', 'age_3',\n",
       "       'age_4', 'Late3059_0', 'Late3059_1', 'Late3059_2', 'Late3059_3',\n",
       "       'Late3059_4', 'Late3059_5', 'Late3059_6', 'DebtRatio_0', 'DebtRatio_1',\n",
       "       'DebtRatio_2', 'DebtRatio_3', 'DebtRatio_4', 'MonthlyIncome_0',\n",
       "       'MonthlyIncome_1', 'MonthlyIncome_2', 'MonthlyIncome_3',\n",
       "       'MonthlyIncome_4', 'OpenCredit_0', 'OpenCredit_1', 'OpenCredit_2',\n",
       "       'OpenCredit_3', 'OpenCredit_4', 'Late90_0', 'Late90_1', 'Late90_2',\n",
       "       'Late90_3', 'Late90_4', 'Late90_5', 'PropLines_0', 'PropLines_1',\n",
       "       'PropLines_2', 'PropLines_3', 'PropLines_4', 'PropLines_5',\n",
       "       'PropLines_6', 'PropLines_7', 'PropLines_8', 'PropLines_9',\n",
       "       'PropLines_10', 'PropLines_11', 'PropLines_12', 'PropLines_13',\n",
       "       'PropLines_14', 'PropLines_15', 'PropLines_16', 'PropLines_17',\n",
       "       'PropLines_18', 'PropLines_19', 'PropLines_20', 'PropLines_21',\n",
       "       'PropLines_25', 'PropLines_29', 'PropLines_32', 'PropLines_37',\n",
       "       'Late60-89_0', 'Late60-89_1', 'Late60-89_2', 'Late60-89_3', 'Deps_0.0',\n",
       "       'Deps_1.0', 'Deps_2.0', 'Deps_3.0', 'Deps_4.0'],\n",
       "      dtype='object')"
      ]
     },
     "execution_count": 47,
     "metadata": {},
     "output_type": "execute_result"
    }
   ],
   "source": [
    "dataset.columns"
   ]
  },
  {
   "cell_type": "markdown",
   "id": "b487fd3c-21e3-43c2-8417-4781debe999b",
   "metadata": {},
   "source": [
    "**Q16: Train test split**"
   ]
  },
  {
   "cell_type": "code",
   "execution_count": 49,
   "id": "1ad8bad1-8d8f-406f-948e-c748e9865ed6",
   "metadata": {},
   "outputs": [],
   "source": [
    "# train_test_split\n",
    "train = dataset[:len(df_train)]\n",
    "test = dataset[len(df_train):]"
   ]
  },
  {
   "cell_type": "markdown",
   "id": "db92cc0c-f060-43ae-b42c-143079df0179",
   "metadata": {},
   "source": [
    "**Q17: Train prediction model using Random Forest Classifier**"
   ]
  },
  {
   "cell_type": "code",
   "execution_count": 50,
   "id": "3fd72a59-3c92-4a77-9f61-278a37d22647",
   "metadata": {},
   "outputs": [
    {
     "name": "stderr",
     "output_type": "stream",
     "text": [
      "/Users/hanhtran/miniconda3/envs/hanh/lib/python3.7/site-packages/ipykernel_launcher.py:6: SettingWithCopyWarning: \n",
      "A value is trying to be set on a copy of a slice from a DataFrame.\n",
      "Try using .loc[row_indexer,col_indexer] = value instead\n",
      "\n",
      "See the caveats in the documentation: https://pandas.pydata.org/pandas-docs/stable/user_guide/indexing.html#returning-a-view-versus-a-copy\n",
      "  \n"
     ]
    }
   ],
   "source": [
    "# X_train, x_test, y_train, y_test\n",
    "# create model - >sckitlearn RF\n",
    "# fit(X_train, x_test)\n",
    "# predict\n",
    "\n",
    "train['Target'] = train['Target'].astype(int) #casting\n",
    "X_train = train.drop(labels=['Target'], axis=1)\n",
    "X_test = test.drop(labels=['Target'], axis=1)\n",
    "y_train = train['Target'] \n",
    "y_test = test['Target']"
   ]
  },
  {
   "cell_type": "code",
   "execution_count": 51,
   "id": "f70bfcf2-57f9-45f1-b25e-d80ba1080c9b",
   "metadata": {},
   "outputs": [
    {
     "data": {
      "text/plain": [
       "RandomForestClassifier(max_features='sqrt', n_estimators=50)"
      ]
     },
     "execution_count": 51,
     "metadata": {},
     "output_type": "execute_result"
    }
   ],
   "source": [
    "from sklearn.ensemble import RandomForestClassifier\n",
    "\n",
    "clf = RandomForestClassifier(n_estimators=50, max_features='sqrt')\n",
    "clf.fit(X_train, y_train)"
   ]
  },
  {
   "cell_type": "markdown",
   "id": "48b77ee7-a7d0-46a1-abca-fa8430ac70f6",
   "metadata": {},
   "source": [
    "**Q18: Get feature importance from classifier**"
   ]
  },
  {
   "cell_type": "code",
   "execution_count": 53,
   "id": "58285abf-cb00-43f8-917b-52744f3924b0",
   "metadata": {},
   "outputs": [
    {
     "data": {
      "text/html": [
       "<div>\n",
       "<style scoped>\n",
       "    .dataframe tbody tr th:only-of-type {\n",
       "        vertical-align: middle;\n",
       "    }\n",
       "\n",
       "    .dataframe tbody tr th {\n",
       "        vertical-align: top;\n",
       "    }\n",
       "\n",
       "    .dataframe thead th {\n",
       "        text-align: right;\n",
       "    }\n",
       "</style>\n",
       "<table border=\"1\" class=\"dataframe\">\n",
       "  <thead>\n",
       "    <tr style=\"text-align: right;\">\n",
       "      <th></th>\n",
       "      <th>name</th>\n",
       "      <th>importance</th>\n",
       "    </tr>\n",
       "  </thead>\n",
       "  <tbody>\n",
       "    <tr>\n",
       "      <th>63</th>\n",
       "      <td>PropLines_37</td>\n",
       "      <td>0.000000e+00</td>\n",
       "    </tr>\n",
       "    <tr>\n",
       "      <th>56</th>\n",
       "      <td>PropLines_18</td>\n",
       "      <td>0.000000e+00</td>\n",
       "    </tr>\n",
       "    <tr>\n",
       "      <th>62</th>\n",
       "      <td>PropLines_32</td>\n",
       "      <td>1.662005e-08</td>\n",
       "    </tr>\n",
       "    <tr>\n",
       "      <th>55</th>\n",
       "      <td>PropLines_17</td>\n",
       "      <td>3.819444e-08</td>\n",
       "    </tr>\n",
       "    <tr>\n",
       "      <th>19</th>\n",
       "      <td>DebtRatio_2</td>\n",
       "      <td>6.860107e-08</td>\n",
       "    </tr>\n",
       "    <tr>\n",
       "      <th>...</th>\n",
       "      <td>...</td>\n",
       "      <td>...</td>\n",
       "    </tr>\n",
       "    <tr>\n",
       "      <th>69</th>\n",
       "      <td>Deps_1.0</td>\n",
       "      <td>3.066378e-02</td>\n",
       "    </tr>\n",
       "    <tr>\n",
       "      <th>68</th>\n",
       "      <td>Deps_0.0</td>\n",
       "      <td>3.212868e-02</td>\n",
       "    </tr>\n",
       "    <tr>\n",
       "      <th>10</th>\n",
       "      <td>Late3059_0</td>\n",
       "      <td>3.630267e-02</td>\n",
       "    </tr>\n",
       "    <tr>\n",
       "      <th>4</th>\n",
       "      <td>UnsecLines_4</td>\n",
       "      <td>5.016088e-02</td>\n",
       "    </tr>\n",
       "    <tr>\n",
       "      <th>32</th>\n",
       "      <td>Late90_0</td>\n",
       "      <td>6.400043e-02</td>\n",
       "    </tr>\n",
       "  </tbody>\n",
       "</table>\n",
       "<p>73 rows × 2 columns</p>\n",
       "</div>"
      ],
      "text/plain": [
       "            name    importance\n",
       "63  PropLines_37  0.000000e+00\n",
       "56  PropLines_18  0.000000e+00\n",
       "62  PropLines_32  1.662005e-08\n",
       "55  PropLines_17  3.819444e-08\n",
       "19   DebtRatio_2  6.860107e-08\n",
       "..           ...           ...\n",
       "69      Deps_1.0  3.066378e-02\n",
       "68      Deps_0.0  3.212868e-02\n",
       "10    Late3059_0  3.630267e-02\n",
       "4   UnsecLines_4  5.016088e-02\n",
       "32      Late90_0  6.400043e-02\n",
       "\n",
       "[73 rows x 2 columns]"
      ]
     },
     "execution_count": 53,
     "metadata": {},
     "output_type": "execute_result"
    }
   ],
   "source": [
    "features  = pd.DataFrame()\n",
    "features['name'] = X_train.columns\n",
    "features['importance'] = clf.feature_importances_\n",
    "features = features.sort_values(by=['importance'], ascending=True)\n",
    "features"
   ]
  },
  {
   "cell_type": "code",
   "execution_count": 57,
   "id": "7be4338c-c90c-4125-a87f-6827b4d73097",
   "metadata": {},
   "outputs": [
    {
     "data": {
      "image/png": "[encoded data removed]",
      "text/plain": [
       "<Figure size 720x720 with 1 Axes>"
      ]
     },
     "metadata": {
      "needs_background": "light"
     },
     "output_type": "display_data"
    }
   ],
   "source": [
    "features.plot(kind='barh', figsize=(10,10));"
   ]
  },
  {
   "cell_type": "markdown",
   "id": "668c3e37-5855-41cc-bce8-d12a66a90da9",
   "metadata": {},
   "source": [
    "**Q19: Retrain with better parameters**"
   ]
  },
  {
   "cell_type": "code",
   "execution_count": null,
   "id": "04859c66-bae2-45a3-aff1-b417ca41de66",
   "metadata": {},
   "outputs": [],
   "source": [
    "# Parameters + change combination of features"
   ]
  },
  {
   "cell_type": "markdown",
   "id": "38058ff2-c3a7-4f5d-83ce-53b4dc4e8a63",
   "metadata": {},
   "source": [
    "**Q20: Predict and evaluate the model performance**"
   ]
  },
  {
   "cell_type": "code",
   "execution_count": 59,
   "id": "60fc99dc-db83-472f-842a-e95e7c11bed9",
   "metadata": {},
   "outputs": [
    {
     "data": {
      "text/plain": [
       "array([0.03241386, 0.005     , 0.        , ..., 0.0044068 , 0.08      ,\n",
       "       0.        ])"
      ]
     },
     "execution_count": 59,
     "metadata": {},
     "output_type": "execute_result"
    }
   ],
   "source": [
    "y_pred = clf.predict_proba(X_test)[:,1] #Threshold -> bad rate (defaults) + population rejection\n",
    "y_pred"
   ]
  },
  {
   "cell_type": "markdown",
   "id": "ee027911-743e-46b0-a321-9d9cdd4fe182",
   "metadata": {},
   "source": [
    "<center> <img src=\"https://media.makeameme.org/created/have-a-nice-17d2442086.jpg\" width=\"500\"/> </center>"
   ]
  },
  {
   "cell_type": "code",
   "execution_count": null,
   "id": "1292e8d6-9f81-40bd-8160-d934d20ef23c",
   "metadata": {},
   "outputs": [],
   "source": []
  }
 ],
 "metadata": {
  "kernelspec": {
   "display_name": "Python 3",
   "language": "python",
   "name": "python3"
  },
  "language_info": {
   "codemirror_mode": {
    "name": "ipython",
    "version": 3
   },
   "file_extension": ".py",
   "mimetype": "text/x-python",
   "name": "python",
   "nbconvert_exporter": "python",
   "pygments_lexer": "ipython3",
   "version": "3.7.10"
  }
 },
 "nbformat": 4,
 "nbformat_minor": 5
}
