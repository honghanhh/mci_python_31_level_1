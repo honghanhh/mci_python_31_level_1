{
 "cells": [
  {
   "cell_type": "markdown",
   "id": "ffb1c427",
   "metadata": {},
   "source": [
    "Lesson"
   ]
  },
  {
   "cell_type": "code",
   "execution_count": null,
   "id": "701e54ec",
   "metadata": {},
   "outputs": [],
   "source": [
    "### Phim tat\n",
    "- Run a command: Shift + Enter (Windows)\n",
    "- Convert cell code into markdown: Esc + m\n",
    "- Convert markdown cell into code cell: Esc + y\n",
    "- Move 1 cell above: a\n",
    "- Move 1 cell below: b"
   ]
  },
  {
   "cell_type": "code",
   "execution_count": 1,
   "id": "fc051477",
   "metadata": {},
   "outputs": [
    {
     "data": {
      "text/plain": [
       "2"
      ]
     },
     "execution_count": 1,
     "metadata": {},
     "output_type": "execute_result"
    }
   ],
   "source": [
    "1+1"
   ]
  },
  {
   "cell_type": "markdown",
   "id": "dee282d8",
   "metadata": {},
   "source": [
    "# Heading 1"
   ]
  },
  {
   "cell_type": "markdown",
   "id": "185c3ee7",
   "metadata": {},
   "source": [
    "## Heading 2"
   ]
  },
  {
   "cell_type": "markdown",
   "id": "9d68a98a",
   "metadata": {},
   "source": [
    "# 1. Chapter 1"
   ]
  },
  {
   "cell_type": "markdown",
   "id": "83d9a7be",
   "metadata": {},
   "source": [
    "## 1.2 Section 1"
   ]
  },
  {
   "cell_type": "markdown",
   "id": "11d54e23",
   "metadata": {},
   "source": [
    "*italics*"
   ]
  },
  {
   "cell_type": "markdown",
   "id": "c4e7db31",
   "metadata": {},
   "source": [
    "**bold**"
   ]
  },
  {
   "cell_type": "markdown",
   "id": "9c7fd96b",
   "metadata": {},
   "source": [
    "<ins> underline </ins>"
   ]
  },
  {
   "cell_type": "markdown",
   "id": "052293b3",
   "metadata": {},
   "source": [
    "<p style=\"color:red\"> this is a text </p>"
   ]
  },
  {
   "cell_type": "code",
   "execution_count": null,
   "id": "698bde51",
   "metadata": {},
   "outputs": [],
   "source": []
  }
 ],
 "metadata": {
  "kernelspec": {
   "display_name": "Python 3",
   "language": "python",
   "name": "python3"
  },
  "language_info": {
   "codemirror_mode": {
    "name": "ipython",
    "version": 3
   },
   "file_extension": ".py",
   "mimetype": "text/x-python",
   "name": "python",
   "nbconvert_exporter": "python",
   "pygments_lexer": "ipython3",
   "version": "3.8.8"
  }
 },
 "nbformat": 4,
 "nbformat_minor": 5
}
