{
 "cells": [
  {
   "cell_type": "markdown",
   "id": "04cb4f19",
   "metadata": {},
   "source": [
    "# <center> LESSON 10: CAPSTONE PROJECTS </center>"
   ]
  },
  {
   "cell_type": "markdown",
   "id": "20237549",
   "metadata": {},
   "source": [
    "## 1: PYTHON'S FOUNDATION"
   ]
  },
  {
   "cell_type": "markdown",
   "id": "5601e566",
   "metadata": {},
   "source": [
    "#### Question 1.1: "
   ]
  },
  {
   "cell_type": "markdown",
   "id": "06301b9f",
   "metadata": {},
   "source": [
    "Given a string `s` consists of some words separated by spaces, return the length of the last word in the string. If the last word does not exist, return 0. A word is a maximal substring consisting of non-space characters only.\n",
    "\n",
    "|Input   |Function                                                    | Output|\n",
    "|-|-|-|\n",
    "|`s=\"Hello World\"` |Check the last word `World` has how many characters?|   5   |\n",
    "|`s=\" \"`           |Check the last word ` ` has how many characters?    |   0   |"
   ]
  },
  {
   "cell_type": "code",
   "execution_count": 36,
   "id": "20cf37e2",
   "metadata": {},
   "outputs": [],
   "source": [
    "\n",
    "def len_last_word(s):\n",
    "    counter = 0\n",
    "    s = s.strip()\n",
    "    # Your code here\n",
    "    #conition \n",
    "    for i in range(len(s)):\n",
    "        if s[i] == \" \":\n",
    "            counter = 0\n",
    "        else:\n",
    "            counter += 1\n",
    "    return counter"
   ]
  },
  {
   "cell_type": "code",
   "execution_count": 37,
   "id": "0b82e47d",
   "metadata": {},
   "outputs": [
    {
     "data": {
      "text/plain": [
       "0"
      ]
     },
     "execution_count": 37,
     "metadata": {},
     "output_type": "execute_result"
    }
   ],
   "source": [
    "len_last_word(s)"
   ]
  },
  {
   "cell_type": "code",
   "execution_count": 38,
   "id": "7a60c89c",
   "metadata": {},
   "outputs": [],
   "source": [
    "s = \"Hello World\"\n",
    "assert len_last_word(s) == 5, \"Wrong answer, please calculate again\"\n",
    "\n",
    "s = \" \"\n",
    "assert len_last_word(s) == 0, \"Wrong answer, please calculate again\""
   ]
  },
  {
   "cell_type": "markdown",
   "id": "56b6e411",
   "metadata": {},
   "source": [
    "#### Question 1.2: "
   ]
  },
  {
   "cell_type": "markdown",
   "id": "30843a93",
   "metadata": {},
   "source": [
    "An integer `d` is a divisor of an integer `n` if `n % d = 0`.\n",
    "Given an integer `n`, count the number of `d` occuring within the integer.\n",
    "\n",
    "**Examples**:\n",
    "\n",
    "|Input   |Function                                        | Output|\n",
    "|-|-|-|\n",
    "|`n=124` |Check if `1`,`2`, and `4`  are divisors of `124`|   3   |\n",
    "|`n=100` |Check if `1` and `0` are divisors of `100`      |   1   |\n",
    "|`n=13`  |Check if `1`  and `3`  are divisors of `13`     |   1   |\n",
    "\n",
    "Hints: using `loops` (i.e `for`, ...) or `comprehension`. "
   ]
  },
  {
   "cell_type": "code",
   "execution_count": 218,
   "id": "ce002a16",
   "metadata": {},
   "outputs": [],
   "source": [
    "import numpy as np\n",
    "def find_digits(n): \n",
    "    counter = 0\n",
    "    if n <= 10:\n",
    "        counter = 1\n",
    "    else:\n",
    "        list_check = list(int(x) for x in str(n))\n",
    "        #print(type(list_check))\n",
    "        #print(list_check)\n",
    "        counter = 0\n",
    "        for i in range(0,len(list_check)):\n",
    "            #print(i)\n",
    "            if list_check[i] == 0:\n",
    "                counter = counter\n",
    "            elif n % list_check[i] == 0:\n",
    "                counter += 1\n",
    "                i = i + 1\n",
    "    return counter"
   ]
  },
  {
   "cell_type": "code",
   "execution_count": 219,
   "id": "77bcee95",
   "metadata": {},
   "outputs": [],
   "source": [
    "n = 124\n",
    "assert find_digits(n) == 3, \"Wrong answer, please calculate again\"\n",
    "\n",
    "n = 100\n",
    "assert find_digits(n) == 1, \"Wrong answer, please calculate again\"\n",
    "\n",
    "n = 13\n",
    "assert find_digits(n) == 1, \"Wrong answer, please calculate again\""
   ]
  },
  {
   "cell_type": "markdown",
   "id": "420600e4",
   "metadata": {},
   "source": [
    "## 2: NUMPY, PANDAS"
   ]
  },
  {
   "cell_type": "markdown",
   "id": "db483a89",
   "metadata": {},
   "source": [
    "### Question 1.2: NumPy"
   ]
  },
  {
   "cell_type": "markdown",
   "id": "fee71599",
   "metadata": {},
   "source": [
    "Given an array of 2 dimension `A`, return the minimum value of the second dimension.\n",
    "For examples:\n",
    "\n",
    "|Input|Output|\n",
    "|-|-|\n",
    "|```A = np.array([[2, 59],[3, 17], [1, 33], [45, 0]])```|`[2 3 1 0]`|\n",
    "|```A = np.array([[22, 21],[35, 1], [12, 3], [5, 80]])```|`[21 1 3 5]`|"
   ]
  },
  {
   "cell_type": "code",
   "execution_count": null,
   "id": "62879068",
   "metadata": {},
   "outputs": [],
   "source": [
    "def min_value(A):\n",
    "    return "
   ]
  },
  {
   "cell_type": "code",
   "execution_count": null,
   "id": "ddae5a45",
   "metadata": {},
   "outputs": [],
   "source": [
    "A = np.array([[2, 5], [3, 7], [1, 3], [4, 0]])\n",
    "min_value(A) #np.array([2, 3, 1, 0])"
   ]
  },
  {
   "cell_type": "markdown",
   "id": "52a41d2c",
   "metadata": {},
   "source": [
    "### Question 2.2: Pandas"
   ]
  },
  {
   "cell_type": "markdown",
   "id": "7b7e5dc3",
   "metadata": {},
   "source": [
    "#### Step 1. Import the necessary libraries"
   ]
  },
  {
   "cell_type": "code",
   "execution_count": 85,
   "id": "49ae4769",
   "metadata": {},
   "outputs": [],
   "source": [
    "import pandas as pd"
   ]
  },
  {
   "cell_type": "markdown",
   "id": "5e72dbf2",
   "metadata": {},
   "source": [
    "#### Step 2. Import the dataset from this [address](https://raw.githubusercontent.com/justmarkham/DAT8/master/data/u.user) and assign it to a variable called `users`. "
   ]
  },
  {
   "cell_type": "code",
   "execution_count": 86,
   "id": "47232487",
   "metadata": {},
   "outputs": [],
   "source": [
    "url = 'https://raw.githubusercontent.com/justmarkham/DAT8/master/data/u.user'"
   ]
  },
  {
   "cell_type": "code",
   "execution_count": 89,
   "id": "c3fe8fc7",
   "metadata": {},
   "outputs": [
    {
     "data": {
      "text/html": [
       "<div>\n",
       "<style scoped>\n",
       "    .dataframe tbody tr th:only-of-type {\n",
       "        vertical-align: middle;\n",
       "    }\n",
       "\n",
       "    .dataframe tbody tr th {\n",
       "        vertical-align: top;\n",
       "    }\n",
       "\n",
       "    .dataframe thead th {\n",
       "        text-align: right;\n",
       "    }\n",
       "</style>\n",
       "<table border=\"1\" class=\"dataframe\">\n",
       "  <thead>\n",
       "    <tr style=\"text-align: right;\">\n",
       "      <th></th>\n",
       "      <th>user_id</th>\n",
       "      <th>age</th>\n",
       "      <th>gender</th>\n",
       "      <th>occupation</th>\n",
       "      <th>zip_code</th>\n",
       "    </tr>\n",
       "  </thead>\n",
       "  <tbody>\n",
       "    <tr>\n",
       "      <th>0</th>\n",
       "      <td>1</td>\n",
       "      <td>24</td>\n",
       "      <td>M</td>\n",
       "      <td>technician</td>\n",
       "      <td>85711</td>\n",
       "    </tr>\n",
       "    <tr>\n",
       "      <th>1</th>\n",
       "      <td>2</td>\n",
       "      <td>53</td>\n",
       "      <td>F</td>\n",
       "      <td>other</td>\n",
       "      <td>94043</td>\n",
       "    </tr>\n",
       "    <tr>\n",
       "      <th>2</th>\n",
       "      <td>3</td>\n",
       "      <td>23</td>\n",
       "      <td>M</td>\n",
       "      <td>writer</td>\n",
       "      <td>32067</td>\n",
       "    </tr>\n",
       "    <tr>\n",
       "      <th>3</th>\n",
       "      <td>4</td>\n",
       "      <td>24</td>\n",
       "      <td>M</td>\n",
       "      <td>technician</td>\n",
       "      <td>43537</td>\n",
       "    </tr>\n",
       "    <tr>\n",
       "      <th>4</th>\n",
       "      <td>5</td>\n",
       "      <td>33</td>\n",
       "      <td>F</td>\n",
       "      <td>other</td>\n",
       "      <td>15213</td>\n",
       "    </tr>\n",
       "  </tbody>\n",
       "</table>\n",
       "</div>"
      ],
      "text/plain": [
       "   user_id  age gender  occupation zip_code\n",
       "0        1   24      M  technician    85711\n",
       "1        2   53      F       other    94043\n",
       "2        3   23      M      writer    32067\n",
       "3        4   24      M  technician    43537\n",
       "4        5   33      F       other    15213"
      ]
     },
     "execution_count": 89,
     "metadata": {},
     "output_type": "execute_result"
    }
   ],
   "source": [
    "users = pd.read_csv(url,sep='|')\n",
    "users.head()"
   ]
  },
  {
   "cell_type": "markdown",
   "id": "61971179",
   "metadata": {},
   "source": [
    "#### Step 3. Select all records of women whose age is between 20 and 30 that work as technician."
   ]
  },
  {
   "cell_type": "code",
   "execution_count": 90,
   "id": "ab81dcc8",
   "metadata": {},
   "outputs": [
    {
     "data": {
      "text/html": [
       "<div>\n",
       "<style scoped>\n",
       "    .dataframe tbody tr th:only-of-type {\n",
       "        vertical-align: middle;\n",
       "    }\n",
       "\n",
       "    .dataframe tbody tr th {\n",
       "        vertical-align: top;\n",
       "    }\n",
       "\n",
       "    .dataframe thead th {\n",
       "        text-align: right;\n",
       "    }\n",
       "</style>\n",
       "<table border=\"1\" class=\"dataframe\">\n",
       "  <thead>\n",
       "    <tr style=\"text-align: right;\">\n",
       "      <th></th>\n",
       "      <th>user_id</th>\n",
       "      <th>age</th>\n",
       "      <th>gender</th>\n",
       "      <th>occupation</th>\n",
       "      <th>zip_code</th>\n",
       "    </tr>\n",
       "  </thead>\n",
       "  <tbody>\n",
       "    <tr>\n",
       "      <th>0</th>\n",
       "      <td>1</td>\n",
       "      <td>24</td>\n",
       "      <td>M</td>\n",
       "      <td>technician</td>\n",
       "      <td>85711</td>\n",
       "    </tr>\n",
       "    <tr>\n",
       "      <th>2</th>\n",
       "      <td>3</td>\n",
       "      <td>23</td>\n",
       "      <td>M</td>\n",
       "      <td>writer</td>\n",
       "      <td>32067</td>\n",
       "    </tr>\n",
       "    <tr>\n",
       "      <th>3</th>\n",
       "      <td>4</td>\n",
       "      <td>24</td>\n",
       "      <td>M</td>\n",
       "      <td>technician</td>\n",
       "      <td>43537</td>\n",
       "    </tr>\n",
       "    <tr>\n",
       "      <th>8</th>\n",
       "      <td>9</td>\n",
       "      <td>29</td>\n",
       "      <td>M</td>\n",
       "      <td>student</td>\n",
       "      <td>01002</td>\n",
       "    </tr>\n",
       "    <tr>\n",
       "      <th>11</th>\n",
       "      <td>12</td>\n",
       "      <td>28</td>\n",
       "      <td>F</td>\n",
       "      <td>other</td>\n",
       "      <td>06405</td>\n",
       "    </tr>\n",
       "    <tr>\n",
       "      <th>...</th>\n",
       "      <td>...</td>\n",
       "      <td>...</td>\n",
       "      <td>...</td>\n",
       "      <td>...</td>\n",
       "      <td>...</td>\n",
       "    </tr>\n",
       "    <tr>\n",
       "      <th>929</th>\n",
       "      <td>930</td>\n",
       "      <td>28</td>\n",
       "      <td>F</td>\n",
       "      <td>scientist</td>\n",
       "      <td>07310</td>\n",
       "    </tr>\n",
       "    <tr>\n",
       "      <th>932</th>\n",
       "      <td>933</td>\n",
       "      <td>28</td>\n",
       "      <td>M</td>\n",
       "      <td>student</td>\n",
       "      <td>48105</td>\n",
       "    </tr>\n",
       "    <tr>\n",
       "      <th>935</th>\n",
       "      <td>936</td>\n",
       "      <td>24</td>\n",
       "      <td>M</td>\n",
       "      <td>other</td>\n",
       "      <td>32789</td>\n",
       "    </tr>\n",
       "    <tr>\n",
       "      <th>938</th>\n",
       "      <td>939</td>\n",
       "      <td>26</td>\n",
       "      <td>F</td>\n",
       "      <td>student</td>\n",
       "      <td>33319</td>\n",
       "    </tr>\n",
       "    <tr>\n",
       "      <th>942</th>\n",
       "      <td>943</td>\n",
       "      <td>22</td>\n",
       "      <td>M</td>\n",
       "      <td>student</td>\n",
       "      <td>77841</td>\n",
       "    </tr>\n",
       "  </tbody>\n",
       "</table>\n",
       "<p>300 rows × 5 columns</p>\n",
       "</div>"
      ],
      "text/plain": [
       "     user_id  age gender  occupation zip_code\n",
       "0          1   24      M  technician    85711\n",
       "2          3   23      M      writer    32067\n",
       "3          4   24      M  technician    43537\n",
       "8          9   29      M     student    01002\n",
       "11        12   28      F       other    06405\n",
       "..       ...  ...    ...         ...      ...\n",
       "929      930   28      F   scientist    07310\n",
       "932      933   28      M     student    48105\n",
       "935      936   24      M       other    32789\n",
       "938      939   26      F     student    33319\n",
       "942      943   22      M     student    77841\n",
       "\n",
       "[300 rows x 5 columns]"
      ]
     },
     "execution_count": 90,
     "metadata": {},
     "output_type": "execute_result"
    }
   ],
   "source": [
    "users[(users.age > 20) & (users.age < 30)]"
   ]
  },
  {
   "cell_type": "markdown",
   "id": "d4a76696",
   "metadata": {},
   "source": [
    "#### Step 4. For each occupation, calculate the minimum and maximum ages"
   ]
  },
  {
   "cell_type": "code",
   "execution_count": 230,
   "id": "7108bcfa",
   "metadata": {},
   "outputs": [
    {
     "data": {
      "text/plain": [
       "occupation\n",
       "administrator    70\n",
       "artist           48\n",
       "doctor           64\n",
       "educator         63\n",
       "engineer         70\n",
       "entertainment    50\n",
       "executive        69\n",
       "healthcare       62\n",
       "homemaker        50\n",
       "lawyer           53\n",
       "librarian        69\n",
       "marketing        55\n",
       "none             55\n",
       "other            64\n",
       "programmer       63\n",
       "retired          73\n",
       "salesman         66\n",
       "scientist        55\n",
       "student          42\n",
       "technician       55\n",
       "writer           60\n",
       "Name: age, dtype: int64"
      ]
     },
     "execution_count": 230,
     "metadata": {},
     "output_type": "execute_result"
    }
   ],
   "source": [
    "users.groupby('occupation').age.max()"
   ]
  },
  {
   "cell_type": "code",
   "execution_count": 229,
   "id": "b7dbfedf",
   "metadata": {},
   "outputs": [
    {
     "data": {
      "text/plain": [
       "occupation\n",
       "administrator    21\n",
       "artist           19\n",
       "doctor           28\n",
       "educator         23\n",
       "engineer         22\n",
       "entertainment    15\n",
       "executive        22\n",
       "healthcare       22\n",
       "homemaker        20\n",
       "lawyer           21\n",
       "librarian        23\n",
       "marketing        24\n",
       "none             11\n",
       "other            13\n",
       "programmer       20\n",
       "retired          51\n",
       "salesman         18\n",
       "scientist        23\n",
       "student           7\n",
       "technician       21\n",
       "writer           18\n",
       "Name: age, dtype: int64"
      ]
     },
     "execution_count": 229,
     "metadata": {},
     "output_type": "execute_result"
    }
   ],
   "source": [
    "users.groupby('occupation').age.min()"
   ]
  },
  {
   "cell_type": "markdown",
   "id": "9a1ad60a",
   "metadata": {},
   "source": [
    "## 3: VISUALIZATION"
   ]
  },
  {
   "cell_type": "markdown",
   "id": "cfd4a856",
   "metadata": {},
   "source": [
    "#### Step 1. Import the necessary libraries (seaborn, matplotlib)"
   ]
  },
  {
   "cell_type": "code",
   "execution_count": 111,
   "id": "214a5862",
   "metadata": {},
   "outputs": [],
   "source": [
    "import seaborn as sns\n",
    "import matplotlib.pyplot as plt"
   ]
  },
  {
   "cell_type": "markdown",
   "id": "e9c069f8",
   "metadata": {},
   "source": [
    "#### Step 2. Import the dataset `titanic` from `sns.load_dataset()` and assign it to a variable called `titanic`."
   ]
  },
  {
   "cell_type": "code",
   "execution_count": 220,
   "id": "dafdb2ff",
   "metadata": {},
   "outputs": [
    {
     "data": {
      "text/html": [
       "<div>\n",
       "<style scoped>\n",
       "    .dataframe tbody tr th:only-of-type {\n",
       "        vertical-align: middle;\n",
       "    }\n",
       "\n",
       "    .dataframe tbody tr th {\n",
       "        vertical-align: top;\n",
       "    }\n",
       "\n",
       "    .dataframe thead th {\n",
       "        text-align: right;\n",
       "    }\n",
       "</style>\n",
       "<table border=\"1\" class=\"dataframe\">\n",
       "  <thead>\n",
       "    <tr style=\"text-align: right;\">\n",
       "      <th></th>\n",
       "      <th>survived</th>\n",
       "      <th>pclass</th>\n",
       "      <th>sex</th>\n",
       "      <th>age</th>\n",
       "      <th>sibsp</th>\n",
       "      <th>parch</th>\n",
       "      <th>fare</th>\n",
       "      <th>embarked</th>\n",
       "      <th>class</th>\n",
       "      <th>who</th>\n",
       "      <th>adult_male</th>\n",
       "      <th>deck</th>\n",
       "      <th>embark_town</th>\n",
       "      <th>alive</th>\n",
       "      <th>alone</th>\n",
       "    </tr>\n",
       "  </thead>\n",
       "  <tbody>\n",
       "    <tr>\n",
       "      <th>0</th>\n",
       "      <td>0</td>\n",
       "      <td>3</td>\n",
       "      <td>male</td>\n",
       "      <td>22.0</td>\n",
       "      <td>1</td>\n",
       "      <td>0</td>\n",
       "      <td>7.2500</td>\n",
       "      <td>S</td>\n",
       "      <td>Third</td>\n",
       "      <td>man</td>\n",
       "      <td>True</td>\n",
       "      <td>NaN</td>\n",
       "      <td>Southampton</td>\n",
       "      <td>no</td>\n",
       "      <td>False</td>\n",
       "    </tr>\n",
       "    <tr>\n",
       "      <th>1</th>\n",
       "      <td>1</td>\n",
       "      <td>1</td>\n",
       "      <td>female</td>\n",
       "      <td>38.0</td>\n",
       "      <td>1</td>\n",
       "      <td>0</td>\n",
       "      <td>71.2833</td>\n",
       "      <td>C</td>\n",
       "      <td>First</td>\n",
       "      <td>woman</td>\n",
       "      <td>False</td>\n",
       "      <td>C</td>\n",
       "      <td>Cherbourg</td>\n",
       "      <td>yes</td>\n",
       "      <td>False</td>\n",
       "    </tr>\n",
       "    <tr>\n",
       "      <th>2</th>\n",
       "      <td>1</td>\n",
       "      <td>3</td>\n",
       "      <td>female</td>\n",
       "      <td>26.0</td>\n",
       "      <td>0</td>\n",
       "      <td>0</td>\n",
       "      <td>7.9250</td>\n",
       "      <td>S</td>\n",
       "      <td>Third</td>\n",
       "      <td>woman</td>\n",
       "      <td>False</td>\n",
       "      <td>NaN</td>\n",
       "      <td>Southampton</td>\n",
       "      <td>yes</td>\n",
       "      <td>True</td>\n",
       "    </tr>\n",
       "    <tr>\n",
       "      <th>3</th>\n",
       "      <td>1</td>\n",
       "      <td>1</td>\n",
       "      <td>female</td>\n",
       "      <td>35.0</td>\n",
       "      <td>1</td>\n",
       "      <td>0</td>\n",
       "      <td>53.1000</td>\n",
       "      <td>S</td>\n",
       "      <td>First</td>\n",
       "      <td>woman</td>\n",
       "      <td>False</td>\n",
       "      <td>C</td>\n",
       "      <td>Southampton</td>\n",
       "      <td>yes</td>\n",
       "      <td>False</td>\n",
       "    </tr>\n",
       "    <tr>\n",
       "      <th>4</th>\n",
       "      <td>0</td>\n",
       "      <td>3</td>\n",
       "      <td>male</td>\n",
       "      <td>35.0</td>\n",
       "      <td>0</td>\n",
       "      <td>0</td>\n",
       "      <td>8.0500</td>\n",
       "      <td>S</td>\n",
       "      <td>Third</td>\n",
       "      <td>man</td>\n",
       "      <td>True</td>\n",
       "      <td>NaN</td>\n",
       "      <td>Southampton</td>\n",
       "      <td>no</td>\n",
       "      <td>True</td>\n",
       "    </tr>\n",
       "  </tbody>\n",
       "</table>\n",
       "</div>"
      ],
      "text/plain": [
       "   survived  pclass     sex   age  sibsp  parch     fare embarked  class  \\\n",
       "0         0       3    male  22.0      1      0   7.2500        S  Third   \n",
       "1         1       1  female  38.0      1      0  71.2833        C  First   \n",
       "2         1       3  female  26.0      0      0   7.9250        S  Third   \n",
       "3         1       1  female  35.0      1      0  53.1000        S  First   \n",
       "4         0       3    male  35.0      0      0   8.0500        S  Third   \n",
       "\n",
       "     who  adult_male deck  embark_town alive  alone  \n",
       "0    man        True  NaN  Southampton    no  False  \n",
       "1  woman       False    C    Cherbourg   yes  False  \n",
       "2  woman       False  NaN  Southampton   yes   True  \n",
       "3  woman       False    C  Southampton   yes  False  \n",
       "4    man        True  NaN  Southampton    no   True  "
      ]
     },
     "execution_count": 220,
     "metadata": {},
     "output_type": "execute_result"
    }
   ],
   "source": [
    "titanic = sns.load_dataset('titanic')\n",
    "titanic.head()"
   ]
  },
  {
   "cell_type": "markdown",
   "id": "643fc915",
   "metadata": {},
   "source": [
    "#### Step 3: Plot distribution of 'fare' using `sns.histplot()`"
   ]
  },
  {
   "cell_type": "code",
   "execution_count": 221,
   "id": "5070ba0a",
   "metadata": {},
   "outputs": [
    {
     "ename": "AttributeError",
     "evalue": "module 'seaborn' has no attribute 'histplot'",
     "output_type": "error",
     "traceback": [
      "\u001b[0;31m---------------------------------------------------------------------------\u001b[0m",
      "\u001b[0;31mAttributeError\u001b[0m                            Traceback (most recent call last)",
      "\u001b[0;32m<ipython-input-221-635f24cf3cc5>\u001b[0m in \u001b[0;36m<module>\u001b[0;34m\u001b[0m\n\u001b[0;32m----> 1\u001b[0;31m \u001b[0msns\u001b[0m\u001b[0;34m.\u001b[0m\u001b[0mhistplot\u001b[0m\u001b[0;34m(\u001b[0m\u001b[0mtitanic\u001b[0m\u001b[0;34m[\u001b[0m\u001b[0;34m'fare'\u001b[0m\u001b[0;34m]\u001b[0m\u001b[0;34m,\u001b[0m  \u001b[0mbins\u001b[0m \u001b[0;34m=\u001b[0m \u001b[0;36m20\u001b[0m\u001b[0;34m,\u001b[0m \u001b[0mcolor\u001b[0m \u001b[0;34m=\u001b[0m \u001b[0;34m'green'\u001b[0m\u001b[0;34m)\u001b[0m\u001b[0;34m;\u001b[0m\u001b[0;34m\u001b[0m\u001b[0;34m\u001b[0m\u001b[0m\n\u001b[0m",
      "\u001b[0;31mAttributeError\u001b[0m: module 'seaborn' has no attribute 'histplot'"
     ]
    }
   ],
   "source": [
    "sns.histplot(titanic['fare'],  bins = 20, color = 'green');"
   ]
  },
  {
   "cell_type": "code",
   "execution_count": 222,
   "id": "be09a5da",
   "metadata": {},
   "outputs": [
    {
     "name": "stdout",
     "output_type": "stream",
     "text": [
      "Requirement already satisfied: seaborn in /opt/anaconda3/lib/python3.8/site-packages (0.11.1)\n",
      "Requirement already satisfied: pandas>=0.23 in /opt/anaconda3/lib/python3.8/site-packages (from seaborn) (0.25.3)\n",
      "Requirement already satisfied: numpy>=1.15 in /opt/anaconda3/lib/python3.8/site-packages (from seaborn) (1.19.5)\n",
      "Requirement already satisfied: scipy>=1.0 in /opt/anaconda3/lib/python3.8/site-packages (from seaborn) (1.4.1)\n",
      "Requirement already satisfied: matplotlib>=2.2 in /opt/anaconda3/lib/python3.8/site-packages (from seaborn) (3.1.2)\n",
      "Requirement already satisfied: cycler>=0.10 in /opt/anaconda3/lib/python3.8/site-packages (from matplotlib>=2.2->seaborn) (0.10.0)\n",
      "Requirement already satisfied: python-dateutil>=2.1 in /opt/anaconda3/lib/python3.8/site-packages (from matplotlib>=2.2->seaborn) (2.8.1)\n",
      "Requirement already satisfied: kiwisolver>=1.0.1 in /opt/anaconda3/lib/python3.8/site-packages (from matplotlib>=2.2->seaborn) (1.1.0)\n",
      "Requirement already satisfied: pyparsing!=2.0.4,!=2.1.2,!=2.1.6,>=2.0.1 in /opt/anaconda3/lib/python3.8/site-packages (from matplotlib>=2.2->seaborn) (2.4.6)\n",
      "Requirement already satisfied: six in /opt/anaconda3/lib/python3.8/site-packages (from cycler>=0.10->matplotlib>=2.2->seaborn) (1.15.0)\n",
      "Requirement already satisfied: setuptools in /opt/anaconda3/lib/python3.8/site-packages (from kiwisolver>=1.0.1->matplotlib>=2.2->seaborn) (52.0.0.post20210125)\n",
      "Requirement already satisfied: pytz>=2017.2 in /opt/anaconda3/lib/python3.8/site-packages (from pandas>=0.23->seaborn) (2019.3)\n"
     ]
    }
   ],
   "source": [
    "!pip install seaborn"
   ]
  },
  {
   "cell_type": "markdown",
   "id": "291517ae",
   "metadata": {},
   "source": [
    "#### Step 4: Plot distribution of 'age' with 3 difference `class` using `sns.boxplot()`"
   ]
  },
  {
   "cell_type": "code",
   "execution_count": 223,
   "id": "ed9584d4",
   "metadata": {},
   "outputs": [
    {
     "name": "stdout",
     "output_type": "stream",
     "text": [
      "<class 'pandas.core.frame.DataFrame'>\n",
      "RangeIndex: 891 entries, 0 to 890\n",
      "Data columns (total 15 columns):\n",
      "survived       891 non-null int64\n",
      "pclass         891 non-null int64\n",
      "sex            891 non-null object\n",
      "age            714 non-null float64\n",
      "sibsp          891 non-null int64\n",
      "parch          891 non-null int64\n",
      "fare           891 non-null float64\n",
      "embarked       889 non-null object\n",
      "class          891 non-null category\n",
      "who            891 non-null object\n",
      "adult_male     891 non-null bool\n",
      "deck           203 non-null category\n",
      "embark_town    889 non-null object\n",
      "alive          891 non-null object\n",
      "alone          891 non-null bool\n",
      "dtypes: bool(2), category(2), float64(2), int64(4), object(5)\n",
      "memory usage: 80.6+ KB\n"
     ]
    }
   ],
   "source": [
    "titanic.info()"
   ]
  },
  {
   "cell_type": "code",
   "execution_count": 233,
   "id": "84cc0b2a",
   "metadata": {},
   "outputs": [
    {
     "data": {
      "text/plain": [
       "Text(0.5, 1.0, 'The distribution of age with 3 difference class using sns.boxplot()')"
      ]
     },
     "execution_count": 233,
     "metadata": {},
     "output_type": "execute_result"
    },
    {
     "data": {
      "image/png": "[encoded data removed]",
      "text/plain": [
       "<Figure size 504x360 with 1 Axes>"
      ]
     },
     "metadata": {
      "needs_background": "light"
     },
     "output_type": "display_data"
    }
   ],
   "source": [
    "plt.figure(figsize=(7,5))\n",
    "sns.boxplot(data = titanic, y = titanic['age'], x = titanic['class'], width = 0.4,hue ='class');\n",
    "plt.title('The distribution of age with 3 difference class using sns.boxplot()')\n"
   ]
  },
  {
   "cell_type": "markdown",
   "id": "7a1ce550",
   "metadata": {},
   "source": [
    "#### Step 5: Plot correlation matrix using `sns.heatmap()`"
   ]
  },
  {
   "cell_type": "code",
   "execution_count": 157,
   "id": "1813f0b1",
   "metadata": {},
   "outputs": [
    {
     "data": {
      "text/plain": [
       "Text(0.5, 1, ' Plot correlation matrix using sns.heatmap')"
      ]
     },
     "execution_count": 157,
     "metadata": {},
     "output_type": "execute_result"
    },
    {
     "data": {
      "image/png": "[encoded data removed]",
      "text/plain": [
       "<Figure size 720x720 with 2 Axes>"
      ]
     },
     "metadata": {
      "needs_background": "light"
     },
     "output_type": "display_data"
    }
   ],
   "source": [
    "plt.figure(figsize=(10,10))\n",
    "sns.heatmap(data = titanic.corr(), annot=True)\n",
    "plt.title(' Plot correlation matrix using sns.heatmap')"
   ]
  },
  {
   "cell_type": "markdown",
   "id": "61e10241",
   "metadata": {},
   "source": [
    "## 4: MACHINE LEARNING with PIMA INDIANS DIABETES DATASET"
   ]
  },
  {
   "cell_type": "markdown",
   "id": "b993cde2",
   "metadata": {},
   "source": [
    "The Pima Indian Diabetes Dataset, originally from the National Institute of Diabetes and Digestive and Kidney Diseases, contains information of 768 women from a population near Phoenix, Arizona, USA. The outcome tested was Diabetes, 258 tested positive and 500 tested negative. Therefore, there is one target (dependent) variable `Outcome` and the following attributes (TYNECKI, 2018):\n",
    "\n",
    "|        Features        |Descriptions|\n",
    "|           -            |-|\n",
    "|Pregnancies             |Number of times pregnant|\n",
    "|Glucose                 |Oral glucose tolerance test - OGTT (two hour plasma glucose concentration after 75g anhydrous glucose in mg/dl)|\n",
    "|BloodPressure           |Blood Pressure (Diastolic Blood Pressure in mmHg)|\n",
    "|SkinThickness           |Skin Thickness (Triceps skin fold thickness in mm)|\n",
    "|Insulin                 |Insulin (2 h serum insulin in mu U/ml)|\n",
    "|BMI                     |BMI (Body Mass Index in kg/m2)|\n",
    "|DiabetesPedigreeFunction| Pedigree Diabetes Function ('function that represents how likely they are to get the disease by extrapolating from their ancestor’s history')|\n",
    "|Age                     |Age (years)|\n",
    "\n",
    "\n",
    "The objective of this capstone project is to use Machine Learning (e.g, logistic regression, svm, random forest, ...) to predict whether a patient has diabetes or not (binary classification) given 7 features mentionned above. "
   ]
  },
  {
   "cell_type": "markdown",
   "id": "7a5a6876",
   "metadata": {},
   "source": [
    "#### Step 1. Import the necessary libraries (pandas, numpy, seaborn, sklearn)"
   ]
  },
  {
   "cell_type": "code",
   "execution_count": 237,
   "id": "f402022c",
   "metadata": {},
   "outputs": [],
   "source": [
    "import pandas as pd\n",
    "import numpy as np\n",
    "import seaborn as sns\n",
    "from sklearn import *"
   ]
  },
  {
   "cell_type": "markdown",
   "id": "04328ac5",
   "metadata": {},
   "source": [
    "#### Step 2. Import the dataset from this [address](https://raw.githubusercontent.com/npradaschnor/Pima-Indians-Diabetes-Dataset/master/diabetes.csv) and assign it to a variable called `pima`. "
   ]
  },
  {
   "cell_type": "code",
   "execution_count": 238,
   "id": "f6f819d9",
   "metadata": {},
   "outputs": [
    {
     "data": {
      "text/html": [
       "<div>\n",
       "<style scoped>\n",
       "    .dataframe tbody tr th:only-of-type {\n",
       "        vertical-align: middle;\n",
       "    }\n",
       "\n",
       "    .dataframe tbody tr th {\n",
       "        vertical-align: top;\n",
       "    }\n",
       "\n",
       "    .dataframe thead th {\n",
       "        text-align: right;\n",
       "    }\n",
       "</style>\n",
       "<table border=\"1\" class=\"dataframe\">\n",
       "  <thead>\n",
       "    <tr style=\"text-align: right;\">\n",
       "      <th></th>\n",
       "      <th>Pregnancies</th>\n",
       "      <th>Glucose</th>\n",
       "      <th>BloodPressure</th>\n",
       "      <th>SkinThickness</th>\n",
       "      <th>Insulin</th>\n",
       "      <th>BMI</th>\n",
       "      <th>DiabetesPedigreeFunction</th>\n",
       "      <th>Age</th>\n",
       "      <th>Outcome</th>\n",
       "    </tr>\n",
       "  </thead>\n",
       "  <tbody>\n",
       "    <tr>\n",
       "      <th>0</th>\n",
       "      <td>6</td>\n",
       "      <td>148</td>\n",
       "      <td>72</td>\n",
       "      <td>35</td>\n",
       "      <td>0</td>\n",
       "      <td>33.6</td>\n",
       "      <td>0.627</td>\n",
       "      <td>50</td>\n",
       "      <td>1</td>\n",
       "    </tr>\n",
       "    <tr>\n",
       "      <th>1</th>\n",
       "      <td>1</td>\n",
       "      <td>85</td>\n",
       "      <td>66</td>\n",
       "      <td>29</td>\n",
       "      <td>0</td>\n",
       "      <td>26.6</td>\n",
       "      <td>0.351</td>\n",
       "      <td>31</td>\n",
       "      <td>0</td>\n",
       "    </tr>\n",
       "    <tr>\n",
       "      <th>2</th>\n",
       "      <td>8</td>\n",
       "      <td>183</td>\n",
       "      <td>64</td>\n",
       "      <td>0</td>\n",
       "      <td>0</td>\n",
       "      <td>23.3</td>\n",
       "      <td>0.672</td>\n",
       "      <td>32</td>\n",
       "      <td>1</td>\n",
       "    </tr>\n",
       "    <tr>\n",
       "      <th>3</th>\n",
       "      <td>1</td>\n",
       "      <td>89</td>\n",
       "      <td>66</td>\n",
       "      <td>23</td>\n",
       "      <td>94</td>\n",
       "      <td>28.1</td>\n",
       "      <td>0.167</td>\n",
       "      <td>21</td>\n",
       "      <td>0</td>\n",
       "    </tr>\n",
       "    <tr>\n",
       "      <th>4</th>\n",
       "      <td>0</td>\n",
       "      <td>137</td>\n",
       "      <td>40</td>\n",
       "      <td>35</td>\n",
       "      <td>168</td>\n",
       "      <td>43.1</td>\n",
       "      <td>2.288</td>\n",
       "      <td>33</td>\n",
       "      <td>1</td>\n",
       "    </tr>\n",
       "  </tbody>\n",
       "</table>\n",
       "</div>"
      ],
      "text/plain": [
       "   Pregnancies  Glucose  BloodPressure  SkinThickness  Insulin   BMI  \\\n",
       "0            6      148             72             35        0  33.6   \n",
       "1            1       85             66             29        0  26.6   \n",
       "2            8      183             64              0        0  23.3   \n",
       "3            1       89             66             23       94  28.1   \n",
       "4            0      137             40             35      168  43.1   \n",
       "\n",
       "   DiabetesPedigreeFunction  Age  Outcome  \n",
       "0                     0.627   50        1  \n",
       "1                     0.351   31        0  \n",
       "2                     0.672   32        1  \n",
       "3                     0.167   21        0  \n",
       "4                     2.288   33        1  "
      ]
     },
     "execution_count": 238,
     "metadata": {},
     "output_type": "execute_result"
    }
   ],
   "source": [
    "url = 'https://raw.githubusercontent.com/npradaschnor/Pima-Indians-Diabetes-Dataset/master/diabetes.csv'\n",
    "pima = pd.read_csv(url, sep=',')\n",
    "pima.head()"
   ]
  },
  {
   "cell_type": "markdown",
   "id": "a108e8c4",
   "metadata": {},
   "source": [
    "#### Step 3. Check the DataFrame Information, Descriptive Statistics and Analysis of dataset\n",
    "**Hints**: Check dimension of the data, data type for each attribute, describe the distribution for each attribute, the percentage of missing values, detect ouliers, ..."
   ]
  },
  {
   "cell_type": "code",
   "execution_count": 162,
   "id": "82b9e7f0",
   "metadata": {},
   "outputs": [
    {
     "name": "stdout",
     "output_type": "stream",
     "text": [
      "<class 'pandas.core.frame.DataFrame'>\n",
      "RangeIndex: 768 entries, 0 to 767\n",
      "Data columns (total 9 columns):\n",
      "Pregnancies                 768 non-null int64\n",
      "Glucose                     768 non-null int64\n",
      "BloodPressure               768 non-null int64\n",
      "SkinThickness               768 non-null int64\n",
      "Insulin                     768 non-null int64\n",
      "BMI                         768 non-null float64\n",
      "DiabetesPedigreeFunction    768 non-null float64\n",
      "Age                         768 non-null int64\n",
      "Outcome                     768 non-null int64\n",
      "dtypes: float64(2), int64(7)\n",
      "memory usage: 54.1 KB\n"
     ]
    },
    {
     "data": {
      "text/plain": [
       "(768, 9)"
      ]
     },
     "execution_count": 162,
     "metadata": {},
     "output_type": "execute_result"
    }
   ],
   "source": [
    "pima.info()\n",
    "pima.shape"
   ]
  },
  {
   "cell_type": "markdown",
   "id": "20e7e8d2",
   "metadata": {},
   "source": [
    "#### Step 4. EDA & Visualization \n",
    "**Hints**: Plot attributes distributions, correlation, pairplot to find insights in attributes combinations, ..."
   ]
  },
  {
   "cell_type": "code",
   "execution_count": null,
   "id": "2d94c137",
   "metadata": {},
   "outputs": [],
   "source": []
  },
  {
   "cell_type": "markdown",
   "id": "c3ffbefd",
   "metadata": {},
   "source": [
    "#### Step 5. Feature Engineering\n",
    "**Hints**: Handle missing values, outliers, transform original attributes to meaningful features,..."
   ]
  },
  {
   "cell_type": "code",
   "execution_count": null,
   "id": "470f910e",
   "metadata": {},
   "outputs": [],
   "source": []
  },
  {
   "cell_type": "markdown",
   "id": "1dca8818",
   "metadata": {},
   "source": [
    "#### Step 6. Train models\n",
    "**Hints**: `LogisticRegression`, `SVM`,...\n",
    "\n"
   ]
  },
  {
   "cell_type": "code",
   "execution_count": null,
   "id": "b443afd8",
   "metadata": {},
   "outputs": [],
   "source": []
  },
  {
   "cell_type": "markdown",
   "id": "a70b7a79",
   "metadata": {},
   "source": [
    "#### Step 7. Predict on new data"
   ]
  },
  {
   "cell_type": "code",
   "execution_count": null,
   "id": "86f765d7",
   "metadata": {},
   "outputs": [],
   "source": [
    "y_pres "
   ]
  },
  {
   "cell_type": "markdown",
   "id": "6780bea2",
   "metadata": {},
   "source": [
    "#### Step 8. Evaluate the model\n",
    "**Hints**: Suggested metrics include `accuracy_score`, `confusion_matrix`,`classification_report`,..."
   ]
  },
  {
   "cell_type": "code",
   "execution_count": null,
   "id": "83710232",
   "metadata": {},
   "outputs": [],
   "source": []
  }
 ],
 "metadata": {
  "kernelspec": {
   "display_name": "Python 3",
   "language": "python",
   "name": "python3"
  },
  "language_info": {
   "codemirror_mode": {
    "name": "ipython",
    "version": 3
   },
   "file_extension": ".py",
   "mimetype": "text/x-python",
   "name": "python",
   "nbconvert_exporter": "python",
   "pygments_lexer": "ipython3",
   "version": "3.8.8"
  }
 },
 "nbformat": 4,
 "nbformat_minor": 5
}
