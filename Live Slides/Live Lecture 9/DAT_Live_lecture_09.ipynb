{
 "cells": [
  {
   "cell_type": "markdown",
   "id": "4d25cbf4-c61f-472f-a63c-1d4d1560a10e",
   "metadata": {},
   "source": [
    "# <center> LESSON 9: CASE STUDY with CREDIT SCORING </center>"
   ]
  },
  {
   "cell_type": "markdown",
   "id": "1165972f-3d31-4a17-87ae-0090214e3e29",
   "metadata": {},
   "source": [
    "BASEL I, II, III, IV --> rules  \n",
    "* Datasource which we have alot of data at: https://www.kaggle.com/\n",
    "* We can learn and have some test at Kaggle \n",
    "* In Kaggle which we have train and test separately instead of we have to show them different as iris before "
   ]
  },
  {
   "cell_type": "markdown",
   "id": "f0f04520-90a4-4508-b8cc-3ab2f97590e5",
   "metadata": {},
   "source": [
    "## 1. PROBLEM\n",
    "\n",
    "Banks play a crucial role in market economies. They decide who can get finance and on what terms and can make or break investment decisions. For markets and society to function, individuals and companies need access to credit. \n",
    "\n",
    "Credit scoring algorithms, which make a guess at the probability of default, are the method banks use to determine whether or not a loan should be granted. This competition requires participants to improve on the state of the art in credit scoring, by predicting the probability that somebody will experience financial distress in the next two years.\n",
    "\n",
    "- **Input**: Historical data of 250,000 borrowers.\n",
    "- **Output**: SeriousDlqin2yrs.\n",
    "- **Goal**: Build a model that borrowers can use to help make the best financial decisions."
   ]
  },
  {
   "cell_type": "markdown",
   "id": "29c06173-b68c-47c7-a989-34f8a9c4c095",
   "metadata": {},
   "source": [
    "Reference: [Kaggle Dataset](https://www.kaggle.com/c/GiveMeSomeCredit)"
   ]
  },
  {
   "cell_type": "markdown",
   "id": "717033bd-c27e-4dbe-b053-d4822c6fe7bd",
   "metadata": {},
   "source": [
    "## 2. Exploratory Data Analysis (EDA)"
   ]
  },
  {
   "cell_type": "markdown",
   "id": "04b84143-33b4-4463-87fa-65a11746f1f9",
   "metadata": {},
   "source": [
    "### 2.1 Variables descriptions"
   ]
  },
  {
   "cell_type": "markdown",
   "id": "be0f8213-edb5-43dc-8e0b-83354e2919e6",
   "metadata": {},
   "source": [
    "|Variables|Descriptions|\n",
    "|-|-|\n",
    "|**SeriousDlqin2yrs**| Person experienced 90 days past due delinquency or worse|\n",
    "|**RevolvingUtilizationOfUnsecuredLines**| Total balance on credit cards and personal lines of credit except real estate and no installment debt like car loans divided by the sum of credit limits|\n",
    "|**age**| Age of borrower in years|\n",
    "|**NumberOfTime30-59DaysPastDueNotWorse**| Number of times borrower has been 30-59 days past due but no worse in the last 2 years||\n",
    "|**DebtRatio**| Monthly debt payments, alimony,living costs divided by monthy gross income\n",
    "|**MonthlyIncome**| Monthly income|\n",
    "|**NumberOfOpenCreditLinesAndLoans**| Number of Open loans (installment like car loan or mortgage) and Lines of credit (e.g. credit cards)|\n",
    "|**NumberOfTimes90DaysLate**| Number of times borrower has been 90 days or more past due|\n",
    "|**NumberRealEstateLoansOrLines**| Number of mortgage and real estate loans including home equity lines of credit|\n",
    "|**NumberOfTime60-89DaysPastDueNotWorse**| Number of times borrower has been 60-89 days past due but no worse in the last 2 years|\n",
    "|**NumberOfDependents**| Number of dependents in family excluding themselves (spouse, children etc.)|"
   ]
  },
  {
   "cell_type": "markdown",
   "id": "9170fe78-d45a-4364-97ce-d18d987903f0",
   "metadata": {},
   "source": [
    "* SeriousDlqin2yrs Serious in 2 years"
   ]
  },
  {
   "cell_type": "markdown",
   "id": "0552cbf7-3df0-46b9-9e30-230e170fa517",
   "metadata": {},
   "source": [
    "### 2.2 Statistics"
   ]
  },
  {
   "cell_type": "markdown",
   "id": "e7a12782-c8c1-4866-842c-17fc4323ea86",
   "metadata": {},
   "source": [
    "Database: SQL and Oracle \n",
    "\n",
    "BigData: We will use datawarehouse or DataLake (Spark Hadoop) \n",
    "\n",
    "    - RAW DATA->ETL(Extract Transform Load)->Clean Data \n",
    "    - Clean Data -> EDA(Exporylory Data Analystis)->Vizulization(matplotlib seaborn, pandas) and Statistic(pandas) --> Feature Engineering (Process the missing value) \n",
    "In the realtime: Featureengineering: Selection - > Build the model \n",
    "\n",
    "Next Step - > Train model \n",
    "Validate model in test data \n",
    "If good:\n",
    "    Do it and test move it to deploy (historgram, index,....precession)\n",
    "else:\n",
    "    Check again the EDA \n"
   ]
  },
  {
   "cell_type": "markdown",
   "id": "6f9ca2f1-5cd1-4e4c-804d-2ed0ec488ad4",
   "metadata": {},
   "source": [
    "**Q1: Import necessary libraries: Pandas, Numpy, Matplotlib, Seaborn**"
   ]
  },
  {
   "cell_type": "code",
   "execution_count": 5,
   "id": "cb013cef-cfa4-49d7-81e6-fe0e7ebb0e6e",
   "metadata": {},
   "outputs": [],
   "source": [
    "import pandas as pd\n",
    "import numpy as np\n",
    "import matplotlib.pyplot as plt \n",
    "import seaborn as sns"
   ]
  },
  {
   "cell_type": "markdown",
   "id": "83dd5e2c-bceb-4f31-a824-59d31a61b4f4",
   "metadata": {},
   "source": [
    "**Q2: Load data using pd.read_csv()**"
   ]
  },
  {
   "cell_type": "code",
   "execution_count": 6,
   "id": "c3616d35-20a0-438f-b493-0cb6cb88325b",
   "metadata": {},
   "outputs": [],
   "source": [
    "df_train = pd.read_csv('cs-training.csv')\n",
    "df_test = pd.read_csv('cs-test.csv')"
   ]
  },
  {
   "cell_type": "markdown",
   "id": "0e57838e-6dfe-44de-9011-9668a6082fe6",
   "metadata": {},
   "source": [
    "**Q3: Get the first 5 rows of train set**"
   ]
  },
  {
   "cell_type": "code",
   "execution_count": 9,
   "id": "eca877f2-f214-43e3-aea5-7235b588f5ef",
   "metadata": {},
   "outputs": [
    {
     "data": {
      "text/html": [
       "<div>\n",
       "<style scoped>\n",
       "    .dataframe tbody tr th:only-of-type {\n",
       "        vertical-align: middle;\n",
       "    }\n",
       "\n",
       "    .dataframe tbody tr th {\n",
       "        vertical-align: top;\n",
       "    }\n",
       "\n",
       "    .dataframe thead th {\n",
       "        text-align: right;\n",
       "    }\n",
       "</style>\n",
       "<table border=\"1\" class=\"dataframe\">\n",
       "  <thead>\n",
       "    <tr style=\"text-align: right;\">\n",
       "      <th></th>\n",
       "      <th>SeriousDlqin2yrs</th>\n",
       "      <th>RevolvingUtilizationOfUnsecuredLines</th>\n",
       "      <th>age</th>\n",
       "      <th>NumberOfTime30-59DaysPastDueNotWorse</th>\n",
       "      <th>DebtRatio</th>\n",
       "      <th>MonthlyIncome</th>\n",
       "      <th>NumberOfOpenCreditLinesAndLoans</th>\n",
       "      <th>NumberOfTimes90DaysLate</th>\n",
       "      <th>NumberRealEstateLoansOrLines</th>\n",
       "      <th>NumberOfTime60-89DaysPastDueNotWorse</th>\n",
       "      <th>NumberOfDependents</th>\n",
       "    </tr>\n",
       "  </thead>\n",
       "  <tbody>\n",
       "    <tr>\n",
       "      <th>0</th>\n",
       "      <td>1</td>\n",
       "      <td>0.766127</td>\n",
       "      <td>45</td>\n",
       "      <td>2</td>\n",
       "      <td>0.802982</td>\n",
       "      <td>9120.0</td>\n",
       "      <td>13</td>\n",
       "      <td>0</td>\n",
       "      <td>6</td>\n",
       "      <td>0</td>\n",
       "      <td>2.0</td>\n",
       "    </tr>\n",
       "    <tr>\n",
       "      <th>1</th>\n",
       "      <td>0</td>\n",
       "      <td>0.957151</td>\n",
       "      <td>40</td>\n",
       "      <td>0</td>\n",
       "      <td>0.121876</td>\n",
       "      <td>2600.0</td>\n",
       "      <td>4</td>\n",
       "      <td>0</td>\n",
       "      <td>0</td>\n",
       "      <td>0</td>\n",
       "      <td>1.0</td>\n",
       "    </tr>\n",
       "    <tr>\n",
       "      <th>2</th>\n",
       "      <td>0</td>\n",
       "      <td>0.658180</td>\n",
       "      <td>38</td>\n",
       "      <td>1</td>\n",
       "      <td>0.085113</td>\n",
       "      <td>3042.0</td>\n",
       "      <td>2</td>\n",
       "      <td>1</td>\n",
       "      <td>0</td>\n",
       "      <td>0</td>\n",
       "      <td>0.0</td>\n",
       "    </tr>\n",
       "    <tr>\n",
       "      <th>3</th>\n",
       "      <td>0</td>\n",
       "      <td>0.233810</td>\n",
       "      <td>30</td>\n",
       "      <td>0</td>\n",
       "      <td>0.036050</td>\n",
       "      <td>3300.0</td>\n",
       "      <td>5</td>\n",
       "      <td>0</td>\n",
       "      <td>0</td>\n",
       "      <td>0</td>\n",
       "      <td>0.0</td>\n",
       "    </tr>\n",
       "    <tr>\n",
       "      <th>4</th>\n",
       "      <td>0</td>\n",
       "      <td>0.907239</td>\n",
       "      <td>49</td>\n",
       "      <td>1</td>\n",
       "      <td>0.024926</td>\n",
       "      <td>63588.0</td>\n",
       "      <td>7</td>\n",
       "      <td>0</td>\n",
       "      <td>1</td>\n",
       "      <td>0</td>\n",
       "      <td>0.0</td>\n",
       "    </tr>\n",
       "  </tbody>\n",
       "</table>\n",
       "</div>"
      ],
      "text/plain": [
       "   SeriousDlqin2yrs  RevolvingUtilizationOfUnsecuredLines  age  \\\n",
       "0                 1                              0.766127   45   \n",
       "1                 0                              0.957151   40   \n",
       "2                 0                              0.658180   38   \n",
       "3                 0                              0.233810   30   \n",
       "4                 0                              0.907239   49   \n",
       "\n",
       "   NumberOfTime30-59DaysPastDueNotWorse  DebtRatio  MonthlyIncome  \\\n",
       "0                                     2   0.802982         9120.0   \n",
       "1                                     0   0.121876         2600.0   \n",
       "2                                     1   0.085113         3042.0   \n",
       "3                                     0   0.036050         3300.0   \n",
       "4                                     1   0.024926        63588.0   \n",
       "\n",
       "   NumberOfOpenCreditLinesAndLoans  NumberOfTimes90DaysLate  \\\n",
       "0                               13                        0   \n",
       "1                                4                        0   \n",
       "2                                2                        1   \n",
       "3                                5                        0   \n",
       "4                                7                        0   \n",
       "\n",
       "   NumberRealEstateLoansOrLines  NumberOfTime60-89DaysPastDueNotWorse  \\\n",
       "0                             6                                     0   \n",
       "1                             0                                     0   \n",
       "2                             0                                     0   \n",
       "3                             0                                     0   \n",
       "4                             1                                     0   \n",
       "\n",
       "   NumberOfDependents  \n",
       "0                 2.0  \n",
       "1                 1.0  \n",
       "2                 0.0  \n",
       "3                 0.0  \n",
       "4                 0.0  "
      ]
     },
     "execution_count": 9,
     "metadata": {},
     "output_type": "execute_result"
    }
   ],
   "source": [
    "df_train.head()"
   ]
  },
  {
   "cell_type": "code",
   "execution_count": 10,
   "id": "3c29e91b-a848-40d0-b7c4-e585bef060df",
   "metadata": {},
   "outputs": [
    {
     "data": {
      "text/html": [
       "<div>\n",
       "<style scoped>\n",
       "    .dataframe tbody tr th:only-of-type {\n",
       "        vertical-align: middle;\n",
       "    }\n",
       "\n",
       "    .dataframe tbody tr th {\n",
       "        vertical-align: top;\n",
       "    }\n",
       "\n",
       "    .dataframe thead th {\n",
       "        text-align: right;\n",
       "    }\n",
       "</style>\n",
       "<table border=\"1\" class=\"dataframe\">\n",
       "  <thead>\n",
       "    <tr style=\"text-align: right;\">\n",
       "      <th></th>\n",
       "      <th>SeriousDlqin2yrs</th>\n",
       "      <th>RevolvingUtilizationOfUnsecuredLines</th>\n",
       "      <th>age</th>\n",
       "      <th>NumberOfTime30-59DaysPastDueNotWorse</th>\n",
       "      <th>DebtRatio</th>\n",
       "      <th>MonthlyIncome</th>\n",
       "      <th>NumberOfOpenCreditLinesAndLoans</th>\n",
       "      <th>NumberOfTimes90DaysLate</th>\n",
       "      <th>NumberRealEstateLoansOrLines</th>\n",
       "      <th>NumberOfTime60-89DaysPastDueNotWorse</th>\n",
       "      <th>NumberOfDependents</th>\n",
       "    </tr>\n",
       "  </thead>\n",
       "  <tbody>\n",
       "    <tr>\n",
       "      <th>0</th>\n",
       "      <td>NaN</td>\n",
       "      <td>0.885519</td>\n",
       "      <td>43</td>\n",
       "      <td>0</td>\n",
       "      <td>0.177513</td>\n",
       "      <td>5700.0</td>\n",
       "      <td>4</td>\n",
       "      <td>0</td>\n",
       "      <td>0</td>\n",
       "      <td>0</td>\n",
       "      <td>0.0</td>\n",
       "    </tr>\n",
       "    <tr>\n",
       "      <th>1</th>\n",
       "      <td>NaN</td>\n",
       "      <td>0.463295</td>\n",
       "      <td>57</td>\n",
       "      <td>0</td>\n",
       "      <td>0.527237</td>\n",
       "      <td>9141.0</td>\n",
       "      <td>15</td>\n",
       "      <td>0</td>\n",
       "      <td>4</td>\n",
       "      <td>0</td>\n",
       "      <td>2.0</td>\n",
       "    </tr>\n",
       "    <tr>\n",
       "      <th>2</th>\n",
       "      <td>NaN</td>\n",
       "      <td>0.043275</td>\n",
       "      <td>59</td>\n",
       "      <td>0</td>\n",
       "      <td>0.687648</td>\n",
       "      <td>5083.0</td>\n",
       "      <td>12</td>\n",
       "      <td>0</td>\n",
       "      <td>1</td>\n",
       "      <td>0</td>\n",
       "      <td>2.0</td>\n",
       "    </tr>\n",
       "    <tr>\n",
       "      <th>3</th>\n",
       "      <td>NaN</td>\n",
       "      <td>0.280308</td>\n",
       "      <td>38</td>\n",
       "      <td>1</td>\n",
       "      <td>0.925961</td>\n",
       "      <td>3200.0</td>\n",
       "      <td>7</td>\n",
       "      <td>0</td>\n",
       "      <td>2</td>\n",
       "      <td>0</td>\n",
       "      <td>0.0</td>\n",
       "    </tr>\n",
       "    <tr>\n",
       "      <th>4</th>\n",
       "      <td>NaN</td>\n",
       "      <td>1.000000</td>\n",
       "      <td>27</td>\n",
       "      <td>0</td>\n",
       "      <td>0.019917</td>\n",
       "      <td>3865.0</td>\n",
       "      <td>4</td>\n",
       "      <td>0</td>\n",
       "      <td>0</td>\n",
       "      <td>0</td>\n",
       "      <td>1.0</td>\n",
       "    </tr>\n",
       "  </tbody>\n",
       "</table>\n",
       "</div>"
      ],
      "text/plain": [
       "   SeriousDlqin2yrs  RevolvingUtilizationOfUnsecuredLines  age  \\\n",
       "0               NaN                              0.885519   43   \n",
       "1               NaN                              0.463295   57   \n",
       "2               NaN                              0.043275   59   \n",
       "3               NaN                              0.280308   38   \n",
       "4               NaN                              1.000000   27   \n",
       "\n",
       "   NumberOfTime30-59DaysPastDueNotWorse  DebtRatio  MonthlyIncome  \\\n",
       "0                                     0   0.177513         5700.0   \n",
       "1                                     0   0.527237         9141.0   \n",
       "2                                     0   0.687648         5083.0   \n",
       "3                                     1   0.925961         3200.0   \n",
       "4                                     0   0.019917         3865.0   \n",
       "\n",
       "   NumberOfOpenCreditLinesAndLoans  NumberOfTimes90DaysLate  \\\n",
       "0                                4                        0   \n",
       "1                               15                        0   \n",
       "2                               12                        0   \n",
       "3                                7                        0   \n",
       "4                                4                        0   \n",
       "\n",
       "   NumberRealEstateLoansOrLines  NumberOfTime60-89DaysPastDueNotWorse  \\\n",
       "0                             0                                     0   \n",
       "1                             4                                     0   \n",
       "2                             1                                     0   \n",
       "3                             2                                     0   \n",
       "4                             0                                     0   \n",
       "\n",
       "   NumberOfDependents  \n",
       "0                 0.0  \n",
       "1                 2.0  \n",
       "2                 2.0  \n",
       "3                 0.0  \n",
       "4                 1.0  "
      ]
     },
     "execution_count": 10,
     "metadata": {},
     "output_type": "execute_result"
    }
   ],
   "source": [
    "df_test.head()"
   ]
  },
  {
   "cell_type": "markdown",
   "id": "e9586feb-2d97-4baf-91a5-44849f68ec92",
   "metadata": {},
   "source": []
  },
  {
   "cell_type": "code",
   "execution_count": 14,
   "id": "8ddf3b3e-f24a-40b4-b89d-62a15dfa0963",
   "metadata": {},
   "outputs": [
    {
     "data": {
      "text/plain": [
       "(101503, 11)"
      ]
     },
     "execution_count": 14,
     "metadata": {},
     "output_type": "execute_result"
    }
   ],
   "source": [
    "df_train.shape\n",
    "df_test.shape "
   ]
  },
  {
   "cell_type": "code",
   "execution_count": 13,
   "id": "d6613781-dfbe-4a8b-96b3-883e9f2041f3",
   "metadata": {},
   "outputs": [
    {
     "data": {
      "text/plain": [
       "1650000"
      ]
     },
     "execution_count": 13,
     "metadata": {},
     "output_type": "execute_result"
    }
   ],
   "source": [
    "df_train.size"
   ]
  },
  {
   "cell_type": "code",
   "execution_count": 15,
   "id": "49191691-2c03-43cf-8e3f-8a3737e85bea",
   "metadata": {},
   "outputs": [
    {
     "name": "stdout",
     "output_type": "stream",
     "text": [
      "<class 'pandas.core.frame.DataFrame'>\n",
      "RangeIndex: 150000 entries, 0 to 149999\n",
      "Data columns (total 11 columns):\n",
      " #   Column                                Non-Null Count   Dtype  \n",
      "---  ------                                --------------   -----  \n",
      " 0   SeriousDlqin2yrs                      150000 non-null  int64  \n",
      " 1   RevolvingUtilizationOfUnsecuredLines  150000 non-null  float64\n",
      " 2   age                                   150000 non-null  int64  \n",
      " 3   NumberOfTime30-59DaysPastDueNotWorse  150000 non-null  int64  \n",
      " 4   DebtRatio                             150000 non-null  float64\n",
      " 5   MonthlyIncome                         120269 non-null  float64\n",
      " 6   NumberOfOpenCreditLinesAndLoans       150000 non-null  int64  \n",
      " 7   NumberOfTimes90DaysLate               150000 non-null  int64  \n",
      " 8   NumberRealEstateLoansOrLines          150000 non-null  int64  \n",
      " 9   NumberOfTime60-89DaysPastDueNotWorse  150000 non-null  int64  \n",
      " 10  NumberOfDependents                    146076 non-null  float64\n",
      "dtypes: float64(4), int64(7)\n",
      "memory usage: 12.6 MB\n"
     ]
    }
   ],
   "source": [
    "df_train.info()"
   ]
  },
  {
   "cell_type": "markdown",
   "id": "bb18e103-d1db-45e4-b6e1-0ed231571952",
   "metadata": {},
   "source": [
    "**Q4: Get number of rows and columns of  train set**"
   ]
  },
  {
   "cell_type": "code",
   "execution_count": null,
   "id": "337ed795-a13b-4d44-bdbe-42ddd0ada23e",
   "metadata": {},
   "outputs": [],
   "source": []
  },
  {
   "cell_type": "markdown",
   "id": "c29df1d8-3c32-433c-927d-5a9c8685c849",
   "metadata": {},
   "source": [
    "**Q5: Describe the distribution of train set**"
   ]
  },
  {
   "cell_type": "code",
   "execution_count": 16,
   "id": "6a82b752-56b2-4b21-bff1-385ed7430359",
   "metadata": {},
   "outputs": [
    {
     "data": {
      "text/html": [
       "<div>\n",
       "<style scoped>\n",
       "    .dataframe tbody tr th:only-of-type {\n",
       "        vertical-align: middle;\n",
       "    }\n",
       "\n",
       "    .dataframe tbody tr th {\n",
       "        vertical-align: top;\n",
       "    }\n",
       "\n",
       "    .dataframe thead th {\n",
       "        text-align: right;\n",
       "    }\n",
       "</style>\n",
       "<table border=\"1\" class=\"dataframe\">\n",
       "  <thead>\n",
       "    <tr style=\"text-align: right;\">\n",
       "      <th></th>\n",
       "      <th>SeriousDlqin2yrs</th>\n",
       "      <th>RevolvingUtilizationOfUnsecuredLines</th>\n",
       "      <th>age</th>\n",
       "      <th>NumberOfTime30-59DaysPastDueNotWorse</th>\n",
       "      <th>DebtRatio</th>\n",
       "      <th>MonthlyIncome</th>\n",
       "      <th>NumberOfOpenCreditLinesAndLoans</th>\n",
       "      <th>NumberOfTimes90DaysLate</th>\n",
       "      <th>NumberRealEstateLoansOrLines</th>\n",
       "      <th>NumberOfTime60-89DaysPastDueNotWorse</th>\n",
       "      <th>NumberOfDependents</th>\n",
       "    </tr>\n",
       "  </thead>\n",
       "  <tbody>\n",
       "    <tr>\n",
       "      <th>count</th>\n",
       "      <td>150000.000000</td>\n",
       "      <td>150000.000000</td>\n",
       "      <td>150000.000000</td>\n",
       "      <td>150000.000000</td>\n",
       "      <td>150000.000000</td>\n",
       "      <td>1.202690e+05</td>\n",
       "      <td>150000.000000</td>\n",
       "      <td>150000.000000</td>\n",
       "      <td>150000.000000</td>\n",
       "      <td>150000.000000</td>\n",
       "      <td>146076.000000</td>\n",
       "    </tr>\n",
       "    <tr>\n",
       "      <th>mean</th>\n",
       "      <td>0.066840</td>\n",
       "      <td>6.048438</td>\n",
       "      <td>52.295207</td>\n",
       "      <td>0.421033</td>\n",
       "      <td>353.005076</td>\n",
       "      <td>6.670221e+03</td>\n",
       "      <td>8.452760</td>\n",
       "      <td>0.265973</td>\n",
       "      <td>1.018240</td>\n",
       "      <td>0.240387</td>\n",
       "      <td>0.757222</td>\n",
       "    </tr>\n",
       "    <tr>\n",
       "      <th>std</th>\n",
       "      <td>0.249746</td>\n",
       "      <td>249.755371</td>\n",
       "      <td>14.771866</td>\n",
       "      <td>4.192781</td>\n",
       "      <td>2037.818523</td>\n",
       "      <td>1.438467e+04</td>\n",
       "      <td>5.145951</td>\n",
       "      <td>4.169304</td>\n",
       "      <td>1.129771</td>\n",
       "      <td>4.155179</td>\n",
       "      <td>1.115086</td>\n",
       "    </tr>\n",
       "    <tr>\n",
       "      <th>min</th>\n",
       "      <td>0.000000</td>\n",
       "      <td>0.000000</td>\n",
       "      <td>0.000000</td>\n",
       "      <td>0.000000</td>\n",
       "      <td>0.000000</td>\n",
       "      <td>0.000000e+00</td>\n",
       "      <td>0.000000</td>\n",
       "      <td>0.000000</td>\n",
       "      <td>0.000000</td>\n",
       "      <td>0.000000</td>\n",
       "      <td>0.000000</td>\n",
       "    </tr>\n",
       "    <tr>\n",
       "      <th>25%</th>\n",
       "      <td>0.000000</td>\n",
       "      <td>0.029867</td>\n",
       "      <td>41.000000</td>\n",
       "      <td>0.000000</td>\n",
       "      <td>0.175074</td>\n",
       "      <td>3.400000e+03</td>\n",
       "      <td>5.000000</td>\n",
       "      <td>0.000000</td>\n",
       "      <td>0.000000</td>\n",
       "      <td>0.000000</td>\n",
       "      <td>0.000000</td>\n",
       "    </tr>\n",
       "    <tr>\n",
       "      <th>50%</th>\n",
       "      <td>0.000000</td>\n",
       "      <td>0.154181</td>\n",
       "      <td>52.000000</td>\n",
       "      <td>0.000000</td>\n",
       "      <td>0.366508</td>\n",
       "      <td>5.400000e+03</td>\n",
       "      <td>8.000000</td>\n",
       "      <td>0.000000</td>\n",
       "      <td>1.000000</td>\n",
       "      <td>0.000000</td>\n",
       "      <td>0.000000</td>\n",
       "    </tr>\n",
       "    <tr>\n",
       "      <th>75%</th>\n",
       "      <td>0.000000</td>\n",
       "      <td>0.559046</td>\n",
       "      <td>63.000000</td>\n",
       "      <td>0.000000</td>\n",
       "      <td>0.868254</td>\n",
       "      <td>8.249000e+03</td>\n",
       "      <td>11.000000</td>\n",
       "      <td>0.000000</td>\n",
       "      <td>2.000000</td>\n",
       "      <td>0.000000</td>\n",
       "      <td>1.000000</td>\n",
       "    </tr>\n",
       "    <tr>\n",
       "      <th>max</th>\n",
       "      <td>1.000000</td>\n",
       "      <td>50708.000000</td>\n",
       "      <td>109.000000</td>\n",
       "      <td>98.000000</td>\n",
       "      <td>329664.000000</td>\n",
       "      <td>3.008750e+06</td>\n",
       "      <td>58.000000</td>\n",
       "      <td>98.000000</td>\n",
       "      <td>54.000000</td>\n",
       "      <td>98.000000</td>\n",
       "      <td>20.000000</td>\n",
       "    </tr>\n",
       "  </tbody>\n",
       "</table>\n",
       "</div>"
      ],
      "text/plain": [
       "       SeriousDlqin2yrs  RevolvingUtilizationOfUnsecuredLines            age  \\\n",
       "count     150000.000000                         150000.000000  150000.000000   \n",
       "mean           0.066840                              6.048438      52.295207   \n",
       "std            0.249746                            249.755371      14.771866   \n",
       "min            0.000000                              0.000000       0.000000   \n",
       "25%            0.000000                              0.029867      41.000000   \n",
       "50%            0.000000                              0.154181      52.000000   \n",
       "75%            0.000000                              0.559046      63.000000   \n",
       "max            1.000000                          50708.000000     109.000000   \n",
       "\n",
       "       NumberOfTime30-59DaysPastDueNotWorse      DebtRatio  MonthlyIncome  \\\n",
       "count                         150000.000000  150000.000000   1.202690e+05   \n",
       "mean                               0.421033     353.005076   6.670221e+03   \n",
       "std                                4.192781    2037.818523   1.438467e+04   \n",
       "min                                0.000000       0.000000   0.000000e+00   \n",
       "25%                                0.000000       0.175074   3.400000e+03   \n",
       "50%                                0.000000       0.366508   5.400000e+03   \n",
       "75%                                0.000000       0.868254   8.249000e+03   \n",
       "max                               98.000000  329664.000000   3.008750e+06   \n",
       "\n",
       "       NumberOfOpenCreditLinesAndLoans  NumberOfTimes90DaysLate  \\\n",
       "count                    150000.000000            150000.000000   \n",
       "mean                          8.452760                 0.265973   \n",
       "std                           5.145951                 4.169304   \n",
       "min                           0.000000                 0.000000   \n",
       "25%                           5.000000                 0.000000   \n",
       "50%                           8.000000                 0.000000   \n",
       "75%                          11.000000                 0.000000   \n",
       "max                          58.000000                98.000000   \n",
       "\n",
       "       NumberRealEstateLoansOrLines  NumberOfTime60-89DaysPastDueNotWorse  \\\n",
       "count                 150000.000000                         150000.000000   \n",
       "mean                       1.018240                              0.240387   \n",
       "std                        1.129771                              4.155179   \n",
       "min                        0.000000                              0.000000   \n",
       "25%                        0.000000                              0.000000   \n",
       "50%                        1.000000                              0.000000   \n",
       "75%                        2.000000                              0.000000   \n",
       "max                       54.000000                             98.000000   \n",
       "\n",
       "       NumberOfDependents  \n",
       "count       146076.000000  \n",
       "mean             0.757222  \n",
       "std              1.115086  \n",
       "min              0.000000  \n",
       "25%              0.000000  \n",
       "50%              0.000000  \n",
       "75%              1.000000  \n",
       "max             20.000000  "
      ]
     },
     "execution_count": 16,
     "metadata": {},
     "output_type": "execute_result"
    }
   ],
   "source": [
    "df_train.describe()"
   ]
  },
  {
   "cell_type": "markdown",
   "id": "3a0b942b-5740-49c3-b4a6-9590a6bb04a5",
   "metadata": {},
   "source": [
    "In the readtime we have to use it as box plot to see what we have "
   ]
  },
  {
   "cell_type": "code",
   "execution_count": null,
   "id": "253501ae-0ccf-421c-868e-8a1a5f5a5503",
   "metadata": {},
   "outputs": [],
   "source": []
  },
  {
   "cell_type": "markdown",
   "id": "b4e3ab1d-9b97-4e6d-b453-e04de98e7689",
   "metadata": {},
   "source": [
    "**Q6: Get information of train set by df.info()**"
   ]
  },
  {
   "cell_type": "code",
   "execution_count": null,
   "id": "f561870d-fed0-4aac-b964-665f1b8a1e06",
   "metadata": {},
   "outputs": [],
   "source": []
  },
  {
   "cell_type": "markdown",
   "id": "abb026fa-2219-4aaa-9cab-422b227c176a",
   "metadata": {},
   "source": [
    "**Q7: Get the missing percent per columns of train set**"
   ]
  },
  {
   "cell_type": "code",
   "execution_count": 19,
   "id": "e6c1cd05-ac01-4863-baf2-9ede8f177e53",
   "metadata": {},
   "outputs": [
    {
     "data": {
      "text/plain": [
       "SeriousDlqin2yrs                         0.000000\n",
       "RevolvingUtilizationOfUnsecuredLines     0.000000\n",
       "age                                      0.000000\n",
       "NumberOfTime30-59DaysPastDueNotWorse     0.000000\n",
       "DebtRatio                                0.000000\n",
       "MonthlyIncome                           19.820667\n",
       "NumberOfOpenCreditLinesAndLoans          0.000000\n",
       "NumberOfTimes90DaysLate                  0.000000\n",
       "NumberRealEstateLoansOrLines             0.000000\n",
       "NumberOfTime60-89DaysPastDueNotWorse     0.000000\n",
       "NumberOfDependents                       2.616000\n",
       "dtype: float64"
      ]
     },
     "execution_count": 19,
     "metadata": {},
     "output_type": "execute_result"
    }
   ],
   "source": [
    "df_train.isnull().sum()/len(df_train)*100"
   ]
  },
  {
   "cell_type": "markdown",
   "id": "740d6a6f-23d0-434f-b21a-f1b15ece9d50",
   "metadata": {},
   "source": [
    "\"null\" reason: Ngẫu nhiên, không ngẫy nhiên hay hoàn toàn ngẫu nhiên\n",
    "Nếu missing:"
   ]
  },
  {
   "cell_type": "code",
   "execution_count": null,
   "id": "07f35629-2c88-4678-bd41-94e1090c861e",
   "metadata": {},
   "outputs": [],
   "source": []
  },
  {
   "cell_type": "markdown",
   "id": "e93d0809-e500-4a0a-ac66-b05d382ce299",
   "metadata": {},
   "source": [
    "## 2.3 Visullization"
   ]
  },
  {
   "cell_type": "markdown",
   "id": "5504329f-36dd-4182-bd97-4eab3666df33",
   "metadata": {},
   "source": [
    "**Q8: Target disitribution on train set via bar chart**"
   ]
  },
  {
   "cell_type": "markdown",
   "id": "aad56f07-a788-43cf-9e33-8197385c02d7",
   "metadata": {},
   "source": [
    "Imbalanced data: Dữ liệu không tương xứng "
   ]
  },
  {
   "cell_type": "code",
   "execution_count": 26,
   "id": "182393cd-2fc2-4688-8e7f-a64f5b0afc27",
   "metadata": {},
   "outputs": [
    {
     "data": {
      "text/plain": [
       "0    139974\n",
       "1     10026\n",
       "Name: SeriousDlqin2yrs, dtype: int64"
      ]
     },
     "execution_count": 26,
     "metadata": {},
     "output_type": "execute_result"
    }
   ],
   "source": [
    "df_train.SeriousDlqin2yrs.value_counts()"
   ]
  },
  {
   "cell_type": "code",
   "execution_count": 35,
   "id": "ffad91df-ad52-485b-9d43-b986d00fc372",
   "metadata": {},
   "outputs": [
    {
     "data": {
      "text/plain": [
       "Text(0, 0.5, 'xyz')"
      ]
     },
     "execution_count": 35,
     "metadata": {},
     "output_type": "execute_result"
    },
    {
     "data": {
      "image/png": "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\n",
      "text/plain": [
       "<Figure size 720x504 with 1 Axes>"
      ]
     },
     "metadata": {
      "needs_background": "light"
     },
     "output_type": "display_data"
    }
   ],
   "source": [
    "plt.figure(figsize=(10,7))\n",
    "df_train.SeriousDlqin2yrs.value_counts().plot(kind = 'bar',color = ['green','red'])\n",
    "plt.title('Target Distribution')\n",
    "plt.xlabel('Deliquency in 2 years')\n",
    "plt.ylabel('Frequency')"
   ]
  },
  {
   "cell_type": "code",
   "execution_count": 37,
   "id": "768e1169-bc54-413f-9649-45998f368e4b",
   "metadata": {},
   "outputs": [
    {
     "data": {
      "text/plain": [
       "Text(0, 0.5, 'Frequency')"
      ]
     },
     "execution_count": 37,
     "metadata": {},
     "output_type": "execute_result"
    },
    {
     "data": {
      "image/png": "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\n",
      "text/plain": [
       "<Figure size 720x504 with 1 Axes>"
      ]
     },
     "metadata": {
      "needs_background": "light"
     },
     "output_type": "display_data"
    }
   ],
   "source": [
    "plt.figure(figsize = (10,7))\n",
    "sns.countplot(x=df_train.SeriousDlqin2yrs)\n",
    "plt.title('Target Distribution')\n",
    "plt.xlabel('Deliquency in 2 years')\n",
    "plt.ylabel('Frequency')"
   ]
  },
  {
   "cell_type": "markdown",
   "id": "0e583c89-a762-4931-99c7-09f18b82ffa6",
   "metadata": {},
   "source": [
    "Accuracy score: ~93%\n",
    "Precesion: \n",
    "Recall: \n",
    "F1-Score:\n",
    "basing on that which will show howmany %  also the harmony mean \n",
    "AUC and Gini (bank)"
   ]
  },
  {
   "cell_type": "code",
   "execution_count": 23,
   "id": "5d4c5fb2-a3c8-487f-ba8d-d3b32bdfe8ea",
   "metadata": {},
   "outputs": [
    {
     "data": {
      "text/html": [
       "<div>\n",
       "<style scoped>\n",
       "    .dataframe tbody tr th:only-of-type {\n",
       "        vertical-align: middle;\n",
       "    }\n",
       "\n",
       "    .dataframe tbody tr th {\n",
       "        vertical-align: top;\n",
       "    }\n",
       "\n",
       "    .dataframe thead th {\n",
       "        text-align: right;\n",
       "    }\n",
       "</style>\n",
       "<table border=\"1\" class=\"dataframe\">\n",
       "  <thead>\n",
       "    <tr style=\"text-align: right;\">\n",
       "      <th></th>\n",
       "      <th>SeriousDlqin2yrs</th>\n",
       "      <th>RevolvingUtilizationOfUnsecuredLines</th>\n",
       "      <th>age</th>\n",
       "      <th>NumberOfTime30-59DaysPastDueNotWorse</th>\n",
       "      <th>DebtRatio</th>\n",
       "      <th>MonthlyIncome</th>\n",
       "      <th>NumberOfOpenCreditLinesAndLoans</th>\n",
       "      <th>NumberOfTimes90DaysLate</th>\n",
       "      <th>NumberRealEstateLoansOrLines</th>\n",
       "      <th>NumberOfTime60-89DaysPastDueNotWorse</th>\n",
       "      <th>NumberOfDependents</th>\n",
       "    </tr>\n",
       "  </thead>\n",
       "  <tbody>\n",
       "    <tr>\n",
       "      <th>0</th>\n",
       "      <td>1</td>\n",
       "      <td>0.766127</td>\n",
       "      <td>45</td>\n",
       "      <td>2</td>\n",
       "      <td>0.802982</td>\n",
       "      <td>9120.0</td>\n",
       "      <td>13</td>\n",
       "      <td>0</td>\n",
       "      <td>6</td>\n",
       "      <td>0</td>\n",
       "      <td>2.0</td>\n",
       "    </tr>\n",
       "    <tr>\n",
       "      <th>1</th>\n",
       "      <td>0</td>\n",
       "      <td>0.957151</td>\n",
       "      <td>40</td>\n",
       "      <td>0</td>\n",
       "      <td>0.121876</td>\n",
       "      <td>2600.0</td>\n",
       "      <td>4</td>\n",
       "      <td>0</td>\n",
       "      <td>0</td>\n",
       "      <td>0</td>\n",
       "      <td>1.0</td>\n",
       "    </tr>\n",
       "    <tr>\n",
       "      <th>2</th>\n",
       "      <td>0</td>\n",
       "      <td>0.658180</td>\n",
       "      <td>38</td>\n",
       "      <td>1</td>\n",
       "      <td>0.085113</td>\n",
       "      <td>3042.0</td>\n",
       "      <td>2</td>\n",
       "      <td>1</td>\n",
       "      <td>0</td>\n",
       "      <td>0</td>\n",
       "      <td>0.0</td>\n",
       "    </tr>\n",
       "    <tr>\n",
       "      <th>3</th>\n",
       "      <td>0</td>\n",
       "      <td>0.233810</td>\n",
       "      <td>30</td>\n",
       "      <td>0</td>\n",
       "      <td>0.036050</td>\n",
       "      <td>3300.0</td>\n",
       "      <td>5</td>\n",
       "      <td>0</td>\n",
       "      <td>0</td>\n",
       "      <td>0</td>\n",
       "      <td>0.0</td>\n",
       "    </tr>\n",
       "    <tr>\n",
       "      <th>4</th>\n",
       "      <td>0</td>\n",
       "      <td>0.907239</td>\n",
       "      <td>49</td>\n",
       "      <td>1</td>\n",
       "      <td>0.024926</td>\n",
       "      <td>63588.0</td>\n",
       "      <td>7</td>\n",
       "      <td>0</td>\n",
       "      <td>1</td>\n",
       "      <td>0</td>\n",
       "      <td>0.0</td>\n",
       "    </tr>\n",
       "  </tbody>\n",
       "</table>\n",
       "</div>"
      ],
      "text/plain": [
       "   SeriousDlqin2yrs  RevolvingUtilizationOfUnsecuredLines  age  \\\n",
       "0                 1                              0.766127   45   \n",
       "1                 0                              0.957151   40   \n",
       "2                 0                              0.658180   38   \n",
       "3                 0                              0.233810   30   \n",
       "4                 0                              0.907239   49   \n",
       "\n",
       "   NumberOfTime30-59DaysPastDueNotWorse  DebtRatio  MonthlyIncome  \\\n",
       "0                                     2   0.802982         9120.0   \n",
       "1                                     0   0.121876         2600.0   \n",
       "2                                     1   0.085113         3042.0   \n",
       "3                                     0   0.036050         3300.0   \n",
       "4                                     1   0.024926        63588.0   \n",
       "\n",
       "   NumberOfOpenCreditLinesAndLoans  NumberOfTimes90DaysLate  \\\n",
       "0                               13                        0   \n",
       "1                                4                        0   \n",
       "2                                2                        1   \n",
       "3                                5                        0   \n",
       "4                                7                        0   \n",
       "\n",
       "   NumberRealEstateLoansOrLines  NumberOfTime60-89DaysPastDueNotWorse  \\\n",
       "0                             6                                     0   \n",
       "1                             0                                     0   \n",
       "2                             0                                     0   \n",
       "3                             0                                     0   \n",
       "4                             1                                     0   \n",
       "\n",
       "   NumberOfDependents  \n",
       "0                 2.0  \n",
       "1                 1.0  \n",
       "2                 0.0  \n",
       "3                 0.0  \n",
       "4                 0.0  "
      ]
     },
     "execution_count": 23,
     "metadata": {},
     "output_type": "execute_result"
    }
   ],
   "source": [
    "df_train.head()"
   ]
  },
  {
   "cell_type": "markdown",
   "id": "aa5fed8c-c9a7-4d2b-acf8-6818bc683534",
   "metadata": {},
   "source": [
    "**Q9: Correlation of features and target**"
   ]
  },
  {
   "cell_type": "code",
   "execution_count": 39,
   "id": "3a964303-6bd0-4377-8639-7d5c3bfe04b8",
   "metadata": {},
   "outputs": [
    {
     "data": {
      "text/plain": [
       "<AxesSubplot:>"
      ]
     },
     "execution_count": 39,
     "metadata": {},
     "output_type": "execute_result"
    },
    {
     "data": {
      "image/png": "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\n",
      "text/plain": [
       "<Figure size 432x288 with 2 Axes>"
      ]
     },
     "metadata": {
      "needs_background": "light"
     },
     "output_type": "display_data"
    }
   ],
   "source": [
    "sns.heatmap(df_train.corr()) # tận dụng heatmap to show vizulization"
   ]
  },
  {
   "cell_type": "code",
   "execution_count": 42,
   "id": "eacea89a-8514-4c6d-9c60-14bccae02cda",
   "metadata": {},
   "outputs": [
    {
     "data": {
      "image/png": "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\n",
      "text/plain": [
       "<Figure size 720x720 with 2 Axes>"
      ]
     },
     "metadata": {
      "needs_background": "light"
     },
     "output_type": "display_data"
    }
   ],
   "source": [
    "plt.figure(figsize=(10,10))\n",
    "sns.heatmap(df_train.corr(),annot = True);"
   ]
  },
  {
   "cell_type": "code",
   "execution_count": null,
   "id": "1b8e3a32-ac9d-41a2-8492-ea463f259c72",
   "metadata": {},
   "outputs": [],
   "source": []
  },
  {
   "cell_type": "code",
   "execution_count": null,
   "id": "f2231fa6-2c7c-4362-9723-a1f22ec1c9e7",
   "metadata": {},
   "outputs": [],
   "source": []
  },
  {
   "cell_type": "code",
   "execution_count": null,
   "id": "e085834b-917c-4c24-8b40-a8235bf198e7",
   "metadata": {},
   "outputs": [],
   "source": []
  },
  {
   "cell_type": "markdown",
   "id": "50ffa369-38f5-4a4d-8c24-1aa838cf5040",
   "metadata": {},
   "source": [
    "**Q10: Describe features distribution and correlation given histogram and pairplot chart**"
   ]
  },
  {
   "cell_type": "code",
   "execution_count": 46,
   "id": "3d934773-88f1-4900-b0ce-7488bd56d914",
   "metadata": {},
   "outputs": [
    {
     "data": {
      "text/plain": [
       "array([[<AxesSubplot:title={'center':'SeriousDlqin2yrs'}>,\n",
       "        <AxesSubplot:title={'center':'RevolvingUtilizationOfUnsecuredLines'}>,\n",
       "        <AxesSubplot:title={'center':'age'}>],\n",
       "       [<AxesSubplot:title={'center':'NumberOfTime30-59DaysPastDueNotWorse'}>,\n",
       "        <AxesSubplot:title={'center':'DebtRatio'}>,\n",
       "        <AxesSubplot:title={'center':'MonthlyIncome'}>],\n",
       "       [<AxesSubplot:title={'center':'NumberOfOpenCreditLinesAndLoans'}>,\n",
       "        <AxesSubplot:title={'center':'NumberOfTimes90DaysLate'}>,\n",
       "        <AxesSubplot:title={'center':'NumberRealEstateLoansOrLines'}>],\n",
       "       [<AxesSubplot:title={'center':'NumberOfTime60-89DaysPastDueNotWorse'}>,\n",
       "        <AxesSubplot:title={'center':'NumberOfDependents'}>,\n",
       "        <AxesSubplot:>]], dtype=object)"
      ]
     },
     "execution_count": 46,
     "metadata": {},
     "output_type": "execute_result"
    },
    {
     "data": {
      "image/png": "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\n",
      "text/plain": [
       "<Figure size 720x720 with 12 Axes>"
      ]
     },
     "metadata": {
      "needs_background": "light"
     },
     "output_type": "display_data"
    }
   ],
   "source": [
    "df_train.hist(figsize=(10,10))"
   ]
  },
  {
   "cell_type": "code",
   "execution_count": null,
   "id": "77753391-1218-4d06-aa1f-6ddf93aa2511",
   "metadata": {},
   "outputs": [],
   "source": [
    "df_train.columns #to take the name of all columns "
   ]
  },
  {
   "cell_type": "code",
   "execution_count": 105,
   "id": "64d14988-7428-4c29-be28-936394c3fba0",
   "metadata": {},
   "outputs": [],
   "source": [
    "#sns.displot(df_train['RevolvingUtilizationOfUnsecuredLines'])"
   ]
  },
  {
   "cell_type": "code",
   "execution_count": null,
   "id": "ea98d48a-b9e4-470c-8cb7-3a0e50a8aa93",
   "metadata": {},
   "outputs": [],
   "source": [
    "#sns.pairplot(data = df_train, hue = 'species')"
   ]
  },
  {
   "cell_type": "markdown",
   "id": "9ade92c3-a2d1-492d-8c35-1c07fdd1af23",
   "metadata": {},
   "source": [
    "**Q11: Explore each feature with target**"
   ]
  },
  {
   "cell_type": "code",
   "execution_count": null,
   "id": "20c7079f-cbfe-4d58-9dd0-6219b1b484bf",
   "metadata": {},
   "outputs": [],
   "source": []
  },
  {
   "cell_type": "markdown",
   "id": "6d114e8d-1894-4c8f-977c-8c88b1e91cd0",
   "metadata": {},
   "source": [
    "## 3. MODEL"
   ]
  },
  {
   "cell_type": "markdown",
   "id": "a11c209d-268a-4c0b-958d-3c6c2d0f1943",
   "metadata": {},
   "source": [
    "**Q12: Handle outliers in dataset**"
   ]
  },
  {
   "cell_type": "code",
   "execution_count": null,
   "id": "7b4452bb-8772-4004-8e09-5cb07220358c",
   "metadata": {},
   "outputs": [],
   "source": []
  },
  {
   "cell_type": "markdown",
   "id": "9c4dba18-faa0-4893-bfa3-3eeb363f9d93",
   "metadata": {},
   "source": [
    "Misssing Value and Outliner "
   ]
  },
  {
   "cell_type": "markdown",
   "id": "c3610e03-8e1c-4a07-9aa0-089eba2e5882",
   "metadata": {},
   "source": [
    "Inter Quantile Range (normale distribution)"
   ]
  },
  {
   "cell_type": "markdown",
   "id": "9e273d04-9f10-492c-94f5-fbe8ca92f855",
   "metadata": {},
   "source": [
    "![](https://mathbitsnotebook.com/Algebra2/Statistics/normalstandard.jpg)"
   ]
  },
  {
   "cell_type": "markdown",
   "id": "f057cc8c-7f81-47a5-9eff-14e2d3cb123f",
   "metadata": {},
   "source": [
    "We will collect the data from Q1 to Q3 IQR "
   ]
  },
  {
   "cell_type": "markdown",
   "id": "9ebf5a81-5002-4954-8347-457ddc93d043",
   "metadata": {},
   "source": [
    "Q1-1.5IQR-Q3+1.5IQR"
   ]
  },
  {
   "cell_type": "markdown",
   "id": "f3d23830-5d64-453f-b387-ab6ac4293f7e",
   "metadata": {},
   "source": [
    "![](https://upload.wikimedia.org/wikipedia/commons/8/89/Boxplot_vs_PDF.png)"
   ]
  },
  {
   "cell_type": "markdown",
   "id": "993436f7-cd65-4ef1-87f5-54740a1ecb5a",
   "metadata": {},
   "source": [
    "1.5 is defaults 2,3 depending on your distribution"
   ]
  },
  {
   "cell_type": "code",
   "execution_count": 73,
   "id": "c722da70-cbb7-4489-b7aa-96699e495a9e",
   "metadata": {},
   "outputs": [],
   "source": [
    "from collections import Counter\n",
    "def detect_ouliers(df,n, features):\n",
    "    \"\"\"\n",
    "    df = dataframe\n",
    "    feature: lisst containning column names\n",
    "    \"\"\"\n",
    "    outliner_indices = []#indices = index+es\n",
    "    #iterate over feature(columns)\n",
    "    for col in features:\n",
    "        #Step 2: calculate the 1st quntile(25%)\n",
    "        Q1 = np.percentile(df[col],25)\n",
    "        #Step 3: Calculate the 3rd quantile(75%)\n",
    "        Q3 = np.percentile(df[col],75)\n",
    "        #Step 4: Calculate IQR = Q3-Q1\n",
    "        IQR = Q3-Q1\n",
    "        #Step 5: Outlier step <Q1-1.5IQR and >Q3+1.5IQR\n",
    "        outlier_step = 1.5 *IQR\n",
    "        #Step 6: Determine the list off indices off outlier for feature\n",
    "        outlier_list_col = df[(df[col] < Q1- 1.5*IQR)|(df[col] > Q3 + 1.5*IQR)].index\n",
    "        #Step 7: append them \n",
    "        outliner_indices.extend(outlier_list_col)\n",
    "        #note taht append [1,2,3] and [2,3] -> [1,2,3,[2,3]] however extand will append two list [1,2,3,2,3]\n",
    "    #Select rows containning morre than outliers\n",
    "    outlier_indices = Counter(outliner_indices)\n",
    "    multiple_outliers = list(k for k,v in outlier_indices.items() if v>n)#(comprehesion)take key give value larger than n \n",
    "    return multiple_outliers \n"
   ]
  },
  {
   "cell_type": "code",
   "execution_count": 74,
   "id": "9ec852e9-c8e4-425d-af54-57e5d4ca12b7",
   "metadata": {},
   "outputs": [],
   "source": [
    "from collections import Counter\n",
    "a = [1,3,4,3,4]"
   ]
  },
  {
   "cell_type": "code",
   "execution_count": 75,
   "id": "c420237a-0bb8-49cc-a13f-60ca04d1de49",
   "metadata": {},
   "outputs": [
    {
     "data": {
      "text/plain": [
       "Counter({1: 1, 3: 2, 4: 2})"
      ]
     },
     "execution_count": 75,
     "metadata": {},
     "output_type": "execute_result"
    }
   ],
   "source": [
    "Counter(a)"
   ]
  },
  {
   "cell_type": "code",
   "execution_count": 76,
   "id": "8db2089a-5325-46b4-b622-b65547f5b37c",
   "metadata": {},
   "outputs": [
    {
     "data": {
      "text/plain": [
       "Index(['SeriousDlqin2yrs', 'RevolvingUtilizationOfUnsecuredLines', 'age',\n",
       "       'NumberOfTime30-59DaysPastDueNotWorse', 'DebtRatio', 'MonthlyIncome',\n",
       "       'NumberOfOpenCreditLinesAndLoans', 'NumberOfTimes90DaysLate',\n",
       "       'NumberRealEstateLoansOrLines', 'NumberOfTime60-89DaysPastDueNotWorse',\n",
       "       'NumberOfDependents'],\n",
       "      dtype='object')"
      ]
     },
     "execution_count": 76,
     "metadata": {},
     "output_type": "execute_result"
    }
   ],
   "source": [
    "df_train.columns"
   ]
  },
  {
   "cell_type": "code",
   "execution_count": 77,
   "id": "88a3f068-19fc-46b6-9268-86a44cf760ed",
   "metadata": {},
   "outputs": [],
   "source": [
    "features = ['RevolvingUtilizationOfUnsecuredLines', 'age',\n",
    "       'NumberOfTime30-59DaysPastDueNotWorse', 'DebtRatio', 'MonthlyIncome',\n",
    "       'NumberOfOpenCreditLinesAndLoans', 'NumberOfTimes90DaysLate',\n",
    "       'NumberRealEstateLoansOrLines', 'NumberOfTime60-89DaysPastDueNotWorse',\n",
    "       'NumberOfDependents']"
   ]
  },
  {
   "cell_type": "code",
   "execution_count": 86,
   "id": "782be534-5483-4980-b213-e28d6418d38f",
   "metadata": {},
   "outputs": [],
   "source": [
    "outlier_to_drop = detect_ouliers(df_train,3,features)"
   ]
  },
  {
   "cell_type": "code",
   "execution_count": 87,
   "id": "6e82d298-1be8-4081-90cd-03b5ac988aed",
   "metadata": {},
   "outputs": [
    {
     "data": {
      "text/plain": [
       "(150000, 520)"
      ]
     },
     "execution_count": 87,
     "metadata": {},
     "output_type": "execute_result"
    }
   ],
   "source": [
    "len(df_train),len(outlier_to_drop)"
   ]
  },
  {
   "cell_type": "code",
   "execution_count": 88,
   "id": "c6ddd6fe-c6bb-4548-b893-32f115159a34",
   "metadata": {},
   "outputs": [
    {
     "data": {
      "text/html": [
       "<div>\n",
       "<style scoped>\n",
       "    .dataframe tbody tr th:only-of-type {\n",
       "        vertical-align: middle;\n",
       "    }\n",
       "\n",
       "    .dataframe tbody tr th {\n",
       "        vertical-align: top;\n",
       "    }\n",
       "\n",
       "    .dataframe thead th {\n",
       "        text-align: right;\n",
       "    }\n",
       "</style>\n",
       "<table border=\"1\" class=\"dataframe\">\n",
       "  <thead>\n",
       "    <tr style=\"text-align: right;\">\n",
       "      <th></th>\n",
       "      <th>SeriousDlqin2yrs</th>\n",
       "      <th>RevolvingUtilizationOfUnsecuredLines</th>\n",
       "      <th>age</th>\n",
       "      <th>NumberOfTime30-59DaysPastDueNotWorse</th>\n",
       "      <th>DebtRatio</th>\n",
       "      <th>MonthlyIncome</th>\n",
       "      <th>NumberOfOpenCreditLinesAndLoans</th>\n",
       "      <th>NumberOfTimes90DaysLate</th>\n",
       "      <th>NumberRealEstateLoansOrLines</th>\n",
       "      <th>NumberOfTime60-89DaysPastDueNotWorse</th>\n",
       "      <th>NumberOfDependents</th>\n",
       "    </tr>\n",
       "  </thead>\n",
       "  <tbody>\n",
       "    <tr>\n",
       "      <th>0</th>\n",
       "      <td>1</td>\n",
       "      <td>0.766127</td>\n",
       "      <td>45</td>\n",
       "      <td>2</td>\n",
       "      <td>0.802982</td>\n",
       "      <td>9120.0</td>\n",
       "      <td>13</td>\n",
       "      <td>0</td>\n",
       "      <td>6</td>\n",
       "      <td>0</td>\n",
       "      <td>2.0</td>\n",
       "    </tr>\n",
       "    <tr>\n",
       "      <th>1</th>\n",
       "      <td>0</td>\n",
       "      <td>0.957151</td>\n",
       "      <td>40</td>\n",
       "      <td>0</td>\n",
       "      <td>0.121876</td>\n",
       "      <td>2600.0</td>\n",
       "      <td>4</td>\n",
       "      <td>0</td>\n",
       "      <td>0</td>\n",
       "      <td>0</td>\n",
       "      <td>1.0</td>\n",
       "    </tr>\n",
       "    <tr>\n",
       "      <th>2</th>\n",
       "      <td>0</td>\n",
       "      <td>0.658180</td>\n",
       "      <td>38</td>\n",
       "      <td>1</td>\n",
       "      <td>0.085113</td>\n",
       "      <td>3042.0</td>\n",
       "      <td>2</td>\n",
       "      <td>1</td>\n",
       "      <td>0</td>\n",
       "      <td>0</td>\n",
       "      <td>0.0</td>\n",
       "    </tr>\n",
       "    <tr>\n",
       "      <th>3</th>\n",
       "      <td>0</td>\n",
       "      <td>0.233810</td>\n",
       "      <td>30</td>\n",
       "      <td>0</td>\n",
       "      <td>0.036050</td>\n",
       "      <td>3300.0</td>\n",
       "      <td>5</td>\n",
       "      <td>0</td>\n",
       "      <td>0</td>\n",
       "      <td>0</td>\n",
       "      <td>0.0</td>\n",
       "    </tr>\n",
       "    <tr>\n",
       "      <th>4</th>\n",
       "      <td>0</td>\n",
       "      <td>0.907239</td>\n",
       "      <td>49</td>\n",
       "      <td>1</td>\n",
       "      <td>0.024926</td>\n",
       "      <td>63588.0</td>\n",
       "      <td>7</td>\n",
       "      <td>0</td>\n",
       "      <td>1</td>\n",
       "      <td>0</td>\n",
       "      <td>0.0</td>\n",
       "    </tr>\n",
       "    <tr>\n",
       "      <th>...</th>\n",
       "      <td>...</td>\n",
       "      <td>...</td>\n",
       "      <td>...</td>\n",
       "      <td>...</td>\n",
       "      <td>...</td>\n",
       "      <td>...</td>\n",
       "      <td>...</td>\n",
       "      <td>...</td>\n",
       "      <td>...</td>\n",
       "      <td>...</td>\n",
       "      <td>...</td>\n",
       "    </tr>\n",
       "    <tr>\n",
       "      <th>149995</th>\n",
       "      <td>0</td>\n",
       "      <td>0.040674</td>\n",
       "      <td>74</td>\n",
       "      <td>0</td>\n",
       "      <td>0.225131</td>\n",
       "      <td>2100.0</td>\n",
       "      <td>4</td>\n",
       "      <td>0</td>\n",
       "      <td>1</td>\n",
       "      <td>0</td>\n",
       "      <td>0.0</td>\n",
       "    </tr>\n",
       "    <tr>\n",
       "      <th>149996</th>\n",
       "      <td>0</td>\n",
       "      <td>0.299745</td>\n",
       "      <td>44</td>\n",
       "      <td>0</td>\n",
       "      <td>0.716562</td>\n",
       "      <td>5584.0</td>\n",
       "      <td>4</td>\n",
       "      <td>0</td>\n",
       "      <td>1</td>\n",
       "      <td>0</td>\n",
       "      <td>2.0</td>\n",
       "    </tr>\n",
       "    <tr>\n",
       "      <th>149997</th>\n",
       "      <td>0</td>\n",
       "      <td>0.246044</td>\n",
       "      <td>58</td>\n",
       "      <td>0</td>\n",
       "      <td>3870.000000</td>\n",
       "      <td>NaN</td>\n",
       "      <td>18</td>\n",
       "      <td>0</td>\n",
       "      <td>1</td>\n",
       "      <td>0</td>\n",
       "      <td>0.0</td>\n",
       "    </tr>\n",
       "    <tr>\n",
       "      <th>149998</th>\n",
       "      <td>0</td>\n",
       "      <td>0.000000</td>\n",
       "      <td>30</td>\n",
       "      <td>0</td>\n",
       "      <td>0.000000</td>\n",
       "      <td>5716.0</td>\n",
       "      <td>4</td>\n",
       "      <td>0</td>\n",
       "      <td>0</td>\n",
       "      <td>0</td>\n",
       "      <td>0.0</td>\n",
       "    </tr>\n",
       "    <tr>\n",
       "      <th>149999</th>\n",
       "      <td>0</td>\n",
       "      <td>0.850283</td>\n",
       "      <td>64</td>\n",
       "      <td>0</td>\n",
       "      <td>0.249908</td>\n",
       "      <td>8158.0</td>\n",
       "      <td>8</td>\n",
       "      <td>0</td>\n",
       "      <td>2</td>\n",
       "      <td>0</td>\n",
       "      <td>0.0</td>\n",
       "    </tr>\n",
       "  </tbody>\n",
       "</table>\n",
       "<p>149480 rows × 11 columns</p>\n",
       "</div>"
      ],
      "text/plain": [
       "        SeriousDlqin2yrs  RevolvingUtilizationOfUnsecuredLines  age  \\\n",
       "0                      1                              0.766127   45   \n",
       "1                      0                              0.957151   40   \n",
       "2                      0                              0.658180   38   \n",
       "3                      0                              0.233810   30   \n",
       "4                      0                              0.907239   49   \n",
       "...                  ...                                   ...  ...   \n",
       "149995                 0                              0.040674   74   \n",
       "149996                 0                              0.299745   44   \n",
       "149997                 0                              0.246044   58   \n",
       "149998                 0                              0.000000   30   \n",
       "149999                 0                              0.850283   64   \n",
       "\n",
       "        NumberOfTime30-59DaysPastDueNotWorse    DebtRatio  MonthlyIncome  \\\n",
       "0                                          2     0.802982         9120.0   \n",
       "1                                          0     0.121876         2600.0   \n",
       "2                                          1     0.085113         3042.0   \n",
       "3                                          0     0.036050         3300.0   \n",
       "4                                          1     0.024926        63588.0   \n",
       "...                                      ...          ...            ...   \n",
       "149995                                     0     0.225131         2100.0   \n",
       "149996                                     0     0.716562         5584.0   \n",
       "149997                                     0  3870.000000            NaN   \n",
       "149998                                     0     0.000000         5716.0   \n",
       "149999                                     0     0.249908         8158.0   \n",
       "\n",
       "        NumberOfOpenCreditLinesAndLoans  NumberOfTimes90DaysLate  \\\n",
       "0                                    13                        0   \n",
       "1                                     4                        0   \n",
       "2                                     2                        1   \n",
       "3                                     5                        0   \n",
       "4                                     7                        0   \n",
       "...                                 ...                      ...   \n",
       "149995                                4                        0   \n",
       "149996                                4                        0   \n",
       "149997                               18                        0   \n",
       "149998                                4                        0   \n",
       "149999                                8                        0   \n",
       "\n",
       "        NumberRealEstateLoansOrLines  NumberOfTime60-89DaysPastDueNotWorse  \\\n",
       "0                                  6                                     0   \n",
       "1                                  0                                     0   \n",
       "2                                  0                                     0   \n",
       "3                                  0                                     0   \n",
       "4                                  1                                     0   \n",
       "...                              ...                                   ...   \n",
       "149995                             1                                     0   \n",
       "149996                             1                                     0   \n",
       "149997                             1                                     0   \n",
       "149998                             0                                     0   \n",
       "149999                             2                                     0   \n",
       "\n",
       "        NumberOfDependents  \n",
       "0                      2.0  \n",
       "1                      1.0  \n",
       "2                      0.0  \n",
       "3                      0.0  \n",
       "4                      0.0  \n",
       "...                    ...  \n",
       "149995                 0.0  \n",
       "149996                 2.0  \n",
       "149997                 0.0  \n",
       "149998                 0.0  \n",
       "149999                 0.0  \n",
       "\n",
       "[149480 rows x 11 columns]"
      ]
     },
     "execution_count": 88,
     "metadata": {},
     "output_type": "execute_result"
    }
   ],
   "source": [
    "df_train.drop(outlier_to_drop,axis = 0)"
   ]
  },
  {
   "cell_type": "markdown",
   "id": "f56af942-e49c-4136-bdcc-9ae8a68c1260",
   "metadata": {},
   "source": [
    "That is the Feature Engineering task \n",
    "(Remove the outliner)"
   ]
  },
  {
   "cell_type": "markdown",
   "id": "52bd288a-4efa-4ccf-a64b-c11f3e889ed0",
   "metadata": {},
   "source": [
    "**Q13: Merge train and test dataset**"
   ]
  },
  {
   "cell_type": "code",
   "execution_count": 90,
   "id": "446765c2-c457-4dfe-a342-2c3f4484ac02",
   "metadata": {},
   "outputs": [
    {
     "data": {
      "text/html": [
       "<div>\n",
       "<style scoped>\n",
       "    .dataframe tbody tr th:only-of-type {\n",
       "        vertical-align: middle;\n",
       "    }\n",
       "\n",
       "    .dataframe tbody tr th {\n",
       "        vertical-align: top;\n",
       "    }\n",
       "\n",
       "    .dataframe thead th {\n",
       "        text-align: right;\n",
       "    }\n",
       "</style>\n",
       "<table border=\"1\" class=\"dataframe\">\n",
       "  <thead>\n",
       "    <tr style=\"text-align: right;\">\n",
       "      <th></th>\n",
       "      <th>SeriousDlqin2yrs</th>\n",
       "      <th>RevolvingUtilizationOfUnsecuredLines</th>\n",
       "      <th>age</th>\n",
       "      <th>NumberOfTime30-59DaysPastDueNotWorse</th>\n",
       "      <th>DebtRatio</th>\n",
       "      <th>MonthlyIncome</th>\n",
       "      <th>NumberOfOpenCreditLinesAndLoans</th>\n",
       "      <th>NumberOfTimes90DaysLate</th>\n",
       "      <th>NumberRealEstateLoansOrLines</th>\n",
       "      <th>NumberOfTime60-89DaysPastDueNotWorse</th>\n",
       "      <th>NumberOfDependents</th>\n",
       "    </tr>\n",
       "  </thead>\n",
       "  <tbody>\n",
       "    <tr>\n",
       "      <th>0</th>\n",
       "      <td>1.0</td>\n",
       "      <td>0.766127</td>\n",
       "      <td>45</td>\n",
       "      <td>2</td>\n",
       "      <td>0.802982</td>\n",
       "      <td>9120.0</td>\n",
       "      <td>13</td>\n",
       "      <td>0</td>\n",
       "      <td>6</td>\n",
       "      <td>0</td>\n",
       "      <td>2.0</td>\n",
       "    </tr>\n",
       "    <tr>\n",
       "      <th>1</th>\n",
       "      <td>0.0</td>\n",
       "      <td>0.957151</td>\n",
       "      <td>40</td>\n",
       "      <td>0</td>\n",
       "      <td>0.121876</td>\n",
       "      <td>2600.0</td>\n",
       "      <td>4</td>\n",
       "      <td>0</td>\n",
       "      <td>0</td>\n",
       "      <td>0</td>\n",
       "      <td>1.0</td>\n",
       "    </tr>\n",
       "    <tr>\n",
       "      <th>2</th>\n",
       "      <td>0.0</td>\n",
       "      <td>0.658180</td>\n",
       "      <td>38</td>\n",
       "      <td>1</td>\n",
       "      <td>0.085113</td>\n",
       "      <td>3042.0</td>\n",
       "      <td>2</td>\n",
       "      <td>1</td>\n",
       "      <td>0</td>\n",
       "      <td>0</td>\n",
       "      <td>0.0</td>\n",
       "    </tr>\n",
       "    <tr>\n",
       "      <th>3</th>\n",
       "      <td>0.0</td>\n",
       "      <td>0.233810</td>\n",
       "      <td>30</td>\n",
       "      <td>0</td>\n",
       "      <td>0.036050</td>\n",
       "      <td>3300.0</td>\n",
       "      <td>5</td>\n",
       "      <td>0</td>\n",
       "      <td>0</td>\n",
       "      <td>0</td>\n",
       "      <td>0.0</td>\n",
       "    </tr>\n",
       "    <tr>\n",
       "      <th>4</th>\n",
       "      <td>0.0</td>\n",
       "      <td>0.907239</td>\n",
       "      <td>49</td>\n",
       "      <td>1</td>\n",
       "      <td>0.024926</td>\n",
       "      <td>63588.0</td>\n",
       "      <td>7</td>\n",
       "      <td>0</td>\n",
       "      <td>1</td>\n",
       "      <td>0</td>\n",
       "      <td>0.0</td>\n",
       "    </tr>\n",
       "    <tr>\n",
       "      <th>...</th>\n",
       "      <td>...</td>\n",
       "      <td>...</td>\n",
       "      <td>...</td>\n",
       "      <td>...</td>\n",
       "      <td>...</td>\n",
       "      <td>...</td>\n",
       "      <td>...</td>\n",
       "      <td>...</td>\n",
       "      <td>...</td>\n",
       "      <td>...</td>\n",
       "      <td>...</td>\n",
       "    </tr>\n",
       "    <tr>\n",
       "      <th>101498</th>\n",
       "      <td>NaN</td>\n",
       "      <td>0.282653</td>\n",
       "      <td>24</td>\n",
       "      <td>0</td>\n",
       "      <td>0.068522</td>\n",
       "      <td>1400.0</td>\n",
       "      <td>5</td>\n",
       "      <td>0</td>\n",
       "      <td>0</td>\n",
       "      <td>0</td>\n",
       "      <td>0.0</td>\n",
       "    </tr>\n",
       "    <tr>\n",
       "      <th>101499</th>\n",
       "      <td>NaN</td>\n",
       "      <td>0.922156</td>\n",
       "      <td>36</td>\n",
       "      <td>3</td>\n",
       "      <td>0.934217</td>\n",
       "      <td>7615.0</td>\n",
       "      <td>8</td>\n",
       "      <td>0</td>\n",
       "      <td>2</td>\n",
       "      <td>0</td>\n",
       "      <td>4.0</td>\n",
       "    </tr>\n",
       "    <tr>\n",
       "      <th>101500</th>\n",
       "      <td>NaN</td>\n",
       "      <td>0.081596</td>\n",
       "      <td>70</td>\n",
       "      <td>0</td>\n",
       "      <td>836.000000</td>\n",
       "      <td>NaN</td>\n",
       "      <td>3</td>\n",
       "      <td>0</td>\n",
       "      <td>0</td>\n",
       "      <td>0</td>\n",
       "      <td>NaN</td>\n",
       "    </tr>\n",
       "    <tr>\n",
       "      <th>101501</th>\n",
       "      <td>NaN</td>\n",
       "      <td>0.335457</td>\n",
       "      <td>56</td>\n",
       "      <td>0</td>\n",
       "      <td>3568.000000</td>\n",
       "      <td>NaN</td>\n",
       "      <td>8</td>\n",
       "      <td>0</td>\n",
       "      <td>2</td>\n",
       "      <td>1</td>\n",
       "      <td>3.0</td>\n",
       "    </tr>\n",
       "    <tr>\n",
       "      <th>101502</th>\n",
       "      <td>NaN</td>\n",
       "      <td>0.441842</td>\n",
       "      <td>29</td>\n",
       "      <td>0</td>\n",
       "      <td>0.198918</td>\n",
       "      <td>5916.0</td>\n",
       "      <td>12</td>\n",
       "      <td>0</td>\n",
       "      <td>0</td>\n",
       "      <td>0</td>\n",
       "      <td>0.0</td>\n",
       "    </tr>\n",
       "  </tbody>\n",
       "</table>\n",
       "<p>251503 rows × 11 columns</p>\n",
       "</div>"
      ],
      "text/plain": [
       "        SeriousDlqin2yrs  RevolvingUtilizationOfUnsecuredLines  age  \\\n",
       "0                    1.0                              0.766127   45   \n",
       "1                    0.0                              0.957151   40   \n",
       "2                    0.0                              0.658180   38   \n",
       "3                    0.0                              0.233810   30   \n",
       "4                    0.0                              0.907239   49   \n",
       "...                  ...                                   ...  ...   \n",
       "101498               NaN                              0.282653   24   \n",
       "101499               NaN                              0.922156   36   \n",
       "101500               NaN                              0.081596   70   \n",
       "101501               NaN                              0.335457   56   \n",
       "101502               NaN                              0.441842   29   \n",
       "\n",
       "        NumberOfTime30-59DaysPastDueNotWorse    DebtRatio  MonthlyIncome  \\\n",
       "0                                          2     0.802982         9120.0   \n",
       "1                                          0     0.121876         2600.0   \n",
       "2                                          1     0.085113         3042.0   \n",
       "3                                          0     0.036050         3300.0   \n",
       "4                                          1     0.024926        63588.0   \n",
       "...                                      ...          ...            ...   \n",
       "101498                                     0     0.068522         1400.0   \n",
       "101499                                     3     0.934217         7615.0   \n",
       "101500                                     0   836.000000            NaN   \n",
       "101501                                     0  3568.000000            NaN   \n",
       "101502                                     0     0.198918         5916.0   \n",
       "\n",
       "        NumberOfOpenCreditLinesAndLoans  NumberOfTimes90DaysLate  \\\n",
       "0                                    13                        0   \n",
       "1                                     4                        0   \n",
       "2                                     2                        1   \n",
       "3                                     5                        0   \n",
       "4                                     7                        0   \n",
       "...                                 ...                      ...   \n",
       "101498                                5                        0   \n",
       "101499                                8                        0   \n",
       "101500                                3                        0   \n",
       "101501                                8                        0   \n",
       "101502                               12                        0   \n",
       "\n",
       "        NumberRealEstateLoansOrLines  NumberOfTime60-89DaysPastDueNotWorse  \\\n",
       "0                                  6                                     0   \n",
       "1                                  0                                     0   \n",
       "2                                  0                                     0   \n",
       "3                                  0                                     0   \n",
       "4                                  1                                     0   \n",
       "...                              ...                                   ...   \n",
       "101498                             0                                     0   \n",
       "101499                             2                                     0   \n",
       "101500                             0                                     0   \n",
       "101501                             2                                     1   \n",
       "101502                             0                                     0   \n",
       "\n",
       "        NumberOfDependents  \n",
       "0                      2.0  \n",
       "1                      1.0  \n",
       "2                      0.0  \n",
       "3                      0.0  \n",
       "4                      0.0  \n",
       "...                    ...  \n",
       "101498                 0.0  \n",
       "101499                 4.0  \n",
       "101500                 NaN  \n",
       "101501                 3.0  \n",
       "101502                 0.0  \n",
       "\n",
       "[251503 rows x 11 columns]"
      ]
     },
     "execution_count": 90,
     "metadata": {},
     "output_type": "execute_result"
    }
   ],
   "source": [
    "pd.concat([df_train,df_test],axis =0) #train test is the same all until now"
   ]
  },
  {
   "cell_type": "markdown",
   "id": "45455922-912b-42d8-ac52-1963d1f4422c",
   "metadata": {},
   "source": [
    "**Q14: Rename columns name into shorter alias**"
   ]
  },
  {
   "cell_type": "code",
   "execution_count": 147,
   "id": "bbe16c88-892c-4f79-81b9-d04c8b8d49b2",
   "metadata": {},
   "outputs": [],
   "source": [
    "dataset = pd.concat([df_train,df_test],axis =0)"
   ]
  },
  {
   "cell_type": "code",
   "execution_count": 137,
   "id": "ae58c16c-b05a-44bf-bd13-1814b15546a0",
   "metadata": {},
   "outputs": [],
   "source": [
    "dataset = dataset.rename(columns={'SeriousDlqin2yrs':'Target',\n",
    "                        'RevolvingUtilizationOfUnsecuredLines':'UnsecLines',\n",
    "                        'NumberOfTime30-59DaysPastDueNotWorse':'Late3059',\n",
    "                        'NumberOfOpenCreditLinesAndLoans':'OpenCredit',\n",
    "                        'NumberOfTimes90DaysLate': 'Late90',\n",
    "                        'NumberRealEstateLoansOrLines': 'PropLines',\n",
    "                        'NumberOfTime60-89DaysPastDueNotWorse':'Late60-89',\n",
    "                        'NumberOfDependents':'Deps'\n",
    "                       })\n",
    "\n",
    "df_train = df_train.rename(columns={'SeriousDlqin2yrs':'Target',\n",
    "                        'RevolvingUtilizationOfUnsecuredLines':'UnsecLines',\n",
    "                        'NumberOfTime30-59DaysPastDueNotWorse':'Late3059',\n",
    "                        'NumberOfOpenCreditLinesAndLoans':'OpenCredit',\n",
    "                        'NumberOfTimes90DaysLate': 'Late90',\n",
    "                        'NumberRealEstateLoansOrLines': 'PropLines',\n",
    "                        'NumberOfTime60-89DaysPastDueNotWorse':'Late60-89',\n",
    "                        'NumberOfDependents':'Deps'\n",
    "                       })\n",
    "\n",
    "df_test = df_test.rename(columns={'SeriousDlqin2yrs':'Target',\n",
    "                        'RevolvingUtilizationOfUnsecuredLines':'UnsecLines',\n",
    "                        'NumberOfTime30-59DaysPastDueNotWorse':'Late3059',\n",
    "                        'NumberOfOpenCreditLinesAndLoans':'OpenCredit',\n",
    "                        'NumberOfTimes90DaysLate': 'Late90',\n",
    "                        'NumberRealEstateLoansOrLines': 'PropLines',\n",
    "                        'NumberOfTime60-89DaysPastDueNotWorse':'Late60-89',\n",
    "                        'NumberOfDependents':'Deps'\n",
    "                       })"
   ]
  },
  {
   "cell_type": "code",
   "execution_count": 138,
   "id": "07d69a26-6c61-42b0-a355-7a332a73d105",
   "metadata": {},
   "outputs": [
    {
     "data": {
      "text/html": [
       "<div>\n",
       "<style scoped>\n",
       "    .dataframe tbody tr th:only-of-type {\n",
       "        vertical-align: middle;\n",
       "    }\n",
       "\n",
       "    .dataframe tbody tr th {\n",
       "        vertical-align: top;\n",
       "    }\n",
       "\n",
       "    .dataframe thead th {\n",
       "        text-align: right;\n",
       "    }\n",
       "</style>\n",
       "<table border=\"1\" class=\"dataframe\">\n",
       "  <thead>\n",
       "    <tr style=\"text-align: right;\">\n",
       "      <th></th>\n",
       "      <th>Target</th>\n",
       "      <th>UnsecLines</th>\n",
       "      <th>age</th>\n",
       "      <th>Late3059</th>\n",
       "      <th>DebtRatio</th>\n",
       "      <th>MonthlyIncome</th>\n",
       "      <th>OpenCredit</th>\n",
       "      <th>Late90</th>\n",
       "      <th>PropLines</th>\n",
       "      <th>Late60-89</th>\n",
       "      <th>Deps</th>\n",
       "    </tr>\n",
       "  </thead>\n",
       "  <tbody>\n",
       "    <tr>\n",
       "      <th>0</th>\n",
       "      <td>1</td>\n",
       "      <td>0.766127</td>\n",
       "      <td>45</td>\n",
       "      <td>2</td>\n",
       "      <td>0.802982</td>\n",
       "      <td>9120.0</td>\n",
       "      <td>13</td>\n",
       "      <td>0</td>\n",
       "      <td>6</td>\n",
       "      <td>0</td>\n",
       "      <td>2.0</td>\n",
       "    </tr>\n",
       "    <tr>\n",
       "      <th>1</th>\n",
       "      <td>0</td>\n",
       "      <td>0.957151</td>\n",
       "      <td>40</td>\n",
       "      <td>0</td>\n",
       "      <td>0.121876</td>\n",
       "      <td>2600.0</td>\n",
       "      <td>4</td>\n",
       "      <td>0</td>\n",
       "      <td>0</td>\n",
       "      <td>0</td>\n",
       "      <td>1.0</td>\n",
       "    </tr>\n",
       "    <tr>\n",
       "      <th>2</th>\n",
       "      <td>0</td>\n",
       "      <td>0.658180</td>\n",
       "      <td>38</td>\n",
       "      <td>1</td>\n",
       "      <td>0.085113</td>\n",
       "      <td>3042.0</td>\n",
       "      <td>2</td>\n",
       "      <td>1</td>\n",
       "      <td>0</td>\n",
       "      <td>0</td>\n",
       "      <td>0.0</td>\n",
       "    </tr>\n",
       "    <tr>\n",
       "      <th>3</th>\n",
       "      <td>0</td>\n",
       "      <td>0.233810</td>\n",
       "      <td>30</td>\n",
       "      <td>0</td>\n",
       "      <td>0.036050</td>\n",
       "      <td>3300.0</td>\n",
       "      <td>5</td>\n",
       "      <td>0</td>\n",
       "      <td>0</td>\n",
       "      <td>0</td>\n",
       "      <td>0.0</td>\n",
       "    </tr>\n",
       "    <tr>\n",
       "      <th>4</th>\n",
       "      <td>0</td>\n",
       "      <td>0.907239</td>\n",
       "      <td>49</td>\n",
       "      <td>1</td>\n",
       "      <td>0.024926</td>\n",
       "      <td>63588.0</td>\n",
       "      <td>7</td>\n",
       "      <td>0</td>\n",
       "      <td>1</td>\n",
       "      <td>0</td>\n",
       "      <td>0.0</td>\n",
       "    </tr>\n",
       "  </tbody>\n",
       "</table>\n",
       "</div>"
      ],
      "text/plain": [
       "   Target  UnsecLines  age  Late3059  DebtRatio  MonthlyIncome  OpenCredit  \\\n",
       "0       1    0.766127   45         2   0.802982         9120.0          13   \n",
       "1       0    0.957151   40         0   0.121876         2600.0           4   \n",
       "2       0    0.658180   38         1   0.085113         3042.0           2   \n",
       "3       0    0.233810   30         0   0.036050         3300.0           5   \n",
       "4       0    0.907239   49         1   0.024926        63588.0           7   \n",
       "\n",
       "   Late90  PropLines  Late60-89  Deps  \n",
       "0       0          6          0   2.0  \n",
       "1       0          0          0   1.0  \n",
       "2       1          0          0   0.0  \n",
       "3       0          0          0   0.0  \n",
       "4       0          1          0   0.0  "
      ]
     },
     "execution_count": 138,
     "metadata": {},
     "output_type": "execute_result"
    }
   ],
   "source": [
    "df_train.head()"
   ]
  },
  {
   "cell_type": "markdown",
   "id": "223a40b5-a7ef-4564-9a09-cef06f3a0280",
   "metadata": {},
   "source": [
    "**Q15: Building binary/dummy variables**\n",
    "**Hints**: Quantile data first"
   ]
  },
  {
   "cell_type": "markdown",
   "id": "94ea7874-f2f0-4448-b74e-66f3945538a4",
   "metadata": {},
   "source": [
    "||Space between 2 bins|frequency|\n",
    "|-|-|-|\n",
    "|'cut'|equal|different|\n",
    "|'qcut'|same|same|"
   ]
  },
  {
   "cell_type": "code",
   "execution_count": 139,
   "id": "d9cd4245-171a-42e1-8b7c-d7c7756ca60c",
   "metadata": {},
   "outputs": [
    {
     "data": {
      "text/plain": [
       "UnsecLines      \n",
       "(-0.001, 0.0192]    50301\n",
       "(0.083, 0.271]      50301\n",
       "(0.702, 50708.0]    50301\n",
       "(0.0192, 0.083]     50300\n",
       "(0.271, 0.702]      50300\n",
       "dtype: int64"
      ]
     },
     "execution_count": 139,
     "metadata": {},
     "output_type": "execute_result"
    }
   ],
   "source": [
    "pd.DataFrame(pd.qcut(dataset.UnsecLines,5)).value_counts()"
   ]
  },
  {
   "cell_type": "code",
   "execution_count": 140,
   "id": "4afac2c2-c992-4eb5-8b25-b4fc6d135b9b",
   "metadata": {},
   "outputs": [],
   "source": [
    "dataset.UnsecLines = pd.qcut(dataset.UnsecLines.values,5).codes"
   ]
  },
  {
   "cell_type": "code",
   "execution_count": 141,
   "id": "ef35189e-e38a-4db4-bd0d-9702b2cc431b",
   "metadata": {},
   "outputs": [
    {
     "data": {
      "text/plain": [
       "<seaborn.axisgrid.FacetGrid at 0x1e20c7d30>"
      ]
     },
     "execution_count": 141,
     "metadata": {},
     "output_type": "execute_result"
    },
    {
     "data": {
      "image/png": "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\n",
      "text/plain": [
       "<Figure size 360x360 with 1 Axes>"
      ]
     },
     "metadata": {
      "needs_background": "light"
     },
     "output_type": "display_data"
    }
   ],
   "source": [
    "sns.catplot(data = dataset,x='UnsecLines',y= 'Target',kind = 'bar')"
   ]
  },
  {
   "cell_type": "markdown",
   "id": "4cb0a429-4c92-48b8-8ee6-1634fb05346b",
   "metadata": {},
   "source": [
    "The trend increase imedidately (exponetial)\n",
    "Vao cum 4: Ti le no xau cao \n",
    "standard validation = dark[small]color "
   ]
  },
  {
   "cell_type": "code",
   "execution_count": 142,
   "id": "5d1e94c3-864d-4150-9b5c-08669a711925",
   "metadata": {},
   "outputs": [
    {
     "data": {
      "text/plain": [
       "<seaborn.axisgrid.FacetGrid at 0x224aa07f0>"
      ]
     },
     "execution_count": 142,
     "metadata": {},
     "output_type": "execute_result"
    },
    {
     "data": {
      "image/png": "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\n",
      "text/plain": [
       "<Figure size 360x360 with 1 Axes>"
      ]
     },
     "metadata": {
      "needs_background": "light"
     },
     "output_type": "display_data"
    }
   ],
   "source": [
    "dataset.age = pd.qcut(dataset.age.values,5).codes\n",
    "sns.catplot(data = dataset,x='age',y= 'Target',kind = 'bar')"
   ]
  },
  {
   "cell_type": "code",
   "execution_count": 143,
   "id": "faca182b-17a0-4550-8b59-dfc61a37dc50",
   "metadata": {},
   "outputs": [
    {
     "ename": "ValueError",
     "evalue": "Bin edges must be unique: array([ 0.,  0.,  0.,  0.,  0., 98.]).\nYou can drop duplicate edges by setting the 'duplicates' kwarg",
     "output_type": "error",
     "traceback": [
      "\u001b[0;31m---------------------------------------------------------------------------\u001b[0m",
      "\u001b[0;31mValueError\u001b[0m                                Traceback (most recent call last)",
      "\u001b[0;32m<ipython-input-143-f751d58615f0>\u001b[0m in \u001b[0;36m<module>\u001b[0;34m\u001b[0m\n\u001b[0;32m----> 1\u001b[0;31m \u001b[0mdataset\u001b[0m\u001b[0;34m.\u001b[0m\u001b[0mLate3059\u001b[0m \u001b[0;34m=\u001b[0m \u001b[0mpd\u001b[0m\u001b[0;34m.\u001b[0m\u001b[0mqcut\u001b[0m\u001b[0;34m(\u001b[0m\u001b[0mdataset\u001b[0m\u001b[0;34m.\u001b[0m\u001b[0mLate3059\u001b[0m\u001b[0;34m.\u001b[0m\u001b[0mvalues\u001b[0m\u001b[0;34m,\u001b[0m\u001b[0;36m5\u001b[0m\u001b[0;34m)\u001b[0m\u001b[0;34m.\u001b[0m\u001b[0mcodes\u001b[0m\u001b[0;34m\u001b[0m\u001b[0m\n\u001b[0m\u001b[1;32m      2\u001b[0m \u001b[0msns\u001b[0m\u001b[0;34m.\u001b[0m\u001b[0mcatplot\u001b[0m\u001b[0;34m(\u001b[0m\u001b[0mdata\u001b[0m \u001b[0;34m=\u001b[0m \u001b[0mdataset\u001b[0m\u001b[0;34m,\u001b[0m\u001b[0mx\u001b[0m\u001b[0;34m=\u001b[0m\u001b[0;34m'Late3059'\u001b[0m\u001b[0;34m,\u001b[0m\u001b[0my\u001b[0m\u001b[0;34m=\u001b[0m \u001b[0;34m'Target'\u001b[0m\u001b[0;34m,\u001b[0m\u001b[0mkind\u001b[0m \u001b[0;34m=\u001b[0m \u001b[0;34m'bar'\u001b[0m\u001b[0;34m)\u001b[0m\u001b[0;34m\u001b[0m\u001b[0m\n",
      "\u001b[0;32m/opt/anaconda3/envs/anthony/lib/python3.7/site-packages/pandas/core/reshape/tile.py\u001b[0m in \u001b[0;36mqcut\u001b[0;34m(x, q, labels, retbins, precision, duplicates)\u001b[0m\n\u001b[1;32m    363\u001b[0m         \u001b[0minclude_lowest\u001b[0m\u001b[0;34m=\u001b[0m\u001b[0;32mTrue\u001b[0m\u001b[0;34m,\u001b[0m\u001b[0;34m\u001b[0m\u001b[0m\n\u001b[1;32m    364\u001b[0m         \u001b[0mdtype\u001b[0m\u001b[0;34m=\u001b[0m\u001b[0mdtype\u001b[0m\u001b[0;34m,\u001b[0m\u001b[0;34m\u001b[0m\u001b[0m\n\u001b[0;32m--> 365\u001b[0;31m         \u001b[0mduplicates\u001b[0m\u001b[0;34m=\u001b[0m\u001b[0mduplicates\u001b[0m\u001b[0;34m,\u001b[0m\u001b[0;34m\u001b[0m\u001b[0m\n\u001b[0m\u001b[1;32m    366\u001b[0m     )\n\u001b[1;32m    367\u001b[0m \u001b[0;34m\u001b[0m\u001b[0m\n",
      "\u001b[0;32m/opt/anaconda3/envs/anthony/lib/python3.7/site-packages/pandas/core/reshape/tile.py\u001b[0m in \u001b[0;36m_bins_to_cuts\u001b[0;34m(x, bins, right, labels, precision, include_lowest, dtype, duplicates, ordered)\u001b[0m\n\u001b[1;32m    398\u001b[0m         \u001b[0;32mif\u001b[0m \u001b[0mduplicates\u001b[0m \u001b[0;34m==\u001b[0m \u001b[0;34m\"raise\"\u001b[0m\u001b[0;34m:\u001b[0m\u001b[0;34m\u001b[0m\u001b[0m\n\u001b[1;32m    399\u001b[0m             raise ValueError(\n\u001b[0;32m--> 400\u001b[0;31m                 \u001b[0;34mf\"Bin edges must be unique: {repr(bins)}.\\n\"\u001b[0m\u001b[0;34m\u001b[0m\u001b[0m\n\u001b[0m\u001b[1;32m    401\u001b[0m                 \u001b[0;34mf\"You can drop duplicate edges by setting the 'duplicates' kwarg\"\u001b[0m\u001b[0;34m\u001b[0m\u001b[0m\n\u001b[1;32m    402\u001b[0m             )\n",
      "\u001b[0;31mValueError\u001b[0m: Bin edges must be unique: array([ 0.,  0.,  0.,  0.,  0., 98.]).\nYou can drop duplicate edges by setting the 'duplicates' kwarg"
     ]
    }
   ],
   "source": [
    "dataset.Late3059 = pd.qcut(dataset.Late3059.values,5).codes\n",
    "sns.catplot(data = dataset,x='Late3059',y= 'Target',kind = 'bar')"
   ]
  },
  {
   "cell_type": "code",
   "execution_count": null,
   "id": "2b91bb2a-1250-4590-96ab-d9db2d537d05",
   "metadata": {},
   "outputs": [],
   "source": [
    "dataset.columns"
   ]
  },
  {
   "cell_type": "code",
   "execution_count": null,
   "id": "9e2db40a-ad50-42d8-b3ee-b0725306f42f",
   "metadata": {},
   "outputs": [],
   "source": [
    "dataset.DebtRatio = pd.qcut(dataset.DebtRatio.values,5).codes\n",
    "sns.catplot(data = dataset,x='DebtRatio',y= 'Target',kind = 'bar')"
   ]
  },
  {
   "cell_type": "code",
   "execution_count": 129,
   "id": "a8b9874f-e821-45f5-99ec-71f67aea78f6",
   "metadata": {},
   "outputs": [
    {
     "data": {
      "text/plain": [
       "<seaborn.axisgrid.FacetGrid at 0x2246cb390>"
      ]
     },
     "execution_count": 129,
     "metadata": {},
     "output_type": "execute_result"
    },
    {
     "data": {
      "image/png": "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\n",
      "text/plain": [
       "<Figure size 360x360 with 1 Axes>"
      ]
     },
     "metadata": {
      "needs_background": "light"
     },
     "output_type": "display_data"
    }
   ],
   "source": [
    "dataset.MonthlyIncome = pd.qcut(dataset.MonthlyIncome.values,5).codes\n",
    "sns.catplot(data = dataset,x='MonthlyIncome',y= 'Target',kind = 'bar')"
   ]
  },
  {
   "cell_type": "code",
   "execution_count": 9,
   "id": "c7478457-05cd-4b34-9742-b47f94038102",
   "metadata": {},
   "outputs": [],
   "source": [
    "dataset  = pd.concat([df_train,df_test],axis =0)"
   ]
  },
  {
   "cell_type": "code",
   "execution_count": 152,
   "id": "a17ec763-9f3d-4890-bd53-17f261c8cd73",
   "metadata": {},
   "outputs": [
    {
     "data": {
      "text/plain": [
       "(49834, 5400.0)"
      ]
     },
     "execution_count": 152,
     "metadata": {},
     "output_type": "execute_result"
    }
   ],
   "source": [
    "dataset.MonthlyIncome.isnull().sum(), dataset.MonthlyIncome.median()"
   ]
  },
  {
   "cell_type": "code",
   "execution_count": 153,
   "id": "3096ef2b-a040-4980-83b7-89d460c5a21e",
   "metadata": {},
   "outputs": [],
   "source": [
    "dataset.MonthlyIncome =  dataset.MonthlyIncome.fillna(dataset.MonthlyIncome.median())"
   ]
  },
  {
   "cell_type": "code",
   "execution_count": 154,
   "id": "df2700ec-99ff-4449-9216-d2f66482001a",
   "metadata": {},
   "outputs": [
    {
     "data": {
      "text/plain": [
       "<seaborn.axisgrid.FacetGrid at 0x134bca860>"
      ]
     },
     "execution_count": 154,
     "metadata": {},
     "output_type": "execute_result"
    },
    {
     "data": {
      "image/png": "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\n",
      "text/plain": [
       "<Figure size 360x360 with 1 Axes>"
      ]
     },
     "metadata": {
      "needs_background": "light"
     },
     "output_type": "display_data"
    }
   ],
   "source": [
    "dataset.MonthlyIncome = pd.qcut(dataset.MonthlyIncome.values,5).codes\n",
    "sns.catplot(data = dataset,x='MonthlyIncome',y= 'Target',kind = 'bar')"
   ]
  },
  {
   "cell_type": "code",
   "execution_count": 156,
   "id": "907b6946-3d51-451f-942e-b9427f3cc975",
   "metadata": {},
   "outputs": [
    {
     "data": {
      "text/plain": [
       "Index(['Target', 'UnsecLines', 'age', 'Late3059', 'DebtRatio', 'MonthlyIncome',\n",
       "       'OpenCredit', 'Late90', 'PropLines', 'Late60-89', 'Deps'],\n",
       "      dtype='object')"
      ]
     },
     "execution_count": 156,
     "metadata": {},
     "output_type": "execute_result"
    }
   ],
   "source": [
    "dataset.columns"
   ]
  },
  {
   "cell_type": "code",
   "execution_count": 166,
   "id": "66a00a1a-732e-4b78-9d51-7ee0085efbac",
   "metadata": {},
   "outputs": [
    {
     "data": {
      "text/plain": [
       "<seaborn.axisgrid.FacetGrid at 0x134d51278>"
      ]
     },
     "execution_count": 166,
     "metadata": {},
     "output_type": "execute_result"
    },
    {
     "data": {
      "image/png": "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\n",
      "text/plain": [
       "<Figure size 360x360 with 1 Axes>"
      ]
     },
     "metadata": {
      "needs_background": "light"
     },
     "output_type": "display_data"
    }
   ],
   "source": [
    "dataset.Late90 = [4 if x>=4 else x for x in dataset.Late90]\n",
    "sns.catplot(data = dataset,x='Late90',y= 'Target',kind = 'bar')"
   ]
  },
  {
   "cell_type": "code",
   "execution_count": 159,
   "id": "52c4c890-37fe-418b-843b-17621a4805bd",
   "metadata": {},
   "outputs": [
    {
     "data": {
      "text/plain": [
       "<seaborn.axisgrid.FacetGrid at 0x134bfcef0>"
      ]
     },
     "execution_count": 159,
     "metadata": {},
     "output_type": "execute_result"
    },
    {
     "data": {
      "image/png": "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\n",
      "text/plain": [
       "<Figure size 360x360 with 1 Axes>"
      ]
     },
     "metadata": {
      "needs_background": "light"
     },
     "output_type": "display_data"
    }
   ],
   "source": [
    "sns.catplot(data = dataset,x='Late60-89',y= 'Target',kind = 'bar')"
   ]
  },
  {
   "cell_type": "code",
   "execution_count": 162,
   "id": "7c7cc519-e888-462d-af31-7f7c0f492f24",
   "metadata": {},
   "outputs": [
    {
     "data": {
      "text/plain": [
       "<seaborn.axisgrid.FacetGrid at 0x135be1b38>"
      ]
     },
     "execution_count": 162,
     "metadata": {},
     "output_type": "execute_result"
    },
    {
     "data": {
      "image/png": "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\n",
      "text/plain": [
       "<Figure size 360x360 with 1 Axes>"
      ]
     },
     "metadata": {
      "needs_background": "light"
     },
     "output_type": "display_data"
    }
   ],
   "source": [
    "dataset['Late60-89'] = [3 if x>= 3 else x for x in dataset.Late90]\n",
    "sns.catplot(data = dataset,x='Late60-89',y= 'Target',kind = 'bar')"
   ]
  },
  {
   "cell_type": "code",
   "execution_count": 165,
   "id": "4770f9b4-d801-481f-a9cc-e4a72327abe5",
   "metadata": {},
   "outputs": [
    {
     "data": {
      "text/plain": [
       "<seaborn.axisgrid.FacetGrid at 0x134c8fa20>"
      ]
     },
     "execution_count": 165,
     "metadata": {},
     "output_type": "execute_result"
    },
    {
     "data": {
      "image/png": "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\n",
      "text/plain": [
       "<Figure size 360x360 with 1 Axes>"
      ]
     },
     "metadata": {
      "needs_background": "light"
     },
     "output_type": "display_data"
    }
   ],
   "source": [
    "dataset.Deps = dataset.Deps.fillna(dataset.Deps.median())\n",
    "dataset['Deps'] = [4 if x>= 4 else x for x in dataset.Late90]\n",
    "sns.catplot(data = dataset,x='Deps',y= 'Target',kind = 'bar')"
   ]
  },
  {
   "cell_type": "code",
   "execution_count": 167,
   "id": "d086f2dc-0900-4110-979c-1bf2bc703ee1",
   "metadata": {},
   "outputs": [
    {
     "data": {
      "text/plain": [
       "11"
      ]
     },
     "execution_count": 167,
     "metadata": {},
     "output_type": "execute_result"
    }
   ],
   "source": [
    "len(dataset.columns)"
   ]
  },
  {
   "cell_type": "code",
   "execution_count": 169,
   "id": "964b2a51-fb40-4eba-8cee-08c1a5f29ce4",
   "metadata": {},
   "outputs": [
    {
     "data": {
      "text/plain": [
       "Index(['Target', 'UnsecLines', 'age', 'Late3059', 'DebtRatio', 'MonthlyIncome',\n",
       "       'OpenCredit', 'Late90', 'PropLines', 'Late60-89', 'Deps'],\n",
       "      dtype='object')"
      ]
     },
     "execution_count": 169,
     "metadata": {},
     "output_type": "execute_result"
    }
   ],
   "source": [
    "dataset.columns"
   ]
  },
  {
   "cell_type": "code",
   "execution_count": null,
   "id": "b2dfe822-2833-4afe-b880-628bc13c809a",
   "metadata": {},
   "outputs": [],
   "source": [
    "column_names = ['Target', 'UnsecLines', 'age', 'Late3059', 'DebtRatio', 'MonthlyIncome',\n",
    "       'OpenCredit', 'Late90', 'PropLines', 'Late60-89', 'Deps']\n",
    "for col in column_names:\n",
    "    dataset = pd.get_dummies(dataset,columns = [col],prefix=col)"
   ]
  },
  {
   "cell_type": "code",
   "execution_count": null,
   "id": "2fdd3a8d-383d-4d29-a412-fc04d269f3fa",
   "metadata": {},
   "outputs": [],
   "source": [
    "dataset.columns"
   ]
  },
  {
   "cell_type": "markdown",
   "id": "b487fd3c-21e3-43c2-8417-4781debe999b",
   "metadata": {},
   "source": [
    "**Q16: Train test split**"
   ]
  },
  {
   "cell_type": "code",
   "execution_count": 7,
   "id": "bd4c62d1-c0e4-4dfd-88d7-8de967bd9b50",
   "metadata": {},
   "outputs": [
    {
     "data": {
      "text/html": [
       "<div>\n",
       "<style scoped>\n",
       "    .dataframe tbody tr th:only-of-type {\n",
       "        vertical-align: middle;\n",
       "    }\n",
       "\n",
       "    .dataframe tbody tr th {\n",
       "        vertical-align: top;\n",
       "    }\n",
       "\n",
       "    .dataframe thead th {\n",
       "        text-align: right;\n",
       "    }\n",
       "</style>\n",
       "<table border=\"1\" class=\"dataframe\">\n",
       "  <thead>\n",
       "    <tr style=\"text-align: right;\">\n",
       "      <th></th>\n",
       "      <th>SeriousDlqin2yrs</th>\n",
       "      <th>RevolvingUtilizationOfUnsecuredLines</th>\n",
       "      <th>age</th>\n",
       "      <th>NumberOfTime30-59DaysPastDueNotWorse</th>\n",
       "      <th>DebtRatio</th>\n",
       "      <th>MonthlyIncome</th>\n",
       "      <th>NumberOfOpenCreditLinesAndLoans</th>\n",
       "      <th>NumberOfTimes90DaysLate</th>\n",
       "      <th>NumberRealEstateLoansOrLines</th>\n",
       "      <th>NumberOfTime60-89DaysPastDueNotWorse</th>\n",
       "      <th>NumberOfDependents</th>\n",
       "    </tr>\n",
       "  </thead>\n",
       "  <tbody>\n",
       "    <tr>\n",
       "      <th>0</th>\n",
       "      <td>1</td>\n",
       "      <td>0.766127</td>\n",
       "      <td>45</td>\n",
       "      <td>2</td>\n",
       "      <td>0.802982</td>\n",
       "      <td>9120.0</td>\n",
       "      <td>13</td>\n",
       "      <td>0</td>\n",
       "      <td>6</td>\n",
       "      <td>0</td>\n",
       "      <td>2.0</td>\n",
       "    </tr>\n",
       "    <tr>\n",
       "      <th>1</th>\n",
       "      <td>0</td>\n",
       "      <td>0.957151</td>\n",
       "      <td>40</td>\n",
       "      <td>0</td>\n",
       "      <td>0.121876</td>\n",
       "      <td>2600.0</td>\n",
       "      <td>4</td>\n",
       "      <td>0</td>\n",
       "      <td>0</td>\n",
       "      <td>0</td>\n",
       "      <td>1.0</td>\n",
       "    </tr>\n",
       "    <tr>\n",
       "      <th>2</th>\n",
       "      <td>0</td>\n",
       "      <td>0.658180</td>\n",
       "      <td>38</td>\n",
       "      <td>1</td>\n",
       "      <td>0.085113</td>\n",
       "      <td>3042.0</td>\n",
       "      <td>2</td>\n",
       "      <td>1</td>\n",
       "      <td>0</td>\n",
       "      <td>0</td>\n",
       "      <td>0.0</td>\n",
       "    </tr>\n",
       "    <tr>\n",
       "      <th>3</th>\n",
       "      <td>0</td>\n",
       "      <td>0.233810</td>\n",
       "      <td>30</td>\n",
       "      <td>0</td>\n",
       "      <td>0.036050</td>\n",
       "      <td>3300.0</td>\n",
       "      <td>5</td>\n",
       "      <td>0</td>\n",
       "      <td>0</td>\n",
       "      <td>0</td>\n",
       "      <td>0.0</td>\n",
       "    </tr>\n",
       "    <tr>\n",
       "      <th>4</th>\n",
       "      <td>0</td>\n",
       "      <td>0.907239</td>\n",
       "      <td>49</td>\n",
       "      <td>1</td>\n",
       "      <td>0.024926</td>\n",
       "      <td>63588.0</td>\n",
       "      <td>7</td>\n",
       "      <td>0</td>\n",
       "      <td>1</td>\n",
       "      <td>0</td>\n",
       "      <td>0.0</td>\n",
       "    </tr>\n",
       "  </tbody>\n",
       "</table>\n",
       "</div>"
      ],
      "text/plain": [
       "   SeriousDlqin2yrs  RevolvingUtilizationOfUnsecuredLines  age  \\\n",
       "0                 1                              0.766127   45   \n",
       "1                 0                              0.957151   40   \n",
       "2                 0                              0.658180   38   \n",
       "3                 0                              0.233810   30   \n",
       "4                 0                              0.907239   49   \n",
       "\n",
       "   NumberOfTime30-59DaysPastDueNotWorse  DebtRatio  MonthlyIncome  \\\n",
       "0                                     2   0.802982         9120.0   \n",
       "1                                     0   0.121876         2600.0   \n",
       "2                                     1   0.085113         3042.0   \n",
       "3                                     0   0.036050         3300.0   \n",
       "4                                     1   0.024926        63588.0   \n",
       "\n",
       "   NumberOfOpenCreditLinesAndLoans  NumberOfTimes90DaysLate  \\\n",
       "0                               13                        0   \n",
       "1                                4                        0   \n",
       "2                                2                        1   \n",
       "3                                5                        0   \n",
       "4                                7                        0   \n",
       "\n",
       "   NumberRealEstateLoansOrLines  NumberOfTime60-89DaysPastDueNotWorse  \\\n",
       "0                             6                                     0   \n",
       "1                             0                                     0   \n",
       "2                             0                                     0   \n",
       "3                             0                                     0   \n",
       "4                             1                                     0   \n",
       "\n",
       "   NumberOfDependents  \n",
       "0                 2.0  \n",
       "1                 1.0  \n",
       "2                 0.0  \n",
       "3                 0.0  \n",
       "4                 0.0  "
      ]
     },
     "execution_count": 7,
     "metadata": {},
     "output_type": "execute_result"
    }
   ],
   "source": [
    "df_train.head()"
   ]
  },
  {
   "cell_type": "code",
   "execution_count": 15,
   "id": "1ad8bad1-8d8f-406f-948e-c748e9865ed6",
   "metadata": {},
   "outputs": [
    {
     "data": {
      "text/html": [
       "<div>\n",
       "<style scoped>\n",
       "    .dataframe tbody tr th:only-of-type {\n",
       "        vertical-align: middle;\n",
       "    }\n",
       "\n",
       "    .dataframe tbody tr th {\n",
       "        vertical-align: top;\n",
       "    }\n",
       "\n",
       "    .dataframe thead th {\n",
       "        text-align: right;\n",
       "    }\n",
       "</style>\n",
       "<table border=\"1\" class=\"dataframe\">\n",
       "  <thead>\n",
       "    <tr style=\"text-align: right;\">\n",
       "      <th></th>\n",
       "      <th>SeriousDlqin2yrs</th>\n",
       "      <th>RevolvingUtilizationOfUnsecuredLines</th>\n",
       "      <th>age</th>\n",
       "      <th>NumberOfTime30-59DaysPastDueNotWorse</th>\n",
       "      <th>DebtRatio</th>\n",
       "      <th>MonthlyIncome</th>\n",
       "      <th>NumberOfOpenCreditLinesAndLoans</th>\n",
       "      <th>NumberOfTimes90DaysLate</th>\n",
       "      <th>NumberRealEstateLoansOrLines</th>\n",
       "      <th>NumberOfTime60-89DaysPastDueNotWorse</th>\n",
       "      <th>NumberOfDependents</th>\n",
       "    </tr>\n",
       "  </thead>\n",
       "  <tbody>\n",
       "    <tr>\n",
       "      <th>0</th>\n",
       "      <td>NaN</td>\n",
       "      <td>0.885519</td>\n",
       "      <td>43</td>\n",
       "      <td>0</td>\n",
       "      <td>0.177513</td>\n",
       "      <td>5700.0</td>\n",
       "      <td>4</td>\n",
       "      <td>0</td>\n",
       "      <td>0</td>\n",
       "      <td>0</td>\n",
       "      <td>0.0</td>\n",
       "    </tr>\n",
       "    <tr>\n",
       "      <th>1</th>\n",
       "      <td>NaN</td>\n",
       "      <td>0.463295</td>\n",
       "      <td>57</td>\n",
       "      <td>0</td>\n",
       "      <td>0.527237</td>\n",
       "      <td>9141.0</td>\n",
       "      <td>15</td>\n",
       "      <td>0</td>\n",
       "      <td>4</td>\n",
       "      <td>0</td>\n",
       "      <td>2.0</td>\n",
       "    </tr>\n",
       "    <tr>\n",
       "      <th>2</th>\n",
       "      <td>NaN</td>\n",
       "      <td>0.043275</td>\n",
       "      <td>59</td>\n",
       "      <td>0</td>\n",
       "      <td>0.687648</td>\n",
       "      <td>5083.0</td>\n",
       "      <td>12</td>\n",
       "      <td>0</td>\n",
       "      <td>1</td>\n",
       "      <td>0</td>\n",
       "      <td>2.0</td>\n",
       "    </tr>\n",
       "    <tr>\n",
       "      <th>3</th>\n",
       "      <td>NaN</td>\n",
       "      <td>0.280308</td>\n",
       "      <td>38</td>\n",
       "      <td>1</td>\n",
       "      <td>0.925961</td>\n",
       "      <td>3200.0</td>\n",
       "      <td>7</td>\n",
       "      <td>0</td>\n",
       "      <td>2</td>\n",
       "      <td>0</td>\n",
       "      <td>0.0</td>\n",
       "    </tr>\n",
       "    <tr>\n",
       "      <th>4</th>\n",
       "      <td>NaN</td>\n",
       "      <td>1.000000</td>\n",
       "      <td>27</td>\n",
       "      <td>0</td>\n",
       "      <td>0.019917</td>\n",
       "      <td>3865.0</td>\n",
       "      <td>4</td>\n",
       "      <td>0</td>\n",
       "      <td>0</td>\n",
       "      <td>0</td>\n",
       "      <td>1.0</td>\n",
       "    </tr>\n",
       "    <tr>\n",
       "      <th>...</th>\n",
       "      <td>...</td>\n",
       "      <td>...</td>\n",
       "      <td>...</td>\n",
       "      <td>...</td>\n",
       "      <td>...</td>\n",
       "      <td>...</td>\n",
       "      <td>...</td>\n",
       "      <td>...</td>\n",
       "      <td>...</td>\n",
       "      <td>...</td>\n",
       "      <td>...</td>\n",
       "    </tr>\n",
       "    <tr>\n",
       "      <th>101498</th>\n",
       "      <td>NaN</td>\n",
       "      <td>0.282653</td>\n",
       "      <td>24</td>\n",
       "      <td>0</td>\n",
       "      <td>0.068522</td>\n",
       "      <td>1400.0</td>\n",
       "      <td>5</td>\n",
       "      <td>0</td>\n",
       "      <td>0</td>\n",
       "      <td>0</td>\n",
       "      <td>0.0</td>\n",
       "    </tr>\n",
       "    <tr>\n",
       "      <th>101499</th>\n",
       "      <td>NaN</td>\n",
       "      <td>0.922156</td>\n",
       "      <td>36</td>\n",
       "      <td>3</td>\n",
       "      <td>0.934217</td>\n",
       "      <td>7615.0</td>\n",
       "      <td>8</td>\n",
       "      <td>0</td>\n",
       "      <td>2</td>\n",
       "      <td>0</td>\n",
       "      <td>4.0</td>\n",
       "    </tr>\n",
       "    <tr>\n",
       "      <th>101500</th>\n",
       "      <td>NaN</td>\n",
       "      <td>0.081596</td>\n",
       "      <td>70</td>\n",
       "      <td>0</td>\n",
       "      <td>836.000000</td>\n",
       "      <td>NaN</td>\n",
       "      <td>3</td>\n",
       "      <td>0</td>\n",
       "      <td>0</td>\n",
       "      <td>0</td>\n",
       "      <td>NaN</td>\n",
       "    </tr>\n",
       "    <tr>\n",
       "      <th>101501</th>\n",
       "      <td>NaN</td>\n",
       "      <td>0.335457</td>\n",
       "      <td>56</td>\n",
       "      <td>0</td>\n",
       "      <td>3568.000000</td>\n",
       "      <td>NaN</td>\n",
       "      <td>8</td>\n",
       "      <td>0</td>\n",
       "      <td>2</td>\n",
       "      <td>1</td>\n",
       "      <td>3.0</td>\n",
       "    </tr>\n",
       "    <tr>\n",
       "      <th>101502</th>\n",
       "      <td>NaN</td>\n",
       "      <td>0.441842</td>\n",
       "      <td>29</td>\n",
       "      <td>0</td>\n",
       "      <td>0.198918</td>\n",
       "      <td>5916.0</td>\n",
       "      <td>12</td>\n",
       "      <td>0</td>\n",
       "      <td>0</td>\n",
       "      <td>0</td>\n",
       "      <td>0.0</td>\n",
       "    </tr>\n",
       "  </tbody>\n",
       "</table>\n",
       "<p>101503 rows × 11 columns</p>\n",
       "</div>"
      ],
      "text/plain": [
       "        SeriousDlqin2yrs  RevolvingUtilizationOfUnsecuredLines  age  \\\n",
       "0                    NaN                              0.885519   43   \n",
       "1                    NaN                              0.463295   57   \n",
       "2                    NaN                              0.043275   59   \n",
       "3                    NaN                              0.280308   38   \n",
       "4                    NaN                              1.000000   27   \n",
       "...                  ...                                   ...  ...   \n",
       "101498               NaN                              0.282653   24   \n",
       "101499               NaN                              0.922156   36   \n",
       "101500               NaN                              0.081596   70   \n",
       "101501               NaN                              0.335457   56   \n",
       "101502               NaN                              0.441842   29   \n",
       "\n",
       "        NumberOfTime30-59DaysPastDueNotWorse    DebtRatio  MonthlyIncome  \\\n",
       "0                                          0     0.177513         5700.0   \n",
       "1                                          0     0.527237         9141.0   \n",
       "2                                          0     0.687648         5083.0   \n",
       "3                                          1     0.925961         3200.0   \n",
       "4                                          0     0.019917         3865.0   \n",
       "...                                      ...          ...            ...   \n",
       "101498                                     0     0.068522         1400.0   \n",
       "101499                                     3     0.934217         7615.0   \n",
       "101500                                     0   836.000000            NaN   \n",
       "101501                                     0  3568.000000            NaN   \n",
       "101502                                     0     0.198918         5916.0   \n",
       "\n",
       "        NumberOfOpenCreditLinesAndLoans  NumberOfTimes90DaysLate  \\\n",
       "0                                     4                        0   \n",
       "1                                    15                        0   \n",
       "2                                    12                        0   \n",
       "3                                     7                        0   \n",
       "4                                     4                        0   \n",
       "...                                 ...                      ...   \n",
       "101498                                5                        0   \n",
       "101499                                8                        0   \n",
       "101500                                3                        0   \n",
       "101501                                8                        0   \n",
       "101502                               12                        0   \n",
       "\n",
       "        NumberRealEstateLoansOrLines  NumberOfTime60-89DaysPastDueNotWorse  \\\n",
       "0                                  0                                     0   \n",
       "1                                  4                                     0   \n",
       "2                                  1                                     0   \n",
       "3                                  2                                     0   \n",
       "4                                  0                                     0   \n",
       "...                              ...                                   ...   \n",
       "101498                             0                                     0   \n",
       "101499                             2                                     0   \n",
       "101500                             0                                     0   \n",
       "101501                             2                                     1   \n",
       "101502                             0                                     0   \n",
       "\n",
       "        NumberOfDependents  \n",
       "0                      0.0  \n",
       "1                      2.0  \n",
       "2                      2.0  \n",
       "3                      0.0  \n",
       "4                      1.0  \n",
       "...                    ...  \n",
       "101498                 0.0  \n",
       "101499                 4.0  \n",
       "101500                 NaN  \n",
       "101501                 3.0  \n",
       "101502                 0.0  \n",
       "\n",
       "[101503 rows x 11 columns]"
      ]
     },
     "execution_count": 15,
     "metadata": {},
     "output_type": "execute_result"
    }
   ],
   "source": [
    "train = dataset[:len(df_train)]\n",
    "test = dataset[len(df_train):]\n",
    "train\n",
    "test"
   ]
  },
  {
   "cell_type": "markdown",
   "id": "db92cc0c-f060-43ae-b42c-143079df0179",
   "metadata": {},
   "source": [
    "**Q17: Train prediction model using Random Forest Classifier**"
   ]
  },
  {
   "cell_type": "code",
   "execution_count": 16,
   "id": "3fd72a59-3c92-4a77-9f61-278a37d22647",
   "metadata": {},
   "outputs": [
    {
     "ename": "KeyError",
     "evalue": "'Target'",
     "output_type": "error",
     "traceback": [
      "\u001b[0;31m---------------------------------------------------------------------------\u001b[0m",
      "\u001b[0;31mKeyError\u001b[0m                                  Traceback (most recent call last)",
      "\u001b[0;32m/opt/anaconda3/envs/anthony/lib/python3.7/site-packages/pandas/core/indexes/base.py\u001b[0m in \u001b[0;36mget_loc\u001b[0;34m(self, key, method, tolerance)\u001b[0m\n\u001b[1;32m   3080\u001b[0m             \u001b[0;32mtry\u001b[0m\u001b[0;34m:\u001b[0m\u001b[0;34m\u001b[0m\u001b[0m\n\u001b[0;32m-> 3081\u001b[0;31m                 \u001b[0;32mreturn\u001b[0m \u001b[0mself\u001b[0m\u001b[0;34m.\u001b[0m\u001b[0m_engine\u001b[0m\u001b[0;34m.\u001b[0m\u001b[0mget_loc\u001b[0m\u001b[0;34m(\u001b[0m\u001b[0mcasted_key\u001b[0m\u001b[0;34m)\u001b[0m\u001b[0;34m\u001b[0m\u001b[0m\n\u001b[0m\u001b[1;32m   3082\u001b[0m             \u001b[0;32mexcept\u001b[0m \u001b[0mKeyError\u001b[0m \u001b[0;32mas\u001b[0m \u001b[0merr\u001b[0m\u001b[0;34m:\u001b[0m\u001b[0;34m\u001b[0m\u001b[0m\n",
      "\u001b[0;32mpandas/_libs/index.pyx\u001b[0m in \u001b[0;36mpandas._libs.index.IndexEngine.get_loc\u001b[0;34m()\u001b[0m\n",
      "\u001b[0;32mpandas/_libs/index.pyx\u001b[0m in \u001b[0;36mpandas._libs.index.IndexEngine.get_loc\u001b[0;34m()\u001b[0m\n",
      "\u001b[0;32mpandas/_libs/hashtable_class_helper.pxi\u001b[0m in \u001b[0;36mpandas._libs.hashtable.PyObjectHashTable.get_item\u001b[0;34m()\u001b[0m\n",
      "\u001b[0;32mpandas/_libs/hashtable_class_helper.pxi\u001b[0m in \u001b[0;36mpandas._libs.hashtable.PyObjectHashTable.get_item\u001b[0;34m()\u001b[0m\n",
      "\u001b[0;31mKeyError\u001b[0m: 'Target'",
      "\nThe above exception was the direct cause of the following exception:\n",
      "\u001b[0;31mKeyError\u001b[0m                                  Traceback (most recent call last)",
      "\u001b[0;32m<ipython-input-16-f776e60f9842>\u001b[0m in \u001b[0;36m<module>\u001b[0;34m\u001b[0m\n\u001b[0;32m----> 1\u001b[0;31m \u001b[0mtrain\u001b[0m\u001b[0;34m[\u001b[0m\u001b[0;34m'Target'\u001b[0m\u001b[0;34m]\u001b[0m \u001b[0;34m=\u001b[0m \u001b[0mtrain\u001b[0m\u001b[0;34m[\u001b[0m\u001b[0;34m'Target'\u001b[0m\u001b[0;34m]\u001b[0m\u001b[0;34m.\u001b[0m\u001b[0mastype\u001b[0m\u001b[0;34m(\u001b[0m\u001b[0mint\u001b[0m\u001b[0;34m)\u001b[0m\u001b[0;34m\u001b[0m\u001b[0m\n\u001b[0m\u001b[1;32m      2\u001b[0m \u001b[0mX_train\u001b[0m \u001b[0;34m=\u001b[0m \u001b[0mtrain\u001b[0m\u001b[0;34m.\u001b[0m\u001b[0mdrop\u001b[0m\u001b[0;34m(\u001b[0m\u001b[0mlabels\u001b[0m \u001b[0;34m=\u001b[0m\u001b[0;34m[\u001b[0m\u001b[0;34m'Target'\u001b[0m\u001b[0;34m]\u001b[0m\u001b[0;34m,\u001b[0m \u001b[0maxis\u001b[0m \u001b[0;34m=\u001b[0m\u001b[0;36m1\u001b[0m\u001b[0;34m)\u001b[0m\u001b[0;34m\u001b[0m\u001b[0m\n\u001b[1;32m      3\u001b[0m \u001b[0mX_test\u001b[0m \u001b[0;34m=\u001b[0m \u001b[0mtest\u001b[0m\u001b[0;34m.\u001b[0m\u001b[0mdrop\u001b[0m\u001b[0;34m(\u001b[0m\u001b[0mlabels\u001b[0m \u001b[0;34m=\u001b[0m\u001b[0;34m[\u001b[0m\u001b[0;34m'Target'\u001b[0m\u001b[0;34m]\u001b[0m\u001b[0;34m,\u001b[0m \u001b[0maxis\u001b[0m \u001b[0;34m=\u001b[0m\u001b[0;36m1\u001b[0m\u001b[0;34m)\u001b[0m\u001b[0;34m\u001b[0m\u001b[0m\n\u001b[1;32m      4\u001b[0m \u001b[0mY_train\u001b[0m \u001b[0;34m=\u001b[0m \u001b[0mtrain\u001b[0m\u001b[0;34m[\u001b[0m\u001b[0;34m'Target'\u001b[0m\u001b[0;34m]\u001b[0m\u001b[0;34m\u001b[0m\u001b[0m\n\u001b[1;32m      5\u001b[0m \u001b[0mY_test\u001b[0m \u001b[0;34m=\u001b[0m \u001b[0mtest\u001b[0m\u001b[0;34m[\u001b[0m\u001b[0;34m'Target'\u001b[0m\u001b[0;34m]\u001b[0m\u001b[0;34m\u001b[0m\u001b[0m\n",
      "\u001b[0;32m/opt/anaconda3/envs/anthony/lib/python3.7/site-packages/pandas/core/frame.py\u001b[0m in \u001b[0;36m__getitem__\u001b[0;34m(self, key)\u001b[0m\n\u001b[1;32m   3022\u001b[0m             \u001b[0;32mif\u001b[0m \u001b[0mself\u001b[0m\u001b[0;34m.\u001b[0m\u001b[0mcolumns\u001b[0m\u001b[0;34m.\u001b[0m\u001b[0mnlevels\u001b[0m \u001b[0;34m>\u001b[0m \u001b[0;36m1\u001b[0m\u001b[0;34m:\u001b[0m\u001b[0;34m\u001b[0m\u001b[0m\n\u001b[1;32m   3023\u001b[0m                 \u001b[0;32mreturn\u001b[0m \u001b[0mself\u001b[0m\u001b[0;34m.\u001b[0m\u001b[0m_getitem_multilevel\u001b[0m\u001b[0;34m(\u001b[0m\u001b[0mkey\u001b[0m\u001b[0;34m)\u001b[0m\u001b[0;34m\u001b[0m\u001b[0m\n\u001b[0;32m-> 3024\u001b[0;31m             \u001b[0mindexer\u001b[0m \u001b[0;34m=\u001b[0m \u001b[0mself\u001b[0m\u001b[0;34m.\u001b[0m\u001b[0mcolumns\u001b[0m\u001b[0;34m.\u001b[0m\u001b[0mget_loc\u001b[0m\u001b[0;34m(\u001b[0m\u001b[0mkey\u001b[0m\u001b[0;34m)\u001b[0m\u001b[0;34m\u001b[0m\u001b[0m\n\u001b[0m\u001b[1;32m   3025\u001b[0m             \u001b[0;32mif\u001b[0m \u001b[0mis_integer\u001b[0m\u001b[0;34m(\u001b[0m\u001b[0mindexer\u001b[0m\u001b[0;34m)\u001b[0m\u001b[0;34m:\u001b[0m\u001b[0;34m\u001b[0m\u001b[0m\n\u001b[1;32m   3026\u001b[0m                 \u001b[0mindexer\u001b[0m \u001b[0;34m=\u001b[0m \u001b[0;34m[\u001b[0m\u001b[0mindexer\u001b[0m\u001b[0;34m]\u001b[0m\u001b[0;34m\u001b[0m\u001b[0m\n",
      "\u001b[0;32m/opt/anaconda3/envs/anthony/lib/python3.7/site-packages/pandas/core/indexes/base.py\u001b[0m in \u001b[0;36mget_loc\u001b[0;34m(self, key, method, tolerance)\u001b[0m\n\u001b[1;32m   3081\u001b[0m                 \u001b[0;32mreturn\u001b[0m \u001b[0mself\u001b[0m\u001b[0;34m.\u001b[0m\u001b[0m_engine\u001b[0m\u001b[0;34m.\u001b[0m\u001b[0mget_loc\u001b[0m\u001b[0;34m(\u001b[0m\u001b[0mcasted_key\u001b[0m\u001b[0;34m)\u001b[0m\u001b[0;34m\u001b[0m\u001b[0m\n\u001b[1;32m   3082\u001b[0m             \u001b[0;32mexcept\u001b[0m \u001b[0mKeyError\u001b[0m \u001b[0;32mas\u001b[0m \u001b[0merr\u001b[0m\u001b[0;34m:\u001b[0m\u001b[0;34m\u001b[0m\u001b[0m\n\u001b[0;32m-> 3083\u001b[0;31m                 \u001b[0;32mraise\u001b[0m \u001b[0mKeyError\u001b[0m\u001b[0;34m(\u001b[0m\u001b[0mkey\u001b[0m\u001b[0;34m)\u001b[0m \u001b[0;32mfrom\u001b[0m \u001b[0merr\u001b[0m\u001b[0;34m\u001b[0m\u001b[0m\n\u001b[0m\u001b[1;32m   3084\u001b[0m \u001b[0;34m\u001b[0m\u001b[0m\n\u001b[1;32m   3085\u001b[0m         \u001b[0;32mif\u001b[0m \u001b[0mtolerance\u001b[0m \u001b[0;32mis\u001b[0m \u001b[0;32mnot\u001b[0m \u001b[0;32mNone\u001b[0m\u001b[0;34m:\u001b[0m\u001b[0;34m\u001b[0m\u001b[0m\n",
      "\u001b[0;31mKeyError\u001b[0m: 'Target'"
     ]
    }
   ],
   "source": [
    "train['Target'] = train['Target'].astype(int)\n",
    "X_train = train.drop(labels =['Target'], axis =1)\n",
    "X_test = test.drop(labels =['Target'], axis =1)\n",
    "Y_train = train['Target']\n",
    "Y_test = test['Target']"
   ]
  },
  {
   "cell_type": "code",
   "execution_count": 18,
   "id": "06f4a302-d508-46e4-9e28-7e268ba2b38c",
   "metadata": {},
   "outputs": [
    {
     "ename": "NameError",
     "evalue": "name 'X_train' is not defined",
     "output_type": "error",
     "traceback": [
      "\u001b[0;31m---------------------------------------------------------------------------\u001b[0m",
      "\u001b[0;31mNameError\u001b[0m                                 Traceback (most recent call last)",
      "\u001b[0;32m<ipython-input-18-fa50b6bbb7e3>\u001b[0m in \u001b[0;36m<module>\u001b[0;34m\u001b[0m\n\u001b[1;32m      1\u001b[0m \u001b[0;32mfrom\u001b[0m \u001b[0msklearn\u001b[0m\u001b[0;34m.\u001b[0m\u001b[0mensemble\u001b[0m \u001b[0;32mimport\u001b[0m \u001b[0mRandomForestClassifier\u001b[0m\u001b[0;34m\u001b[0m\u001b[0m\n\u001b[1;32m      2\u001b[0m \u001b[0mclf\u001b[0m \u001b[0;34m=\u001b[0m \u001b[0mRandomForestClassifier\u001b[0m\u001b[0;34m(\u001b[0m\u001b[0mn_estimators\u001b[0m \u001b[0;34m=\u001b[0m\u001b[0;36m50\u001b[0m\u001b[0;34m,\u001b[0m \u001b[0mmax_features\u001b[0m \u001b[0;34m=\u001b[0m \u001b[0;34m'sqrt'\u001b[0m\u001b[0;34m)\u001b[0m\u001b[0;34m\u001b[0m\u001b[0m\n\u001b[0;32m----> 3\u001b[0;31m \u001b[0mclf\u001b[0m\u001b[0;34m.\u001b[0m\u001b[0mfit\u001b[0m\u001b[0;34m(\u001b[0m\u001b[0mX_train\u001b[0m\u001b[0;34m,\u001b[0m\u001b[0mY_train\u001b[0m\u001b[0;34m)\u001b[0m\u001b[0;34m\u001b[0m\u001b[0m\n\u001b[0m",
      "\u001b[0;31mNameError\u001b[0m: name 'X_train' is not defined"
     ]
    }
   ],
   "source": [
    "from sklearn.ensemble import RandomForestClassifier\n",
    "clf = RandomForestClassifier(n_estimators =50, max_features = 'sqrt')\n",
    "clf.fit(X_train,Y_train)"
   ]
  },
  {
   "cell_type": "markdown",
   "id": "48b77ee7-a7d0-46a1-abca-fa8430ac70f6",
   "metadata": {},
   "source": [
    "**Q18: Get feature importance from classifier**"
   ]
  },
  {
   "cell_type": "code",
   "execution_count": 20,
   "id": "58285abf-cb00-43f8-917b-52744f3924b0",
   "metadata": {},
   "outputs": [
    {
     "ename": "NameError",
     "evalue": "name 'X_train' is not defined",
     "output_type": "error",
     "traceback": [
      "\u001b[0;31m---------------------------------------------------------------------------\u001b[0m",
      "\u001b[0;31mNameError\u001b[0m                                 Traceback (most recent call last)",
      "\u001b[0;32m<ipython-input-20-13c710800962>\u001b[0m in \u001b[0;36m<module>\u001b[0;34m\u001b[0m\n\u001b[1;32m      1\u001b[0m \u001b[0mfeatures\u001b[0m \u001b[0;34m=\u001b[0m \u001b[0mpd\u001b[0m\u001b[0;34m.\u001b[0m \u001b[0mDataFrame\u001b[0m\u001b[0;34m(\u001b[0m\u001b[0;34m)\u001b[0m\u001b[0;34m\u001b[0m\u001b[0m\n\u001b[0;32m----> 2\u001b[0;31m \u001b[0mfeatures\u001b[0m\u001b[0;34m[\u001b[0m\u001b[0;34m'names'\u001b[0m\u001b[0;34m]\u001b[0m \u001b[0;34m=\u001b[0m \u001b[0mX_train\u001b[0m\u001b[0;34m.\u001b[0m\u001b[0mcolumns\u001b[0m\u001b[0;34m\u001b[0m\u001b[0m\n\u001b[0m\u001b[1;32m      3\u001b[0m \u001b[0mfeatures\u001b[0m\u001b[0;34m[\u001b[0m\u001b[0;34m'importance'\u001b[0m\u001b[0;34m]\u001b[0m \u001b[0;34m=\u001b[0m \u001b[0mclf\u001b[0m\u001b[0;34m.\u001b[0m\u001b[0mfeature_importances_\u001b[0m\u001b[0;34m\u001b[0m\u001b[0m\n\u001b[1;32m      4\u001b[0m \u001b[0mfeatures\u001b[0m \u001b[0;34m=\u001b[0m \u001b[0mfeatures\u001b[0m\u001b[0;34m.\u001b[0m\u001b[0msort_value\u001b[0m\u001b[0;34m(\u001b[0m\u001b[0mby\u001b[0m\u001b[0;34m=\u001b[0m\u001b[0;34m[\u001b[0m\u001b[0;34m'importance'\u001b[0m\u001b[0;34m]\u001b[0m\u001b[0;34m,\u001b[0m \u001b[0mascending\u001b[0m \u001b[0;34m=\u001b[0m \u001b[0;32mTrue\u001b[0m\u001b[0;34m)\u001b[0m\u001b[0;34m\u001b[0m\u001b[0m\n",
      "\u001b[0;31mNameError\u001b[0m: name 'X_train' is not defined"
     ]
    }
   ],
   "source": [
    "features = pd. DataFrame()\n",
    "features['names'] = X_train.columns\n",
    "features['importance'] = clf.feature_importances_\n",
    "features = features.sort_value(by=['importance'], ascending = True)"
   ]
  },
  {
   "cell_type": "code",
   "execution_count": 21,
   "id": "e54a5684-52ac-4bbd-ab3d-3d753698bd30",
   "metadata": {},
   "outputs": [
    {
     "ename": "TypeError",
     "evalue": "no numeric data to plot",
     "output_type": "error",
     "traceback": [
      "\u001b[0;31m---------------------------------------------------------------------------\u001b[0m",
      "\u001b[0;31mTypeError\u001b[0m                                 Traceback (most recent call last)",
      "\u001b[0;32m<ipython-input-21-2185a94c5d11>\u001b[0m in \u001b[0;36m<module>\u001b[0;34m\u001b[0m\n\u001b[0;32m----> 1\u001b[0;31m \u001b[0mfeatures\u001b[0m\u001b[0;34m.\u001b[0m\u001b[0mplot\u001b[0m\u001b[0;34m(\u001b[0m\u001b[0mkind\u001b[0m \u001b[0;34m=\u001b[0m \u001b[0;34m'bar'\u001b[0m\u001b[0;34m,\u001b[0m\u001b[0mfigsize\u001b[0m \u001b[0;34m=\u001b[0m \u001b[0;34m(\u001b[0m\u001b[0;36m10\u001b[0m\u001b[0;34m,\u001b[0m\u001b[0;36m10\u001b[0m\u001b[0;34m)\u001b[0m\u001b[0;34m)\u001b[0m\u001b[0;34m\u001b[0m\u001b[0m\n\u001b[0m",
      "\u001b[0;32m/opt/anaconda3/envs/anthony/lib/python3.7/site-packages/pandas/plotting/_core.py\u001b[0m in \u001b[0;36m__call__\u001b[0;34m(self, *args, **kwargs)\u001b[0m\n\u001b[1;32m    953\u001b[0m                     \u001b[0mdata\u001b[0m\u001b[0;34m.\u001b[0m\u001b[0mcolumns\u001b[0m \u001b[0;34m=\u001b[0m \u001b[0mlabel_name\u001b[0m\u001b[0;34m\u001b[0m\u001b[0m\n\u001b[1;32m    954\u001b[0m \u001b[0;34m\u001b[0m\u001b[0m\n\u001b[0;32m--> 955\u001b[0;31m         \u001b[0;32mreturn\u001b[0m \u001b[0mplot_backend\u001b[0m\u001b[0;34m.\u001b[0m\u001b[0mplot\u001b[0m\u001b[0;34m(\u001b[0m\u001b[0mdata\u001b[0m\u001b[0;34m,\u001b[0m \u001b[0mkind\u001b[0m\u001b[0;34m=\u001b[0m\u001b[0mkind\u001b[0m\u001b[0;34m,\u001b[0m \u001b[0;34m**\u001b[0m\u001b[0mkwargs\u001b[0m\u001b[0;34m)\u001b[0m\u001b[0;34m\u001b[0m\u001b[0m\n\u001b[0m\u001b[1;32m    956\u001b[0m \u001b[0;34m\u001b[0m\u001b[0m\n\u001b[1;32m    957\u001b[0m     \u001b[0m__call__\u001b[0m\u001b[0;34m.\u001b[0m\u001b[0m__doc__\u001b[0m \u001b[0;34m=\u001b[0m \u001b[0m__doc__\u001b[0m\u001b[0;34m\u001b[0m\u001b[0m\n",
      "\u001b[0;32m/opt/anaconda3/envs/anthony/lib/python3.7/site-packages/pandas/plotting/_matplotlib/__init__.py\u001b[0m in \u001b[0;36mplot\u001b[0;34m(data, kind, **kwargs)\u001b[0m\n\u001b[1;32m     59\u001b[0m             \u001b[0mkwargs\u001b[0m\u001b[0;34m[\u001b[0m\u001b[0;34m\"ax\"\u001b[0m\u001b[0;34m]\u001b[0m \u001b[0;34m=\u001b[0m \u001b[0mgetattr\u001b[0m\u001b[0;34m(\u001b[0m\u001b[0max\u001b[0m\u001b[0;34m,\u001b[0m \u001b[0;34m\"left_ax\"\u001b[0m\u001b[0;34m,\u001b[0m \u001b[0max\u001b[0m\u001b[0;34m)\u001b[0m\u001b[0;34m\u001b[0m\u001b[0m\n\u001b[1;32m     60\u001b[0m     \u001b[0mplot_obj\u001b[0m \u001b[0;34m=\u001b[0m \u001b[0mPLOT_CLASSES\u001b[0m\u001b[0;34m[\u001b[0m\u001b[0mkind\u001b[0m\u001b[0;34m]\u001b[0m\u001b[0;34m(\u001b[0m\u001b[0mdata\u001b[0m\u001b[0;34m,\u001b[0m \u001b[0;34m**\u001b[0m\u001b[0mkwargs\u001b[0m\u001b[0;34m)\u001b[0m\u001b[0;34m\u001b[0m\u001b[0m\n\u001b[0;32m---> 61\u001b[0;31m     \u001b[0mplot_obj\u001b[0m\u001b[0;34m.\u001b[0m\u001b[0mgenerate\u001b[0m\u001b[0;34m(\u001b[0m\u001b[0;34m)\u001b[0m\u001b[0;34m\u001b[0m\u001b[0m\n\u001b[0m\u001b[1;32m     62\u001b[0m     \u001b[0mplot_obj\u001b[0m\u001b[0;34m.\u001b[0m\u001b[0mdraw\u001b[0m\u001b[0;34m(\u001b[0m\u001b[0;34m)\u001b[0m\u001b[0;34m\u001b[0m\u001b[0m\n\u001b[1;32m     63\u001b[0m     \u001b[0;32mreturn\u001b[0m \u001b[0mplot_obj\u001b[0m\u001b[0;34m.\u001b[0m\u001b[0mresult\u001b[0m\u001b[0;34m\u001b[0m\u001b[0m\n",
      "\u001b[0;32m/opt/anaconda3/envs/anthony/lib/python3.7/site-packages/pandas/plotting/_matplotlib/core.py\u001b[0m in \u001b[0;36mgenerate\u001b[0;34m(self)\u001b[0m\n\u001b[1;32m    276\u001b[0m     \u001b[0;32mdef\u001b[0m \u001b[0mgenerate\u001b[0m\u001b[0;34m(\u001b[0m\u001b[0mself\u001b[0m\u001b[0;34m)\u001b[0m\u001b[0;34m:\u001b[0m\u001b[0;34m\u001b[0m\u001b[0m\n\u001b[1;32m    277\u001b[0m         \u001b[0mself\u001b[0m\u001b[0;34m.\u001b[0m\u001b[0m_args_adjust\u001b[0m\u001b[0;34m(\u001b[0m\u001b[0;34m)\u001b[0m\u001b[0;34m\u001b[0m\u001b[0m\n\u001b[0;32m--> 278\u001b[0;31m         \u001b[0mself\u001b[0m\u001b[0;34m.\u001b[0m\u001b[0m_compute_plot_data\u001b[0m\u001b[0;34m(\u001b[0m\u001b[0;34m)\u001b[0m\u001b[0;34m\u001b[0m\u001b[0m\n\u001b[0m\u001b[1;32m    279\u001b[0m         \u001b[0mself\u001b[0m\u001b[0;34m.\u001b[0m\u001b[0m_setup_subplots\u001b[0m\u001b[0;34m(\u001b[0m\u001b[0;34m)\u001b[0m\u001b[0;34m\u001b[0m\u001b[0m\n\u001b[1;32m    280\u001b[0m         \u001b[0mself\u001b[0m\u001b[0;34m.\u001b[0m\u001b[0m_make_plot\u001b[0m\u001b[0;34m(\u001b[0m\u001b[0;34m)\u001b[0m\u001b[0;34m\u001b[0m\u001b[0m\n",
      "\u001b[0;32m/opt/anaconda3/envs/anthony/lib/python3.7/site-packages/pandas/plotting/_matplotlib/core.py\u001b[0m in \u001b[0;36m_compute_plot_data\u001b[0;34m(self)\u001b[0m\n\u001b[1;32m    439\u001b[0m         \u001b[0;31m# no non-numeric frames or series allowed\u001b[0m\u001b[0;34m\u001b[0m\u001b[0;34m\u001b[0m\u001b[0m\n\u001b[1;32m    440\u001b[0m         \u001b[0;32mif\u001b[0m \u001b[0mis_empty\u001b[0m\u001b[0;34m:\u001b[0m\u001b[0;34m\u001b[0m\u001b[0m\n\u001b[0;32m--> 441\u001b[0;31m             \u001b[0;32mraise\u001b[0m \u001b[0mTypeError\u001b[0m\u001b[0;34m(\u001b[0m\u001b[0;34m\"no numeric data to plot\"\u001b[0m\u001b[0;34m)\u001b[0m\u001b[0;34m\u001b[0m\u001b[0m\n\u001b[0m\u001b[1;32m    442\u001b[0m \u001b[0;34m\u001b[0m\u001b[0m\n\u001b[1;32m    443\u001b[0m         \u001b[0mself\u001b[0m\u001b[0;34m.\u001b[0m\u001b[0mdata\u001b[0m \u001b[0;34m=\u001b[0m \u001b[0mnumeric_data\u001b[0m\u001b[0;34m.\u001b[0m\u001b[0mapply\u001b[0m\u001b[0;34m(\u001b[0m\u001b[0mself\u001b[0m\u001b[0;34m.\u001b[0m\u001b[0m_convert_to_ndarray\u001b[0m\u001b[0;34m)\u001b[0m\u001b[0;34m\u001b[0m\u001b[0m\n",
      "\u001b[0;31mTypeError\u001b[0m: no numeric data to plot"
     ]
    }
   ],
   "source": [
    "features.plot(kind = 'bar',figsize = (10,10))"
   ]
  },
  {
   "cell_type": "markdown",
   "id": "668c3e37-5855-41cc-bce8-d12a66a90da9",
   "metadata": {},
   "source": [
    "**Q19: Retrain with better parameters**"
   ]
  },
  {
   "cell_type": "markdown",
   "id": "8aa4d53d-c89a-4d8e-87bf-b2dbd612b1c3",
   "metadata": {},
   "source": [
    "Parameter +chanhe combination of feature (cat thu xem ntn roi dua ra)"
   ]
  },
  {
   "cell_type": "code",
   "execution_count": null,
   "id": "8ad944f7-207b-4068-9fcc-653ce2297e64",
   "metadata": {},
   "outputs": [],
   "source": []
  },
  {
   "cell_type": "code",
   "execution_count": null,
   "id": "13d5e5a5-7e01-4ad2-be63-9e07ba80de2d",
   "metadata": {},
   "outputs": [],
   "source": []
  },
  {
   "cell_type": "code",
   "execution_count": null,
   "id": "42c7b233-99d8-4cc9-9155-6da47fd7fccc",
   "metadata": {},
   "outputs": [],
   "source": []
  },
  {
   "cell_type": "code",
   "execution_count": null,
   "id": "ce5a1d1a-9b70-433c-8849-e888783f1e6c",
   "metadata": {},
   "outputs": [],
   "source": []
  },
  {
   "cell_type": "code",
   "execution_count": null,
   "id": "7c12c46c-a5ed-41bf-b959-031ced05f87c",
   "metadata": {},
   "outputs": [],
   "source": []
  },
  {
   "cell_type": "markdown",
   "id": "38058ff2-c3a7-4f5d-83ce-53b4dc4e8a63",
   "metadata": {},
   "source": [
    "**Q20: Predict and evaluate the model performance**"
   ]
  },
  {
   "cell_type": "markdown",
   "id": "db89e9fe-7984-4f8d-b842-3dfb9829e275",
   "metadata": {},
   "source": [
    "Đôi khi trả về xác xuất % bao nhiêu nợ xấu tốt ntn "
   ]
  },
  {
   "cell_type": "code",
   "execution_count": 24,
   "id": "b6334994-25a1-4fb4-b599-e3f375eca94b",
   "metadata": {},
   "outputs": [
    {
     "ename": "NameError",
     "evalue": "name 'X_test' is not defined",
     "output_type": "error",
     "traceback": [
      "\u001b[0;31m---------------------------------------------------------------------------\u001b[0m",
      "\u001b[0;31mNameError\u001b[0m                                 Traceback (most recent call last)",
      "\u001b[0;32m<ipython-input-24-134eb8bf2504>\u001b[0m in \u001b[0;36m<module>\u001b[0;34m\u001b[0m\n\u001b[0;32m----> 1\u001b[0;31m \u001b[0my_pred\u001b[0m \u001b[0;34m=\u001b[0m \u001b[0mclf\u001b[0m\u001b[0;34m.\u001b[0m\u001b[0mpredict_proba\u001b[0m\u001b[0;34m(\u001b[0m\u001b[0mX_test\u001b[0m\u001b[0;34m)\u001b[0m\u001b[0;34m[\u001b[0m\u001b[0;34m:\u001b[0m\u001b[0;34m,\u001b[0m\u001b[0;36m1\u001b[0m\u001b[0;34m]\u001b[0m \u001b[0;31m#Threshold We have to show it actually to show what we have with this result\u001b[0m\u001b[0;34m\u001b[0m\u001b[0m\n\u001b[0m\u001b[1;32m      2\u001b[0m \u001b[0my_pred\u001b[0m\u001b[0;34m\u001b[0m\u001b[0m\n",
      "\u001b[0;31mNameError\u001b[0m: name 'X_test' is not defined"
     ]
    }
   ],
   "source": [
    "y_pred = clf.predict_proba(X_test)[:,1] #Threshold We have to show it actually to show what we have with this result\n",
    "y_pred"
   ]
  },
  {
   "cell_type": "markdown",
   "id": "47ffd8e0-88fb-4381-9053-ac7ced8e876a",
   "metadata": {},
   "source": [
    "Đánh gía threadhold dựa trên: bad rate(deafault)+population rejection (phải giữ khách hàng tiềm năng)"
   ]
  },
  {
   "cell_type": "markdown",
   "id": "2b0ee367-034c-41e0-98f6-0d6de88e14ad",
   "metadata": {},
   "source": [
    "Phải đánh giá được threshold tốt hay xấu"
   ]
  },
  {
   "cell_type": "code",
   "execution_count": null,
   "id": "101191b7-5873-4b2b-8605-ffa41991533f",
   "metadata": {},
   "outputs": [],
   "source": []
  },
  {
   "cell_type": "markdown",
   "id": "ee027911-743e-46b0-a321-9d9cdd4fe182",
   "metadata": {},
   "source": [
    "<center> <img src=\"https://media.makeameme.org/created/have-a-nice-17d2442086.jpg\" width=\"500\"/> </center>"
   ]
  },
  {
   "cell_type": "code",
   "execution_count": null,
   "id": "1292e8d6-9f81-40bd-8160-d934d20ef23c",
   "metadata": {},
   "outputs": [],
   "source": []
  }
 ],
 "metadata": {
  "kernelspec": {
   "display_name": "Python 3",
   "language": "python",
   "name": "python3"
  },
  "language_info": {
   "codemirror_mode": {
    "name": "ipython",
    "version": 3
   },
   "file_extension": ".py",
   "mimetype": "text/x-python",
   "name": "python",
   "nbconvert_exporter": "python",
   "pygments_lexer": "ipython3",
<<<<<<< Updated upstream
   "version": "3.8.8"
=======
   "version": "3.7.10"
>>>>>>> Stashed changes
  }
 },
 "nbformat": 4,
 "nbformat_minor": 5
}
