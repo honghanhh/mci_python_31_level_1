{
 "cells": [
  {
   "cell_type": "markdown",
   "id": "10ada14c-f96d-4961-8dc7-a5ab8fb566c0",
   "metadata": {},
   "source": [
    "# Lesson 5: Introduction to Pandas"
   ]
  },
  {
   "cell_type": "markdown",
   "id": "75867f6f-3e7a-45d4-ac58-dd6cc0df0f35",
   "metadata": {},
   "source": [
    "![](https://miro.medium.com/max/481/1*cxfqR8NAj8HGal8CVOZ7hg.png)"
   ]
  },
  {
   "cell_type": "markdown",
   "id": "f69ddc70-a872-48d7-810e-af194d02a52e",
   "metadata": {},
   "source": [
    "## 1. Introduction"
   ]
  },
  {
   "cell_type": "markdown",
   "id": "3d8b2096-17b9-405b-add1-c7f6974bad04",
   "metadata": {},
   "source": [
    "Pandas = panel data\n",
    "Ref: Pandas Document"
   ]
  },
  {
   "cell_type": "markdown",
   "id": "d5e3f152-4e60-49dc-a6e1-ffaa016c4fad",
   "metadata": {},
   "source": [
    "Install"
   ]
  },
  {
   "cell_type": "markdown",
   "id": "f8f8a2b5-1e28-45fb-b8f9-a0377e207dc0",
   "metadata": {},
   "source": [
    "## 2. Foundations/Basic"
   ]
  },
  {
   "cell_type": "markdown",
   "id": "5edc10cc-520f-42c3-b740-66a5b89f58e1",
   "metadata": {},
   "source": [
    "### 2.1 Objects in Pandas"
   ]
  },
  {
   "cell_type": "markdown",
   "id": "11bbda29-2a04-426c-9a8f-d05f7ae6dc37",
   "metadata": {},
   "source": [
    "- Data:\n",
    "    - Structured data: table\n",
    "    - Unstructred  data: text. image"
   ]
  },
  {
   "cell_type": "markdown",
   "id": "825a063d-f9ce-4ced-bcee-2a5afa0ab911",
   "metadata": {},
   "source": [
    "- Objects:\n",
    "    - `DataFrame` : sheet in Excel in SQL\n",
    "    - `Series` : a coulum "
   ]
  },
  {
   "cell_type": "code",
   "execution_count": null,
   "id": "34263a67-edb8-40b9-bc69-cb73729d89f5",
   "metadata": {},
   "outputs": [],
   "source": []
  },
  {
   "cell_type": "markdown",
   "id": "4680dd59-fbdb-4451-9dbd-e33a02fe03d1",
   "metadata": {},
   "source": [
    "### 2.2 Create a DataFrame"
   ]
  },
  {
   "cell_type": "code",
   "execution_count": 6,
   "id": "1f69aa94-f206-40d7-b8c9-1fb30e85fd4c",
   "metadata": {},
   "outputs": [],
   "source": [
    "import pandas as pd"
   ]
  },
  {
   "cell_type": "markdown",
   "id": "6ce64c91-0037-4267-8776-ddc8ddf8f313",
   "metadata": {},
   "source": [
    "- `pd.DataFrame()`\n",
    "- `pd.Series()`"
   ]
  },
  {
   "cell_type": "code",
   "execution_count": 12,
   "id": "6cd007ea-a07a-4329-a2b3-3d8f2fa11b73",
   "metadata": {},
   "outputs": [
    {
     "data": {
      "text/html": [
       "<div>\n",
       "<style scoped>\n",
       "    .dataframe tbody tr th:only-of-type {\n",
       "        vertical-align: middle;\n",
       "    }\n",
       "\n",
       "    .dataframe tbody tr th {\n",
       "        vertical-align: top;\n",
       "    }\n",
       "\n",
       "    .dataframe thead th {\n",
       "        text-align: right;\n",
       "    }\n",
       "</style>\n",
       "<table border=\"1\" class=\"dataframe\">\n",
       "  <thead>\n",
       "    <tr style=\"text-align: right;\">\n",
       "      <th></th>\n",
       "      <th>name</th>\n",
       "      <th>age</th>\n",
       "    </tr>\n",
       "  </thead>\n",
       "  <tbody>\n",
       "    <tr>\n",
       "      <th>0</th>\n",
       "      <td>chi</td>\n",
       "      <td>12</td>\n",
       "    </tr>\n",
       "    <tr>\n",
       "      <th>1</th>\n",
       "      <td>hao</td>\n",
       "      <td>13</td>\n",
       "    </tr>\n",
       "    <tr>\n",
       "      <th>2</th>\n",
       "      <td>long</td>\n",
       "      <td>14</td>\n",
       "    </tr>\n",
       "    <tr>\n",
       "      <th>3</th>\n",
       "      <td>duc</td>\n",
       "      <td>34</td>\n",
       "    </tr>\n",
       "    <tr>\n",
       "      <th>4</th>\n",
       "      <td>nga</td>\n",
       "      <td>13</td>\n",
       "    </tr>\n",
       "    <tr>\n",
       "      <th>5</th>\n",
       "      <td>trung duc</td>\n",
       "      <td>14</td>\n",
       "    </tr>\n",
       "    <tr>\n",
       "      <th>6</th>\n",
       "      <td>Viet long</td>\n",
       "      <td>10</td>\n",
       "    </tr>\n",
       "  </tbody>\n",
       "</table>\n",
       "</div>"
      ],
      "text/plain": [
       "        name  age\n",
       "0        chi   12\n",
       "1        hao   13\n",
       "2       long   14\n",
       "3        duc   34\n",
       "4        nga   13\n",
       "5  trung duc   14\n",
       "6  Viet long   10"
      ]
     },
     "execution_count": 12,
     "metadata": {},
     "output_type": "execute_result"
    }
   ],
   "source": [
    "dict1 = {'name': ['chi', 'hao', 'long', 'duc', 'nga', 'trung duc' , 'Viet long' ],\n",
    "        'age': [12, 13, 14, 34, 13, 14, 10]}\n",
    "df = pd.DataFrame(dict1)\n",
    "df"
   ]
  },
  {
   "cell_type": "code",
   "execution_count": 13,
   "id": "6f392df9-d062-4fa9-9a30-433291036d3b",
   "metadata": {},
   "outputs": [
    {
     "data": {
      "text/plain": [
       "pandas.core.frame.DataFrame"
      ]
     },
     "execution_count": 13,
     "metadata": {},
     "output_type": "execute_result"
    }
   ],
   "source": [
    "type(df)\n"
   ]
  },
  {
   "cell_type": "code",
   "execution_count": null,
   "id": "cc50c57e-164d-4ca7-91e8-bd7501c7d2b1",
   "metadata": {},
   "outputs": [],
   "source": []
  },
  {
   "cell_type": "code",
   "execution_count": null,
   "id": "b0a3d6ed-bad1-48fc-a94a-25de76cd308c",
   "metadata": {},
   "outputs": [],
   "source": []
  },
  {
   "cell_type": "markdown",
   "id": "096ba7b4-9d41-4323-bd42-491254e1a0a6",
   "metadata": {},
   "source": [
    "### 2.3 Create a Series"
   ]
  },
  {
   "cell_type": "code",
   "execution_count": null,
   "id": "743f53c6-6841-461d-9102-8367ee67d0ad",
   "metadata": {},
   "outputs": [],
   "source": [
    "series = "
   ]
  },
  {
   "cell_type": "code",
   "execution_count": null,
   "id": "62bda2d7-da7b-4e5d-b1b8-2eaaf85280f7",
   "metadata": {},
   "outputs": [],
   "source": []
  },
  {
   "cell_type": "code",
   "execution_count": null,
   "id": "35d5bce3-da64-4b67-8b5e-04aa459f5623",
   "metadata": {},
   "outputs": [],
   "source": []
  },
  {
   "cell_type": "code",
   "execution_count": null,
   "id": "71013ada-48e8-44bb-9fff-e932ef8e7977",
   "metadata": {},
   "outputs": [],
   "source": []
  },
  {
   "cell_type": "code",
   "execution_count": null,
   "id": "202ce956-3469-4ea1-bbf8-aef07e5558dc",
   "metadata": {},
   "outputs": [],
   "source": []
  },
  {
   "cell_type": "code",
   "execution_count": null,
   "id": "8756b7e0-a304-4286-8655-a964a41f562d",
   "metadata": {},
   "outputs": [],
   "source": []
  },
  {
   "cell_type": "code",
   "execution_count": null,
   "id": "85a93eb5-1aae-4ea2-8938-792ed7fa21c9",
   "metadata": {},
   "outputs": [],
   "source": []
  },
  {
   "cell_type": "code",
   "execution_count": null,
   "id": "582436fe-04b9-4aa0-b41d-bd2970978fb3",
   "metadata": {},
   "outputs": [],
   "source": []
  },
  {
   "cell_type": "code",
   "execution_count": null,
   "id": "6abf53ff-e562-4816-ae39-76d3df2875a4",
   "metadata": {},
   "outputs": [],
   "source": []
  },
  {
   "cell_type": "code",
   "execution_count": null,
   "id": "b1186fa8-3ac3-4e7a-97cd-f048af048235",
   "metadata": {},
   "outputs": [],
   "source": []
  }
 ],
 "metadata": {
  "kernelspec": {
   "display_name": "Python 3",
   "language": "python",
   "name": "python3"
  },
  "language_info": {
   "codemirror_mode": {
    "name": "ipython",
    "version": 3
   },
   "file_extension": ".py",
   "mimetype": "text/x-python",
   "name": "python",
   "nbconvert_exporter": "python",
   "pygments_lexer": "ipython3",
   "version": "3.7.10"
  }
 },
 "nbformat": 4,
 "nbformat_minor": 5
}
