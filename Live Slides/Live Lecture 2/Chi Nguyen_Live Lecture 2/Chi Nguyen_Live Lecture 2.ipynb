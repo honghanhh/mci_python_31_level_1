{
 "cells": [
  {
   "cell_type": "markdown",
   "id": "9d3a76e5-0549-4e19-9c07-c94ac62d431f",
   "metadata": {},
   "source": [
    "1. Python"
   ]
  },
  {
   "cell_type": "code",
   "execution_count": 1,
   "id": "3a1e0305-20c3-4bbb-a5af-8f320f122baf",
   "metadata": {},
   "outputs": [
    {
     "name": "stdout",
     "output_type": "stream",
     "text": [
      "Hello world\n"
     ]
    }
   ],
   "source": [
    "print('Hello world')"
   ]
  },
  {
   "cell_type": "code",
   "execution_count": 2,
   "id": "19e475e0-9800-453e-9e02-dbdcf1121811",
   "metadata": {},
   "outputs": [
    {
     "name": "stdout",
     "output_type": "stream",
     "text": [
      "Hello world\n"
     ]
    }
   ],
   "source": [
    "# Comment 1\n",
    "'''\n",
    "Today is Friday\n",
    "'''\n",
    "print('Hello world')"
   ]
  },
  {
   "cell_type": "markdown",
   "id": "84fb8e73-3669-44a4-bd7e-6a2bad7b8dce",
   "metadata": {},
   "source": [
    "### 1. Variables"
   ]
  },
  {
   "cell_type": "code",
   "execution_count": 3,
   "id": "474d0438-5d95-4ca8-9006-1eb65f4c3f0b",
   "metadata": {},
   "outputs": [
    {
     "data": {
      "text/plain": [
       "2"
      ]
     },
     "execution_count": 3,
     "metadata": {},
     "output_type": "execute_result"
    }
   ],
   "source": [
    "1+1"
   ]
  },
  {
   "cell_type": "code",
   "execution_count": 4,
   "id": "9a2a177d-e03c-4b7a-8289-a12204c8a192",
   "metadata": {},
   "outputs": [],
   "source": [
    "int_number =2"
   ]
  },
  {
   "cell_type": "code",
   "execution_count": 5,
   "id": "95acf51a-55c8-48c9-ad42-0a32f952e200",
   "metadata": {},
   "outputs": [
    {
     "data": {
      "text/plain": [
       "int"
      ]
     },
     "execution_count": 5,
     "metadata": {},
     "output_type": "execute_result"
    }
   ],
   "source": [
    "type(int_number)"
   ]
  },
  {
   "cell_type": "code",
   "execution_count": 6,
   "id": "c084e0f9-f705-4026-9c54-6ce0277495f4",
   "metadata": {},
   "outputs": [],
   "source": [
    "f_number = 3.12"
   ]
  },
  {
   "cell_type": "code",
   "execution_count": 7,
   "id": "115af850-00ce-493c-a8ad-067807c403b1",
   "metadata": {},
   "outputs": [
    {
     "data": {
      "text/plain": [
       "float"
      ]
     },
     "execution_count": 7,
     "metadata": {},
     "output_type": "execute_result"
    }
   ],
   "source": [
    "type(f_number)"
   ]
  },
  {
   "cell_type": "markdown",
   "id": "79a5c9a7-1f6c-4064-972a-ec99249040b4",
   "metadata": {},
   "source": [
    "Conventions:\n",
    "- Start with characters or underscore (not start with numbers)\n",
    "- Case-sensitive\n",
    "- Avoid same name with keyword in Python"
   ]
  },
  {
   "cell_type": "markdown",
   "id": "9bf56815-8fe1-4be8-a91a-da50922bb05d",
   "metadata": {},
   "source": [
    "### 2. Operation & Operators"
   ]
  },
  {
   "cell_type": "markdown",
   "id": "0b1365ae-abdb-410b-b747-cc571c034725",
   "metadata": {},
   "source": [
    "|Operation|Meaning|Example|\n",
    "|-|-|-|\n",
    "|+|Adding|a+b|\n",
    "|-|Substraction|a-b|\n",
    "|*|Multiplication|a*b|\n",
    "|/|Division|a/b|\n",
    "|%|Modulus|a%b|\n",
    "|//|Floor Division|a//b|\n",
    "|**|Exponentation|a**b|"
   ]
  },
  {
   "cell_type": "code",
   "execution_count": 8,
   "id": "3e758185-4b8a-4fa2-ba99-b299d34b8517",
   "metadata": {},
   "outputs": [],
   "source": [
    "a=32\n",
    "b=10"
   ]
  },
  {
   "cell_type": "code",
   "execution_count": 9,
   "id": "c53587aa-bdb9-4886-a11a-6be76ab4a67a",
   "metadata": {},
   "outputs": [
    {
     "data": {
      "text/plain": [
       "42"
      ]
     },
     "execution_count": 9,
     "metadata": {},
     "output_type": "execute_result"
    }
   ],
   "source": [
    "a+b"
   ]
  },
  {
   "cell_type": "code",
   "execution_count": 10,
   "id": "06001056-022d-4ee2-acc2-b30c116dac9d",
   "metadata": {},
   "outputs": [
    {
     "data": {
      "text/plain": [
       "2"
      ]
     },
     "execution_count": 10,
     "metadata": {},
     "output_type": "execute_result"
    }
   ],
   "source": [
    "a%b"
   ]
  },
  {
   "cell_type": "code",
   "execution_count": 11,
   "id": "126101f2-1e69-4a78-83f3-3fb8fb552913",
   "metadata": {},
   "outputs": [
    {
     "data": {
      "text/plain": [
       "3"
      ]
     },
     "execution_count": 11,
     "metadata": {},
     "output_type": "execute_result"
    }
   ],
   "source": [
    "a//b"
   ]
  },
  {
   "cell_type": "markdown",
   "id": "bd460807-9d8b-483b-9780-53a5da2efb16",
   "metadata": {},
   "source": [
    "### 3.Logic operations"
   ]
  },
  {
   "cell_type": "markdown",
   "id": "c3ba1ba4-3f63-4674-97d9-7e9f237a9977",
   "metadata": {},
   "source": [
    "- And: True if all true\n",
    "- Or: True if at least one true\n",
    "- Not: True ->False, False ->True\n",
    "- XOR: Same values ->False, else -> True"
   ]
  },
  {
   "cell_type": "code",
   "execution_count": 13,
   "id": "43839086-cd95-4d9a-bf01-9a9ccdecbfa5",
   "metadata": {},
   "outputs": [
    {
     "data": {
      "text/plain": [
       "True"
      ]
     },
     "execution_count": 13,
     "metadata": {},
     "output_type": "execute_result"
    }
   ],
   "source": [
    "True and True"
   ]
  },
  {
   "cell_type": "code",
   "execution_count": 14,
   "id": "6e35e1a8-ae19-4222-be75-f464d1babc5c",
   "metadata": {},
   "outputs": [
    {
     "data": {
      "text/plain": [
       "True"
      ]
     },
     "execution_count": 14,
     "metadata": {},
     "output_type": "execute_result"
    }
   ],
   "source": [
    "True or False"
   ]
  },
  {
   "cell_type": "code",
   "execution_count": 15,
   "id": "064220ff-cd37-4984-9abb-923a7467f3c3",
   "metadata": {},
   "outputs": [
    {
     "data": {
      "text/plain": [
       "True"
      ]
     },
     "execution_count": 15,
     "metadata": {},
     "output_type": "execute_result"
    }
   ],
   "source": [
    "True and False or True and True"
   ]
  },
  {
   "cell_type": "markdown",
   "id": "a51b6a03-258f-4f6e-b61e-a7ad43933620",
   "metadata": {},
   "source": [
    "### 4.Conditional operations"
   ]
  },
  {
   "cell_type": "markdown",
   "id": "620458c7-0232-466d-a54d-e1e158b77994",
   "metadata": {},
   "source": [
    "|Operator|Meaning|\n",
    "|-|-|\n",
    "|<|Less than|\n",
    "|>|Greater than|\n",
    "|<=|Less than or equal to|\n",
    "|>=|More than or equal to|\n",
    "|==|Equal to|\n",
    "|!=|Not equal to|"
   ]
  },
  {
   "cell_type": "markdown",
   "id": "9a6c60e6-39d8-45bf-b833-d4e737fddedf",
   "metadata": {},
   "source": [
    "### 5. Data type"
   ]
  },
  {
   "cell_type": "markdown",
   "id": "58491d0c-37c2-429d-8434-24f57353ccf3",
   "metadata": {},
   "source": [
    "Program = Data structure + Algorithms"
   ]
  },
  {
   "cell_type": "markdown",
   "id": "25ffdd5d-fbd6-42dd-a5a1-dcd00582aac0",
   "metadata": {},
   "source": [
    "- Numeric: integer, float, complex,...\n",
    "- String: text, char\n",
    "- Boolean: True/False\n",
    "- Datetime\n",
    "- Nonetype"
   ]
  },
  {
   "cell_type": "code",
   "execution_count": 16,
   "id": "746adf94-6a86-426a-90ec-e261a027bf34",
   "metadata": {},
   "outputs": [
    {
     "data": {
      "text/plain": [
       "int"
      ]
     },
     "execution_count": 16,
     "metadata": {},
     "output_type": "execute_result"
    }
   ],
   "source": [
    "type(a)"
   ]
  },
  {
   "cell_type": "code",
   "execution_count": 17,
   "id": "75065480-7c75-4bc7-aaa9-01c202c24198",
   "metadata": {},
   "outputs": [
    {
     "data": {
      "text/plain": [
       "float"
      ]
     },
     "execution_count": 17,
     "metadata": {},
     "output_type": "execute_result"
    }
   ],
   "source": [
    "type(3.14)"
   ]
  },
  {
   "cell_type": "code",
   "execution_count": 18,
   "id": "f3d03f19-b3ea-4b1a-9190-87613c712090",
   "metadata": {},
   "outputs": [
    {
     "data": {
      "text/plain": [
       "complex"
      ]
     },
     "execution_count": 18,
     "metadata": {},
     "output_type": "execute_result"
    }
   ],
   "source": [
    "type(1+2j)"
   ]
  },
  {
   "cell_type": "markdown",
   "id": "6f23f6e3-148e-4ecf-bc97-d0084fccd4fc",
   "metadata": {},
   "source": [
    "### 6. Data structures"
   ]
  },
  {
   "cell_type": "markdown",
   "id": "200db46e-704a-4bca-973f-613813bb1045",
   "metadata": {},
   "source": [
    "- Built-in data structures: list, dictionary, tuples, set...\n",
    "- User-defined data structures: stack, queue, tree, linked list, graph, hashmap..."
   ]
  },
  {
   "cell_type": "markdown",
   "id": "7b47387d-c4ca-4253-b51b-a11853c5c6c5",
   "metadata": {},
   "source": [
    "- List: [], list(), index\n",
    "- Tuples: (), tuples(), index\n",
    "- Set: {}, set(), non-index, unique (no duplicated)\n",
    "- Dictionary: {key:value}, no-duplicated"
   ]
  },
  {
   "cell_type": "markdown",
   "id": "639c83f5-ef46-429e-a3e3-c938a2a5c99c",
   "metadata": {},
   "source": [
    "#### 6.1 List"
   ]
  },
  {
   "cell_type": "code",
   "execution_count": 20,
   "id": "345ada39-5c40-486e-acfb-8f0e9d46c4e1",
   "metadata": {},
   "outputs": [],
   "source": [
    "li = [1,2,\"Python\",3.14]"
   ]
  },
  {
   "cell_type": "code",
   "execution_count": 21,
   "id": "cda45d02-8e03-4917-8800-af14c99de37c",
   "metadata": {},
   "outputs": [
    {
     "data": {
      "text/plain": [
       "[1, 2, 'Python', 3.14]"
      ]
     },
     "execution_count": 21,
     "metadata": {},
     "output_type": "execute_result"
    }
   ],
   "source": [
    "li"
   ]
  },
  {
   "cell_type": "code",
   "execution_count": 22,
   "id": "031559c0-37b9-4913-ae61-370d7540bdec",
   "metadata": {},
   "outputs": [
    {
     "data": {
      "text/plain": [
       "['__add__',\n",
       " '__class__',\n",
       " '__contains__',\n",
       " '__delattr__',\n",
       " '__delitem__',\n",
       " '__dir__',\n",
       " '__doc__',\n",
       " '__eq__',\n",
       " '__format__',\n",
       " '__ge__',\n",
       " '__getattribute__',\n",
       " '__getitem__',\n",
       " '__gt__',\n",
       " '__hash__',\n",
       " '__iadd__',\n",
       " '__imul__',\n",
       " '__init__',\n",
       " '__init_subclass__',\n",
       " '__iter__',\n",
       " '__le__',\n",
       " '__len__',\n",
       " '__lt__',\n",
       " '__mul__',\n",
       " '__ne__',\n",
       " '__new__',\n",
       " '__reduce__',\n",
       " '__reduce_ex__',\n",
       " '__repr__',\n",
       " '__reversed__',\n",
       " '__rmul__',\n",
       " '__setattr__',\n",
       " '__setitem__',\n",
       " '__sizeof__',\n",
       " '__str__',\n",
       " '__subclasshook__',\n",
       " 'append',\n",
       " 'clear',\n",
       " 'copy',\n",
       " 'count',\n",
       " 'extend',\n",
       " 'index',\n",
       " 'insert',\n",
       " 'pop',\n",
       " 'remove',\n",
       " 'reverse',\n",
       " 'sort']"
      ]
     },
     "execution_count": 22,
     "metadata": {},
     "output_type": "execute_result"
    }
   ],
   "source": [
    "dir(li)"
   ]
  },
  {
   "cell_type": "code",
   "execution_count": 30,
   "id": "9a255af7-e765-41db-949c-ac267cac5a8e",
   "metadata": {},
   "outputs": [
    {
     "data": {
      "text/plain": [
       "['append',\n",
       " 'clear',\n",
       " 'copy',\n",
       " 'count',\n",
       " 'extend',\n",
       " 'index',\n",
       " 'insert',\n",
       " 'pop',\n",
       " 'remove',\n",
       " 'reverse',\n",
       " 'sort']"
      ]
     },
     "execution_count": 30,
     "metadata": {},
     "output_type": "execute_result"
    }
   ],
   "source": [
    "[method for method in dir(li) if not method.startswith('_')]"
   ]
  },
  {
   "cell_type": "code",
   "execution_count": 27,
   "id": "717df446-b9d6-4c5e-aa75-d645141915e3",
   "metadata": {},
   "outputs": [],
   "source": [
    "li.append(10)"
   ]
  },
  {
   "cell_type": "code",
   "execution_count": 28,
   "id": "b6f680f9-9ee0-4308-881f-088c20016d00",
   "metadata": {},
   "outputs": [
    {
     "data": {
      "text/plain": [
       "[1, 2, 'Python', 3.14, 10]"
      ]
     },
     "execution_count": 28,
     "metadata": {},
     "output_type": "execute_result"
    }
   ],
   "source": [
    "li"
   ]
  },
  {
   "cell_type": "code",
   "execution_count": 31,
   "id": "4094fcff-9e17-4f08-8f07-8e875c127f89",
   "metadata": {},
   "outputs": [],
   "source": [
    "li.append(12) #shift-tab"
   ]
  },
  {
   "cell_type": "code",
   "execution_count": 32,
   "id": "abfb364d-3b9c-4f0b-95ff-7e015fe6ed5f",
   "metadata": {},
   "outputs": [
    {
     "data": {
      "text/plain": [
       "[1, 2, 'Python', 3.14, 10, 12]"
      ]
     },
     "execution_count": 32,
     "metadata": {},
     "output_type": "execute_result"
    }
   ],
   "source": [
    "li"
   ]
  },
  {
   "cell_type": "markdown",
   "id": "39d3ed59-ca87-4123-b66b-4801fb2177a3",
   "metadata": {},
   "source": [
    "2 types:\n",
    "- Assign directly to variable and non return\n",
    "- Return and need to assign to new variable"
   ]
  },
  {
   "cell_type": "code",
   "execution_count": 33,
   "id": "bee7edc3-55e4-43e8-a8e2-a7b931e0591d",
   "metadata": {},
   "outputs": [
    {
     "data": {
      "text/plain": [
       "1"
      ]
     },
     "execution_count": 33,
     "metadata": {},
     "output_type": "execute_result"
    }
   ],
   "source": [
    "li[0]"
   ]
  },
  {
   "cell_type": "code",
   "execution_count": 34,
   "id": "0102211f-d90f-4dbe-bd4b-47a12c4a9062",
   "metadata": {},
   "outputs": [
    {
     "data": {
      "text/plain": [
       "12"
      ]
     },
     "execution_count": 34,
     "metadata": {},
     "output_type": "execute_result"
    }
   ],
   "source": [
    "li[-1]"
   ]
  },
  {
   "cell_type": "code",
   "execution_count": 35,
   "id": "fcf6a680-dada-4e52-982f-2694cef15eb6",
   "metadata": {},
   "outputs": [
    {
     "data": {
      "text/plain": [
       "[1, 2, 'Python']"
      ]
     },
     "execution_count": 35,
     "metadata": {},
     "output_type": "execute_result"
    }
   ],
   "source": [
    "li[0:3]"
   ]
  },
  {
   "cell_type": "code",
   "execution_count": 38,
   "id": "2bc1891d-be42-4f60-b5c8-a8de4f65c76a",
   "metadata": {},
   "outputs": [],
   "source": [
    "li.extend('hello')"
   ]
  },
  {
   "cell_type": "code",
   "execution_count": 39,
   "id": "248c62da-b632-4f10-ab7a-c21fef9d7178",
   "metadata": {},
   "outputs": [
    {
     "data": {
      "text/plain": [
       "[1, 2, 'Python', 3.14, 10, 12, 'h', 'e', 'l', 'l', 'o']"
      ]
     },
     "execution_count": 39,
     "metadata": {},
     "output_type": "execute_result"
    }
   ],
   "source": [
    "li"
   ]
  },
  {
   "cell_type": "code",
   "execution_count": 40,
   "id": "d9cd31eb-ed38-44ec-aaab-3f4263a70339",
   "metadata": {},
   "outputs": [],
   "source": [
    "li.remove('h')"
   ]
  },
  {
   "cell_type": "code",
   "execution_count": 41,
   "id": "2a7d3c24-fd95-45a5-97bf-f9c5aa0e051d",
   "metadata": {},
   "outputs": [
    {
     "data": {
      "text/plain": [
       "[1, 2, 'Python', 3.14, 10, 12, 'e', 'l', 'l', 'o']"
      ]
     },
     "execution_count": 41,
     "metadata": {},
     "output_type": "execute_result"
    }
   ],
   "source": [
    "li"
   ]
  },
  {
   "cell_type": "code",
   "execution_count": 42,
   "id": "3f14517c-175c-42f2-a745-955e75d8c14a",
   "metadata": {},
   "outputs": [
    {
     "data": {
      "text/plain": [
       "'o'"
      ]
     },
     "execution_count": 42,
     "metadata": {},
     "output_type": "execute_result"
    }
   ],
   "source": [
    "li.pop(-1)"
   ]
  },
  {
   "cell_type": "code",
   "execution_count": 43,
   "id": "0ffcc8c1-edbd-4f59-a1a2-8b41c96e19c2",
   "metadata": {},
   "outputs": [
    {
     "data": {
      "text/plain": [
       "[1, 2, 'Python', 3.14, 10, 12, 'e', 'l', 'l']"
      ]
     },
     "execution_count": 43,
     "metadata": {},
     "output_type": "execute_result"
    }
   ],
   "source": [
    "li"
   ]
  },
  {
   "cell_type": "code",
   "execution_count": 45,
   "id": "fb77a0c3-79aa-4a24-bf1b-6e9771191f51",
   "metadata": {},
   "outputs": [],
   "source": [
    "li.remove(1)"
   ]
  },
  {
   "cell_type": "code",
   "execution_count": 46,
   "id": "89edb364-e734-441a-a9d3-0e008b5c1665",
   "metadata": {},
   "outputs": [
    {
     "data": {
      "text/plain": [
       "[2, 'Python', 3.14, 10, 12, 'e', 'l', 'l']"
      ]
     },
     "execution_count": 46,
     "metadata": {},
     "output_type": "execute_result"
    }
   ],
   "source": [
    "li"
   ]
  },
  {
   "cell_type": "code",
   "execution_count": 53,
   "id": "09265aaf-0bce-4f24-809f-ff8c7764669c",
   "metadata": {},
   "outputs": [],
   "source": [
    "li.append(2)"
   ]
  },
  {
   "cell_type": "code",
   "execution_count": 54,
   "id": "f515b514-d07f-45af-aca1-ef8840b2a1e1",
   "metadata": {},
   "outputs": [
    {
     "data": {
      "text/plain": [
       "['Python', 3.14, 10, 12, 'e', 'l', 'l', [2, 2], 2]"
      ]
     },
     "execution_count": 54,
     "metadata": {},
     "output_type": "execute_result"
    }
   ],
   "source": [
    "li"
   ]
  },
  {
   "cell_type": "code",
   "execution_count": 55,
   "id": "e9cb305d-3aeb-4a15-80d5-e7ab2c459f08",
   "metadata": {},
   "outputs": [],
   "source": [
    "li.remove(2)"
   ]
  },
  {
   "cell_type": "code",
   "execution_count": 56,
   "id": "35a2c341-3fd4-413a-8abd-56ab6c918415",
   "metadata": {},
   "outputs": [
    {
     "data": {
      "text/plain": [
       "['Python', 3.14, 10, 12, 'e', 'l', 'l', [2, 2]]"
      ]
     },
     "execution_count": 56,
     "metadata": {},
     "output_type": "execute_result"
    }
   ],
   "source": [
    "li"
   ]
  },
  {
   "cell_type": "code",
   "execution_count": 57,
   "id": "37eac353-673b-4673-a904-032fe4e061fd",
   "metadata": {},
   "outputs": [
    {
     "data": {
      "text/plain": [
       "8"
      ]
     },
     "execution_count": 57,
     "metadata": {},
     "output_type": "execute_result"
    }
   ],
   "source": [
    "len(li)"
   ]
  },
  {
   "cell_type": "markdown",
   "id": "83e6ae1e-40f9-4757-92e6-9d1e5578bfad",
   "metadata": {},
   "source": [
    "#### 6.2 Tuples"
   ]
  },
  {
   "cell_type": "code",
   "execution_count": 58,
   "id": "2fada418-6406-4e83-8374-b8d1af9c516f",
   "metadata": {},
   "outputs": [],
   "source": [
    "tu =(1,2,3,'Vietnam')"
   ]
  },
  {
   "cell_type": "code",
   "execution_count": 59,
   "id": "7b4bdf49-8af3-47c5-9429-c4f3064c80ea",
   "metadata": {},
   "outputs": [
    {
     "data": {
      "text/plain": [
       "tuple"
      ]
     },
     "execution_count": 59,
     "metadata": {},
     "output_type": "execute_result"
    }
   ],
   "source": [
    "type(tu)"
   ]
  },
  {
   "cell_type": "code",
   "execution_count": 60,
   "id": "4a44b3e8-86d4-4461-bf84-86cd570ddaa9",
   "metadata": {},
   "outputs": [
    {
     "data": {
      "text/plain": [
       "['count', 'index']"
      ]
     },
     "execution_count": 60,
     "metadata": {},
     "output_type": "execute_result"
    }
   ],
   "source": [
    "[method for method in dir(tu) if not method.startswith('_')]"
   ]
  },
  {
   "cell_type": "code",
   "execution_count": 61,
   "id": "a94f68d5-be56-47f1-9397-b5f5faff4415",
   "metadata": {},
   "outputs": [
    {
     "data": {
      "text/plain": [
       "1"
      ]
     },
     "execution_count": 61,
     "metadata": {},
     "output_type": "execute_result"
    }
   ],
   "source": [
    "tu.count(1)"
   ]
  },
  {
   "cell_type": "code",
   "execution_count": 62,
   "id": "faccce73-b6d0-4ea5-8835-605787c5abd8",
   "metadata": {},
   "outputs": [
    {
     "data": {
      "text/plain": [
       "3"
      ]
     },
     "execution_count": 62,
     "metadata": {},
     "output_type": "execute_result"
    }
   ],
   "source": [
    "tu.index('Vietnam')"
   ]
  },
  {
   "cell_type": "markdown",
   "id": "47c27eb4-6a0a-4629-8b55-6373a5d7db25",
   "metadata": {},
   "source": [
    "#### 6.3 Set"
   ]
  },
  {
   "cell_type": "code",
   "execution_count": 63,
   "id": "7561ad04-d36c-4caf-9a65-48c4ae8479dc",
   "metadata": {},
   "outputs": [],
   "source": [
    "s={1,1,2,3}"
   ]
  },
  {
   "cell_type": "code",
   "execution_count": 64,
   "id": "519d22d8-dd20-4db1-bcbe-4f9b3e5aa7ea",
   "metadata": {},
   "outputs": [
    {
     "data": {
      "text/plain": [
       "{1, 2, 3}"
      ]
     },
     "execution_count": 64,
     "metadata": {},
     "output_type": "execute_result"
    }
   ],
   "source": [
    "s"
   ]
  },
  {
   "cell_type": "code",
   "execution_count": 65,
   "id": "75e1c8a8-5fd7-470c-b093-e680ab8dcb39",
   "metadata": {},
   "outputs": [
    {
     "data": {
      "text/plain": [
       "['add',\n",
       " 'clear',\n",
       " 'copy',\n",
       " 'difference',\n",
       " 'difference_update',\n",
       " 'discard',\n",
       " 'intersection',\n",
       " 'intersection_update',\n",
       " 'isdisjoint',\n",
       " 'issubset',\n",
       " 'issuperset',\n",
       " 'pop',\n",
       " 'remove',\n",
       " 'symmetric_difference',\n",
       " 'symmetric_difference_update',\n",
       " 'union',\n",
       " 'update']"
      ]
     },
     "execution_count": 65,
     "metadata": {},
     "output_type": "execute_result"
    }
   ],
   "source": [
    "[method for method in dir(s) if not method.startswith('_')]"
   ]
  },
  {
   "cell_type": "code",
   "execution_count": 66,
   "id": "b7979ef8-2a1b-42dd-ae23-1aec66e2e455",
   "metadata": {},
   "outputs": [],
   "source": [
    "s1={2,3,4,5}"
   ]
  },
  {
   "cell_type": "code",
   "execution_count": 67,
   "id": "6fc5e7a7-d775-45ef-ba2d-8546c5756892",
   "metadata": {},
   "outputs": [
    {
     "data": {
      "text/plain": [
       "{1}"
      ]
     },
     "execution_count": 67,
     "metadata": {},
     "output_type": "execute_result"
    }
   ],
   "source": [
    "s.difference(s1)"
   ]
  },
  {
   "cell_type": "code",
   "execution_count": 68,
   "id": "aa7a7408-5c75-484b-8644-92fc1893e526",
   "metadata": {},
   "outputs": [
    {
     "data": {
      "text/plain": [
       "{2, 3}"
      ]
     },
     "execution_count": 68,
     "metadata": {},
     "output_type": "execute_result"
    }
   ],
   "source": [
    "s.intersection(s1)"
   ]
  },
  {
   "cell_type": "code",
   "execution_count": 69,
   "id": "9e734be1-9f71-4cfc-809a-46ab93f71b26",
   "metadata": {},
   "outputs": [
    {
     "data": {
      "text/plain": [
       "False"
      ]
     },
     "execution_count": 69,
     "metadata": {},
     "output_type": "execute_result"
    }
   ],
   "source": [
    "s.isdisjoint(s1)"
   ]
  },
  {
   "cell_type": "code",
   "execution_count": 70,
   "id": "62fd2464-cfb8-4ad9-aad8-5b09e1a4df99",
   "metadata": {},
   "outputs": [
    {
     "data": {
      "text/plain": [
       "False"
      ]
     },
     "execution_count": 70,
     "metadata": {},
     "output_type": "execute_result"
    }
   ],
   "source": [
    "s.issubset(s1)"
   ]
  },
  {
   "cell_type": "code",
   "execution_count": 71,
   "id": "1ab7c31b-8fe5-408b-bc42-451704fd3a66",
   "metadata": {},
   "outputs": [
    {
     "data": {
      "text/plain": [
       "False"
      ]
     },
     "execution_count": 71,
     "metadata": {},
     "output_type": "execute_result"
    }
   ],
   "source": [
    "s.issuperset(s1)"
   ]
  },
  {
   "cell_type": "code",
   "execution_count": 72,
   "id": "f51c6441-15c4-45dd-a80d-a28ab21242fa",
   "metadata": {},
   "outputs": [
    {
     "data": {
      "text/plain": [
       "{1, 4, 5}"
      ]
     },
     "execution_count": 72,
     "metadata": {},
     "output_type": "execute_result"
    }
   ],
   "source": [
    "s.symmetric_difference(s1)"
   ]
  },
  {
   "cell_type": "code",
   "execution_count": 73,
   "id": "0550bbb5-ee80-4e1a-996c-3ba0fe25500d",
   "metadata": {},
   "outputs": [
    {
     "data": {
      "text/plain": [
       "{1, 2, 3, 4, 5}"
      ]
     },
     "execution_count": 73,
     "metadata": {},
     "output_type": "execute_result"
    }
   ],
   "source": [
    "s.union(s1)"
   ]
  },
  {
   "cell_type": "code",
   "execution_count": 74,
   "id": "25b4642d-85e4-4a57-b5b1-82053be11c49",
   "metadata": {},
   "outputs": [],
   "source": [
    "s.update(s1)"
   ]
  },
  {
   "cell_type": "code",
   "execution_count": 75,
   "id": "74ff2120-09a9-4688-a5b2-b94ba1ee76d2",
   "metadata": {},
   "outputs": [
    {
     "data": {
      "text/plain": [
       "{1, 2, 3, 4, 5}"
      ]
     },
     "execution_count": 75,
     "metadata": {},
     "output_type": "execute_result"
    }
   ],
   "source": [
    "s"
   ]
  },
  {
   "cell_type": "markdown",
   "id": "c3a8efcb-1984-4b89-b2d3-08d1b0fe5633",
   "metadata": {},
   "source": [
    "#### 6.4 Dictionary"
   ]
  },
  {
   "cell_type": "markdown",
   "id": "bf971bf5-7f88-4a4c-b766-9f73dae20311",
   "metadata": {},
   "source": [
    "{key:value}"
   ]
  },
  {
   "cell_type": "code",
   "execution_count": 76,
   "id": "81124028-7c75-4ffa-9d19-6e22acb736f1",
   "metadata": {},
   "outputs": [],
   "source": [
    "my_dict={}"
   ]
  },
  {
   "cell_type": "code",
   "execution_count": 77,
   "id": "1cb9e0ab-81a6-4180-878e-f5d8f8db6458",
   "metadata": {},
   "outputs": [
    {
     "data": {
      "text/plain": [
       "dict"
      ]
     },
     "execution_count": 77,
     "metadata": {},
     "output_type": "execute_result"
    }
   ],
   "source": [
    "type(my_dict)"
   ]
  },
  {
   "cell_type": "code",
   "execution_count": 78,
   "id": "93765aeb-1622-4c52-95cb-60cbf42dd4b6",
   "metadata": {},
   "outputs": [],
   "source": [
    "my_dict1={1:'Java',2:'Python',3:'C++'}"
   ]
  },
  {
   "cell_type": "code",
   "execution_count": 79,
   "id": "edc8aa34-1a61-4c22-a971-36906ed8b2e3",
   "metadata": {},
   "outputs": [
    {
     "data": {
      "text/plain": [
       "{1: 'Java', 2: 'Python', 3: 'C++'}"
      ]
     },
     "execution_count": 79,
     "metadata": {},
     "output_type": "execute_result"
    }
   ],
   "source": [
    "my_dict1"
   ]
  },
  {
   "cell_type": "code",
   "execution_count": 80,
   "id": "009fba50-2a3f-433a-9f41-7dcbf610d6da",
   "metadata": {},
   "outputs": [],
   "source": [
    "my_dict1['C++']='C'"
   ]
  },
  {
   "cell_type": "code",
   "execution_count": 81,
   "id": "51d3164b-051b-4de3-abde-7dd664a10729",
   "metadata": {},
   "outputs": [
    {
     "data": {
      "text/plain": [
       "{1: 'Java', 2: 'Python', 3: 'C++', 'C++': 'C'}"
      ]
     },
     "execution_count": 81,
     "metadata": {},
     "output_type": "execute_result"
    }
   ],
   "source": [
    "my_dict1"
   ]
  },
  {
   "cell_type": "code",
   "execution_count": 84,
   "id": "8fca978e-8451-4b5c-ab21-f1fd689410c6",
   "metadata": {},
   "outputs": [],
   "source": [
    "my_dict1[1]='Golang'"
   ]
  },
  {
   "cell_type": "code",
   "execution_count": 85,
   "id": "89bc20da-c70c-414e-a502-e6fa06e7536a",
   "metadata": {},
   "outputs": [
    {
     "data": {
      "text/plain": [
       "{1: 'Golang', 2: 'Python', 3: 'C++', 'C++': 'C'}"
      ]
     },
     "execution_count": 85,
     "metadata": {},
     "output_type": "execute_result"
    }
   ],
   "source": [
    "my_dict1"
   ]
  },
  {
   "cell_type": "code",
   "execution_count": 86,
   "id": "cc6c68c9-dfc8-4dc4-80ab-dca9816451d2",
   "metadata": {},
   "outputs": [
    {
     "data": {
      "text/plain": [
       "['clear',\n",
       " 'copy',\n",
       " 'fromkeys',\n",
       " 'get',\n",
       " 'items',\n",
       " 'keys',\n",
       " 'pop',\n",
       " 'popitem',\n",
       " 'setdefault',\n",
       " 'update',\n",
       " 'values']"
      ]
     },
     "execution_count": 86,
     "metadata": {},
     "output_type": "execute_result"
    }
   ],
   "source": [
    "[method for method in dir(my_dict) if not method.startswith('_')]"
   ]
  },
  {
   "cell_type": "code",
   "execution_count": 88,
   "id": "9127de09-78ae-4a70-b06c-0493bce8687c",
   "metadata": {},
   "outputs": [
    {
     "data": {
      "text/plain": [
       "{'S': None, 'Q': None, 'L': None}"
      ]
     },
     "execution_count": 88,
     "metadata": {},
     "output_type": "execute_result"
    }
   ],
   "source": [
    "my_dict1.fromkeys('SQL')"
   ]
  },
  {
   "cell_type": "code",
   "execution_count": 89,
   "id": "12378950-8a49-4d76-9e61-a9073c5e7157",
   "metadata": {},
   "outputs": [
    {
     "data": {
      "text/plain": [
       "'Golang'"
      ]
     },
     "execution_count": 89,
     "metadata": {},
     "output_type": "execute_result"
    }
   ],
   "source": [
    "my_dict1.get(1)"
   ]
  },
  {
   "cell_type": "code",
   "execution_count": 90,
   "id": "dde5bfac-f901-4534-b7c3-8440ffac89ea",
   "metadata": {},
   "outputs": [
    {
     "data": {
      "text/plain": [
       "dict_items([(1, 'Golang'), (2, 'Python'), (3, 'C++'), ('C++', 'C')])"
      ]
     },
     "execution_count": 90,
     "metadata": {},
     "output_type": "execute_result"
    }
   ],
   "source": [
    "my_dict1.items()"
   ]
  },
  {
   "cell_type": "code",
   "execution_count": 91,
   "id": "4024835c-cd94-4182-8f04-6d093fefc9a6",
   "metadata": {},
   "outputs": [
    {
     "data": {
      "text/plain": [
       "dict_keys([1, 2, 3, 'C++'])"
      ]
     },
     "execution_count": 91,
     "metadata": {},
     "output_type": "execute_result"
    }
   ],
   "source": [
    "my_dict1.keys()"
   ]
  },
  {
   "cell_type": "code",
   "execution_count": 92,
   "id": "7b6e5ea8-a306-4405-847e-5cf878212d22",
   "metadata": {},
   "outputs": [
    {
     "data": {
      "text/plain": [
       "dict_values(['Golang', 'Python', 'C++', 'C'])"
      ]
     },
     "execution_count": 92,
     "metadata": {},
     "output_type": "execute_result"
    }
   ],
   "source": [
    "my_dict1.values()"
   ]
  },
  {
   "cell_type": "code",
   "execution_count": 93,
   "id": "c9ed8c1c-c0d3-4140-a00c-187eedd2e3b4",
   "metadata": {},
   "outputs": [
    {
     "data": {
      "text/plain": [
       "'Golang'"
      ]
     },
     "execution_count": 93,
     "metadata": {},
     "output_type": "execute_result"
    }
   ],
   "source": [
    "my_dict1.pop(1)"
   ]
  },
  {
   "cell_type": "code",
   "execution_count": 94,
   "id": "de8a4d95-8eee-4b47-86d5-52d320a40977",
   "metadata": {},
   "outputs": [
    {
     "data": {
      "text/plain": [
       "{2: 'Python', 3: 'C++', 'C++': 'C'}"
      ]
     },
     "execution_count": 94,
     "metadata": {},
     "output_type": "execute_result"
    }
   ],
   "source": [
    "my_dict1"
   ]
  },
  {
   "cell_type": "code",
   "execution_count": 96,
   "id": "16384a21-bfd5-4baa-a466-591b3602d6a8",
   "metadata": {},
   "outputs": [
    {
     "ename": "TypeError",
     "evalue": "'int' object is not iterable",
     "output_type": "error",
     "traceback": [
      "\u001b[0;31m---------------------------------------------------------------------------\u001b[0m",
      "\u001b[0;31mTypeError\u001b[0m                                 Traceback (most recent call last)",
      "\u001b[0;32m<ipython-input-96-e6f9718bd113>\u001b[0m in \u001b[0;36m<module>\u001b[0;34m\u001b[0m\n\u001b[0;32m----> 1\u001b[0;31m \u001b[0mmy_dict1\u001b[0m\u001b[0;34m.\u001b[0m\u001b[0mupdate\u001b[0m\u001b[0;34m(\u001b[0m\u001b[0;36m1\u001b[0m\u001b[0;34m)\u001b[0m\u001b[0;34m\u001b[0m\u001b[0;34m\u001b[0m\u001b[0m\n\u001b[0m",
      "\u001b[0;31mTypeError\u001b[0m: 'int' object is not iterable"
     ]
    }
   ],
   "source": []
  },
  {
   "cell_type": "code",
   "execution_count": null,
   "id": "d4ebeda5-8b5f-4402-8c7a-917109de3fe0",
   "metadata": {},
   "outputs": [],
   "source": []
  }
 ],
 "metadata": {
  "kernelspec": {
   "display_name": "Python 3",
   "language": "python",
   "name": "python3"
  },
  "language_info": {
   "codemirror_mode": {
    "name": "ipython",
    "version": 3
   },
   "file_extension": ".py",
   "mimetype": "text/x-python",
   "name": "python",
   "nbconvert_exporter": "python",
   "pygments_lexer": "ipython3",
   "version": "3.7.10"
  }
 },
 "nbformat": 4,
 "nbformat_minor": 5
}
