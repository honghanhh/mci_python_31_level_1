{
 "cells": [
  {
   "cell_type": "code",
   "execution_count": 1,
   "id": "fc0d1303",
   "metadata": {},
   "outputs": [
    {
     "data": {
      "text/plain": [
       "2"
      ]
     },
     "execution_count": 1,
     "metadata": {},
     "output_type": "execute_result"
    }
   ],
   "source": [
    "1+1"
   ]
  },
  {
   "cell_type": "markdown",
   "id": "0d24af21",
   "metadata": {},
   "source": [
    "hsds\n"
   ]
  },
  {
   "cell_type": "markdown",
   "id": "c6c72342",
   "metadata": {},
   "source": [
    "# heading 1"
   ]
  },
  {
   "cell_type": "markdown",
   "id": "b58a0663",
   "metadata": {},
   "source": [
    "*italic*"
   ]
  },
  {
   "cell_type": "markdown",
   "id": "ed1850c9",
   "metadata": {},
   "source": [
    "_italic"
   ]
  },
  {
   "cell_type": "markdown",
   "id": "4b4249e0",
   "metadata": {},
   "source": [
    "_ita_"
   ]
  },
  {
   "cell_type": "markdown",
   "id": "6fe5bcfb",
   "metadata": {},
   "source": [
    "**bold** __bold__"
   ]
  },
  {
   "cell_type": "markdown",
   "id": "f42ffcd9",
   "metadata": {},
   "source": [
    "***u***"
   ]
  },
  {
   "cell_type": "markdown",
   "id": "f0ece314",
   "metadata": {},
   "source": [
    "<ins> underline </ins>"
   ]
  },
  {
   "cell_type": "markdown",
   "id": "9cebcfc9",
   "metadata": {},
   "source": [
    "<p> this is a text </p>"
   ]
  },
  {
   "cell_type": "code",
   "execution_count": null,
   "id": "e5952bee",
   "metadata": {},
   "outputs": [],
   "source": []
  }
 ],
 "metadata": {
  "kernelspec": {
   "display_name": "Python 3",
   "language": "python",
   "name": "python3"
  },
  "language_info": {
   "codemirror_mode": {
    "name": "ipython",
    "version": 3
   },
   "file_extension": ".py",
   "mimetype": "text/x-python",
   "name": "python",
   "nbconvert_exporter": "python",
   "pygments_lexer": "ipython3",
   "version": "3.8.8"
  }
 },
 "nbformat": 4,
 "nbformat_minor": 5
}
