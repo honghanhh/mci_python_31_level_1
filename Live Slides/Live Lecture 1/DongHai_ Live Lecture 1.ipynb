{
 "cells": [
  {
   "cell_type": "markdown",
   "id": "286cb539",
   "metadata": {},
   "source": [
    "### Phim tat\n",
    "- Run a command: Shift + Enter (Windows) or Shift + Return (MacOS)\n",
    "- Convert cell code into markdown: Esc + m\n",
    "- Convert markdown cell into code cell: Esc + y\n",
    "- Move 1 cell above: a\n",
    "- Move 1 cell below: b"
   ]
  },
  {
   "cell_type": "markdown",
   "id": "673f8ecc",
   "metadata": {},
   "source": [
    "![](https://qph.fs.quoracdn.net/main-qimg-e7eaa6e92e42b3df3a851a961fdf7540)"
   ]
  },
  {
   "cell_type": "markdown",
   "id": "87e5de5f",
   "metadata": {},
   "source": [
    "# 1. Chapter 1"
   ]
  },
  {
   "cell_type": "markdown",
   "id": "be15c7ac",
   "metadata": {},
   "source": [
    "## 1.2 Section 1"
   ]
  },
  {
   "cell_type": "markdown",
   "id": "58761145",
   "metadata": {},
   "source": [
    "### 1.2.1 Part 1"
   ]
  },
  {
   "cell_type": "markdown",
   "id": "9154d6f5",
   "metadata": {},
   "source": [
    "*italics* _italics_"
   ]
  },
  {
   "cell_type": "markdown",
   "id": "6e0f10f1",
   "metadata": {},
   "source": [
    "**bold** __bold__"
   ]
  },
  {
   "cell_type": "code",
   "execution_count": null,
   "id": "03ef20e6",
   "metadata": {},
   "outputs": [],
   "source": []
  }
 ],
 "metadata": {
  "kernelspec": {
   "display_name": "Python 3",
   "language": "python",
   "name": "python3"
  },
  "language_info": {
   "codemirror_mode": {
    "name": "ipython",
    "version": 3
   },
   "file_extension": ".py",
   "mimetype": "text/x-python",
   "name": "python",
   "nbconvert_exporter": "python",
   "pygments_lexer": "ipython3",
   "version": "3.8.8"
  }
 },
 "nbformat": 4,
 "nbformat_minor": 5
}
