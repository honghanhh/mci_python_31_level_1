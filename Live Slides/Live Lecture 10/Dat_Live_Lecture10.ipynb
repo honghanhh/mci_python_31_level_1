{
 "cells": [
  {
   "cell_type": "markdown",
   "id": "beeb9772",
   "metadata": {},
   "source": [
    "# <center> LESSON 10: CAPSTONE PROJECTS </center>"
   ]
  },
  {
   "cell_type": "markdown",
   "id": "2d2b2e80",
   "metadata": {},
   "source": [
    "## 1: PYTHON'S FOUNDATION"
   ]
  },
  {
   "cell_type": "markdown",
   "id": "cb303add",
   "metadata": {},
   "source": [
    "#### Question 1.1: "
   ]
  },
  {
   "cell_type": "markdown",
   "id": "721fdb58",
   "metadata": {},
   "source": [
    "Given a string `s` consists of some words separated by spaces, return the length of the last word in the string. If the last word does not exist, return 0. A word is a maximal substring consisting of non-space characters only.\n",
    "\n",
    "|Input   |Function                                                    | Output|\n",
    "|-|-|-|\n",
    "|`s=\"Hello World\"` |Check the last word `World` has how many characters?|   5   |\n",
    "|`s=\" \"`           |Check the last word ` ` has how many characters?    |   0   |"
   ]
  },
  {
   "cell_type": "code",
   "execution_count": null,
   "id": "ff511095",
   "metadata": {},
   "outputs": [],
   "source": [
    "\n",
    "def len_last_word(s):\n",
    "    counter = 0\n",
    "    s = s.strip() # \" Hello\" -> \"Hello\"\n",
    "    # Your code here\n",
    "    #conition \n",
    "    for i in range(len(s)):\n",
    "        if s[i] == \" \":\n",
    "            counter = 0\n",
    "        else:\n",
    "            counter += 1\n",
    "    return counter"
   ]
  },
  {
   "cell_type": "code",
   "execution_count": null,
   "id": "f8b81c40",
   "metadata": {},
   "outputs": [],
   "source": [
    "def len_last_word_new_method(s):\n",
    "    counter = 0\n",
    "    for x in s:\n",
    "        if x.isalpha() == True:\n",
    "            counter+=1\n",
    "        elif x.isspace() == True:\n",
    "            counter = 0 #Take the lastword\n",
    "    return counter"
   ]
  },
  {
   "cell_type": "code",
   "execution_count": null,
   "id": "2cea2748",
   "metadata": {},
   "outputs": [],
   "source": [
    "s = \"Hello World\"\n",
    "len_last_word_new_method(s)"
   ]
  },
  {
   "cell_type": "code",
   "execution_count": null,
   "id": "b848a16d",
   "metadata": {},
   "outputs": [],
   "source": [
    "s = \"Hello World\"\n",
    "assert len_last_word(s) == 5, \"Wrong answer, please calculate again\"\n",
    "\n",
    "s = \" \"\n",
    "assert len_last_word(s) == 0, \"Wrong answer, please calculate again\""
   ]
  },
  {
   "cell_type": "markdown",
   "id": "73c70db9",
   "metadata": {},
   "source": [
    "#### Question 1.2: "
   ]
  },
  {
   "cell_type": "markdown",
   "id": "e8c34e3d",
   "metadata": {},
   "source": [
    "An integer `d` is a divisor of an integer `n` if `n % d = 0`.\n",
    "Given an integer `n`, count the number of `d` occuring within the integer.\n",
    "\n",
    "**Examples**:\n",
    "\n",
    "|Input   |Function                                        | Output|\n",
    "|-|-|-|\n",
    "|`n=124` |Check if `1`,`2`, and `4`  are divisors of `124`|   3   |\n",
    "|`n=100` |Check if `1` and `0` are divisors of `100`      |   1   |\n",
    "|`n=13`  |Check if `1`  and `3`  are divisors of `13`     |   1   |\n",
    "\n",
    "Hints: using `loops` (i.e `for`, ...) or `comprehension`. "
   ]
  },
  {
   "cell_type": "code",
   "execution_count": null,
   "id": "fecaa74d",
   "metadata": {},
   "outputs": [],
   "source": [
    "import numpy as np\n",
    "def find_digits(n): \n",
    "    counter = 0\n",
    "    if n <10:\n",
    "        counter = 1\n",
    "    else:\n",
    "        list_check = list(int(x) for x in str(n))\n",
    "        #print(type(list_check))\n",
    "        #print(list_check)\n",
    "        counter = 0\n",
    "        for i in range(0,len(list_check)):\n",
    "            #print(i)\n",
    "            if list_check[i] == 0:\n",
    "                counter = counter\n",
    "            elif n % list_check[i] == 0:\n",
    "                counter += 1\n",
    "                i = i + 1\n",
    "    return counter"
   ]
  },
  {
   "cell_type": "code",
   "execution_count": null,
   "id": "be0ed517",
   "metadata": {},
   "outputs": [],
   "source": [
    "def find_digits(n): \n",
    "    counter = 0\n",
    "    x= [int(x) for x in set(str(n))]\n",
    "    for i in x:\n",
    "        if i == 0:\n",
    "            counter = counter\n",
    "        elif (i !=0) & (n%i == 0) :\n",
    "                counter +=1\n",
    "    return counter"
   ]
  },
  {
   "cell_type": "code",
   "execution_count": null,
   "id": "93283bf3",
   "metadata": {},
   "outputs": [],
   "source": [
    "find_digits(100)"
   ]
  },
  {
   "cell_type": "code",
   "execution_count": null,
   "id": "4922c742",
   "metadata": {},
   "outputs": [],
   "source": [
    "n = 124\n",
    "assert find_digits(n) == 3, \"Wrong answer, please calculate again\"\n",
    "\n",
    "n = 100\n",
    "assert find_digits(n) == 1, \"Wrong answer, please calculate again\"\n",
    "\n",
    "n = 13\n",
    "assert find_digits(n) == 1, \"Wrong answer, please calculate again\""
   ]
  },
  {
   "cell_type": "markdown",
   "id": "2a8e4cb6",
   "metadata": {},
   "source": [
    "## 2: NUMPY, PANDAS"
   ]
  },
  {
   "cell_type": "markdown",
   "id": "4e171e72",
   "metadata": {},
   "source": [
    "### Question 1.2: NumPy"
   ]
  },
  {
   "cell_type": "markdown",
   "id": "796cbfbc",
   "metadata": {},
   "source": [
    "Given an array of 2 dimension `A`, return the minimum value of the second dimension.\n",
    "For examples:\n",
    "\n",
    "|Input|Output|\n",
    "|-|-|\n",
    "|```A = np.array([[2, 59],[3, 17], [1, 33], [45, 0]])```|`[2 3 1 0]`|\n",
    "|```A = np.array([[22, 21],[35, 1], [12, 3], [5, 80]])```|`[21 1 3 5]`|"
   ]
  },
  {
   "cell_type": "code",
   "execution_count": null,
   "id": "27d19dc0",
   "metadata": {},
   "outputs": [],
   "source": [
    "import numpy as np\n",
    "def min_value(A):\n",
    "    result= []\n",
    "    for i in range(len(A)):\n",
    "        result.append(min(A[i]))\n",
    "    return result"
   ]
  },
  {
   "cell_type": "code",
   "execution_count": null,
   "id": "01c717aa",
   "metadata": {},
   "outputs": [],
   "source": [
    "A = np.array([[2, 5], [3, 7], [1, 3], [4, 0]])\n",
    "min_value(A) #np.array([2, 3, 1, 0])"
   ]
  },
  {
   "cell_type": "markdown",
   "id": "cff3a40b",
   "metadata": {},
   "source": [
    "### Question 2.2: Pandas"
   ]
  },
  {
   "cell_type": "markdown",
   "id": "28cb43cc",
   "metadata": {},
   "source": [
    "#### Step 1. Import the necessary libraries"
   ]
  },
  {
   "cell_type": "code",
   "execution_count": null,
   "id": "81364cb4",
   "metadata": {},
   "outputs": [],
   "source": [
    "import pandas as pd"
   ]
  },
  {
   "cell_type": "markdown",
   "id": "fbd03d50",
   "metadata": {
    "jp-MarkdownHeadingCollapsed": true,
    "tags": []
   },
   "source": [
    "#### Step 2. Import the dataset from this [address](https://raw.githubusercontent.com/justmarkham/DAT8/master/data/u.user) and assign it to a variable called `users`. "
   ]
  },
  {
   "cell_type": "code",
   "execution_count": null,
   "id": "cd6f72b9",
   "metadata": {},
   "outputs": [],
   "source": [
    "url = 'https://raw.githubusercontent.com/justmarkham/DAT8/master/data/u.user'"
   ]
  },
  {
   "cell_type": "code",
   "execution_count": null,
   "id": "eb0807e3",
   "metadata": {},
   "outputs": [],
   "source": [
    "users = pd.read_csv(url,sep='|')#separated\n",
    "users.head()"
   ]
  },
  {
   "cell_type": "markdown",
   "id": "602f753c",
   "metadata": {},
   "source": [
    "#### Step 3. Select all records of women whose age is between 20 and 30 that work as technician."
   ]
  },
  {
   "cell_type": "code",
   "execution_count": null,
   "id": "c2cf6642",
   "metadata": {},
   "outputs": [],
   "source": [
    "users[(users.age > 20) & (users.age < 30) & (users.gender == 'M') & (users.occupation == 'technician') ]"
   ]
  },
  {
   "cell_type": "code",
   "execution_count": null,
   "id": "79670380-1386-4e33-a0f3-73857635c56c",
   "metadata": {},
   "outputs": [],
   "source": [
    "condition1=users.age>20"
   ]
  },
  {
   "cell_type": "code",
   "execution_count": null,
   "id": "459ff37e-5d7e-4bf4-987e-14f4c9fe156a",
   "metadata": {},
   "outputs": [],
   "source": [
    "users[condition1].head()"
   ]
  },
  {
   "cell_type": "markdown",
   "id": "52952038",
   "metadata": {},
   "source": [
    "#### Step 4. For each occupation, calculate the minimum and maximum ages"
   ]
  },
  {
   "cell_type": "code",
   "execution_count": null,
   "id": "0b5a702e-8109-4a05-b755-b5136aae61dd",
   "metadata": {},
   "outputs": [],
   "source": [
    "objects=['age','gender']"
   ]
  },
  {
   "cell_type": "code",
   "execution_count": null,
   "id": "902f57f0-2afa-4198-b200-ca06a8ce5284",
   "metadata": {},
   "outputs": [],
   "source": [
    "users.groupby(objects).head()"
   ]
  },
  {
   "cell_type": "code",
   "execution_count": null,
   "id": "25d17224",
   "metadata": {},
   "outputs": [],
   "source": [
    "users.groupby('occupation').age.max().to_list()"
   ]
  },
  {
   "cell_type": "code",
   "execution_count": null,
   "id": "2342971c",
   "metadata": {},
   "outputs": [],
   "source": [
    "users.groupby('occupation').age.min()"
   ]
  },
  {
   "cell_type": "markdown",
   "id": "6420d3c5",
   "metadata": {},
   "source": [
    "## 3: VISUALIZATION"
   ]
  },
  {
   "cell_type": "markdown",
   "id": "1db5b464",
   "metadata": {},
   "source": [
    "#### Step 1. Import the necessary libraries (seaborn, matplotlib)"
   ]
  },
  {
   "cell_type": "code",
   "execution_count": null,
   "id": "d91a854d",
   "metadata": {},
   "outputs": [],
   "source": [
    "import seaborn as sns\n",
    "import matplotlib.pyplot as plt"
   ]
  },
  {
   "cell_type": "markdown",
   "id": "f406a05f",
   "metadata": {},
   "source": [
    "#### Step 2. Import the dataset `titanic` from `sns.load_dataset()` and assign it to a variable called `titanic`."
   ]
  },
  {
   "cell_type": "code",
   "execution_count": null,
   "id": "cedb9f0d-95e5-4d66-a17b-38d403c941db",
   "metadata": {},
   "outputs": [],
   "source": [
    "import pandas as pd \n",
    "import seaborn as sns\n",
    "import matplotlib.pyplot as plt "
   ]
  },
  {
   "cell_type": "code",
   "execution_count": null,
   "id": "5c9d3432-41b7-4fdc-9d40-f94a90254599",
   "metadata": {},
   "outputs": [],
   "source": [
    "!pip install sklearn"
   ]
  },
  {
   "cell_type": "code",
   "execution_count": 47,
   "id": "ac43d9e5",
   "metadata": {},
   "outputs": [
    {
     "data": {
      "text/html": [
       "<div>\n",
       "<style scoped>\n",
       "    .dataframe tbody tr th:only-of-type {\n",
       "        vertical-align: middle;\n",
       "    }\n",
       "\n",
       "    .dataframe tbody tr th {\n",
       "        vertical-align: top;\n",
       "    }\n",
       "\n",
       "    .dataframe thead th {\n",
       "        text-align: right;\n",
       "    }\n",
       "</style>\n",
       "<table border=\"1\" class=\"dataframe\">\n",
       "  <thead>\n",
       "    <tr style=\"text-align: right;\">\n",
       "      <th></th>\n",
       "      <th>survived</th>\n",
       "      <th>pclass</th>\n",
       "      <th>sex</th>\n",
       "      <th>age</th>\n",
       "      <th>sibsp</th>\n",
       "      <th>parch</th>\n",
       "      <th>fare</th>\n",
       "      <th>embarked</th>\n",
       "      <th>class</th>\n",
       "      <th>who</th>\n",
       "      <th>adult_male</th>\n",
       "      <th>deck</th>\n",
       "      <th>embark_town</th>\n",
       "      <th>alive</th>\n",
       "      <th>alone</th>\n",
       "    </tr>\n",
       "  </thead>\n",
       "  <tbody>\n",
       "    <tr>\n",
       "      <th>0</th>\n",
       "      <td>0</td>\n",
       "      <td>3</td>\n",
       "      <td>male</td>\n",
       "      <td>22.0</td>\n",
       "      <td>1</td>\n",
       "      <td>0</td>\n",
       "      <td>7.2500</td>\n",
       "      <td>S</td>\n",
       "      <td>Third</td>\n",
       "      <td>man</td>\n",
       "      <td>True</td>\n",
       "      <td>NaN</td>\n",
       "      <td>Southampton</td>\n",
       "      <td>no</td>\n",
       "      <td>False</td>\n",
       "    </tr>\n",
       "    <tr>\n",
       "      <th>1</th>\n",
       "      <td>1</td>\n",
       "      <td>1</td>\n",
       "      <td>female</td>\n",
       "      <td>38.0</td>\n",
       "      <td>1</td>\n",
       "      <td>0</td>\n",
       "      <td>71.2833</td>\n",
       "      <td>C</td>\n",
       "      <td>First</td>\n",
       "      <td>woman</td>\n",
       "      <td>False</td>\n",
       "      <td>C</td>\n",
       "      <td>Cherbourg</td>\n",
       "      <td>yes</td>\n",
       "      <td>False</td>\n",
       "    </tr>\n",
       "    <tr>\n",
       "      <th>2</th>\n",
       "      <td>1</td>\n",
       "      <td>3</td>\n",
       "      <td>female</td>\n",
       "      <td>26.0</td>\n",
       "      <td>0</td>\n",
       "      <td>0</td>\n",
       "      <td>7.9250</td>\n",
       "      <td>S</td>\n",
       "      <td>Third</td>\n",
       "      <td>woman</td>\n",
       "      <td>False</td>\n",
       "      <td>NaN</td>\n",
       "      <td>Southampton</td>\n",
       "      <td>yes</td>\n",
       "      <td>True</td>\n",
       "    </tr>\n",
       "    <tr>\n",
       "      <th>3</th>\n",
       "      <td>1</td>\n",
       "      <td>1</td>\n",
       "      <td>female</td>\n",
       "      <td>35.0</td>\n",
       "      <td>1</td>\n",
       "      <td>0</td>\n",
       "      <td>53.1000</td>\n",
       "      <td>S</td>\n",
       "      <td>First</td>\n",
       "      <td>woman</td>\n",
       "      <td>False</td>\n",
       "      <td>C</td>\n",
       "      <td>Southampton</td>\n",
       "      <td>yes</td>\n",
       "      <td>False</td>\n",
       "    </tr>\n",
       "    <tr>\n",
       "      <th>4</th>\n",
       "      <td>0</td>\n",
       "      <td>3</td>\n",
       "      <td>male</td>\n",
       "      <td>35.0</td>\n",
       "      <td>0</td>\n",
       "      <td>0</td>\n",
       "      <td>8.0500</td>\n",
       "      <td>S</td>\n",
       "      <td>Third</td>\n",
       "      <td>man</td>\n",
       "      <td>True</td>\n",
       "      <td>NaN</td>\n",
       "      <td>Southampton</td>\n",
       "      <td>no</td>\n",
       "      <td>True</td>\n",
       "    </tr>\n",
       "  </tbody>\n",
       "</table>\n",
       "</div>"
      ],
      "text/plain": [
       "   survived  pclass     sex   age  sibsp  parch     fare embarked  class  \\\n",
       "0         0       3    male  22.0      1      0   7.2500        S  Third   \n",
       "1         1       1  female  38.0      1      0  71.2833        C  First   \n",
       "2         1       3  female  26.0      0      0   7.9250        S  Third   \n",
       "3         1       1  female  35.0      1      0  53.1000        S  First   \n",
       "4         0       3    male  35.0      0      0   8.0500        S  Third   \n",
       "\n",
       "     who  adult_male deck  embark_town alive  alone  \n",
       "0    man        True  NaN  Southampton    no  False  \n",
       "1  woman       False    C    Cherbourg   yes  False  \n",
       "2  woman       False  NaN  Southampton   yes   True  \n",
       "3  woman       False    C  Southampton   yes  False  \n",
       "4    man        True  NaN  Southampton    no   True  "
      ]
     },
     "execution_count": 47,
     "metadata": {},
     "output_type": "execute_result"
    }
   ],
   "source": [
    "titanic = sns.load_dataset('titanic')\n",
    "titanic.head()"
   ]
  },
  {
   "cell_type": "markdown",
   "id": "7b4a531b",
   "metadata": {},
   "source": [
    "#### Step 3: Plot distribution of 'fare' using `sns.histplot()`"
   ]
  },
  {
   "cell_type": "code",
   "execution_count": 52,
   "id": "b0550370",
   "metadata": {},
   "outputs": [
    {
     "data": {
      "image/png": "[encoded data removed]",
      "text/plain": [
       "<Figure size 432x288 with 1 Axes>"
      ]
     },
     "metadata": {
      "needs_background": "light"
     },
     "output_type": "display_data"
    }
   ],
   "source": [
    "sns.boxplot(x='class',y='age',data=titanic, palette='rainbow'); \n",
    "plt.title(\"Plot distribution of 'fare'\");"
   ]
  },
  {
   "cell_type": "code",
   "execution_count": 56,
   "id": "d3dafcfc-e6bf-4c05-9c2c-d8e31838340e",
   "metadata": {},
   "outputs": [
    {
     "data": {
      "image/png": "[encoded data removed]",
      "text/plain": [
       "<Figure size 432x288 with 1 Axes>"
      ]
     },
     "metadata": {
      "needs_background": "light"
     },
     "output_type": "display_data"
    }
   ],
   "source": [
    "sns.boxplot(data = titanic, x='sex', y='age')\n",
    "plt.show()"
   ]
  },
  {
   "cell_type": "markdown",
   "id": "5d159385",
   "metadata": {},
   "source": [
    "#### Step 4: Plot distribution of 'age' with 3 difference `class` using `sns.boxplot()`"
   ]
  },
  {
   "cell_type": "code",
   "execution_count": null,
   "id": "420985e9",
   "metadata": {},
   "outputs": [],
   "source": [
    "titanic.info()"
   ]
  },
  {
   "cell_type": "code",
   "execution_count": 62,
   "id": "22225672-b54e-4c14-a87e-1bb0d2cffe8b",
   "metadata": {},
   "outputs": [
    {
     "data": {
      "image/png": "[encoded data removed]",
      "text/plain": [
       "<Figure size 432x288 with 2 Axes>"
      ]
     },
     "metadata": {
      "needs_background": "light"
     },
     "output_type": "display_data"
    }
   ],
   "source": [
    "sns.heatmap(titanic.corr(),annot=True,cmap=\"YlGnBu\",fmt='.2g')\n",
    "plt.show()"
   ]
  },
  {
   "cell_type": "code",
   "execution_count": null,
   "id": "28dfbd2b",
   "metadata": {},
   "outputs": [],
   "source": [
    "plt.figure(figsize=(7,5))\n",
    "sns.boxplot(data = titanic, y = titanic['age'], x = titanic['class'], width = 0.4);\n",
    "plt.title('The distribution of age with 3 difference class using sns.boxplot()')"
   ]
  },
  {
   "cell_type": "markdown",
   "id": "9a56eecf",
   "metadata": {},
   "source": [
    "#### Step 5: Plot correlation matrix using `sns.heatmap()`"
   ]
  },
  {
   "cell_type": "code",
   "execution_count": null,
   "id": "30a7ba87",
   "metadata": {},
   "outputs": [],
   "source": [
    "plt.figure(figsize=(10,10))\n",
    "sns.heatmap(data = titanic.corr(), annot=True)\n",
    "plt.title(' Plot correlation matrix using sns.heatmap')"
   ]
  },
  {
   "cell_type": "markdown",
   "id": "e2f165b5",
   "metadata": {},
   "source": [
    "## 4: MACHINE LEARNING with PIMA INDIANS DIABETES DATASET"
   ]
  },
  {
   "cell_type": "markdown",
   "id": "68ee2ab1",
   "metadata": {},
   "source": [
    "The Pima Indian Diabetes Dataset, originally from the National Institute of Diabetes and Digestive and Kidney Diseases, contains information of 768 women from a population near Phoenix, Arizona, USA. The outcome tested was Diabetes, 258 tested positive and 500 tested negative. Therefore, there is one target (dependent) variable `Outcome` and the following attributes (TYNECKI, 2018):\n",
    "\n",
    "|        Features        |Descriptions|\n",
    "|           -            |-|\n",
    "|Pregnancies             |Number of times pregnant|\n",
    "|Glucose                 |Oral glucose tolerance test - OGTT (two hour plasma glucose concentration after 75g anhydrous glucose in mg/dl)|\n",
    "|BloodPressure           |Blood Pressure (Diastolic Blood Pressure in mmHg)|\n",
    "|SkinThickness           |Skin Thickness (Triceps skin fold thickness in mm)|\n",
    "|Insulin                 |Insulin (2 h serum insulin in mu U/ml)|\n",
    "|BMI                     |BMI (Body Mass Index in kg/m2)|\n",
    "|DiabetesPedigreeFunction| Pedigree Diabetes Function ('function that represents how likely they are to get the disease by extrapolating from their ancestor’s history')|\n",
    "|Age                     |Age (years)|\n",
    "\n",
    "\n",
    "The objective of this capstone project is to use Machine Learning (e.g, logistic regression, svm, random forest, ...) to predict whether a patient has diabetes or not (binary classification) given 7 features mentionned above. "
   ]
  },
  {
   "cell_type": "markdown",
   "id": "d9560b81",
   "metadata": {},
   "source": [
    "#### Step 1. Import the necessary libraries (pandas, numpy, seaborn, sklearn)"
   ]
  },
  {
   "cell_type": "code",
   "execution_count": 65,
   "id": "50af3ee7",
   "metadata": {},
   "outputs": [],
   "source": [
    "import matplotlib.pyplot as plt\n",
    "import pandas as pd\n",
    "import numpy as np\n",
    "import seaborn as sns\n",
    "from sklearn.model_selection import train_test_split\n",
    "from sklearn.linear_model import LogisticRegression # Select model\n",
    "from sklearn.metrics import accuracy_score, confusion_matrix,plot_confusion_matrix, classification_report, plot_confusion_matrix\n",
    "from sklearn.svm import SVC"
   ]
  },
  {
   "cell_type": "markdown",
   "id": "4cc9e40e",
   "metadata": {},
   "source": [
    "#### Step 2. Import the dataset from this [address](https://raw.githubusercontent.com/npradaschnor/Pima-Indians-Diabetes-Dataset/master/diabetes.csv) and assign it to a variable called `pima`. "
   ]
  },
  {
   "cell_type": "code",
   "execution_count": null,
   "id": "5389d578",
   "metadata": {},
   "outputs": [],
   "source": [
    "url = 'https://raw.githubusercontent.com/npradaschnor/Pima-Indians-Diabetes-Dataset/master/diabetes.csv'\n",
    "pima = pd.read_csv(url, sep=',')\n",
    "pima.head(5)"
   ]
  },
  {
   "cell_type": "markdown",
   "id": "954433e3",
   "metadata": {},
   "source": [
    "#### Step 3. Check the DataFrame Information, Descriptive Statistics and Analysis of dataset\n",
    "**Hints**: Check dimension of the data, data type for each attribute, describe the distribution for each attribute, the percentage of missing values, detect ouliers, ..."
   ]
  },
  {
   "cell_type": "code",
   "execution_count": null,
   "id": "6c51cda4",
   "metadata": {},
   "outputs": [],
   "source": [
    "pima.info()\n",
    "pima.shape"
   ]
  },
  {
   "cell_type": "markdown",
   "id": "cf9454c6",
   "metadata": {},
   "source": [
    "#### Step 4. EDA & Visualization \n",
    "**Hints**: Plot attributes distributions, correlation, pairplot to find insights in attributes combinations, ..."
   ]
  },
  {
   "cell_type": "markdown",
   "id": "2d5d69a6",
   "metadata": {},
   "source": [
    "### 4.1.Distributions"
   ]
  },
  {
   "cell_type": "code",
   "execution_count": null,
   "id": "6929f5b7",
   "metadata": {},
   "outputs": [],
   "source": [
    "pima.hist(figsize=(10,10));#check the histogram"
   ]
  },
  {
   "cell_type": "markdown",
   "id": "656f81b1",
   "metadata": {},
   "source": [
    "### 4.2.Correlation"
   ]
  },
  {
   "cell_type": "code",
   "execution_count": null,
   "id": "83e1bacc",
   "metadata": {},
   "outputs": [],
   "source": [
    "plt.figure(figsize=(10,10))\n",
    "sns.heatmap(pima.corr(),annot = True) # tận dụng heatmap to show vizulization"
   ]
  },
  {
   "cell_type": "markdown",
   "id": "afbd0a0e",
   "metadata": {},
   "source": [
    "### 4.3. Pairplot"
   ]
  },
  {
   "cell_type": "code",
   "execution_count": null,
   "id": "7338faba",
   "metadata": {},
   "outputs": [],
   "source": [
    "sns.pairplot(data = pima, hue = 'Outcome');"
   ]
  },
  {
   "cell_type": "code",
   "execution_count": null,
   "id": "b063c868",
   "metadata": {},
   "outputs": [],
   "source": [
    "sns.pairplot(data = pima)"
   ]
  },
  {
   "cell_type": "markdown",
   "id": "3fdc6e6d",
   "metadata": {},
   "source": [
    "#### Step 5. Feature Engineering\n",
    "**Hints**: Handle missing values, outliers, transform original attributes to meaningful features,..."
   ]
  },
  {
   "cell_type": "code",
   "execution_count": null,
   "id": "09fd7b8a",
   "metadata": {},
   "outputs": [],
   "source": [
    "pima.isnull()"
   ]
  },
  {
   "cell_type": "code",
   "execution_count": null,
   "id": "0f5eb238",
   "metadata": {},
   "outputs": [],
   "source": [
    "pima.isnull().sum()/len(pima)"
   ]
  },
  {
   "cell_type": "code",
   "execution_count": null,
   "id": "890b081b",
   "metadata": {},
   "outputs": [],
   "source": [
    "pima = pima.dropna()\n",
    "pima.head()"
   ]
  },
  {
   "cell_type": "code",
   "execution_count": 67,
   "id": "95d3c78b",
   "metadata": {},
   "outputs": [],
   "source": [
    "#clean the data basing on normal distribution\n",
    "from collections import Counter\n",
    "def detect_outliers(df, n, features):\n",
    "    \"\"\"\n",
    "    Input:\n",
    "    df: DataFrame\n",
    "    features: list containing column names\n",
    "    \"\"\"\n",
    "    outlier_indices = []\n",
    "    \n",
    "    #Step1: iterate over features(columns)\n",
    "    for col in features:\n",
    "        # Step 2: Calculate 1st quantile (25%)\n",
    "        Q1 = np.percentile(df[col], 25)\n",
    "        \n",
    "        # Step 3: Calculate 3rd quantile (75%)\n",
    "        Q3 = np.percentile(df[col], 75)\n",
    "        \n",
    "        # Step 4: Calcualte IQR = Q3-Q1\n",
    "        IQR = Q3 - Q1\n",
    "        \n",
    "        # Step 5: Outlier step < Q1 - 1.5IQR, > Q3+ 1.5IQR\n",
    "        outlier_step = 1.5 * IQR\n",
    "        \n",
    "        # Step 6: Determine a list of indices of outlier for features (cols)\n",
    "        outlier_list_col = df[(df[col] < Q1 - 1.5*IQR) | (df[col] > Q3 + 1.5*IQR)].index\n",
    "        \n",
    "        # Step 7: Append [1, 2, 3], [2,3] => [1,2,3,[2,3]], extend [1,2,3,2,3]\n",
    "        outlier_indices.extend(outlier_list_col)\n",
    "    \n",
    "    # Select rows containing more than n outliers\n",
    "    outlier_indices = Counter(outlier_indices)\n",
    "    multiple_outliers = list(k for k,v in outlier_indices.items() if v > n) # Take k given v > n\n",
    "        \n",
    "    return multiple_outliers"
   ]
  },
  {
   "cell_type": "code",
   "execution_count": 68,
   "id": "7405abb0",
   "metadata": {},
   "outputs": [
    {
     "ename": "NameError",
     "evalue": "name 'pima' is not defined",
     "output_type": "error",
     "traceback": [
      "\u001b[0;31m---------------------------------------------------------------------------\u001b[0m",
      "\u001b[0;31mNameError\u001b[0m                                 Traceback (most recent call last)",
      "\u001b[0;32m/var/folders/t_/zcvqt4vn4zl31xrt94zl20440000gn/T/ipykernel_22952/821726714.py\u001b[0m in \u001b[0;36m<module>\u001b[0;34m\u001b[0m\n\u001b[0;32m----> 1\u001b[0;31m \u001b[0mpima\u001b[0m\u001b[0;34m.\u001b[0m\u001b[0mcolumns\u001b[0m\u001b[0;34m\u001b[0m\u001b[0m\n\u001b[0m",
      "\u001b[0;31mNameError\u001b[0m: name 'pima' is not defined"
     ]
    }
   ],
   "source": [
    "pima.columns"
   ]
  },
  {
   "cell_type": "code",
   "execution_count": 69,
   "id": "1d1a87f2",
   "metadata": {},
   "outputs": [],
   "source": [
    "features = ['Pregnancies', 'Glucose', 'BloodPressure', 'SkinThickness', 'Insulin',\n",
    "       'BMI', 'DiabetesPedigreeFunction', 'Age']"
   ]
  },
  {
   "cell_type": "code",
   "execution_count": 70,
   "id": "64f0c033",
   "metadata": {},
   "outputs": [
    {
     "ename": "NameError",
     "evalue": "name 'pima' is not defined",
     "output_type": "error",
     "traceback": [
      "\u001b[0;31m---------------------------------------------------------------------------\u001b[0m",
      "\u001b[0;31mNameError\u001b[0m                                 Traceback (most recent call last)",
      "\u001b[0;32m/var/folders/t_/zcvqt4vn4zl31xrt94zl20440000gn/T/ipykernel_22952/3537062929.py\u001b[0m in \u001b[0;36m<module>\u001b[0;34m\u001b[0m\n\u001b[0;32m----> 1\u001b[0;31m \u001b[0moutliers_to_drop\u001b[0m \u001b[0;34m=\u001b[0m \u001b[0mdetect_outliers\u001b[0m\u001b[0;34m(\u001b[0m\u001b[0mpima\u001b[0m\u001b[0;34m,\u001b[0m \u001b[0;36m3\u001b[0m\u001b[0;34m,\u001b[0m \u001b[0mfeatures\u001b[0m\u001b[0;34m)\u001b[0m\u001b[0;34m\u001b[0m\u001b[0m\n\u001b[0m",
      "\u001b[0;31mNameError\u001b[0m: name 'pima' is not defined"
     ]
    }
   ],
   "source": [
    "outliers_to_drop = detect_outliers(pima, 3, features)"
   ]
  },
  {
   "cell_type": "code",
   "execution_count": 71,
   "id": "f85ae92a",
   "metadata": {},
   "outputs": [
    {
     "ename": "NameError",
     "evalue": "name 'pima' is not defined",
     "output_type": "error",
     "traceback": [
      "\u001b[0;31m---------------------------------------------------------------------------\u001b[0m",
      "\u001b[0;31mNameError\u001b[0m                                 Traceback (most recent call last)",
      "\u001b[0;32m/var/folders/t_/zcvqt4vn4zl31xrt94zl20440000gn/T/ipykernel_22952/2736930415.py\u001b[0m in \u001b[0;36m<module>\u001b[0;34m\u001b[0m\n\u001b[0;32m----> 1\u001b[0;31m \u001b[0mlen\u001b[0m\u001b[0;34m(\u001b[0m\u001b[0mpima\u001b[0m\u001b[0;34m)\u001b[0m\u001b[0;34m,\u001b[0m \u001b[0mlen\u001b[0m\u001b[0;34m(\u001b[0m\u001b[0moutliers_to_drop\u001b[0m\u001b[0;34m)\u001b[0m\u001b[0;34m\u001b[0m\u001b[0m\n\u001b[0m",
      "\u001b[0;31mNameError\u001b[0m: name 'pima' is not defined"
     ]
    }
   ],
   "source": [
    "len(pima), len(outliers_to_drop)"
   ]
  },
  {
   "cell_type": "code",
   "execution_count": null,
   "id": "d9b6da20",
   "metadata": {},
   "outputs": [],
   "source": [
    "outliers_to_drop = detect_outliers(pima, 2, features)\n",
    "len(pima), len(outliers_to_drop)"
   ]
  },
  {
   "cell_type": "code",
   "execution_count": null,
   "id": "77d9f6f6",
   "metadata": {},
   "outputs": [],
   "source": [
    "outliers_to_drop = detect_outliers(pima, 1, features)\n",
    "len(pima), len(outliers_to_drop)"
   ]
  },
  {
   "cell_type": "code",
   "execution_count": null,
   "id": "e9a306ac",
   "metadata": {},
   "outputs": [],
   "source": [
    "'''\n",
    "pima = pima.drop(outliers_to_drop, axis = 0) #drop the row with axis =0\n",
    "pima.head()\n",
    "'''\n",
    "pima = pima#verygood distribution"
   ]
  },
  {
   "cell_type": "code",
   "execution_count": null,
   "id": "0b1ac56c",
   "metadata": {},
   "outputs": [],
   "source": [
    "dataset= pima\n",
    "dataset.head()\n",
    "dataset.info()"
   ]
  },
  {
   "cell_type": "markdown",
   "id": "a31d949e",
   "metadata": {},
   "source": [
    "#### Step 6. Train models\n",
    "**Hints**: `LogisticRegression`, `SVM`,...\n",
    "\n"
   ]
  },
  {
   "cell_type": "code",
   "execution_count": null,
   "id": "ba123a2e",
   "metadata": {},
   "outputs": [],
   "source": [
    "#Target 'Outcome'\n",
    "X_dataset = dataset.drop(columns = 'Outcome')\n",
    "Y_dataset = dataset.Outcome\n",
    "X_dataset.head()\n",
    "Y_dataset.head()"
   ]
  },
  {
   "cell_type": "code",
   "execution_count": null,
   "id": "45eaea68",
   "metadata": {},
   "outputs": [],
   "source": [
    "x_train, x_test, y_train, y_test = train_test_split(X_dataset,Y_dataset, test_size=0.2, random_state = 42) #42 just random and pls keep it until done\n",
    "\n",
    "#We can update the random value basing on the maxiumum target of model_acurracy\n",
    "'''\n",
    "for j in range(len(dataset):\n",
    "\n",
    "            X_train, X_test, y_train, y_test = train_test_split(X, y , random_state =j,     test_size=0.35)\n",
    "            lr = LarsCV().fit(X_train, y_train)\n",
    "\n",
    "            tr_score.append(lr.score(X_train, y_train))\n",
    "            ts_score.append(lr.score(X_test, y_test))\n",
    "\n",
    "        J = ts_score.index(np.max(ts_score))\n",
    "\n",
    "        X_train, X_test, y_train, y_test = train_test_split(X, y , random_state =J, test_size=0.35)\n",
    "        M = LarsCV().fit(X_train, y_train)\n",
    "        y_pred = M.predict(X_test)`\n",
    "'''"
   ]
  },
  {
   "cell_type": "code",
   "execution_count": null,
   "id": "49876f9d",
   "metadata": {},
   "outputs": [],
   "source": [
    "#Create the model instance\n",
    "model_logisticregression= LogisticRegression(max_iter = 1000)\n",
    "model_svc = SVC()"
   ]
  },
  {
   "cell_type": "code",
   "execution_count": null,
   "id": "bc67bcae",
   "metadata": {},
   "outputs": [],
   "source": [
    "#Fit data into model \n",
    "model_logisticregression.fit(x_train,y_train)\n",
    "model_svc.fit(x_train,y_train)"
   ]
  },
  {
   "cell_type": "markdown",
   "id": "ba0781c7",
   "metadata": {},
   "source": [
    "#### Step 7. Predict on new data"
   ]
  },
  {
   "cell_type": "code",
   "execution_count": null,
   "id": "8e3644c8",
   "metadata": {},
   "outputs": [],
   "source": [
    "y_pred_logisticregression = model_logisticregression.predict(x_test)\n",
    "y_pred_logisticregression\n",
    "y_pred_svc = model_logisticregression.predict(x_test)\n",
    "y_pred_svc"
   ]
  },
  {
   "cell_type": "markdown",
   "id": "7b040dc7",
   "metadata": {},
   "source": [
    "#### Step 8. Evaluate the model\n",
    "**Hints**: Suggested metrics include `accuracy_score`, `confusion_matrix`,`classification_report`,..."
   ]
  },
  {
   "cell_type": "code",
   "execution_count": null,
   "id": "ae3a33e7",
   "metadata": {},
   "outputs": [],
   "source": [
    "accuracy_score(y_test,y_pred_svc)"
   ]
  },
  {
   "cell_type": "code",
   "execution_count": null,
   "id": "49faed91",
   "metadata": {},
   "outputs": [],
   "source": [
    "accuracy_score(y_test,y_pred_logisticregression)"
   ]
  },
  {
   "cell_type": "code",
   "execution_count": null,
   "id": "c536181d",
   "metadata": {},
   "outputs": [],
   "source": [
    "confusion_matrix(y_test,y_pred_svc)"
   ]
  },
  {
   "cell_type": "code",
   "execution_count": null,
   "id": "71b2e19e",
   "metadata": {},
   "outputs": [],
   "source": [
    "confusion_matrix(y_test,y_pred_logisticregression)"
   ]
  },
  {
   "cell_type": "code",
   "execution_count": null,
   "id": "fb5a125f",
   "metadata": {},
   "outputs": [],
   "source": [
    "plt.figure(figsize= (20,10))\n",
    "plot_confusion_matrix(model_svc,x_test,y_test);"
   ]
  },
  {
   "cell_type": "code",
   "execution_count": null,
   "id": "9cc303e3",
   "metadata": {},
   "outputs": [],
   "source": [
    "plt.figure(figsize= (20,10))\n",
    "plot_confusion_matrix(model_logisticregression,x_test,y_test);"
   ]
  },
  {
   "cell_type": "code",
   "execution_count": null,
   "id": "298ff98e",
   "metadata": {},
   "outputs": [],
   "source": [
    "print(classification_report(y_test,y_pred_logisticregression))"
   ]
  },
  {
   "cell_type": "code",
   "execution_count": null,
   "id": "382b08b1",
   "metadata": {},
   "outputs": [],
   "source": [
    "print(classification_report(y_test,y_pred_svc))"
   ]
  }
 ],
 "metadata": {
  "kernelspec": {
   "display_name": "Python 3 (ipykernel)",
   "language": "python",
   "name": "python3"
  },
  "language_info": {
   "codemirror_mode": {
    "name": "ipython",
    "version": 3
   },
   "file_extension": ".py",
   "mimetype": "text/x-python",
   "name": "python",
   "nbconvert_exporter": "python",
   "pygments_lexer": "ipython3",
   "version": "3.7.0"
  }
 },
 "nbformat": 4,
 "nbformat_minor": 5
}
