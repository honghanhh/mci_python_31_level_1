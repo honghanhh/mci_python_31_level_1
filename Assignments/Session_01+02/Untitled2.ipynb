{
 "cells": [
  {
   "cell_type": "markdown",
   "id": "cf1a9dae-2c81-4363-8656-745c53bfd318",
   "metadata": {},
   "source": [
    "![](https://gamek.mediacdn.vn/133514250583805952/2021/6/9/photo-1-16232229002241474687644.jpg)"
   ]
  },
  {
   "cell_type": "markdown",
   "id": "b9166896-161e-4f10-b95c-725a1995ecbd",
   "metadata": {},
   "source": [
    "##Yua Mikami"
   ]
  },
  {
   "cell_type": "code",
   "execution_count": 5,
   "id": "eed53c23-583b-4d8f-a63d-79267f2837e8",
   "metadata": {},
   "outputs": [],
   "source": [
    "#Yua Mikami"
   ]
  },
  {
   "cell_type": "markdown",
   "id": "7a155581-58cb-4f20-bf41-0926d5b19fe6",
   "metadata": {},
   "source": []
  },
  {
   "cell_type": "code",
   "execution_count": 7,
   "id": "dbba952c-4d6a-4c22-83a5-10420f5184cd",
   "metadata": {},
   "outputs": [
    {
     "ename": "SyntaxError",
     "evalue": "invalid syntax (<ipython-input-7-28514be0f898>, line 1)",
     "output_type": "error",
     "traceback": [
      "\u001b[1;36m  File \u001b[1;32m\"<ipython-input-7-28514be0f898>\"\u001b[1;36m, line \u001b[1;32m1\u001b[0m\n\u001b[1;33m    *Yua Mikami\u001b[0m\n\u001b[1;37m              ^\u001b[0m\n\u001b[1;31mSyntaxError\u001b[0m\u001b[1;31m:\u001b[0m invalid syntax\n"
     ]
    }
   ],
   "source": [
    "*Yua Mikami"
   ]
  },
  {
   "cell_type": "markdown",
   "id": "4e109d3f-e9a3-44f8-9f5b-8d2523d9866b",
   "metadata": {},
   "source": []
  }
 ],
 "metadata": {
  "kernelspec": {
   "display_name": "Python 3",
   "language": "python",
   "name": "python3"
  },
  "language_info": {
   "codemirror_mode": {
    "name": "ipython",
    "version": 3
   },
   "file_extension": ".py",
   "mimetype": "text/x-python",
   "name": "python",
   "nbconvert_exporter": "python",
   "pygments_lexer": "ipython3",
   "version": "3.7.0"
  }
 },
 "nbformat": 4,
 "nbformat_minor": 5
}
