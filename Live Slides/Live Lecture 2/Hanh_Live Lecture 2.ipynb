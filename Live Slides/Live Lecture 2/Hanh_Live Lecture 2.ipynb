{
 "cells": [
  {
   "cell_type": "markdown",
   "id": "edb9b0d5",
   "metadata": {},
   "source": [
    "![](https://i.ytimg.com/vi/bVOHeROLNyQ/maxresdefault.jpg)"
   ]
  },
  {
   "cell_type": "markdown",
   "id": "c1d182e6-3239-4517-86b7-c2bce677319d",
   "metadata": {},
   "source": [
    "## 1. Python"
   ]
  },
  {
   "cell_type": "markdown",
   "id": "354b3132-d24d-4313-8a60-9262e600b003",
   "metadata": {},
   "source": [
    "- Intepreter - Python\n",
    "- Compiler - C, C++, Java"
   ]
  },
  {
   "cell_type": "code",
   "execution_count": 1,
   "id": "0cb31b69-b04e-4fa2-aac1-e98b56f5a2bd",
   "metadata": {},
   "outputs": [
    {
     "name": "stdout",
     "output_type": "stream",
     "text": [
      "Hello, world!\n"
     ]
    }
   ],
   "source": [
    "print('Hello, world!')"
   ]
  },
  {
   "cell_type": "code",
   "execution_count": 2,
   "id": "e32751da-e19e-42d0-b796-246332a41c79",
   "metadata": {},
   "outputs": [
    {
     "name": "stdout",
     "output_type": "stream",
     "text": [
      "Hello, world!\n"
     ]
    }
   ],
   "source": [
    "print('Hello, world!') #return+ shift for MacOS, enter+shift => Comment"
   ]
  },
  {
   "cell_type": "markdown",
   "id": "75e42671-e868-4e9d-af76-edff3cd83c57",
   "metadata": {},
   "source": [
    "Comment 1: What is Python?"
   ]
  },
  {
   "cell_type": "code",
   "execution_count": 3,
   "id": "edb196ae-7801-4f55-8e34-1aab68b0594f",
   "metadata": {},
   "outputs": [
    {
     "name": "stdout",
     "output_type": "stream",
     "text": [
      "MCI Python Lesson 2\n"
     ]
    }
   ],
   "source": [
    "# Comment\n",
    "print('MCI Python Lesson 2')"
   ]
  },
  {
   "cell_type": "code",
   "execution_count": 4,
   "id": "7f4957fd-07f3-4be2-b71f-9c8e15d3b64e",
   "metadata": {},
   "outputs": [
    {
     "name": "stdout",
     "output_type": "stream",
     "text": [
      "MCI Python Lesson 2\n"
     ]
    }
   ],
   "source": [
    "# Comment 1\n",
    "# Comment 2\n",
    "\"\"\"\n",
    "Test\n",
    "for comment\n",
    "\"\"\"\n",
    "'''\n",
    "Today\n",
    "is \n",
    "weekend!\n",
    "Everyone \n",
    "is \n",
    "happy\n",
    "'''\n",
    "print('MCI Python Lesson 2')"
   ]
  },
  {
   "cell_type": "markdown",
   "id": "851db246-0092-480a-8f58-76810e4cb20c",
   "metadata": {},
   "source": [
    "### 1. Variables"
   ]
  },
  {
   "cell_type": "code",
   "execution_count": 5,
   "id": "fda13e9c-697c-4117-ad9e-0deebe03c789",
   "metadata": {},
   "outputs": [
    {
     "data": {
      "text/plain": [
       "2"
      ]
     },
     "execution_count": 5,
     "metadata": {},
     "output_type": "execute_result"
    }
   ],
   "source": [
    "1+1"
   ]
  },
  {
   "cell_type": "code",
   "execution_count": 6,
   "id": "55a7fcb7-8671-429c-9948-170366cff06d",
   "metadata": {},
   "outputs": [],
   "source": [
    "int_number = 1+1 # variable_name = value"
   ]
  },
  {
   "cell_type": "code",
   "execution_count": 7,
   "id": "196a9ec0-a741-4e45-930f-2f256c6af599",
   "metadata": {},
   "outputs": [
    {
     "data": {
      "text/plain": [
       "2"
      ]
     },
     "execution_count": 7,
     "metadata": {},
     "output_type": "execute_result"
    }
   ],
   "source": [
    "int_number"
   ]
  },
  {
   "cell_type": "code",
   "execution_count": 8,
   "id": "72e8161b-048d-4422-aa1c-8b99af065ced",
   "metadata": {},
   "outputs": [
    {
     "data": {
      "text/plain": [
       "int"
      ]
     },
     "execution_count": 8,
     "metadata": {},
     "output_type": "execute_result"
    }
   ],
   "source": [
    "type(int_number) #integer"
   ]
  },
  {
   "cell_type": "code",
   "execution_count": 9,
   "id": "dc2eb8bb-c1d9-462b-af3b-ba0ebd6c6703",
   "metadata": {},
   "outputs": [],
   "source": [
    "f_number = 3.14 # Float number"
   ]
  },
  {
   "cell_type": "code",
   "execution_count": 10,
   "id": "afa905bd-739a-4fec-9935-7e305231761c",
   "metadata": {},
   "outputs": [
    {
     "data": {
      "text/plain": [
       "float"
      ]
     },
     "execution_count": 10,
     "metadata": {},
     "output_type": "execute_result"
    }
   ],
   "source": [
    "type(f_number)"
   ]
  },
  {
   "cell_type": "code",
   "execution_count": 11,
   "id": "4f3951cc-977c-4416-9241-9d15dea8a6ba",
   "metadata": {},
   "outputs": [
    {
     "data": {
      "text/plain": [
       "int"
      ]
     },
     "execution_count": 11,
     "metadata": {},
     "output_type": "execute_result"
    }
   ],
   "source": [
    "# type = 0 #Should not do that\n",
    "type(2) "
   ]
  },
  {
   "cell_type": "markdown",
   "id": "ed589582-20bd-4ee2-b474-b405412012a6",
   "metadata": {},
   "source": [
    "Conventions:\n",
    "- Start with characters or underscore (not start with number)\n",
    "- Case-sensitive: Num != NUM != num\n",
    "- Avoid same name with keyword in Python"
   ]
  },
  {
   "cell_type": "markdown",
   "id": "d3dffccf-c02c-49a1-8c07-13fcb54a815a",
   "metadata": {},
   "source": [
    "### 2. Operation & Operators"
   ]
  },
  {
   "cell_type": "markdown",
   "id": "1237ea51-6555-47b0-9ddb-93583f62e746",
   "metadata": {},
   "source": [
    "1+1 =>\n",
    "+: operation\n",
    "1: operator"
   ]
  },
  {
   "cell_type": "markdown",
   "id": "837ada8c-5693-4a7a-aec8-f54381bc8b48",
   "metadata": {},
   "source": [
    "|Operation|Meaning|Examples|\n",
    "|-|-|-|\n",
    "|+| Adding Operation| a+b|"
   ]
  },
  {
   "cell_type": "markdown",
   "id": "38cdf4c8-b9ab-4c90-8be8-7f0ca9ffa18d",
   "metadata": {},
   "source": [
    "|Operation| Meaning|Examples|\n",
    "|-|-|-|\n",
    "|+|Adding Operator|a+b|\n",
    "|-|Substraction|a-b|\n",
    "|*|Multiplication|a*b|\n",
    "|/|Division|a/b|\n",
    "|%|Modulus| a%b|\n",
    "|//|Floor division| a//b|\n",
    "|**|Exponentation|a**b|"
   ]
  },
  {
   "cell_type": "code",
   "execution_count": 12,
   "id": "21c3f03b-99d1-41d0-afb4-b84d95be562d",
   "metadata": {},
   "outputs": [],
   "source": [
    "a = 23\n",
    "b = 10"
   ]
  },
  {
   "cell_type": "code",
   "execution_count": 13,
   "id": "a9b61e31-4d36-4111-9f2f-16305dbc371e",
   "metadata": {},
   "outputs": [
    {
     "data": {
      "text/plain": [
       "33"
      ]
     },
     "execution_count": 13,
     "metadata": {},
     "output_type": "execute_result"
    }
   ],
   "source": [
    "a+b "
   ]
  },
  {
   "cell_type": "code",
   "execution_count": 14,
   "id": "2eb00557-1665-482b-acd8-8c30eeda4dcc",
   "metadata": {},
   "outputs": [
    {
     "data": {
      "text/plain": [
       "13"
      ]
     },
     "execution_count": 14,
     "metadata": {},
     "output_type": "execute_result"
    }
   ],
   "source": [
    "a-b"
   ]
  },
  {
   "cell_type": "code",
   "execution_count": 15,
   "id": "908cb33b-b0c4-49af-9314-f8a2a0560fdb",
   "metadata": {},
   "outputs": [
    {
     "data": {
      "text/plain": [
       "230"
      ]
     },
     "execution_count": 15,
     "metadata": {},
     "output_type": "execute_result"
    }
   ],
   "source": [
    "a*b"
   ]
  },
  {
   "cell_type": "code",
   "execution_count": 16,
   "id": "e5dec145-d563-4231-bf5e-3325faa2244f",
   "metadata": {},
   "outputs": [
    {
     "data": {
      "text/plain": [
       "13"
      ]
     },
     "execution_count": 16,
     "metadata": {},
     "output_type": "execute_result"
    }
   ],
   "source": [
    "a-b"
   ]
  },
  {
   "cell_type": "code",
   "execution_count": 17,
   "id": "f69f1c85-f8d7-4177-b69a-db7d089ce43c",
   "metadata": {},
   "outputs": [
    {
     "data": {
      "text/plain": [
       "3"
      ]
     },
     "execution_count": 17,
     "metadata": {},
     "output_type": "execute_result"
    }
   ],
   "source": [
    "a%b"
   ]
  },
  {
   "cell_type": "code",
   "execution_count": 18,
   "id": "46004069-e01f-43ee-8666-779f29faff5f",
   "metadata": {},
   "outputs": [
    {
     "data": {
      "text/plain": [
       "2"
      ]
     },
     "execution_count": 18,
     "metadata": {},
     "output_type": "execute_result"
    }
   ],
   "source": [
    "a//b"
   ]
  },
  {
   "cell_type": "code",
   "execution_count": 19,
   "id": "b0ec7d6a-e679-4287-a3cf-c289911f6c59",
   "metadata": {},
   "outputs": [
    {
     "data": {
      "text/plain": [
       "41426511213649"
      ]
     },
     "execution_count": 19,
     "metadata": {},
     "output_type": "execute_result"
    }
   ],
   "source": [
    "a**b"
   ]
  },
  {
   "cell_type": "code",
   "execution_count": 20,
   "id": "3150e546-4f58-4c1c-a875-4d2e1e2f34fa",
   "metadata": {},
   "outputs": [
    {
     "data": {
      "text/plain": [
       "4.795831523312719"
      ]
     },
     "execution_count": 20,
     "metadata": {},
     "output_type": "execute_result"
    }
   ],
   "source": [
    "a**(1/2)"
   ]
  },
  {
   "cell_type": "code",
   "execution_count": 21,
   "id": "a835a0c4-aaf6-45f6-8380-4458aabcb14e",
   "metadata": {},
   "outputs": [],
   "source": [
    "import math"
   ]
  },
  {
   "cell_type": "code",
   "execution_count": 22,
   "id": "b0a199d8-ab38-4150-be99-e8670fd5d187",
   "metadata": {},
   "outputs": [
    {
     "data": {
      "text/plain": [
       "3"
      ]
     },
     "execution_count": 22,
     "metadata": {},
     "output_type": "execute_result"
    }
   ],
   "source": [
    "math.floor(3.14)"
   ]
  },
  {
   "cell_type": "code",
   "execution_count": null,
   "id": "edf18ad6-b5ef-40f7-9365-d9696ca55f9f",
   "metadata": {},
   "outputs": [],
   "source": []
  },
  {
   "cell_type": "markdown",
   "id": "ef8e5cc1-45c9-4bd9-bfd1-fa86c5850ba8",
   "metadata": {},
   "source": [
    "### 3. Logic operations"
   ]
  },
  {
   "cell_type": "markdown",
   "id": "8c102859-d33e-4d76-be92-f1625c4669df",
   "metadata": {},
   "source": [
    "- AND: True if all true\n",
    "- OR: True if at least one true\n",
    "- NOT: True -> False, False -> True\n",
    "- XOR: Same values -> False, else -> True"
   ]
  },
  {
   "cell_type": "code",
   "execution_count": 23,
   "id": "86a326cc-9de9-4684-9e20-271e5399e0ef",
   "metadata": {},
   "outputs": [
    {
     "data": {
      "text/plain": [
       "True"
      ]
     },
     "execution_count": 23,
     "metadata": {},
     "output_type": "execute_result"
    }
   ],
   "source": [
    "True and True"
   ]
  },
  {
   "cell_type": "code",
   "execution_count": 24,
   "id": "a9a21026-70e8-4140-8510-b9f209dd7f27",
   "metadata": {},
   "outputs": [
    {
     "data": {
      "text/plain": [
       "True"
      ]
     },
     "execution_count": 24,
     "metadata": {},
     "output_type": "execute_result"
    }
   ],
   "source": [
    "True or False"
   ]
  },
  {
   "cell_type": "code",
   "execution_count": 25,
   "id": "4d27fbf7-dac3-4848-bf76-1423e3a8719f",
   "metadata": {},
   "outputs": [
    {
     "data": {
      "text/plain": [
       "True"
      ]
     },
     "execution_count": 25,
     "metadata": {},
     "output_type": "execute_result"
    }
   ],
   "source": [
    "True and (False or True) and True"
   ]
  },
  {
   "cell_type": "code",
   "execution_count": 26,
   "id": "8085e060-56c7-4ad4-9fba-3119fb52bf10",
   "metadata": {},
   "outputs": [
    {
     "data": {
      "text/plain": [
       "False"
      ]
     },
     "execution_count": 26,
     "metadata": {},
     "output_type": "execute_result"
    }
   ],
   "source": [
    "True and False or True and False"
   ]
  },
  {
   "cell_type": "markdown",
   "id": "a5f5c91f-4b4b-4520-8ec0-5e2bb0f6d0cc",
   "metadata": {},
   "source": [
    "### 4. Conditional operations"
   ]
  },
  {
   "cell_type": "markdown",
   "id": "9bc1cc6b-326e-4d56-84e2-a07913844bc7",
   "metadata": {},
   "source": [
    "|Operator| Meaning|\n",
    "|-|-|\n",
    "|<| Less than|\n",
    "|>| Greater than|\n",
    "|<=| Less than or equal to|\n",
    "|>=| Greater than or equal to|\n",
    "|==| Equal to |\n",
    "|!=| Not equal to|\n",
    "\n",
    "\n",
    "Note: \n",
    "= : assigment\n",
    "==: comparison"
   ]
  },
  {
   "cell_type": "code",
   "execution_count": 28,
   "id": "942a3d02-ca40-4f5e-9c2f-3d9411bbe5ea",
   "metadata": {},
   "outputs": [],
   "source": [
    "# 1 = 2"
   ]
  },
  {
   "cell_type": "code",
   "execution_count": null,
   "id": "ff56f202-f730-4c32-af36-d4b91cbbea2f",
   "metadata": {},
   "outputs": [],
   "source": [
    "1 != 2"
   ]
  },
  {
   "cell_type": "markdown",
   "id": "b234e0c4-73f2-4f68-bb46-3c99063e54e8",
   "metadata": {},
   "source": [
    "### 4. Data types"
   ]
  },
  {
   "cell_type": "markdown",
   "id": "c3a48536-28dc-47b9-8445-7b74e4362c4e",
   "metadata": {},
   "source": [
    "Program = data structures (what is it?) + algorithms (what should I do?)"
   ]
  },
  {
   "cell_type": "markdown",
   "id": "10f8880a-77c0-4cd6-b3b3-26c03378551f",
   "metadata": {},
   "source": [
    "- Numeric: integer (int), float, complex (1+2j) ...\n",
    "- String: text, char\n",
    "- Boolean: True/ False\n",
    "- Datetime\n",
    "- NoneType"
   ]
  },
  {
   "cell_type": "code",
   "execution_count": 29,
   "id": "7ff4e051-1006-4ddb-8ef3-0f3ca5db7d4b",
   "metadata": {},
   "outputs": [
    {
     "data": {
      "text/plain": [
       "str"
      ]
     },
     "execution_count": 29,
     "metadata": {},
     "output_type": "execute_result"
    }
   ],
   "source": [
    "type('c')"
   ]
  },
  {
   "cell_type": "code",
   "execution_count": 31,
   "id": "187e6b8e-8c4c-43dc-9cb7-410b6cd02565",
   "metadata": {},
   "outputs": [
    {
     "data": {
      "text/plain": [
       "bool"
      ]
     },
     "execution_count": 31,
     "metadata": {},
     "output_type": "execute_result"
    }
   ],
   "source": [
    "type(True)"
   ]
  },
  {
   "cell_type": "code",
   "execution_count": null,
   "id": "11167c8b-6cc5-4c39-a16b-3d779c25393f",
   "metadata": {},
   "outputs": [],
   "source": [
    "type(a)"
   ]
  },
  {
   "cell_type": "code",
   "execution_count": null,
   "id": "a3e9352a-f778-4c3f-801f-9f986e067ab7",
   "metadata": {},
   "outputs": [],
   "source": [
    "type(3.14)"
   ]
  },
  {
   "cell_type": "code",
   "execution_count": null,
   "id": "12b4d1c2-9512-480a-98ce-19ece8605f45",
   "metadata": {},
   "outputs": [],
   "source": [
    "type(1+2j)"
   ]
  },
  {
   "cell_type": "code",
   "execution_count": 30,
   "id": "22678d3c-ed90-4738-9c07-6c9a960eaeca",
   "metadata": {},
   "outputs": [
    {
     "data": {
      "text/plain": [
       "str"
      ]
     },
     "execution_count": 30,
     "metadata": {},
     "output_type": "execute_result"
    }
   ],
   "source": [
    "type(\"Hello everyone\")"
   ]
  },
  {
   "cell_type": "code",
   "execution_count": 32,
   "id": "18c3ae1e-017c-450e-9fce-2ec87ec3302c",
   "metadata": {},
   "outputs": [],
   "source": [
    "# Test some different types"
   ]
  },
  {
   "cell_type": "markdown",
   "id": "c6362ecc-17f2-4f3b-874d-de05581dc6da",
   "metadata": {},
   "source": [
    "### 5. Data structures"
   ]
  },
  {
   "cell_type": "markdown",
   "id": "6b4460f6-7543-4620-a40d-e00892f8ec63",
   "metadata": {},
   "source": [
    "- Built-in data structures: list, dictionary, tuples, set..\n",
    "- User-defined data structures: stack, queue, tree, linked list, graph, hashmap.."
   ]
  },
  {
   "cell_type": "markdown",
   "id": "7df26015-3f7c-4b6e-bc49-9b93423ba0c9",
   "metadata": {},
   "source": [
    "- List: [], list(), index\n",
    "- Tuples: (), tuples(), index\n",
    "- Set: {}, set(), non-index, no-duplicated\n",
    "- Dictionary: {key:value}, no-duplicated"
   ]
  },
  {
   "cell_type": "markdown",
   "id": "81f2b826-b8f1-42a2-bd11-29b1e468154a",
   "metadata": {},
   "source": [
    "#### 4.1 List"
   ]
  },
  {
   "cell_type": "code",
   "execution_count": 33,
   "id": "a9e833d9-de6c-4d6c-ac23-cd04064d1614",
   "metadata": {},
   "outputs": [],
   "source": [
    "li = [1 , 2, \"Python\", 3.14] #list contains items syntax: [val1, val2, ...]\n",
    "#     0   1    2         3    -> left-to-right\n",
    "#         -3     -2         -1   -> right-to-left -> index"
   ]
  },
  {
   "cell_type": "code",
   "execution_count": 34,
   "id": "888fd032-280b-4284-80a7-e59e40333e9a",
   "metadata": {},
   "outputs": [
    {
     "data": {
      "text/plain": [
       "[1, 2, 'Python', 3.14]"
      ]
     },
     "execution_count": 34,
     "metadata": {},
     "output_type": "execute_result"
    }
   ],
   "source": [
    "li"
   ]
  },
  {
   "cell_type": "code",
   "execution_count": 35,
   "id": "4db35c22-3211-46d4-8517-f8dbf1e4c51a",
   "metadata": {},
   "outputs": [
    {
     "data": {
      "text/plain": [
       "['__add__',\n",
       " '__class__',\n",
       " '__contains__',\n",
       " '__delattr__',\n",
       " '__delitem__',\n",
       " '__dir__',\n",
       " '__doc__',\n",
       " '__eq__',\n",
       " '__format__',\n",
       " '__ge__',\n",
       " '__getattribute__',\n",
       " '__getitem__',\n",
       " '__gt__',\n",
       " '__hash__',\n",
       " '__iadd__',\n",
       " '__imul__',\n",
       " '__init__',\n",
       " '__init_subclass__',\n",
       " '__iter__',\n",
       " '__le__',\n",
       " '__len__',\n",
       " '__lt__',\n",
       " '__mul__',\n",
       " '__ne__',\n",
       " '__new__',\n",
       " '__reduce__',\n",
       " '__reduce_ex__',\n",
       " '__repr__',\n",
       " '__reversed__',\n",
       " '__rmul__',\n",
       " '__setattr__',\n",
       " '__setitem__',\n",
       " '__sizeof__',\n",
       " '__str__',\n",
       " '__subclasshook__',\n",
       " 'append',\n",
       " 'clear',\n",
       " 'copy',\n",
       " 'count',\n",
       " 'extend',\n",
       " 'index',\n",
       " 'insert',\n",
       " 'pop',\n",
       " 'remove',\n",
       " 'reverse',\n",
       " 'sort']"
      ]
     },
     "execution_count": 35,
     "metadata": {},
     "output_type": "execute_result"
    }
   ],
   "source": [
    "dir(li) #list"
   ]
  },
  {
   "cell_type": "code",
   "execution_count": 36,
   "id": "fcbadad1-157d-44ca-95fc-2d4e9d7cb7d8",
   "metadata": {},
   "outputs": [
    {
     "data": {
      "text/plain": [
       "['append',\n",
       " 'clear',\n",
       " 'copy',\n",
       " 'count',\n",
       " 'extend',\n",
       " 'index',\n",
       " 'insert',\n",
       " 'pop',\n",
       " 'remove',\n",
       " 'reverse',\n",
       " 'sort']"
      ]
     },
     "execution_count": 36,
     "metadata": {},
     "output_type": "execute_result"
    }
   ],
   "source": [
    "[method for method in dir(li) if not method.startswith('_')]"
   ]
  },
  {
   "cell_type": "code",
   "execution_count": 37,
   "id": "73caa425-9065-49b7-ab17-828ead15f70e",
   "metadata": {},
   "outputs": [],
   "source": [
    "li.append(10)"
   ]
  },
  {
   "cell_type": "code",
   "execution_count": 38,
   "id": "9e211614-3cb6-403a-aad9-0974a4d44494",
   "metadata": {},
   "outputs": [
    {
     "data": {
      "text/plain": [
       "[1, 2, 'Python', 3.14, 10]"
      ]
     },
     "execution_count": 38,
     "metadata": {},
     "output_type": "execute_result"
    }
   ],
   "source": [
    "li"
   ]
  },
  {
   "cell_type": "code",
   "execution_count": null,
   "id": "007a39ab-e21f-4da9-a980-8dd090e589e8",
   "metadata": {},
   "outputs": [],
   "source": [
    "# li.clear() #shift-tab"
   ]
  },
  {
   "cell_type": "code",
   "execution_count": 39,
   "id": "481c6800-3952-4e67-be35-4a92389a2fdc",
   "metadata": {},
   "outputs": [
    {
     "data": {
      "text/plain": [
       "[1, 2, 'Python', 3.14, 10]"
      ]
     },
     "execution_count": 39,
     "metadata": {},
     "output_type": "execute_result"
    }
   ],
   "source": [
    "li"
   ]
  },
  {
   "cell_type": "markdown",
   "id": "50e590d8-7014-4058-9764-f062dc0b7b4d",
   "metadata": {},
   "source": [
    "2 types: \n",
    "- Assign directly to variable and non return\n",
    "- Return and need to assign to new variable"
   ]
  },
  {
   "cell_type": "code",
   "execution_count": 41,
   "id": "ee6e635f-79c7-4157-b0d1-81a3ecef89fd",
   "metadata": {},
   "outputs": [
    {
     "data": {
      "text/plain": [
       "10"
      ]
     },
     "execution_count": 41,
     "metadata": {},
     "output_type": "execute_result"
    }
   ],
   "source": [
    "li[4]"
   ]
  },
  {
   "cell_type": "code",
   "execution_count": 42,
   "id": "52dee05e-53f0-48f2-b0c7-c12bb78ea596",
   "metadata": {},
   "outputs": [
    {
     "data": {
      "text/plain": [
       "10"
      ]
     },
     "execution_count": 42,
     "metadata": {},
     "output_type": "execute_result"
    }
   ],
   "source": [
    "li[-1]"
   ]
  },
  {
   "cell_type": "code",
   "execution_count": 43,
   "id": "1d9bacb7-626e-4309-b09b-9bce29745259",
   "metadata": {},
   "outputs": [
    {
     "data": {
      "text/plain": [
       "[1, 2, 'Python']"
      ]
     },
     "execution_count": 43,
     "metadata": {},
     "output_type": "execute_result"
    }
   ],
   "source": [
    "li[0:3] #list[start:end]"
   ]
  },
  {
   "cell_type": "code",
   "execution_count": 45,
   "id": "ab3d076e-5f3d-4ec7-9a49-1e20d4ee7998",
   "metadata": {},
   "outputs": [
    {
     "data": {
      "text/plain": [
       "[1, 2, 'Python', 3.14]"
      ]
     },
     "execution_count": 45,
     "metadata": {},
     "output_type": "execute_result"
    }
   ],
   "source": [
    "li[:4]"
   ]
  },
  {
   "cell_type": "code",
   "execution_count": null,
   "id": "a25cf307-863a-4faf-9fe8-d43770f24a38",
   "metadata": {},
   "outputs": [],
   "source": [
    "li1 = [1, 1, 2, 4, 4, 'Python']"
   ]
  },
  {
   "cell_type": "code",
   "execution_count": null,
   "id": "b3b5ea16-552b-48b1-bb90-9c29c56ee975",
   "metadata": {},
   "outputs": [],
   "source": [
    "li1[0]"
   ]
  },
  {
   "cell_type": "markdown",
   "id": "62297645-9272-4d7a-99a4-b09f386dbb71",
   "metadata": {},
   "source": [
    "- #index 0 1 2 3 4\n",
    "- #value 1 1 2 3 4"
   ]
  },
  {
   "cell_type": "code",
   "execution_count": null,
   "id": "014efa2c-255e-4088-9015-5333e3a9520d",
   "metadata": {},
   "outputs": [],
   "source": [
    "li.clear()"
   ]
  },
  {
   "cell_type": "code",
   "execution_count": null,
   "id": "3f2c89c4-254e-43d4-8442-ab2999d4f3c9",
   "metadata": {},
   "outputs": [],
   "source": [
    "li"
   ]
  },
  {
   "cell_type": "markdown",
   "id": "8a5c7f8e-b157-477f-8e92-9f2b64b6b9dc",
   "metadata": {},
   "source": [
    "- extend() and append()\n",
    "- remove() and pop()"
   ]
  },
  {
   "cell_type": "code",
   "execution_count": 46,
   "id": "ef1d6403-fa73-4c39-a3fe-cd1857b34693",
   "metadata": {},
   "outputs": [
    {
     "data": {
      "text/plain": [
       "[1, 2, 'MCI', 2.14, 'Lesson2', 'c']"
      ]
     },
     "execution_count": 46,
     "metadata": {},
     "output_type": "execute_result"
    }
   ],
   "source": [
    "li2 = [1, 2, 'MCI', 2.14, 'Lesson2', 'c']\n",
    "li2"
   ]
  },
  {
   "cell_type": "code",
   "execution_count": 47,
   "id": "3fa00ebe-f15c-4c26-9328-3df627c1ba43",
   "metadata": {},
   "outputs": [],
   "source": [
    "li2.append(2)"
   ]
  },
  {
   "cell_type": "code",
   "execution_count": 48,
   "id": "4f165699-0e37-4b10-82bc-7315774eca6b",
   "metadata": {},
   "outputs": [
    {
     "data": {
      "text/plain": [
       "[1, 2, 'MCI', 2.14, 'Lesson2', 'c', 2]"
      ]
     },
     "execution_count": 48,
     "metadata": {},
     "output_type": "execute_result"
    }
   ],
   "source": [
    "li2"
   ]
  },
  {
   "cell_type": "code",
   "execution_count": 50,
   "id": "d42202d0-7f9b-4dbb-a84e-0a1a98b73eee",
   "metadata": {},
   "outputs": [],
   "source": [
    "li2.extend([1,'H'])"
   ]
  },
  {
   "cell_type": "code",
   "execution_count": 51,
   "id": "8b3ec8ed-885a-4da6-a9ee-fb06b2b583e2",
   "metadata": {},
   "outputs": [
    {
     "data": {
      "text/plain": [
       "[1, 2, 'MCI', 2.14, 'Lesson2', 'c', 2, 1, 'H']"
      ]
     },
     "execution_count": 51,
     "metadata": {},
     "output_type": "execute_result"
    }
   ],
   "source": [
    "li2"
   ]
  },
  {
   "cell_type": "code",
   "execution_count": 53,
   "id": "6006ea2e-88d6-4942-a448-380381838eee",
   "metadata": {},
   "outputs": [],
   "source": [
    "li2.append([1,'H'])"
   ]
  },
  {
   "cell_type": "code",
   "execution_count": 54,
   "id": "09d480da-3bfe-4904-bd1d-cdf8f7849f41",
   "metadata": {},
   "outputs": [
    {
     "data": {
      "text/plain": [
       "[1, 2, 'MCI', 2.14, 'Lesson2', 'c', 2, 1, 'H', [1, 'H']]"
      ]
     },
     "execution_count": 54,
     "metadata": {},
     "output_type": "execute_result"
    }
   ],
   "source": [
    "li2"
   ]
  },
  {
   "cell_type": "code",
   "execution_count": 57,
   "id": "f535cd0b-622f-4773-85f5-8875364f93fb",
   "metadata": {},
   "outputs": [
    {
     "data": {
      "text/plain": [
       "[1, 'H']"
      ]
     },
     "execution_count": 57,
     "metadata": {},
     "output_type": "execute_result"
    }
   ],
   "source": [
    "li2[-1]"
   ]
  },
  {
   "cell_type": "code",
   "execution_count": null,
   "id": "2c31d58b-3b11-4a58-a2bd-030ca86723b2",
   "metadata": {},
   "outputs": [],
   "source": [
    "li2.append(['Hom','nay','la','thu', '6'])"
   ]
  },
  {
   "cell_type": "code",
   "execution_count": null,
   "id": "e1934ff6-5a99-4326-840d-c28c86e89357",
   "metadata": {},
   "outputs": [],
   "source": [
    "li2"
   ]
  },
  {
   "cell_type": "code",
   "execution_count": null,
   "id": "f6ab89a7-7d26-488e-a8c3-6c1ef70caf9e",
   "metadata": {},
   "outputs": [],
   "source": [
    "li2[-1]"
   ]
  },
  {
   "cell_type": "code",
   "execution_count": null,
   "id": "054a6ac4-e93f-4a71-a89d-70fc5dd05684",
   "metadata": {},
   "outputs": [],
   "source": [
    "li2.extend(['Hom','nay','la','thu', '6'])"
   ]
  },
  {
   "cell_type": "code",
   "execution_count": null,
   "id": "39d687f5-df2f-4751-a406-a973fbfe1a79",
   "metadata": {},
   "outputs": [],
   "source": [
    "li2"
   ]
  },
  {
   "cell_type": "code",
   "execution_count": null,
   "id": "74361804-f9b5-4a68-a3b6-6554d9f5eeba",
   "metadata": {},
   "outputs": [],
   "source": [
    "li2[-1]"
   ]
  },
  {
   "cell_type": "code",
   "execution_count": null,
   "id": "651e388b-42af-40cd-99f8-67d04f7d34bd",
   "metadata": {},
   "outputs": [],
   "source": [
    "del li2[0]"
   ]
  },
  {
   "cell_type": "code",
   "execution_count": null,
   "id": "90954af6-69ca-43e9-b08c-2f294e411f47",
   "metadata": {},
   "outputs": [],
   "source": [
    "li2"
   ]
  },
  {
   "cell_type": "code",
   "execution_count": null,
   "id": "9209002f-7fcb-439f-aaa9-d3f7d3583f91",
   "metadata": {},
   "outputs": [],
   "source": [
    "li2.remove(2)"
   ]
  },
  {
   "cell_type": "code",
   "execution_count": null,
   "id": "1d762112-5300-4789-bb27-bc1aeb128239",
   "metadata": {},
   "outputs": [],
   "source": [
    "li2"
   ]
  },
  {
   "cell_type": "code",
   "execution_count": null,
   "id": "559f86c5-b6d8-447c-8ad9-431a351f6209",
   "metadata": {},
   "outputs": [],
   "source": [
    "li2.pop(1)"
   ]
  },
  {
   "cell_type": "code",
   "execution_count": 58,
   "id": "7eaadb4c-0c7a-474b-bcaf-90ece69695c9",
   "metadata": {},
   "outputs": [
    {
     "data": {
      "text/plain": [
       "[1, 2, 'MCI', 2.14, 'Lesson2', 'c', 2, 1, 'H', [1, 'H']]"
      ]
     },
     "execution_count": 58,
     "metadata": {},
     "output_type": "execute_result"
    }
   ],
   "source": [
    "li2"
   ]
  },
  {
   "cell_type": "code",
   "execution_count": 59,
   "id": "8cf43ccd-d370-47de-9ede-4010a574c89a",
   "metadata": {},
   "outputs": [
    {
     "data": {
      "text/plain": [
       "10"
      ]
     },
     "execution_count": 59,
     "metadata": {},
     "output_type": "execute_result"
    }
   ],
   "source": [
    "len(li2) # function_name(object)"
   ]
  },
  {
   "cell_type": "code",
   "execution_count": 60,
   "id": "6d1fdbc7-27fa-4f6c-89b4-599e36d595aa",
   "metadata": {},
   "outputs": [],
   "source": [
    "l3 = [1,3,4,'H', 'H', 9,9,7,1]"
   ]
  },
  {
   "cell_type": "code",
   "execution_count": 62,
   "id": "d3b2ce27-b9ae-4d94-b6db-76147f80fbdc",
   "metadata": {},
   "outputs": [
    {
     "data": {
      "text/plain": [
       "0"
      ]
     },
     "execution_count": 62,
     "metadata": {},
     "output_type": "execute_result"
    }
   ],
   "source": [
    "l3.count('Haha')"
   ]
  },
  {
   "cell_type": "markdown",
   "id": "8ab380fb-d22d-4d13-9281-1a81ee9d7842",
   "metadata": {},
   "source": [
    "#### 4.2 Tuples"
   ]
  },
  {
   "cell_type": "code",
   "execution_count": 63,
   "id": "97e62bcc-20dd-4bb0-885d-55d5069f286e",
   "metadata": {},
   "outputs": [],
   "source": [
    "tu = (1, 2, 3.14, 'Vietnam') #Syntax: (val1, val2, ..)"
   ]
  },
  {
   "cell_type": "code",
   "execution_count": 64,
   "id": "9dca188f-1227-4cb4-91a4-ee52f015eef7",
   "metadata": {},
   "outputs": [
    {
     "data": {
      "text/plain": [
       "tuple"
      ]
     },
     "execution_count": 64,
     "metadata": {},
     "output_type": "execute_result"
    }
   ],
   "source": [
    "type(tu)"
   ]
  },
  {
   "cell_type": "code",
   "execution_count": 65,
   "id": "1e261076-9415-45ef-b8ff-14ec5711bffb",
   "metadata": {},
   "outputs": [
    {
     "data": {
      "text/plain": [
       "['count', 'index']"
      ]
     },
     "execution_count": 65,
     "metadata": {},
     "output_type": "execute_result"
    }
   ],
   "source": [
    "[method for method in dir(tu) if not method.startswith('_')]"
   ]
  },
  {
   "cell_type": "code",
   "execution_count": 66,
   "id": "ec9b1a4f-8e74-496f-a99b-b83ce18524b5",
   "metadata": {},
   "outputs": [
    {
     "data": {
      "text/plain": [
       "1"
      ]
     },
     "execution_count": 66,
     "metadata": {},
     "output_type": "execute_result"
    }
   ],
   "source": [
    "tu[0]"
   ]
  },
  {
   "cell_type": "markdown",
   "id": "9ac494df-c373-4fbd-be0d-1fae08116c94",
   "metadata": {},
   "source": [
    "#### 4.3 Set"
   ]
  },
  {
   "cell_type": "code",
   "execution_count": 67,
   "id": "74fbce33-ce65-46de-a7b1-f2705acd8acd",
   "metadata": {},
   "outputs": [],
   "source": [
    "s = {1, 1, 1, 2, 3} #no index, syntax {val1, val2 ,...}"
   ]
  },
  {
   "cell_type": "code",
   "execution_count": 68,
   "id": "59a8b5c0-0c2c-40c1-97b0-fb53195d4cf2",
   "metadata": {},
   "outputs": [
    {
     "data": {
      "text/plain": [
       "{1, 2, 3}"
      ]
     },
     "execution_count": 68,
     "metadata": {},
     "output_type": "execute_result"
    }
   ],
   "source": [
    "s"
   ]
  },
  {
   "cell_type": "code",
   "execution_count": 69,
   "id": "704b73fc-9e84-40aa-8c3d-3bb50853654f",
   "metadata": {},
   "outputs": [
    {
     "data": {
      "text/plain": [
       "['add',\n",
       " 'clear',\n",
       " 'copy',\n",
       " 'difference',\n",
       " 'difference_update',\n",
       " 'discard',\n",
       " 'intersection',\n",
       " 'intersection_update',\n",
       " 'isdisjoint',\n",
       " 'issubset',\n",
       " 'issuperset',\n",
       " 'pop',\n",
       " 'remove',\n",
       " 'symmetric_difference',\n",
       " 'symmetric_difference_update',\n",
       " 'union',\n",
       " 'update']"
      ]
     },
     "execution_count": 69,
     "metadata": {},
     "output_type": "execute_result"
    }
   ],
   "source": [
    "[method for method in dir(s) if not method.startswith('_')]"
   ]
  },
  {
   "cell_type": "code",
   "execution_count": 70,
   "id": "847121a1-b994-4ae2-9e5f-250fdb8cf258",
   "metadata": {},
   "outputs": [],
   "source": [
    "s1 = {2,3,4,5}"
   ]
  },
  {
   "cell_type": "code",
   "execution_count": 71,
   "id": "538e10ad-ac48-474f-b396-fe06697ea263",
   "metadata": {},
   "outputs": [
    {
     "data": {
      "text/plain": [
       "{1}"
      ]
     },
     "execution_count": 71,
     "metadata": {},
     "output_type": "execute_result"
    }
   ],
   "source": [
    "s.difference(s1)"
   ]
  },
  {
   "cell_type": "code",
   "execution_count": 72,
   "id": "9bfd202e-be53-4100-97f5-83f90057bb03",
   "metadata": {},
   "outputs": [
    {
     "data": {
      "text/plain": [
       "{4, 5}"
      ]
     },
     "execution_count": 72,
     "metadata": {},
     "output_type": "execute_result"
    }
   ],
   "source": [
    "s1.difference(s)"
   ]
  },
  {
   "cell_type": "code",
   "execution_count": 73,
   "id": "7965dd0f-3218-4b97-99f7-a66710f2bf32",
   "metadata": {},
   "outputs": [
    {
     "data": {
      "text/plain": [
       "{2, 3}"
      ]
     },
     "execution_count": 73,
     "metadata": {},
     "output_type": "execute_result"
    }
   ],
   "source": [
    "s.intersection(s1)"
   ]
  },
  {
   "cell_type": "code",
   "execution_count": 74,
   "id": "a574e153-e6db-42d7-b833-7d3f2483281f",
   "metadata": {},
   "outputs": [
    {
     "data": {
      "text/plain": [
       "{1, 4, 5}"
      ]
     },
     "execution_count": 74,
     "metadata": {},
     "output_type": "execute_result"
    }
   ],
   "source": [
    "s.symmetric_difference(s1)"
   ]
  },
  {
   "cell_type": "markdown",
   "id": "4df299b1-0a73-4c12-924e-5e2102176f43",
   "metadata": {},
   "source": [
    "|List|Tuple|Set|\n",
    "|-|-|-|\n",
    "|Mutable|Immutable| Mutable|\n",
    "|Ordered collection of items| Ordered collections of items| Unordered collections of items|\n"
   ]
  },
  {
   "cell_type": "markdown",
   "id": "886e7fd7-1008-438a-8711-bb9574e8dec4",
   "metadata": {},
   "source": [
    "#### 4.4 Dictionary"
   ]
  },
  {
   "cell_type": "markdown",
   "id": "391c89e5-1264-4bf3-863a-64e53406f3fd",
   "metadata": {},
   "source": [
    "{key:value}"
   ]
  },
  {
   "cell_type": "code",
   "execution_count": 75,
   "id": "7ed62ad9-a41d-4416-a920-82605b020f1f",
   "metadata": {},
   "outputs": [],
   "source": [
    "my_dict = {} #syntax: {key:value, key1:value1, ...}"
   ]
  },
  {
   "cell_type": "code",
   "execution_count": 76,
   "id": "b0962246-a4e1-4f33-a133-1b9f0721e590",
   "metadata": {},
   "outputs": [
    {
     "data": {
      "text/plain": [
       "dict"
      ]
     },
     "execution_count": 76,
     "metadata": {},
     "output_type": "execute_result"
    }
   ],
   "source": [
    "type(my_dict)"
   ]
  },
  {
   "cell_type": "code",
   "execution_count": 77,
   "id": "1b4a3a3c-7023-4698-8836-b75780fe3d6e",
   "metadata": {},
   "outputs": [
    {
     "data": {
      "text/plain": [
       "{1: 'Java', 2: 'Python', 3: 'C++'}"
      ]
     },
     "execution_count": 77,
     "metadata": {},
     "output_type": "execute_result"
    }
   ],
   "source": [
    "my_dict1 = {1:'Java', 2:'Python', 3:'C++'}\n",
    "my_dict1"
   ]
  },
  {
   "cell_type": "code",
   "execution_count": 78,
   "id": "eaff792d-e946-41ff-b56a-b931788a69b2",
   "metadata": {},
   "outputs": [],
   "source": [
    "# Changing element\n",
    "my_dict1['C++'] = 'C' # dict_name[key] = value"
   ]
  },
  {
   "cell_type": "code",
   "execution_count": 79,
   "id": "0f45afa1-3877-4d70-a169-8124916b0b84",
   "metadata": {},
   "outputs": [
    {
     "data": {
      "text/plain": [
       "{1: 'Java', 2: 'Python', 3: 'C++', 'C++': 'C'}"
      ]
     },
     "execution_count": 79,
     "metadata": {},
     "output_type": "execute_result"
    }
   ],
   "source": [
    "my_dict1"
   ]
  },
  {
   "cell_type": "code",
   "execution_count": 80,
   "id": "6f591782-fae9-4d0a-948c-b25435179705",
   "metadata": {},
   "outputs": [],
   "source": [
    "my_dict1[1] = 'Golang'"
   ]
  },
  {
   "cell_type": "code",
   "execution_count": 81,
   "id": "cea202cd-185a-472c-9c3e-22953e17bcd3",
   "metadata": {},
   "outputs": [
    {
     "data": {
      "text/plain": [
       "{1: 'Golang', 2: 'Python', 3: 'C++', 'C++': 'C'}"
      ]
     },
     "execution_count": 81,
     "metadata": {},
     "output_type": "execute_result"
    }
   ],
   "source": [
    "my_dict1"
   ]
  },
  {
   "cell_type": "code",
   "execution_count": 82,
   "id": "d3ca58f5-1676-47be-9538-db291d97985c",
   "metadata": {},
   "outputs": [
    {
     "data": {
      "text/plain": [
       "['clear',\n",
       " 'copy',\n",
       " 'fromkeys',\n",
       " 'get',\n",
       " 'items',\n",
       " 'keys',\n",
       " 'pop',\n",
       " 'popitem',\n",
       " 'setdefault',\n",
       " 'update',\n",
       " 'values']"
      ]
     },
     "execution_count": 82,
     "metadata": {},
     "output_type": "execute_result"
    }
   ],
   "source": [
    "[method for method in dir(my_dict1) if not method.startswith('_')]"
   ]
  },
  {
   "cell_type": "code",
   "execution_count": null,
   "id": "5f99a1e3-4871-4dac-a7ed-d0cc658e35c6",
   "metadata": {},
   "outputs": [],
   "source": [
    "my_dict1.items()"
   ]
  },
  {
   "cell_type": "markdown",
   "id": "4cf525fe-c364-4bcc-bc1e-34ed2ba63116",
   "metadata": {},
   "source": [
    "### Conditional Statements"
   ]
  },
  {
   "cell_type": "code",
   "execution_count": null,
   "id": "cd954d2c-7c35-4aa9-b7bd-b32f5cda5ed8",
   "metadata": {},
   "outputs": [],
   "source": [
    "# If then else\n",
    "# Loop: While, For, ..."
   ]
  }
 ],
 "metadata": {
  "kernelspec": {
   "display_name": "Python 3",
   "language": "python",
   "name": "python3"
  },
  "language_info": {
   "codemirror_mode": {
    "name": "ipython",
    "version": 3
   },
   "file_extension": ".py",
   "mimetype": "text/x-python",
   "name": "python",
   "nbconvert_exporter": "python",
   "pygments_lexer": "ipython3",
   "version": "3.7.0"
  }
 },
 "nbformat": 4,
 "nbformat_minor": 5
}
