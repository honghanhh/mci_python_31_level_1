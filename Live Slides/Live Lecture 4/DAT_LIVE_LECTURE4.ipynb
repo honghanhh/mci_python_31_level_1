{
 "cells": [
  {
   "cell_type": "markdown",
   "metadata": {
    "tags": []
   },
   "source": [
    "# <center> LESSION 4 Introduction To Numpy </center>"
   ]
  },
  {
   "cell_type": "markdown",
   "metadata": {},
   "source": [
    "##  1. INTRODOCTION "
   ]
  },
  {
   "cell_type": "markdown",
   "metadata": {},
   "source": [
    "![](data:image/png;base64,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)"
   ]
  },
  {
   "cell_type": "markdown",
   "metadata": {},
   "source": [
    "** NumPY** (Numerical Python) = multidimensional array + matrix data structure"
   ]
  },
  {
   "cell_type": "markdown",
   "metadata": {},
   "source": [
    "## 1.1 Installtion \n",
    "- Install when creating a virtual/conda enviroment \n",
    "- conda create -n name_which_you_wanna python=3.7 numpy pandas...\n",
    "- when you miss to install them you can consider in our enviroment with: conda install ...\n",
    "- To list all the libs which we are using you can consider conda frezee requirement.txt"
   ]
  },
  {
   "cell_type": "code",
   "execution_count": 1,
   "metadata": {},
   "outputs": [
    {
     "name": "stdout",
     "output_type": "stream",
     "text": [
      "Collecting scikit-learn\n",
      "  Downloading scikit-learn-1.0.1.tar.gz (6.6 MB)\n",
      "     |████████████████████████████████| 6.6 MB 5.7 MB/s            \n",
      "\u001b[?25h  Installing build dependencies ... \u001b[?25ldone\n",
      "\u001b[?25h  Getting requirements to build wheel ... \u001b[?25ldone\n",
      "\u001b[?25h  Preparing metadata (pyproject.toml) ... \u001b[?25lerror\n",
      "\u001b[31m  ERROR: Command errored out with exit status 1:\n",
      "   command: /Library/Frameworks/Python.framework/Versions/3.10/bin/python3.10 /Library/Frameworks/Python.framework/Versions/3.10/lib/python3.10/site-packages/pip/_vendor/pep517/in_process/_in_process.py prepare_metadata_for_build_wheel /var/folders/t_/zcvqt4vn4zl31xrt94zl20440000gn/T/tmp3lbldn77\n",
      "       cwd: /private/var/folders/t_/zcvqt4vn4zl31xrt94zl20440000gn/T/pip-install-_cl9gof9/scikit-learn_e8f5f43df7d54b7fafcb93435fa9c821\n",
      "  Complete output (143 lines):\n",
      "  Partial import of sklearn during the build process.\n",
      "  C compiler: clang -Wno-unused-result -Wsign-compare -Wunreachable-code -fno-common -dynamic -DNDEBUG -g -fwrapv -O3 -Wall -arch arm64 -arch x86_64 -g\n",
      "  \n",
      "  compile options: '-c'\n",
      "  clang: test_program.c\n",
      "  In file included from test_program.c:1:\n",
      "  In file included from /Library/Developer/CommandLineTools/SDKs/MacOSX.sdk/usr/include/stdio.h:64:\n",
      "  In file included from /Library/Developer/CommandLineTools/SDKs/MacOSX.sdk/usr/include/_stdio.h:68:\n",
      "  /Library/Developer/CommandLineTools/SDKs/MacOSX.sdk/usr/include/sys/cdefs.h:807:2: error: Unsupported architecture\n",
      "  #error Unsupported architecture\n",
      "   ^\n",
      "  In file included from test_program.c:1:\n",
      "  In file included from /Library/Developer/CommandLineTools/SDKs/MacOSX.sdk/usr/include/stdio.h:64:\n",
      "  In file included from /Library/Developer/CommandLineTools/SDKs/MacOSX.sdk/usr/include/_stdio.h:71:\n",
      "  In file included from /Library/Developer/CommandLineTools/SDKs/MacOSX.sdk/usr/include/_types.h:27:\n",
      "  In file included from /Library/Developer/CommandLineTools/SDKs/MacOSX.sdk/usr/include/sys/_types.h:33:\n",
      "  /Library/Developer/CommandLineTools/SDKs/MacOSX.sdk/usr/include/machine/_types.h:34:2: error: architecture not supported\n",
      "  #error architecture not supported\n",
      "   ^\n",
      "  In file included from test_program.c:1:\n",
      "  In file included from /Library/Developer/CommandLineTools/SDKs/MacOSX.sdk/usr/include/stdio.h:64:\n",
      "  In file included from /Library/Developer/CommandLineTools/SDKs/MacOSX.sdk/usr/include/_stdio.h:71:\n",
      "  In file included from /Library/Developer/CommandLineTools/SDKs/MacOSX.sdk/usr/include/_types.h:27:\n",
      "  /Library/Developer/CommandLineTools/SDKs/MacOSX.sdk/usr/include/sys/_types.h:55:9: error: unknown type name '__int64_t'\n",
      "  typedef __int64_t       __darwin_blkcnt_t;      /* total blocks */\n",
      "          ^\n",
      "  /Library/Developer/CommandLineTools/SDKs/MacOSX.sdk/usr/include/sys/_types.h:56:9: error: unknown type name '__int32_t'; did you mean '__int128_t'?\n",
      "  typedef __int32_t       __darwin_blksize_t;     /* preferred block size */\n",
      "          ^\n",
      "  note: '__int128_t' declared here\n",
      "  /Library/Developer/CommandLineTools/SDKs/MacOSX.sdk/usr/include/sys/_types.h:57:9: error: unknown type name '__int32_t'; did you mean '__int128_t'?\n",
      "  typedef __int32_t       __darwin_dev_t;         /* dev_t */\n",
      "          ^\n",
      "  note: '__int128_t' declared here\n",
      "  /Library/Developer/CommandLineTools/SDKs/MacOSX.sdk/usr/include/sys/_types.h:60:9: error: unknown type name '__uint32_t'; did you mean '__uint128_t'?\n",
      "  typedef __uint32_t      __darwin_gid_t;         /* [???] process and group IDs */\n",
      "          ^\n",
      "  note: '__uint128_t' declared here\n",
      "  /Library/Developer/CommandLineTools/SDKs/MacOSX.sdk/usr/include/sys/_types.h:61:9: error: unknown type name '__uint32_t'; did you mean '__uint128_t'?\n",
      "  typedef __uint32_t      __darwin_id_t;          /* [XSI] pid_t, uid_t, or gid_t*/\n",
      "          ^\n",
      "  note: '__uint128_t' declared here\n",
      "  /Library/Developer/CommandLineTools/SDKs/MacOSX.sdk/usr/include/sys/_types.h:62:9: error: unknown type name '__uint64_t'\n",
      "  typedef __uint64_t      __darwin_ino64_t;       /* [???] Used for 64 bit inodes */\n",
      "          ^\n",
      "  /Library/Developer/CommandLineTools/SDKs/MacOSX.sdk/usr/include/sys/_types.h:68:9: error: unknown type name '__darwin_natural_t'\n",
      "  typedef __darwin_natural_t __darwin_mach_port_name_t; /* Used by mach */\n",
      "          ^\n",
      "  /Library/Developer/CommandLineTools/SDKs/MacOSX.sdk/usr/include/sys/_types.h:70:9: error: unknown type name '__uint16_t'; did you mean '__uint128_t'?\n",
      "  typedef __uint16_t      __darwin_mode_t;        /* [???] Some file attributes */\n",
      "          ^\n",
      "  note: '__uint128_t' declared here\n",
      "  /Library/Developer/CommandLineTools/SDKs/MacOSX.sdk/usr/include/sys/_types.h:71:9: error: unknown type name '__int64_t'\n",
      "  typedef __int64_t       __darwin_off_t;         /* [???] Used for file sizes */\n",
      "          ^\n",
      "  /Library/Developer/CommandLineTools/SDKs/MacOSX.sdk/usr/include/sys/_types.h:72:9: error: unknown type name '__int32_t'; did you mean '__int128_t'?\n",
      "  typedef __int32_t       __darwin_pid_t;         /* [???] process and group IDs */\n",
      "          ^\n",
      "  note: '__int128_t' declared here\n",
      "  /Library/Developer/CommandLineTools/SDKs/MacOSX.sdk/usr/include/sys/_types.h:73:9: error: unknown type name '__uint32_t'; did you mean '__uint128_t'?\n",
      "  typedef __uint32_t      __darwin_sigset_t;      /* [???] signal set */\n",
      "          ^\n",
      "  note: '__uint128_t' declared here\n",
      "  /Library/Developer/CommandLineTools/SDKs/MacOSX.sdk/usr/include/sys/_types.h:74:9: error: unknown type name '__int32_t'; did you mean '__int128_t'?\n",
      "  typedef __int32_t       __darwin_suseconds_t;   /* [???] microseconds */\n",
      "          ^\n",
      "  note: '__int128_t' declared here\n",
      "  /Library/Developer/CommandLineTools/SDKs/MacOSX.sdk/usr/include/sys/_types.h:75:9: error: unknown type name '__uint32_t'; did you mean '__uint128_t'?\n",
      "  typedef __uint32_t      __darwin_uid_t;         /* [???] user IDs */\n",
      "          ^\n",
      "  note: '__uint128_t' declared here\n",
      "  /Library/Developer/CommandLineTools/SDKs/MacOSX.sdk/usr/include/sys/_types.h:76:9: error: unknown type name '__uint32_t'; did you mean '__uint128_t'?\n",
      "  typedef __uint32_t      __darwin_useconds_t;    /* [???] microseconds */\n",
      "          ^\n",
      "  note: '__uint128_t' declared here\n",
      "  In file included from test_program.c:1:\n",
      "  In file included from /Library/Developer/CommandLineTools/SDKs/MacOSX.sdk/usr/include/stdio.h:64:\n",
      "  In file included from /Library/Developer/CommandLineTools/SDKs/MacOSX.sdk/usr/include/_stdio.h:71:\n",
      "  /Library/Developer/CommandLineTools/SDKs/MacOSX.sdk/usr/include/_types.h:43:9: error: unknown type name '__uint32_t'; did you mean '__uint128_t'?\n",
      "  typedef __uint32_t      __darwin_wctype_t;\n",
      "          ^\n",
      "  note: '__uint128_t' declared here\n",
      "  In file included from test_program.c:1:\n",
      "  In file included from /Library/Developer/CommandLineTools/SDKs/MacOSX.sdk/usr/include/stdio.h:64:\n",
      "  In file included from /Library/Developer/CommandLineTools/SDKs/MacOSX.sdk/usr/include/_stdio.h:75:\n",
      "  In file included from /Library/Developer/CommandLineTools/SDKs/MacOSX.sdk/usr/include/sys/_types/_va_list.h:31:\n",
      "  /Library/Developer/CommandLineTools/SDKs/MacOSX.sdk/usr/include/machine/types.h:37:2: error: architecture not supported\n",
      "  #error architecture not supported\n",
      "   ^\n",
      "  In file included from test_program.c:1:\n",
      "  In file included from /Library/Developer/CommandLineTools/SDKs/MacOSX.sdk/usr/include/stdio.h:64:\n",
      "  In file included from /Library/Developer/CommandLineTools/SDKs/MacOSX.sdk/usr/include/_stdio.h:75:\n",
      "  /Library/Developer/CommandLineTools/SDKs/MacOSX.sdk/usr/include/sys/_types/_va_list.h:32:9: error: unknown type name '__darwin_va_list'\n",
      "  typedef __darwin_va_list va_list;\n",
      "          ^\n",
      "  fatal error: too many errors emitted, stopping now [-ferror-limit=]\n",
      "  20 errors generated.\n",
      "  Traceback (most recent call last):\n",
      "    File \"/Library/Frameworks/Python.framework/Versions/3.10/lib/python3.10/site-packages/pip/_vendor/pep517/in_process/_in_process.py\", line 363, in <module>\n",
      "      main()\n",
      "    File \"/Library/Frameworks/Python.framework/Versions/3.10/lib/python3.10/site-packages/pip/_vendor/pep517/in_process/_in_process.py\", line 345, in main\n",
      "      json_out['return_val'] = hook(**hook_input['kwargs'])\n",
      "    File \"/Library/Frameworks/Python.framework/Versions/3.10/lib/python3.10/site-packages/pip/_vendor/pep517/in_process/_in_process.py\", line 164, in prepare_metadata_for_build_wheel\n",
      "      return hook(metadata_directory, config_settings)\n",
      "    File \"/private/var/folders/t_/zcvqt4vn4zl31xrt94zl20440000gn/T/pip-build-env-kalfu16b/overlay/lib/python3.10/site-packages/setuptools/build_meta.py\", line 174, in prepare_metadata_for_build_wheel\n",
      "      self.run_setup()\n",
      "    File \"/private/var/folders/t_/zcvqt4vn4zl31xrt94zl20440000gn/T/pip-build-env-kalfu16b/overlay/lib/python3.10/site-packages/setuptools/build_meta.py\", line 267, in run_setup\n",
      "      super(_BuildMetaLegacyBackend,\n",
      "    File \"/private/var/folders/t_/zcvqt4vn4zl31xrt94zl20440000gn/T/pip-build-env-kalfu16b/overlay/lib/python3.10/site-packages/setuptools/build_meta.py\", line 158, in run_setup\n",
      "      exec(compile(code, __file__, 'exec'), locals())\n",
      "    File \"setup.py\", line 319, in <module>\n",
      "      setup_package()\n",
      "    File \"setup.py\", line 315, in setup_package\n",
      "      setup(**metadata)\n",
      "    File \"/private/var/folders/t_/zcvqt4vn4zl31xrt94zl20440000gn/T/pip-build-env-kalfu16b/overlay/lib/python3.10/site-packages/numpy/distutils/core.py\", line 135, in setup\n",
      "      config = configuration()\n",
      "    File \"setup.py\", line 201, in configuration\n",
      "      config.add_subpackage(\"sklearn\")\n",
      "    File \"/private/var/folders/t_/zcvqt4vn4zl31xrt94zl20440000gn/T/pip-build-env-kalfu16b/overlay/lib/python3.10/site-packages/numpy/distutils/misc_util.py\", line 1016, in add_subpackage\n",
      "      config_list = self.get_subpackage(subpackage_name, subpackage_path,\n",
      "    File \"/private/var/folders/t_/zcvqt4vn4zl31xrt94zl20440000gn/T/pip-build-env-kalfu16b/overlay/lib/python3.10/site-packages/numpy/distutils/misc_util.py\", line 982, in get_subpackage\n",
      "      config = self._get_configuration_from_setup_py(\n",
      "    File \"/private/var/folders/t_/zcvqt4vn4zl31xrt94zl20440000gn/T/pip-build-env-kalfu16b/overlay/lib/python3.10/site-packages/numpy/distutils/misc_util.py\", line 924, in _get_configuration_from_setup_py\n",
      "      config = setup_module.configuration(*args)\n",
      "    File \"sklearn/setup.py\", line 85, in configuration\n",
      "      cythonize_extensions(top_path, config)\n",
      "    File \"/private/var/folders/t_/zcvqt4vn4zl31xrt94zl20440000gn/T/pip-install-_cl9gof9/scikit-learn_e8f5f43df7d54b7fafcb93435fa9c821/sklearn/_build_utils/__init__.py\", line 47, in cythonize_extensions\n",
      "      basic_check_build()\n",
      "    File \"/private/var/folders/t_/zcvqt4vn4zl31xrt94zl20440000gn/T/pip-install-_cl9gof9/scikit-learn_e8f5f43df7d54b7fafcb93435fa9c821/sklearn/_build_utils/pre_build_helpers.py\", line 113, in basic_check_build\n",
      "      compile_test_program(code)\n",
      "    File \"/private/var/folders/t_/zcvqt4vn4zl31xrt94zl20440000gn/T/pip-install-_cl9gof9/scikit-learn_e8f5f43df7d54b7fafcb93435fa9c821/sklearn/_build_utils/pre_build_helpers.py\", line 70, in compile_test_program\n",
      "      ccompiler.compile(\n",
      "    File \"/private/var/folders/t_/zcvqt4vn4zl31xrt94zl20440000gn/T/pip-build-env-kalfu16b/overlay/lib/python3.10/site-packages/numpy/distutils/ccompiler.py\", line 88, in <lambda>\n",
      "      m = lambda self, *args, **kw: func(self, *args, **kw)\n",
      "    File \"/private/var/folders/t_/zcvqt4vn4zl31xrt94zl20440000gn/T/pip-build-env-kalfu16b/overlay/lib/python3.10/site-packages/numpy/distutils/ccompiler.py\", line 359, in CCompiler_compile\n",
      "      single_compile(o)\n",
      "    File \"/private/var/folders/t_/zcvqt4vn4zl31xrt94zl20440000gn/T/pip-build-env-kalfu16b/overlay/lib/python3.10/site-packages/numpy/distutils/ccompiler.py\", line 319, in single_compile\n",
      "      self._compile(obj, src, ext, cc_args, extra_postargs, pp_opts)\n",
      "    File \"/private/var/folders/t_/zcvqt4vn4zl31xrt94zl20440000gn/T/pip-build-env-kalfu16b/overlay/lib/python3.10/site-packages/numpy/distutils/ccompiler.py\", line 88, in <lambda>\n",
      "      m = lambda self, *args, **kw: func(self, *args, **kw)\n",
      "    File \"/private/var/folders/t_/zcvqt4vn4zl31xrt94zl20440000gn/T/pip-build-env-kalfu16b/overlay/lib/python3.10/site-packages/numpy/distutils/unixccompiler.py\", line 57, in UnixCCompiler__compile\n",
      "      raise CompileError(msg) from None\n",
      "  distutils.errors.CompileError: Command \"clang -Wno-unused-result -Wsign-compare -Wunreachable-code -fno-common -dynamic -DNDEBUG -g -fwrapv -O3 -Wall -arch arm64 -arch x86_64 -g -c test_program.c -o objects/test_program.o\" failed with exit status 1\n",
      "  ----------------------------------------\u001b[0m\n",
      "\u001b[33mWARNING: Discarding https://files.pythonhosted.org/packages/62/7c/596ff7b32f655f379d3abdfa82607e5cb3b70f46baad4604706511cfeb85/scikit-learn-1.0.1.tar.gz#sha256=ac2ca9dbb754d61cfe1c83ba8483498ef951d29b93ec09d6f002847f210a99da (from https://pypi.org/simple/scikit-learn/) (requires-python:>=3.7). Command errored out with exit status 1: /Library/Frameworks/Python.framework/Versions/3.10/bin/python3.10 /Library/Frameworks/Python.framework/Versions/3.10/lib/python3.10/site-packages/pip/_vendor/pep517/in_process/_in_process.py prepare_metadata_for_build_wheel /var/folders/t_/zcvqt4vn4zl31xrt94zl20440000gn/T/tmp3lbldn77 Check the logs for full command output.\u001b[0m\n",
      "\u001b[?25h  Downloading scikit-learn-1.0.tar.gz (7.8 MB)\n",
      "     |████████████████████████████████| 7.8 MB 3.4 MB/s            \n",
      "\u001b[?25h  Installing build dependencies ... \u001b[?25ldone\n",
      "\u001b[?25h  Getting requirements to build wheel ... \u001b[?25ldone\n",
      "\u001b[?25h  Preparing metadata (pyproject.toml) ... \u001b[?25lerror\n",
      "\u001b[31m  ERROR: Command errored out with exit status 1:\n",
      "   command: /Library/Frameworks/Python.framework/Versions/3.10/bin/python3.10 /Library/Frameworks/Python.framework/Versions/3.10/lib/python3.10/site-packages/pip/_vendor/pep517/in_process/_in_process.py prepare_metadata_for_build_wheel /var/folders/t_/zcvqt4vn4zl31xrt94zl20440000gn/T/tmptv75lcv_\n",
      "       cwd: /private/var/folders/t_/zcvqt4vn4zl31xrt94zl20440000gn/T/pip-install-_cl9gof9/scikit-learn_5feede7a91ac4a7eb7317bf12c98a06b\n",
      "  Complete output (143 lines):\n",
      "  Partial import of sklearn during the build process.\n",
      "  C compiler: clang -Wno-unused-result -Wsign-compare -Wunreachable-code -fno-common -dynamic -DNDEBUG -g -fwrapv -O3 -Wall -arch arm64 -arch x86_64 -g\n",
      "  \n",
      "  compile options: '-c'\n",
      "  clang: test_program.c\n",
      "  In file included from test_program.c:1:\n",
      "  In file included from /Library/Developer/CommandLineTools/SDKs/MacOSX.sdk/usr/include/stdio.h:64:\n",
      "  In file included from /Library/Developer/CommandLineTools/SDKs/MacOSX.sdk/usr/include/_stdio.h:68:\n",
      "  /Library/Developer/CommandLineTools/SDKs/MacOSX.sdk/usr/include/sys/cdefs.h:807:2: error: Unsupported architecture\n",
      "  #error Unsupported architecture\n",
      "   ^\n",
      "  In file included from test_program.c:1:\n",
      "  In file included from /Library/Developer/CommandLineTools/SDKs/MacOSX.sdk/usr/include/stdio.h:64:\n",
      "  In file included from /Library/Developer/CommandLineTools/SDKs/MacOSX.sdk/usr/include/_stdio.h:71:\n",
      "  In file included from /Library/Developer/CommandLineTools/SDKs/MacOSX.sdk/usr/include/_types.h:27:\n",
      "  In file included from /Library/Developer/CommandLineTools/SDKs/MacOSX.sdk/usr/include/sys/_types.h:33:\n",
      "  /Library/Developer/CommandLineTools/SDKs/MacOSX.sdk/usr/include/machine/_types.h:34:2: error: architecture not supported\n",
      "  #error architecture not supported\n",
      "   ^\n",
      "  In file included from test_program.c:1:\n",
      "  In file included from /Library/Developer/CommandLineTools/SDKs/MacOSX.sdk/usr/include/stdio.h:64:\n",
      "  In file included from /Library/Developer/CommandLineTools/SDKs/MacOSX.sdk/usr/include/_stdio.h:71:\n",
      "  In file included from /Library/Developer/CommandLineTools/SDKs/MacOSX.sdk/usr/include/_types.h:27:\n",
      "  /Library/Developer/CommandLineTools/SDKs/MacOSX.sdk/usr/include/sys/_types.h:55:9: error: unknown type name '__int64_t'\n",
      "  typedef __int64_t       __darwin_blkcnt_t;      /* total blocks */\n",
      "          ^\n",
      "  /Library/Developer/CommandLineTools/SDKs/MacOSX.sdk/usr/include/sys/_types.h:56:9: error: unknown type name '__int32_t'; did you mean '__int128_t'?\n",
      "  typedef __int32_t       __darwin_blksize_t;     /* preferred block size */\n",
      "          ^\n",
      "  note: '__int128_t' declared here\n",
      "  /Library/Developer/CommandLineTools/SDKs/MacOSX.sdk/usr/include/sys/_types.h:57:9: error: unknown type name '__int32_t'; did you mean '__int128_t'?\n",
      "  typedef __int32_t       __darwin_dev_t;         /* dev_t */\n",
      "          ^\n",
      "  note: '__int128_t' declared here\n",
      "  /Library/Developer/CommandLineTools/SDKs/MacOSX.sdk/usr/include/sys/_types.h:60:9: error: unknown type name '__uint32_t'; did you mean '__uint128_t'?\n",
      "  typedef __uint32_t      __darwin_gid_t;         /* [???] process and group IDs */\n",
      "          ^\n",
      "  note: '__uint128_t' declared here\n",
      "  /Library/Developer/CommandLineTools/SDKs/MacOSX.sdk/usr/include/sys/_types.h:61:9: error: unknown type name '__uint32_t'; did you mean '__uint128_t'?\n",
      "  typedef __uint32_t      __darwin_id_t;          /* [XSI] pid_t, uid_t, or gid_t*/\n",
      "          ^\n",
      "  note: '__uint128_t' declared here\n",
      "  /Library/Developer/CommandLineTools/SDKs/MacOSX.sdk/usr/include/sys/_types.h:62:9: error: unknown type name '__uint64_t'\n",
      "  typedef __uint64_t      __darwin_ino64_t;       /* [???] Used for 64 bit inodes */\n",
      "          ^\n",
      "  /Library/Developer/CommandLineTools/SDKs/MacOSX.sdk/usr/include/sys/_types.h:68:9: error: unknown type name '__darwin_natural_t'\n",
      "  typedef __darwin_natural_t __darwin_mach_port_name_t; /* Used by mach */\n",
      "          ^\n",
      "  /Library/Developer/CommandLineTools/SDKs/MacOSX.sdk/usr/include/sys/_types.h:70:9: error: unknown type name '__uint16_t'; did you mean '__uint128_t'?\n",
      "  typedef __uint16_t      __darwin_mode_t;        /* [???] Some file attributes */\n",
      "          ^\n",
      "  note: '__uint128_t' declared here\n",
      "  /Library/Developer/CommandLineTools/SDKs/MacOSX.sdk/usr/include/sys/_types.h:71:9: error: unknown type name '__int64_t'\n",
      "  typedef __int64_t       __darwin_off_t;         /* [???] Used for file sizes */\n",
      "          ^\n",
      "  /Library/Developer/CommandLineTools/SDKs/MacOSX.sdk/usr/include/sys/_types.h:72:9: error: unknown type name '__int32_t'; did you mean '__int128_t'?\n",
      "  typedef __int32_t       __darwin_pid_t;         /* [???] process and group IDs */\n",
      "          ^\n",
      "  note: '__int128_t' declared here\n",
      "  /Library/Developer/CommandLineTools/SDKs/MacOSX.sdk/usr/include/sys/_types.h:73:9: error: unknown type name '__uint32_t'; did you mean '__uint128_t'?\n",
      "  typedef __uint32_t      __darwin_sigset_t;      /* [???] signal set */\n",
      "          ^\n",
      "  note: '__uint128_t' declared here\n",
      "  /Library/Developer/CommandLineTools/SDKs/MacOSX.sdk/usr/include/sys/_types.h:74:9: error: unknown type name '__int32_t'; did you mean '__int128_t'?\n",
      "  typedef __int32_t       __darwin_suseconds_t;   /* [???] microseconds */\n",
      "          ^\n",
      "  note: '__int128_t' declared here\n",
      "  /Library/Developer/CommandLineTools/SDKs/MacOSX.sdk/usr/include/sys/_types.h:75:9: error: unknown type name '__uint32_t'; did you mean '__uint128_t'?\n",
      "  typedef __uint32_t      __darwin_uid_t;         /* [???] user IDs */\n",
      "          ^\n",
      "  note: '__uint128_t' declared here\n",
      "  /Library/Developer/CommandLineTools/SDKs/MacOSX.sdk/usr/include/sys/_types.h:76:9: error: unknown type name '__uint32_t'; did you mean '__uint128_t'?\n",
      "  typedef __uint32_t      __darwin_useconds_t;    /* [???] microseconds */\n",
      "          ^\n",
      "  note: '__uint128_t' declared here\n",
      "  In file included from test_program.c:1:\n",
      "  In file included from /Library/Developer/CommandLineTools/SDKs/MacOSX.sdk/usr/include/stdio.h:64:\n",
      "  In file included from /Library/Developer/CommandLineTools/SDKs/MacOSX.sdk/usr/include/_stdio.h:71:\n",
      "  /Library/Developer/CommandLineTools/SDKs/MacOSX.sdk/usr/include/_types.h:43:9: error: unknown type name '__uint32_t'; did you mean '__uint128_t'?\n",
      "  typedef __uint32_t      __darwin_wctype_t;\n",
      "          ^\n",
      "  note: '__uint128_t' declared here\n",
      "  In file included from test_program.c:1:\n",
      "  In file included from /Library/Developer/CommandLineTools/SDKs/MacOSX.sdk/usr/include/stdio.h:64:\n",
      "  In file included from /Library/Developer/CommandLineTools/SDKs/MacOSX.sdk/usr/include/_stdio.h:75:\n",
      "  In file included from /Library/Developer/CommandLineTools/SDKs/MacOSX.sdk/usr/include/sys/_types/_va_list.h:31:\n",
      "  /Library/Developer/CommandLineTools/SDKs/MacOSX.sdk/usr/include/machine/types.h:37:2: error: architecture not supported\n",
      "  #error architecture not supported\n",
      "   ^\n",
      "  In file included from test_program.c:1:\n",
      "  In file included from /Library/Developer/CommandLineTools/SDKs/MacOSX.sdk/usr/include/stdio.h:64:\n",
      "  In file included from /Library/Developer/CommandLineTools/SDKs/MacOSX.sdk/usr/include/_stdio.h:75:\n",
      "  /Library/Developer/CommandLineTools/SDKs/MacOSX.sdk/usr/include/sys/_types/_va_list.h:32:9: error: unknown type name '__darwin_va_list'\n",
      "  typedef __darwin_va_list va_list;\n",
      "          ^\n",
      "  fatal error: too many errors emitted, stopping now [-ferror-limit=]\n",
      "  20 errors generated.\n",
      "  Traceback (most recent call last):\n",
      "    File \"/Library/Frameworks/Python.framework/Versions/3.10/lib/python3.10/site-packages/pip/_vendor/pep517/in_process/_in_process.py\", line 363, in <module>\n",
      "      main()\n",
      "    File \"/Library/Frameworks/Python.framework/Versions/3.10/lib/python3.10/site-packages/pip/_vendor/pep517/in_process/_in_process.py\", line 345, in main\n",
      "      json_out['return_val'] = hook(**hook_input['kwargs'])\n",
      "    File \"/Library/Frameworks/Python.framework/Versions/3.10/lib/python3.10/site-packages/pip/_vendor/pep517/in_process/_in_process.py\", line 164, in prepare_metadata_for_build_wheel\n",
      "      return hook(metadata_directory, config_settings)\n",
      "    File \"/private/var/folders/t_/zcvqt4vn4zl31xrt94zl20440000gn/T/pip-build-env-rncdj9al/overlay/lib/python3.10/site-packages/setuptools/build_meta.py\", line 174, in prepare_metadata_for_build_wheel\n",
      "      self.run_setup()\n",
      "    File \"/private/var/folders/t_/zcvqt4vn4zl31xrt94zl20440000gn/T/pip-build-env-rncdj9al/overlay/lib/python3.10/site-packages/setuptools/build_meta.py\", line 267, in run_setup\n",
      "      super(_BuildMetaLegacyBackend,\n",
      "    File \"/private/var/folders/t_/zcvqt4vn4zl31xrt94zl20440000gn/T/pip-build-env-rncdj9al/overlay/lib/python3.10/site-packages/setuptools/build_meta.py\", line 158, in run_setup\n",
      "      exec(compile(code, __file__, 'exec'), locals())\n",
      "    File \"setup.py\", line 319, in <module>\n",
      "      setup_package()\n",
      "    File \"setup.py\", line 315, in setup_package\n",
      "      setup(**metadata)\n",
      "    File \"/private/var/folders/t_/zcvqt4vn4zl31xrt94zl20440000gn/T/pip-build-env-rncdj9al/overlay/lib/python3.10/site-packages/numpy/distutils/core.py\", line 135, in setup\n",
      "      config = configuration()\n",
      "    File \"setup.py\", line 201, in configuration\n",
      "      config.add_subpackage(\"sklearn\")\n",
      "    File \"/private/var/folders/t_/zcvqt4vn4zl31xrt94zl20440000gn/T/pip-build-env-rncdj9al/overlay/lib/python3.10/site-packages/numpy/distutils/misc_util.py\", line 1016, in add_subpackage\n",
      "      config_list = self.get_subpackage(subpackage_name, subpackage_path,\n",
      "    File \"/private/var/folders/t_/zcvqt4vn4zl31xrt94zl20440000gn/T/pip-build-env-rncdj9al/overlay/lib/python3.10/site-packages/numpy/distutils/misc_util.py\", line 982, in get_subpackage\n",
      "      config = self._get_configuration_from_setup_py(\n",
      "    File \"/private/var/folders/t_/zcvqt4vn4zl31xrt94zl20440000gn/T/pip-build-env-rncdj9al/overlay/lib/python3.10/site-packages/numpy/distutils/misc_util.py\", line 924, in _get_configuration_from_setup_py\n",
      "      config = setup_module.configuration(*args)\n",
      "    File \"sklearn/setup.py\", line 85, in configuration\n",
      "      cythonize_extensions(top_path, config)\n",
      "    File \"/private/var/folders/t_/zcvqt4vn4zl31xrt94zl20440000gn/T/pip-install-_cl9gof9/scikit-learn_5feede7a91ac4a7eb7317bf12c98a06b/sklearn/_build_utils/__init__.py\", line 47, in cythonize_extensions\n",
      "      basic_check_build()\n",
      "    File \"/private/var/folders/t_/zcvqt4vn4zl31xrt94zl20440000gn/T/pip-install-_cl9gof9/scikit-learn_5feede7a91ac4a7eb7317bf12c98a06b/sklearn/_build_utils/pre_build_helpers.py\", line 113, in basic_check_build\n",
      "      compile_test_program(code)\n",
      "    File \"/private/var/folders/t_/zcvqt4vn4zl31xrt94zl20440000gn/T/pip-install-_cl9gof9/scikit-learn_5feede7a91ac4a7eb7317bf12c98a06b/sklearn/_build_utils/pre_build_helpers.py\", line 70, in compile_test_program\n",
      "      ccompiler.compile(\n",
      "    File \"/private/var/folders/t_/zcvqt4vn4zl31xrt94zl20440000gn/T/pip-build-env-rncdj9al/overlay/lib/python3.10/site-packages/numpy/distutils/ccompiler.py\", line 88, in <lambda>\n",
      "      m = lambda self, *args, **kw: func(self, *args, **kw)\n",
      "    File \"/private/var/folders/t_/zcvqt4vn4zl31xrt94zl20440000gn/T/pip-build-env-rncdj9al/overlay/lib/python3.10/site-packages/numpy/distutils/ccompiler.py\", line 359, in CCompiler_compile\n",
      "      single_compile(o)\n",
      "    File \"/private/var/folders/t_/zcvqt4vn4zl31xrt94zl20440000gn/T/pip-build-env-rncdj9al/overlay/lib/python3.10/site-packages/numpy/distutils/ccompiler.py\", line 319, in single_compile\n",
      "      self._compile(obj, src, ext, cc_args, extra_postargs, pp_opts)\n",
      "    File \"/private/var/folders/t_/zcvqt4vn4zl31xrt94zl20440000gn/T/pip-build-env-rncdj9al/overlay/lib/python3.10/site-packages/numpy/distutils/ccompiler.py\", line 88, in <lambda>\n",
      "      m = lambda self, *args, **kw: func(self, *args, **kw)\n",
      "    File \"/private/var/folders/t_/zcvqt4vn4zl31xrt94zl20440000gn/T/pip-build-env-rncdj9al/overlay/lib/python3.10/site-packages/numpy/distutils/unixccompiler.py\", line 57, in UnixCCompiler__compile\n",
      "      raise CompileError(msg) from None\n",
      "  distutils.errors.CompileError: Command \"clang -Wno-unused-result -Wsign-compare -Wunreachable-code -fno-common -dynamic -DNDEBUG -g -fwrapv -O3 -Wall -arch arm64 -arch x86_64 -g -c test_program.c -o objects/test_program.o\" failed with exit status 1\n",
      "  ----------------------------------------\u001b[0m\n",
      "\u001b[33mWARNING: Discarding https://files.pythonhosted.org/packages/e1/4d/15c3542a17eebf61e48bd71dc55b5f3b5031f1cd0dc4aad1ff9ac9651e49/scikit-learn-1.0.tar.gz#sha256=776800194e757cd212b47cd05907e0eb67a554ad333fe76776060dbb729e3427 (from https://pypi.org/simple/scikit-learn/) (requires-python:>=3.7). Command errored out with exit status 1: /Library/Frameworks/Python.framework/Versions/3.10/bin/python3.10 /Library/Frameworks/Python.framework/Versions/3.10/lib/python3.10/site-packages/pip/_vendor/pep517/in_process/_in_process.py prepare_metadata_for_build_wheel /var/folders/t_/zcvqt4vn4zl31xrt94zl20440000gn/T/tmptv75lcv_ Check the logs for full command output.\u001b[0m\n",
      "\u001b[?25h  Downloading scikit-learn-0.24.2.tar.gz (7.5 MB)\n",
      "     |████████████████████████████████| 7.5 MB 5.4 MB/s            \n",
      "\u001b[?25h  Installing build dependencies ... \u001b[?25ldone\n",
      "\u001b[?25h  Getting requirements to build wheel ... \u001b[?25ldone\n",
      "\u001b[?25h  Preparing metadata (pyproject.toml) ... \u001b[?25lerror\n",
      "\u001b[31m  ERROR: Command errored out with exit status 1:\n",
      "   command: /Library/Frameworks/Python.framework/Versions/3.10/bin/python3.10 /Library/Frameworks/Python.framework/Versions/3.10/lib/python3.10/site-packages/pip/_vendor/pep517/in_process/_in_process.py prepare_metadata_for_build_wheel /var/folders/t_/zcvqt4vn4zl31xrt94zl20440000gn/T/tmpzc3bufjh\n",
      "       cwd: /private/var/folders/t_/zcvqt4vn4zl31xrt94zl20440000gn/T/pip-install-_cl9gof9/scikit-learn_b32f2a55d1974e5c9101e17a195790e6\n",
      "  Complete output (143 lines):\n",
      "  Partial import of sklearn during the build process.\n",
      "  C compiler: clang -Wno-unused-result -Wsign-compare -Wunreachable-code -fno-common -dynamic -DNDEBUG -g -fwrapv -O3 -Wall -arch arm64 -arch x86_64 -g\n",
      "  \n",
      "  compile options: '-c'\n",
      "  clang: test_program.c\n",
      "  In file included from test_program.c:1:\n",
      "  In file included from /Library/Developer/CommandLineTools/SDKs/MacOSX.sdk/usr/include/stdio.h:64:\n",
      "  In file included from /Library/Developer/CommandLineTools/SDKs/MacOSX.sdk/usr/include/_stdio.h:68:\n",
      "  /Library/Developer/CommandLineTools/SDKs/MacOSX.sdk/usr/include/sys/cdefs.h:807:2: error: Unsupported architecture\n",
      "  #error Unsupported architecture\n",
      "   ^\n",
      "  In file included from test_program.c:1:\n",
      "  In file included from /Library/Developer/CommandLineTools/SDKs/MacOSX.sdk/usr/include/stdio.h:64:\n",
      "  In file included from /Library/Developer/CommandLineTools/SDKs/MacOSX.sdk/usr/include/_stdio.h:71:\n",
      "  In file included from /Library/Developer/CommandLineTools/SDKs/MacOSX.sdk/usr/include/_types.h:27:\n",
      "  In file included from /Library/Developer/CommandLineTools/SDKs/MacOSX.sdk/usr/include/sys/_types.h:33:\n",
      "  /Library/Developer/CommandLineTools/SDKs/MacOSX.sdk/usr/include/machine/_types.h:34:2: error: architecture not supported\n",
      "  #error architecture not supported\n",
      "   ^\n",
      "  In file included from test_program.c:1:\n",
      "  In file included from /Library/Developer/CommandLineTools/SDKs/MacOSX.sdk/usr/include/stdio.h:64:\n",
      "  In file included from /Library/Developer/CommandLineTools/SDKs/MacOSX.sdk/usr/include/_stdio.h:71:\n",
      "  In file included from /Library/Developer/CommandLineTools/SDKs/MacOSX.sdk/usr/include/_types.h:27:\n",
      "  /Library/Developer/CommandLineTools/SDKs/MacOSX.sdk/usr/include/sys/_types.h:55:9: error: unknown type name '__int64_t'\n",
      "  typedef __int64_t       __darwin_blkcnt_t;      /* total blocks */\n",
      "          ^\n",
      "  /Library/Developer/CommandLineTools/SDKs/MacOSX.sdk/usr/include/sys/_types.h:56:9: error: unknown type name '__int32_t'; did you mean '__int128_t'?\n",
      "  typedef __int32_t       __darwin_blksize_t;     /* preferred block size */\n",
      "          ^\n",
      "  note: '__int128_t' declared here\n",
      "  /Library/Developer/CommandLineTools/SDKs/MacOSX.sdk/usr/include/sys/_types.h:57:9: error: unknown type name '__int32_t'; did you mean '__int128_t'?\n",
      "  typedef __int32_t       __darwin_dev_t;         /* dev_t */\n",
      "          ^\n",
      "  note: '__int128_t' declared here\n",
      "  /Library/Developer/CommandLineTools/SDKs/MacOSX.sdk/usr/include/sys/_types.h:60:9: error: unknown type name '__uint32_t'; did you mean '__uint128_t'?\n",
      "  typedef __uint32_t      __darwin_gid_t;         /* [???] process and group IDs */\n",
      "          ^\n",
      "  note: '__uint128_t' declared here\n",
      "  /Library/Developer/CommandLineTools/SDKs/MacOSX.sdk/usr/include/sys/_types.h:61:9: error: unknown type name '__uint32_t'; did you mean '__uint128_t'?\n",
      "  typedef __uint32_t      __darwin_id_t;          /* [XSI] pid_t, uid_t, or gid_t*/\n",
      "          ^\n",
      "  note: '__uint128_t' declared here\n",
      "  /Library/Developer/CommandLineTools/SDKs/MacOSX.sdk/usr/include/sys/_types.h:62:9: error: unknown type name '__uint64_t'\n",
      "  typedef __uint64_t      __darwin_ino64_t;       /* [???] Used for 64 bit inodes */\n",
      "          ^\n",
      "  /Library/Developer/CommandLineTools/SDKs/MacOSX.sdk/usr/include/sys/_types.h:68:9: error: unknown type name '__darwin_natural_t'\n",
      "  typedef __darwin_natural_t __darwin_mach_port_name_t; /* Used by mach */\n",
      "          ^\n",
      "  /Library/Developer/CommandLineTools/SDKs/MacOSX.sdk/usr/include/sys/_types.h:70:9: error: unknown type name '__uint16_t'; did you mean '__uint128_t'?\n",
      "  typedef __uint16_t      __darwin_mode_t;        /* [???] Some file attributes */\n",
      "          ^\n",
      "  note: '__uint128_t' declared here\n",
      "  /Library/Developer/CommandLineTools/SDKs/MacOSX.sdk/usr/include/sys/_types.h:71:9: error: unknown type name '__int64_t'\n",
      "  typedef __int64_t       __darwin_off_t;         /* [???] Used for file sizes */\n",
      "          ^\n",
      "  /Library/Developer/CommandLineTools/SDKs/MacOSX.sdk/usr/include/sys/_types.h:72:9: error: unknown type name '__int32_t'; did you mean '__int128_t'?\n",
      "  typedef __int32_t       __darwin_pid_t;         /* [???] process and group IDs */\n",
      "          ^\n",
      "  note: '__int128_t' declared here\n",
      "  /Library/Developer/CommandLineTools/SDKs/MacOSX.sdk/usr/include/sys/_types.h:73:9: error: unknown type name '__uint32_t'; did you mean '__uint128_t'?\n",
      "  typedef __uint32_t      __darwin_sigset_t;      /* [???] signal set */\n",
      "          ^\n",
      "  note: '__uint128_t' declared here\n",
      "  /Library/Developer/CommandLineTools/SDKs/MacOSX.sdk/usr/include/sys/_types.h:74:9: error: unknown type name '__int32_t'; did you mean '__int128_t'?\n",
      "  typedef __int32_t       __darwin_suseconds_t;   /* [???] microseconds */\n",
      "          ^\n",
      "  note: '__int128_t' declared here\n",
      "  /Library/Developer/CommandLineTools/SDKs/MacOSX.sdk/usr/include/sys/_types.h:75:9: error: unknown type name '__uint32_t'; did you mean '__uint128_t'?\n",
      "  typedef __uint32_t      __darwin_uid_t;         /* [???] user IDs */\n",
      "          ^\n",
      "  note: '__uint128_t' declared here\n",
      "  /Library/Developer/CommandLineTools/SDKs/MacOSX.sdk/usr/include/sys/_types.h:76:9: error: unknown type name '__uint32_t'; did you mean '__uint128_t'?\n",
      "  typedef __uint32_t      __darwin_useconds_t;    /* [???] microseconds */\n",
      "          ^\n",
      "  note: '__uint128_t' declared here\n",
      "  In file included from test_program.c:1:\n",
      "  In file included from /Library/Developer/CommandLineTools/SDKs/MacOSX.sdk/usr/include/stdio.h:64:\n",
      "  In file included from /Library/Developer/CommandLineTools/SDKs/MacOSX.sdk/usr/include/_stdio.h:71:\n",
      "  /Library/Developer/CommandLineTools/SDKs/MacOSX.sdk/usr/include/_types.h:43:9: error: unknown type name '__uint32_t'; did you mean '__uint128_t'?\n",
      "  typedef __uint32_t      __darwin_wctype_t;\n",
      "          ^\n",
      "  note: '__uint128_t' declared here\n",
      "  In file included from test_program.c:1:\n",
      "  In file included from /Library/Developer/CommandLineTools/SDKs/MacOSX.sdk/usr/include/stdio.h:64:\n",
      "  In file included from /Library/Developer/CommandLineTools/SDKs/MacOSX.sdk/usr/include/_stdio.h:75:\n",
      "  In file included from /Library/Developer/CommandLineTools/SDKs/MacOSX.sdk/usr/include/sys/_types/_va_list.h:31:\n",
      "  /Library/Developer/CommandLineTools/SDKs/MacOSX.sdk/usr/include/machine/types.h:37:2: error: architecture not supported\n",
      "  #error architecture not supported\n",
      "   ^\n",
      "  In file included from test_program.c:1:\n",
      "  In file included from /Library/Developer/CommandLineTools/SDKs/MacOSX.sdk/usr/include/stdio.h:64:\n",
      "  In file included from /Library/Developer/CommandLineTools/SDKs/MacOSX.sdk/usr/include/_stdio.h:75:\n",
      "  /Library/Developer/CommandLineTools/SDKs/MacOSX.sdk/usr/include/sys/_types/_va_list.h:32:9: error: unknown type name '__darwin_va_list'\n",
      "  typedef __darwin_va_list va_list;\n",
      "          ^\n",
      "  fatal error: too many errors emitted, stopping now [-ferror-limit=]\n",
      "  20 errors generated.\n",
      "  Traceback (most recent call last):\n",
      "    File \"/Library/Frameworks/Python.framework/Versions/3.10/lib/python3.10/site-packages/pip/_vendor/pep517/in_process/_in_process.py\", line 363, in <module>\n",
      "      main()\n",
      "    File \"/Library/Frameworks/Python.framework/Versions/3.10/lib/python3.10/site-packages/pip/_vendor/pep517/in_process/_in_process.py\", line 345, in main\n",
      "      json_out['return_val'] = hook(**hook_input['kwargs'])\n",
      "    File \"/Library/Frameworks/Python.framework/Versions/3.10/lib/python3.10/site-packages/pip/_vendor/pep517/in_process/_in_process.py\", line 164, in prepare_metadata_for_build_wheel\n",
      "      return hook(metadata_directory, config_settings)\n",
      "    File \"/private/var/folders/t_/zcvqt4vn4zl31xrt94zl20440000gn/T/pip-build-env-wt5sc0qe/overlay/lib/python3.10/site-packages/setuptools/build_meta.py\", line 174, in prepare_metadata_for_build_wheel\n",
      "      self.run_setup()\n",
      "    File \"/private/var/folders/t_/zcvqt4vn4zl31xrt94zl20440000gn/T/pip-build-env-wt5sc0qe/overlay/lib/python3.10/site-packages/setuptools/build_meta.py\", line 267, in run_setup\n",
      "      super(_BuildMetaLegacyBackend,\n",
      "    File \"/private/var/folders/t_/zcvqt4vn4zl31xrt94zl20440000gn/T/pip-build-env-wt5sc0qe/overlay/lib/python3.10/site-packages/setuptools/build_meta.py\", line 158, in run_setup\n",
      "      exec(compile(code, __file__, 'exec'), locals())\n",
      "    File \"setup.py\", line 301, in <module>\n",
      "      setup_package()\n",
      "    File \"setup.py\", line 297, in setup_package\n",
      "      setup(**metadata)\n",
      "    File \"/private/var/folders/t_/zcvqt4vn4zl31xrt94zl20440000gn/T/pip-build-env-wt5sc0qe/overlay/lib/python3.10/site-packages/numpy/distutils/core.py\", line 135, in setup\n",
      "      config = configuration()\n",
      "    File \"setup.py\", line 188, in configuration\n",
      "      config.add_subpackage('sklearn')\n",
      "    File \"/private/var/folders/t_/zcvqt4vn4zl31xrt94zl20440000gn/T/pip-build-env-wt5sc0qe/overlay/lib/python3.10/site-packages/numpy/distutils/misc_util.py\", line 1016, in add_subpackage\n",
      "      config_list = self.get_subpackage(subpackage_name, subpackage_path,\n",
      "    File \"/private/var/folders/t_/zcvqt4vn4zl31xrt94zl20440000gn/T/pip-build-env-wt5sc0qe/overlay/lib/python3.10/site-packages/numpy/distutils/misc_util.py\", line 982, in get_subpackage\n",
      "      config = self._get_configuration_from_setup_py(\n",
      "    File \"/private/var/folders/t_/zcvqt4vn4zl31xrt94zl20440000gn/T/pip-build-env-wt5sc0qe/overlay/lib/python3.10/site-packages/numpy/distutils/misc_util.py\", line 924, in _get_configuration_from_setup_py\n",
      "      config = setup_module.configuration(*args)\n",
      "    File \"sklearn/setup.py\", line 83, in configuration\n",
      "      cythonize_extensions(top_path, config)\n",
      "    File \"/private/var/folders/t_/zcvqt4vn4zl31xrt94zl20440000gn/T/pip-install-_cl9gof9/scikit-learn_b32f2a55d1974e5c9101e17a195790e6/sklearn/_build_utils/__init__.py\", line 45, in cythonize_extensions\n",
      "      basic_check_build()\n",
      "    File \"/private/var/folders/t_/zcvqt4vn4zl31xrt94zl20440000gn/T/pip-install-_cl9gof9/scikit-learn_b32f2a55d1974e5c9101e17a195790e6/sklearn/_build_utils/pre_build_helpers.py\", line 106, in basic_check_build\n",
      "      compile_test_program(code)\n",
      "    File \"/private/var/folders/t_/zcvqt4vn4zl31xrt94zl20440000gn/T/pip-install-_cl9gof9/scikit-learn_b32f2a55d1974e5c9101e17a195790e6/sklearn/_build_utils/pre_build_helpers.py\", line 66, in compile_test_program\n",
      "      ccompiler.compile(['test_program.c'], output_dir='objects',\n",
      "    File \"/private/var/folders/t_/zcvqt4vn4zl31xrt94zl20440000gn/T/pip-build-env-wt5sc0qe/overlay/lib/python3.10/site-packages/numpy/distutils/ccompiler.py\", line 88, in <lambda>\n",
      "      m = lambda self, *args, **kw: func(self, *args, **kw)\n",
      "    File \"/private/var/folders/t_/zcvqt4vn4zl31xrt94zl20440000gn/T/pip-build-env-wt5sc0qe/overlay/lib/python3.10/site-packages/numpy/distutils/ccompiler.py\", line 359, in CCompiler_compile\n",
      "      single_compile(o)\n",
      "    File \"/private/var/folders/t_/zcvqt4vn4zl31xrt94zl20440000gn/T/pip-build-env-wt5sc0qe/overlay/lib/python3.10/site-packages/numpy/distutils/ccompiler.py\", line 319, in single_compile\n",
      "      self._compile(obj, src, ext, cc_args, extra_postargs, pp_opts)\n",
      "    File \"/private/var/folders/t_/zcvqt4vn4zl31xrt94zl20440000gn/T/pip-build-env-wt5sc0qe/overlay/lib/python3.10/site-packages/numpy/distutils/ccompiler.py\", line 88, in <lambda>\n",
      "      m = lambda self, *args, **kw: func(self, *args, **kw)\n",
      "    File \"/private/var/folders/t_/zcvqt4vn4zl31xrt94zl20440000gn/T/pip-build-env-wt5sc0qe/overlay/lib/python3.10/site-packages/numpy/distutils/unixccompiler.py\", line 57, in UnixCCompiler__compile\n",
      "      raise CompileError(msg) from None\n",
      "  distutils.errors.CompileError: Command \"clang -Wno-unused-result -Wsign-compare -Wunreachable-code -fno-common -dynamic -DNDEBUG -g -fwrapv -O3 -Wall -arch arm64 -arch x86_64 -g -c test_program.c -o objects/test_program.o\" failed with exit status 1\n",
      "  ----------------------------------------\u001b[0m\n",
      "\u001b[33mWARNING: Discarding https://files.pythonhosted.org/packages/05/04/507280f20fafc8bc94b41e0592938c6f4a910d0e066be7c8ff1299628f5d/scikit-learn-0.24.2.tar.gz#sha256=d14701a12417930392cd3898e9646cf5670c190b933625ebe7511b1f7d7b8736 (from https://pypi.org/simple/scikit-learn/) (requires-python:>=3.6). Command errored out with exit status 1: /Library/Frameworks/Python.framework/Versions/3.10/bin/python3.10 /Library/Frameworks/Python.framework/Versions/3.10/lib/python3.10/site-packages/pip/_vendor/pep517/in_process/_in_process.py prepare_metadata_for_build_wheel /var/folders/t_/zcvqt4vn4zl31xrt94zl20440000gn/T/tmpzc3bufjh Check the logs for full command output.\u001b[0m\n",
      "\u001b[?25h  Downloading scikit-learn-0.24.1.tar.gz (7.4 MB)\n",
      "     |████████████████████████████████| 7.4 MB 3.0 MB/s            \n",
      "\u001b[?25h  Installing build dependencies ... \u001b[?25ldone\n",
      "\u001b[?25h  Getting requirements to build wheel ... \u001b[?25ldone\n",
      "\u001b[?25h  Preparing metadata (pyproject.toml) ... \u001b[?25ldone\n",
      "\u001b[?25hCollecting threadpoolctl>=2.0.0\n",
      "  Downloading threadpoolctl-3.0.0-py3-none-any.whl (14 kB)\n",
      "Collecting joblib>=0.11\n",
      "  Downloading joblib-1.1.0-py2.py3-none-any.whl (306 kB)\n",
      "     |████████████████████████████████| 306 kB 4.7 MB/s            \n",
      "\u001b[?25hRequirement already satisfied: scipy>=0.19.1 in /Library/Frameworks/Python.framework/Versions/3.10/lib/python3.10/site-packages (from scikit-learn) (1.7.2)\n",
      "Requirement already satisfied: numpy>=1.13.3 in /Library/Frameworks/Python.framework/Versions/3.10/lib/python3.10/site-packages (from scikit-learn) (1.21.4)\n",
      "Building wheels for collected packages: scikit-learn\n",
      "  Building wheel for scikit-learn (pyproject.toml) ... \u001b[?25lerror\n",
      "\u001b[31m  ERROR: Command errored out with exit status 1:\n",
      "   command: /Library/Frameworks/Python.framework/Versions/3.10/bin/python3.10 /Library/Frameworks/Python.framework/Versions/3.10/lib/python3.10/site-packages/pip/_vendor/pep517/in_process/_in_process.py build_wheel /var/folders/t_/zcvqt4vn4zl31xrt94zl20440000gn/T/tmp4iugph11\n",
      "       cwd: /private/var/folders/t_/zcvqt4vn4zl31xrt94zl20440000gn/T/pip-install-_cl9gof9/scikit-learn_91013df3dbb24afc8ac0ea5c6056fe62\n",
      "  Complete output (145 lines):\n",
      "  Partial import of sklearn during the build process.\n",
      "  C compiler: clang -Wno-unused-result -Wsign-compare -Wunreachable-code -fno-common -dynamic -DNDEBUG -g -fwrapv -O3 -Wall -arch arm64 -arch x86_64 -g\n",
      "  \n",
      "  compile options: '-c'\n",
      "  clang: test_program.c\n",
      "  In file included from test_program.c:1:\n",
      "  In file included from /Library/Developer/CommandLineTools/SDKs/MacOSX.sdk/usr/include/stdio.h:64:\n",
      "  In file included from /Library/Developer/CommandLineTools/SDKs/MacOSX.sdk/usr/include/_stdio.h:68:\n",
      "  /Library/Developer/CommandLineTools/SDKs/MacOSX.sdk/usr/include/sys/cdefs.h:807:2: error: Unsupported architecture\n",
      "  #error Unsupported architecture\n",
      "   ^\n",
      "  In file included from test_program.c:1:\n",
      "  In file included from /Library/Developer/CommandLineTools/SDKs/MacOSX.sdk/usr/include/stdio.h:64:\n",
      "  In file included from /Library/Developer/CommandLineTools/SDKs/MacOSX.sdk/usr/include/_stdio.h:71:\n",
      "  In file included from /Library/Developer/CommandLineTools/SDKs/MacOSX.sdk/usr/include/_types.h:27:\n",
      "  In file included from /Library/Developer/CommandLineTools/SDKs/MacOSX.sdk/usr/include/sys/_types.h:33:\n",
      "  /Library/Developer/CommandLineTools/SDKs/MacOSX.sdk/usr/include/machine/_types.h:34:2: error: architecture not supported\n",
      "  #error architecture not supported\n",
      "   ^\n",
      "  In file included from test_program.c:1:\n",
      "  In file included from /Library/Developer/CommandLineTools/SDKs/MacOSX.sdk/usr/include/stdio.h:64:\n",
      "  In file included from /Library/Developer/CommandLineTools/SDKs/MacOSX.sdk/usr/include/_stdio.h:71:\n",
      "  In file included from /Library/Developer/CommandLineTools/SDKs/MacOSX.sdk/usr/include/_types.h:27:\n",
      "  /Library/Developer/CommandLineTools/SDKs/MacOSX.sdk/usr/include/sys/_types.h:55:9: error: unknown type name '__int64_t'\n",
      "  typedef __int64_t       __darwin_blkcnt_t;      /* total blocks */\n",
      "          ^\n",
      "  /Library/Developer/CommandLineTools/SDKs/MacOSX.sdk/usr/include/sys/_types.h:56:9: error: unknown type name '__int32_t'; did you mean '__int128_t'?\n",
      "  typedef __int32_t       __darwin_blksize_t;     /* preferred block size */\n",
      "          ^\n",
      "  note: '__int128_t' declared here\n",
      "  /Library/Developer/CommandLineTools/SDKs/MacOSX.sdk/usr/include/sys/_types.h:57:9: error: unknown type name '__int32_t'; did you mean '__int128_t'?\n",
      "  typedef __int32_t       __darwin_dev_t;         /* dev_t */\n",
      "          ^\n",
      "  note: '__int128_t' declared here\n",
      "  /Library/Developer/CommandLineTools/SDKs/MacOSX.sdk/usr/include/sys/_types.h:60:9: error: unknown type name '__uint32_t'; did you mean '__uint128_t'?\n",
      "  typedef __uint32_t      __darwin_gid_t;         /* [???] process and group IDs */\n",
      "          ^\n",
      "  note: '__uint128_t' declared here\n",
      "  /Library/Developer/CommandLineTools/SDKs/MacOSX.sdk/usr/include/sys/_types.h:61:9: error: unknown type name '__uint32_t'; did you mean '__uint128_t'?\n",
      "  typedef __uint32_t      __darwin_id_t;          /* [XSI] pid_t, uid_t, or gid_t*/\n",
      "          ^\n",
      "  note: '__uint128_t' declared here\n",
      "  /Library/Developer/CommandLineTools/SDKs/MacOSX.sdk/usr/include/sys/_types.h:62:9: error: unknown type name '__uint64_t'\n",
      "  typedef __uint64_t      __darwin_ino64_t;       /* [???] Used for 64 bit inodes */\n",
      "          ^\n",
      "  /Library/Developer/CommandLineTools/SDKs/MacOSX.sdk/usr/include/sys/_types.h:68:9: error: unknown type name '__darwin_natural_t'\n",
      "  typedef __darwin_natural_t __darwin_mach_port_name_t; /* Used by mach */\n",
      "          ^\n",
      "  /Library/Developer/CommandLineTools/SDKs/MacOSX.sdk/usr/include/sys/_types.h:70:9: error: unknown type name '__uint16_t'; did you mean '__uint128_t'?\n",
      "  typedef __uint16_t      __darwin_mode_t;        /* [???] Some file attributes */\n",
      "          ^\n",
      "  note: '__uint128_t' declared here\n",
      "  /Library/Developer/CommandLineTools/SDKs/MacOSX.sdk/usr/include/sys/_types.h:71:9: error: unknown type name '__int64_t'\n",
      "  typedef __int64_t       __darwin_off_t;         /* [???] Used for file sizes */\n",
      "          ^\n",
      "  /Library/Developer/CommandLineTools/SDKs/MacOSX.sdk/usr/include/sys/_types.h:72:9: error: unknown type name '__int32_t'; did you mean '__int128_t'?\n",
      "  typedef __int32_t       __darwin_pid_t;         /* [???] process and group IDs */\n",
      "          ^\n",
      "  note: '__int128_t' declared here\n",
      "  /Library/Developer/CommandLineTools/SDKs/MacOSX.sdk/usr/include/sys/_types.h:73:9: error: unknown type name '__uint32_t'; did you mean '__uint128_t'?\n",
      "  typedef __uint32_t      __darwin_sigset_t;      /* [???] signal set */\n",
      "          ^\n",
      "  note: '__uint128_t' declared here\n",
      "  /Library/Developer/CommandLineTools/SDKs/MacOSX.sdk/usr/include/sys/_types.h:74:9: error: unknown type name '__int32_t'; did you mean '__int128_t'?\n",
      "  typedef __int32_t       __darwin_suseconds_t;   /* [???] microseconds */\n",
      "          ^\n",
      "  note: '__int128_t' declared here\n",
      "  /Library/Developer/CommandLineTools/SDKs/MacOSX.sdk/usr/include/sys/_types.h:75:9: error: unknown type name '__uint32_t'; did you mean '__uint128_t'?\n",
      "  typedef __uint32_t      __darwin_uid_t;         /* [???] user IDs */\n",
      "          ^\n",
      "  note: '__uint128_t' declared here\n",
      "  /Library/Developer/CommandLineTools/SDKs/MacOSX.sdk/usr/include/sys/_types.h:76:9: error: unknown type name '__uint32_t'; did you mean '__uint128_t'?\n",
      "  typedef __uint32_t      __darwin_useconds_t;    /* [???] microseconds */\n",
      "          ^\n",
      "  note: '__uint128_t' declared here\n",
      "  In file included from test_program.c:1:\n",
      "  In file included from /Library/Developer/CommandLineTools/SDKs/MacOSX.sdk/usr/include/stdio.h:64:\n",
      "  In file included from /Library/Developer/CommandLineTools/SDKs/MacOSX.sdk/usr/include/_stdio.h:71:\n",
      "  /Library/Developer/CommandLineTools/SDKs/MacOSX.sdk/usr/include/_types.h:43:9: error: unknown type name '__uint32_t'; did you mean '__uint128_t'?\n",
      "  typedef __uint32_t      __darwin_wctype_t;\n",
      "          ^\n",
      "  note: '__uint128_t' declared here\n",
      "  In file included from test_program.c:1:\n",
      "  In file included from /Library/Developer/CommandLineTools/SDKs/MacOSX.sdk/usr/include/stdio.h:64:\n",
      "  In file included from /Library/Developer/CommandLineTools/SDKs/MacOSX.sdk/usr/include/_stdio.h:75:\n",
      "  In file included from /Library/Developer/CommandLineTools/SDKs/MacOSX.sdk/usr/include/sys/_types/_va_list.h:31:\n",
      "  /Library/Developer/CommandLineTools/SDKs/MacOSX.sdk/usr/include/machine/types.h:37:2: error: architecture not supported\n",
      "  #error architecture not supported\n",
      "   ^\n",
      "  In file included from test_program.c:1:\n",
      "  In file included from /Library/Developer/CommandLineTools/SDKs/MacOSX.sdk/usr/include/stdio.h:64:\n",
      "  In file included from /Library/Developer/CommandLineTools/SDKs/MacOSX.sdk/usr/include/_stdio.h:75:\n",
      "  /Library/Developer/CommandLineTools/SDKs/MacOSX.sdk/usr/include/sys/_types/_va_list.h:32:9: error: unknown type name '__darwin_va_list'\n",
      "  typedef __darwin_va_list va_list;\n",
      "          ^\n",
      "  fatal error: too many errors emitted, stopping now [-ferror-limit=]\n",
      "  20 errors generated.\n",
      "  Traceback (most recent call last):\n",
      "    File \"/Library/Frameworks/Python.framework/Versions/3.10/lib/python3.10/site-packages/pip/_vendor/pep517/in_process/_in_process.py\", line 363, in <module>\n",
      "      main()\n",
      "    File \"/Library/Frameworks/Python.framework/Versions/3.10/lib/python3.10/site-packages/pip/_vendor/pep517/in_process/_in_process.py\", line 345, in main\n",
      "      json_out['return_val'] = hook(**hook_input['kwargs'])\n",
      "    File \"/Library/Frameworks/Python.framework/Versions/3.10/lib/python3.10/site-packages/pip/_vendor/pep517/in_process/_in_process.py\", line 261, in build_wheel\n",
      "      return _build_backend().build_wheel(wheel_directory, config_settings,\n",
      "    File \"/private/var/folders/t_/zcvqt4vn4zl31xrt94zl20440000gn/T/pip-build-env-pssyu094/overlay/lib/python3.10/site-packages/setuptools/build_meta.py\", line 230, in build_wheel\n",
      "      return self._build_with_temp_dir(['bdist_wheel'], '.whl',\n",
      "    File \"/private/var/folders/t_/zcvqt4vn4zl31xrt94zl20440000gn/T/pip-build-env-pssyu094/overlay/lib/python3.10/site-packages/setuptools/build_meta.py\", line 215, in _build_with_temp_dir\n",
      "      self.run_setup()\n",
      "    File \"/private/var/folders/t_/zcvqt4vn4zl31xrt94zl20440000gn/T/pip-build-env-pssyu094/overlay/lib/python3.10/site-packages/setuptools/build_meta.py\", line 267, in run_setup\n",
      "      super(_BuildMetaLegacyBackend,\n",
      "    File \"/private/var/folders/t_/zcvqt4vn4zl31xrt94zl20440000gn/T/pip-build-env-pssyu094/overlay/lib/python3.10/site-packages/setuptools/build_meta.py\", line 158, in run_setup\n",
      "      exec(compile(code, __file__, 'exec'), locals())\n",
      "    File \"setup.py\", line 306, in <module>\n",
      "      setup_package()\n",
      "    File \"setup.py\", line 302, in setup_package\n",
      "      setup(**metadata)\n",
      "    File \"/private/var/folders/t_/zcvqt4vn4zl31xrt94zl20440000gn/T/pip-build-env-pssyu094/overlay/lib/python3.10/site-packages/numpy/distutils/core.py\", line 135, in setup\n",
      "      config = configuration()\n",
      "    File \"setup.py\", line 188, in configuration\n",
      "      config.add_subpackage('sklearn')\n",
      "    File \"/private/var/folders/t_/zcvqt4vn4zl31xrt94zl20440000gn/T/pip-build-env-pssyu094/overlay/lib/python3.10/site-packages/numpy/distutils/misc_util.py\", line 1016, in add_subpackage\n",
      "      config_list = self.get_subpackage(subpackage_name, subpackage_path,\n",
      "    File \"/private/var/folders/t_/zcvqt4vn4zl31xrt94zl20440000gn/T/pip-build-env-pssyu094/overlay/lib/python3.10/site-packages/numpy/distutils/misc_util.py\", line 982, in get_subpackage\n",
      "      config = self._get_configuration_from_setup_py(\n",
      "    File \"/private/var/folders/t_/zcvqt4vn4zl31xrt94zl20440000gn/T/pip-build-env-pssyu094/overlay/lib/python3.10/site-packages/numpy/distutils/misc_util.py\", line 924, in _get_configuration_from_setup_py\n",
      "      config = setup_module.configuration(*args)\n",
      "    File \"sklearn/setup.py\", line 83, in configuration\n",
      "      cythonize_extensions(top_path, config)\n",
      "    File \"/private/var/folders/t_/zcvqt4vn4zl31xrt94zl20440000gn/T/pip-install-_cl9gof9/scikit-learn_91013df3dbb24afc8ac0ea5c6056fe62/sklearn/_build_utils/__init__.py\", line 45, in cythonize_extensions\n",
      "      basic_check_build()\n",
      "    File \"/private/var/folders/t_/zcvqt4vn4zl31xrt94zl20440000gn/T/pip-install-_cl9gof9/scikit-learn_91013df3dbb24afc8ac0ea5c6056fe62/sklearn/_build_utils/pre_build_helpers.py\", line 106, in basic_check_build\n",
      "      compile_test_program(code)\n",
      "    File \"/private/var/folders/t_/zcvqt4vn4zl31xrt94zl20440000gn/T/pip-install-_cl9gof9/scikit-learn_91013df3dbb24afc8ac0ea5c6056fe62/sklearn/_build_utils/pre_build_helpers.py\", line 66, in compile_test_program\n",
      "      ccompiler.compile(['test_program.c'], output_dir='objects',\n",
      "    File \"/private/var/folders/t_/zcvqt4vn4zl31xrt94zl20440000gn/T/pip-build-env-pssyu094/overlay/lib/python3.10/site-packages/numpy/distutils/ccompiler.py\", line 88, in <lambda>\n",
      "      m = lambda self, *args, **kw: func(self, *args, **kw)\n",
      "    File \"/private/var/folders/t_/zcvqt4vn4zl31xrt94zl20440000gn/T/pip-build-env-pssyu094/overlay/lib/python3.10/site-packages/numpy/distutils/ccompiler.py\", line 359, in CCompiler_compile\n",
      "      single_compile(o)\n",
      "    File \"/private/var/folders/t_/zcvqt4vn4zl31xrt94zl20440000gn/T/pip-build-env-pssyu094/overlay/lib/python3.10/site-packages/numpy/distutils/ccompiler.py\", line 319, in single_compile\n",
      "      self._compile(obj, src, ext, cc_args, extra_postargs, pp_opts)\n",
      "    File \"/private/var/folders/t_/zcvqt4vn4zl31xrt94zl20440000gn/T/pip-build-env-pssyu094/overlay/lib/python3.10/site-packages/numpy/distutils/ccompiler.py\", line 88, in <lambda>\n",
      "      m = lambda self, *args, **kw: func(self, *args, **kw)\n",
      "    File \"/private/var/folders/t_/zcvqt4vn4zl31xrt94zl20440000gn/T/pip-build-env-pssyu094/overlay/lib/python3.10/site-packages/numpy/distutils/unixccompiler.py\", line 57, in UnixCCompiler__compile\n",
      "      raise CompileError(msg) from None\n",
      "  distutils.errors.CompileError: Command \"clang -Wno-unused-result -Wsign-compare -Wunreachable-code -fno-common -dynamic -DNDEBUG -g -fwrapv -O3 -Wall -arch arm64 -arch x86_64 -g -c test_program.c -o objects/test_program.o\" failed with exit status 1\n",
      "  ----------------------------------------\u001b[0m\n",
      "\u001b[31m  ERROR: Failed building wheel for scikit-learn\u001b[0m\n",
      "\u001b[?25hFailed to build scikit-learn\n",
      "\u001b[31mERROR: Could not build wheels for scikit-learn, which is required to install pyproject.toml-based projects\u001b[0m\n"
     ]
    }
   ],
   "source": [
    "!pip install scikit-learn"
   ]
  },
  {
   "cell_type": "code",
   "execution_count": 2,
   "metadata": {},
   "outputs": [
    {
     "name": "stdout",
     "output_type": "stream",
     "text": [
      "Requirement already satisfied: numpy in /Library/Frameworks/Python.framework/Versions/3.10/lib/python3.10/site-packages (1.21.4)\n"
     ]
    }
   ],
   "source": [
    "!pip install numpy"
   ]
  },
  {
   "cell_type": "markdown",
   "metadata": {},
   "source": [
    "Ref: https://www.anaconda.com/blog/understanding-conda-and-pip\n"
   ]
  },
  {
   "cell_type": "markdown",
   "metadata": {},
   "source": [
    "## 1.2 Import"
   ]
  },
  {
   "cell_type": "code",
   "execution_count": 8,
   "metadata": {},
   "outputs": [],
   "source": [
    "import numpy as np"
   ]
  },
  {
   "cell_type": "markdown",
   "metadata": {},
   "source": [
    "## 1.3 Why Numpy"
   ]
  },
  {
   "cell_type": "code",
   "execution_count": 9,
   "metadata": {},
   "outputs": [],
   "source": [
    "# Have to learn scikit-learn well for machinelearning "
   ]
  },
  {
   "cell_type": "code",
   "execution_count": 10,
   "metadata": {},
   "outputs": [],
   "source": [
    "#Datasctucture on python: list,tuple,set,class,fuction..."
   ]
  },
  {
   "cell_type": "code",
   "execution_count": 11,
   "metadata": {},
   "outputs": [
    {
     "data": {
      "text/plain": [
       "[1, 2, 3, 3, 4, 5]"
      ]
     },
     "execution_count": 11,
     "metadata": {},
     "output_type": "execute_result"
    }
   ],
   "source": [
    "li = [1,2,3]\n",
    "li1 = [3,4,5]\n",
    "li+li1"
   ]
  },
  {
   "cell_type": "code",
   "execution_count": 12,
   "metadata": {},
   "outputs": [
    {
     "data": {
      "text/plain": [
       "array([5, 7, 9])"
      ]
     },
     "execution_count": 12,
     "metadata": {},
     "output_type": "execute_result"
    }
   ],
   "source": [
    "arr = np.array ([1,2,3])\n",
    "arr1= np.array ([4,5,6])\n",
    "arr+arr1"
   ]
  },
  {
   "cell_type": "code",
   "execution_count": 13,
   "metadata": {},
   "outputs": [],
   "source": [
    "#numpy means that vectorlization "
   ]
  },
  {
   "cell_type": "code",
   "execution_count": 14,
   "metadata": {},
   "outputs": [],
   "source": [
    "#process data quick than list and save the memmory\n",
    "#optimize our code programming with the best memory"
   ]
  },
  {
   "cell_type": "markdown",
   "metadata": {},
   "source": [
    "* Vectorlization"
   ]
  },
  {
   "cell_type": "markdown",
   "metadata": {},
   "source": [
    "* Broadcasting"
   ]
  },
  {
   "cell_type": "markdown",
   "metadata": {},
   "source": [
    "![](data:image/png;base64,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)"
   ]
  },
  {
   "cell_type": "markdown",
   "metadata": {},
   "source": [
    "# 2. Bassics of Numpy "
   ]
  },
  {
   "cell_type": "markdown",
   "metadata": {},
   "source": [
    "'''\n",
    "ndarray\n",
    "''' = N-Dimenssional Array"
   ]
  },
  {
   "cell_type": "markdown",
   "metadata": {},
   "source": [
    "- Talk alitle bit about Tensor \n",
    "- 0-D arry: Scalar\n",
    "- 1-D array: Vector \n",
    "- 2-D array: Maxtrix\n",
    "- 3D arrry: Tensor "
   ]
  },
  {
   "cell_type": "code",
   "execution_count": 15,
   "metadata": {},
   "outputs": [],
   "source": [
    "#When we talk about depplearning we have to know well about Tensor"
   ]
  },
  {
   "cell_type": "markdown",
   "metadata": {},
   "source": [
    "## 2.1 How to creat a array"
   ]
  },
  {
   "cell_type": "code",
   "execution_count": 16,
   "metadata": {},
   "outputs": [],
   "source": [
    "# np. array () is the way to creat (have to learn)"
   ]
  },
  {
   "cell_type": "code",
   "execution_count": 17,
   "metadata": {},
   "outputs": [],
   "source": [
    "# with list we can add whatever type of element which we wanna do \n",
    "li = [1,2,3,True, False, 'abascbjasc']"
   ]
  },
  {
   "cell_type": "code",
   "execution_count": 18,
   "metadata": {},
   "outputs": [],
   "source": [
    "#[method for method in dir(np) if not method.startswith('_')]"
   ]
  },
  {
   "cell_type": "code",
   "execution_count": 19,
   "metadata": {},
   "outputs": [
    {
     "data": {
      "text/plain": [
       "(numpy.int64, numpy.int64, numpy.int64)"
      ]
     },
     "execution_count": 19,
     "metadata": {},
     "output_type": "execute_result"
    }
   ],
   "source": [
    "arr = np.array([1,3,4])\n",
    "type(arr[0]), type(arr[1]),type(arr[2])"
   ]
  },
  {
   "cell_type": "code",
   "execution_count": 20,
   "metadata": {},
   "outputs": [
    {
     "data": {
      "text/plain": [
       "array(['1', '2', '3', 'True', 'False', 'abascbjasc'], dtype='<U21')"
      ]
     },
     "execution_count": 20,
     "metadata": {},
     "output_type": "execute_result"
    }
   ],
   "source": [
    "arr1 = np.array(li)\n",
    "arr1"
   ]
  },
  {
   "cell_type": "code",
   "execution_count": 21,
   "metadata": {},
   "outputs": [
    {
     "data": {
      "text/plain": [
       "<function __main__.<lambda>(x, y)>"
      ]
     },
     "execution_count": 21,
     "metadata": {},
     "output_type": "execute_result"
    }
   ],
   "source": [
    "lambda x,y:x+y"
   ]
  },
  {
   "cell_type": "code",
   "execution_count": 22,
   "metadata": {},
   "outputs": [],
   "source": [
    "def addition(a,b):\n",
    "    '''\n",
    "    Sum of 2 members \n",
    "    Prarameters:\n",
    "    a: First Number\n",
    "    b: Seconda Number\n",
    "    '''\n",
    "    return a+b\n",
    "#Take information aobout Docstring"
   ]
  },
  {
   "cell_type": "markdown",
   "metadata": {},
   "source": [
    "REF:https://github.com/numpy/numpy"
   ]
  },
  {
   "cell_type": "code",
   "execution_count": 23,
   "metadata": {},
   "outputs": [],
   "source": [
    "arr1 = np.array([1,2,3])# array 1 dimentsion with 3 element"
   ]
  },
  {
   "cell_type": "code",
   "execution_count": 24,
   "metadata": {},
   "outputs": [
    {
     "name": "stdout",
     "output_type": "stream",
     "text": [
      "Number of demmesion 1\n"
     ]
    }
   ],
   "source": [
    "print('Number of demmesion {}'.format(arr1.ndim))"
   ]
  },
  {
   "cell_type": "code",
   "execution_count": 25,
   "metadata": {},
   "outputs": [],
   "source": [
    "arr1 = np.array([[1,2,3],\n",
    "                [2,3,4]])"
   ]
  },
  {
   "cell_type": "code",
   "execution_count": 26,
   "metadata": {},
   "outputs": [
    {
     "name": "stdout",
     "output_type": "stream",
     "text": [
      "Number of demmesion (2, 3)\n"
     ]
    }
   ],
   "source": [
    "print('Number of demmesion {}'.format(arr1.shape))"
   ]
  },
  {
   "cell_type": "code",
   "execution_count": 27,
   "metadata": {},
   "outputs": [],
   "source": [
    "#shape show demension and each element in each demmention "
   ]
  },
  {
   "cell_type": "code",
   "execution_count": 34,
   "metadata": {},
   "outputs": [
    {
     "name": "stdout",
     "output_type": "stream",
     "text": [
      "Number of element 6\n"
     ]
    }
   ],
   "source": [
    "print('Number of element {}'.format(arr1.shape[0]*arr1.shape[1]))"
   ]
  },
  {
   "cell_type": "code",
   "execution_count": 35,
   "metadata": {},
   "outputs": [],
   "source": [
    "# Beside np.array()we have np.zeros(), np.ones(),np.full,np.arange(),np.linsapce()"
   ]
  },
  {
   "cell_type": "markdown",
   "metadata": {},
   "source": [
    "|Function|Meanings|\n",
    "|-|-|\n",
    "|np.zeros()|An array filled with 0s|\n",
    "|np.ones()|An array filled with 1s|\n",
    "|np.full()|An array filled with 'fill_vlaue|\n",
    "|np.arrange()|An array that contains a range of envely sapced intervals|\n",
    "|np.linspace()|Array with values that spaces lineanrly in a speciafied interval|\n",
    "|np.random()|Array with value filled ramdomly|"
   ]
  },
  {
   "cell_type": "code",
   "execution_count": 36,
   "metadata": {},
   "outputs": [
    {
     "data": {
      "text/plain": [
       "array([0., 0., 0.])"
      ]
     },
     "execution_count": 36,
     "metadata": {},
     "output_type": "execute_result"
    }
   ],
   "source": [
    "np.zeros(shape=3)"
   ]
  },
  {
   "cell_type": "code",
   "execution_count": 37,
   "metadata": {},
   "outputs": [
    {
     "data": {
      "text/plain": [
       "array([0., 0., 0.])"
      ]
     },
     "execution_count": 37,
     "metadata": {},
     "output_type": "execute_result"
    }
   ],
   "source": [
    "np.zeros(3)"
   ]
  },
  {
   "cell_type": "code",
   "execution_count": 38,
   "metadata": {},
   "outputs": [
    {
     "data": {
      "text/plain": [
       "array([[0., 0.],\n",
       "       [0., 0.],\n",
       "       [0., 0.]])"
      ]
     },
     "execution_count": 38,
     "metadata": {},
     "output_type": "execute_result"
    }
   ],
   "source": [
    "np.zeros(shape=(3,2))"
   ]
  },
  {
   "cell_type": "code",
   "execution_count": 39,
   "metadata": {},
   "outputs": [
    {
     "data": {
      "text/plain": [
       "array([1., 1., 1.])"
      ]
     },
     "execution_count": 39,
     "metadata": {},
     "output_type": "execute_result"
    }
   ],
   "source": [
    "np.ones(3)"
   ]
  },
  {
   "cell_type": "code",
   "execution_count": 40,
   "metadata": {},
   "outputs": [
    {
     "data": {
      "text/plain": [
       "array([[1., 1.],\n",
       "       [1., 1.],\n",
       "       [1., 1.]])"
      ]
     },
     "execution_count": 40,
     "metadata": {},
     "output_type": "execute_result"
    }
   ],
   "source": [
    "np.ones((3,2))"
   ]
  },
  {
   "cell_type": "code",
   "execution_count": 41,
   "metadata": {},
   "outputs": [
    {
     "data": {
      "text/plain": [
       "array(['mci', 'mci', 'mci'], dtype='<U3')"
      ]
     },
     "execution_count": 41,
     "metadata": {},
     "output_type": "execute_result"
    }
   ],
   "source": [
    "np.full(3,'mci')"
   ]
  },
  {
   "cell_type": "code",
   "execution_count": 42,
   "metadata": {},
   "outputs": [
    {
     "data": {
      "text/plain": [
       "array([1, 3, 5, 7, 9])"
      ]
     },
     "execution_count": 42,
     "metadata": {},
     "output_type": "execute_result"
    }
   ],
   "source": [
    "np.arange(1,10,2)"
   ]
  },
  {
   "cell_type": "code",
   "execution_count": 43,
   "metadata": {},
   "outputs": [
    {
     "data": {
      "text/plain": [
       "array([1. , 1.5, 2. , 2.5, 3. , 3.5, 4. , 4.5, 5. , 5.5, 6. , 6.5, 7. ,\n",
       "       7.5, 8. , 8.5, 9. , 9.5])"
      ]
     },
     "execution_count": 43,
     "metadata": {},
     "output_type": "execute_result"
    }
   ],
   "source": [
    "np.arange(1,10,0.5,dtype='float')"
   ]
  },
  {
   "cell_type": "code",
   "execution_count": 75,
   "metadata": {},
   "outputs": [],
   "source": [
    "#iclisive startvalue but exclusive stopvalue"
   ]
  },
  {
   "cell_type": "code",
   "execution_count": 44,
   "metadata": {},
   "outputs": [
    {
     "data": {
      "text/plain": [
       "array([ 1.        ,  1.18367347,  1.36734694,  1.55102041,  1.73469388,\n",
       "        1.91836735,  2.10204082,  2.28571429,  2.46938776,  2.65306122,\n",
       "        2.83673469,  3.02040816,  3.20408163,  3.3877551 ,  3.57142857,\n",
       "        3.75510204,  3.93877551,  4.12244898,  4.30612245,  4.48979592,\n",
       "        4.67346939,  4.85714286,  5.04081633,  5.2244898 ,  5.40816327,\n",
       "        5.59183673,  5.7755102 ,  5.95918367,  6.14285714,  6.32653061,\n",
       "        6.51020408,  6.69387755,  6.87755102,  7.06122449,  7.24489796,\n",
       "        7.42857143,  7.6122449 ,  7.79591837,  7.97959184,  8.16326531,\n",
       "        8.34693878,  8.53061224,  8.71428571,  8.89795918,  9.08163265,\n",
       "        9.26530612,  9.44897959,  9.63265306,  9.81632653, 10.        ])"
      ]
     },
     "execution_count": 44,
     "metadata": {},
     "output_type": "execute_result"
    }
   ],
   "source": [
    "np.linspace(1,10,50,dtype='float')"
   ]
  },
  {
   "cell_type": "code",
   "execution_count": null,
   "metadata": {},
   "outputs": [],
   "source": [
    "#Inclusive start and Inclusivestop value"
   ]
  },
  {
   "cell_type": "code",
   "execution_count": 79,
   "metadata": {},
   "outputs": [],
   "source": [
    "#Beside if we do not to need to care about what we are doing "
   ]
  },
  {
   "cell_type": "code",
   "execution_count": 82,
   "metadata": {},
   "outputs": [],
   "source": [
    "#np.random-->pseudo-random"
   ]
  },
  {
   "cell_type": "code",
   "execution_count": 45,
   "metadata": {},
   "outputs": [
    {
     "data": {
      "text/plain": [
       "array([[0.70057968, 0.16336858, 0.36646189, 0.94571871],\n",
       "       [0.53203126, 0.63060315, 0.12458874, 0.75762301],\n",
       "       [0.08560654, 0.35554929, 0.32381218, 0.53530387]])"
      ]
     },
     "execution_count": 45,
     "metadata": {},
     "output_type": "execute_result"
    }
   ],
   "source": [
    "np.random.random((3,4))"
   ]
  },
  {
   "cell_type": "code",
   "execution_count": 46,
   "metadata": {},
   "outputs": [],
   "source": [
    "#(a,b) means that 3 rows/3demensions with 4 elemnets in each dimension"
   ]
  },
  {
   "cell_type": "code",
   "execution_count": 50,
   "metadata": {},
   "outputs": [
    {
     "data": {
      "text/plain": [
       "1498255"
      ]
     },
     "execution_count": 50,
     "metadata": {},
     "output_type": "execute_result"
    }
   ],
   "source": [
    "from datetime import datetime\n",
    "x = datetime.now().microsecond\n",
    "rand "
   ]
  },
  {
   "cell_type": "code",
   "execution_count": 51,
   "metadata": {},
   "outputs": [],
   "source": [
    "#Howwever the random-fuction always have to follwo a ways althoug we think that it is not real"
   ]
  },
  {
   "cell_type": "code",
   "execution_count": 52,
   "metadata": {},
   "outputs": [
    {
     "data": {
      "text/plain": [
       "array([[0.86869599, 0.38547206, 0.68645201, 0.39833162],\n",
       "       [0.50712386, 0.93987913, 0.71654649, 0.45831524],\n",
       "       [0.43995324, 0.00136746, 0.89128075, 0.29941549]])"
      ]
     },
     "execution_count": 52,
     "metadata": {},
     "output_type": "execute_result"
    }
   ],
   "source": [
    "np.random.random((3,4))#return all value which are contained from 0-1 uniform distribution "
   ]
  },
  {
   "cell_type": "markdown",
   "metadata": {},
   "source": [
    "![](https://upload.wikimedia.org/wikipedia/commons/thumb/9/96/Uniform_Distribution_PDF_SVG.svg/1200px-Uniform_Distribution_PDF_SVG.svg.png)"
   ]
  },
  {
   "cell_type": "code",
   "execution_count": 98,
   "metadata": {},
   "outputs": [],
   "source": [
    "#Theprobability of each lements is the same in this range that is uniform distribution"
   ]
  },
  {
   "cell_type": "code",
   "execution_count": 53,
   "metadata": {},
   "outputs": [
    {
     "data": {
      "text/plain": [
       "(array([ 9868., 10078.,  9982., 10121.,  9854., 10231., 10134., 10155.,\n",
       "        10021.,  9790.,  9964., 10091.,  9798., 10136.,  9984., 10079.,\n",
       "        10045., 10135., 10110., 10093.,  9989., 10101.,  9789.,  9890.,\n",
       "        10106.,  9996., 10083., 10030., 10095., 10067., 10074., 10021.,\n",
       "         9968.,  9970.,  9930.,  9995., 10036.,  9955.,  9821.,  9952.,\n",
       "         9872., 10094.,  9905., 10076.,  9936.,  9970.,  9880., 10038.,\n",
       "         9992., 10191., 10144.,  9835.,  9784.,  9985.,  9969.,  9996.,\n",
       "         9945.,  9998., 10028., 10088., 10010.,  9919.,  9900., 10044.,\n",
       "         9970., 10076.,  9961.,  9978.,  9836.,  9943., 10055., 10173.,\n",
       "        10067.,  9930., 10034., 10012.,  9962., 10084., 10032., 10074.,\n",
       "        10017.,  9968., 10031., 10206., 10003.,  9847.,  9948., 10295.,\n",
       "         9819.,  9980.,  9967.,  9843.,  9834.,  9981.,  9895., 10011.,\n",
       "         9941., 10014., 10008., 10069.]),\n",
       " array([1.69219781e-06, 1.00016686e-02, 2.00016449e-02, 3.00016213e-02,\n",
       "        4.00015976e-02, 5.00015740e-02, 6.00015503e-02, 7.00015267e-02,\n",
       "        8.00015031e-02, 9.00014794e-02, 1.00001456e-01, 1.10001432e-01,\n",
       "        1.20001408e-01, 1.30001385e-01, 1.40001361e-01, 1.50001338e-01,\n",
       "        1.60001314e-01, 1.70001290e-01, 1.80001267e-01, 1.90001243e-01,\n",
       "        2.00001219e-01, 2.10001196e-01, 2.20001172e-01, 2.30001148e-01,\n",
       "        2.40001125e-01, 2.50001101e-01, 2.60001077e-01, 2.70001054e-01,\n",
       "        2.80001030e-01, 2.90001007e-01, 3.00000983e-01, 3.10000959e-01,\n",
       "        3.20000936e-01, 3.30000912e-01, 3.40000888e-01, 3.50000865e-01,\n",
       "        3.60000841e-01, 3.70000817e-01, 3.80000794e-01, 3.90000770e-01,\n",
       "        4.00000746e-01, 4.10000723e-01, 4.20000699e-01, 4.30000676e-01,\n",
       "        4.40000652e-01, 4.50000628e-01, 4.60000605e-01, 4.70000581e-01,\n",
       "        4.80000557e-01, 4.90000534e-01, 5.00000510e-01, 5.10000486e-01,\n",
       "        5.20000463e-01, 5.30000439e-01, 5.40000415e-01, 5.50000392e-01,\n",
       "        5.60000368e-01, 5.70000345e-01, 5.80000321e-01, 5.90000297e-01,\n",
       "        6.00000274e-01, 6.10000250e-01, 6.20000226e-01, 6.30000203e-01,\n",
       "        6.40000179e-01, 6.50000155e-01, 6.60000132e-01, 6.70000108e-01,\n",
       "        6.80000084e-01, 6.90000061e-01, 7.00000037e-01, 7.10000014e-01,\n",
       "        7.19999990e-01, 7.29999966e-01, 7.39999943e-01, 7.49999919e-01,\n",
       "        7.59999895e-01, 7.69999872e-01, 7.79999848e-01, 7.89999824e-01,\n",
       "        7.99999801e-01, 8.09999777e-01, 8.19999753e-01, 8.29999730e-01,\n",
       "        8.39999706e-01, 8.49999683e-01, 8.59999659e-01, 8.69999635e-01,\n",
       "        8.79999612e-01, 8.89999588e-01, 8.99999564e-01, 9.09999541e-01,\n",
       "        9.19999517e-01, 9.29999493e-01, 9.39999470e-01, 9.49999446e-01,\n",
       "        9.59999422e-01, 9.69999399e-01, 9.79999375e-01, 9.89999352e-01,\n",
       "        9.99999328e-01]),\n",
       " <BarContainer object of 100 artists>)"
      ]
     },
     "execution_count": 53,
     "metadata": {},
     "output_type": "execute_result"
    },
    {
     "data": {
      "image/png": "[encoded data removed]",
      "text/plain": [
       "<Figure size 432x288 with 1 Axes>"
      ]
     },
     "metadata": {
      "needs_background": "light"
     },
     "output_type": "display_data"
    }
   ],
   "source": [
    "np.random.random(100)\n",
    "import matplotlib.pyplot as plt\n",
    "plt.hist(np.random.random(1000000), bins = 100)"
   ]
  },
  {
   "cell_type": "code",
   "execution_count": 113,
   "metadata": {},
   "outputs": [],
   "source": [
    "#That is an image to determine that the random depend on uniform distribution \n",
    "#Population and Sample "
   ]
  },
  {
   "cell_type": "markdown",
   "metadata": {},
   "source": [
    "**Population and Sample**"
   ]
  },
  {
   "cell_type": "code",
   "execution_count": 114,
   "metadata": {},
   "outputs": [],
   "source": [
    "# Hoc sac xuat thong Ke"
   ]
  },
  {
   "cell_type": "markdown",
   "metadata": {},
   "source": [
    "Ref: https://medium.com/@feraguilari/histograms-in-data-science-fdb30af97e21"
   ]
  },
  {
   "cell_type": "code",
   "execution_count": 116,
   "metadata": {},
   "outputs": [
    {
     "data": {
      "text/plain": [
       "-0.2624167606888963"
      ]
     },
     "execution_count": 116,
     "metadata": {},
     "output_type": "execute_result"
    }
   ],
   "source": [
    "np.random.normal() #Gauss Distribution "
   ]
  },
  {
   "cell_type": "markdown",
   "metadata": {},
   "source": [
    "[Ref about histogram in Datascience](https://medium.com/@feraguilari/histograms-in-data-science-fdb30af97e21)\n"
   ]
  },
  {
   "cell_type": "markdown",
   "metadata": {},
   "source": [
    "**Normal Distribution**"
   ]
  },
  {
   "cell_type": "markdown",
   "metadata": {},
   "source": [
    "![](https://www.researchgate.net/profile/Mohamed-Abdelkareem-3/publication/339429775/figure/fig5/AS:866295083986945@1583552251305/Probability-distribution-function-a-uniform-distribution-of-the-excitation-frequency.png)"
   ]
  },
  {
   "cell_type": "markdown",
   "metadata": {},
   "source": [
    "**Normal Distribution \n",
    "- Symetric\n",
    "- ring-shape\n",
    "- Mean represent central tendency of data distribution(mean = median = mode)\n",
    "- Mean and Standard deveriation \n",
    "Ref: https://www.wikilectures.eu/w/Gaussian_Distribution"
   ]
  },
  {
   "cell_type": "markdown",
   "metadata": {},
   "source": [
    "https://maths.uel.edu.vn/Resources/Docs/SubDomain/maths/TaiLieuHocTap/ToanUngDung/univariate-analysis-22-638.jpg"
   ]
  },
  {
   "cell_type": "code",
   "execution_count": 123,
   "metadata": {},
   "outputs": [
    {
     "data": {
      "text/plain": [
       "(array([0., 0., 0., 0., 0., 1., 0., 0., 0., 0.]),\n",
       " array([21.49572873, 21.59572873, 21.69572873, 21.79572873, 21.89572873,\n",
       "        21.99572873, 22.09572873, 22.19572873, 22.29572873, 22.39572873,\n",
       "        22.49572873]),\n",
       " <BarContainer object of 10 artists>)"
      ]
     },
     "execution_count": 123,
     "metadata": {},
     "output_type": "execute_result"
    },
    {
     "data": {
      "image/png": "[encoded data removed]",
      "text/plain": [
       "<Figure size 432x288 with 1 Axes>"
      ]
     },
     "metadata": {
      "needs_background": "light"
     },
     "output_type": "display_data"
    }
   ],
   "source": [
    "plt.hist(np.random.normal(10,10))"
   ]
  },
  {
   "cell_type": "code",
   "execution_count": 128,
   "metadata": {},
   "outputs": [
    {
     "data": {
      "text/plain": [
       "array([0.5488135 , 0.71518937, 0.60276338, 0.54488318, 0.4236548 ,\n",
       "       0.64589411, 0.43758721, 0.891773  , 0.96366276, 0.38344152,\n",
       "       0.79172504, 0.52889492, 0.56804456, 0.92559664, 0.07103606,\n",
       "       0.0871293 , 0.0202184 , 0.83261985, 0.77815675, 0.87001215,\n",
       "       0.97861834, 0.79915856, 0.46147936, 0.78052918, 0.11827443,\n",
       "       0.63992102, 0.14335329, 0.94466892, 0.52184832, 0.41466194,\n",
       "       0.26455561, 0.77423369, 0.45615033, 0.56843395, 0.0187898 ,\n",
       "       0.6176355 , 0.61209572, 0.616934  , 0.94374808, 0.6818203 ,\n",
       "       0.3595079 , 0.43703195, 0.6976312 , 0.06022547, 0.66676672,\n",
       "       0.67063787, 0.21038256, 0.1289263 , 0.31542835, 0.36371077,\n",
       "       0.57019677, 0.43860151, 0.98837384, 0.10204481, 0.20887676,\n",
       "       0.16130952, 0.65310833, 0.2532916 , 0.46631077, 0.24442559,\n",
       "       0.15896958, 0.11037514, 0.65632959, 0.13818295, 0.19658236,\n",
       "       0.36872517, 0.82099323, 0.09710128, 0.83794491, 0.09609841,\n",
       "       0.97645947, 0.4686512 , 0.97676109, 0.60484552, 0.73926358,\n",
       "       0.03918779, 0.28280696, 0.12019656, 0.2961402 , 0.11872772,\n",
       "       0.31798318, 0.41426299, 0.0641475 , 0.69247212, 0.56660145,\n",
       "       0.26538949, 0.52324805, 0.09394051, 0.5759465 , 0.9292962 ,\n",
       "       0.31856895, 0.66741038, 0.13179786, 0.7163272 , 0.28940609,\n",
       "       0.18319136, 0.58651293, 0.02010755, 0.82894003, 0.00469548])"
      ]
     },
     "execution_count": 128,
     "metadata": {},
     "output_type": "execute_result"
    }
   ],
   "source": [
    "np.random.seed(0) # seeed for reproducibility\n",
    "arr = np.random.random(100)\n",
    "arr"
   ]
  },
  {
   "cell_type": "markdown",
   "metadata": {},
   "source": [
    "**Save and Load**"
   ]
  },
  {
   "cell_type": "code",
   "execution_count": 129,
   "metadata": {},
   "outputs": [],
   "source": [
    "np.savetxt('text.txt', arr)"
   ]
  },
  {
   "cell_type": "code",
   "execution_count": 133,
   "metadata": {},
   "outputs": [],
   "source": [
    "arr1 = np.loadtxt('text.txt')"
   ]
  },
  {
   "cell_type": "code",
   "execution_count": 142,
   "metadata": {},
   "outputs": [
    {
     "name": "stdout",
     "output_type": "stream",
     "text": [
      "rm: text.txt: No such file or directory\n"
     ]
    }
   ],
   "source": [
    "!rm text.txt"
   ]
  },
  {
   "cell_type": "code",
   "execution_count": 143,
   "metadata": {},
   "outputs": [
    {
     "data": {
      "text/plain": [
       "'/Users/macbook/Documents/GitHub/mci_python_31_level_1/Live Slides/Live Lecture 4'"
      ]
     },
     "execution_count": 143,
     "metadata": {},
     "output_type": "execute_result"
    }
   ],
   "source": [
    "pwd"
   ]
  },
  {
   "cell_type": "code",
   "execution_count": 136,
   "metadata": {},
   "outputs": [],
   "source": [
    "#how to check where we are being pwd"
   ]
  },
  {
   "cell_type": "code",
   "execution_count": 137,
   "metadata": {},
   "outputs": [],
   "source": [
    "!mkdir Save_test"
   ]
  },
  {
   "cell_type": "code",
   "execution_count": 139,
   "metadata": {},
   "outputs": [],
   "source": [
    "np.savetxt('./Save_test/test.txt',arr)"
   ]
  },
  {
   "cell_type": "code",
   "execution_count": 140,
   "metadata": {},
   "outputs": [],
   "source": [
    "!rm -r Save_test/"
   ]
  },
  {
   "cell_type": "markdown",
   "metadata": {},
   "source": [
    "## 2.2 Index and  Slicing"
   ]
  },
  {
   "cell_type": "code",
   "execution_count": 144,
   "metadata": {},
   "outputs": [],
   "source": [
    "#variable_name[index]"
   ]
  },
  {
   "cell_type": "code",
   "execution_count": 148,
   "metadata": {},
   "outputs": [
    {
     "data": {
      "text/plain": [
       "array([[ 1.,  2.,  3.,  4.],\n",
       "       [ 5.,  6.,  7.,  8.],\n",
       "       [ 9., 10., 11., 12.],\n",
       "       [13., 14., 15., 16.]])"
      ]
     },
     "execution_count": 148,
     "metadata": {},
     "output_type": "execute_result"
    }
   ],
   "source": [
    "arr = np.linspace(1,16,16).reshape(4,4)\n",
    "arr"
   ]
  },
  {
   "cell_type": "code",
   "execution_count": 149,
   "metadata": {},
   "outputs": [],
   "source": [
    "#When using reshape we have to make sure the size should be the the number of linspaces"
   ]
  },
  {
   "cell_type": "code",
   "execution_count": 150,
   "metadata": {},
   "outputs": [
    {
     "data": {
      "text/plain": [
       "array([1., 2., 3., 4.])"
      ]
     },
     "execution_count": 150,
     "metadata": {},
     "output_type": "execute_result"
    }
   ],
   "source": [
    "arr[0]"
   ]
  },
  {
   "cell_type": "code",
   "execution_count": 151,
   "metadata": {},
   "outputs": [
    {
     "data": {
      "text/plain": [
       "array([5., 6., 7., 8.])"
      ]
     },
     "execution_count": 151,
     "metadata": {},
     "output_type": "execute_result"
    }
   ],
   "source": [
    "arr[1]"
   ]
  },
  {
   "cell_type": "markdown",
   "metadata": {},
   "source": [
    "|Function|Meanings|\n",
    "|-|-|\n",
    "|np.arrange()|Inclusive startvalue and Exclusive stopvalue|\n",
    "|np.linspace()|Inclusive startvalue and Inclusive stopvalue|"
   ]
  },
  {
   "cell_type": "code",
   "execution_count": 152,
   "metadata": {},
   "outputs": [
    {
     "data": {
      "text/plain": [
       "array([5., 6., 7., 8.])"
      ]
     },
     "execution_count": 152,
     "metadata": {},
     "output_type": "execute_result"
    }
   ],
   "source": [
    "arr[1,:]"
   ]
  },
  {
   "cell_type": "code",
   "execution_count": 157,
   "metadata": {},
   "outputs": [
    {
     "data": {
      "text/plain": [
       "array([1., 2., 3., 4.])"
      ]
     },
     "execution_count": 157,
     "metadata": {},
     "output_type": "execute_result"
    }
   ],
   "source": [
    "arr[0,:]"
   ]
  },
  {
   "cell_type": "code",
   "execution_count": 155,
   "metadata": {},
   "outputs": [
    {
     "data": {
      "text/plain": [
       "array([ 1.,  5.,  9., 13.])"
      ]
     },
     "execution_count": 155,
     "metadata": {},
     "output_type": "execute_result"
    }
   ],
   "source": [
    "arr[:,0]"
   ]
  },
  {
   "cell_type": "code",
   "execution_count": 158,
   "metadata": {},
   "outputs": [
    {
     "data": {
      "text/plain": [
       "array([[ 1.,  2.,  3.,  4.],\n",
       "       [ 5.,  6.,  7.,  8.],\n",
       "       [ 9., 10., 11., 12.],\n",
       "       [13., 14., 15., 16.]])"
      ]
     },
     "execution_count": 158,
     "metadata": {},
     "output_type": "execute_result"
    }
   ],
   "source": [
    "arr"
   ]
  },
  {
   "cell_type": "code",
   "execution_count": 162,
   "metadata": {},
   "outputs": [
    {
     "data": {
      "text/plain": [
       "array([[1., 2.],\n",
       "       [5., 6.]])"
      ]
     },
     "execution_count": 162,
     "metadata": {},
     "output_type": "execute_result"
    }
   ],
   "source": [
    "arr[0:2,0:2]#incluive start and Exclusive stop"
   ]
  },
  {
   "cell_type": "code",
   "execution_count": 167,
   "metadata": {},
   "outputs": [
    {
     "data": {
      "text/plain": [
       "array([[3., 4.],\n",
       "       [7., 8.]])"
      ]
     },
     "execution_count": 167,
     "metadata": {},
     "output_type": "execute_result"
    }
   ],
   "source": [
    "arr[0:2,2:4]"
   ]
  },
  {
   "cell_type": "code",
   "execution_count": 168,
   "metadata": {},
   "outputs": [],
   "source": [
    "#note that (a,b) a là hàng còn B là số phần trử trong số hàng đó\n"
   ]
  },
  {
   "cell_type": "markdown",
   "metadata": {},
   "source": [
    "## 2.3 Basic Maths"
   ]
  },
  {
   "cell_type": "code",
   "execution_count": 172,
   "metadata": {},
   "outputs": [],
   "source": [
    "arr1 = np.array([[1,2],\n",
    "                 [2,4]])\n",
    "arr2 = np.array([[10,20],\n",
    "                 [20,40]])"
   ]
  },
  {
   "cell_type": "code",
   "execution_count": 173,
   "metadata": {},
   "outputs": [
    {
     "data": {
      "text/plain": [
       "array([[11, 22],\n",
       "       [22, 44]])"
      ]
     },
     "execution_count": 173,
     "metadata": {},
     "output_type": "execute_result"
    }
   ],
   "source": [
    "arr1+arr2"
   ]
  },
  {
   "cell_type": "code",
   "execution_count": 174,
   "metadata": {},
   "outputs": [
    {
     "data": {
      "text/plain": [
       "array([[ -9, -18],\n",
       "       [-18, -36]])"
      ]
     },
     "execution_count": 174,
     "metadata": {},
     "output_type": "execute_result"
    }
   ],
   "source": [
    "arr1 -arr2"
   ]
  },
  {
   "cell_type": "code",
   "execution_count": 178,
   "metadata": {},
   "outputs": [
    {
     "data": {
      "text/plain": [
       "array([[ 10,  40],\n",
       "       [ 40, 160]])"
      ]
     },
     "execution_count": 178,
     "metadata": {},
     "output_type": "execute_result"
    }
   ],
   "source": [
    "arr1*arr2"
   ]
  },
  {
   "cell_type": "code",
   "execution_count": 179,
   "metadata": {},
   "outputs": [
    {
     "data": {
      "text/plain": [
       "array([[0.1, 0.1],\n",
       "       [0.1, 0.1]])"
      ]
     },
     "execution_count": 179,
     "metadata": {},
     "output_type": "execute_result"
    }
   ],
   "source": [
    "arr1/arr2"
   ]
  },
  {
   "cell_type": "code",
   "execution_count": 180,
   "metadata": {},
   "outputs": [
    {
     "data": {
      "text/plain": [
       "array([[ 50, 100],\n",
       "       [100, 200]])"
      ]
     },
     "execution_count": 180,
     "metadata": {},
     "output_type": "execute_result"
    }
   ],
   "source": [
    "#Matrix mulplication\n",
    "arr1 @ arr2"
   ]
  },
  {
   "cell_type": "code",
   "execution_count": 181,
   "metadata": {},
   "outputs": [],
   "source": [
    "#mean-median-mode"
   ]
  },
  {
   "cell_type": "code",
   "execution_count": 4,
   "metadata": {},
   "outputs": [],
   "source": [
    "arr = np.linspace(1,12,12,dtype='int').reshape(3,4)"
   ]
  },
  {
   "cell_type": "code",
   "execution_count": 5,
   "metadata": {},
   "outputs": [
    {
     "data": {
      "text/plain": [
       "array([[ 1,  2,  3,  4],\n",
       "       [ 5,  6,  7,  8],\n",
       "       [ 9, 10, 11, 12]])"
      ]
     },
     "execution_count": 5,
     "metadata": {},
     "output_type": "execute_result"
    }
   ],
   "source": [
    "arr"
   ]
  },
  {
   "cell_type": "code",
   "execution_count": 6,
   "metadata": {},
   "outputs": [
    {
     "data": {
      "text/plain": [
       "6.5"
      ]
     },
     "execution_count": 6,
     "metadata": {},
     "output_type": "execute_result"
    }
   ],
   "source": [
    "import numpy as np\n",
    "np.mean(arr)"
   ]
  },
  {
   "cell_type": "code",
   "execution_count": 7,
   "metadata": {},
   "outputs": [
    {
     "data": {
      "text/plain": [
       "6.5"
      ]
     },
     "execution_count": 7,
     "metadata": {},
     "output_type": "execute_result"
    }
   ],
   "source": [
    "np.median(arr)"
   ]
  },
  {
   "cell_type": "code",
   "execution_count": 9,
   "metadata": {},
   "outputs": [
    {
     "name": "stdout",
     "output_type": "stream",
     "text": [
      "/Users/macbook/Documents/GitHub/mci_python_31_level_1\n"
     ]
    }
   ],
   "source": [
    "! pwd\n"
   ]
  },
  {
   "cell_type": "code",
   "execution_count": 12,
   "metadata": {},
   "outputs": [
    {
     "name": "stdout",
     "output_type": "stream",
     "text": [
      "usage: mv [-f | -i | -n] [-v] source target\n",
      "       mv [-f | -i | -n] [-v] source ... directory\n"
     ]
    }
   ],
   "source": [
    "!mv DAT_LIVE_LECTURE4.ipynb ./Live Slides/Live Lecture 4"
   ]
  },
  {
   "cell_type": "code",
   "execution_count": 56,
   "metadata": {},
   "outputs": [
    {
     "data": {
      "text/plain": [
       "['ALLOW_THREADS',\n",
       " 'AxisError',\n",
       " 'BUFSIZE',\n",
       " 'CLIP',\n",
       " 'ComplexWarning',\n",
       " 'DataSource',\n",
       " 'ERR_CALL',\n",
       " 'ERR_DEFAULT',\n",
       " 'ERR_IGNORE',\n",
       " 'ERR_LOG',\n",
       " 'ERR_PRINT',\n",
       " 'ERR_RAISE',\n",
       " 'ERR_WARN',\n",
       " 'FLOATING_POINT_SUPPORT',\n",
       " 'FPE_DIVIDEBYZERO',\n",
       " 'FPE_INVALID',\n",
       " 'FPE_OVERFLOW',\n",
       " 'FPE_UNDERFLOW',\n",
       " 'False_',\n",
       " 'Inf',\n",
       " 'Infinity',\n",
       " 'MAXDIMS',\n",
       " 'MAY_SHARE_BOUNDS',\n",
       " 'MAY_SHARE_EXACT',\n",
       " 'MachAr',\n",
       " 'ModuleDeprecationWarning',\n",
       " 'NAN',\n",
       " 'NINF',\n",
       " 'NZERO',\n",
       " 'NaN',\n",
       " 'PINF',\n",
       " 'PZERO',\n",
       " 'RAISE',\n",
       " 'RankWarning',\n",
       " 'SHIFT_DIVIDEBYZERO',\n",
       " 'SHIFT_INVALID',\n",
       " 'SHIFT_OVERFLOW',\n",
       " 'SHIFT_UNDERFLOW',\n",
       " 'ScalarType',\n",
       " 'Tester',\n",
       " 'TooHardError',\n",
       " 'True_',\n",
       " 'UFUNC_BUFSIZE_DEFAULT',\n",
       " 'UFUNC_PYVALS_NAME',\n",
       " 'VisibleDeprecationWarning',\n",
       " 'WRAP',\n",
       " '_NoValue',\n",
       " '_UFUNC_API',\n",
       " '__NUMPY_SETUP__',\n",
       " '__all__',\n",
       " '__builtins__',\n",
       " '__cached__',\n",
       " '__config__',\n",
       " '__dir__',\n",
       " '__doc__',\n",
       " '__file__',\n",
       " '__getattr__',\n",
       " '__git_revision__',\n",
       " '__loader__',\n",
       " '__name__',\n",
       " '__package__',\n",
       " '__path__',\n",
       " '__spec__',\n",
       " '__version__',\n",
       " '_add_newdoc_ufunc',\n",
       " '_distributor_init',\n",
       " '_globals',\n",
       " '_mat',\n",
       " '_pytesttester',\n",
       " 'abs',\n",
       " 'absolute',\n",
       " 'add',\n",
       " 'add_docstring',\n",
       " 'add_newdoc',\n",
       " 'add_newdoc_ufunc',\n",
       " 'alen',\n",
       " 'all',\n",
       " 'allclose',\n",
       " 'alltrue',\n",
       " 'amax',\n",
       " 'amin',\n",
       " 'angle',\n",
       " 'any',\n",
       " 'append',\n",
       " 'apply_along_axis',\n",
       " 'apply_over_axes',\n",
       " 'arange',\n",
       " 'arccos',\n",
       " 'arccosh',\n",
       " 'arcsin',\n",
       " 'arcsinh',\n",
       " 'arctan',\n",
       " 'arctan2',\n",
       " 'arctanh',\n",
       " 'argmax',\n",
       " 'argmin',\n",
       " 'argpartition',\n",
       " 'argsort',\n",
       " 'argwhere',\n",
       " 'around',\n",
       " 'array',\n",
       " 'array2string',\n",
       " 'array_equal',\n",
       " 'array_equiv',\n",
       " 'array_repr',\n",
       " 'array_split',\n",
       " 'array_str',\n",
       " 'asanyarray',\n",
       " 'asarray',\n",
       " 'asarray_chkfinite',\n",
       " 'ascontiguousarray',\n",
       " 'asfarray',\n",
       " 'asfortranarray',\n",
       " 'asmatrix',\n",
       " 'asscalar',\n",
       " 'atleast_1d',\n",
       " 'atleast_2d',\n",
       " 'atleast_3d',\n",
       " 'average',\n",
       " 'bartlett',\n",
       " 'base_repr',\n",
       " 'binary_repr',\n",
       " 'bincount',\n",
       " 'bitwise_and',\n",
       " 'bitwise_not',\n",
       " 'bitwise_or',\n",
       " 'bitwise_xor',\n",
       " 'blackman',\n",
       " 'block',\n",
       " 'bmat',\n",
       " 'bool',\n",
       " 'bool8',\n",
       " 'bool_',\n",
       " 'broadcast',\n",
       " 'broadcast_arrays',\n",
       " 'broadcast_to',\n",
       " 'busday_count',\n",
       " 'busday_offset',\n",
       " 'busdaycalendar',\n",
       " 'byte',\n",
       " 'byte_bounds',\n",
       " 'bytes0',\n",
       " 'bytes_',\n",
       " 'c_',\n",
       " 'can_cast',\n",
       " 'cast',\n",
       " 'cbrt',\n",
       " 'cdouble',\n",
       " 'ceil',\n",
       " 'cfloat',\n",
       " 'char',\n",
       " 'character',\n",
       " 'chararray',\n",
       " 'choose',\n",
       " 'clip',\n",
       " 'clongdouble',\n",
       " 'clongfloat',\n",
       " 'column_stack',\n",
       " 'common_type',\n",
       " 'compare_chararrays',\n",
       " 'compat',\n",
       " 'complex',\n",
       " 'complex128',\n",
       " 'complex256',\n",
       " 'complex64',\n",
       " 'complex_',\n",
       " 'complexfloating',\n",
       " 'compress',\n",
       " 'concatenate',\n",
       " 'conj',\n",
       " 'conjugate',\n",
       " 'convolve',\n",
       " 'copy',\n",
       " 'copysign',\n",
       " 'copyto',\n",
       " 'core',\n",
       " 'corrcoef',\n",
       " 'correlate',\n",
       " 'cos',\n",
       " 'cosh',\n",
       " 'count_nonzero',\n",
       " 'cov',\n",
       " 'cross',\n",
       " 'csingle',\n",
       " 'ctypeslib',\n",
       " 'cumprod',\n",
       " 'cumproduct',\n",
       " 'cumsum',\n",
       " 'datetime64',\n",
       " 'datetime_as_string',\n",
       " 'datetime_data',\n",
       " 'deg2rad',\n",
       " 'degrees',\n",
       " 'delete',\n",
       " 'deprecate',\n",
       " 'deprecate_with_doc',\n",
       " 'diag',\n",
       " 'diag_indices',\n",
       " 'diag_indices_from',\n",
       " 'diagflat',\n",
       " 'diagonal',\n",
       " 'diff',\n",
       " 'digitize',\n",
       " 'disp',\n",
       " 'divide',\n",
       " 'divmod',\n",
       " 'dot',\n",
       " 'double',\n",
       " 'dsplit',\n",
       " 'dstack',\n",
       " 'dtype',\n",
       " 'e',\n",
       " 'ediff1d',\n",
       " 'einsum',\n",
       " 'einsum_path',\n",
       " 'emath',\n",
       " 'empty',\n",
       " 'empty_like',\n",
       " 'equal',\n",
       " 'error_message',\n",
       " 'errstate',\n",
       " 'euler_gamma',\n",
       " 'exp',\n",
       " 'exp2',\n",
       " 'expand_dims',\n",
       " 'expm1',\n",
       " 'extract',\n",
       " 'eye',\n",
       " 'fabs',\n",
       " 'fastCopyAndTranspose',\n",
       " 'fft',\n",
       " 'fill_diagonal',\n",
       " 'find_common_type',\n",
       " 'finfo',\n",
       " 'fix',\n",
       " 'flatiter',\n",
       " 'flatnonzero',\n",
       " 'flexible',\n",
       " 'flip',\n",
       " 'fliplr',\n",
       " 'flipud',\n",
       " 'float',\n",
       " 'float128',\n",
       " 'float16',\n",
       " 'float32',\n",
       " 'float64',\n",
       " 'float_',\n",
       " 'float_power',\n",
       " 'floating',\n",
       " 'floor',\n",
       " 'floor_divide',\n",
       " 'fmax',\n",
       " 'fmin',\n",
       " 'fmod',\n",
       " 'format_float_positional',\n",
       " 'format_float_scientific',\n",
       " 'format_parser',\n",
       " 'frexp',\n",
       " 'frombuffer',\n",
       " 'fromfile',\n",
       " 'fromfunction',\n",
       " 'fromiter',\n",
       " 'frompyfunc',\n",
       " 'fromregex',\n",
       " 'fromstring',\n",
       " 'full',\n",
       " 'full_like',\n",
       " 'fv',\n",
       " 'gcd',\n",
       " 'generic',\n",
       " 'genfromtxt',\n",
       " 'geomspace',\n",
       " 'get_array_wrap',\n",
       " 'get_include',\n",
       " 'get_printoptions',\n",
       " 'getbufsize',\n",
       " 'geterr',\n",
       " 'geterrcall',\n",
       " 'geterrobj',\n",
       " 'gradient',\n",
       " 'greater',\n",
       " 'greater_equal',\n",
       " 'half',\n",
       " 'hamming',\n",
       " 'hanning',\n",
       " 'heaviside',\n",
       " 'histogram',\n",
       " 'histogram2d',\n",
       " 'histogram_bin_edges',\n",
       " 'histogramdd',\n",
       " 'hsplit',\n",
       " 'hstack',\n",
       " 'hypot',\n",
       " 'i0',\n",
       " 'identity',\n",
       " 'iinfo',\n",
       " 'imag',\n",
       " 'in1d',\n",
       " 'index_exp',\n",
       " 'indices',\n",
       " 'inexact',\n",
       " 'inf',\n",
       " 'info',\n",
       " 'infty',\n",
       " 'inner',\n",
       " 'insert',\n",
       " 'int',\n",
       " 'int0',\n",
       " 'int16',\n",
       " 'int32',\n",
       " 'int64',\n",
       " 'int8',\n",
       " 'int_',\n",
       " 'intc',\n",
       " 'integer',\n",
       " 'interp',\n",
       " 'intersect1d',\n",
       " 'intp',\n",
       " 'invert',\n",
       " 'ipmt',\n",
       " 'irr',\n",
       " 'is_busday',\n",
       " 'isclose',\n",
       " 'iscomplex',\n",
       " 'iscomplexobj',\n",
       " 'isfinite',\n",
       " 'isfortran',\n",
       " 'isin',\n",
       " 'isinf',\n",
       " 'isnan',\n",
       " 'isnat',\n",
       " 'isneginf',\n",
       " 'isposinf',\n",
       " 'isreal',\n",
       " 'isrealobj',\n",
       " 'isscalar',\n",
       " 'issctype',\n",
       " 'issubclass_',\n",
       " 'issubdtype',\n",
       " 'issubsctype',\n",
       " 'iterable',\n",
       " 'ix_',\n",
       " 'kaiser',\n",
       " 'kron',\n",
       " 'lcm',\n",
       " 'ldexp',\n",
       " 'left_shift',\n",
       " 'less',\n",
       " 'less_equal',\n",
       " 'lexsort',\n",
       " 'lib',\n",
       " 'linalg',\n",
       " 'linspace',\n",
       " 'little_endian',\n",
       " 'load',\n",
       " 'loads',\n",
       " 'loadtxt',\n",
       " 'log',\n",
       " 'log10',\n",
       " 'log1p',\n",
       " 'log2',\n",
       " 'logaddexp',\n",
       " 'logaddexp2',\n",
       " 'logical_and',\n",
       " 'logical_not',\n",
       " 'logical_or',\n",
       " 'logical_xor',\n",
       " 'logspace',\n",
       " 'long',\n",
       " 'longcomplex',\n",
       " 'longdouble',\n",
       " 'longfloat',\n",
       " 'longlong',\n",
       " 'lookfor',\n",
       " 'ma',\n",
       " 'mafromtxt',\n",
       " 'mask_indices',\n",
       " 'mat',\n",
       " 'math',\n",
       " 'matmul',\n",
       " 'matrix',\n",
       " 'matrixlib',\n",
       " 'max',\n",
       " 'maximum',\n",
       " 'maximum_sctype',\n",
       " 'may_share_memory',\n",
       " 'mean',\n",
       " 'median',\n",
       " 'memmap',\n",
       " 'meshgrid',\n",
       " 'mgrid',\n",
       " 'min',\n",
       " 'min_scalar_type',\n",
       " 'minimum',\n",
       " 'mintypecode',\n",
       " 'mirr',\n",
       " 'mod',\n",
       " 'modf',\n",
       " 'moveaxis',\n",
       " 'msort',\n",
       " 'multiply',\n",
       " 'nan',\n",
       " 'nan_to_num',\n",
       " 'nanargmax',\n",
       " 'nanargmin',\n",
       " 'nancumprod',\n",
       " 'nancumsum',\n",
       " 'nanmax',\n",
       " 'nanmean',\n",
       " 'nanmedian',\n",
       " 'nanmin',\n",
       " 'nanpercentile',\n",
       " 'nanprod',\n",
       " 'nanquantile',\n",
       " 'nanstd',\n",
       " 'nansum',\n",
       " 'nanvar',\n",
       " 'nbytes',\n",
       " 'ndarray',\n",
       " 'ndenumerate',\n",
       " 'ndfromtxt',\n",
       " 'ndim',\n",
       " 'ndindex',\n",
       " 'nditer',\n",
       " 'negative',\n",
       " 'nested_iters',\n",
       " 'newaxis',\n",
       " 'nextafter',\n",
       " 'nonzero',\n",
       " 'not_equal',\n",
       " 'nper',\n",
       " 'npv',\n",
       " 'numarray',\n",
       " 'number',\n",
       " 'obj2sctype',\n",
       " 'object',\n",
       " 'object0',\n",
       " 'object_',\n",
       " 'ogrid',\n",
       " 'oldnumeric',\n",
       " 'ones',\n",
       " 'ones_like',\n",
       " 'os',\n",
       " 'outer',\n",
       " 'packbits',\n",
       " 'pad',\n",
       " 'partition',\n",
       " 'percentile',\n",
       " 'pi',\n",
       " 'piecewise',\n",
       " 'place',\n",
       " 'pmt',\n",
       " 'poly',\n",
       " 'poly1d',\n",
       " 'polyadd',\n",
       " 'polyder',\n",
       " 'polydiv',\n",
       " 'polyfit',\n",
       " 'polyint',\n",
       " 'polymul',\n",
       " 'polynomial',\n",
       " 'polysub',\n",
       " 'polyval',\n",
       " 'positive',\n",
       " 'power',\n",
       " 'ppmt',\n",
       " 'printoptions',\n",
       " 'prod',\n",
       " 'product',\n",
       " 'promote_types',\n",
       " 'ptp',\n",
       " 'put',\n",
       " 'put_along_axis',\n",
       " 'putmask',\n",
       " 'pv',\n",
       " 'quantile',\n",
       " 'r_',\n",
       " 'rad2deg',\n",
       " 'radians',\n",
       " 'random',\n",
       " 'rate',\n",
       " 'ravel',\n",
       " 'ravel_multi_index',\n",
       " 'real',\n",
       " 'real_if_close',\n",
       " 'rec',\n",
       " 'recarray',\n",
       " 'recfromcsv',\n",
       " 'recfromtxt',\n",
       " 'reciprocal',\n",
       " 'record',\n",
       " 'remainder',\n",
       " 'repeat',\n",
       " 'require',\n",
       " 'reshape',\n",
       " 'resize',\n",
       " 'result_type',\n",
       " 'right_shift',\n",
       " 'rint',\n",
       " 'roll',\n",
       " 'rollaxis',\n",
       " 'roots',\n",
       " 'rot90',\n",
       " 'round',\n",
       " 'round_',\n",
       " 'row_stack',\n",
       " 's_',\n",
       " 'safe_eval',\n",
       " 'save',\n",
       " 'savetxt',\n",
       " 'savez',\n",
       " 'savez_compressed',\n",
       " 'sctype2char',\n",
       " 'sctypeDict',\n",
       " 'sctypeNA',\n",
       " 'sctypes',\n",
       " 'searchsorted',\n",
       " 'select',\n",
       " 'set_numeric_ops',\n",
       " 'set_printoptions',\n",
       " 'set_string_function',\n",
       " 'setbufsize',\n",
       " 'setdiff1d',\n",
       " 'seterr',\n",
       " 'seterrcall',\n",
       " 'seterrobj',\n",
       " 'setxor1d',\n",
       " 'shape',\n",
       " 'shares_memory',\n",
       " 'short',\n",
       " 'show_config',\n",
       " 'sign',\n",
       " 'signbit',\n",
       " 'signedinteger',\n",
       " 'sin',\n",
       " 'sinc',\n",
       " 'single',\n",
       " 'singlecomplex',\n",
       " 'sinh',\n",
       " 'size',\n",
       " 'sometrue',\n",
       " 'sort',\n",
       " 'sort_complex',\n",
       " 'source',\n",
       " 'spacing',\n",
       " 'split',\n",
       " 'sqrt',\n",
       " 'square',\n",
       " 'squeeze',\n",
       " 'stack',\n",
       " 'std',\n",
       " 'str',\n",
       " 'str0',\n",
       " 'str_',\n",
       " 'string_',\n",
       " 'subtract',\n",
       " 'sum',\n",
       " 'swapaxes',\n",
       " 'sys',\n",
       " 'take',\n",
       " 'take_along_axis',\n",
       " 'tan',\n",
       " 'tanh',\n",
       " 'tensordot',\n",
       " 'test',\n",
       " 'testing',\n",
       " 'tile',\n",
       " 'timedelta64',\n",
       " 'trace',\n",
       " 'tracemalloc_domain',\n",
       " 'transpose',\n",
       " 'trapz',\n",
       " 'tri',\n",
       " 'tril',\n",
       " 'tril_indices',\n",
       " 'tril_indices_from',\n",
       " 'trim_zeros',\n",
       " 'triu',\n",
       " 'triu_indices',\n",
       " 'triu_indices_from',\n",
       " 'true_divide',\n",
       " 'trunc',\n",
       " 'typeDict',\n",
       " 'typeNA',\n",
       " 'typecodes',\n",
       " 'typename',\n",
       " 'ubyte',\n",
       " 'ufunc',\n",
       " 'uint',\n",
       " 'uint0',\n",
       " 'uint16',\n",
       " 'uint32',\n",
       " 'uint64',\n",
       " 'uint8',\n",
       " 'uintc',\n",
       " 'uintp',\n",
       " 'ulonglong',\n",
       " 'unicode',\n",
       " 'unicode_',\n",
       " 'union1d',\n",
       " 'unique',\n",
       " 'unpackbits',\n",
       " 'unravel_index',\n",
       " 'unsignedinteger',\n",
       " 'unwrap',\n",
       " 'use_hugepage',\n",
       " 'ushort',\n",
       " 'vander',\n",
       " 'var',\n",
       " 'vdot',\n",
       " 'vectorize',\n",
       " 'version',\n",
       " 'void',\n",
       " 'void0',\n",
       " 'vsplit',\n",
       " 'vstack',\n",
       " 'w',\n",
       " 'warnings',\n",
       " 'where',\n",
       " 'who',\n",
       " 'zeros',\n",
       " 'zeros_like']"
      ]
     },
     "execution_count": 56,
     "metadata": {},
     "output_type": "execute_result"
    }
   ],
   "source": [
    "import numpy\n",
    "dir(numpy)"
   ]
  },
  {
   "cell_type": "code",
   "execution_count": 57,
   "metadata": {},
   "outputs": [
    {
     "name": "stderr",
     "output_type": "stream",
     "text": [
      "IOPub data rate exceeded.\n",
      "The notebook server will temporarily stop sending output\n",
      "to the client in order to avoid crashing it.\n",
      "To change this limit, set the config variable\n",
      "`--NotebookApp.iopub_data_rate_limit`.\n",
      "\n",
      "Current values:\n",
      "NotebookApp.iopub_data_rate_limit=1000000.0 (bytes/sec)\n",
      "NotebookApp.rate_limit_window=3.0 (secs)\n",
      "\n"
     ]
    }
   ],
   "source": [
    "help(numpy)"
   ]
  },
  {
   "cell_type": "code",
   "execution_count": null,
   "metadata": {},
   "outputs": [],
   "source": []
  }
 ],
 "metadata": {
  "kernelspec": {
   "display_name": "Python 3",
   "language": "python",
   "name": "python3"
  },
  "language_info": {
   "codemirror_mode": {
    "name": "ipython",
    "version": 3
   },
   "file_extension": ".py",
   "mimetype": "text/x-python",
   "name": "python",
   "nbconvert_exporter": "python",
   "pygments_lexer": "ipython3",
   "version": "3.9.8"
  }
 },
 "nbformat": 4,
 "nbformat_minor": 5
}
