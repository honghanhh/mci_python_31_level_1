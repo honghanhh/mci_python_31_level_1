{
 "cells": [
  {
   "cell_type": "markdown",
   "id": "9a23e742-cbcd-4365-97bf-8536532f02b8",
   "metadata": {},
   "source": [
    "# **<center> LESSON 1: Introduction to PYTHON**"
   ]
  },
  {
   "cell_type": "code",
   "execution_count": 4,
   "id": "731909ac-4c94-4b12-ad66-30f11cfa1d6c",
   "metadata": {},
   "outputs": [
    {
     "data": {
      "text/plain": [
       "2"
      ]
     },
     "execution_count": 4,
     "metadata": {},
     "output_type": "execute_result"
    }
   ],
   "source": [
    "1+1"
   ]
  },
  {
   "cell_type": "markdown",
   "id": "578fbe54-46c0-4c50-8200-8e471d574449",
   "metadata": {},
   "source": [
    "### Phim tat\n",
    "- Run a command: Shift + Enter (hình tam giác next)\n",
    "- Convert cell mode into markdown: Esc + M\n",
    "- Convert markdown into cell code: Esc + Y\n",
    "- Move 1 cell above: A (mũi tên lên)\n",
    "- Move 1 cell below: B (mũi tên xuống)\n",
    "- Delete 1 cell: Esc + X\n",
    "- Add 1 cell: Esc + B\n",
    "\n",
    "### Add image: ![](Copy image address)"
   ]
  },
  {
   "cell_type": "markdown",
   "id": "5a148ffd-6341-4475-8469-297a8cafe369",
   "metadata": {},
   "source": [
    "![](https://teach-english-in-china.co.uk/wp-content/uploads/2018/04/Nanjing.jpg)"
   ]
  },
  {
   "cell_type": "markdown",
   "id": "cf1e1fd8-a4a3-4988-ae60-5ebadc34c41d",
   "metadata": {},
   "source": [
    "# Heading 1"
   ]
  },
  {
   "cell_type": "markdown",
   "id": "3950a47f-133e-448b-a978-1b83e6fd82e1",
   "metadata": {},
   "source": [
    "## Heading 2"
   ]
  },
  {
   "cell_type": "markdown",
   "id": "7d52ffe3-318e-45f5-83ed-d83726d81dcc",
   "metadata": {},
   "source": [
    "### 1. Part 1"
   ]
  },
  {
   "cell_type": "markdown",
   "id": "b950d559-aafc-4ee2-bfb5-fb9968a96c5c",
   "metadata": {},
   "source": [
    "*italics*"
   ]
  },
  {
   "cell_type": "markdown",
   "id": "881cc81e-911b-4286-9c3f-dab1ac06b084",
   "metadata": {},
   "source": [
    "_italics_"
   ]
  },
  {
   "cell_type": "markdown",
   "id": "5024745f-3a0f-4340-a4a6-10add573520c",
   "metadata": {},
   "source": [
    "**bold**"
   ]
  },
  {
   "cell_type": "markdown",
   "id": "da2c69a2-dcb3-4605-9abc-e053e4cd6cf2",
   "metadata": {},
   "source": [
    "__bold__"
   ]
  },
  {
   "cell_type": "markdown",
   "id": "18dfd1d9-01ec-49ed-82c8-3a0b235b74b1",
   "metadata": {},
   "source": [
    "<ins> underline <ins>"
   ]
  },
  {
   "cell_type": "markdown",
   "id": "2c304906-69a3-4dd8-953a-6a3b7723f219",
   "metadata": {},
   "source": [
    "<p style=\"color:red\"> This is a text </p>"
   ]
  },
  {
   "cell_type": "markdown",
   "id": "768e5d5e-b480-4e4a-82d0-8055140017b7",
   "metadata": {},
   "source": [
    "<p> This is a text </p>"
   ]
  },
  {
   "cell_type": "code",
   "execution_count": null,
   "id": "9c748b3f-bfa3-482d-b1d1-94ff80c2625e",
   "metadata": {},
   "outputs": [],
   "source": []
  }
 ],
 "metadata": {
  "kernelspec": {
   "display_name": "Python 3",
   "language": "python",
   "name": "python3"
  },
  "language_info": {
   "codemirror_mode": {
    "name": "ipython",
    "version": 3
   },
   "file_extension": ".py",
   "mimetype": "text/x-python",
   "name": "python",
   "nbconvert_exporter": "python",
   "pygments_lexer": "ipython3",
   "version": "3.7.10"
  }
 },
 "nbformat": 4,
 "nbformat_minor": 5
}
