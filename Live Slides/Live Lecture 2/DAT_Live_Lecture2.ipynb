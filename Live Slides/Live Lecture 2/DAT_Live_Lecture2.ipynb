{
 "cells": [
  {
   "cell_type": "markdown",
   "id": "aebba4a4",
   "metadata": {},
   "source": [
    "# 1. Python"
   ]
  },
  {
   "cell_type": "markdown",
   "id": "6135ba31",
   "metadata": {},
   "source": [
    "![](https://tuhocict.com/wp-content/uploads/2020/06/Python-programming-language-feature-image.jpg)\n",
    "<center> Image of PythonLanguage which we will use for this course </center>"
   ]
  },
  {
   "cell_type": "markdown",
   "id": "88aee903",
   "metadata": {},
   "source": [
    "- Interprete: Python, rails ... \n",
    "- complier: C and Cplus also JAVA "
   ]
  },
  {
   "cell_type": "code",
   "execution_count": 9,
   "id": "128d992d",
   "metadata": {},
   "outputs": [
    {
     "name": "stdout",
     "output_type": "stream",
     "text": [
      "Hi all so happy to see you here\n"
     ]
    }
   ],
   "source": [
    "print('Hi all so happy to see you here')\n",
    "#To check more detail which we are using you can use: Shift + Tab to have more detail for using "
   ]
  },
  {
   "cell_type": "code",
   "execution_count": 10,
   "id": "8a091d80",
   "metadata": {},
   "outputs": [],
   "source": [
    "# The command in python is \"#\""
   ]
  },
  {
   "cell_type": "markdown",
   "id": "1b4148c9",
   "metadata": {},
   "source": [
    "## 1.1. Variables "
   ]
  },
  {
   "cell_type": "code",
   "execution_count": 11,
   "id": "075d6f3c",
   "metadata": {},
   "outputs": [
    {
     "data": {
      "text/plain": [
       "2"
      ]
     },
     "execution_count": 11,
     "metadata": {},
     "output_type": "execute_result"
    }
   ],
   "source": [
    "1+1"
   ]
  },
  {
   "cell_type": "code",
   "execution_count": 12,
   "id": "bd653395",
   "metadata": {},
   "outputs": [
    {
     "data": {
      "text/plain": [
       "int"
      ]
     },
     "execution_count": 12,
     "metadata": {},
     "output_type": "execute_result"
    }
   ],
   "source": [
    "type(1)"
   ]
  },
  {
   "cell_type": "code",
   "execution_count": 13,
   "id": "e6b47cba",
   "metadata": {},
   "outputs": [],
   "source": [
    "# Normally with C they have to define the value of each variable however in Python we can have it automactically \n",
    "# That is why we have to learn Python for firstlanguage if you wanna do more "
   ]
  },
  {
   "cell_type": "code",
   "execution_count": 14,
   "id": "08c06bc8",
   "metadata": {},
   "outputs": [],
   "source": [
    "f_number = 3.1233"
   ]
  },
  {
   "cell_type": "code",
   "execution_count": 15,
   "id": "eaba229c",
   "metadata": {},
   "outputs": [
    {
     "data": {
      "text/plain": [
       "float"
      ]
     },
     "execution_count": 15,
     "metadata": {},
     "output_type": "execute_result"
    }
   ],
   "source": [
    "type(f_number)"
   ]
  },
  {
   "cell_type": "markdown",
   "id": "36f51e39",
   "metadata": {},
   "source": [
    "* syntax: \n",
    "* **Conventions**\n",
    "    - Strat with characters or undersocre\n",
    "    - In python variables are case-sensitive: Num # nUM # NUM\n",
    "    - We have to avoid the name with keywword in Python \n",
    "    - You can check all keyword of Python using dir or more and more whatever you can check soon "
   ]
  },
  {
   "cell_type": "code",
   "execution_count": 16,
   "id": "ca6c6450",
   "metadata": {},
   "outputs": [
    {
     "data": {
      "text/plain": [
       "float"
      ]
     },
     "execution_count": 16,
     "metadata": {},
     "output_type": "execute_result"
    }
   ],
   "source": [
    "f_number = 3.14\n",
    "type (f_number)"
   ]
  },
  {
   "cell_type": "markdown",
   "id": "6a0220c0",
   "metadata": {},
   "source": [
    "# 2. Operation and OPerator"
   ]
  },
  {
   "cell_type": "markdown",
   "id": "f3767085",
   "metadata": {},
   "source": [
    "1+1 + is operation and 1 is Operator"
   ]
  },
  {
   "cell_type": "markdown",
   "id": "c7123578",
   "metadata": {},
   "source": [
    "|Operation| Meaning |Example|\n",
    "|----|----|----|\n",
    "|+|Adding Operator|a+b|\n",
    "|-|Substraction|a-b|\n",
    "|*|Multiplication|a*b|\n",
    "|/|Division|a/b|\n",
    "|%| Modulus(chia lay phan du)|a%b|\n",
    "|//|Floor division(chia lay phan nguyen)|a//b|\n",
    "|**|Exponentation|a**b|"
   ]
  },
  {
   "cell_type": "code",
   "execution_count": 2,
   "id": "2433ec7c",
   "metadata": {},
   "outputs": [
    {
     "data": {
      "text/plain": [
       "False"
      ]
     },
     "execution_count": 2,
     "metadata": {},
     "output_type": "execute_result"
    }
   ],
   "source": [
    "True and False"
   ]
  },
  {
   "cell_type": "code",
   "execution_count": 3,
   "id": "3c6b9d19",
   "metadata": {},
   "outputs": [
    {
     "data": {
      "text/plain": [
       "True"
      ]
     },
     "execution_count": 3,
     "metadata": {},
     "output_type": "execute_result"
    }
   ],
   "source": [
    "True and True"
   ]
  },
  {
   "cell_type": "code",
   "execution_count": 4,
   "id": "92c30c6b",
   "metadata": {},
   "outputs": [
    {
     "data": {
      "text/plain": [
       "True"
      ]
     },
     "execution_count": 4,
     "metadata": {},
     "output_type": "execute_result"
    }
   ],
   "source": [
    "True or False"
   ]
  },
  {
   "cell_type": "markdown",
   "id": "83e2b2cc",
   "metadata": {},
   "source": [
    "|Operator|Meaning|\n",
    "|-|-|\n",
    "|<| less than\n",
    "|>| greater than\n",
    "|<=| less than or equal to\n",
    "|=| equal to\n",
    "|!=| not equal to"
   ]
  },
  {
   "cell_type": "code",
   "execution_count": 17,
   "id": "c2ddb759",
   "metadata": {},
   "outputs": [
    {
     "data": {
      "text/plain": [
       "complex"
      ]
     },
     "execution_count": 17,
     "metadata": {},
     "output_type": "execute_result"
    }
   ],
   "source": [
    "type(1+2J)"
   ]
  },
  {
   "cell_type": "code",
   "execution_count": 13,
   "id": "60872fc7",
   "metadata": {},
   "outputs": [
    {
     "data": {
      "text/plain": [
       "str"
      ]
     },
     "execution_count": 13,
     "metadata": {},
     "output_type": "execute_result"
    }
   ],
   "source": [
    "type('long')"
   ]
  },
  {
   "cell_type": "code",
   "execution_count": 19,
   "id": "8f9af5c2",
   "metadata": {},
   "outputs": [],
   "source": [
    "a =1\n",
    "b =2"
   ]
  },
  {
   "cell_type": "code",
   "execution_count": 20,
   "id": "c59a41ad",
   "metadata": {},
   "outputs": [
    {
     "data": {
      "text/plain": [
       "3"
      ]
     },
     "execution_count": 20,
     "metadata": {},
     "output_type": "execute_result"
    }
   ],
   "source": [
    "a+b"
   ]
  },
  {
   "cell_type": "code",
   "execution_count": 21,
   "id": "dd8a93b8",
   "metadata": {},
   "outputs": [
    {
     "data": {
      "text/plain": [
       "-1"
      ]
     },
     "execution_count": 21,
     "metadata": {},
     "output_type": "execute_result"
    }
   ],
   "source": [
    "a-b"
   ]
  },
  {
   "cell_type": "code",
   "execution_count": 22,
   "id": "81e8dee0",
   "metadata": {},
   "outputs": [
    {
     "data": {
      "text/plain": [
       "2"
      ]
     },
     "execution_count": 22,
     "metadata": {},
     "output_type": "execute_result"
    }
   ],
   "source": [
    "a*b"
   ]
  },
  {
   "cell_type": "code",
   "execution_count": 23,
   "id": "99b56add",
   "metadata": {},
   "outputs": [
    {
     "data": {
      "text/plain": [
       "0"
      ]
     },
     "execution_count": 23,
     "metadata": {},
     "output_type": "execute_result"
    }
   ],
   "source": [
    "a//b"
   ]
  },
  {
   "cell_type": "code",
   "execution_count": 24,
   "id": "da74b979",
   "metadata": {},
   "outputs": [
    {
     "data": {
      "text/plain": [
       "1"
      ]
     },
     "execution_count": 24,
     "metadata": {},
     "output_type": "execute_result"
    }
   ],
   "source": [
    "a%b"
   ]
  },
  {
   "cell_type": "markdown",
   "id": "a91cd182",
   "metadata": {},
   "source": [
    "# 3.Logic Operations"
   ]
  },
  {
   "cell_type": "markdown",
   "id": "105fcb72",
   "metadata": {},
   "source": [
    "|||||\n",
    "|-|-|-|-|\n",
    "|Operations|Operator1|Operator2|Result|\n",
    "|AND|True|True|True|\n",
    "|OR|True|False|True|\n",
    "|NOT|True||False|\n",
    "|XOR|SameTrue or False||False|"
   ]
  },
  {
   "cell_type": "code",
   "execution_count": 25,
   "id": "aa42b5bc",
   "metadata": {},
   "outputs": [
    {
     "data": {
      "text/plain": [
       "True"
      ]
     },
     "execution_count": 25,
     "metadata": {},
     "output_type": "execute_result"
    }
   ],
   "source": [
    "True and True"
   ]
  },
  {
   "cell_type": "code",
   "execution_count": 26,
   "id": "3c923444",
   "metadata": {},
   "outputs": [
    {
     "data": {
      "text/plain": [
       "True"
      ]
     },
     "execution_count": 26,
     "metadata": {},
     "output_type": "execute_result"
    }
   ],
   "source": [
    "True or Flase"
   ]
  },
  {
   "cell_type": "markdown",
   "id": "acc47bd1",
   "metadata": {},
   "source": [
    "*In Python the program will run from left handsite to right hand site*"
   ]
  },
  {
   "cell_type": "code",
   "execution_count": 28,
   "id": "da618aea",
   "metadata": {},
   "outputs": [
    {
     "data": {
      "text/plain": [
       "False"
      ]
     },
     "execution_count": 28,
     "metadata": {},
     "output_type": "execute_result"
    }
   ],
   "source": [
    "True and False and True or False"
   ]
  },
  {
   "cell_type": "markdown",
   "id": "5910cdd0",
   "metadata": {},
   "source": [
    "# 4. Condition Operations "
   ]
  },
  {
   "cell_type": "markdown",
   "id": "032492b5",
   "metadata": {},
   "source": [
    "|||\n",
    "|-|-|\n",
    "|OPerations|Meaning|\n",
    "|<|Less than|\n",
    "|>|Great than|\n",
    "|<=|Less and or Equal to|\n",
    "|>=|Greater and or Equal to|\n",
    "|==| Equal to|\n",
    "|!=| Not Equal to|"
   ]
  },
  {
   "cell_type": "markdown",
   "id": "c974f1dc",
   "metadata": {},
   "source": [
    "# 5. Data Type and Data Structure"
   ]
  },
  {
   "cell_type": "markdown",
   "id": "9a413eb3",
   "metadata": {},
   "source": [
    "## 5.1. Data Type"
   ]
  },
  {
   "cell_type": "markdown",
   "id": "9c3bc456",
   "metadata": {},
   "source": [
    "Program = Data Structure (what is it) and Argorithms (What sould I have to do?)"
   ]
  },
  {
   "cell_type": "markdown",
   "id": "f4b08f81",
   "metadata": {},
   "source": [
    "* Numeric: Int float \n",
    "* String: Text char \n",
    "* Boolean: True and False \n",
    "* Date Time: date time \n",
    "* Nontype"
   ]
  },
  {
   "cell_type": "markdown",
   "id": "c21b17f7",
   "metadata": {},
   "source": [
    "## 5.2 Data Structure"
   ]
  },
  {
   "cell_type": "markdown",
   "id": "e6da230a",
   "metadata": {},
   "source": [
    "* Built-in data sctructure: list tupe set and dict \n",
    "* User-Define data scturture: stack queue tree linked list graph and hashmap "
   ]
  },
  {
   "cell_type": "markdown",
   "id": "20df6ae4",
   "metadata": {},
   "source": [
    "In data Science we will forcus on Built-in data structure more and more than user"
   ]
  },
  {
   "cell_type": "markdown",
   "id": "002f5cff",
   "metadata": {},
   "source": [
    "* list: [] list() index \n",
    "* Tuples: (), tuples(), index\n",
    "* Set: {}, non-index,non-duplicated\n",
    "* Dict: {key:value},non-duplicated"
   ]
  },
  {
   "cell_type": "markdown",
   "id": "ee2600f5",
   "metadata": {},
   "source": [
    "### 5.2.1 List "
   ]
  },
  {
   "cell_type": "code",
   "execution_count": 1,
   "id": "55b4e1f7",
   "metadata": {},
   "outputs": [],
   "source": [
    "li = [1,2,3,'abc','python',3.14]"
   ]
  },
  {
   "cell_type": "code",
   "execution_count": 2,
   "id": "1280fe72",
   "metadata": {},
   "outputs": [
    {
     "data": {
      "text/plain": [
       "[1, 2, 3, 'abc', 'python', 3.14]"
      ]
     },
     "execution_count": 2,
     "metadata": {},
     "output_type": "execute_result"
    }
   ],
   "source": [
    "li"
   ]
  },
  {
   "cell_type": "code",
   "execution_count": 5,
   "id": "e70a5a17",
   "metadata": {},
   "outputs": [
    {
     "data": {
      "text/plain": [
       "['append',\n",
       " 'clear',\n",
       " 'copy',\n",
       " 'count',\n",
       " 'extend',\n",
       " 'index',\n",
       " 'insert',\n",
       " 'pop',\n",
       " 'remove',\n",
       " 'reverse',\n",
       " 'sort']"
      ]
     },
     "execution_count": 5,
     "metadata": {},
     "output_type": "execute_result"
    }
   ],
   "source": [
    "dir(li)\n",
    "# and for more details you can check with \n",
    "[method for method in dir(li) if not method.startswith('_') ]"
   ]
  },
  {
   "cell_type": "code",
   "execution_count": 6,
   "id": "8a2fc4d8-3c80-42eb-a91e-b45a5625a643",
   "metadata": {},
   "outputs": [],
   "source": [
    "#Built-in data sctructure"
   ]
  },
  {
   "cell_type": "code",
   "execution_count": 7,
   "id": "ac45e627-f6d9-4771-afc8-dbef33812dc8",
   "metadata": {},
   "outputs": [
    {
     "data": {
      "text/plain": [
       "['__add__',\n",
       " '__class__',\n",
       " '__contains__',\n",
       " '__delattr__',\n",
       " '__delitem__',\n",
       " '__dir__',\n",
       " '__doc__',\n",
       " '__eq__',\n",
       " '__format__',\n",
       " '__ge__',\n",
       " '__getattribute__',\n",
       " '__getitem__',\n",
       " '__gt__',\n",
       " '__hash__',\n",
       " '__iadd__',\n",
       " '__imul__',\n",
       " '__init__',\n",
       " '__init_subclass__',\n",
       " '__iter__',\n",
       " '__le__',\n",
       " '__len__',\n",
       " '__lt__',\n",
       " '__mul__',\n",
       " '__ne__',\n",
       " '__new__',\n",
       " '__reduce__',\n",
       " '__reduce_ex__',\n",
       " '__repr__',\n",
       " '__reversed__',\n",
       " '__rmul__',\n",
       " '__setattr__',\n",
       " '__setitem__',\n",
       " '__sizeof__',\n",
       " '__str__',\n",
       " '__subclasshook__',\n",
       " 'append',\n",
       " 'clear',\n",
       " 'copy',\n",
       " 'count',\n",
       " 'extend',\n",
       " 'index',\n",
       " 'insert',\n",
       " 'pop',\n",
       " 'remove',\n",
       " 'reverse',\n",
       " 'sort']"
      ]
     },
     "execution_count": 7,
     "metadata": {},
     "output_type": "execute_result"
    }
   ],
   "source": [
    "#show all \n",
    "[function_built_in for function_built_in in dir(list)]"
   ]
  },
  {
   "cell_type": "code",
   "execution_count": 9,
   "id": "8c7012a2",
   "metadata": {},
   "outputs": [],
   "source": [
    "li.append(10)\n",
    "#List can append all the thing which do not need to check more about type also what is that \n",
    "li.append(dir(list))"
   ]
  },
  {
   "cell_type": "code",
   "execution_count": 10,
   "id": "cc9272fd",
   "metadata": {},
   "outputs": [
    {
     "data": {
      "text/plain": [
       "[1,\n",
       " 2,\n",
       " 3,\n",
       " 'abc',\n",
       " 'python',\n",
       " 3.14,\n",
       " 10,\n",
       " 10,\n",
       " ['__add__',\n",
       "  '__class__',\n",
       "  '__contains__',\n",
       "  '__delattr__',\n",
       "  '__delitem__',\n",
       "  '__dir__',\n",
       "  '__doc__',\n",
       "  '__eq__',\n",
       "  '__format__',\n",
       "  '__ge__',\n",
       "  '__getattribute__',\n",
       "  '__getitem__',\n",
       "  '__gt__',\n",
       "  '__hash__',\n",
       "  '__iadd__',\n",
       "  '__imul__',\n",
       "  '__init__',\n",
       "  '__init_subclass__',\n",
       "  '__iter__',\n",
       "  '__le__',\n",
       "  '__len__',\n",
       "  '__lt__',\n",
       "  '__mul__',\n",
       "  '__ne__',\n",
       "  '__new__',\n",
       "  '__reduce__',\n",
       "  '__reduce_ex__',\n",
       "  '__repr__',\n",
       "  '__reversed__',\n",
       "  '__rmul__',\n",
       "  '__setattr__',\n",
       "  '__setitem__',\n",
       "  '__sizeof__',\n",
       "  '__str__',\n",
       "  '__subclasshook__',\n",
       "  'append',\n",
       "  'clear',\n",
       "  'copy',\n",
       "  'count',\n",
       "  'extend',\n",
       "  'index',\n",
       "  'insert',\n",
       "  'pop',\n",
       "  'remove',\n",
       "  'reverse',\n",
       "  'sort']]"
      ]
     },
     "execution_count": 10,
     "metadata": {},
     "output_type": "execute_result"
    }
   ],
   "source": [
    "li"
   ]
  },
  {
   "cell_type": "code",
   "execution_count": 11,
   "id": "2e13fbce",
   "metadata": {},
   "outputs": [
    {
     "data": {
      "text/plain": [
       "[1, 2, 3]"
      ]
     },
     "execution_count": 11,
     "metadata": {},
     "output_type": "execute_result"
    }
   ],
   "source": [
    "li[0:3]# [bắt đầu:cuối chuỗi]"
   ]
  },
  {
   "cell_type": "code",
   "execution_count": 12,
   "id": "4d43e30a-dcd5-4b6f-89dd-d45dd25fe525",
   "metadata": {},
   "outputs": [
    {
     "data": {
      "text/plain": [
       "[1, 2, 3]"
      ]
     },
     "execution_count": 12,
     "metadata": {},
     "output_type": "execute_result"
    }
   ],
   "source": [
    "li[:3]"
   ]
  },
  {
   "cell_type": "code",
   "execution_count": 13,
   "id": "522d6ae4-1224-4439-b0bc-020ea31f911c",
   "metadata": {},
   "outputs": [
    {
     "data": {
      "text/plain": [
       "[10,\n",
       " 10,\n",
       " ['__add__',\n",
       "  '__class__',\n",
       "  '__contains__',\n",
       "  '__delattr__',\n",
       "  '__delitem__',\n",
       "  '__dir__',\n",
       "  '__doc__',\n",
       "  '__eq__',\n",
       "  '__format__',\n",
       "  '__ge__',\n",
       "  '__getattribute__',\n",
       "  '__getitem__',\n",
       "  '__gt__',\n",
       "  '__hash__',\n",
       "  '__iadd__',\n",
       "  '__imul__',\n",
       "  '__init__',\n",
       "  '__init_subclass__',\n",
       "  '__iter__',\n",
       "  '__le__',\n",
       "  '__len__',\n",
       "  '__lt__',\n",
       "  '__mul__',\n",
       "  '__ne__',\n",
       "  '__new__',\n",
       "  '__reduce__',\n",
       "  '__reduce_ex__',\n",
       "  '__repr__',\n",
       "  '__reversed__',\n",
       "  '__rmul__',\n",
       "  '__setattr__',\n",
       "  '__setitem__',\n",
       "  '__sizeof__',\n",
       "  '__str__',\n",
       "  '__subclasshook__',\n",
       "  'append',\n",
       "  'clear',\n",
       "  'copy',\n",
       "  'count',\n",
       "  'extend',\n",
       "  'index',\n",
       "  'insert',\n",
       "  'pop',\n",
       "  'remove',\n",
       "  'reverse',\n",
       "  'sort']]"
      ]
     },
     "execution_count": 13,
     "metadata": {},
     "output_type": "execute_result"
    }
   ],
   "source": [
    "li[-3:]#print 3 elements end of the list "
   ]
  },
  {
   "cell_type": "code",
   "execution_count": 14,
   "id": "59531878",
   "metadata": {
    "scrolled": true
   },
   "outputs": [
    {
     "data": {
      "text/plain": [
       "['__add__',\n",
       " '__class__',\n",
       " '__contains__',\n",
       " '__delattr__',\n",
       " '__delitem__',\n",
       " '__dir__',\n",
       " '__doc__',\n",
       " '__eq__',\n",
       " '__format__',\n",
       " '__ge__',\n",
       " '__getattribute__',\n",
       " '__getitem__',\n",
       " '__gt__',\n",
       " '__hash__',\n",
       " '__iadd__',\n",
       " '__imul__',\n",
       " '__init__',\n",
       " '__init_subclass__',\n",
       " '__iter__',\n",
       " '__le__',\n",
       " '__len__',\n",
       " '__lt__',\n",
       " '__mul__',\n",
       " '__ne__',\n",
       " '__new__',\n",
       " '__reduce__',\n",
       " '__reduce_ex__',\n",
       " '__repr__',\n",
       " '__reversed__',\n",
       " '__rmul__',\n",
       " '__setattr__',\n",
       " '__setitem__',\n",
       " '__sizeof__',\n",
       " '__str__',\n",
       " '__subclasshook__',\n",
       " 'append',\n",
       " 'clear',\n",
       " 'copy',\n",
       " 'count',\n",
       " 'extend',\n",
       " 'index',\n",
       " 'insert',\n",
       " 'pop',\n",
       " 'remove',\n",
       " 'reverse',\n",
       " 'sort']"
      ]
     },
     "execution_count": 14,
     "metadata": {},
     "output_type": "execute_result"
    }
   ],
   "source": [
    "li[-1]# trả về giá trị cuối chuỗi"
   ]
  },
  {
   "cell_type": "code",
   "execution_count": 17,
   "id": "d362867f-de23-452a-9176-bdfef1108793",
   "metadata": {},
   "outputs": [],
   "source": [
    "li.remove(li[-1])\n",
    "#remove the value at index =- 1"
   ]
  },
  {
   "cell_type": "code",
   "execution_count": 18,
   "id": "b6273fe2-95af-4150-ab7e-623ca4108332",
   "metadata": {},
   "outputs": [
    {
     "data": {
      "text/plain": [
       "[1, 2, 3, 'abc', 'python', 3.14]"
      ]
     },
     "execution_count": 18,
     "metadata": {},
     "output_type": "execute_result"
    }
   ],
   "source": [
    "li"
   ]
  },
  {
   "cell_type": "code",
   "execution_count": 19,
   "id": "8e254aaf-b832-41c6-a7d4-a82bf532a7dc",
   "metadata": {},
   "outputs": [],
   "source": [
    "#how to copy li \n",
    "a= li.copy()"
   ]
  },
  {
   "cell_type": "code",
   "execution_count": 23,
   "id": "3ed4e29d-22c5-40a0-b21f-a3654bf6a115",
   "metadata": {},
   "outputs": [],
   "source": [
    "all_thing_list_can_do=['append','clear','copy','count','extend','index','insert','pop','remove','reverse','sort']"
   ]
  },
  {
   "cell_type": "markdown",
   "id": "5258b2e6-3da0-4bda-ab70-213c5292ba9f",
   "metadata": {},
   "source": [
    "||||\n",
    "|-|-|-|\n",
    "|append|append a value in the end of list|list.append(value)|\n",
    "|clear|remove all elements in list|lits.clear()|\n",
    "|copy|create a new list by copying old list|new_list=list.copy()|\n",
    "|count|check howmany element exits in the list|howmany=list.count(element)|\n",
    "|extend|Append a list continiously| list.extend(li)|\n",
    "|...|....|.....|\n"
   ]
  },
  {
   "cell_type": "code",
   "execution_count": 24,
   "id": "85b6544f-5d3a-4c76-b000-e68e0c6f6938",
   "metadata": {},
   "outputs": [],
   "source": [
    "a.clear() #remove all the thing or a = []"
   ]
  },
  {
   "cell_type": "code",
   "execution_count": 21,
   "id": "e602faa6",
   "metadata": {},
   "outputs": [
    {
     "data": {
      "text/plain": [
       "[]"
      ]
     },
     "execution_count": 21,
     "metadata": {},
     "output_type": "execute_result"
    }
   ],
   "source": [
    "li.clear()\n",
    "li"
   ]
  },
  {
   "cell_type": "code",
   "execution_count": 26,
   "id": "9f644751",
   "metadata": {},
   "outputs": [],
   "source": [
    "li.append(10) # add a value whatever we wann have in the end of this list"
   ]
  },
  {
   "cell_type": "code",
   "execution_count": 27,
   "id": "ef6af22c",
   "metadata": {},
   "outputs": [
    {
     "data": {
      "text/plain": [
       "[1, 2, 3, 'abc', 'python', 3.14, 10]"
      ]
     },
     "execution_count": 27,
     "metadata": {},
     "output_type": "execute_result"
    }
   ],
   "source": [
    "li"
   ]
  },
  {
   "cell_type": "code",
   "execution_count": 28,
   "id": "afd7246b",
   "metadata": {},
   "outputs": [
    {
     "data": {
      "text/plain": [
       "[1, 2, 3, 'abc', 'python', 3.14, 10, 1, 2, 3, 'abc', 'python', 3.14, 10]"
      ]
     },
     "execution_count": 28,
     "metadata": {},
     "output_type": "execute_result"
    }
   ],
   "source": [
    "li.extend(li)\n",
    "li"
   ]
  },
  {
   "cell_type": "markdown",
   "id": "2aca5cec",
   "metadata": {},
   "source": [
    "|||\n",
    "|-|-|\n",
    "|append|extend|\n",
    "|append a value or append all the list|extand a list|"
   ]
  },
  {
   "cell_type": "code",
   "execution_count": 29,
   "id": "6fb91e37-445e-4bc2-9ecf-e13390e97ab7",
   "metadata": {},
   "outputs": [],
   "source": [
    "#The different between the append and extend (look like join or union actually when we use it as dataframe)"
   ]
  },
  {
   "cell_type": "code",
   "execution_count": 30,
   "id": "28a4779c",
   "metadata": {},
   "outputs": [],
   "source": [
    "li = [1,2,3]"
   ]
  },
  {
   "cell_type": "code",
   "execution_count": 31,
   "id": "edeb1fa8",
   "metadata": {},
   "outputs": [],
   "source": [
    "li.extend([1, 2, 'python'])"
   ]
  },
  {
   "cell_type": "code",
   "execution_count": 32,
   "id": "a09f607b",
   "metadata": {},
   "outputs": [
    {
     "data": {
      "text/plain": [
       "[1, 2, 3, 1, 2, 'python']"
      ]
     },
     "execution_count": 32,
     "metadata": {},
     "output_type": "execute_result"
    }
   ],
   "source": [
    "li"
   ]
  },
  {
   "cell_type": "code",
   "execution_count": 33,
   "id": "a91eedf2",
   "metadata": {
    "scrolled": true
   },
   "outputs": [
    {
     "data": {
      "text/plain": [
       "[1, 2, 3, 1, 2, 'python', [1, 2, 'python']]"
      ]
     },
     "execution_count": 33,
     "metadata": {},
     "output_type": "execute_result"
    }
   ],
   "source": [
    "li.append([1, 2, 'python'])\n",
    "li"
   ]
  },
  {
   "cell_type": "code",
   "execution_count": 35,
   "id": "d6f9e973",
   "metadata": {},
   "outputs": [
    {
     "data": {
      "text/plain": [
       "[3, 1, 2, 'python', [1, 2, 'python']]"
      ]
     },
     "execution_count": 35,
     "metadata": {},
     "output_type": "execute_result"
    }
   ],
   "source": [
    "del li[0]\n",
    "li\n",
    "# in other way we can use li.remove"
   ]
  },
  {
   "cell_type": "code",
   "execution_count": 36,
   "id": "28ff0fb9",
   "metadata": {},
   "outputs": [
    {
     "data": {
      "text/plain": [
       "[3, 2, 'python', [1, 2, 'python']]"
      ]
     },
     "execution_count": 36,
     "metadata": {},
     "output_type": "execute_result"
    }
   ],
   "source": [
    "li.pop(1)# remove the operature with index\n",
    "li"
   ]
  },
  {
   "cell_type": "code",
   "execution_count": 37,
   "id": "935a2354",
   "metadata": {},
   "outputs": [
    {
     "data": {
      "text/plain": [
       "[3, 2, [1, 2, 'python']]"
      ]
     },
     "execution_count": 37,
     "metadata": {},
     "output_type": "execute_result"
    }
   ],
   "source": [
    "li.remove('python') # remove value of operator\n",
    "li"
   ]
  },
  {
   "cell_type": "code",
   "execution_count": 66,
   "id": "114b2364",
   "metadata": {},
   "outputs": [
    {
     "data": {
      "text/plain": [
       "2"
      ]
     },
     "execution_count": 66,
     "metadata": {},
     "output_type": "execute_result"
    }
   ],
   "source": [
    "len(li) #độ dài chuỗi"
   ]
  },
  {
   "cell_type": "code",
   "execution_count": 38,
   "id": "0c65a97c",
   "metadata": {},
   "outputs": [
    {
     "data": {
      "text/plain": [
       "0"
      ]
     },
     "execution_count": 38,
     "metadata": {},
     "output_type": "execute_result"
    }
   ],
   "source": [
    "li.count('5') # check the variables exits in the list\n"
   ]
  },
  {
   "cell_type": "markdown",
   "id": "efae00b1",
   "metadata": {},
   "source": [
    "# 5.2.2. Typles"
   ]
  },
  {
   "cell_type": "markdown",
   "id": "205fe7d6",
   "metadata": {},
   "source": [
    "In tuple: (), tuples(), still have duplicate"
   ]
  },
  {
   "cell_type": "markdown",
   "id": "097879c1",
   "metadata": {},
   "source": [
    "Tupls we can not change operator"
   ]
  },
  {
   "cell_type": "code",
   "execution_count": 39,
   "id": "801221df",
   "metadata": {},
   "outputs": [
    {
     "data": {
      "text/plain": [
       "(1, 2, 3, 3, 'vietnam')"
      ]
     },
     "execution_count": 39,
     "metadata": {},
     "output_type": "execute_result"
    }
   ],
   "source": [
    "tu = (1, 2, 3,3, 'vietnam')\n",
    "tu"
   ]
  },
  {
   "cell_type": "code",
   "execution_count": 40,
   "id": "f60b6f07",
   "metadata": {},
   "outputs": [
    {
     "data": {
      "text/plain": [
       "(1, 2, 3, 3, 'vietnam')"
      ]
     },
     "execution_count": 40,
     "metadata": {},
     "output_type": "execute_result"
    }
   ],
   "source": [
    "tu = tuple(tu)\n",
    "tu"
   ]
  },
  {
   "cell_type": "code",
   "execution_count": 41,
   "id": "43f93cc0",
   "metadata": {},
   "outputs": [
    {
     "data": {
      "text/plain": [
       "2"
      ]
     },
     "execution_count": 41,
     "metadata": {},
     "output_type": "execute_result"
    }
   ],
   "source": [
    "tu.count(3) #How many time we have variables "
   ]
  },
  {
   "cell_type": "code",
   "execution_count": 42,
   "id": "5f9da025",
   "metadata": {},
   "outputs": [
    {
     "ename": "TypeError",
     "evalue": "'tuple' object does not support item assignment",
     "output_type": "error",
     "traceback": [
      "\u001b[0;31m---------------------------------------------------------------------------\u001b[0m",
      "\u001b[0;31mTypeError\u001b[0m                                 Traceback (most recent call last)",
      "\u001b[0;32m<ipython-input-42-1212385dd6ad>\u001b[0m in \u001b[0;36m<module>\u001b[0;34m\u001b[0m\n\u001b[0;32m----> 1\u001b[0;31m \u001b[0mtu\u001b[0m\u001b[0;34m[\u001b[0m\u001b[0;36m1\u001b[0m\u001b[0;34m]\u001b[0m \u001b[0;34m=\u001b[0m \u001b[0;36m2\u001b[0m \u001b[0;31m# it means that we can not change all value in tuples\u001b[0m\u001b[0;34m\u001b[0m\u001b[0m\n\u001b[0m",
      "\u001b[0;31mTypeError\u001b[0m: 'tuple' object does not support item assignment"
     ]
    }
   ],
   "source": [
    "tu[1] = 2 # it means that we can not change all value in tuples "
   ]
  },
  {
   "cell_type": "code",
   "execution_count": 85,
   "id": "2c3ae2c2",
   "metadata": {},
   "outputs": [
    {
     "data": {
      "text/plain": [
       "['__add__',\n",
       " '__class__',\n",
       " '__contains__',\n",
       " '__delattr__',\n",
       " '__dir__',\n",
       " '__doc__',\n",
       " '__eq__',\n",
       " '__format__',\n",
       " '__ge__',\n",
       " '__getattribute__',\n",
       " '__getitem__',\n",
       " '__getnewargs__',\n",
       " '__gt__',\n",
       " '__hash__',\n",
       " '__init__',\n",
       " '__init_subclass__',\n",
       " '__iter__',\n",
       " '__le__',\n",
       " '__len__',\n",
       " '__lt__',\n",
       " '__mul__',\n",
       " '__ne__',\n",
       " '__new__',\n",
       " '__reduce__',\n",
       " '__reduce_ex__',\n",
       " '__repr__',\n",
       " '__rmul__',\n",
       " '__setattr__',\n",
       " '__sizeof__',\n",
       " '__str__',\n",
       " '__subclasshook__',\n",
       " 'count',\n",
       " 'index']"
      ]
     },
     "execution_count": 85,
     "metadata": {},
     "output_type": "execute_result"
    }
   ],
   "source": [
    "dir(tu)"
   ]
  },
  {
   "cell_type": "code",
   "execution_count": 75,
   "id": "8212bcc5",
   "metadata": {},
   "outputs": [
    {
     "data": {
      "text/plain": [
       "1"
      ]
     },
     "execution_count": 75,
     "metadata": {},
     "output_type": "execute_result"
    }
   ],
   "source": [
    "tu.index(2) # Check index of variable"
   ]
  },
  {
   "cell_type": "markdown",
   "id": "c997bb2d",
   "metadata": {},
   "source": [
    "**Note** Wejust have index and count in tuple it mean that we can not insert, remove or append whatever which the list can do\n",
    "Because in tuple we just have supported only:\n",
    "* count \n",
    "* index"
   ]
  },
  {
   "cell_type": "code",
   "execution_count": 44,
   "id": "9f73e2ca",
   "metadata": {},
   "outputs": [
    {
     "data": {
      "text/plain": [
       "(2, 3, 3, 'vietnam')"
      ]
     },
     "execution_count": 44,
     "metadata": {},
     "output_type": "execute_result"
    }
   ],
   "source": [
    "tu[1:]\n",
    "# meain tu[index]"
   ]
  },
  {
   "cell_type": "code",
   "execution_count": 46,
   "id": "1943b586-6cf2-42a7-958b-0e88f977ac8e",
   "metadata": {},
   "outputs": [
    {
     "data": {
      "text/plain": [
       "(1, 2, 3, 3, 'vietnam')"
      ]
     },
     "execution_count": 46,
     "metadata": {},
     "output_type": "execute_result"
    }
   ],
   "source": [
    "tu[:]#show all "
   ]
  },
  {
   "cell_type": "markdown",
   "id": "0b26e3b8",
   "metadata": {},
   "source": [
    "### 5.2.3. Set "
   ]
  },
  {
   "cell_type": "code",
   "execution_count": 50,
   "id": "6bf84116-9cbf-47a0-bc2b-858b9bd158d8",
   "metadata": {},
   "outputs": [],
   "source": [
    "#(non-duplicated)\n",
    "#can: ['add','clear','copy','difference','difference_update','discard','intersection','intersection_update','isdisjoint','issubset','issuperset','pop','remove','symmetric_difference','symmetric_difference_update','union','update']"
   ]
  },
  {
   "cell_type": "code",
   "execution_count": 49,
   "id": "3872285e-b86a-48f4-a1de-991130933a0a",
   "metadata": {},
   "outputs": [],
   "source": [
    "#Set()"
   ]
  },
  {
   "cell_type": "markdown",
   "id": "2626e4d4",
   "metadata": {},
   "source": [
    "Syntax: {val1, val2....}"
   ]
  },
  {
   "cell_type": "code",
   "execution_count": 56,
   "id": "ec92b8c4",
   "metadata": {},
   "outputs": [
    {
     "data": {
      "text/plain": [
       "{1, 2, 3, '4'}"
      ]
     },
     "execution_count": 56,
     "metadata": {},
     "output_type": "execute_result"
    }
   ],
   "source": [
    "s = {1, 1, 2, 3} # chỉ nhập một giá trị một \n",
    "s.add('4')#If we add the existing inside the set we still can not add more because it will auto remove all the duplicated value\n",
    "s"
   ]
  },
  {
   "cell_type": "code",
   "execution_count": 57,
   "id": "b27c74a4",
   "metadata": {},
   "outputs": [
    {
     "data": {
      "text/plain": [
       "{1, 2, 3, '4'}"
      ]
     },
     "execution_count": 57,
     "metadata": {},
     "output_type": "execute_result"
    }
   ],
   "source": [
    "s # it means that set always have unix-value. (non-duplicated)"
   ]
  },
  {
   "cell_type": "code",
   "execution_count": 96,
   "id": "20846743",
   "metadata": {},
   "outputs": [
    {
     "data": {
      "text/plain": [
       "['add',\n",
       " 'clear',\n",
       " 'copy',\n",
       " 'difference',\n",
       " 'difference_update',\n",
       " 'discard',\n",
       " 'intersection',\n",
       " 'intersection_update',\n",
       " 'isdisjoint',\n",
       " 'issubset',\n",
       " 'issuperset',\n",
       " 'pop',\n",
       " 'remove',\n",
       " 'symmetric_difference',\n",
       " 'symmetric_difference_update',\n",
       " 'union',\n",
       " 'update']"
      ]
     },
     "execution_count": 96,
     "metadata": {},
     "output_type": "execute_result"
    }
   ],
   "source": [
    "[method for method in dir(s) if not method.startswith('_')]"
   ]
  },
  {
   "cell_type": "code",
   "execution_count": 59,
   "id": "e48f7711",
   "metadata": {},
   "outputs": [],
   "source": [
    "s1 = {2, 3, 4, 5}\n",
    "s2 = {1,2,3}\n",
    "s1.add(2)"
   ]
  },
  {
   "cell_type": "code",
   "execution_count": 60,
   "id": "edeffc11",
   "metadata": {},
   "outputs": [
    {
     "data": {
      "text/plain": [
       "{1, 2, 3}"
      ]
     },
     "execution_count": 60,
     "metadata": {},
     "output_type": "execute_result"
    }
   ],
   "source": [
    "s1\n",
    "s2"
   ]
  },
  {
   "cell_type": "code",
   "execution_count": 63,
   "id": "d369d7e9",
   "metadata": {},
   "outputs": [
    {
     "data": {
      "text/plain": [
       "{4, 5}"
      ]
     },
     "execution_count": 63,
     "metadata": {},
     "output_type": "execute_result"
    }
   ],
   "source": [
    "s1.difference(s2) #The different value between 2 sets"
   ]
  },
  {
   "cell_type": "code",
   "execution_count": 64,
   "id": "125d1f47",
   "metadata": {},
   "outputs": [
    {
     "data": {
      "text/plain": [
       "{2, 3}"
      ]
     },
     "execution_count": 64,
     "metadata": {},
     "output_type": "execute_result"
    }
   ],
   "source": [
    "s1.intersection(s) #same elements between 2 sets"
   ]
  },
  {
   "cell_type": "code",
   "execution_count": 70,
   "id": "edb09085-ac1d-4898-9c82-c5fb7db0d640",
   "metadata": {},
   "outputs": [],
   "source": [
    "s1.symmetric_difference_update(s2)#remove all the same value now we just keep the different elements of 2 sets"
   ]
  },
  {
   "cell_type": "code",
   "execution_count": 71,
   "id": "c68bf5d0-e0b0-4857-8332-9112fa60175a",
   "metadata": {},
   "outputs": [
    {
     "data": {
      "text/plain": [
       "({2, 3, 4, 5}, {1, 2, 3})"
      ]
     },
     "execution_count": 71,
     "metadata": {},
     "output_type": "execute_result"
    }
   ],
   "source": [
    "s1,s2"
   ]
  },
  {
   "cell_type": "code",
   "execution_count": 72,
   "id": "0c334e05",
   "metadata": {},
   "outputs": [
    {
     "data": {
      "text/plain": [
       "{1, 4, 5}"
      ]
     },
     "execution_count": 72,
     "metadata": {},
     "output_type": "execute_result"
    }
   ],
   "source": [
    "s1.symmetric_difference(s2)"
   ]
  },
  {
   "cell_type": "code",
   "execution_count": 73,
   "id": "7e189e3d",
   "metadata": {},
   "outputs": [],
   "source": [
    "s1.discard(2) #remove the value 2"
   ]
  },
  {
   "cell_type": "code",
   "execution_count": 85,
   "id": "f255051c",
   "metadata": {},
   "outputs": [
    {
     "data": {
      "text/plain": [
       "{3, 4, 5}"
      ]
     },
     "execution_count": 85,
     "metadata": {},
     "output_type": "execute_result"
    }
   ],
   "source": [
    "s1"
   ]
  },
  {
   "cell_type": "code",
   "execution_count": 86,
   "id": "4ddc4b19",
   "metadata": {},
   "outputs": [
    {
     "data": {
      "text/plain": [
       "{3, 4, 5}"
      ]
     },
     "execution_count": 86,
     "metadata": {},
     "output_type": "execute_result"
    }
   ],
   "source": [
    "s1.copy()"
   ]
  },
  {
   "cell_type": "code",
   "execution_count": 87,
   "id": "d72b83cb",
   "metadata": {},
   "outputs": [
    {
     "data": {
      "text/plain": [
       "{'4'}"
      ]
     },
     "execution_count": 87,
     "metadata": {},
     "output_type": "execute_result"
    }
   ],
   "source": [
    "s.copy()"
   ]
  },
  {
   "cell_type": "code",
   "execution_count": 83,
   "id": "708f9157-f122-49a1-a72c-ed5bfacfc0af",
   "metadata": {},
   "outputs": [
    {
     "data": {
      "text/plain": [
       "{'4'}"
      ]
     },
     "execution_count": 83,
     "metadata": {},
     "output_type": "execute_result"
    }
   ],
   "source": [
    "s"
   ]
  },
  {
   "cell_type": "code",
   "execution_count": 89,
   "id": "3a6343b7",
   "metadata": {},
   "outputs": [],
   "source": [
    "my_dict = {1:'Java',2:'Python',3:'C++'}"
   ]
  },
  {
   "cell_type": "markdown",
   "id": "aad34521",
   "metadata": {},
   "source": [
    "||||\n",
    "|-|-|-|\n",
    "|List|Tuple|Set|\n",
    "|Mutable|Imutable|Mutable|\n",
    "|Ordered collection of items|Ordered collection of items|UnOrdered collection of items|\n"
   ]
  },
  {
   "cell_type": "markdown",
   "id": "79295d98",
   "metadata": {},
   "source": [
    "### 5.2.4. Dictionary"
   ]
  },
  {
   "cell_type": "code",
   "execution_count": 94,
   "id": "424025f9-0c0c-4bb5-9564-dce158b9a973",
   "metadata": {},
   "outputs": [],
   "source": [
    "#Different to the set the dictionary is combinations of keys and values"
   ]
  },
  {
   "cell_type": "code",
   "execution_count": 116,
   "id": "a3993aa6",
   "metadata": {},
   "outputs": [],
   "source": [
    "my_dict = {} # syntax: {key1:valu1, key2:value2}"
   ]
  },
  {
   "cell_type": "code",
   "execution_count": 95,
   "id": "0400c280",
   "metadata": {},
   "outputs": [],
   "source": [
    "my_dict1 = {1:'java', 2:'python',3:'C'}"
   ]
  },
  {
   "cell_type": "code",
   "execution_count": 96,
   "id": "563614f2",
   "metadata": {},
   "outputs": [
    {
     "data": {
      "text/plain": [
       "{1: 'java', 2: 'python', 3: 'C'}"
      ]
     },
     "execution_count": 96,
     "metadata": {},
     "output_type": "execute_result"
    }
   ],
   "source": [
    "my_dict1"
   ]
  },
  {
   "cell_type": "code",
   "execution_count": 104,
   "id": "01a971a2",
   "metadata": {},
   "outputs": [
    {
     "data": {
      "text/plain": [
       "{1: 'C', 2: 'python', 3: 'C', 'C++': 'C'}"
      ]
     },
     "execution_count": 104,
     "metadata": {},
     "output_type": "execute_result"
    }
   ],
   "source": [
    "my_dict1['C++'] = 'C'\n",
    "my_dict1"
   ]
  },
  {
   "cell_type": "code",
   "execution_count": 105,
   "id": "3480a764",
   "metadata": {},
   "outputs": [
    {
     "data": {
      "text/plain": [
       "{1: 'C', 2: 'python', 3: 'C', 'C++': 'C'}"
      ]
     },
     "execution_count": 105,
     "metadata": {},
     "output_type": "execute_result"
    }
   ],
   "source": [
    "my_dict1[1] = 'C' #Because the dictionary always take the newest key and value (same key)\n",
    "my_dict1"
   ]
  },
  {
   "cell_type": "code",
   "execution_count": 106,
   "id": "1876e5a5",
   "metadata": {},
   "outputs": [
    {
     "ename": "NameError",
     "evalue": "name 'my_dict' is not defined",
     "output_type": "error",
     "traceback": [
      "\u001b[0;31m---------------------------------------------------------------------------\u001b[0m",
      "\u001b[0;31mNameError\u001b[0m                                 Traceback (most recent call last)",
      "\u001b[0;32m<ipython-input-106-d3033b036179>\u001b[0m in \u001b[0;36m<module>\u001b[0;34m\u001b[0m\n\u001b[0;32m----> 1\u001b[0;31m \u001b[0mmy_dict\u001b[0m\u001b[0;34m.\u001b[0m\u001b[0msetdefault\u001b[0m\u001b[0;34m(\u001b[0m\u001b[0;36m1\u001b[0m\u001b[0;34m)\u001b[0m\u001b[0;34m\u001b[0m\u001b[0m\n\u001b[0m",
      "\u001b[0;31mNameError\u001b[0m: name 'my_dict' is not defined"
     ]
    }
   ],
   "source": [
    "my_dict.setdefault(1)"
   ]
  },
  {
   "cell_type": "code",
   "execution_count": 107,
   "id": "17952452",
   "metadata": {},
   "outputs": [
    {
     "ename": "NameError",
     "evalue": "name 'my_dict' is not defined",
     "output_type": "error",
     "traceback": [
      "\u001b[0;31m---------------------------------------------------------------------------\u001b[0m",
      "\u001b[0;31mNameError\u001b[0m                                 Traceback (most recent call last)",
      "\u001b[0;32m<ipython-input-107-03bcff26c19b>\u001b[0m in \u001b[0;36m<module>\u001b[0;34m\u001b[0m\n\u001b[0;32m----> 1\u001b[0;31m \u001b[0mmy_dict\u001b[0m\u001b[0;34m.\u001b[0m\u001b[0mitems\u001b[0m\u001b[0;34m\u001b[0m\u001b[0m\n\u001b[0m",
      "\u001b[0;31mNameError\u001b[0m: name 'my_dict' is not defined"
     ]
    }
   ],
   "source": [
    "my_dict.items"
   ]
  },
  {
   "cell_type": "code",
   "execution_count": 108,
   "id": "534a0521-4bf4-42a9-8b99-0f1db47e9bd8",
   "metadata": {},
   "outputs": [
    {
     "data": {
      "text/plain": [
       "['clear',\n",
       " 'copy',\n",
       " 'fromkeys',\n",
       " 'get',\n",
       " 'items',\n",
       " 'keys',\n",
       " 'pop',\n",
       " 'popitem',\n",
       " 'setdefault',\n",
       " 'update',\n",
       " 'values']"
      ]
     },
     "execution_count": 108,
     "metadata": {},
     "output_type": "execute_result"
    }
   ],
   "source": [
    "[all for all in dir(my_dict1) if not all.startswith('_')]"
   ]
  },
  {
   "cell_type": "code",
   "execution_count": null,
   "id": "57c12e14-93d7-4eda-b9a9-f290dd38c808",
   "metadata": {},
   "outputs": [],
   "source": []
  }
 ],
 "metadata": {
  "kernelspec": {
   "display_name": "Python 3",
   "language": "python",
   "name": "python3"
  },
  "language_info": {
   "codemirror_mode": {
    "name": "ipython",
    "version": 3
   },
   "file_extension": ".py",
   "mimetype": "text/x-python",
   "name": "python",
   "nbconvert_exporter": "python",
   "pygments_lexer": "ipython3",
   "version": "3.7.0"
  }
 },
 "nbformat": 4,
 "nbformat_minor": 5
}
