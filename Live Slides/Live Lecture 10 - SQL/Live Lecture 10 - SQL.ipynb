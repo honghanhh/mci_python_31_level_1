{
 "cells": [
  {
   "cell_type": "markdown",
   "id": "1c9c0c2e-b312-44aa-87c2-b02d9131da11",
   "metadata": {},
   "source": [
    "# <center> LESSON 10*: CONNECT PANDAS WITH SQL </center>"
   ]
  },
  {
   "cell_type": "code",
   "execution_count": 1,
   "id": "f2b29f06-f126-4c16-aaa3-4a4b5c09ac83",
   "metadata": {},
   "outputs": [
    {
     "name": "stdout",
     "output_type": "stream",
     "text": [
      "Requirement already satisfied: sqlalchemy in d:\\anaconda\\lib\\site-packages (1.4.7)\n",
      "Requirement already satisfied: greenlet!=0.4.17 in d:\\anaconda\\lib\\site-packages (from sqlalchemy) (1.0.0)\n"
     ]
    }
   ],
   "source": [
    "!pip install sqlalchemy"
   ]
  },
  {
   "cell_type": "code",
   "execution_count": 2,
   "id": "2812dc68-984a-46ce-b8d5-195be7a115ca",
   "metadata": {},
   "outputs": [
    {
     "name": "stdout",
     "output_type": "stream",
     "text": [
      "Requirement already satisfied: sqlalchemy in d:\\anaconda\\lib\\site-packages (1.4.7)\n",
      "Requirement already satisfied: greenlet!=0.4.17 in d:\\anaconda\\lib\\site-packages (from sqlalchemy) (1.0.0)\n"
     ]
    }
   ],
   "source": [
    "!pip install sqlalchemy"
   ]
  },
  {
   "cell_type": "code",
   "execution_count": 3,
   "id": "61cfe60b-f410-430b-aae7-10a719f759ee",
   "metadata": {},
   "outputs": [],
   "source": [
    "import sqlalchemy\n"
   ]
  },
  {
   "cell_type": "code",
   "execution_count": 4,
   "id": "0d5cd611-d730-46e1-ad72-a9b1e0bb870d",
   "metadata": {},
   "outputs": [
    {
     "name": "stdout",
     "output_type": "stream",
     "text": [
      "Collecting mysql\n",
      "  Downloading mysql-0.0.3-py3-none-any.whl (1.2 kB)\n",
      "Collecting mysqlclient\n",
      "  Downloading mysqlclient-2.0.3-cp38-cp38-win_amd64.whl (179 kB)\n",
      "Installing collected packages: mysqlclient, mysql\n",
      "Successfully installed mysql-0.0.3 mysqlclient-2.0.3\n"
     ]
    }
   ],
   "source": [
    "!pip install mysql"
   ]
  },
  {
   "cell_type": "code",
   "execution_count": null,
   "id": "1f0072a8-7a16-4dfd-8baf-1edbf3c0b863",
   "metadata": {},
   "outputs": [],
   "source": [
    "import mysql."
   ]
  },
  {
   "cell_type": "code",
   "execution_count": 5,
   "id": "29741045-ae55-4ae7-af27-32135bb38886",
   "metadata": {},
   "outputs": [],
   "source": [
    "import pandas as pd\n",
    "import numpy as np"
   ]
  },
  {
   "cell_type": "code",
   "execution_count": null,
   "id": "3bc15483-e46f-4fca-a30b-a1f0005ae223",
   "metadata": {},
   "outputs": [],
   "source": [
    "sql = 'SELECT * FROM ACCOUNT;'\n",
    "account = pd.read_sql(sql,connection)"
   ]
  },
  {
   "cell_type": "code",
   "execution_count": null,
   "id": "6b1ea2d7-f410-4e4d-ab89-0e2781bbe68e",
   "metadata": {},
   "outputs": [],
   "source": [
    "account.head(2)"
   ]
  },
  {
   "cell_type": "code",
   "execution_count": null,
   "id": "dcde52c4-0079-42be-aa2f-172d01d3bdd3",
   "metadata": {},
   "outputs": [],
   "source": [
    "sql = 'SELECT * FROM ACCOUNT LIMIT 2;'\n",
    "account = pd.read_sql(sql.connection)"
   ]
  }
 ],
 "metadata": {
  "kernelspec": {
   "display_name": "Python 3",
   "language": "python",
   "name": "python3"
  },
  "language_info": {
   "codemirror_mode": {
    "name": "ipython",
    "version": 3
   },
   "file_extension": ".py",
   "mimetype": "text/x-python",
   "name": "python",
   "nbconvert_exporter": "python",
   "pygments_lexer": "ipython3",
   "version": "3.8.8"
  }
 },
 "nbformat": 4,
 "nbformat_minor": 5
}
