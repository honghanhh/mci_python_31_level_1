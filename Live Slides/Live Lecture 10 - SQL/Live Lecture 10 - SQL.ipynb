{
 "cells": [
  {
   "cell_type": "markdown",
   "id": "1c9c0c2e-b312-44aa-87c2-b02d9131da11",
   "metadata": {},
   "source": [
    "# <center> LESSON 10*: CONNECT PANDAS WITH SQL </center>"
   ]
  },
  {
   "cell_type": "markdown",
   "id": "5d2a5100-5b75-43ec-92bb-bbca1c6f4f16",
   "metadata": {},
   "source": [
    "- Step 1: Install [SQLServer](https://dev.mysql.com/downloads/file/?id=506504) and [MySQL Workbench](https://dev.mysql.com/downloads/workbench/)\n",
    "- Step 2: Open MySQL Workbench\n",
    "    - Create new database: Righ click in schema region and click `Create a schema` and fill the schema name `BANKING`\n",
    "    - Write in query: `USE BANKING;` \n",
    "    - Load scripts:"
   ]
  },
  {
   "cell_type": "markdown",
   "id": "dc5d8dd6-7233-48c2-acec-60dca272bc3e",
   "metadata": {},
   "source": [
    "`EER Diagram`, `primary key`,`foreign key`"
   ]
  },
  {
   "cell_type": "markdown",
   "id": "f2399fdc-5966-4abd-a45c-4957a292d4a9",
   "metadata": {},
   "source": [
    "MSSQL Server - sqlalchemy\n",
    "`!pip install sqlalchemy`\n",
    "`import sqlachemy as sa\n",
    "connection = sa.create_engine('mssql://user-name/banking?trusted-connection=yes?')`"
   ]
  },
  {
   "cell_type": "code",
   "execution_count": 2,
   "id": "6718519a-aaa7-407f-a3eb-46ccb27a6d3d",
   "metadata": {},
   "outputs": [
    {
     "name": "stdout",
     "output_type": "stream",
     "text": [
      "Requirement already satisfied: mysql-connector-python in /Users/hanhtran/miniconda3/envs/hanh/lib/python3.7/site-packages (8.0.25)\n",
      "Requirement already satisfied: protobuf>=3.0.0 in /Users/hanhtran/miniconda3/envs/hanh/lib/python3.7/site-packages (from mysql-connector-python) (3.17.3)\n",
      "Requirement already satisfied: six>=1.9 in /Users/hanhtran/miniconda3/envs/hanh/lib/python3.7/site-packages (from protobuf>=3.0.0->mysql-connector-python) (1.15.0)\n"
     ]
    }
   ],
   "source": [
    "!pip install mysql-connector-python"
   ]
  },
  {
   "cell_type": "code",
   "execution_count": 3,
   "id": "15b94ab0-8455-49f8-a4d4-ffaa6a8f1a78",
   "metadata": {},
   "outputs": [],
   "source": [
    "import mysql.connector #MySQL "
   ]
  },
  {
   "cell_type": "code",
   "execution_count": 5,
   "id": "fb67cad1-3803-42d2-a87c-0429a1907d82",
   "metadata": {},
   "outputs": [],
   "source": [
    "connection = mysql.connector.connect(\n",
    "    host ='localhost',\n",
    "    user = 'root', #root-admin\n",
    "    password = '@Mci1234',\n",
    "    database = 'banking'\n",
    ") #create a connection between python and database - banking"
   ]
  },
  {
   "cell_type": "code",
   "execution_count": 6,
   "id": "dbe64459-1c34-49ef-842f-f1167ef1d5be",
   "metadata": {},
   "outputs": [],
   "source": [
    "import pandas as pd\n",
    "import numpy as np"
   ]
  },
  {
   "cell_type": "code",
   "execution_count": 7,
   "id": "5a21ee73-2ec7-4029-a500-f598a0b19096",
   "metadata": {},
   "outputs": [],
   "source": [
    "sql = 'SELECT * FROM ACCOUNT;'\n",
    "account = pd.read_sql(sql,connection)"
   ]
  },
  {
   "cell_type": "code",
   "execution_count": 9,
   "id": "a3bc5d53-467e-4f40-903d-e094fc2b64fd",
   "metadata": {},
   "outputs": [
    {
     "data": {
      "text/html": [
       "<div>\n",
       "<style scoped>\n",
       "    .dataframe tbody tr th:only-of-type {\n",
       "        vertical-align: middle;\n",
       "    }\n",
       "\n",
       "    .dataframe tbody tr th {\n",
       "        vertical-align: top;\n",
       "    }\n",
       "\n",
       "    .dataframe thead th {\n",
       "        text-align: right;\n",
       "    }\n",
       "</style>\n",
       "<table border=\"1\" class=\"dataframe\">\n",
       "  <thead>\n",
       "    <tr style=\"text-align: right;\">\n",
       "      <th></th>\n",
       "      <th>ACCOUNT_ID</th>\n",
       "      <th>AVAIL_BALANCE</th>\n",
       "      <th>CLOSE_DATE</th>\n",
       "      <th>LAST_ACTIVITY_DATE</th>\n",
       "      <th>OPEN_DATE</th>\n",
       "      <th>PENDING_BALANCE</th>\n",
       "      <th>STATUS</th>\n",
       "      <th>CUST_ID</th>\n",
       "      <th>OPEN_BRANCH_ID</th>\n",
       "      <th>OPEN_EMP_ID</th>\n",
       "      <th>PRODUCT_CD</th>\n",
       "    </tr>\n",
       "  </thead>\n",
       "  <tbody>\n",
       "    <tr>\n",
       "      <th>0</th>\n",
       "      <td>1</td>\n",
       "      <td>1057.75</td>\n",
       "      <td>None</td>\n",
       "      <td>2005-01-04</td>\n",
       "      <td>2000-01-15</td>\n",
       "      <td>1057.75</td>\n",
       "      <td>ACTIVE</td>\n",
       "      <td>1</td>\n",
       "      <td>2</td>\n",
       "      <td>10</td>\n",
       "      <td>CHK</td>\n",
       "    </tr>\n",
       "    <tr>\n",
       "      <th>1</th>\n",
       "      <td>2</td>\n",
       "      <td>500.00</td>\n",
       "      <td>None</td>\n",
       "      <td>2004-12-19</td>\n",
       "      <td>2000-01-15</td>\n",
       "      <td>500.00</td>\n",
       "      <td>ACTIVE</td>\n",
       "      <td>1</td>\n",
       "      <td>2</td>\n",
       "      <td>10</td>\n",
       "      <td>SAV</td>\n",
       "    </tr>\n",
       "  </tbody>\n",
       "</table>\n",
       "</div>"
      ],
      "text/plain": [
       "   ACCOUNT_ID  AVAIL_BALANCE CLOSE_DATE LAST_ACTIVITY_DATE   OPEN_DATE  \\\n",
       "0           1        1057.75       None         2005-01-04  2000-01-15   \n",
       "1           2         500.00       None         2004-12-19  2000-01-15   \n",
       "\n",
       "   PENDING_BALANCE  STATUS  CUST_ID  OPEN_BRANCH_ID  OPEN_EMP_ID PRODUCT_CD  \n",
       "0          1057.75  ACTIVE        1               2           10        CHK  \n",
       "1           500.00  ACTIVE        1               2           10        SAV  "
      ]
     },
     "execution_count": 9,
     "metadata": {},
     "output_type": "execute_result"
    }
   ],
   "source": [
    "account.head(2)"
   ]
  },
  {
   "cell_type": "code",
   "execution_count": 10,
   "id": "66d575ab-9b56-4356-9342-2dfd2006d442",
   "metadata": {},
   "outputs": [
    {
     "data": {
      "text/html": [
       "<div>\n",
       "<style scoped>\n",
       "    .dataframe tbody tr th:only-of-type {\n",
       "        vertical-align: middle;\n",
       "    }\n",
       "\n",
       "    .dataframe tbody tr th {\n",
       "        vertical-align: top;\n",
       "    }\n",
       "\n",
       "    .dataframe thead th {\n",
       "        text-align: right;\n",
       "    }\n",
       "</style>\n",
       "<table border=\"1\" class=\"dataframe\">\n",
       "  <thead>\n",
       "    <tr style=\"text-align: right;\">\n",
       "      <th></th>\n",
       "      <th>ACCOUNT_ID</th>\n",
       "      <th>AVAIL_BALANCE</th>\n",
       "      <th>CLOSE_DATE</th>\n",
       "      <th>LAST_ACTIVITY_DATE</th>\n",
       "      <th>OPEN_DATE</th>\n",
       "      <th>PENDING_BALANCE</th>\n",
       "      <th>STATUS</th>\n",
       "      <th>CUST_ID</th>\n",
       "      <th>OPEN_BRANCH_ID</th>\n",
       "      <th>OPEN_EMP_ID</th>\n",
       "      <th>PRODUCT_CD</th>\n",
       "    </tr>\n",
       "  </thead>\n",
       "  <tbody>\n",
       "    <tr>\n",
       "      <th>0</th>\n",
       "      <td>1</td>\n",
       "      <td>1057.75</td>\n",
       "      <td>None</td>\n",
       "      <td>2005-01-04</td>\n",
       "      <td>2000-01-15</td>\n",
       "      <td>1057.75</td>\n",
       "      <td>ACTIVE</td>\n",
       "      <td>1</td>\n",
       "      <td>2</td>\n",
       "      <td>10</td>\n",
       "      <td>CHK</td>\n",
       "    </tr>\n",
       "    <tr>\n",
       "      <th>1</th>\n",
       "      <td>2</td>\n",
       "      <td>500.00</td>\n",
       "      <td>None</td>\n",
       "      <td>2004-12-19</td>\n",
       "      <td>2000-01-15</td>\n",
       "      <td>500.00</td>\n",
       "      <td>ACTIVE</td>\n",
       "      <td>1</td>\n",
       "      <td>2</td>\n",
       "      <td>10</td>\n",
       "      <td>SAV</td>\n",
       "    </tr>\n",
       "  </tbody>\n",
       "</table>\n",
       "</div>"
      ],
      "text/plain": [
       "   ACCOUNT_ID  AVAIL_BALANCE CLOSE_DATE LAST_ACTIVITY_DATE   OPEN_DATE  \\\n",
       "0           1        1057.75       None         2005-01-04  2000-01-15   \n",
       "1           2         500.00       None         2004-12-19  2000-01-15   \n",
       "\n",
       "   PENDING_BALANCE  STATUS  CUST_ID  OPEN_BRANCH_ID  OPEN_EMP_ID PRODUCT_CD  \n",
       "0          1057.75  ACTIVE        1               2           10        CHK  \n",
       "1           500.00  ACTIVE        1               2           10        SAV  "
      ]
     },
     "execution_count": 10,
     "metadata": {},
     "output_type": "execute_result"
    }
   ],
   "source": [
    "sql = 'SELECT * FROM ACCOUNT LIMIT 2;'\n",
    "account = pd.read_sql(sql,connection)\n",
    "account"
   ]
  },
  {
   "cell_type": "code",
   "execution_count": null,
   "id": "194bbe00-89b6-495e-adda-5080fafa3881",
   "metadata": {},
   "outputs": [],
   "source": []
  }
 ],
 "metadata": {
  "kernelspec": {
   "display_name": "Python 3",
   "language": "python",
   "name": "python3"
  },
  "language_info": {
   "codemirror_mode": {
    "name": "ipython",
    "version": 3
   },
   "file_extension": ".py",
   "mimetype": "text/x-python",
   "name": "python",
   "nbconvert_exporter": "python",
   "pygments_lexer": "ipython3",
   "version": "3.7.10"
  }
 },
 "nbformat": 4,
 "nbformat_minor": 5
}
