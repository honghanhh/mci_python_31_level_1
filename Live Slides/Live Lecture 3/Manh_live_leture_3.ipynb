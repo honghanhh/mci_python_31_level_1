{
 "cells": [
  {
   "cell_type": "markdown",
   "id": "28d1075c-de29-4e78-bd75-f794ba4e4089",
   "metadata": {},
   "source": [
    "## Lesson 3"
   ]
  },
  {
   "cell_type": "markdown",
   "id": "4d2e9d4d-2d20-413d-86a5-449b8e70e0d5",
   "metadata": {},
   "source": [
    "## Programming Flow"
   ]
  },
  {
   "cell_type": "markdown",
   "id": "cb798441-fe4c-4360-b188-a7d97eec8453",
   "metadata": {},
   "source": [
    "- Sequenial\n",
    "- Loop : for, while\n",
    "- Condition : If elif else\n",
    "- Function"
   ]
  },
  {
   "cell_type": "markdown",
   "id": "8738be05-9e98-49be-a72d-59794e1e5cfa",
   "metadata": {},
   "source": [
    "### 1. Sequential"
   ]
  },
  {
   "cell_type": "code",
   "execution_count": 139,
   "id": "c2d09bec-7cfc-4a6a-8ee7-d723d4c49c99",
   "metadata": {},
   "outputs": [
    {
     "name": "stdout",
     "output_type": "stream",
     "text": [
      "every one\n",
      "1\n"
     ]
    }
   ],
   "source": [
    "print('every one')\n",
    "print('1')"
   ]
  },
  {
   "cell_type": "markdown",
   "id": "52672c04-241d-4509-9722-a91aa0218890",
   "metadata": {},
   "source": [
    "### 2. Loop"
   ]
  },
  {
   "cell_type": "markdown",
   "id": "72a932f2-ce1b-4c30-9005-ee991fdc375c",
   "metadata": {},
   "source": [
    "- Intertion: \n",
    "- For\n",
    "- While"
   ]
  },
  {
   "cell_type": "markdown",
   "id": "3d6173b9-7bc1-4f98-beb9-c4421b49570e",
   "metadata": {},
   "source": [
    "#### 2.1 For"
   ]
  },
  {
   "cell_type": "markdown",
   "id": "5266f7eb-12d9-44ec-a2cc-bbc51f2494cd",
   "metadata": {},
   "source": [
    "\n",
    "for value interable:\n",
    "bussiness logic\n"
   ]
  },
  {
   "cell_type": "markdown",
   "id": "a3cbfe6f-e0f6-47eb-8adc-d6bc83dc1dbb",
   "metadata": {},
   "source": [
    "'''\n",
    "for index in range(len(interable)):\n",
    "    bussiness logic\n",
    "'''"
   ]
  },
  {
   "cell_type": "code",
   "execution_count": 9,
   "id": "cac40307-b590-4152-a035-8cd76e7652ca",
   "metadata": {},
   "outputs": [
    {
     "data": {
      "text/plain": [
       "[0, 1, 2, 3, 4, 5, 6, 7, 8, 9]"
      ]
     },
     "execution_count": 9,
     "metadata": {},
     "output_type": "execute_result"
    }
   ],
   "source": [
    "list(range(10))"
   ]
  },
  {
   "cell_type": "code",
   "execution_count": 10,
   "id": "81038c4a-9404-4f2f-8b85-3f6d798c1b60",
   "metadata": {},
   "outputs": [
    {
     "data": {
      "text/plain": [
       "[2, 7, 12, 17, 22, 27, 32, 37, 42, 47, 52, 57, 62, 67, 72, 77, 82, 87, 92, 97]"
      ]
     },
     "execution_count": 10,
     "metadata": {},
     "output_type": "execute_result"
    }
   ],
   "source": [
    "list(range(2,100,5))"
   ]
  },
  {
   "cell_type": "code",
   "execution_count": 21,
   "id": "409149e9-df39-47ea-9c3c-ffd9153c19f8",
   "metadata": {},
   "outputs": [
    {
     "data": {
      "text/plain": [
       "8"
      ]
     },
     "execution_count": 21,
     "metadata": {},
     "output_type": "execute_result"
    }
   ],
   "source": [
    "len(range(2,10))"
   ]
  },
  {
   "cell_type": "markdown",
   "id": "53a2d268-de61-4d74-bbf2-09869757d80f",
   "metadata": {},
   "source": [
    "##### Casting"
   ]
  },
  {
   "cell_type": "code",
   "execution_count": 17,
   "id": "635e28a7-a897-4816-9c81-8903196c58a2",
   "metadata": {},
   "outputs": [],
   "source": [
    "a = '1'"
   ]
  },
  {
   "cell_type": "code",
   "execution_count": 12,
   "id": "a9d0f640-af6c-4a73-8301-83dab674d5e4",
   "metadata": {},
   "outputs": [
    {
     "data": {
      "text/plain": [
       "str"
      ]
     },
     "execution_count": 12,
     "metadata": {},
     "output_type": "execute_result"
    }
   ],
   "source": [
    "type(a)"
   ]
  },
  {
   "cell_type": "code",
   "execution_count": 18,
   "id": "7958e555-92f3-4b94-8c87-31afc90e341e",
   "metadata": {},
   "outputs": [
    {
     "data": {
      "text/plain": [
       "'11'"
      ]
     },
     "execution_count": 18,
     "metadata": {},
     "output_type": "execute_result"
    }
   ],
   "source": [
    "a*2"
   ]
  },
  {
   "cell_type": "code",
   "execution_count": 19,
   "id": "babbb150-9dcc-49e5-9a11-2c40950fe633",
   "metadata": {},
   "outputs": [
    {
     "data": {
      "text/plain": [
       "'1'"
      ]
     },
     "execution_count": 19,
     "metadata": {},
     "output_type": "execute_result"
    }
   ],
   "source": [
    "a"
   ]
  },
  {
   "cell_type": "markdown",
   "id": "99f8cc89-305b-47b7-91d6-4092ce8262df",
   "metadata": {},
   "source": [
    "- int()\n",
    "- float()\n",
    "- str()"
   ]
  },
  {
   "cell_type": "markdown",
   "id": "43c641c7-0bc7-4fef-a906-fd602513c696",
   "metadata": {},
   "source": [
    "Vidu: Cho 1 danh sach tu 0 den 10 , tra lai 1 danh sach moi binh phuong tung phan tu trong danh sach cu"
   ]
  },
  {
   "cell_type": "code",
   "execution_count": 28,
   "id": "66ce2cb9-0fb2-4a62-ad8e-ed96d8df6e65",
   "metadata": {},
   "outputs": [
    {
     "data": {
      "text/plain": [
       "[0, 1, 2, 3, 4, 5, 6, 7, 8, 9, 10]"
      ]
     },
     "execution_count": 28,
     "metadata": {},
     "output_type": "execute_result"
    }
   ],
   "source": [
    "li = list(range(11))\n",
    "li"
   ]
  },
  {
   "cell_type": "code",
   "execution_count": 30,
   "id": "c816bf4f-fc61-479c-b50a-d5d05cdb8cb4",
   "metadata": {},
   "outputs": [],
   "source": [
    "li1 =[]\n",
    "for val in li:\n",
    "    # print(val,val**2)\n",
    "    li1.append(val**2)"
   ]
  },
  {
   "cell_type": "code",
   "execution_count": 31,
   "id": "3887b6ec-d83d-4335-a5f7-76c9ada72410",
   "metadata": {},
   "outputs": [
    {
     "data": {
      "text/plain": [
       "[0, 1, 4, 9, 16, 25, 36, 49, 64, 81, 100]"
      ]
     },
     "execution_count": 31,
     "metadata": {},
     "output_type": "execute_result"
    }
   ],
   "source": [
    "li1"
   ]
  },
  {
   "cell_type": "code",
   "execution_count": 32,
   "id": "8c544cfb-8adb-4142-b626-2ba6e7eeb34c",
   "metadata": {},
   "outputs": [],
   "source": [
    "li2 = []\n",
    "for idx in range(len(li1)):\n",
    "    li2.append(li[idx]**2)"
   ]
  },
  {
   "cell_type": "code",
   "execution_count": 34,
   "id": "2d9d4667-fcce-4a99-86c0-a42be0e27729",
   "metadata": {},
   "outputs": [
    {
     "data": {
      "text/plain": [
       "11"
      ]
     },
     "execution_count": 34,
     "metadata": {},
     "output_type": "execute_result"
    }
   ],
   "source": [
    "len(li1)"
   ]
  },
  {
   "cell_type": "markdown",
   "id": "e581b693-c97d-4a75-81b4-88ff4889deae",
   "metadata": {},
   "source": [
    "vi du 2: Tinh giai thua"
   ]
  },
  {
   "cell_type": "code",
   "execution_count": 79,
   "id": "b46d5276-5f28-451e-9e21-201b2e3561f5",
   "metadata": {},
   "outputs": [
    {
     "name": "stdin",
     "output_type": "stream",
     "text": [
      "Nhập số nguyên dương n =  8\n"
     ]
    },
    {
     "name": "stdout",
     "output_type": "stream",
     "text": [
      "Giai thừa của 8 là 40320\n"
     ]
    }
   ],
   "source": [
    "def tinhgiaithua(n):\n",
    "    giai_thua = 1;\n",
    "    if (n == 0 or n == 1):\n",
    "        return giai_thua;\n",
    "    else:\n",
    "        for i in range(2, n + 1):\n",
    "            giai_thua = giai_thua * i;\n",
    "        return giai_thua;\n",
    " \n",
    "n = int(input(\"Nhập số nguyên dương n = \"));\n",
    "print(\"Giai thừa của\", n, \"là\", tinhgiaithua(n));\n"
   ]
  },
  {
   "cell_type": "markdown",
   "id": "66ac31d6-f2c1-4a7e-836b-6fa9a03ec579",
   "metadata": {},
   "source": [
    "#### 2.2 While"
   ]
  },
  {
   "cell_type": "code",
   "execution_count": 20,
   "id": "42cb33e0-d68f-4d33-b59a-cc4b387d73d3",
   "metadata": {},
   "outputs": [
    {
     "name": "stdout",
     "output_type": "stream",
     "text": [
      "while condition(True/False):\n",
      "    bussiness logic\n"
     ]
    }
   ],
   "source": [
    "print('''while condition(True/False):\n",
    "    bussiness logic''')"
   ]
  },
  {
   "cell_type": "code",
   "execution_count": 65,
   "id": "50b038bc-15e5-4679-b9d3-5abdc4e5786c",
   "metadata": {},
   "outputs": [],
   "source": [
    "a =4\n",
    "i = 0"
   ]
  },
  {
   "cell_type": "code",
   "execution_count": 66,
   "id": "e79e7e0c-5104-41f6-a384-202beaa712a1",
   "metadata": {},
   "outputs": [],
   "source": [
    "a,i = 4,0"
   ]
  },
  {
   "cell_type": "code",
   "execution_count": 67,
   "id": "0e05bc4b-fb10-4a8b-a2c6-b901dd8a6348",
   "metadata": {},
   "outputs": [
    {
     "name": "stdout",
     "output_type": "stream",
     "text": [
      "hello 0\n",
      "hello 1\n",
      "hello 2\n",
      "hello 3\n"
     ]
    }
   ],
   "source": [
    "while i<a:\n",
    "    print(f\"hello {i}\")\n",
    "    i += 1"
   ]
  },
  {
   "cell_type": "markdown",
   "id": "9cf228b8-4a48-4986-b5c8-3d31647dc7d6",
   "metadata": {},
   "source": [
    "##### String format"
   ]
  },
  {
   "cell_type": "code",
   "execution_count": 68,
   "id": "1314c326-17bf-4d39-84af-6efffd9f6744",
   "metadata": {},
   "outputs": [],
   "source": [
    "a = 'MCI'\n",
    "b = 'Lesson 3'"
   ]
  },
  {
   "cell_type": "code",
   "execution_count": 69,
   "id": "0f314532-db0f-49d7-aab6-e12b04520e50",
   "metadata": {},
   "outputs": [
    {
     "name": "stdout",
     "output_type": "stream",
     "text": [
      "Hello MCI lesson 3\n"
     ]
    }
   ],
   "source": [
    "print('Hello MCI lesson 3')"
   ]
  },
  {
   "cell_type": "code",
   "execution_count": 71,
   "id": "c4d77656-c412-411b-8861-29c0245351ac",
   "metadata": {},
   "outputs": [],
   "source": [
    "a = ' unicon'"
   ]
  },
  {
   "cell_type": "code",
   "execution_count": 72,
   "id": "028c6e88-bef2-45c8-b9f8-330810ff1619",
   "metadata": {},
   "outputs": [
    {
     "name": "stdout",
     "output_type": "stream",
     "text": [
      "hello{}  unicon\n"
     ]
    }
   ],
   "source": [
    "print('hello{}',format(a))"
   ]
  },
  {
   "cell_type": "code",
   "execution_count": 74,
   "id": "a6106f7c-a4b0-4ebb-bf16-1858b44314b9",
   "metadata": {},
   "outputs": [
    {
     "name": "stdout",
     "output_type": "stream",
     "text": [
      "hello  unicon\n"
     ]
    }
   ],
   "source": [
    "print(f'hello {a}')"
   ]
  },
  {
   "cell_type": "code",
   "execution_count": 75,
   "id": "cc451906-9336-43f1-a098-f1cee6aefc64",
   "metadata": {},
   "outputs": [
    {
     "name": "stdout",
     "output_type": "stream",
     "text": [
      "hello  unicon\n"
     ]
    }
   ],
   "source": [
    "print(\"hello %s\"%(a))"
   ]
  },
  {
   "cell_type": "markdown",
   "id": "0d25527a-a4ed-4f33-998b-3ad26930af16",
   "metadata": {},
   "source": [
    "Vi du 2.1 . Tinh giai thua bang while"
   ]
  },
  {
   "cell_type": "code",
   "execution_count": 95,
   "id": "8b96fb8f-555f-4649-a804-cc978da027fe",
   "metadata": {},
   "outputs": [
    {
     "name": "stdout",
     "output_type": "stream",
     "text": [
      "40320\n"
     ]
    }
   ],
   "source": [
    "fac = 1\n",
    "i = 1\n",
    "while i  < n+1 :\n",
    "    fac *= i\n",
    "    i +=1\n",
    "print(fac)"
   ]
  },
  {
   "cell_type": "markdown",
   "id": "02e1b8fe-41ea-4d7d-a1f5-61ebb15675c7",
   "metadata": {},
   "source": [
    "#### 3.Condition"
   ]
  },
  {
   "cell_type": "code",
   "execution_count": 96,
   "id": "7a702aeb-8e57-435c-8269-772256607f6a",
   "metadata": {},
   "outputs": [
    {
     "name": "stdout",
     "output_type": "stream",
     "text": [
      "\n",
      "if condition(True/False):\n",
      "    bussiness logic\n",
      "elif condition(True/False):\n",
      "    bussiness logic\n",
      "elif condition(True/False):\n",
      "    bussiness logic\n",
      "    ....\n",
      "else \n",
      "    bussiness logic\n"
     ]
    }
   ],
   "source": [
    "print('''\n",
    "if condition(True/False):\n",
    "    bussiness logic\n",
    "elif condition(True/False):\n",
    "    bussiness logic\n",
    "elif condition(True/False):\n",
    "    bussiness logic\n",
    "    ....\n",
    "else \n",
    "    bussiness logic''')"
   ]
  },
  {
   "cell_type": "code",
   "execution_count": 103,
   "id": "a1d34972-31c1-4604-bd96-2a7ec5ac1fdc",
   "metadata": {},
   "outputs": [],
   "source": [
    "x = 5 \n",
    "y = 6"
   ]
  },
  {
   "cell_type": "code",
   "execution_count": 105,
   "id": "02fc38d5-9225-4fe4-9560-e0d322feed9a",
   "metadata": {},
   "outputs": [
    {
     "name": "stdout",
     "output_type": "stream",
     "text": [
      "x nho hon y\n"
     ]
    }
   ],
   "source": [
    "if x<y:\n",
    "    print(\"x nho hon y\")\n",
    "elif x>y:\n",
    "    print(\"x lon hon y\")\n",
    "else:\n",
    "    print(\"x bang y\")"
   ]
  },
  {
   "cell_type": "markdown",
   "id": "e0ca8daa-88c2-402f-bf8f-ae401c2710fb",
   "metadata": {},
   "source": [
    "### 4. Function"
   ]
  },
  {
   "cell_type": "markdown",
   "id": "8f2bffdd-f573-4c17-94b4-87b9149baf52",
   "metadata": {},
   "source": [
    "- Built-in function: len(),rannge()\n",
    "- User-delifined function"
   ]
  },
  {
   "cell_type": "code",
   "execution_count": 107,
   "id": "62acbee7-f245-418c-8102-85cb67168b83",
   "metadata": {},
   "outputs": [
    {
     "name": "stdout",
     "output_type": "stream",
     "text": [
      "def function_name():\n",
      "    bussiness logic\n",
      "    return\n"
     ]
    }
   ],
   "source": [
    "print(\"\"\"def function_name():\n",
    "    bussiness logic\n",
    "    return\"\"\")"
   ]
  },
  {
   "cell_type": "code",
   "execution_count": 115,
   "id": "38c37c34-e68c-442f-af71-59193be5a22e",
   "metadata": {},
   "outputs": [
    {
     "data": {
      "text/plain": [
       "4"
      ]
     },
     "execution_count": 115,
     "metadata": {},
     "output_type": "execute_result"
    }
   ],
   "source": [
    "li = [1,2,3,'manh']\n",
    "len(li)"
   ]
  },
  {
   "cell_type": "markdown",
   "id": "9c1d5795-2e66-4b62-aa18-fd175cfcb38e",
   "metadata": {},
   "source": [
    "viet 1 chuong trinh tra lai do dai chuoi"
   ]
  },
  {
   "cell_type": "code",
   "execution_count": 116,
   "id": "2316bf1d-c4b1-4fa9-b9ff-312ccd9bcbb4",
   "metadata": {},
   "outputs": [],
   "source": [
    "def legth_of_list(li):\n",
    "    dem = 0\n",
    "    for _ in li:\n",
    "        dem+=1\n",
    "    return dem\n"
   ]
  },
  {
   "cell_type": "code",
   "execution_count": 117,
   "id": "79dfa84f-b4db-482a-adde-d1af5f4d966c",
   "metadata": {},
   "outputs": [
    {
     "data": {
      "text/plain": [
       "4"
      ]
     },
     "execution_count": 117,
     "metadata": {},
     "output_type": "execute_result"
    }
   ],
   "source": [
    "legth_of_list(li)"
   ]
  },
  {
   "cell_type": "markdown",
   "id": "a7ad6968-de7d-46ec-a251-56019a618504",
   "metadata": {},
   "source": [
    "** Anonymous Function (no name)"
   ]
  },
  {
   "cell_type": "code",
   "execution_count": 121,
   "id": "6a8eba0a-ddad-4972-8f88-5ee1796dc1ca",
   "metadata": {},
   "outputs": [],
   "source": [
    "def expo1(x):\n",
    "    return x**2"
   ]
  },
  {
   "cell_type": "code",
   "execution_count": 123,
   "id": "1065e11c-f224-4922-acae-30d253a7cd50",
   "metadata": {},
   "outputs": [
    {
     "data": {
      "text/plain": [
       "4"
      ]
     },
     "execution_count": 123,
     "metadata": {},
     "output_type": "execute_result"
    }
   ],
   "source": [
    "expo1(2)"
   ]
  },
  {
   "cell_type": "code",
   "execution_count": 118,
   "id": "1242920e-89e3-4d25-bc00-5c1f2e0b0edb",
   "metadata": {},
   "outputs": [],
   "source": [
    "expo = lambda x : x**2"
   ]
  },
  {
   "cell_type": "code",
   "execution_count": 120,
   "id": "22679f1e-43e5-4894-a46d-631bfd8e16e5",
   "metadata": {},
   "outputs": [
    {
     "data": {
      "text/plain": [
       "100"
      ]
     },
     "execution_count": 120,
     "metadata": {},
     "output_type": "execute_result"
    }
   ],
   "source": [
    "expo(10)"
   ]
  },
  {
   "cell_type": "markdown",
   "id": "d3ee27ae-ef3d-447a-b8c6-70edba70f197",
   "metadata": {},
   "source": [
    "### 5.Comprehension"
   ]
  },
  {
   "cell_type": "code",
   "execution_count": 129,
   "id": "e42d08d1-93b6-461a-84f0-519f1a789557",
   "metadata": {},
   "outputs": [],
   "source": [
    "li = [1,2,3]\n",
    "li2 = []\n",
    "for i in li:\n",
    "    li2.append(i**2)\n"
   ]
  },
  {
   "cell_type": "code",
   "execution_count": 130,
   "id": "816e359a-fa0d-47ba-930b-3a184ac73ae6",
   "metadata": {},
   "outputs": [
    {
     "data": {
      "text/plain": [
       "[1, 4, 9]"
      ]
     },
     "execution_count": 130,
     "metadata": {},
     "output_type": "execute_result"
    }
   ],
   "source": [
    "li2"
   ]
  },
  {
   "cell_type": "code",
   "execution_count": 131,
   "id": "6245e89e-98a9-41ce-a5ba-7ca5659cd928",
   "metadata": {},
   "outputs": [
    {
     "data": {
      "text/plain": [
       "[1, 4, 9]"
      ]
     },
     "execution_count": 131,
     "metadata": {},
     "output_type": "execute_result"
    }
   ],
   "source": [
    "li3 = [i**2 for i in li]\n",
    "li3"
   ]
  },
  {
   "cell_type": "markdown",
   "id": "7518861d-0156-4160-8849-4344239b0853",
   "metadata": {},
   "source": [
    "Vidu4:return a list containing odd numbers given original list"
   ]
  },
  {
   "cell_type": "code",
   "execution_count": 132,
   "id": "9ca676b4-5b06-4c04-8d31-f5a4557a0bf4",
   "metadata": {},
   "outputs": [],
   "source": [
    "li = [1,3,4,5,6,7,8]"
   ]
  },
  {
   "cell_type": "code",
   "execution_count": 135,
   "id": "fe8bb632-bfba-4776-a9b2-f9d1c01a40c9",
   "metadata": {},
   "outputs": [],
   "source": [
    "li2 = [i for i in li if i%2 ==1]"
   ]
  },
  {
   "cell_type": "code",
   "execution_count": 136,
   "id": "4e36a49e-763b-4231-9600-6adb34df0564",
   "metadata": {},
   "outputs": [
    {
     "data": {
      "text/plain": [
       "[1, 3, 5, 7]"
      ]
     },
     "execution_count": 136,
     "metadata": {},
     "output_type": "execute_result"
    }
   ],
   "source": [
    "li2"
   ]
  },
  {
   "cell_type": "markdown",
   "id": "45a930ce-2ac2-41ac-ba41-43914b5c8dfd",
   "metadata": {},
   "source": [
    "Vidu 5: Return a list \n",
    " - odd otem x**2\n",
    " - even item:x"
   ]
  },
  {
   "cell_type": "code",
   "execution_count": 138,
   "id": "97e56a27-1efd-4666-9d7e-85a4acb8e0a3",
   "metadata": {},
   "outputs": [
    {
     "data": {
      "text/plain": [
       "[1, 9, 4, 25, 6, 49, 8]"
      ]
     },
     "execution_count": 138,
     "metadata": {},
     "output_type": "execute_result"
    }
   ],
   "source": [
    "li3 = [i**2 if i%2 ==1 else i for i in li ]\n",
    "li3\n",
    "        \n",
    "    "
   ]
  },
  {
   "cell_type": "code",
   "execution_count": null,
   "id": "fea62518-0056-4761-800a-adc7e5faf89b",
   "metadata": {},
   "outputs": [],
   "source": []
  }
 ],
 "metadata": {
  "kernelspec": {
   "display_name": "Python 3",
   "language": "python",
   "name": "python3"
  },
  "language_info": {
   "codemirror_mode": {
    "name": "ipython",
    "version": 3
   },
   "file_extension": ".py",
   "mimetype": "text/x-python",
   "name": "python",
   "nbconvert_exporter": "python",
   "pygments_lexer": "ipython3",
   "version": "3.7.10"
  }
 },
 "nbformat": 4,
 "nbformat_minor": 5
}
