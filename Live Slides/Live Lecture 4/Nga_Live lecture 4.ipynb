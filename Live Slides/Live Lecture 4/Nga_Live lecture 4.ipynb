{
 "cells": [
  {
   "cell_type": "markdown",
   "id": "fa081b58-e8ba-4803-9a1b-fdbc59ee0ae7",
   "metadata": {},
   "source": [
    "# **<center> LESSON 4: Introduction to NUMPY**"
   ]
  },
  {
   "cell_type": "markdown",
   "id": "2c1588a0-7bf2-4e98-8bd4-8bd96ac6c274",
   "metadata": {},
   "source": [
    "![](data:image/png;base64,iVBORw0KGgoAAAANSUhEUgAAAU8AAACWCAMAAABpVfqTAAAAllBMVEX///9Nd89Nq89IdM5Ab80+bsxEcs2fs+NEqM1Kdc4+psxestPd5PWiz+P4+v7o7PhTfNHU3fP6+/7H0+69yut9mtumueXi6PY3asuMpd6QyN/M5O9wkNfs8fpcgtNmidXD4O2XreGEwty/zOzg7/br9fm42+rG4u6gz+OwwOhpttVYsNJ1lNiCndvM1/BfhNN1vNgjYMmN7U4lAAALO0lEQVR4nO2daWOiPBDHoUAk1KLihatW3Z7a1u7z/b/cA+Q+QMCjh/N/swWEJD8mmckQWMcBgUAgEAgEAoFAIBAIBAKBQCAQCAQCgUAgEKilHuOvrsFv0uPf6O35qyvxa/T4LwpvbqLwOfnqmvwGZbaZ0cwFNnq8BM2C6M3dV1foR0ulSYg+g2dqKTJu6sqIfnXFfqTsNAui4Jkaq5wmHUeh1zdSfJdBK1UIfqmxklKiYXgH/b2FkrvQQjSM/jx9dc1+jjTDM2w0jP4Czdqa/7vRunKs2mj071E943kH0VOZ5rvMpxvhpTSORjuN5votCmEWaldBkwRDWnhJiUa7F/WMl1sCGoiamsvxpgEouYsMu834l59w5eK2KQJ2neha3X7cRdUnXLEy2zTDoui2ApCZJzlwwhXpUbdN0YnX9jOeLDSh1xPNq+bp0e2LecbTn/Izrp1oJc2bPHp/06P3eVQxr79yovOqnEeO8+bVTCOVz+sJ0OiaUyVZQF5hnK/2qeXTXVhm1WF4d+XT0TKiYViR9ohfb2xEM3uGxJPzfGsSNdIe8Vw9yUIUksxMa21EDI20RzZm7tbqrqdXxZdl4+Y10xyojV9LNmrSfC5yTEb0lAgbvfoHyRtvohFl42i007q2YG1kRJ5eC89k9vSnaxtIO77vTdQ2P+dEo1uN5ovir4zD2Thq2mYW8r+dvsrfWh3kYt8daURv9S493+m+yrRR/eHxYz6Buj1Dnb+zMp5uRrS/VfbqZGyJEnNAUPT0txgCrpJnQfSh7CcVCxr0Xi/OYamSK+WZEQ3uR7Yf2FJyh2xUOudqeWZE061xuJrmTR5U7fTpk3KOzjMZFLKGqINBxcHjlAw0dZenLySXxNPFrhHc2OZMin0aEZJ2B3SevTQoNLTU5T9yKO2ernl6sUIpWnQGpw/mZJ6ub+nx+pxJNU496/Gkj7UGTzZeW6CltBZn4Ln0sKsJYxT0J6cmqvDE97bLr0tsNLJkPeb6T0t4Zq0xe/VleZLb6tk6yhFSeLqB3cnbiIahbZ5em6eLFsbJl+eZu+HNSQtSeXr9kp/pRO00m/B0faMhX8Ezs6HOKQtSebpWP1FIJmrxQmvybwOebqp3hovw9FAuGW95m1tI4+mZvZCLzeBDIyOXRfyv5K8mPDHSwF2CJx7Pcr2jlFcEuycsSOPpBoOKH6+zWbzphfL5U9iCp4v76n25BE/Uo3umY5+PPNaJTDvpPL135XBXa9t6p9smeTTaiqfuky7Cc8r3dXx7m4+SztNVo+lh+jEtOzUXW6AT/qHbjXhqPunCPJ13j3X4002WDJ5oLB8eBij9KG2fWO7UkqcaoLXnGfd6S21b3WHluWcGGpzuDho83UA2yGFWJPLtNiovHmvLE/vSpRWenTHRjI3Wy3ey432fb8Uf+d8fxci3H/czj/05oT+Mt4t+5sX7q06PX9rKM2Y8/aEzo8WpwdOIFlk/AjB5opl0eFgUidKxcQdflIi0LU/FJyk8x76XC/Ep2zItdnhpwTB2UX40HTq9VYowziZcfr/gN0l9r9jGKBU3w8bT4Ty3zohePZCH9G2Kijr49WelJk+MpJ4ypEWiQCW61vL1zXmyAFAaX1SeZHDzJJ70MOHZx+Tmd5HHau7dx068CKS2+J/LWjxH7Hpq31+RfajBFMrkqZw+5EEF8t95Seb8s5Sn/vyI8ez3GQafd7EWPLMfSJF51rUWanvQqoLnko+fewFCan03tdyD5jzdQHRBwTPv9RToq2U2b+cZsjhf54ndLmIgUjY6teKp4pv52p5gVM5T+KOeuLw0AFE2nuKhW/D0J/ywzJM73jszxWzlaXunhtln6jywjom96VE8MQoCdnOKqyM/8Jn1489ynmOW6yoQftAtMf3E5JxgfyRP7PJbdATPMLS9ocR5xlI8fR8fwdP/3O73HdcT1fwYDka835Px0MZzxG4oGcK7dJOb44DsKM0R1eaZ+7tjeWa2+Wgrj/PMuhhvM/VJrXjSzjTl4yitPDM+smnON+MJbxq1yAW9JSn1YTOkwWjNU9ySljzLaAqeeZQr2dikLU8e3c2YP/mgBbHIZKbw9DrbTJPNwuMNZ63lsQy5Q7QE7DV6nGXlKaYtrXiW01R5OsIn+cNjeT7Qmvq06skn+QHpviJfh/xMCGHhzvj4eE+KxPfF1p509ybBUilPeslWPM1lZKU8nYeUFegvj+TJasoTZLT74pXK05BI0G/ZLSkuwbp7s7monSd3cs15VtLUeTob4ZMSh7b5ojzl5x2JL10zIX2nae5JfR7H/2J55aY8X3Sa+nIHjafzzn3Sh+NenCdGSM59blhwHOeZIHK5JsGSyhNtpBiZVqspT03zXdn8iPEUPinYLi7LEyMfzZQsFKtcXgRJ5uFGwZLGcytCCGbnR/HME1Bl83eexer63FP05WLOxbPwR5mCoD8e6XlPGmRl5yxJd28WLGk8JwkSdzGdHsmTpPMO8hRhtVrMmXiSeGm7He2XljiIhvBZCDoqLodx00yzwpN7OJfFcTV5hpH+9hZbMHqYp/BJl+CJRE7UJhpkoS3p7g2DJUfnmciz4p5Tk2cY/dG9EF8wWoOns1JjjPPyrM4V0c6C72lZDTJLRCpPZyQZ6MapxdN8QUlO3NfhuVRzRV/JkxkUnQtUPD0vkcbTkQw0D7EP8rTSlGjX4Sn5JFEMDadx/6I8nYnc4KbBkmPylLwD6hzkaX4zSP8iQS2ezig1imEVC9iAdxmeS8klN8ssEek82YicK02qeVpeRZzry2/r8VR8EimGjTwsv9HlCaWz8uR5FbdFsORYeD748vUqeFpfk639/EjjKT+nIMWw/JDrz6ZJ3J3xIeHMPKe8qzQPlhwLT8lAs8lBKc+S12Rb84w9TytmxSPw/JUeCfd5efI0qPqgt65MnnsxlvmjvZ1neKPbJg2YWvOUfBIt5kGM5FhxV2fmuWflpo2DJcfG01mJB7CfVvt8NXr6+vYv+aM9T2cbaMVoYSmSJtfn5Mk6qLc6+EuLLDwHkosfi8cyoqFzbaa2fouips/fTZ7cJ7Filn15LV7wQfvK2XlSJO2WhVp4ihHEdWWcJanVYmlDg/UMuJCtMy384hAvZrkI2KpNlPnG2PWKw4xnIcEzIDsknsU2MbMlLRbXtk/P+i7BQdl4DvQMRQVPusi2Pk+v1D6dZNPXihl9osD3A9Tf5F1iWExbatsnluyzx53MQZ503JYemjeRjSdfyHeQJ18oUpunE1PZq2Mc6u1Ho2HXcphdh1lRol84UX4QV5cr6Z48hkPt1jBaeXbTWjylZTf1eX530bx8q2DJKeEpTxJKeSofcPk9PKl3bxUsOWU8pwgf4KktCfs1PGkQ0SKzRPTgc3QST7uBCp4v+seFfg1PGtu0f4dmuWGBssxzaRtBefxpvi5XxjP8Yd+7GJB2twyWiHoz8i6OzNNqoGJ+pOMs4xm9WT4k+J1FzRO1C5aYeuN8fZ9yEdsD1qbrFY1PjHx70cgbp8e+gt9dpFi9KRvTQJvxtH7k8ptrkRYKTvCC136VKjyXpotvwjO6XR9fp4vrpG/Dj9R0dMdvz9P4KBvIiY0RtC7PH+eFLqOtbqD1eIJtlsh4haIWzx85bl5GuoHW4Pl4xV9NPqx73JQnqEr7FHieVB+oJs8IeNaRGtSX8zT+Ax+QXYPAO8gzrP5wJUjWdBUc4Ak0m2kboHKeYJvNtXwPsJ1nGP0Dmi300C8WF+k8wTbbKunkC9wUntDTj9L0PcUyT+jpx+rBY9+7uIvANk+gZMaexwHNk+rK/2cjEAgEAoFAIBAIBAKBQCAQCAQCgUAgEAgEAl23/ge4DvYg4amHHgAAAABJRU5ErkJggg==)"
   ]
  },
  {
   "cell_type": "markdown",
   "id": "4c4bfb75-0fc4-441d-932b-6d3bf099aed4",
   "metadata": {},
   "source": [
    "## 1. Introduction"
   ]
  },
  {
   "cell_type": "markdown",
   "id": "4d54bde1-e9fa-4c11-a115-58aefc00f81b",
   "metadata": {},
   "source": [
    "** Numpy ** (Numerical Python)"
   ]
  }
 ],
 "metadata": {
  "kernelspec": {
   "display_name": "Python 3",
   "language": "python",
   "name": "python3"
  },
  "language_info": {
   "codemirror_mode": {
    "name": "ipython",
    "version": 3
   },
   "file_extension": ".py",
   "mimetype": "text/x-python",
   "name": "python",
   "nbconvert_exporter": "python",
   "pygments_lexer": "ipython3",
   "version": "3.7.10"
  }
 },
 "nbformat": 4,
 "nbformat_minor": 5
}
