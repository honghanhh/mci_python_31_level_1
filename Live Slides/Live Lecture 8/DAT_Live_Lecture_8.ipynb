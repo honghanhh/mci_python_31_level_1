{
 "cells": [
  {
   "cell_type": "markdown",
   "id": "e48e4783-3013-4b8e-8653-b1db847e1741",
   "metadata": {},
   "source": [
    "# <center> LESSON 8: Introduction to Machine Learning </center>"
   ]
  },
  {
   "cell_type": "markdown",
   "id": "2cd39d90-560f-4e1d-8a69-9f4b743b3575",
   "metadata": {},
   "source": [
    "* We have AI longtimes ago: Process. Alan Turing Cha đẻ của máy tính khi mã hóa thành công tín hiệu của phát xít đức trong chiến tranh anh quốc\n",
    "* [WiKi](https://vi.wikipedia.org/wiki/The_Imitation_Game)\n",
    "* Turing Awards\n",
    "* Deeplearning:Siri Google Translate ... "
   ]
  },
  {
   "cell_type": "markdown",
   "id": "71c8ded8-9527-4c5b-ad9f-2940de08854e",
   "metadata": {},
   "source": [
    "## 1. What is Machine Learning? \n",
    "### 1.1. Evolution"
   ]
  },
  {
   "cell_type": "markdown",
   "id": "88a9f961-3f63-466e-8079-9c31c2f7b12c",
   "metadata": {},
   "source": [
    "### 1.1 Evolution\n",
    "<center> <img src=\"http://www.metal-am.com/wp-content/uploads/sites/4/2020/12/fig-01-copy-1024x630.jpg\" width=\"500\"/></center> "
   ]
  },
  {
   "cell_type": "markdown",
   "id": "6bc63700-7972-43d1-877f-57bdf3ef940a",
   "metadata": {},
   "source": [
    "### 1.2 Definition\n",
    "<center> <img src=\"https://christophm.github.io/interpretable-ml-book/images/programing-ml.png\" width=\"500\"/></center>"
   ]
  },
  {
   "cell_type": "markdown",
   "id": "a5a18a08-a73e-4af0-9b10-e96a61c45509",
   "metadata": {},
   "source": [
    "    - Without machine learning we have the rules depending the requerement of solfware Engieneer \n",
    "    *** if a do b or do c whatever\n",
    "    - With machine leanring: We have action based on data and the rules also\n",
    "    *** load data\n",
    "    *** if abc do b based on data (we do not have exactly the task "
   ]
  },
  {
   "cell_type": "markdown",
   "id": "ea1523c4-1aae-4fef-bd46-d4d4a2bb80ee",
   "metadata": {},
   "source": [
    "***Defination what is the machine learning***\n",
    "A set of method that computer to make and imporvove prediction or behaviors based data \n",
    "We can know well with machine learning course with: Adrew's Nguyen"
   ]
  },
  {
   "cell_type": "markdown",
   "id": "d1032ebc-c0b8-4219-9594-70e81e63fe22",
   "metadata": {},
   "source": [
    "|Input|Types|Output|\n",
    "|-|-|-|\n",
    "|Data, Rules|Classical Programming|Answers|\n",
    "|Data (with or without Answers)|Machine Learning|Rules|"
   ]
  },
  {
   "cell_type": "markdown",
   "id": "89d0a9cf-68cc-4bdf-9f4e-d96d077fa3a7",
   "metadata": {},
   "source": [
    "### 1.3 Reference\n",
    "<center> <img src=\"https://www.azquotes.com/picture-quotes/quote-no-one-knows-what-the-right-algorithm-is-but-it-gives-us-hope-that-if-we-can-discover-andrew-ng-125-25-69.jpg\" width=\"500\"/></center>\n",
    "\n",
    "\n",
    "Recommended courses: \n",
    "- [Machine Learning](https://www.coursera.org/learn/machine-learning)\n",
    "- [Deep Learning](https://www.coursera.org/specializations/deep-learning)\n",
    "- [OpenAI-Elonmusk](https://openai.com/)\n",
    "- We have to have the certificate from all cousre to have more details actually!"
   ]
  },
  {
   "cell_type": "markdown",
   "id": "9ba92fe6-9e24-4ffc-b193-edebe6f40546",
   "metadata": {},
   "source": [
    "## 2. Types of Machine Learning"
   ]
  },
  {
   "cell_type": "markdown",
   "id": "4c49aee8-9df9-46ee-9b41-7f6536e62cca",
   "metadata": {},
   "source": [
    "<center> <img src=\"https://www.7wdata.be/wp-content/uploads/2020/06/1FUZS9K4JPqzfXDcC83BQTw.png\" alt=\"anatomy\" width=\"700\"/></center>\n"
   ]
  },
  {
   "cell_type": "markdown",
   "id": "445f8148-46db-4e48-bba9-ce04253073dc",
   "metadata": {},
   "source": [
    "**Maintain**\n",
    "- <h3>Suppervised learning</h3>:use labeled data base to train modelling: X(features) and y(labels): Find the fuction statisfield y= F(X): label:catergories\n",
    "\n",
    "- <h3>Unsuperviced learning</h3>:use the database which did not label the database. Normally just for short time.\n",
    "\n",
    "    * Clustering:\n",
    "        - Recommdation systems\n",
    "        - Custermer Segmentation \n",
    "        - Target marketing \n",
    "            * Custorm\n",
    "            * System \n",
    "            * Marketting\n",
    "        - Kemans, dbscans, mean-shits\n",
    "    * Demensionreduction:\n",
    "        - When we work in realtim we have alot of array as an image RGB \n",
    "        - ACtually that is the image processing database \n",
    "        - Algorithms: t-SNE, PCA, SVD, LDA, ...\n",
    "     \n",
    "- <h3>Reforced leanring</h3>:The feature of machien leanring\n",
    "\n",
    "    - Suppervived learnig: need labels \n",
    "    - Unsupervied learning: \n",
    "    - Action-reward(good, verygood) - reword.penlty fuction \n",
    "   \n",
    "        - Actually it is suppervied learning(80%) and it take the lablel basing on the reward-penalty function of users. It depends on author actually!\n",
    "        - Unsuppervied and semi-suppercvied (10-15%)\n",
    "        - Reforced learning: 5%\n",
    "    - Algorithims: \n",
    "        - Q-learning\n",
    "        - Deep Q Network"
   ]
  },
  {
   "cell_type": "markdown",
   "id": "f22400ae-4b70-4fa8-bc0f-ad00bd23ba55",
   "metadata": {
    "tags": []
   },
   "source": [
    "## 3. Workflow"
   ]
  },
  {
   "cell_type": "markdown",
   "id": "28a21130-ebda-4399-9df8-0b865f1c9989",
   "metadata": {},
   "source": [
    "### 3.1 Overview Pipeline"
   ]
  },
  {
   "cell_type": "markdown",
   "id": "7e2d8aab-618c-42ee-a138-26e1d93d44a0",
   "metadata": {},
   "source": [
    "\n",
    "<center> <img src=\"img/flow.png\" width=\"700\"/></center>\n"
   ]
  },
  {
   "cell_type": "markdown",
   "id": "44702bfb-30c9-4b41-a641-4fbffeeb3447",
   "metadata": {},
   "source": [
    "* Step1: Crawl the data: step1 [Dataenginer]\n",
    "* Step2: Train Data: step2,3,4  [Datascience]\n",
    "* Step3: Use our model to predict on new data: [Datascience]\n",
    "* Step5: Use for suppervisor learning  [Datascince]\n",
    "\n",
    "**Step4 is very important which you have to deploy for your job**"
   ]
  },
  {
   "cell_type": "markdown",
   "id": "ebec4b08-e109-47b4-97ff-62ee34e1f7ff",
   "metadata": {},
   "source": [
    "### Three mains steps:\n",
    "- Data Collection: More clean with labels, better results. After that we will have ETL or ELT the databasse in data pieline\n",
    "- Train model: fit data into algorithms and optimize algorithms -->minimize error lost and maximize accuracy\n",
    "- Predict unlabelled data basing on the train data\n",
    "- Validate the model also the results: Tunning machine learning how is the best of acccuracy basing on the trainningh method also the databse\n"
   ]
  },
  {
   "cell_type": "markdown",
   "id": "3d99b7cb-72fd-4e11-bd9d-effbe7209c67",
   "metadata": {},
   "source": [
    "### 3.2 Data Pipeline"
   ]
  },
  {
   "cell_type": "markdown",
   "id": "d3b3acce-62b7-4fa9-9924-4656a9e20f8a",
   "metadata": {},
   "source": [
    "<center> <img src=\"img/flow2.png\" width=\"700\"/></center>"
   ]
  },
  {
   "cell_type": "markdown",
   "id": "256822e0-05a8-4ea9-b453-24d7f5032431",
   "metadata": {},
   "source": [
    "- `ETL`: Extract- Transform- Load (data processing) However in our work the piepline will change depending on our datawharehouse also our target\n",
    "- `Imbalance data`: cross-validation\n",
    "- `Ensemble method`: combine many algorithms -> bets model \n",
    "- `Evaluation metrics`: accuracy,confusion matrix,recall ,f1-score\n",
    "    1. accuracy \n",
    "    2. confusion matrix: how many true and false value to learn again\n",
    "    3. precision:\n",
    "    4. recall \n",
    "    5. f1-score"
   ]
  },
  {
   "cell_type": "markdown",
   "id": "836fde66-492c-472d-8078-8bcc4680a2ee",
   "metadata": {},
   "source": [
    "![](https://cdn-images-1.medium.com/fit/t/1600/480/1*Ub0nZTXYT8MxLzrz0P7jPA.png)\n",
    "### <center>The Evaluation metrics <\\center>"
   ]
  },
  {
   "cell_type": "markdown",
   "id": "aad4a401-5117-404c-b115-dd061249e8dc",
   "metadata": {},
   "source": [
    "1. True positive: nghĩ là đúng và thực tế là đúng \n",
    "2. True Negative: Nghĩ là sai và thực tế là sai\n",
    "3. False Positive: nghĩ là Đúng nhưng thưc tế Sai\n",
    "4. Flase Negative : Nghi là Sai nhưng thực tế là "
   ]
  },
  {
   "cell_type": "markdown",
   "id": "dadf4d28-3a5c-4fba-a182-c91dea8ffa40",
   "metadata": {},
   "source": [
    "|Value|True|False|\n",
    "|-|-|-|\n",
    "|Prediction|TP|FN|\n",
    "|Real-Value|FP|TN|\n",
    "|**Value**|True|False|"
   ]
  },
  {
   "cell_type": "markdown",
   "id": "22c58cba-a7a0-4a68-8a23-78af104cd315",
   "metadata": {},
   "source": [
    "**Formulation Metrics:** \n",
    "- Precision= TP/(TP+FP)(True positive False Possitive)\n",
    "- Recall = TP/(TP+FN)\n",
    "- F1-score = 2*(P*R)/(P+R)"
   ]
  },
  {
   "cell_type": "markdown",
   "id": "55524f62-a198-4135-ba06-dc42cbdb8eb4",
   "metadata": {},
   "source": [
    "## 4. Practice"
   ]
  },
  {
   "cell_type": "markdown",
   "id": "472344fc-069b-4550-91fc-756e3ffcff02",
   "metadata": {},
   "source": [
    "### 4.0 Install and import necessary packages \n",
    "\n",
    "`!pip install scikit-learn`"
   ]
  },
  {
   "cell_type": "markdown",
   "id": "0ce17fef-fa0a-45cf-97fa-b586ebb65585",
   "metadata": {},
   "source": [
    "![](https://scikit-learn.org/stable/_static/ml_map.png)"
   ]
  },
  {
   "cell_type": "markdown",
   "id": "e1d35508-4acb-4408-88c3-c37d879dedfd",
   "metadata": {},
   "source": [
    "# CHEAT_SHEET"
   ]
  },
  {
   "cell_type": "markdown",
   "id": "5fe8ea20-fb6a-42d3-9ceb-a4a6c35c9f1f",
   "metadata": {},
   "source": [
    "Yếu điểm: 50 samples "
   ]
  },
  {
   "cell_type": "code",
   "execution_count": 2,
   "id": "3eddab55-41d5-4c28-8407-1123976d0287",
   "metadata": {},
   "outputs": [
    {
     "name": "stdout",
     "output_type": "stream",
     "text": [
      "Requirement already satisfied: scikit-learn in /opt/anaconda3/envs/anthony/lib/python3.7/site-packages (0.24.2)\n",
      "Requirement already satisfied: numpy>=1.13.3 in /opt/anaconda3/envs/anthony/lib/python3.7/site-packages (from scikit-learn) (1.20.2)\n",
      "Requirement already satisfied: scipy>=0.19.1 in /opt/anaconda3/envs/anthony/lib/python3.7/site-packages (from scikit-learn) (1.6.2)\n",
      "Requirement already satisfied: threadpoolctl>=2.0.0 in /opt/anaconda3/envs/anthony/lib/python3.7/site-packages (from scikit-learn) (2.1.0)\n",
      "Requirement already satisfied: joblib>=0.11 in /opt/anaconda3/envs/anthony/lib/python3.7/site-packages (from scikit-learn) (1.0.1)\n"
     ]
    }
   ],
   "source": [
    "! pip install scikit-learn\n",
    "#Note that we never use conda..."
   ]
  },
  {
   "cell_type": "markdown",
   "id": "2d8b717f-6f7e-4545-a347-4e1efedba93c",
   "metadata": {},
   "source": [
    "- Sckit learn do not support for reforcment learning \n",
    "- If you wanna know more the reforcement leaning you can come: OpenAI gym \n",
    "- References: [Scikitlearning](https://scikit-learn.org/stable/)\n",
    "- Opensource and we can fix however you do not need to fix it again unless ..."
   ]
  },
  {
   "cell_type": "markdown",
   "id": "61a77155-fe38-4138-aacb-4f431ef40c08",
   "metadata": {},
   "source": [
    "### 4.1 Problem"
   ]
  },
  {
   "cell_type": "markdown",
   "id": "f84e6963-af78-4c42-b00a-c8026b8dc6b6",
   "metadata": {},
   "source": [
    "<center> <img src=\"img/iris.png\"  width=\"500\"/></center>"
   ]
  },
  {
   "cell_type": "code",
   "execution_count": 1,
   "id": "0fe70bd9-0c8e-408d-9b52-385a71bd2fe4",
   "metadata": {},
   "outputs": [],
   "source": [
    "# pandas numpy matplotlib and seaborn\n",
    "import pandas as pd\n",
    "import numpy as np\n",
    "import seaborn as sns\n",
    "import matplotlib.pyplot as plt\n",
    "import sklearn"
   ]
  },
  {
   "cell_type": "code",
   "execution_count": 21,
   "id": "c60811b2-985c-4fce-a6ba-9e6967eb2f2b",
   "metadata": {},
   "outputs": [
    {
     "data": {
      "text/html": [
       "<div>\n",
       "<style scoped>\n",
       "    .dataframe tbody tr th:only-of-type {\n",
       "        vertical-align: middle;\n",
       "    }\n",
       "\n",
       "    .dataframe tbody tr th {\n",
       "        vertical-align: top;\n",
       "    }\n",
       "\n",
       "    .dataframe thead th {\n",
       "        text-align: right;\n",
       "    }\n",
       "</style>\n",
       "<table border=\"1\" class=\"dataframe\">\n",
       "  <thead>\n",
       "    <tr style=\"text-align: right;\">\n",
       "      <th></th>\n",
       "      <th>sepal_length</th>\n",
       "      <th>sepal_width</th>\n",
       "      <th>petal_length</th>\n",
       "      <th>petal_width</th>\n",
       "      <th>species</th>\n",
       "    </tr>\n",
       "  </thead>\n",
       "  <tbody>\n",
       "    <tr>\n",
       "      <th>0</th>\n",
       "      <td>5.1</td>\n",
       "      <td>3.5</td>\n",
       "      <td>1.4</td>\n",
       "      <td>0.2</td>\n",
       "      <td>setosa</td>\n",
       "    </tr>\n",
       "    <tr>\n",
       "      <th>1</th>\n",
       "      <td>4.9</td>\n",
       "      <td>3.0</td>\n",
       "      <td>1.4</td>\n",
       "      <td>0.2</td>\n",
       "      <td>setosa</td>\n",
       "    </tr>\n",
       "    <tr>\n",
       "      <th>2</th>\n",
       "      <td>4.7</td>\n",
       "      <td>3.2</td>\n",
       "      <td>1.3</td>\n",
       "      <td>0.2</td>\n",
       "      <td>setosa</td>\n",
       "    </tr>\n",
       "    <tr>\n",
       "      <th>3</th>\n",
       "      <td>4.6</td>\n",
       "      <td>3.1</td>\n",
       "      <td>1.5</td>\n",
       "      <td>0.2</td>\n",
       "      <td>setosa</td>\n",
       "    </tr>\n",
       "    <tr>\n",
       "      <th>4</th>\n",
       "      <td>5.0</td>\n",
       "      <td>3.6</td>\n",
       "      <td>1.4</td>\n",
       "      <td>0.2</td>\n",
       "      <td>setosa</td>\n",
       "    </tr>\n",
       "  </tbody>\n",
       "</table>\n",
       "</div>"
      ],
      "text/plain": [
       "   sepal_length  sepal_width  petal_length  petal_width species\n",
       "0           5.1          3.5           1.4          0.2  setosa\n",
       "1           4.9          3.0           1.4          0.2  setosa\n",
       "2           4.7          3.2           1.3          0.2  setosa\n",
       "3           4.6          3.1           1.5          0.2  setosa\n",
       "4           5.0          3.6           1.4          0.2  setosa"
      ]
     },
     "execution_count": 21,
     "metadata": {},
     "output_type": "execute_result"
    }
   ],
   "source": [
    "#c1:scv\n",
    "#c2:load url \n",
    "#C3 seaborn : iris = sns.load_dataset('iris')\n",
    "iris = sns.load_dataset('iris')\n",
    "iris.head()"
   ]
  },
  {
   "cell_type": "code",
   "execution_count": 22,
   "id": "aa64978f-c09e-4e23-b132-f9c647f901d4",
   "metadata": {},
   "outputs": [
    {
     "data": {
      "text/plain": [
       "array(['setosa', 'versicolor', 'virginica'], dtype=object)"
      ]
     },
     "execution_count": 22,
     "metadata": {},
     "output_type": "execute_result"
    }
   ],
   "source": [
    "iris.species.unique()"
   ]
  },
  {
   "cell_type": "code",
   "execution_count": 23,
   "id": "b01ed1c6-0882-487d-8e7c-8df49e6b3385",
   "metadata": {},
   "outputs": [],
   "source": [
    "# the labels: iris.species.unique()"
   ]
  },
  {
   "cell_type": "markdown",
   "id": "912f6b68-6d1f-4f5f-9b16-9eba7f1ed84b",
   "metadata": {},
   "source": [
    "# EDA - explolarity data analyst"
   ]
  },
  {
   "cell_type": "markdown",
   "id": "564718ab-a3d6-4175-8ca3-922f7d98efca",
   "metadata": {},
   "source": [
    "#### 4.3.1 Statistics"
   ]
  },
  {
   "cell_type": "code",
   "execution_count": 24,
   "id": "4bb92ce7-ec7d-44bc-b0b2-0ba81a4a9a8a",
   "metadata": {},
   "outputs": [
    {
     "data": {
      "text/plain": [
       "count            150\n",
       "unique             3\n",
       "top       versicolor\n",
       "freq              50\n",
       "Name: species, dtype: object"
      ]
     },
     "execution_count": 24,
     "metadata": {},
     "output_type": "execute_result"
    }
   ],
   "source": [
    "iris.species.describe()"
   ]
  },
  {
   "cell_type": "code",
   "execution_count": 25,
   "id": "47d66658-43db-48f7-a4e9-db71da96a52f",
   "metadata": {},
   "outputs": [
    {
     "name": "stdout",
     "output_type": "stream",
     "text": [
      "<class 'pandas.core.frame.DataFrame'>\n",
      "RangeIndex: 150 entries, 0 to 149\n",
      "Data columns (total 5 columns):\n",
      " #   Column        Non-Null Count  Dtype  \n",
      "---  ------        --------------  -----  \n",
      " 0   sepal_length  150 non-null    float64\n",
      " 1   sepal_width   150 non-null    float64\n",
      " 2   petal_length  150 non-null    float64\n",
      " 3   petal_width   150 non-null    float64\n",
      " 4   species       150 non-null    object \n",
      "dtypes: float64(4), object(1)\n",
      "memory usage: 6.0+ KB\n"
     ]
    }
   ],
   "source": [
    "iris.info()"
   ]
  },
  {
   "cell_type": "code",
   "execution_count": 26,
   "id": "30099684-0d07-4043-ba6e-c9b670a4425e",
   "metadata": {},
   "outputs": [],
   "source": [
    "#because non-null ->good\n",
    "#check data"
   ]
  },
  {
   "cell_type": "code",
   "execution_count": 27,
   "id": "8675e36a-b816-4988-8284-a52f4d86df0d",
   "metadata": {},
   "outputs": [
    {
     "data": {
      "text/plain": [
       "(150, 5)"
      ]
     },
     "execution_count": 27,
     "metadata": {},
     "output_type": "execute_result"
    }
   ],
   "source": [
    "iris.shape"
   ]
  },
  {
   "cell_type": "code",
   "execution_count": 28,
   "id": "2404d446-116d-4393-8c20-1f332a8b56c2",
   "metadata": {},
   "outputs": [
    {
     "data": {
      "text/html": [
       "<div>\n",
       "<style scoped>\n",
       "    .dataframe tbody tr th:only-of-type {\n",
       "        vertical-align: middle;\n",
       "    }\n",
       "\n",
       "    .dataframe tbody tr th {\n",
       "        vertical-align: top;\n",
       "    }\n",
       "\n",
       "    .dataframe thead th {\n",
       "        text-align: right;\n",
       "    }\n",
       "</style>\n",
       "<table border=\"1\" class=\"dataframe\">\n",
       "  <thead>\n",
       "    <tr style=\"text-align: right;\">\n",
       "      <th></th>\n",
       "      <th>sepal_length</th>\n",
       "      <th>sepal_width</th>\n",
       "      <th>petal_length</th>\n",
       "      <th>petal_width</th>\n",
       "    </tr>\n",
       "  </thead>\n",
       "  <tbody>\n",
       "    <tr>\n",
       "      <th>count</th>\n",
       "      <td>150.000000</td>\n",
       "      <td>150.000000</td>\n",
       "      <td>150.000000</td>\n",
       "      <td>150.000000</td>\n",
       "    </tr>\n",
       "    <tr>\n",
       "      <th>mean</th>\n",
       "      <td>5.843333</td>\n",
       "      <td>3.057333</td>\n",
       "      <td>3.758000</td>\n",
       "      <td>1.199333</td>\n",
       "    </tr>\n",
       "    <tr>\n",
       "      <th>std</th>\n",
       "      <td>0.828066</td>\n",
       "      <td>0.435866</td>\n",
       "      <td>1.765298</td>\n",
       "      <td>0.762238</td>\n",
       "    </tr>\n",
       "    <tr>\n",
       "      <th>min</th>\n",
       "      <td>4.300000</td>\n",
       "      <td>2.000000</td>\n",
       "      <td>1.000000</td>\n",
       "      <td>0.100000</td>\n",
       "    </tr>\n",
       "    <tr>\n",
       "      <th>25%</th>\n",
       "      <td>5.100000</td>\n",
       "      <td>2.800000</td>\n",
       "      <td>1.600000</td>\n",
       "      <td>0.300000</td>\n",
       "    </tr>\n",
       "    <tr>\n",
       "      <th>50%</th>\n",
       "      <td>5.800000</td>\n",
       "      <td>3.000000</td>\n",
       "      <td>4.350000</td>\n",
       "      <td>1.300000</td>\n",
       "    </tr>\n",
       "    <tr>\n",
       "      <th>75%</th>\n",
       "      <td>6.400000</td>\n",
       "      <td>3.300000</td>\n",
       "      <td>5.100000</td>\n",
       "      <td>1.800000</td>\n",
       "    </tr>\n",
       "    <tr>\n",
       "      <th>max</th>\n",
       "      <td>7.900000</td>\n",
       "      <td>4.400000</td>\n",
       "      <td>6.900000</td>\n",
       "      <td>2.500000</td>\n",
       "    </tr>\n",
       "  </tbody>\n",
       "</table>\n",
       "</div>"
      ],
      "text/plain": [
       "       sepal_length  sepal_width  petal_length  petal_width\n",
       "count    150.000000   150.000000    150.000000   150.000000\n",
       "mean       5.843333     3.057333      3.758000     1.199333\n",
       "std        0.828066     0.435866      1.765298     0.762238\n",
       "min        4.300000     2.000000      1.000000     0.100000\n",
       "25%        5.100000     2.800000      1.600000     0.300000\n",
       "50%        5.800000     3.000000      4.350000     1.300000\n",
       "75%        6.400000     3.300000      5.100000     1.800000\n",
       "max        7.900000     4.400000      6.900000     2.500000"
      ]
     },
     "execution_count": 28,
     "metadata": {},
     "output_type": "execute_result"
    }
   ],
   "source": [
    "iris.describe()"
   ]
  },
  {
   "cell_type": "code",
   "execution_count": 29,
   "id": "305a4df3-14df-49cf-b98b-51e58d3823a2",
   "metadata": {},
   "outputs": [
    {
     "data": {
      "text/plain": [
       "750"
      ]
     },
     "execution_count": 29,
     "metadata": {},
     "output_type": "execute_result"
    }
   ],
   "source": [
    "iris.size #how many element which we have "
   ]
  },
  {
   "cell_type": "code",
   "execution_count": 30,
   "id": "f7fd30be-9bc8-4baf-ae1e-11d0c53e84a1",
   "metadata": {},
   "outputs": [
    {
     "name": "stdout",
     "output_type": "stream",
     "text": [
      "<class 'pandas.core.frame.DataFrame'>\n",
      "RangeIndex: 150 entries, 0 to 149\n",
      "Data columns (total 5 columns):\n",
      " #   Column        Non-Null Count  Dtype  \n",
      "---  ------        --------------  -----  \n",
      " 0   sepal_length  150 non-null    float64\n",
      " 1   sepal_width   150 non-null    float64\n",
      " 2   petal_length  150 non-null    float64\n",
      " 3   petal_width   150 non-null    float64\n",
      " 4   species       150 non-null    object \n",
      "dtypes: float64(4), object(1)\n",
      "memory usage: 6.0+ KB\n"
     ]
    }
   ],
   "source": [
    "iris.info()"
   ]
  },
  {
   "cell_type": "code",
   "execution_count": 31,
   "id": "7e9e4de8-12c6-4d27-8e15-ff916ce974f2",
   "metadata": {},
   "outputs": [
    {
     "data": {
      "text/plain": [
       "sepal_length    0\n",
       "sepal_width     0\n",
       "petal_length    0\n",
       "petal_width     0\n",
       "species         0\n",
       "dtype: int64"
      ]
     },
     "execution_count": 31,
     "metadata": {},
     "output_type": "execute_result"
    }
   ],
   "source": [
    "#check non fist \n",
    "iris.isnull().sum()"
   ]
  },
  {
   "cell_type": "code",
   "execution_count": 26,
   "id": "b11d1697-ffc2-4b5e-95cb-4a45e57ecae9",
   "metadata": {},
   "outputs": [
    {
     "data": {
      "text/plain": [
       "sepal_length    0\n",
       "sepal_width     0\n",
       "petal_length    0\n",
       "petal_width     0\n",
       "species         0\n",
       "dtype: int64"
      ]
     },
     "execution_count": 26,
     "metadata": {},
     "output_type": "execute_result"
    }
   ],
   "source": [
    "iris.isnull().sum()#check null value"
   ]
  },
  {
   "cell_type": "markdown",
   "id": "4f15d318-e110-40f5-8e74-c5ee394d60a1",
   "metadata": {},
   "source": [
    "It 1,2 it doesnt affect to data \n",
    "iris.dropna()"
   ]
  },
  {
   "cell_type": "code",
   "execution_count": 32,
   "id": "5804dcd7-a1f5-44d2-9315-c93edab323d9",
   "metadata": {},
   "outputs": [
    {
     "data": {
      "text/html": [
       "<div>\n",
       "<style scoped>\n",
       "    .dataframe tbody tr th:only-of-type {\n",
       "        vertical-align: middle;\n",
       "    }\n",
       "\n",
       "    .dataframe tbody tr th {\n",
       "        vertical-align: top;\n",
       "    }\n",
       "\n",
       "    .dataframe thead th {\n",
       "        text-align: right;\n",
       "    }\n",
       "</style>\n",
       "<table border=\"1\" class=\"dataframe\">\n",
       "  <thead>\n",
       "    <tr style=\"text-align: right;\">\n",
       "      <th></th>\n",
       "      <th>sepal_length</th>\n",
       "      <th>sepal_width</th>\n",
       "      <th>petal_length</th>\n",
       "      <th>petal_width</th>\n",
       "      <th>species</th>\n",
       "    </tr>\n",
       "  </thead>\n",
       "  <tbody>\n",
       "    <tr>\n",
       "      <th>0</th>\n",
       "      <td>5.1</td>\n",
       "      <td>3.5</td>\n",
       "      <td>1.4</td>\n",
       "      <td>0.2</td>\n",
       "      <td>setosa</td>\n",
       "    </tr>\n",
       "    <tr>\n",
       "      <th>1</th>\n",
       "      <td>4.9</td>\n",
       "      <td>3.0</td>\n",
       "      <td>1.4</td>\n",
       "      <td>0.2</td>\n",
       "      <td>setosa</td>\n",
       "    </tr>\n",
       "    <tr>\n",
       "      <th>2</th>\n",
       "      <td>4.7</td>\n",
       "      <td>3.2</td>\n",
       "      <td>1.3</td>\n",
       "      <td>0.2</td>\n",
       "      <td>setosa</td>\n",
       "    </tr>\n",
       "    <tr>\n",
       "      <th>3</th>\n",
       "      <td>4.6</td>\n",
       "      <td>3.1</td>\n",
       "      <td>1.5</td>\n",
       "      <td>0.2</td>\n",
       "      <td>setosa</td>\n",
       "    </tr>\n",
       "    <tr>\n",
       "      <th>4</th>\n",
       "      <td>5.0</td>\n",
       "      <td>3.6</td>\n",
       "      <td>1.4</td>\n",
       "      <td>0.2</td>\n",
       "      <td>setosa</td>\n",
       "    </tr>\n",
       "    <tr>\n",
       "      <th>...</th>\n",
       "      <td>...</td>\n",
       "      <td>...</td>\n",
       "      <td>...</td>\n",
       "      <td>...</td>\n",
       "      <td>...</td>\n",
       "    </tr>\n",
       "    <tr>\n",
       "      <th>145</th>\n",
       "      <td>6.7</td>\n",
       "      <td>3.0</td>\n",
       "      <td>5.2</td>\n",
       "      <td>2.3</td>\n",
       "      <td>virginica</td>\n",
       "    </tr>\n",
       "    <tr>\n",
       "      <th>146</th>\n",
       "      <td>6.3</td>\n",
       "      <td>2.5</td>\n",
       "      <td>5.0</td>\n",
       "      <td>1.9</td>\n",
       "      <td>virginica</td>\n",
       "    </tr>\n",
       "    <tr>\n",
       "      <th>147</th>\n",
       "      <td>6.5</td>\n",
       "      <td>3.0</td>\n",
       "      <td>5.2</td>\n",
       "      <td>2.0</td>\n",
       "      <td>virginica</td>\n",
       "    </tr>\n",
       "    <tr>\n",
       "      <th>148</th>\n",
       "      <td>6.2</td>\n",
       "      <td>3.4</td>\n",
       "      <td>5.4</td>\n",
       "      <td>2.3</td>\n",
       "      <td>virginica</td>\n",
       "    </tr>\n",
       "    <tr>\n",
       "      <th>149</th>\n",
       "      <td>5.9</td>\n",
       "      <td>3.0</td>\n",
       "      <td>5.1</td>\n",
       "      <td>1.8</td>\n",
       "      <td>virginica</td>\n",
       "    </tr>\n",
       "  </tbody>\n",
       "</table>\n",
       "<p>150 rows × 5 columns</p>\n",
       "</div>"
      ],
      "text/plain": [
       "     sepal_length  sepal_width  petal_length  petal_width    species\n",
       "0             5.1          3.5           1.4          0.2     setosa\n",
       "1             4.9          3.0           1.4          0.2     setosa\n",
       "2             4.7          3.2           1.3          0.2     setosa\n",
       "3             4.6          3.1           1.5          0.2     setosa\n",
       "4             5.0          3.6           1.4          0.2     setosa\n",
       "..            ...          ...           ...          ...        ...\n",
       "145           6.7          3.0           5.2          2.3  virginica\n",
       "146           6.3          2.5           5.0          1.9  virginica\n",
       "147           6.5          3.0           5.2          2.0  virginica\n",
       "148           6.2          3.4           5.4          2.3  virginica\n",
       "149           5.9          3.0           5.1          1.8  virginica\n",
       "\n",
       "[150 rows x 5 columns]"
      ]
     },
     "execution_count": 32,
     "metadata": {},
     "output_type": "execute_result"
    }
   ],
   "source": [
    "#rmove the nall value\n",
    "iris = iris.dropna()\n",
    "iris"
   ]
  },
  {
   "cell_type": "code",
   "execution_count": 33,
   "id": "4cfffe2b-5f8e-448a-8939-ddc24c341a38",
   "metadata": {},
   "outputs": [
    {
     "data": {
      "text/html": [
       "<div>\n",
       "<style scoped>\n",
       "    .dataframe tbody tr th:only-of-type {\n",
       "        vertical-align: middle;\n",
       "    }\n",
       "\n",
       "    .dataframe tbody tr th {\n",
       "        vertical-align: top;\n",
       "    }\n",
       "\n",
       "    .dataframe thead th {\n",
       "        text-align: right;\n",
       "    }\n",
       "</style>\n",
       "<table border=\"1\" class=\"dataframe\">\n",
       "  <thead>\n",
       "    <tr style=\"text-align: right;\">\n",
       "      <th></th>\n",
       "      <th>sepal_length</th>\n",
       "      <th>sepal_width</th>\n",
       "      <th>petal_length</th>\n",
       "      <th>petal_width</th>\n",
       "      <th>species</th>\n",
       "    </tr>\n",
       "  </thead>\n",
       "  <tbody>\n",
       "    <tr>\n",
       "      <th>0</th>\n",
       "      <td>5.1</td>\n",
       "      <td>3.5</td>\n",
       "      <td>1.4</td>\n",
       "      <td>0.2</td>\n",
       "      <td>setosa</td>\n",
       "    </tr>\n",
       "    <tr>\n",
       "      <th>1</th>\n",
       "      <td>4.9</td>\n",
       "      <td>3.0</td>\n",
       "      <td>1.4</td>\n",
       "      <td>0.2</td>\n",
       "      <td>setosa</td>\n",
       "    </tr>\n",
       "    <tr>\n",
       "      <th>2</th>\n",
       "      <td>4.7</td>\n",
       "      <td>3.2</td>\n",
       "      <td>1.3</td>\n",
       "      <td>0.2</td>\n",
       "      <td>setosa</td>\n",
       "    </tr>\n",
       "    <tr>\n",
       "      <th>3</th>\n",
       "      <td>4.6</td>\n",
       "      <td>3.1</td>\n",
       "      <td>1.5</td>\n",
       "      <td>0.2</td>\n",
       "      <td>setosa</td>\n",
       "    </tr>\n",
       "    <tr>\n",
       "      <th>4</th>\n",
       "      <td>5.0</td>\n",
       "      <td>3.6</td>\n",
       "      <td>1.4</td>\n",
       "      <td>0.2</td>\n",
       "      <td>setosa</td>\n",
       "    </tr>\n",
       "    <tr>\n",
       "      <th>...</th>\n",
       "      <td>...</td>\n",
       "      <td>...</td>\n",
       "      <td>...</td>\n",
       "      <td>...</td>\n",
       "      <td>...</td>\n",
       "    </tr>\n",
       "    <tr>\n",
       "      <th>145</th>\n",
       "      <td>6.7</td>\n",
       "      <td>3.0</td>\n",
       "      <td>5.2</td>\n",
       "      <td>2.3</td>\n",
       "      <td>virginica</td>\n",
       "    </tr>\n",
       "    <tr>\n",
       "      <th>146</th>\n",
       "      <td>6.3</td>\n",
       "      <td>2.5</td>\n",
       "      <td>5.0</td>\n",
       "      <td>1.9</td>\n",
       "      <td>virginica</td>\n",
       "    </tr>\n",
       "    <tr>\n",
       "      <th>147</th>\n",
       "      <td>6.5</td>\n",
       "      <td>3.0</td>\n",
       "      <td>5.2</td>\n",
       "      <td>2.0</td>\n",
       "      <td>virginica</td>\n",
       "    </tr>\n",
       "    <tr>\n",
       "      <th>148</th>\n",
       "      <td>6.2</td>\n",
       "      <td>3.4</td>\n",
       "      <td>5.4</td>\n",
       "      <td>2.3</td>\n",
       "      <td>virginica</td>\n",
       "    </tr>\n",
       "    <tr>\n",
       "      <th>149</th>\n",
       "      <td>5.9</td>\n",
       "      <td>3.0</td>\n",
       "      <td>5.1</td>\n",
       "      <td>1.8</td>\n",
       "      <td>virginica</td>\n",
       "    </tr>\n",
       "  </tbody>\n",
       "</table>\n",
       "<p>150 rows × 5 columns</p>\n",
       "</div>"
      ],
      "text/plain": [
       "     sepal_length  sepal_width  petal_length  petal_width    species\n",
       "0             5.1          3.5           1.4          0.2     setosa\n",
       "1             4.9          3.0           1.4          0.2     setosa\n",
       "2             4.7          3.2           1.3          0.2     setosa\n",
       "3             4.6          3.1           1.5          0.2     setosa\n",
       "4             5.0          3.6           1.4          0.2     setosa\n",
       "..            ...          ...           ...          ...        ...\n",
       "145           6.7          3.0           5.2          2.3  virginica\n",
       "146           6.3          2.5           5.0          1.9  virginica\n",
       "147           6.5          3.0           5.2          2.0  virginica\n",
       "148           6.2          3.4           5.4          2.3  virginica\n",
       "149           5.9          3.0           5.1          1.8  virginica\n",
       "\n",
       "[150 rows x 5 columns]"
      ]
     },
     "execution_count": 33,
     "metadata": {},
     "output_type": "execute_result"
    }
   ],
   "source": [
    "iris.dropna(inplace = True)\n",
    "iris"
   ]
  },
  {
   "cell_type": "code",
   "execution_count": 35,
   "id": "3f52d3ca-20fe-4fd3-9988-0e6363ac3a33",
   "metadata": {},
   "outputs": [
    {
     "data": {
      "text/html": [
       "<div>\n",
       "<style scoped>\n",
       "    .dataframe tbody tr th:only-of-type {\n",
       "        vertical-align: middle;\n",
       "    }\n",
       "\n",
       "    .dataframe tbody tr th {\n",
       "        vertical-align: top;\n",
       "    }\n",
       "\n",
       "    .dataframe thead th {\n",
       "        text-align: right;\n",
       "    }\n",
       "</style>\n",
       "<table border=\"1\" class=\"dataframe\">\n",
       "  <thead>\n",
       "    <tr style=\"text-align: right;\">\n",
       "      <th></th>\n",
       "      <th>sepal_length</th>\n",
       "      <th>sepal_width</th>\n",
       "      <th>petal_length</th>\n",
       "      <th>petal_width</th>\n",
       "      <th>species</th>\n",
       "    </tr>\n",
       "  </thead>\n",
       "  <tbody>\n",
       "    <tr>\n",
       "      <th>0</th>\n",
       "      <td>5.1</td>\n",
       "      <td>3.5</td>\n",
       "      <td>1.4</td>\n",
       "      <td>0.2</td>\n",
       "      <td>setosa</td>\n",
       "    </tr>\n",
       "    <tr>\n",
       "      <th>1</th>\n",
       "      <td>4.9</td>\n",
       "      <td>3.0</td>\n",
       "      <td>1.4</td>\n",
       "      <td>0.2</td>\n",
       "      <td>setosa</td>\n",
       "    </tr>\n",
       "    <tr>\n",
       "      <th>2</th>\n",
       "      <td>4.7</td>\n",
       "      <td>3.2</td>\n",
       "      <td>1.3</td>\n",
       "      <td>0.2</td>\n",
       "      <td>setosa</td>\n",
       "    </tr>\n",
       "    <tr>\n",
       "      <th>3</th>\n",
       "      <td>4.6</td>\n",
       "      <td>3.1</td>\n",
       "      <td>1.5</td>\n",
       "      <td>0.2</td>\n",
       "      <td>setosa</td>\n",
       "    </tr>\n",
       "    <tr>\n",
       "      <th>4</th>\n",
       "      <td>5.0</td>\n",
       "      <td>3.6</td>\n",
       "      <td>1.4</td>\n",
       "      <td>0.2</td>\n",
       "      <td>setosa</td>\n",
       "    </tr>\n",
       "    <tr>\n",
       "      <th>...</th>\n",
       "      <td>...</td>\n",
       "      <td>...</td>\n",
       "      <td>...</td>\n",
       "      <td>...</td>\n",
       "      <td>...</td>\n",
       "    </tr>\n",
       "    <tr>\n",
       "      <th>145</th>\n",
       "      <td>6.7</td>\n",
       "      <td>3.0</td>\n",
       "      <td>5.2</td>\n",
       "      <td>2.3</td>\n",
       "      <td>virginica</td>\n",
       "    </tr>\n",
       "    <tr>\n",
       "      <th>146</th>\n",
       "      <td>6.3</td>\n",
       "      <td>2.5</td>\n",
       "      <td>5.0</td>\n",
       "      <td>1.9</td>\n",
       "      <td>virginica</td>\n",
       "    </tr>\n",
       "    <tr>\n",
       "      <th>147</th>\n",
       "      <td>6.5</td>\n",
       "      <td>3.0</td>\n",
       "      <td>5.2</td>\n",
       "      <td>2.0</td>\n",
       "      <td>virginica</td>\n",
       "    </tr>\n",
       "    <tr>\n",
       "      <th>148</th>\n",
       "      <td>6.2</td>\n",
       "      <td>3.4</td>\n",
       "      <td>5.4</td>\n",
       "      <td>2.3</td>\n",
       "      <td>virginica</td>\n",
       "    </tr>\n",
       "    <tr>\n",
       "      <th>149</th>\n",
       "      <td>5.9</td>\n",
       "      <td>3.0</td>\n",
       "      <td>5.1</td>\n",
       "      <td>1.8</td>\n",
       "      <td>virginica</td>\n",
       "    </tr>\n",
       "  </tbody>\n",
       "</table>\n",
       "<p>150 rows × 5 columns</p>\n",
       "</div>"
      ],
      "text/plain": [
       "     sepal_length  sepal_width  petal_length  petal_width    species\n",
       "0             5.1          3.5           1.4          0.2     setosa\n",
       "1             4.9          3.0           1.4          0.2     setosa\n",
       "2             4.7          3.2           1.3          0.2     setosa\n",
       "3             4.6          3.1           1.5          0.2     setosa\n",
       "4             5.0          3.6           1.4          0.2     setosa\n",
       "..            ...          ...           ...          ...        ...\n",
       "145           6.7          3.0           5.2          2.3  virginica\n",
       "146           6.3          2.5           5.0          1.9  virginica\n",
       "147           6.5          3.0           5.2          2.0  virginica\n",
       "148           6.2          3.4           5.4          2.3  virginica\n",
       "149           5.9          3.0           5.1          1.8  virginica\n",
       "\n",
       "[150 rows x 5 columns]"
      ]
     },
     "execution_count": 35,
     "metadata": {},
     "output_type": "execute_result"
    }
   ],
   "source": [
    "#When more and more NaNs \n",
    "#overfitting and overfiting fundamental \n",
    "iris.fillna(-1) #value which we do not hae in range of value (doesnt exits): out of, mean,mode,median, value which before or after mission value \n",
    "#or you can fill the string \n",
    "#note taht to save value we can repalce the nall value by using fillna(value) value=serial.mean..median\n",
    "#thay bawfg gia tri phia sau -1 phia truoc 1"
   ]
  },
  {
   "cell_type": "code",
   "execution_count": 37,
   "id": "d8361349-5ace-4a82-a938-001a95574094",
   "metadata": {},
   "outputs": [
    {
     "name": "stdout",
     "output_type": "stream",
     "text": [
      "<class 'pandas.core.frame.DataFrame'>\n",
      "Int64Index: 150 entries, 0 to 149\n",
      "Data columns (total 5 columns):\n",
      " #   Column        Non-Null Count  Dtype  \n",
      "---  ------        --------------  -----  \n",
      " 0   sepal_length  150 non-null    float64\n",
      " 1   sepal_width   150 non-null    float64\n",
      " 2   petal_length  150 non-null    float64\n",
      " 3   petal_width   150 non-null    float64\n",
      " 4   species       150 non-null    object \n",
      "dtypes: float64(4), object(1)\n",
      "memory usage: 7.0+ KB\n"
     ]
    },
    {
     "data": {
      "text/html": [
       "<div>\n",
       "<style scoped>\n",
       "    .dataframe tbody tr th:only-of-type {\n",
       "        vertical-align: middle;\n",
       "    }\n",
       "\n",
       "    .dataframe tbody tr th {\n",
       "        vertical-align: top;\n",
       "    }\n",
       "\n",
       "    .dataframe thead th {\n",
       "        text-align: right;\n",
       "    }\n",
       "</style>\n",
       "<table border=\"1\" class=\"dataframe\">\n",
       "  <thead>\n",
       "    <tr style=\"text-align: right;\">\n",
       "      <th></th>\n",
       "      <th>sepal_length</th>\n",
       "      <th>sepal_width</th>\n",
       "      <th>petal_length</th>\n",
       "      <th>petal_width</th>\n",
       "    </tr>\n",
       "  </thead>\n",
       "  <tbody>\n",
       "    <tr>\n",
       "      <th>sepal_length</th>\n",
       "      <td>1.000000</td>\n",
       "      <td>-0.117570</td>\n",
       "      <td>0.871754</td>\n",
       "      <td>0.817941</td>\n",
       "    </tr>\n",
       "    <tr>\n",
       "      <th>sepal_width</th>\n",
       "      <td>-0.117570</td>\n",
       "      <td>1.000000</td>\n",
       "      <td>-0.428440</td>\n",
       "      <td>-0.366126</td>\n",
       "    </tr>\n",
       "    <tr>\n",
       "      <th>petal_length</th>\n",
       "      <td>0.871754</td>\n",
       "      <td>-0.428440</td>\n",
       "      <td>1.000000</td>\n",
       "      <td>0.962865</td>\n",
       "    </tr>\n",
       "    <tr>\n",
       "      <th>petal_width</th>\n",
       "      <td>0.817941</td>\n",
       "      <td>-0.366126</td>\n",
       "      <td>0.962865</td>\n",
       "      <td>1.000000</td>\n",
       "    </tr>\n",
       "  </tbody>\n",
       "</table>\n",
       "</div>"
      ],
      "text/plain": [
       "              sepal_length  sepal_width  petal_length  petal_width\n",
       "sepal_length      1.000000    -0.117570      0.871754     0.817941\n",
       "sepal_width      -0.117570     1.000000     -0.428440    -0.366126\n",
       "petal_length      0.871754    -0.428440      1.000000     0.962865\n",
       "petal_width       0.817941    -0.366126      0.962865     1.000000"
      ]
     },
     "execution_count": 37,
     "metadata": {},
     "output_type": "execute_result"
    }
   ],
   "source": [
    "iris.info()\n",
    "iris.shape\n",
    "iris.head()\n",
    "iris.tail()\n",
    "iris.sample(5)#check 5 random\n",
    "#correrlation : help the realation between our data max =1 (same)\n"
   ]
  },
  {
   "cell_type": "code",
   "execution_count": 38,
   "id": "11e9144a-1802-48a6-8138-cf62dc9ff221",
   "metadata": {},
   "outputs": [
    {
     "data": {
      "text/html": [
       "<div>\n",
       "<style scoped>\n",
       "    .dataframe tbody tr th:only-of-type {\n",
       "        vertical-align: middle;\n",
       "    }\n",
       "\n",
       "    .dataframe tbody tr th {\n",
       "        vertical-align: top;\n",
       "    }\n",
       "\n",
       "    .dataframe thead th {\n",
       "        text-align: right;\n",
       "    }\n",
       "</style>\n",
       "<table border=\"1\" class=\"dataframe\">\n",
       "  <thead>\n",
       "    <tr style=\"text-align: right;\">\n",
       "      <th></th>\n",
       "      <th>sepal_length</th>\n",
       "      <th>sepal_width</th>\n",
       "      <th>petal_length</th>\n",
       "      <th>petal_width</th>\n",
       "    </tr>\n",
       "  </thead>\n",
       "  <tbody>\n",
       "    <tr>\n",
       "      <th>sepal_length</th>\n",
       "      <td>1.000000</td>\n",
       "      <td>-0.117570</td>\n",
       "      <td>0.871754</td>\n",
       "      <td>0.817941</td>\n",
       "    </tr>\n",
       "    <tr>\n",
       "      <th>sepal_width</th>\n",
       "      <td>-0.117570</td>\n",
       "      <td>1.000000</td>\n",
       "      <td>-0.428440</td>\n",
       "      <td>-0.366126</td>\n",
       "    </tr>\n",
       "    <tr>\n",
       "      <th>petal_length</th>\n",
       "      <td>0.871754</td>\n",
       "      <td>-0.428440</td>\n",
       "      <td>1.000000</td>\n",
       "      <td>0.962865</td>\n",
       "    </tr>\n",
       "    <tr>\n",
       "      <th>petal_width</th>\n",
       "      <td>0.817941</td>\n",
       "      <td>-0.366126</td>\n",
       "      <td>0.962865</td>\n",
       "      <td>1.000000</td>\n",
       "    </tr>\n",
       "  </tbody>\n",
       "</table>\n",
       "</div>"
      ],
      "text/plain": [
       "              sepal_length  sepal_width  petal_length  petal_width\n",
       "sepal_length      1.000000    -0.117570      0.871754     0.817941\n",
       "sepal_width      -0.117570     1.000000     -0.428440    -0.366126\n",
       "petal_length      0.871754    -0.428440      1.000000     0.962865\n",
       "petal_width       0.817941    -0.366126      0.962865     1.000000"
      ]
     },
     "execution_count": 38,
     "metadata": {},
     "output_type": "execute_result"
    }
   ],
   "source": [
    "iris.corr() "
   ]
  },
  {
   "cell_type": "markdown",
   "id": "e06715bb-3e96-40a9-82b3-08cd93c62922",
   "metadata": {},
   "source": [
    "We have to check the missing value as much as possible "
   ]
  },
  {
   "cell_type": "markdown",
   "id": "f07f95b8-3669-460f-9491-b0ef691489ae",
   "metadata": {},
   "source": [
    "#### 4.3.2 Visualization"
   ]
  },
  {
   "cell_type": "code",
   "execution_count": 47,
   "id": "9e53a89b-8418-48a0-b7e7-31412788b51f",
   "metadata": {},
   "outputs": [
    {
     "data": {
      "text/plain": [
       "<AxesSubplot:>"
      ]
     },
     "execution_count": 47,
     "metadata": {},
     "output_type": "execute_result"
    },
    {
     "data": {
      "image/png": "[encoded data removed]",
      "text/plain": [
       "<Figure size 432x288 with 2 Axes>"
      ]
     },
     "metadata": {
      "needs_background": "light"
     },
     "output_type": "display_data"
    }
   ],
   "source": [
    "#sns.heatmap(iris.corr(), annot = True);\n",
    "#check relation between them basing on heatmap\n",
    "#inteads of showing the correrlation we can check basing on \n",
    "sns.heatmap(iris.corr(), annot = True)"
   ]
  },
  {
   "cell_type": "code",
   "execution_count": 48,
   "id": "ac4cef7e-4539-470f-adad-277e6f5edbdb",
   "metadata": {},
   "outputs": [
    {
     "data": {
      "image/png": "[encoded data removed]",
      "text/plain": [
       "<Figure size 432x288 with 1 Axes>"
      ]
     },
     "metadata": {},
     "output_type": "display_data"
    }
   ],
   "source": [
    "species = iris['species'].value_counts()\n",
    "plt.pie(species, labels =species.index, autopct='%.2f%%',explode=[0,0.1,0]);\n",
    "#disk showing"
   ]
  },
  {
   "cell_type": "code",
   "execution_count": 56,
   "id": "87f7f975-007a-423b-8f20-7d796f75f851",
   "metadata": {},
   "outputs": [
    {
     "data": {
      "text/plain": [
       "Text(0.5, 1.0, 'The bar chart of Species')"
      ]
     },
     "execution_count": 56,
     "metadata": {},
     "output_type": "execute_result"
    },
    {
     "data": {
      "image/png": "[encoded data removed]",
      "text/plain": [
       "<Figure size 360x360 with 1 Axes>"
      ]
     },
     "metadata": {
      "needs_background": "light"
     },
     "output_type": "display_data"
    }
   ],
   "source": [
    "plt.figure(figsize = (5,5))\n",
    "species.plot(kind='bar'); #using pandas;\n",
    "plt.title(\"The bar chart of Species\")"
   ]
  },
  {
   "cell_type": "code",
   "execution_count": 75,
   "id": "b71a14ff-427f-406e-a278-9aa54821a0e1",
   "metadata": {},
   "outputs": [
    {
     "data": {
      "text/plain": [
       "<AxesSubplot:ylabel='Frequency'>"
      ]
     },
     "execution_count": 75,
     "metadata": {},
     "output_type": "execute_result"
    },
    {
     "data": {
      "image/png": "[encoded data removed]",
      "text/plain": [
       "<Figure size 432x288 with 1 Axes>"
      ]
     },
     "metadata": {
      "needs_background": "light"
     },
     "output_type": "display_data"
    }
   ],
   "source": [
    "iris.plot(kind='hist')"
   ]
  },
  {
   "cell_type": "code",
   "execution_count": 81,
   "id": "bf29a27e-1379-4fb7-9bc0-4b24ca3661f0",
   "metadata": {},
   "outputs": [
    {
     "data": {
      "image/png": "[encoded data removed]",
      "text/plain": [
       "<Figure size 720x720 with 4 Axes>"
      ]
     },
     "metadata": {
      "needs_background": "light"
     },
     "output_type": "display_data"
    }
   ],
   "source": [
    "iris.hist(figsize=(10,10));"
   ]
  },
  {
   "cell_type": "code",
   "execution_count": 60,
   "id": "0ee5e4bc-d8b8-4421-b50b-7e4ee0178ff5",
   "metadata": {},
   "outputs": [
    {
     "data": {
      "image/png": "[encoded data removed]",
      "text/plain": [
       "<Figure size 432x288 with 1 Axes>"
      ]
     },
     "metadata": {
      "needs_background": "light"
     },
     "output_type": "display_data"
    }
   ],
   "source": [
    "sns.boxplot(data = iris,width = 0.2);"
   ]
  },
  {
   "cell_type": "code",
   "execution_count": 85,
   "id": "5319735d-b208-4aa9-90b8-095343a65863",
   "metadata": {},
   "outputs": [],
   "source": [
    "#min max median 25% and 75%\n",
    "#We have noise and alier at sepal with "
   ]
  },
  {
   "cell_type": "code",
   "execution_count": 86,
   "id": "eae6c555-8bd8-4162-9489-8ff8f3047fda",
   "metadata": {},
   "outputs": [],
   "source": [
    "#scatterplot"
   ]
  },
  {
   "cell_type": "code",
   "execution_count": 87,
   "id": "aae5a310-668a-45fa-a142-2403a5a492aa",
   "metadata": {},
   "outputs": [],
   "source": [
    "#pairplot() as correlation "
   ]
  },
  {
   "cell_type": "code",
   "execution_count": 62,
   "id": "7fd931f0-f70e-4d47-a874-ca8b57b3f136",
   "metadata": {},
   "outputs": [
    {
     "data": {
      "image/png": "[encoded data removed]",
      "text/plain": [
       "<Figure size 804.75x720 with 20 Axes>"
      ]
     },
     "metadata": {
      "needs_background": "light"
     },
     "output_type": "display_data"
    }
   ],
   "source": [
    "sns.pairplot(data = iris, hue = 'species');"
   ]
  },
  {
   "cell_type": "code",
   "execution_count": 91,
   "id": "a4e4fb8d-23ff-4afd-90b1-f95bb6ff417c",
   "metadata": {},
   "outputs": [],
   "source": [
    "# We have to vizulize to validate the data firtly "
   ]
  },
  {
   "cell_type": "markdown",
   "id": "1a925cba-61bc-4248-8ca8-f04a0790d7ea",
   "metadata": {},
   "source": [
    "### 4.4 Model"
   ]
  },
  {
   "cell_type": "markdown",
   "id": "141e869b-add9-4877-89b0-5e8b7a9192ad",
   "metadata": {},
   "source": [
    "Model should have \n",
    "- Train samples\n",
    "- Test smaples\n",
    "\n",
    "- Ratio: 7/3,8/2,8.5/1.5 (normally) \n"
   ]
  },
  {
   "cell_type": "markdown",
   "id": "0cc17902-4bc2-4a4a-8f85-555ad7d10dd0",
   "metadata": {},
   "source": [
    "#### 4.4.1 Train test plit"
   ]
  },
  {
   "cell_type": "code",
   "execution_count": 66,
   "id": "205951b8-957c-4168-bf34-de27977e3d32",
   "metadata": {},
   "outputs": [],
   "source": [
    "from sklearn.model_selection import train_test_split"
   ]
  },
  {
   "cell_type": "code",
   "execution_count": 67,
   "id": "92c90fcd-dc1c-441c-97bc-6cb9e4b1977c",
   "metadata": {},
   "outputs": [
    {
     "data": {
      "text/plain": [
       "Index(['sepal_length', 'sepal_width', 'petal_length', 'petal_width',\n",
       "       'species'],\n",
       "      dtype='object')"
      ]
     },
     "execution_count": 67,
     "metadata": {},
     "output_type": "execute_result"
    }
   ],
   "source": [
    "iris.columns"
   ]
  },
  {
   "cell_type": "code",
   "execution_count": 74,
   "id": "03ee34fa-109f-4ccc-a2d1-f0f5daceba1f",
   "metadata": {},
   "outputs": [],
   "source": [
    "X_iris = iris.drop(columns = 'species')\n",
    "# X_irris = irris.drop"
   ]
  },
  {
   "cell_type": "code",
   "execution_count": 75,
   "id": "4dbedf98-2851-4256-8968-6b7aab997e2f",
   "metadata": {},
   "outputs": [],
   "source": [
    "Y_iris = iris['species']"
   ]
  },
  {
   "cell_type": "code",
   "execution_count": 76,
   "id": "45a5a285-6f6a-4af6-9645-8ed4d84b2bc3",
   "metadata": {},
   "outputs": [],
   "source": [
    "#spearate the train data and test data\n",
    "x_train, x_test, y_train, y_test = train_test_split(X_iris,Y_iris, test_size=0.2, random_state = 42) #42 just random and pls keep it until done"
   ]
  },
  {
   "cell_type": "markdown",
   "id": "ec043190-7ac2-4ecc-b471-6fa09ed4a30e",
   "metadata": {},
   "source": [
    "#### 4.4.2 Train model"
   ]
  },
  {
   "cell_type": "code",
   "execution_count": 77,
   "id": "c8df2b60-40f0-4cfc-8a9e-e1ad58443050",
   "metadata": {},
   "outputs": [],
   "source": [
    "from sklearn.linear_model import LogisticRegression # Select model \n",
    "from sklearn.svm import SVC # find the hyper plate to separate the data which we need Để phân cách các dữ liệu từ các nhan khác nhau"
   ]
  },
  {
   "cell_type": "code",
   "execution_count": 80,
   "id": "b03c3425-685f-4708-b7a9-e7a9ab409856",
   "metadata": {},
   "outputs": [],
   "source": [
    "#Create the model instance\n",
    "model1_logisticregression= LogisticRegression(max_iter =1000)\n",
    "model1_svc = SVC()"
   ]
  },
  {
   "cell_type": "code",
   "execution_count": 82,
   "id": "051d0014-c7fc-43bf-ab03-15c07a9d574b",
   "metadata": {},
   "outputs": [
    {
     "data": {
      "text/plain": [
       "SVC()"
      ]
     },
     "execution_count": 82,
     "metadata": {},
     "output_type": "execute_result"
    }
   ],
   "source": [
    "#Fit data into model \n",
    "model1_logisticregression.fit(x_train,y_train)\n",
    "model1_svc.fit(x_train,y_train)"
   ]
  },
  {
   "cell_type": "markdown",
   "id": "16f14e59-79f7-4c6e-81fd-8935dc7de294",
   "metadata": {},
   "source": [
    "#### 4.4.2 Predict model"
   ]
  },
  {
   "cell_type": "code",
   "execution_count": 88,
   "id": "c68b9982-7b71-4bd1-a397-2f5a3d25e794",
   "metadata": {},
   "outputs": [
    {
     "data": {
      "text/plain": [
       "array(['versicolor', 'setosa', 'virginica', 'versicolor', 'versicolor',\n",
       "       'setosa', 'versicolor', 'virginica', 'versicolor', 'versicolor',\n",
       "       'virginica', 'setosa', 'setosa', 'setosa', 'setosa', 'versicolor',\n",
       "       'virginica', 'versicolor', 'versicolor', 'virginica', 'setosa',\n",
       "       'virginica', 'setosa', 'virginica', 'virginica', 'virginica',\n",
       "       'virginica', 'virginica', 'setosa', 'setosa'], dtype=object)"
      ]
     },
     "execution_count": 88,
     "metadata": {},
     "output_type": "execute_result"
    }
   ],
   "source": [
    "y_pred_logisticregression = model1_logisticregression.predict(x_test)\n",
    "y_pred_logisticregression\n",
    "y_pred_svc = model1_logisticregression.predict(x_test)\n",
    "y_pred_svc"
   ]
  },
  {
   "cell_type": "code",
   "execution_count": 94,
   "id": "682f6273-bec1-4b93-970f-86cd2dd2b812",
   "metadata": {},
   "outputs": [],
   "source": [
    "from sklearn.metrics import accuracy_score, confusion_matrix,plot_confusion_matrix,classification_report#precission recall and f1-score"
   ]
  },
  {
   "cell_type": "code",
   "execution_count": 90,
   "id": "fdc6b343-4eaf-4e59-9eff-0c2639ada4c8",
   "metadata": {},
   "outputs": [
    {
     "data": {
      "text/plain": [
       "1.0"
      ]
     },
     "execution_count": 90,
     "metadata": {},
     "output_type": "execute_result"
    }
   ],
   "source": [
    "accuracy_score(ytest,y_pred_svc)"
   ]
  },
  {
   "cell_type": "code",
   "execution_count": 91,
   "id": "e9e62e06-0528-40fa-bcd8-398defd86e2f",
   "metadata": {},
   "outputs": [
    {
     "data": {
      "text/plain": [
       "array([[10,  0,  0],\n",
       "       [ 0,  9,  0],\n",
       "       [ 0,  0, 11]])"
      ]
     },
     "execution_count": 91,
     "metadata": {},
     "output_type": "execute_result"
    }
   ],
   "source": [
    "confusion_matrix(ytest,y_pred_svc)"
   ]
  },
  {
   "cell_type": "code",
   "execution_count": 95,
   "id": "d81c8370-971a-4e5d-b509-12e7a1a9b0e8",
   "metadata": {},
   "outputs": [
    {
     "data": {
      "text/plain": [
       "<Figure size 1440x720 with 0 Axes>"
      ]
     },
     "metadata": {},
     "output_type": "display_data"
    },
    {
     "data": {
      "image/png": "[encoded data removed]",
      "text/plain": [
       "<Figure size 432x288 with 2 Axes>"
      ]
     },
     "metadata": {
      "needs_background": "light"
     },
     "output_type": "display_data"
    }
   ],
   "source": [
    "#Confusion matrix để xem đã ntn\n",
    "plt.figure(figsize= (20,10))\n",
    "plot_confusion_matrix(model1_svc,x_test,y_test);"
   ]
  },
  {
   "cell_type": "code",
   "execution_count": 96,
   "id": "57b91459-f9e1-4b67-a607-c63eabefb647",
   "metadata": {},
   "outputs": [
    {
     "name": "stdout",
     "output_type": "stream",
     "text": [
      "              precision    recall  f1-score   support\n",
      "\n",
      "      setosa       1.00      1.00      1.00        10\n",
      "  versicolor       1.00      1.00      1.00         9\n",
      "   virginica       1.00      1.00      1.00        11\n",
      "\n",
      "    accuracy                           1.00        30\n",
      "   macro avg       1.00      1.00      1.00        30\n",
      "weighted avg       1.00      1.00      1.00        30\n",
      "\n"
     ]
    }
   ],
   "source": [
    "print(classification_report(ytest,y_pred_svc))"
   ]
  },
  {
   "cell_type": "markdown",
   "id": "2d3e6c52-7ee5-4e10-9429-91c48a4772e8",
   "metadata": {},
   "source": [
    "https://scikit-learn.org/stable/supervised_learning.html#supervised-learning"
   ]
  },
  {
   "cell_type": "markdown",
   "id": "703c2745-d02e-46da-9e90-f65c02e75c76",
   "metadata": {},
   "source": [
    "## NEXT LESSION: Real-life case study with **CREDIT SCORING**"
   ]
  },
  {
   "cell_type": "code",
   "execution_count": 164,
   "id": "d5af5290-f463-4dfb-8efe-139ac216b874",
   "metadata": {},
   "outputs": [],
   "source": [
    "# Ensemble - many model or combine which we need to do?"
   ]
  },
  {
   "cell_type": "markdown",
   "id": "f5a57b73-019e-4e34-80a7-30911a8d1b4d",
   "metadata": {},
   "source": [
    "**FLASK**"
   ]
  },
  {
   "cell_type": "code",
   "execution_count": 166,
   "id": "86e45941-7d89-4641-a3c9-b7662ff1880d",
   "metadata": {},
   "outputs": [
    {
     "name": "stdout",
     "output_type": "stream",
     "text": [
      "Collecting flask\n",
      "  Downloading Flask-2.0.1-py3-none-any.whl (94 kB)\n",
      "\u001b[K     |████████████████████████████████| 94 kB 6.4 kB/s eta 0:00:01\n",
      "\u001b[?25hRequirement already satisfied: Jinja2>=3.0 in /opt/anaconda3/envs/anthony/lib/python3.7/site-packages (from flask) (3.0.0)\n",
      "Collecting click>=7.1.2\n",
      "  Downloading click-8.0.1-py3-none-any.whl (97 kB)\n",
      "\u001b[K     |████████████████████████████████| 97 kB 8.6 kB/s eta 0:00:01\n",
      "\u001b[?25hCollecting Werkzeug>=2.0\n",
      "  Downloading Werkzeug-2.0.1-py3-none-any.whl (288 kB)\n",
      "\u001b[K     |████████████████████████████████| 288 kB 13 kB/s eta 0:00:01\n",
      "\u001b[?25hCollecting itsdangerous>=2.0\n",
      "  Downloading itsdangerous-2.0.1-py3-none-any.whl (18 kB)\n",
      "Requirement already satisfied: importlib-metadata in /opt/anaconda3/envs/anthony/lib/python3.7/site-packages (from click>=7.1.2->flask) (3.10.0)\n",
      "Requirement already satisfied: MarkupSafe>=2.0.0rc2 in /opt/anaconda3/envs/anthony/lib/python3.7/site-packages (from Jinja2>=3.0->flask) (2.0.1)\n",
      "Requirement already satisfied: typing-extensions>=3.6.4 in /opt/anaconda3/envs/anthony/lib/python3.7/site-packages (from importlib-metadata->click>=7.1.2->flask) (3.7.4.3)\n",
      "Requirement already satisfied: zipp>=0.5 in /opt/anaconda3/envs/anthony/lib/python3.7/site-packages (from importlib-metadata->click>=7.1.2->flask) (3.4.1)\n",
      "Installing collected packages: Werkzeug, itsdangerous, click, flask\n",
      "Successfully installed Werkzeug-2.0.1 click-8.0.1 flask-2.0.1 itsdangerous-2.0.1\n"
     ]
    }
   ],
   "source": [
    "! pip install flask"
   ]
  },
  {
   "cell_type": "markdown",
   "id": "bde5ab9f-0256-43f6-8a9c-3e8a5f6cfe21",
   "metadata": {},
   "source": [
    "https://flask.palletsprojects.com/en/2.0.x/#additional-notes"
   ]
  },
  {
   "cell_type": "code",
   "execution_count": 183,
   "id": "7f0ae021-0d2a-4a8a-99ae-3593015d866b",
   "metadata": {},
   "outputs": [
    {
     "name": "stdout",
     "output_type": "stream",
     "text": [
      "Collecting docker\n",
      "  Downloading docker-5.0.0-py2.py3-none-any.whl (146 kB)\n",
      "\u001b[K     |████████████████████████████████| 146 kB 16 kB/s eta 0:00:014\n",
      "\u001b[?25hCollecting websocket-client>=0.32.0\n",
      "  Downloading websocket_client-1.1.0-py2.py3-none-any.whl (68 kB)\n",
      "\u001b[K     |████████████████████████████████| 68 kB 35 kB/s eta 0:00:01\n",
      "\u001b[?25hRequirement already satisfied: requests!=2.18.0,>=2.14.2 in /opt/anaconda3/envs/anthony/lib/python3.7/site-packages (from docker) (2.25.1)\n",
      "Requirement already satisfied: urllib3<1.27,>=1.21.1 in /opt/anaconda3/envs/anthony/lib/python3.7/site-packages (from requests!=2.18.0,>=2.14.2->docker) (1.26.4)\n",
      "Requirement already satisfied: certifi>=2017.4.17 in /opt/anaconda3/envs/anthony/lib/python3.7/site-packages (from requests!=2.18.0,>=2.14.2->docker) (2021.5.30)\n",
      "Requirement already satisfied: idna<3,>=2.5 in /opt/anaconda3/envs/anthony/lib/python3.7/site-packages (from requests!=2.18.0,>=2.14.2->docker) (2.10)\n",
      "Requirement already satisfied: chardet<5,>=3.0.2 in /opt/anaconda3/envs/anthony/lib/python3.7/site-packages (from requests!=2.18.0,>=2.14.2->docker) (4.0.0)\n",
      "Installing collected packages: websocket-client, docker\n",
      "Successfully installed docker-5.0.0 websocket-client-1.1.0\n"
     ]
    }
   ],
   "source": [
    "!pip install docker"
   ]
  },
  {
   "cell_type": "code",
   "execution_count": 2,
   "id": "934ecff3-edad-4de1-884a-c87784394651",
   "metadata": {},
   "outputs": [
    {
     "name": "stdout",
     "output_type": "stream",
     "text": [
      " * Serving Flask app '__main__' (lazy loading)\n",
      " * Environment: production\n",
      "\u001b[31m   WARNING: This is a development server. Do not use it in a production deployment.\u001b[0m\n",
      "\u001b[2m   Use a production WSGI server instead.\u001b[0m\n",
      " * Debug mode: off\n"
     ]
    },
    {
     "name": "stderr",
     "output_type": "stream",
     "text": [
      " * Running on http://127.0.0.1:5000/ (Press CTRL+C to quit)\n"
     ]
    }
   ],
   "source": [
    "from flask import Flask\n",
    "\n",
    "app = Flask(__name__)\n",
    "\n",
    "\n",
    "@app.route('/')\n",
    "def hello():\n",
    "    return 'Hello, World!'\n",
    "\n",
    "if '__main__' == __name__:\n",
    "    app.run()\n",
    "    "
   ]
  },
  {
   "cell_type": "markdown",
   "id": "9bc379f6-bfed-4461-afe0-cdc21c4a09a9",
   "metadata": {},
   "source": [
    "Howwver normally we will use sreamlit for flaship application and more and more amazing data base showed."
   ]
  }
 ],
 "metadata": {
  "kernelspec": {
   "display_name": "Python 3",
   "language": "python",
   "name": "python3"
  },
  "language_info": {
   "codemirror_mode": {
    "name": "ipython",
    "version": 3
   },
   "file_extension": ".py",
   "mimetype": "text/x-python",
   "name": "python",
   "nbconvert_exporter": "python",
   "pygments_lexer": "ipython3",
   "version": "3.7.0"
  }
 },
 "nbformat": 4,
 "nbformat_minor": 5
}
