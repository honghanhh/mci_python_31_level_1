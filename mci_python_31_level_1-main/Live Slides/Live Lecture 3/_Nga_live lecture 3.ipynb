{
 "cells": [
  {
   "cell_type": "code",
   "execution_count": null,
   "id": "402b6733-088d-4b9d-ac5e-5f1a16044567",
   "metadata": {},
   "outputs": [],
   "source": [
    "#Dat's solution\n",
    "x = input(\"Enter the value you wanna make the N!:\")\n",
    "value = 1\n",
    "for i in range(1,int(x)+1):\n",
    "    value = value * i\n",
    "# final = value * int(x)\n",
    "print(final)"
   ]
  },
  {
   "cell_type": "code",
   "execution_count": null,
   "id": "02e28f75-3905-4e01-8c1d-9d5d4720a19a",
   "metadata": {},
   "outputs": [],
   "source": [
    "#Long's solution\n",
    "n=8\n",
    "a=1\n",
    "for i in range(1,n+1):\n",
    "    print(i)\n",
    "    a=a*i\n",
    "    # a *= i"
   ]
  },
  {
   "cell_type": "code",
   "execution_count": null,
   "id": "768a5343-4440-489d-8d9d-1c0126f82371",
   "metadata": {},
   "outputs": [],
   "source": []
  },
  {
   "cell_type": "code",
   "execution_count": null,
   "id": "dc7e5f49-1e3b-4123-a7e8-58b5d63d66ff",
   "metadata": {},
   "outputs": [],
   "source": [
    "def tinhgiaithua(n):\n",
    "    giai_thua = 1;\n",
    "    if (n == 0 or n == 1):\n",
    "        return giai_thua;\n",
    "    else:\n",
    "        for i in range(2, n + 1):\n",
    "            giai_thua = giai_thua * i;\n",
    "        return giai_thua;\n",
    " \n",
    "n = int(input(\"Nhập số nguyên dương n = \"));\n",
    "print(\"Giai thừa của\", n, \"là\", tinhgiaithua(n));"
   ]
  },
  {
   "cell_type": "code",
   "execution_count": null,
   "id": "803b5a17-8056-4118-9e08-514e1f1cb263",
   "metadata": {},
   "outputs": [],
   "source": [
    "#Long's solution\n",
    "n=8\n",
    "a=1\n",
    "for i in range(1,n+1):\n",
    "    print(i)\n",
    "    a=a*i\n",
    "    # a *= i"
   ]
  },
  {
   "cell_type": "code",
   "execution_count": null,
   "id": "f310dc4a-87b1-4521-9411-465b66f5ad36",
   "metadata": {},
   "outputs": [],
   "source": [
    "li2 = [] #empty list\n",
    "for idx in range(len(li)):\n",
    "         li2.append(li[idx]**2)"
   ]
  }
 ],
 "metadata": {
  "kernelspec": {
   "display_name": "Python 3",
   "language": "python",
   "name": "python3"
  },
  "language_info": {
   "codemirror_mode": {
    "name": "ipython",
    "version": 3
   },
   "file_extension": ".py",
   "mimetype": "text/x-python",
   "name": "python",
   "nbconvert_exporter": "python",
   "pygments_lexer": "ipython3",
   "version": "3.7.10"
  }
 },
 "nbformat": 4,
 "nbformat_minor": 5
}
