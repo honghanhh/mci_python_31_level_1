{
 "cells": [
  {
   "cell_type": "markdown",
   "id": "93c90ec2",
   "metadata": {
    "tags": []
   },
   "source": [
    "# <center> LESSION 4 Introduction To Numpy </center>"
   ]
  },
  {
   "cell_type": "markdown",
   "id": "a04c6e5d",
   "metadata": {},
   "source": [
    "##  1. INTRODOCTION "
   ]
  },
  {
   "cell_type": "markdown",
   "id": "94b22d96",
   "metadata": {},
   "source": [
    "![](data:image/png;base64,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)"
   ]
  },
  {
   "cell_type": "markdown",
   "id": "b93d7a8a",
   "metadata": {},
   "source": [
    "**NumPY**(Numerical Python) = multidimensional array + matrix data structure\n",
    "Numpy github: https://github.com/numpy/numpy"
   ]
  },
  {
   "cell_type": "markdown",
   "id": "6d4d162b",
   "metadata": {},
   "source": [
    "## 1.1 Installtion \n",
    "- Install when creating a virtual/conda enviroment \n",
    "- conda create -n name_which_you_wanna python=3.7 numpy pandas...\n",
    "- when you miss to install them you can consider in our enviroment with: conda install ...\n",
    "- To list all the libs which we are using you can consider conda frezee requirement.txt"
   ]
  },
  {
   "cell_type": "code",
   "execution_count": 1,
   "id": "138ca67b",
   "metadata": {},
   "outputs": [
    {
     "name": "stdout",
     "output_type": "stream",
     "text": [
      "Requirement already satisfied: numpy in /opt/anaconda3/lib/python3.8/site-packages (1.19.5)\n"
     ]
    }
   ],
   "source": [
    "!pip install numpy"
   ]
  },
  {
   "cell_type": "code",
   "execution_count": 2,
   "id": "5c574925",
   "metadata": {},
   "outputs": [],
   "source": [
    "#!pip install scikit-learn #use for basic machine learnin"
   ]
  },
  {
   "cell_type": "code",
   "execution_count": 3,
   "id": "66a125dd",
   "metadata": {},
   "outputs": [
    {
     "name": "stdout",
     "output_type": "stream",
     "text": [
      "Requirement already satisfied: numpy in /opt/anaconda3/lib/python3.8/site-packages (1.19.5)\n"
     ]
    }
   ],
   "source": [
    "!pip install numpy"
   ]
  },
  {
   "cell_type": "markdown",
   "id": "014162ec",
   "metadata": {},
   "source": [
    "Ref: https://www.anaconda.com/blog/understanding-conda-and-pip\n"
   ]
  },
  {
   "cell_type": "markdown",
   "id": "b6a30f2b",
   "metadata": {},
   "source": [
    "## 1.2 Import"
   ]
  },
  {
   "cell_type": "code",
   "execution_count": 1,
   "id": "0022f5d2",
   "metadata": {},
   "outputs": [],
   "source": [
    "import numpy as np"
   ]
  },
  {
   "cell_type": "markdown",
   "id": "9d0b47fb",
   "metadata": {},
   "source": [
    "## 1.3 Why we use Numpy"
   ]
  },
  {
   "cell_type": "code",
   "execution_count": 2,
   "id": "ada6dadf",
   "metadata": {},
   "outputs": [],
   "source": [
    "#Have to learn scikit-learn well for machinelearning "
   ]
  },
  {
   "cell_type": "code",
   "execution_count": 3,
   "id": "4a01539f",
   "metadata": {},
   "outputs": [],
   "source": [
    "#Datasctucture on python: list,tuple,set,class,fuction..."
   ]
  },
  {
   "cell_type": "code",
   "execution_count": 4,
   "id": "49a8bfd2",
   "metadata": {},
   "outputs": [
    {
     "data": {
      "text/plain": [
       "[1, 2, 3, 3, 4, 5]"
      ]
     },
     "execution_count": 4,
     "metadata": {},
     "output_type": "execute_result"
    }
   ],
   "source": [
    "li = [1,2,3]\n",
    "li1 = [3,4,5]\n",
    "li+li1 #means that we add 2 list together "
   ]
  },
  {
   "cell_type": "code",
   "execution_count": 6,
   "id": "5435dffb",
   "metadata": {},
   "outputs": [
    {
     "data": {
      "text/plain": [
       "array([1, 2, 3])"
      ]
     },
     "execution_count": 6,
     "metadata": {},
     "output_type": "execute_result"
    }
   ],
   "source": [
    "np.array(li)#support for neuronnetwork"
   ]
  },
  {
   "cell_type": "code",
   "execution_count": 7,
   "id": "407be4ac",
   "metadata": {},
   "outputs": [
    {
     "data": {
      "text/plain": [
       "array([5, 7, 9])"
      ]
     },
     "execution_count": 7,
     "metadata": {},
     "output_type": "execute_result"
    }
   ],
   "source": [
    "arr = np.array ([1,2,3])\n",
    "arr1= np.array ([4,5,6])\n",
    "arr+arr1"
   ]
  },
  {
   "cell_type": "markdown",
   "id": "d34a690e",
   "metadata": {},
   "source": [
    "**Feature**\n",
    "- Vectorizational value means that we can use mathematic \n",
    "- We can save our memory \n",
    "- Allow our code optimize fast\n",
    "- Broadcasting"
   ]
  },
  {
   "cell_type": "code",
   "execution_count": 8,
   "id": "68a1b69a",
   "metadata": {},
   "outputs": [],
   "source": [
    "#numpy means that vectorlization "
   ]
  },
  {
   "cell_type": "code",
   "execution_count": 9,
   "id": "d288d1e3",
   "metadata": {},
   "outputs": [],
   "source": [
    "#process data quick than list and save the memmory\n",
    "#optimize our code programming with the best memory"
   ]
  },
  {
   "cell_type": "markdown",
   "id": "70ce2390",
   "metadata": {},
   "source": [
    "* **Vectorlization**"
   ]
  },
  {
   "cell_type": "markdown",
   "id": "902e74bf",
   "metadata": {},
   "source": [
    "* **Broadcasting**"
   ]
  },
  {
   "cell_type": "markdown",
   "id": "836b49a4",
   "metadata": {},
   "source": [
    "![](data:image/png;base64,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)"
   ]
  },
  {
   "cell_type": "markdown",
   "id": "3d6ad168",
   "metadata": {},
   "source": [
    "# 2. Bassics of Numpy "
   ]
  },
  {
   "cell_type": "markdown",
   "id": "2ac6e939",
   "metadata": {},
   "source": [
    "'\n",
    "ndarray\n",
    "'= N-Dimenssional Array"
   ]
  },
  {
   "cell_type": "markdown",
   "id": "bf88d9de",
   "metadata": {},
   "source": [
    "- Talk alitle bit about Tensor \n",
    "- 0-D arry: Scalar\n",
    "- 1-D array: Vector \n",
    "- 2-D array: Maxtrix\n",
    "- 3D arrry: Tensor \n",
    "- nD with n>3 array; Tensor also. We will use it alot of time in machine learning"
   ]
  },
  {
   "cell_type": "code",
   "execution_count": 10,
   "id": "bcaf8d01",
   "metadata": {},
   "outputs": [],
   "source": [
    "#When we talk about depplearning we have to know well about Tensor"
   ]
  },
  {
   "cell_type": "markdown",
   "id": "46d6b35f",
   "metadata": {},
   "source": [
    "## 2.1 How to creat a array"
   ]
  },
  {
   "cell_type": "code",
   "execution_count": 11,
   "id": "68eabeab",
   "metadata": {},
   "outputs": [],
   "source": [
    "# np. array () is the way to creat (have to learn)"
   ]
  },
  {
   "cell_type": "code",
   "execution_count": 12,
   "id": "d55d838e",
   "metadata": {},
   "outputs": [],
   "source": [
    "# with list we can add whatever type of element which we wanna do \n",
    "li = [1,2,3,True, False, 'abascbjasc']"
   ]
  },
  {
   "cell_type": "code",
   "execution_count": 13,
   "id": "b0b09a42",
   "metadata": {},
   "outputs": [
    {
     "data": {
      "text/plain": [
       "array(['1', '2', '3', 'True', 'False', 'abascbjasc'], dtype='<U21')"
      ]
     },
     "execution_count": 13,
     "metadata": {},
     "output_type": "execute_result"
    }
   ],
   "source": [
    "#[method for method in dir(np) if not method.startswith('_')]\n",
    "np.array(li)"
   ]
  },
  {
   "cell_type": "code",
   "execution_count": 14,
   "id": "d6b876e4",
   "metadata": {},
   "outputs": [
    {
     "data": {
      "text/plain": [
       "(numpy.int64, numpy.int64, numpy.int64)"
      ]
     },
     "execution_count": 14,
     "metadata": {},
     "output_type": "execute_result"
    }
   ],
   "source": [
    "arr = np.array([1,3,4])\n",
    "type(arr[0]), type(arr[1]),type(arr[2])"
   ]
  },
  {
   "cell_type": "code",
   "execution_count": 15,
   "id": "f238ceb4",
   "metadata": {},
   "outputs": [
    {
     "data": {
      "text/plain": [
       "array(['1', '2', '3', 'True', 'False', 'abascbjasc'], dtype='<U21')"
      ]
     },
     "execution_count": 15,
     "metadata": {},
     "output_type": "execute_result"
    }
   ],
   "source": [
    "arr1 = np.array(li)\n",
    "arr1"
   ]
  },
  {
   "cell_type": "code",
   "execution_count": 16,
   "id": "04d353af",
   "metadata": {},
   "outputs": [
    {
     "data": {
      "text/plain": [
       "<function __main__.<lambda>(x, y)>"
      ]
     },
     "execution_count": 16,
     "metadata": {},
     "output_type": "execute_result"
    }
   ],
   "source": [
    "lambda x,y:x+y"
   ]
  },
  {
   "cell_type": "code",
   "execution_count": 17,
   "id": "f08def2a",
   "metadata": {},
   "outputs": [],
   "source": [
    "def addition(a,b):\n",
    "    '''\n",
    "    Sum of 2 members \n",
    "    Prarameters:\n",
    "    a: First Number\n",
    "    b: Seconda Number\n",
    "    '''\n",
    "    return a+b\n",
    "#Take information aobout Docstring"
   ]
  },
  {
   "cell_type": "markdown",
   "id": "2d80017f",
   "metadata": {},
   "source": [
    "REF:https://github.com/numpy/numpy"
   ]
  },
  {
   "cell_type": "code",
   "execution_count": 18,
   "id": "daf8efb6",
   "metadata": {},
   "outputs": [],
   "source": [
    "arr1 = np.array([1,2,3])# array 1 dimentsion with 3 element"
   ]
  },
  {
   "cell_type": "code",
   "execution_count": 19,
   "id": "22048795",
   "metadata": {},
   "outputs": [
    {
     "name": "stdout",
     "output_type": "stream",
     "text": [
      "Number of demmesion 1\n"
     ]
    }
   ],
   "source": [
    "print('Number of demmesion {}'.format(arr1.ndim))"
   ]
  },
  {
   "cell_type": "code",
   "execution_count": 20,
   "id": "ca5c31a1",
   "metadata": {},
   "outputs": [],
   "source": [
    "arr1 = np.array([[1,2,3],\n",
    "                [2,3,4]])"
   ]
  },
  {
   "cell_type": "code",
   "execution_count": 21,
   "id": "7c8a12ff",
   "metadata": {},
   "outputs": [
    {
     "name": "stdout",
     "output_type": "stream",
     "text": [
      "Number of demmesion (2, 3)\n"
     ]
    }
   ],
   "source": [
    "print('Number of demmesion {}'.format(arr1.shape))"
   ]
  },
  {
   "cell_type": "code",
   "execution_count": 22,
   "id": "364b5b76",
   "metadata": {},
   "outputs": [],
   "source": [
    "#shape show demension and each element in each demmention "
   ]
  },
  {
   "cell_type": "code",
   "execution_count": 23,
   "id": "3c47ead1",
   "metadata": {},
   "outputs": [
    {
     "name": "stdout",
     "output_type": "stream",
     "text": [
      "Number of element 6\n"
     ]
    }
   ],
   "source": [
    "print('Number of element {}'.format(arr1.shape[0]*arr1.shape[1]))"
   ]
  },
  {
   "cell_type": "code",
   "execution_count": 24,
   "id": "a5694237",
   "metadata": {},
   "outputs": [],
   "source": [
    "# Beside np.array()we have np.zeros(), np.ones(),np.full,np.arange(),np.linsapce()"
   ]
  },
  {
   "cell_type": "markdown",
   "id": "3a5ceccd",
   "metadata": {},
   "source": [
    "|Function|Meanings|\n",
    "|-|-|\n",
    "|np.zeros()|An array filled with 0s|\n",
    "|np.ones()|An array filled with 1s|\n",
    "|np.full()|An array filled with 'fill_vlaue|\n",
    "|np.arange()|An array that contains a range of envely sapced intervals|\n",
    "|np.linspace()|Array with values that spaces lineanrly in a speciafied interval|\n",
    "|np.random()|Array with value filled ramdomly|"
   ]
  },
  {
   "cell_type": "code",
   "execution_count": 25,
   "id": "a5be7537",
   "metadata": {},
   "outputs": [
    {
     "data": {
      "text/plain": [
       "array([0., 0., 0.])"
      ]
     },
     "execution_count": 25,
     "metadata": {},
     "output_type": "execute_result"
    }
   ],
   "source": [
    "np.zeros(shape=3)"
   ]
  },
  {
   "cell_type": "code",
   "execution_count": 26,
   "id": "1a43d708",
   "metadata": {},
   "outputs": [
    {
     "data": {
      "text/plain": [
       "array([0., 0., 0.])"
      ]
     },
     "execution_count": 26,
     "metadata": {},
     "output_type": "execute_result"
    }
   ],
   "source": [
    "np.zeros(3)"
   ]
  },
  {
   "cell_type": "code",
   "execution_count": 27,
   "id": "88184496",
   "metadata": {},
   "outputs": [
    {
     "data": {
      "text/plain": [
       "array([[0., 0.],\n",
       "       [0., 0.],\n",
       "       [0., 0.]])"
      ]
     },
     "execution_count": 27,
     "metadata": {},
     "output_type": "execute_result"
    }
   ],
   "source": [
    "np.zeros(shape=(3,2))"
   ]
  },
  {
   "cell_type": "code",
   "execution_count": 28,
   "id": "6f785dc4",
   "metadata": {},
   "outputs": [
    {
     "data": {
      "text/plain": [
       "array([1., 1., 1.])"
      ]
     },
     "execution_count": 28,
     "metadata": {},
     "output_type": "execute_result"
    }
   ],
   "source": [
    "np.ones(3)"
   ]
  },
  {
   "cell_type": "code",
   "execution_count": 29,
   "id": "d814483e",
   "metadata": {},
   "outputs": [
    {
     "data": {
      "text/plain": [
       "array([[1., 1.],\n",
       "       [1., 1.],\n",
       "       [1., 1.]])"
      ]
     },
     "execution_count": 29,
     "metadata": {},
     "output_type": "execute_result"
    }
   ],
   "source": [
    "np.ones((3,2))"
   ]
  },
  {
   "cell_type": "code",
   "execution_count": 30,
   "id": "42d8c117",
   "metadata": {},
   "outputs": [
    {
     "data": {
      "text/plain": [
       "array(['mci', 'mci', 'mci'], dtype='<U3')"
      ]
     },
     "execution_count": 30,
     "metadata": {},
     "output_type": "execute_result"
    }
   ],
   "source": [
    "np.full(3,'mci')"
   ]
  },
  {
   "cell_type": "code",
   "execution_count": 31,
   "id": "72cca665",
   "metadata": {},
   "outputs": [
    {
     "data": {
      "text/plain": [
       "array([1, 3, 5, 7, 9])"
      ]
     },
     "execution_count": 31,
     "metadata": {},
     "output_type": "execute_result"
    }
   ],
   "source": [
    "np.arange(1,10,2)"
   ]
  },
  {
   "cell_type": "code",
   "execution_count": 32,
   "id": "1a60b8b1",
   "metadata": {},
   "outputs": [
    {
     "data": {
      "text/plain": [
       "array([1. , 1.5, 2. , 2.5, 3. , 3.5, 4. , 4.5, 5. , 5.5, 6. , 6.5, 7. ,\n",
       "       7.5, 8. , 8.5, 9. , 9.5])"
      ]
     },
     "execution_count": 32,
     "metadata": {},
     "output_type": "execute_result"
    }
   ],
   "source": [
    "np.arange(1,10,0.5,dtype='float')"
   ]
  },
  {
   "cell_type": "code",
   "execution_count": 33,
   "id": "b74eb53d",
   "metadata": {},
   "outputs": [],
   "source": [
    "#iclisive startvalue but exclusive stopvalue"
   ]
  },
  {
   "cell_type": "code",
   "execution_count": 34,
   "id": "057b6d51",
   "metadata": {},
   "outputs": [
    {
     "data": {
      "text/plain": [
       "array([ 1.        ,  1.18367347,  1.36734694,  1.55102041,  1.73469388,\n",
       "        1.91836735,  2.10204082,  2.28571429,  2.46938776,  2.65306122,\n",
       "        2.83673469,  3.02040816,  3.20408163,  3.3877551 ,  3.57142857,\n",
       "        3.75510204,  3.93877551,  4.12244898,  4.30612245,  4.48979592,\n",
       "        4.67346939,  4.85714286,  5.04081633,  5.2244898 ,  5.40816327,\n",
       "        5.59183673,  5.7755102 ,  5.95918367,  6.14285714,  6.32653061,\n",
       "        6.51020408,  6.69387755,  6.87755102,  7.06122449,  7.24489796,\n",
       "        7.42857143,  7.6122449 ,  7.79591837,  7.97959184,  8.16326531,\n",
       "        8.34693878,  8.53061224,  8.71428571,  8.89795918,  9.08163265,\n",
       "        9.26530612,  9.44897959,  9.63265306,  9.81632653, 10.        ])"
      ]
     },
     "execution_count": 34,
     "metadata": {},
     "output_type": "execute_result"
    }
   ],
   "source": [
    "np.linspace(1,10,50,dtype='float')"
   ]
  },
  {
   "cell_type": "code",
   "execution_count": 35,
   "id": "e1298ee2",
   "metadata": {},
   "outputs": [],
   "source": [
    "#Inclusive start and Inclusivestop value"
   ]
  },
  {
   "cell_type": "code",
   "execution_count": 36,
   "id": "25540974",
   "metadata": {},
   "outputs": [],
   "source": [
    "#Beside if we do not to need to care about what we are doing "
   ]
  },
  {
   "cell_type": "code",
   "execution_count": 37,
   "id": "ac3e890b",
   "metadata": {},
   "outputs": [],
   "source": [
    "#np.random-->pseudo-random"
   ]
  },
  {
   "cell_type": "code",
   "execution_count": 38,
   "id": "10fadb55",
   "metadata": {},
   "outputs": [
    {
     "data": {
      "text/plain": [
       "array([[0.96878267, 0.09370117, 0.36588616, 0.27612651],\n",
       "       [0.06519504, 0.07658451, 0.89016389, 0.04209321],\n",
       "       [0.37467235, 0.80571583, 0.82196142, 0.52784207]])"
      ]
     },
     "execution_count": 38,
     "metadata": {},
     "output_type": "execute_result"
    }
   ],
   "source": [
    "np.random.random((3,4))"
   ]
  },
  {
   "cell_type": "code",
   "execution_count": 39,
   "id": "bb8dd9aa",
   "metadata": {},
   "outputs": [],
   "source": [
    "#(a,b) means that 3 rows/3demensions with 4 elemnets in each dimension"
   ]
  },
  {
   "cell_type": "code",
   "execution_count": 40,
   "id": "2793aeb0",
   "metadata": {},
   "outputs": [
    {
     "data": {
      "text/plain": [
       "1537721"
      ]
     },
     "execution_count": 40,
     "metadata": {},
     "output_type": "execute_result"
    }
   ],
   "source": [
    "from datetime import datetime\n",
    "x = datetime.now().microsecond\n",
    "rand = 2*x +5 \n",
    "rand "
   ]
  },
  {
   "cell_type": "code",
   "execution_count": 41,
   "id": "5fa8f6de",
   "metadata": {},
   "outputs": [],
   "source": [
    "#Howwever the random-fuction always have to follwo a ways althoug we think that it is not real"
   ]
  },
  {
   "cell_type": "code",
   "execution_count": 42,
   "id": "1a7317d5",
   "metadata": {},
   "outputs": [
    {
     "data": {
      "text/plain": [
       "array([[0.0478634 , 0.07763917, 0.38981596, 0.73936761],\n",
       "       [0.71757685, 0.92799047, 0.43602289, 0.21932358],\n",
       "       [0.29801097, 0.26589621, 0.91511082, 0.63948949]])"
      ]
     },
     "execution_count": 42,
     "metadata": {},
     "output_type": "execute_result"
    }
   ],
   "source": [
    "np.random.random((3,4))#return all value which are contained from 0-1 uniform distribution "
   ]
  },
  {
   "cell_type": "markdown",
   "id": "691772ff",
   "metadata": {},
   "source": [
    "![](https://upload.wikimedia.org/wikipedia/commons/thumb/9/96/Uniform_Distribution_PDF_SVG.svg/1200px-Uniform_Distribution_PDF_SVG.svg.png)"
   ]
  },
  {
   "cell_type": "code",
   "execution_count": 43,
   "id": "e2a31323",
   "metadata": {},
   "outputs": [],
   "source": [
    "#Theprobability of each lements is the same in this range that is uniform distribution"
   ]
  },
  {
   "cell_type": "code",
   "execution_count": 44,
   "id": "c00fe3bb",
   "metadata": {},
   "outputs": [
    {
     "data": {
      "text/plain": [
       "(array([10050., 10051., 10078., 10141.,  9956.,  9966.,  9916., 10011.,\n",
       "        10058., 10084., 10135.,  9799., 10014., 10049., 10003., 10016.,\n",
       "        10016.,  9993., 10002., 10068., 10037.,  9914.,  9947., 10045.,\n",
       "        10081., 10026.,  9961.,  9920., 10104., 10185., 10104.,  9941.,\n",
       "         9873.,  9827., 10106.,  9922., 10069.,  9972.,  9746.,  9927.,\n",
       "        10108., 10144.,  9843.,  9876., 10157.,  9964.,  9978., 10081.,\n",
       "         9831.,  9952.,  9804.,  9983., 10001., 10024.,  9909.,  9949.,\n",
       "        10055., 10086.,  9994.,  9958.,  9985., 10035., 10051.,  9990.,\n",
       "         9905., 10092.,  9996., 10197.,  9900., 10017., 10091.,  9812.,\n",
       "         9871., 10039.,  9974., 10108.,  9973.,  9973.,  9978.,  9938.,\n",
       "         9867., 10145., 10114.,  9967., 10058.,  9951., 10000., 10096.,\n",
       "         9957., 10097., 10070.,  9967., 10154.,  9900., 10021.,  9949.,\n",
       "         9937., 10032., 10003.,  9980.]),\n",
       " array([1.23135921e-06, 1.00012155e-02, 2.00011996e-02, 3.00011838e-02,\n",
       "        4.00011679e-02, 5.00011520e-02, 6.00011362e-02, 7.00011203e-02,\n",
       "        8.00011044e-02, 9.00010886e-02, 1.00001073e-01, 1.10001057e-01,\n",
       "        1.20001041e-01, 1.30001025e-01, 1.40001009e-01, 1.50000993e-01,\n",
       "        1.60000978e-01, 1.70000962e-01, 1.80000946e-01, 1.90000930e-01,\n",
       "        2.00000914e-01, 2.10000898e-01, 2.20000882e-01, 2.30000866e-01,\n",
       "        2.40000851e-01, 2.50000835e-01, 2.60000819e-01, 2.70000803e-01,\n",
       "        2.80000787e-01, 2.90000771e-01, 3.00000755e-01, 3.10000740e-01,\n",
       "        3.20000724e-01, 3.30000708e-01, 3.40000692e-01, 3.50000676e-01,\n",
       "        3.60000660e-01, 3.70000644e-01, 3.80000629e-01, 3.90000613e-01,\n",
       "        4.00000597e-01, 4.10000581e-01, 4.20000565e-01, 4.30000549e-01,\n",
       "        4.40000533e-01, 4.50000517e-01, 4.60000502e-01, 4.70000486e-01,\n",
       "        4.80000470e-01, 4.90000454e-01, 5.00000438e-01, 5.10000422e-01,\n",
       "        5.20000406e-01, 5.30000391e-01, 5.40000375e-01, 5.50000359e-01,\n",
       "        5.60000343e-01, 5.70000327e-01, 5.80000311e-01, 5.90000295e-01,\n",
       "        6.00000280e-01, 6.10000264e-01, 6.20000248e-01, 6.30000232e-01,\n",
       "        6.40000216e-01, 6.50000200e-01, 6.60000184e-01, 6.70000168e-01,\n",
       "        6.80000153e-01, 6.90000137e-01, 7.00000121e-01, 7.10000105e-01,\n",
       "        7.20000089e-01, 7.30000073e-01, 7.40000057e-01, 7.50000042e-01,\n",
       "        7.60000026e-01, 7.70000010e-01, 7.79999994e-01, 7.89999978e-01,\n",
       "        7.99999962e-01, 8.09999946e-01, 8.19999931e-01, 8.29999915e-01,\n",
       "        8.39999899e-01, 8.49999883e-01, 8.59999867e-01, 8.69999851e-01,\n",
       "        8.79999835e-01, 8.89999819e-01, 8.99999804e-01, 9.09999788e-01,\n",
       "        9.19999772e-01, 9.29999756e-01, 9.39999740e-01, 9.49999724e-01,\n",
       "        9.59999708e-01, 9.69999693e-01, 9.79999677e-01, 9.89999661e-01,\n",
       "        9.99999645e-01]),\n",
       " <BarContainer object of 100 artists>)"
      ]
     },
     "execution_count": 44,
     "metadata": {},
     "output_type": "execute_result"
    }
   ],
   "source": [
    "np.random.random(100)\n",
    "import matplotlib.pyplot as plt\n",
    "plt.hist(np.random.random(1000000), bins = 100)"
   ]
  },
  {
   "cell_type": "code",
   "execution_count": 45,
   "id": "dced106b",
   "metadata": {},
   "outputs": [],
   "source": [
    "#That is an image to determine that the random depend on uniform distribution \n",
    "#Population and Sample "
   ]
  },
  {
   "cell_type": "markdown",
   "id": "66c906fe",
   "metadata": {},
   "source": [
    "**Population and Sample**"
   ]
  },
  {
   "cell_type": "code",
   "execution_count": 46,
   "id": "250988d0",
   "metadata": {},
   "outputs": [],
   "source": [
    "# Hoc sac xuat thong Ke"
   ]
  },
  {
   "cell_type": "markdown",
   "id": "8fd2674f",
   "metadata": {},
   "source": [
    "Ref: https://medium.com/@feraguilari/histograms-in-data-science-fdb30af97e21"
   ]
  },
  {
   "cell_type": "code",
   "execution_count": 47,
   "id": "f39e4aff",
   "metadata": {},
   "outputs": [
    {
     "data": {
      "text/plain": [
       "1.7671274566641713"
      ]
     },
     "execution_count": 47,
     "metadata": {},
     "output_type": "execute_result"
    }
   ],
   "source": [
    "np.random.normal() #Gauss Distribution "
   ]
  },
  {
   "cell_type": "markdown",
   "id": "8b0b8770",
   "metadata": {},
   "source": [
    "[Ref about histogram in Datascience](https://medium.com/@feraguilari/histograms-in-data-science-fdb30af97e21)\n"
   ]
  },
  {
   "cell_type": "markdown",
   "id": "92df46a4",
   "metadata": {},
   "source": [
    "**Normal Distribution**"
   ]
  },
  {
   "cell_type": "markdown",
   "id": "f2439fd7",
   "metadata": {},
   "source": [
    "![](https://www.researchgate.net/profile/Mohamed-Abdelkareem-3/publication/339429775/figure/fig5/AS:866295083986945@1583552251305/Probability-distribution-function-a-uniform-distribution-of-the-excitation-frequency.png)"
   ]
  },
  {
   "cell_type": "markdown",
   "id": "88cbd3f2",
   "metadata": {},
   "source": [
    "**Normal Distribution \n",
    "- Symetric\n",
    "- ring-shape\n",
    "- Mean represent central tendency of data distribution(mean = median = mode)\n",
    "- Mean and Standard deveriation \n",
    "Ref: https://www.wikilectures.eu/w/Gaussian_Distribution"
   ]
  },
  {
   "cell_type": "markdown",
   "id": "4f5d7736",
   "metadata": {},
   "source": [
    "https://maths.uel.edu.vn/Resources/Docs/SubDomain/maths/TaiLieuHocTap/ToanUngDung/univariate-analysis-22-638.jpg"
   ]
  },
  {
   "cell_type": "code",
   "execution_count": 48,
   "id": "88b9a769",
   "metadata": {},
   "outputs": [
    {
     "data": {
      "text/plain": [
       "(array([0., 0., 0., 0., 0., 1., 0., 0., 0., 0.]),\n",
       " array([16.32901376, 16.42901376, 16.52901376, 16.62901376, 16.72901376,\n",
       "        16.82901376, 16.92901376, 17.02901376, 17.12901376, 17.22901376,\n",
       "        17.32901376]),\n",
       " <BarContainer object of 10 artists>)"
      ]
     },
     "execution_count": 48,
     "metadata": {},
     "output_type": "execute_result"
    }
   ],
   "source": [
    "plt.hist(np.random.normal(10,10))"
   ]
  },
  {
   "cell_type": "code",
   "execution_count": 49,
   "id": "dddac7ad",
   "metadata": {},
   "outputs": [
    {
     "data": {
      "text/plain": [
       "array([0.5488135 , 0.71518937, 0.60276338, 0.54488318, 0.4236548 ,\n",
       "       0.64589411, 0.43758721, 0.891773  , 0.96366276, 0.38344152,\n",
       "       0.79172504, 0.52889492, 0.56804456, 0.92559664, 0.07103606,\n",
       "       0.0871293 , 0.0202184 , 0.83261985, 0.77815675, 0.87001215,\n",
       "       0.97861834, 0.79915856, 0.46147936, 0.78052918, 0.11827443,\n",
       "       0.63992102, 0.14335329, 0.94466892, 0.52184832, 0.41466194,\n",
       "       0.26455561, 0.77423369, 0.45615033, 0.56843395, 0.0187898 ,\n",
       "       0.6176355 , 0.61209572, 0.616934  , 0.94374808, 0.6818203 ,\n",
       "       0.3595079 , 0.43703195, 0.6976312 , 0.06022547, 0.66676672,\n",
       "       0.67063787, 0.21038256, 0.1289263 , 0.31542835, 0.36371077,\n",
       "       0.57019677, 0.43860151, 0.98837384, 0.10204481, 0.20887676,\n",
       "       0.16130952, 0.65310833, 0.2532916 , 0.46631077, 0.24442559,\n",
       "       0.15896958, 0.11037514, 0.65632959, 0.13818295, 0.19658236,\n",
       "       0.36872517, 0.82099323, 0.09710128, 0.83794491, 0.09609841,\n",
       "       0.97645947, 0.4686512 , 0.97676109, 0.60484552, 0.73926358,\n",
       "       0.03918779, 0.28280696, 0.12019656, 0.2961402 , 0.11872772,\n",
       "       0.31798318, 0.41426299, 0.0641475 , 0.69247212, 0.56660145,\n",
       "       0.26538949, 0.52324805, 0.09394051, 0.5759465 , 0.9292962 ,\n",
       "       0.31856895, 0.66741038, 0.13179786, 0.7163272 , 0.28940609,\n",
       "       0.18319136, 0.58651293, 0.02010755, 0.82894003, 0.00469548])"
      ]
     },
     "execution_count": 49,
     "metadata": {},
     "output_type": "execute_result"
    }
   ],
   "source": [
    "np.random.seed(0) # seeed for reproducibility\n",
    "arr = np.random.random(100)\n",
    "arr"
   ]
  },
  {
   "cell_type": "markdown",
   "id": "0552f9da",
   "metadata": {},
   "source": [
    "**Save and Load**"
   ]
  },
  {
   "cell_type": "code",
   "execution_count": 50,
   "id": "2967e645",
   "metadata": {},
   "outputs": [],
   "source": [
    "np.savetxt('text.txt', arr)"
   ]
  },
  {
   "cell_type": "code",
   "execution_count": 51,
   "id": "762abd58",
   "metadata": {},
   "outputs": [],
   "source": [
    "arr1 = np.loadtxt('text.txt')"
   ]
  },
  {
   "cell_type": "code",
   "execution_count": 52,
   "id": "031fd82e",
   "metadata": {},
   "outputs": [],
   "source": [
    "!rm text.txt"
   ]
  },
  {
   "cell_type": "code",
   "execution_count": 53,
   "id": "531bf7cd",
   "metadata": {},
   "outputs": [
    {
     "data": {
      "text/plain": [
       "'/Users/macbook/Documents/GitHub/mci_python_31_level_1/Live Slides/Live Lecture 4'"
      ]
     },
     "execution_count": 53,
     "metadata": {},
     "output_type": "execute_result"
    }
   ],
   "source": [
    "pwd"
   ]
  },
  {
   "cell_type": "code",
   "execution_count": 54,
   "id": "c0d26f0e",
   "metadata": {},
   "outputs": [],
   "source": [
    "#how to check where we are being pwd"
   ]
  },
  {
   "cell_type": "code",
   "execution_count": 55,
   "id": "976e097f",
   "metadata": {},
   "outputs": [
    {
     "name": "stdout",
     "output_type": "stream",
     "text": [
      "mkdir: Save_test: File exists\n"
     ]
    }
   ],
   "source": [
    "!mkdir Save_test"
   ]
  },
  {
   "cell_type": "code",
   "execution_count": 56,
   "id": "92c7ddfc",
   "metadata": {},
   "outputs": [],
   "source": [
    "np.savetxt('./Save_test/test.txt',arr)"
   ]
  },
  {
   "cell_type": "code",
   "execution_count": 57,
   "id": "b18c1465",
   "metadata": {},
   "outputs": [],
   "source": [
    "!rm -r Save_test/"
   ]
  },
  {
   "cell_type": "markdown",
   "id": "36f16ba6",
   "metadata": {},
   "source": [
    "## 2.2 Index and  Slicing"
   ]
  },
  {
   "cell_type": "code",
   "execution_count": 58,
   "id": "eef62632",
   "metadata": {},
   "outputs": [],
   "source": [
    "#variable_name[index]"
   ]
  },
  {
   "cell_type": "code",
   "execution_count": 59,
   "id": "6eeb9612",
   "metadata": {},
   "outputs": [
    {
     "data": {
      "text/plain": [
       "array([[ 1.,  2.,  3.,  4.],\n",
       "       [ 5.,  6.,  7.,  8.],\n",
       "       [ 9., 10., 11., 12.],\n",
       "       [13., 14., 15., 16.]])"
      ]
     },
     "execution_count": 59,
     "metadata": {},
     "output_type": "execute_result"
    }
   ],
   "source": [
    "arr = np.linspace(1,16,16).reshape(4,4)\n",
    "arr"
   ]
  },
  {
   "cell_type": "code",
   "execution_count": 60,
   "id": "883c8bff",
   "metadata": {},
   "outputs": [],
   "source": [
    "#When using reshape we have to make sure the size should be the the number of linspaces"
   ]
  },
  {
   "cell_type": "code",
   "execution_count": 61,
   "id": "45a1b1be",
   "metadata": {},
   "outputs": [
    {
     "data": {
      "text/plain": [
       "array([1., 2., 3., 4.])"
      ]
     },
     "execution_count": 61,
     "metadata": {},
     "output_type": "execute_result"
    }
   ],
   "source": [
    "arr[0]"
   ]
  },
  {
   "cell_type": "code",
   "execution_count": 151,
   "id": "a6696b73",
   "metadata": {},
   "outputs": [
    {
     "data": {
      "text/plain": [
       "array([5., 6., 7., 8.])"
      ]
     },
     "execution_count": 151,
     "metadata": {},
     "output_type": "execute_result"
    }
   ],
   "source": [
    "arr[1]"
   ]
  },
  {
   "cell_type": "markdown",
   "id": "61dd55ca",
   "metadata": {},
   "source": [
    "|Function|Meanings|\n",
    "|-|-|\n",
    "|np.arrange()|Inclusive startvalue and Exclusive stopvalue|\n",
    "|np.linspace()|Inclusive startvalue and Inclusive stopvalue|"
   ]
  },
  {
   "cell_type": "code",
   "execution_count": 152,
   "id": "8d43cdda",
   "metadata": {},
   "outputs": [
    {
     "data": {
      "text/plain": [
       "array([5., 6., 7., 8.])"
      ]
     },
     "execution_count": 152,
     "metadata": {},
     "output_type": "execute_result"
    }
   ],
   "source": [
    "arr[1,:]"
   ]
  },
  {
   "cell_type": "code",
   "execution_count": 157,
   "id": "782fba4f",
   "metadata": {},
   "outputs": [
    {
     "data": {
      "text/plain": [
       "array([1., 2., 3., 4.])"
      ]
     },
     "execution_count": 157,
     "metadata": {},
     "output_type": "execute_result"
    }
   ],
   "source": [
    "arr[0,:]"
   ]
  },
  {
   "cell_type": "code",
   "execution_count": 155,
   "id": "d3f5f9f7",
   "metadata": {},
   "outputs": [
    {
     "data": {
      "text/plain": [
       "array([ 1.,  5.,  9., 13.])"
      ]
     },
     "execution_count": 155,
     "metadata": {},
     "output_type": "execute_result"
    }
   ],
   "source": [
    "arr[:,0]"
   ]
  },
  {
   "cell_type": "code",
   "execution_count": 158,
   "id": "f2795e17",
   "metadata": {},
   "outputs": [
    {
     "data": {
      "text/plain": [
       "array([[ 1.,  2.,  3.,  4.],\n",
       "       [ 5.,  6.,  7.,  8.],\n",
       "       [ 9., 10., 11., 12.],\n",
       "       [13., 14., 15., 16.]])"
      ]
     },
     "execution_count": 158,
     "metadata": {},
     "output_type": "execute_result"
    }
   ],
   "source": [
    "arr"
   ]
  },
  {
   "cell_type": "code",
   "execution_count": 162,
   "id": "6e59a54f",
   "metadata": {},
   "outputs": [
    {
     "data": {
      "text/plain": [
       "array([[1., 2.],\n",
       "       [5., 6.]])"
      ]
     },
     "execution_count": 162,
     "metadata": {},
     "output_type": "execute_result"
    }
   ],
   "source": [
    "arr[0:2,0:2]#incluive start and Exclusive stop"
   ]
  },
  {
   "cell_type": "code",
   "execution_count": 167,
   "id": "c1b300a4",
   "metadata": {},
   "outputs": [
    {
     "data": {
      "text/plain": [
       "array([[3., 4.],\n",
       "       [7., 8.]])"
      ]
     },
     "execution_count": 167,
     "metadata": {},
     "output_type": "execute_result"
    }
   ],
   "source": [
    "arr[0:2,2:4]"
   ]
  },
  {
   "cell_type": "code",
   "execution_count": 168,
   "id": "a25b5dae",
   "metadata": {},
   "outputs": [],
   "source": [
    "#note that (a,b) a là hàng còn B là số phần trử trong số hàng đó\n"
   ]
  },
  {
   "cell_type": "markdown",
   "id": "dae6f0ce",
   "metadata": {},
   "source": [
    "## 2.3 Basic Maths"
   ]
  },
  {
   "cell_type": "code",
   "execution_count": 172,
   "id": "666b4668",
   "metadata": {},
   "outputs": [],
   "source": [
    "arr1 = np.array([[1,2],\n",
    "                 [2,4]])\n",
    "arr2 = np.array([[10,20],\n",
    "                 [20,40]])"
   ]
  },
  {
   "cell_type": "code",
   "execution_count": 173,
   "id": "c07dc955",
   "metadata": {},
   "outputs": [
    {
     "data": {
      "text/plain": [
       "array([[11, 22],\n",
       "       [22, 44]])"
      ]
     },
     "execution_count": 173,
     "metadata": {},
     "output_type": "execute_result"
    }
   ],
   "source": [
    "arr1+arr2"
   ]
  },
  {
   "cell_type": "code",
   "execution_count": 174,
   "id": "816b3cdf",
   "metadata": {},
   "outputs": [
    {
     "data": {
      "text/plain": [
       "array([[ -9, -18],\n",
       "       [-18, -36]])"
      ]
     },
     "execution_count": 174,
     "metadata": {},
     "output_type": "execute_result"
    }
   ],
   "source": [
    "arr1 -arr2"
   ]
  },
  {
   "cell_type": "code",
   "execution_count": 178,
   "id": "285a57ec",
   "metadata": {},
   "outputs": [
    {
     "data": {
      "text/plain": [
       "array([[ 10,  40],\n",
       "       [ 40, 160]])"
      ]
     },
     "execution_count": 178,
     "metadata": {},
     "output_type": "execute_result"
    }
   ],
   "source": [
    "arr1*arr2"
   ]
  },
  {
   "cell_type": "code",
   "execution_count": 179,
   "id": "f8b08ff7",
   "metadata": {},
   "outputs": [
    {
     "data": {
      "text/plain": [
       "array([[0.1, 0.1],\n",
       "       [0.1, 0.1]])"
      ]
     },
     "execution_count": 179,
     "metadata": {},
     "output_type": "execute_result"
    }
   ],
   "source": [
    "arr1/arr2"
   ]
  },
  {
   "cell_type": "code",
   "execution_count": 180,
   "id": "35b8473a",
   "metadata": {},
   "outputs": [
    {
     "data": {
      "text/plain": [
       "array([[ 50, 100],\n",
       "       [100, 200]])"
      ]
     },
     "execution_count": 180,
     "metadata": {},
     "output_type": "execute_result"
    }
   ],
   "source": [
    "#Matrix mulplication\n",
    "arr1 @ arr2"
   ]
  },
  {
   "cell_type": "code",
   "execution_count": 181,
   "id": "87c5b5d2",
   "metadata": {},
   "outputs": [],
   "source": [
    "#mean-median-mode"
   ]
  },
  {
   "cell_type": "code",
   "execution_count": 5,
   "id": "d502a55c",
   "metadata": {},
   "outputs": [],
   "source": [
    "arr = np.linspace(1,12,12,dtype='int').reshape(3,4)"
   ]
  },
  {
   "cell_type": "code",
   "execution_count": 5,
   "id": "2182e037",
   "metadata": {},
   "outputs": [
    {
     "data": {
      "text/plain": [
       "array([[ 1,  2,  3,  4],\n",
       "       [ 5,  6,  7,  8],\n",
       "       [ 9, 10, 11, 12]])"
      ]
     },
     "execution_count": 5,
     "metadata": {},
     "output_type": "execute_result"
    }
   ],
   "source": [
    "arr"
   ]
  },
  {
   "cell_type": "code",
   "execution_count": 6,
   "id": "53f84d60",
   "metadata": {},
   "outputs": [
    {
     "data": {
      "text/plain": [
       "6.5"
      ]
     },
     "execution_count": 6,
     "metadata": {},
     "output_type": "execute_result"
    }
   ],
   "source": [
    "import numpy as np\n",
    "np.mean(arr)"
   ]
  },
  {
   "cell_type": "code",
   "execution_count": 7,
   "id": "8ba51681",
   "metadata": {},
   "outputs": [
    {
     "data": {
      "text/plain": [
       "6.5"
      ]
     },
     "execution_count": 7,
     "metadata": {},
     "output_type": "execute_result"
    }
   ],
   "source": [
    "np.median(arr)"
   ]
  },
  {
   "cell_type": "code",
   "execution_count": null,
   "id": "c002342e",
   "metadata": {},
   "outputs": [],
   "source": [
    "#FINISH"
   ]
  }
 ],
 "metadata": {
  "kernelspec": {
   "display_name": "Python 3",
   "language": "python",
   "name": "python3"
  },
  "language_info": {
   "codemirror_mode": {
    "name": "ipython",
    "version": 3
   },
   "file_extension": ".py",
   "mimetype": "text/x-python",
   "name": "python",
   "nbconvert_exporter": "python",
   "pygments_lexer": "ipython3",
   "version": "3.7.0"
  }
 },
 "nbformat": 4,
 "nbformat_minor": 5
}
