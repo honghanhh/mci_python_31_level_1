{
 "cells": [
  {
   "cell_type": "code",
   "execution_count": null,
   "id": "99a1314a-6af5-47d8-a380-c9f26bc1a0c1",
   "metadata": {},
   "outputs": [],
   "source": [
    "\n",
    "\n",
    "\n",
    "\n",
    "\n",
    "\n"
   ]
  },
  {
   "cell_type": "markdown",
   "id": "431a23e3-874e-468e-95eb-2d896796b1fa",
   "metadata": {},
   "source": [
    "# Introduction"
   ]
  },
  {
   "cell_type": "markdown",
   "id": "236add0a-2303-405a-a310-5118f61a3932",
   "metadata": {},
   "source": [
    "**Numpy** (Numerical Python) = multidimensional + matrix data structure"
   ]
  },
  {
   "cell_type": "markdown",
   "id": "0f63780a-01b3-4c42-a005-81071926b3bb",
   "metadata": {},
   "source": [
    "## 1.1 Installtion"
   ]
  },
  {
   "cell_type": "markdown",
   "id": "2dac611a-1272-4813-829b-c2b15fd4072d",
   "metadata": {},
   "source": [
    "- Install when creating a virtual/Conda environment\n",
    "```\n",
    "conda creat -n hao=3.7 numpy pandas...\n",
    "```\n",
    "- Install via 'conda' or 'pip'\n",
    "conda install numpy\n",
    "or\n",
    "pip install numpy\n"
   ]
  },
  {
   "cell_type": "code",
   "execution_count": 3,
   "id": "1a2f7a0e-ffd6-488e-a1e2-73ec0e634e1e",
   "metadata": {},
   "outputs": [
    {
     "name": "stdout",
     "output_type": "stream",
     "text": [
      "Requirement already satisfied: scikit-learn in c:\\users\\hao.le\\anaconda3\\envs\\hao\\lib\\site-packages (0.24.2)\n",
      "Requirement already satisfied: threadpoolctl>=2.0.0 in c:\\users\\hao.le\\anaconda3\\envs\\hao\\lib\\site-packages (from scikit-learn) (2.1.0)\n",
      "Requirement already satisfied: scipy>=0.19.1 in c:\\users\\hao.le\\anaconda3\\envs\\hao\\lib\\site-packages (from scikit-learn) (1.6.2)\n",
      "Requirement already satisfied: joblib>=0.11 in c:\\users\\hao.le\\anaconda3\\envs\\hao\\lib\\site-packages (from scikit-learn) (1.0.1)\n",
      "Requirement already satisfied: numpy>=1.13.3 in c:\\users\\hao.le\\anaconda3\\envs\\hao\\lib\\site-packages (from scikit-learn) (1.20.2)\n"
     ]
    }
   ],
   "source": [
    "!pip install scikit-learn # machine learning"
   ]
  },
  {
   "cell_type": "code",
   "execution_count": null,
   "id": "c2ed99d6-4179-46e7-8639-97b52322f39d",
   "metadata": {},
   "outputs": [],
   "source": []
  },
  {
   "cell_type": "markdown",
   "id": "ba118c71-746a-40f7-86a2-67b424031728",
   "metadata": {},
   "source": [
    "## 1.2 Import"
   ]
  },
  {
   "cell_type": "code",
   "execution_count": 4,
   "id": "b855290c-dca7-46ae-b77f-765e29aed89d",
   "metadata": {},
   "outputs": [],
   "source": [
    "import numpy as np"
   ]
  },
  {
   "cell_type": "markdown",
   "id": "d74535bf-b10f-41e1-badb-d609e25b9e5d",
   "metadata": {},
   "source": [
    "## 1.3 Why Numpy -> FAST !"
   ]
  },
  {
   "cell_type": "markdown",
   "id": "6c0e9a45-2da0-4021-bdf6-b71b1a23230f",
   "metadata": {},
   "source": [
    "- Vectorization"
   ]
  },
  {
   "cell_type": "code",
   "execution_count": 5,
   "id": "d2263750-3c40-4316-ba2b-a9c17bd6fb86",
   "metadata": {},
   "outputs": [
    {
     "data": {
      "text/plain": [
       "(1, 2, 3, 2, 3, 4)"
      ]
     },
     "execution_count": 5,
     "metadata": {},
     "output_type": "execute_result"
    }
   ],
   "source": [
    "li = (1,2,3)\n",
    "li1 = (2,3,4)\n",
    "li + li1"
   ]
  },
  {
   "cell_type": "code",
   "execution_count": null,
   "id": "75f67250-05bf-4fbb-b2f5-a8d22611ccbb",
   "metadata": {},
   "outputs": [],
   "source": []
  },
  {
   "cell_type": "code",
   "execution_count": 7,
   "id": "b4a3543d-8d0a-4326-a0fe-89a87e9bf215",
   "metadata": {},
   "outputs": [
    {
     "data": {
      "text/plain": [
       "array([3, 5, 7])"
      ]
     },
     "execution_count": 7,
     "metadata": {},
     "output_type": "execute_result"
    }
   ],
   "source": [
    "arr = np.array ([1,2,3])\n",
    "arr1 = np.array([2,3,4])\n",
    "arr + arr1"
   ]
  },
  {
   "cell_type": "code",
   "execution_count": null,
   "id": "772ac668-69f0-45a0-b81c-6913fdd35aeb",
   "metadata": {},
   "outputs": [],
   "source": []
  },
  {
   "cell_type": "markdown",
   "id": "e58b2000-c6c0-4c93-8e68-22494d9168d0",
   "metadata": {},
   "source": [
    "- Broadcasting"
   ]
  },
  {
   "cell_type": "code",
   "execution_count": null,
   "id": "98ada8af-76dd-422e-ada5-bee2e4603e2f",
   "metadata": {},
   "outputs": [],
   "source": []
  },
  {
   "cell_type": "markdown",
   "id": "5b015260-03b5-49f6-8926-4aee01539efb",
   "metadata": {},
   "source": [
    "# 2. BASICS"
   ]
  },
  {
   "cell_type": "markdown",
   "id": "0299c0f2-b353-4979-8441-67e0a3dc447d",
   "metadata": {},
   "source": [
    "`ndarray` = N-dimensional array"
   ]
  },
  {
   "cell_type": "markdown",
   "id": "95869b8e-9795-4ae6-ae37-e6cd9ca51867",
   "metadata": {},
   "source": [
    "- 0-D array : Scalar\n",
    "- 1-D array : vector\n",
    "- 2-D array : Matrix\n",
    "- 3-D array : Tensor"
   ]
  },
  {
   "cell_type": "markdown",
   "id": "179fea5b-f1de-4299-995a-2932bcb955fe",
   "metadata": {},
   "source": [
    "## 2.1 Create an array"
   ]
  },
  {
   "cell_type": "markdown",
   "id": "f325af09-bb63-4c60-8771-b2d68a69567f",
   "metadata": {},
   "source": [
    "`np.array()`"
   ]
  },
  {
   "cell_type": "code",
   "execution_count": 9,
   "id": "1b4db98c-129c-4dd3-9a13-8b9e32d15efa",
   "metadata": {},
   "outputs": [
    {
     "data": {
      "text/plain": [
       "(1, 3.14, 'str')"
      ]
     },
     "execution_count": 9,
     "metadata": {},
     "output_type": "execute_result"
    }
   ],
   "source": [
    "li = (1, 3.14, 'str')\n",
    "li"
   ]
  },
  {
   "cell_type": "code",
   "execution_count": 10,
   "id": "bb090e0c-d5d5-49d8-a09d-4b704dbc5c48",
   "metadata": {},
   "outputs": [
    {
     "data": {
      "text/plain": [
       "(int, float, str)"
      ]
     },
     "execution_count": 10,
     "metadata": {},
     "output_type": "execute_result"
    }
   ],
   "source": [
    "type(li[0]), type(li[1]), type(li[2])\n"
   ]
  },
  {
   "cell_type": "code",
   "execution_count": 13,
   "id": "6df67531-2236-4080-bd6f-0a0bd6cbc277",
   "metadata": {},
   "outputs": [
    {
     "data": {
      "text/plain": [
       "(numpy.int32, numpy.int32, numpy.int32)"
      ]
     },
     "execution_count": 13,
     "metadata": {},
     "output_type": "execute_result"
    }
   ],
   "source": [
    "arr = np.array([1,2,3])\n",
    "type(arr[0]), type(arr[1]), type(arr[2])"
   ]
  },
  {
   "cell_type": "code",
   "execution_count": 14,
   "id": "c0c55daa-8919-457b-8c77-d6edd48cf915",
   "metadata": {},
   "outputs": [
    {
     "data": {
      "text/plain": [
       "array(['1', '3.14', 'str'], dtype='<U32')"
      ]
     },
     "execution_count": 14,
     "metadata": {},
     "output_type": "execute_result"
    }
   ],
   "source": [
    "arr1 = np.array(li)\n",
    "arr1"
   ]
  },
  {
   "cell_type": "code",
   "execution_count": null,
   "id": "11a09373-76e1-48ab-9a04-761c76a5b754",
   "metadata": {},
   "outputs": [],
   "source": []
  },
  {
   "cell_type": "code",
   "execution_count": null,
   "id": "db4425d5-c8cd-4b41-9cd6-160d373e00c0",
   "metadata": {},
   "outputs": [],
   "source": []
  },
  {
   "cell_type": "code",
   "execution_count": 20,
   "id": "1ce2d9a7-7ee4-46d0-bcfb-554f377e28f3",
   "metadata": {},
   "outputs": [],
   "source": [
    "arr1 = np.array([[1,2,4], \n",
    "                [2,3,4]]) #\n"
   ]
  },
  {
   "cell_type": "code",
   "execution_count": 21,
   "id": "0e9568d3-a5a4-479a-a0d6-382201acda1d",
   "metadata": {},
   "outputs": [
    {
     "data": {
      "text/plain": [
       "2"
      ]
     },
     "execution_count": 21,
     "metadata": {},
     "output_type": "execute_result"
    }
   ],
   "source": [
    "arr1.ndim"
   ]
  },
  {
   "cell_type": "code",
   "execution_count": 22,
   "id": "b375b81e-f803-43b7-a9b2-11399d63ab15",
   "metadata": {},
   "outputs": [
    {
     "data": {
      "text/plain": [
       "(2, 3)"
      ]
     },
     "execution_count": 22,
     "metadata": {},
     "output_type": "execute_result"
    }
   ],
   "source": [
    "arr1.shape # dimension + elements dimension"
   ]
  },
  {
   "cell_type": "code",
   "execution_count": 23,
   "id": "506bdb62-144d-4f19-b2b7-131b133a2f88",
   "metadata": {},
   "outputs": [
    {
     "data": {
      "text/plain": [
       "2"
      ]
     },
     "execution_count": 23,
     "metadata": {},
     "output_type": "execute_result"
    }
   ],
   "source": [
    "len(arr1)"
   ]
  },
  {
   "cell_type": "code",
   "execution_count": 24,
   "id": "1abeabc5-7e0d-4e66-b2fd-c2a32c18a2f5",
   "metadata": {},
   "outputs": [
    {
     "data": {
      "text/plain": [
       "6"
      ]
     },
     "execution_count": 24,
     "metadata": {},
     "output_type": "execute_result"
    }
   ],
   "source": [
    "arr1.size"
   ]
  },
  {
   "cell_type": "markdown",
   "id": "169977ea-c52c-4f55-ac78-ef14e43b9f42",
   "metadata": {},
   "source": [
    "Beside `np.array()`, we us `np.ones()`, `np.arrange()`, `np.linspace()`"
   ]
  },
  {
   "cell_type": "markdown",
   "id": "3114ef45-7a98-4d4b-b962-0e19f2026d22",
   "metadata": {},
   "source": [
    "|Functions|Meanings|\n",
    "|-|-|\n",
    "|np.zeros()|An array filled with 0's|\n",
    "| | |\n",
    "| | |\n",
    "| | |"
   ]
  },
  {
   "cell_type": "code",
   "execution_count": 25,
   "id": "7d40ebf9-66cf-46c1-a512-8d895704c6dc",
   "metadata": {},
   "outputs": [
    {
     "data": {
      "text/plain": [
       "array([0., 0., 0.])"
      ]
     },
     "execution_count": 25,
     "metadata": {},
     "output_type": "execute_result"
    }
   ],
   "source": [
    "np.zeros(shape=3)"
   ]
  },
  {
   "cell_type": "code",
   "execution_count": 27,
   "id": "fc435881-7309-48e4-ae3f-5bf4a39b4f21",
   "metadata": {},
   "outputs": [
    {
     "data": {
      "text/plain": [
       "array([[0., 0.],\n",
       "       [0., 0.],\n",
       "       [0., 0.]])"
      ]
     },
     "execution_count": 27,
     "metadata": {},
     "output_type": "execute_result"
    }
   ],
   "source": [
    "np.zeros(shape=(3,2))"
   ]
  },
  {
   "cell_type": "code",
   "execution_count": 28,
   "id": "b5de56f0-59fe-4a67-8236-7e227488289f",
   "metadata": {},
   "outputs": [
    {
     "data": {
      "text/plain": [
       "(array([1., 1., 1.]),\n",
       " array([[1., 1.],\n",
       "        [1., 1.],\n",
       "        [1., 1.]]))"
      ]
     },
     "execution_count": 28,
     "metadata": {},
     "output_type": "execute_result"
    }
   ],
   "source": [
    "np.ones(3), np.ones((3,2))"
   ]
  },
  {
   "cell_type": "code",
   "execution_count": 30,
   "id": "8e88ee0f-94dd-42f3-a0ce-dff0eb903587",
   "metadata": {},
   "outputs": [
    {
     "data": {
      "text/plain": [
       "array(['MCI', 'MCI', 'MCI'], dtype='<U3')"
      ]
     },
     "execution_count": 30,
     "metadata": {},
     "output_type": "execute_result"
    }
   ],
   "source": [
    "np.full(3,'MCI')"
   ]
  },
  {
   "cell_type": "code",
   "execution_count": 31,
   "id": "c9f6130f-7069-4250-a1d4-1a5c432ce90a",
   "metadata": {},
   "outputs": [
    {
     "data": {
      "text/plain": [
       "array([1, 3, 5, 7, 9])"
      ]
     },
     "execution_count": 31,
     "metadata": {},
     "output_type": "execute_result"
    }
   ],
   "source": [
    "np.arange(1, 10, 2)"
   ]
  },
  {
   "cell_type": "code",
   "execution_count": 32,
   "id": "2c6e7258-fa1f-4ef7-b05c-da7c773fd902",
   "metadata": {},
   "outputs": [
    {
     "data": {
      "text/plain": [
       "array([1. , 3.5, 6. , 8.5])"
      ]
     },
     "execution_count": 32,
     "metadata": {},
     "output_type": "execute_result"
    }
   ],
   "source": [
    "np.arange(1, 10, 2.5) # inclusive start and exlusove stop"
   ]
  },
  {
   "cell_type": "code",
   "execution_count": 34,
   "id": "8e68c04f-9bcd-4bd8-8359-990c54fecc21",
   "metadata": {},
   "outputs": [
    {
     "data": {
      "text/plain": [
       "array([1. , 3.5, 6. , 8.5])"
      ]
     },
     "execution_count": 34,
     "metadata": {},
     "output_type": "execute_result"
    }
   ],
   "source": [
    "np.arange(1, 10, 2.5, dtype= 'float')"
   ]
  },
  {
   "cell_type": "code",
   "execution_count": 35,
   "id": "72b169ef-07c3-4f51-a0a8-06840ab9eef5",
   "metadata": {},
   "outputs": [
    {
     "data": {
      "text/plain": [
       "array([ 1. ,  2.5,  4. ,  5.5,  7. ,  8.5, 10. ])"
      ]
     },
     "execution_count": 35,
     "metadata": {},
     "output_type": "execute_result"
    }
   ],
   "source": [
    "np.linspace(1, 10, 7, dtype='float') # Inclusive start and inclusive "
   ]
  },
  {
   "cell_type": "markdown",
   "id": "44cc90c5-f25c-45a4-af2d-798d64af8605",
   "metadata": {},
   "source": [
    "`np.random()` -> pseudo-random"
   ]
  },
  {
   "cell_type": "code",
   "execution_count": 36,
   "id": "beb052a6-2d9f-4917-8656-e6a1140edfbf",
   "metadata": {},
   "outputs": [
    {
     "data": {
      "text/plain": [
       "array([[0.48780933, 0.69383051, 0.95211001],\n",
       "       [0.35428319, 0.3376145 , 0.47354858],\n",
       "       [0.62348709, 0.07104365, 0.04374436]])"
      ]
     },
     "execution_count": 36,
     "metadata": {},
     "output_type": "execute_result"
    }
   ],
   "source": [
    "np.random.random((3,3))"
   ]
  },
  {
   "cell_type": "code",
   "execution_count": 37,
   "id": "bd963ef9-c3d8-4fe4-a86b-119d13a2f374",
   "metadata": {},
   "outputs": [
    {
     "data": {
      "text/plain": [
       "array([[0.01634565, 0.16139468, 0.07248491],\n",
       "       [0.66746606, 0.85929652, 0.93321043],\n",
       "       [0.24736861, 0.25058585, 0.45567507]])"
      ]
     },
     "execution_count": 37,
     "metadata": {},
     "output_type": "execute_result"
    }
   ],
   "source": [
    "np.random.random((3,3))"
   ]
  },
  {
   "cell_type": "code",
   "execution_count": 38,
   "id": "26fb75ce-c51f-4a1a-881e-bb6d15efe29b",
   "metadata": {},
   "outputs": [
    {
     "data": {
      "text/plain": [
       "array([[0.07489214, 0.40535751, 0.93035507],\n",
       "       [0.12404467, 0.37762472, 0.25166686],\n",
       "       [0.01462678, 0.40390503, 0.06626204]])"
      ]
     },
     "execution_count": 38,
     "metadata": {},
     "output_type": "execute_result"
    }
   ],
   "source": [
    "np.random.random((3,3))"
   ]
  },
  {
   "cell_type": "code",
   "execution_count": 39,
   "id": "25fef7d4-3e39-4e2d-af76-dfabb96df34e",
   "metadata": {},
   "outputs": [
    {
     "data": {
      "text/plain": [
       "1800389"
      ]
     },
     "execution_count": 39,
     "metadata": {},
     "output_type": "execute_result"
    }
   ],
   "source": [
    "from datetime import datetime\n",
    "x = datetime.now().microsecond\n",
    "rand = 2 * x + 5\n",
    "rand"
   ]
  },
  {
   "cell_type": "code",
   "execution_count": 50,
   "id": "b89a89fa-63f9-4b34-bbb1-7b81c648a9ce",
   "metadata": {},
   "outputs": [
    {
     "data": {
      "text/plain": [
       "(array([333652., 332558., 333505., 332027., 333877., 333462., 333381.,\n",
       "        333643., 333559., 333606., 333426., 333928., 333470., 333496.,\n",
       "        333098., 332837., 332913., 333265., 332991., 333750., 333130.,\n",
       "        332860., 333060., 333589., 334400., 333578., 333255., 332725.,\n",
       "        333557., 333402.]),\n",
       " array([1.81776021e-08, 3.33333508e-02, 6.66666835e-02, 1.00000016e-01,\n",
       "        1.33333349e-01, 1.66666681e-01, 2.00000014e-01, 2.33333347e-01,\n",
       "        2.66666679e-01, 3.00000012e-01, 3.33333345e-01, 3.66666677e-01,\n",
       "        4.00000010e-01, 4.33333342e-01, 4.66666675e-01, 5.00000008e-01,\n",
       "        5.33333340e-01, 5.66666673e-01, 6.00000006e-01, 6.33333338e-01,\n",
       "        6.66666671e-01, 7.00000004e-01, 7.33333336e-01, 7.66666669e-01,\n",
       "        8.00000002e-01, 8.33333334e-01, 8.66666667e-01, 8.99999999e-01,\n",
       "        9.33333332e-01, 9.66666665e-01, 9.99999997e-01]),\n",
       " <BarContainer object of 30 artists>)"
      ]
     },
     "execution_count": 50,
     "metadata": {},
     "output_type": "execute_result"
    },
    {
     "data": {
      "image/png": "[encoded data removed]",
      "text/plain": [
       "<Figure size 432x288 with 1 Axes>"
      ]
     },
     "metadata": {
      "needs_background": "light"
     },
     "output_type": "display_data"
    }
   ],
   "source": [
    "import matplotlib.pyplot as plt\n",
    "plt.hist(np.random.random(10000000), bins=30)"
   ]
  },
  {
   "cell_type": "code",
   "execution_count": 51,
   "id": "04b75434-fd33-48ac-a588-b6023a122c49",
   "metadata": {},
   "outputs": [
    {
     "data": {
      "text/plain": [
       "array([[ 0.3964449 ,  1.09389512, -0.82182403],\n",
       "       [-0.00688748,  0.66376833, -1.41783939],\n",
       "       [-1.20890245, -0.81856593, -0.23663169]])"
      ]
     },
     "execution_count": 51,
     "metadata": {},
     "output_type": "execute_result"
    }
   ],
   "source": [
    "np.random.normal(0,1,(3,3)) # normal (Gaussian) distribution"
   ]
  },
  {
   "cell_type": "markdown",
   "id": "1654e2f2-a1a5-48f0-a3e1-f1320604900a",
   "metadata": {},
   "source": [
    "Phân phối chuẩn (**Normal distribution)\n",
    "- ring - shape\n",
    "- symentric and mean\n",
    "- mean represents central tendency of data's distribution (mean = median = node)\n",
    "bieeur dieenx hinhf chuoong\n",
    "doi xung\n"
   ]
  },
  {
   "cell_type": "code",
   "execution_count": 53,
   "id": "ef0e1ce0-e941-4b16-9d88-f75cff7760ad",
   "metadata": {},
   "outputs": [
    {
     "data": {
      "text/plain": [
       "(array([0., 0., 0., 0., 0., 0., 0., 0., 0., 0., 0., 0., 0., 0., 0., 1., 0.,\n",
       "        0., 0., 0., 0., 0., 0., 0., 0., 0., 0., 0., 0., 0.]),\n",
       " array([998.99048366, 999.02381699, 999.05715032, 999.09048366,\n",
       "        999.12381699, 999.15715032, 999.19048366, 999.22381699,\n",
       "        999.25715032, 999.29048366, 999.32381699, 999.35715032,\n",
       "        999.39048366, 999.42381699, 999.45715032, 999.49048366,\n",
       "        999.52381699, 999.55715032, 999.59048366, 999.62381699,\n",
       "        999.65715032, 999.69048366, 999.72381699, 999.75715032,\n",
       "        999.79048366, 999.82381699, 999.85715032, 999.89048366,\n",
       "        999.92381699, 999.95715032, 999.99048366]),\n",
       " <BarContainer object of 30 artists>)"
      ]
     },
     "execution_count": 53,
     "metadata": {},
     "output_type": "execute_result"
    },
    {
     "data": {
      "image/png": "[encoded data removed]",
      "text/plain": [
       "<Figure size 432x288 with 1 Axes>"
      ]
     },
     "metadata": {
      "needs_background": "light"
     },
     "output_type": "display_data"
    }
   ],
   "source": [
    "import matplotlib.pyplot as plt\n",
    "plt.hist(np.random.normal(999), bins=30)"
   ]
  },
  {
   "cell_type": "code",
   "execution_count": 55,
   "id": "64abda4c-c29e-4564-84ab-732e87e0a5a8",
   "metadata": {},
   "outputs": [
    {
     "data": {
      "text/plain": [
       "array([0.5488135 , 0.71518937, 0.60276338, 0.54488318, 0.4236548 ,\n",
       "       0.64589411, 0.43758721, 0.891773  , 0.96366276, 0.38344152,\n",
       "       0.79172504, 0.52889492, 0.56804456, 0.92559664, 0.07103606,\n",
       "       0.0871293 , 0.0202184 , 0.83261985, 0.77815675, 0.87001215,\n",
       "       0.97861834, 0.79915856, 0.46147936, 0.78052918, 0.11827443,\n",
       "       0.63992102, 0.14335329, 0.94466892, 0.52184832, 0.41466194,\n",
       "       0.26455561, 0.77423369, 0.45615033, 0.56843395, 0.0187898 ,\n",
       "       0.6176355 , 0.61209572, 0.616934  , 0.94374808, 0.6818203 ,\n",
       "       0.3595079 , 0.43703195, 0.6976312 , 0.06022547, 0.66676672,\n",
       "       0.67063787, 0.21038256, 0.1289263 , 0.31542835, 0.36371077,\n",
       "       0.57019677, 0.43860151, 0.98837384, 0.10204481, 0.20887676,\n",
       "       0.16130952, 0.65310833, 0.2532916 , 0.46631077, 0.24442559,\n",
       "       0.15896958, 0.11037514, 0.65632959, 0.13818295, 0.19658236,\n",
       "       0.36872517, 0.82099323, 0.09710128, 0.83794491, 0.09609841,\n",
       "       0.97645947, 0.4686512 , 0.97676109, 0.60484552, 0.73926358,\n",
       "       0.03918779, 0.28280696, 0.12019656, 0.2961402 , 0.11872772,\n",
       "       0.31798318, 0.41426299, 0.0641475 , 0.69247212, 0.56660145,\n",
       "       0.26538949, 0.52324805, 0.09394051, 0.5759465 , 0.9292962 ,\n",
       "       0.31856895, 0.66741038, 0.13179786, 0.7163272 , 0.28940609,\n",
       "       0.18319136, 0.58651293, 0.02010755, 0.82894003, 0.00469548])"
      ]
     },
     "execution_count": 55,
     "metadata": {},
     "output_type": "execute_result"
    }
   ],
   "source": [
    "np.random.seed(0)   # seed dung de tái sử dụng\n",
    "arr = np.random.random(100)\n",
    "arr"
   ]
  },
  {
   "cell_type": "markdown",
   "id": "eba19b3a-51a8-45d0-ac9a-a24616202f9e",
   "metadata": {},
   "source": [
    "** Save and Load **"
   ]
  },
  {
   "cell_type": "code",
   "execution_count": 59,
   "id": "41380c69-52ea-409b-8002-25aa0868b740",
   "metadata": {},
   "outputs": [
    {
     "data": {
      "text/plain": [
       "'D:\\\\hao le\\\\MCI\\\\PBI 1\\\\hao\\\\mci_python_31_level_1-main\\\\Live Slides\\\\Live Lecture 4'"
      ]
     },
     "execution_count": 59,
     "metadata": {},
     "output_type": "execute_result"
    }
   ],
   "source": [
    "pwd"
   ]
  },
  {
   "cell_type": "code",
   "execution_count": null,
   "id": "9683d6ef-e5de-40bf-a281-d3d097e2414e",
   "metadata": {},
   "outputs": [],
   "source": []
  },
  {
   "cell_type": "code",
   "execution_count": 58,
   "id": "a773df09-10c1-4412-aa9d-fe266683bc99",
   "metadata": {},
   "outputs": [],
   "source": [
    "np.savetxt('test.txt', arr )"
   ]
  },
  {
   "cell_type": "code",
   "execution_count": 57,
   "id": "b77f1227-bd71-45a7-8ac9-5f1966a712c7",
   "metadata": {},
   "outputs": [
    {
     "data": {
      "text/plain": [
       "array([0.5488135 , 0.71518937, 0.60276338, 0.54488318, 0.4236548 ,\n",
       "       0.64589411, 0.43758721, 0.891773  , 0.96366276, 0.38344152,\n",
       "       0.79172504, 0.52889492, 0.56804456, 0.92559664, 0.07103606,\n",
       "       0.0871293 , 0.0202184 , 0.83261985, 0.77815675, 0.87001215,\n",
       "       0.97861834, 0.79915856, 0.46147936, 0.78052918, 0.11827443,\n",
       "       0.63992102, 0.14335329, 0.94466892, 0.52184832, 0.41466194,\n",
       "       0.26455561, 0.77423369, 0.45615033, 0.56843395, 0.0187898 ,\n",
       "       0.6176355 , 0.61209572, 0.616934  , 0.94374808, 0.6818203 ,\n",
       "       0.3595079 , 0.43703195, 0.6976312 , 0.06022547, 0.66676672,\n",
       "       0.67063787, 0.21038256, 0.1289263 , 0.31542835, 0.36371077,\n",
       "       0.57019677, 0.43860151, 0.98837384, 0.10204481, 0.20887676,\n",
       "       0.16130952, 0.65310833, 0.2532916 , 0.46631077, 0.24442559,\n",
       "       0.15896958, 0.11037514, 0.65632959, 0.13818295, 0.19658236,\n",
       "       0.36872517, 0.82099323, 0.09710128, 0.83794491, 0.09609841,\n",
       "       0.97645947, 0.4686512 , 0.97676109, 0.60484552, 0.73926358,\n",
       "       0.03918779, 0.28280696, 0.12019656, 0.2961402 , 0.11872772,\n",
       "       0.31798318, 0.41426299, 0.0641475 , 0.69247212, 0.56660145,\n",
       "       0.26538949, 0.52324805, 0.09394051, 0.5759465 , 0.9292962 ,\n",
       "       0.31856895, 0.66741038, 0.13179786, 0.7163272 , 0.28940609,\n",
       "       0.18319136, 0.58651293, 0.02010755, 0.82894003, 0.00469548])"
      ]
     },
     "execution_count": 57,
     "metadata": {},
     "output_type": "execute_result"
    }
   ],
   "source": [
    "arr1 = np.loadtxt('test.txt')\n",
    "arr1"
   ]
  },
  {
   "cell_type": "code",
   "execution_count": null,
   "id": "19bdf4ed-bd70-4a26-86b9-91555dfae865",
   "metadata": {},
   "outputs": [],
   "source": []
  },
  {
   "cell_type": "markdown",
   "id": "b1e88d7d-2977-4b5d-bf0c-5285f0dcf2f1",
   "metadata": {},
   "source": [
    "### 2.2 Index and slicing"
   ]
  },
  {
   "cell_type": "markdown",
   "id": "2af946f0-bb56-44d7-a2ff-51f6a562a901",
   "metadata": {},
   "source": [
    "variable_name[index]"
   ]
  },
  {
   "cell_type": "code",
   "execution_count": 63,
   "id": "607053fb-1c4f-4d96-936b-9ead077e0f9a",
   "metadata": {},
   "outputs": [
    {
     "data": {
      "text/plain": [
       "array([[ 1.,  2.,  3.,  4.],\n",
       "       [ 5.,  6.,  7.,  8.],\n",
       "       [ 9., 10., 11., 12.],\n",
       "       [13., 14., 15., 16.]])"
      ]
     },
     "execution_count": 63,
     "metadata": {},
     "output_type": "execute_result"
    }
   ],
   "source": [
    "arr = np.linspace(1,16,16).reshape(4,4)\n",
    "arr"
   ]
  },
  {
   "cell_type": "code",
   "execution_count": 64,
   "id": "45ec4732-88be-4247-a314-cc7008eab3b2",
   "metadata": {},
   "outputs": [
    {
     "data": {
      "text/plain": [
       "array([1., 2., 3., 4.])"
      ]
     },
     "execution_count": 64,
     "metadata": {},
     "output_type": "execute_result"
    }
   ],
   "source": [
    "arr[0]"
   ]
  },
  {
   "cell_type": "code",
   "execution_count": 66,
   "id": "02bfa7e5-81f8-4bbe-855f-3e1b2711a3d6",
   "metadata": {},
   "outputs": [
    {
     "data": {
      "text/plain": [
       "array([5., 6., 7., 8.])"
      ]
     },
     "execution_count": 66,
     "metadata": {},
     "output_type": "execute_result"
    }
   ],
   "source": [
    "arr[1]"
   ]
  },
  {
   "cell_type": "code",
   "execution_count": 67,
   "id": "2475dbb4-7299-46c1-a687-5717673a6777",
   "metadata": {},
   "outputs": [
    {
     "data": {
      "text/plain": [
       "array([5., 6., 7., 8.])"
      ]
     },
     "execution_count": 67,
     "metadata": {},
     "output_type": "execute_result"
    }
   ],
   "source": [
    "arr[1,:]"
   ]
  },
  {
   "cell_type": "code",
   "execution_count": 68,
   "id": "83fc19ce-1c46-4eee-a5d6-2d079f9cb250",
   "metadata": {},
   "outputs": [
    {
     "data": {
      "text/plain": [
       "array([ 3.,  7., 11., 15.])"
      ]
     },
     "execution_count": 68,
     "metadata": {},
     "output_type": "execute_result"
    }
   ],
   "source": [
    "arr[:,2]"
   ]
  },
  {
   "cell_type": "code",
   "execution_count": 69,
   "id": "cd4fce81-23f4-4ba2-8249-f2d048a78206",
   "metadata": {},
   "outputs": [
    {
     "data": {
      "text/plain": [
       "7.0"
      ]
     },
     "execution_count": 69,
     "metadata": {},
     "output_type": "execute_result"
    }
   ],
   "source": [
    "arr[1,2]"
   ]
  },
  {
   "cell_type": "code",
   "execution_count": 70,
   "id": "334bc23f-f754-47a4-bb4c-47cac3f2928f",
   "metadata": {},
   "outputs": [
    {
     "data": {
      "text/plain": [
       "array([[1., 2.],\n",
       "       [5., 6.]])"
      ]
     },
     "execution_count": 70,
     "metadata": {},
     "output_type": "execute_result"
    }
   ],
   "source": [
    "arr[0:2, 0:2]   # inclusive start, exclusive stop from index 0"
   ]
  },
  {
   "cell_type": "code",
   "execution_count": 72,
   "id": "46c06011-9a0c-46b3-bf02-777fd49c6dfa",
   "metadata": {},
   "outputs": [
    {
     "data": {
      "text/plain": [
       "array([[ 1.,  2.,  3.,  4.],\n",
       "       [ 5.,  6.,  7.,  8.],\n",
       "       [ 9., 10., 11., 12.],\n",
       "       [13., 14., 15., 16.]])"
      ]
     },
     "execution_count": 72,
     "metadata": {},
     "output_type": "execute_result"
    }
   ],
   "source": [
    "arr[0:4, 0:4]"
   ]
  },
  {
   "cell_type": "code",
   "execution_count": 77,
   "id": "2dc1baae-0da5-42f8-a2ad-0fbc8b34c350",
   "metadata": {},
   "outputs": [
    {
     "data": {
      "text/plain": [
       "array([[3., 4.],\n",
       "       [7., 8.]])"
      ]
     },
     "execution_count": 77,
     "metadata": {},
     "output_type": "execute_result"
    }
   ],
   "source": [
    "arr[0:2, 2:4]"
   ]
  },
  {
   "cell_type": "code",
   "execution_count": null,
   "id": "e73b1c83-ea28-4619-87b2-23ca9110ed5a",
   "metadata": {},
   "outputs": [],
   "source": []
  },
  {
   "cell_type": "markdown",
   "id": "615e05b4-a000-4dd4-bd1b-bb9c2c76439d",
   "metadata": {},
   "source": [
    "### 2.3 Basic Maths"
   ]
  },
  {
   "cell_type": "code",
   "execution_count": 78,
   "id": "bbe23254-801e-4e76-b9fc-c01ce6fd56bc",
   "metadata": {},
   "outputs": [],
   "source": [
    "arr1 = np.array([[1,2],\n",
    "               [2,4]])\n",
    "arr2 = np.array([[10,10],\n",
    "               [1,1]])\n"
   ]
  },
  {
   "cell_type": "code",
   "execution_count": 79,
   "id": "fa53ae4e-051a-40a5-8638-f80b6a15b2bb",
   "metadata": {},
   "outputs": [
    {
     "data": {
      "text/plain": [
       "array([[11, 12],\n",
       "       [ 3,  5]])"
      ]
     },
     "execution_count": 79,
     "metadata": {},
     "output_type": "execute_result"
    }
   ],
   "source": [
    "arr1 + arr2   # element-wise"
   ]
  },
  {
   "cell_type": "code",
   "execution_count": 80,
   "id": "f1f8f655-283b-43c8-9db6-0b8cced54eba",
   "metadata": {},
   "outputs": [
    {
     "data": {
      "text/plain": [
       "array([[-9, -8],\n",
       "       [ 1,  3]])"
      ]
     },
     "execution_count": 80,
     "metadata": {},
     "output_type": "execute_result"
    }
   ],
   "source": [
    "arr1 - arr2"
   ]
  },
  {
   "cell_type": "code",
   "execution_count": 81,
   "id": "998f7ffa-782a-4183-9bcb-91af3f8bed9b",
   "metadata": {},
   "outputs": [
    {
     "data": {
      "text/plain": [
       "array([[10, 20],\n",
       "       [ 2,  4]])"
      ]
     },
     "execution_count": 81,
     "metadata": {},
     "output_type": "execute_result"
    }
   ],
   "source": [
    "arr1 * arr2"
   ]
  },
  {
   "cell_type": "code",
   "execution_count": 82,
   "id": "9af84989-b315-4457-bf0a-17edf2fa4fff",
   "metadata": {},
   "outputs": [
    {
     "data": {
      "text/plain": [
       "array([[0.1, 0.2],\n",
       "       [2. , 4. ]])"
      ]
     },
     "execution_count": 82,
     "metadata": {},
     "output_type": "execute_result"
    }
   ],
   "source": [
    "arr1 / arr2"
   ]
  },
  {
   "cell_type": "code",
   "execution_count": 83,
   "id": "02102e94-d150-4906-b7d3-acc1751f7a9f",
   "metadata": {},
   "outputs": [],
   "source": [
    "# Matrix multiplication\n"
   ]
  },
  {
   "cell_type": "code",
   "execution_count": 84,
   "id": "b3b992b5-f2c1-4271-8fe6-9955c9604687",
   "metadata": {},
   "outputs": [
    {
     "data": {
      "text/plain": [
       "array([[12, 12],\n",
       "       [24, 24]])"
      ]
     },
     "execution_count": 84,
     "metadata": {},
     "output_type": "execute_result"
    }
   ],
   "source": [
    "arr1 @ arr2"
   ]
  },
  {
   "cell_type": "markdown",
   "id": "ea35d230-35e3-4909-a3cb-f9b9e2d4fd16",
   "metadata": {},
   "source": [
    "mean, median, mode\n"
   ]
  },
  {
   "cell_type": "code",
   "execution_count": 85,
   "id": "f26d4db8-9ab6-4677-a707-9a5284321371",
   "metadata": {},
   "outputs": [
    {
     "data": {
      "text/plain": [
       "array([[ 1,  2,  3,  4],\n",
       "       [ 5,  6,  7,  8],\n",
       "       [ 9, 10, 11, 12]])"
      ]
     },
     "execution_count": 85,
     "metadata": {},
     "output_type": "execute_result"
    }
   ],
   "source": [
    "arr = np.linspace (1,12,12, dtype='int').reshape(3,4)\n",
    "arr   # normal distribution"
   ]
  },
  {
   "cell_type": "code",
   "execution_count": 86,
   "id": "723144a8-4ace-4e10-90b4-a57058dcfb68",
   "metadata": {},
   "outputs": [
    {
     "data": {
      "text/plain": [
       "6.5"
      ]
     },
     "execution_count": 86,
     "metadata": {},
     "output_type": "execute_result"
    }
   ],
   "source": [
    "np.mean(arr)"
   ]
  },
  {
   "cell_type": "code",
   "execution_count": 89,
   "id": "d038ce36-587a-4c1d-9cf6-0b792aa4b0a6",
   "metadata": {},
   "outputs": [
    {
     "data": {
      "text/plain": [
       "6.5"
      ]
     },
     "execution_count": 89,
     "metadata": {},
     "output_type": "execute_result"
    }
   ],
   "source": [
    "np.median(arr)\n"
   ]
  },
  {
   "cell_type": "code",
   "execution_count": null,
   "id": "4af5c221-a142-408b-997e-9062e58dce3c",
   "metadata": {},
   "outputs": [],
   "source": []
  },
  {
   "cell_type": "code",
   "execution_count": null,
   "id": "a44c7090-5799-4c2c-9f44-3e8b8cf64c26",
   "metadata": {},
   "outputs": [],
   "source": []
  },
  {
   "cell_type": "code",
   "execution_count": null,
   "id": "eb35cd84-e512-4cee-99cd-bd22dcbc0ee6",
   "metadata": {},
   "outputs": [],
   "source": []
  },
  {
   "cell_type": "code",
   "execution_count": null,
   "id": "83581514-cfb3-41cd-8968-5a451eae736b",
   "metadata": {},
   "outputs": [],
   "source": []
  }
 ],
 "metadata": {
  "kernelspec": {
   "display_name": "Python 3",
   "language": "python",
   "name": "python3"
  },
  "language_info": {
   "codemirror_mode": {
    "name": "ipython",
    "version": 3
   },
   "file_extension": ".py",
   "mimetype": "text/x-python",
   "name": "python",
   "nbconvert_exporter": "python",
   "pygments_lexer": "ipython3",
   "version": "3.7.10"
  }
 },
 "nbformat": 4,
 "nbformat_minor": 5
}
