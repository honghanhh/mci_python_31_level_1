{
 "cells": [
  {
   "cell_type": "markdown",
   "id": "f122d4b9-fe88-4c3f-b67f-7cd4425fb558",
   "metadata": {},
   "source": [
    "# LESSON 3"
   ]
  },
  {
   "cell_type": "markdown",
   "id": "57bd65b8-8063-43ae-8446-1daf5f5ca2b9",
   "metadata": {},
   "source": [
    "## PROGRAMMIN FLOW"
   ]
  },
  {
   "cell_type": "markdown",
   "id": "df55d885-f979-42da-93dd-d17b28d2e277",
   "metadata": {},
   "source": [
    "- Sequential: chạy theo thứ tự\n",
    "- Loop: vòng lặp FOR ... WHILE ...\n",
    "- Condition: IF ... ELSE ...\n",
    "- Function"
   ]
  },
  {
   "cell_type": "markdown",
   "id": "f3a91a10-37a5-44ec-ad41-363a281436d1",
   "metadata": {},
   "source": [
    "### 1. Sequential"
   ]
  },
  {
   "cell_type": "code",
   "execution_count": 2,
   "id": "ad25d92e-2ddd-4ab8-8659-6501301e47fb",
   "metadata": {},
   "outputs": [
    {
     "name": "stdout",
     "output_type": "stream",
     "text": [
      "1\n",
      "2\n",
      "3\n"
     ]
    }
   ],
   "source": [
    "print('1')\n",
    "print('2')\n",
    "print('3')"
   ]
  },
  {
   "cell_type": "markdown",
   "id": "5d075ae5-b889-4f81-b17b-eb0e77957c3a",
   "metadata": {},
   "source": [
    "### 2. Loop\n",
    "- Interation\n",
    "- FOR\n",
    "- WHILE"
   ]
  },
  {
   "cell_type": "markdown",
   "id": "b6bf2160-0a70-4c73-8aa8-04c9c7292446",
   "metadata": {},
   "source": [
    "#### 2.1 FOR\n",
    "\n",
    "Sử dụng khi biết số lần lặp sẽ xảy ra"
   ]
  },
  {
   "cell_type": "markdown",
   "id": "25215a59-c615-4613-9cf3-4b091da65f2f",
   "metadata": {},
   "source": [
    "```\n",
    "FOR value in iterable:\n",
    "    business logic\n",
    "```"
   ]
  },
  {
   "cell_type": "markdown",
   "id": "cf83503e-e123-472a-9d3c-c2449cba2efc",
   "metadata": {},
   "source": [
    "``` \n",
    "FOR index in range(len(iterable)):\n",
    "    business logic\n",
    "```"
   ]
  },
  {
   "cell_type": "code",
   "execution_count": 9,
   "id": "da65cf83-825a-456b-b0c0-580cf8506db6",
   "metadata": {},
   "outputs": [
    {
     "data": {
      "text/plain": [
       "[0, 1, 2, 3, 4, 5, 6, 7, 8, 9]"
      ]
     },
     "execution_count": 9,
     "metadata": {},
     "output_type": "execute_result"
    }
   ],
   "source": [
    "list(range(10))"
   ]
  },
  {
   "cell_type": "code",
   "execution_count": 10,
   "id": "fa3f879d-e2ed-4763-bfe5-0fd15b5c40fd",
   "metadata": {},
   "outputs": [
    {
     "data": {
      "text/plain": [
       "[2, 4, 6, 8]"
      ]
     },
     "execution_count": 10,
     "metadata": {},
     "output_type": "execute_result"
    }
   ],
   "source": [
    "list(range(2,10,2))"
   ]
  },
  {
   "cell_type": "code",
   "execution_count": 11,
   "id": "13039b68-f205-44cc-ad56-cb01657893e6",
   "metadata": {},
   "outputs": [
    {
     "data": {
      "text/plain": [
       "[2, 3, 4, 5, 6, 7, 8, 9]"
      ]
     },
     "execution_count": 11,
     "metadata": {},
     "output_type": "execute_result"
    }
   ],
   "source": [
    "list(range(2,10))"
   ]
  },
  {
   "cell_type": "code",
   "execution_count": 18,
   "id": "4b65c957-9872-4418-8c1e-4e2d6762e3e2",
   "metadata": {},
   "outputs": [
    {
     "data": {
      "text/plain": [
       "4"
      ]
     },
     "execution_count": 18,
     "metadata": {},
     "output_type": "execute_result"
    }
   ],
   "source": [
    "len(range(2,10,2))"
   ]
  },
  {
   "cell_type": "markdown",
   "id": "2a1b3a13-3443-45c7-8904-d129927e074e",
   "metadata": {},
   "source": [
    "CASTing\n",
    "- Chuyển datatype từ type này sang type kia, theo một cách make sense"
   ]
  },
  {
   "cell_type": "code",
   "execution_count": 14,
   "id": "ed288031-9881-4372-9cff-b39a5e1ed577",
   "metadata": {},
   "outputs": [],
   "source": [
    "a = '1'"
   ]
  },
  {
   "cell_type": "code",
   "execution_count": 15,
   "id": "ce252ea3-11d1-418a-90c3-1e32c08fdb50",
   "metadata": {},
   "outputs": [
    {
     "data": {
      "text/plain": [
       "str"
      ]
     },
     "execution_count": 15,
     "metadata": {},
     "output_type": "execute_result"
    }
   ],
   "source": [
    "type(a)"
   ]
  },
  {
   "cell_type": "code",
   "execution_count": 16,
   "id": "7b79239a-f224-4504-b6fc-a870d2e4934b",
   "metadata": {},
   "outputs": [
    {
     "data": {
      "text/plain": [
       "'11'"
      ]
     },
     "execution_count": 16,
     "metadata": {},
     "output_type": "execute_result"
    }
   ],
   "source": [
    "a*2"
   ]
  },
  {
   "cell_type": "code",
   "execution_count": 19,
   "id": "ea8585ca-500e-456a-a44e-95d4866ab397",
   "metadata": {},
   "outputs": [
    {
     "data": {
      "text/plain": [
       "2"
      ]
     },
     "execution_count": 19,
     "metadata": {},
     "output_type": "execute_result"
    }
   ],
   "source": [
    "int(a)*2"
   ]
  },
  {
   "cell_type": "markdown",
   "id": "c60440c0-585c-47cf-a685-81ab68b0e087",
   "metadata": {},
   "source": [
    "Một số biến có thể CAST\n",
    "- Int()\n",
    "- Float()\n",
    "- Str()"
   ]
  },
  {
   "cell_type": "code",
   "execution_count": 21,
   "id": "7b84cfbe-eba6-463d-8661-e21bc18a9a1d",
   "metadata": {},
   "outputs": [],
   "source": [
    "b = 'i'"
   ]
  },
  {
   "cell_type": "code",
   "execution_count": 22,
   "id": "6f154b30-ea44-4aee-901d-15dc7cfe8c2e",
   "metadata": {},
   "outputs": [
    {
     "ename": "ValueError",
     "evalue": "invalid literal for int() with base 10: 'i'",
     "output_type": "error",
     "traceback": [
      "\u001b[1;31m---------------------------------------------------------------------------\u001b[0m",
      "\u001b[1;31mValueError\u001b[0m                                Traceback (most recent call last)",
      "\u001b[1;32m<ipython-input-22-07ae29993d50>\u001b[0m in \u001b[0;36m<module>\u001b[1;34m\u001b[0m\n\u001b[1;32m----> 1\u001b[1;33m \u001b[0mint\u001b[0m\u001b[1;33m(\u001b[0m\u001b[0mb\u001b[0m\u001b[1;33m)\u001b[0m\u001b[1;33m\u001b[0m\u001b[1;33m\u001b[0m\u001b[0m\n\u001b[0m",
      "\u001b[1;31mValueError\u001b[0m: invalid literal for int() with base 10: 'i'"
     ]
    }
   ],
   "source": [
    "int(b)"
   ]
  },
  {
   "cell_type": "code",
   "execution_count": 24,
   "id": "b01d8ae0-cbd5-4770-89d4-8adb7dcb848e",
   "metadata": {},
   "outputs": [
    {
     "data": {
      "text/plain": [
       "3"
      ]
     },
     "execution_count": 24,
     "metadata": {},
     "output_type": "execute_result"
    }
   ],
   "source": [
    "int(3.14)"
   ]
  },
  {
   "cell_type": "markdown",
   "id": "5a2884dd-548c-42e5-a683-41b77ac8e91c",
   "metadata": {},
   "source": [
    "Given a list from 0 to 10, return a new list containing exponentation of each item in the list"
   ]
  },
  {
   "cell_type": "code",
   "execution_count": 28,
   "id": "6c98999b-1c38-4351-9f59-aabb9939a39d",
   "metadata": {},
   "outputs": [
    {
     "data": {
      "text/plain": [
       "[0, 1, 2, 3, 4, 5, 6, 7, 8, 9, 10]"
      ]
     },
     "execution_count": 28,
     "metadata": {},
     "output_type": "execute_result"
    }
   ],
   "source": [
    "li = list(range(11))\n",
    "li"
   ]
  },
  {
   "cell_type": "code",
   "execution_count": 31,
   "id": "52979374-4b6b-4d12-ba1e-4ac0341aebb6",
   "metadata": {},
   "outputs": [
    {
     "name": "stdout",
     "output_type": "stream",
     "text": [
      "0 0\n",
      "1 1\n",
      "2 4\n",
      "3 9\n",
      "4 16\n",
      "5 25\n",
      "6 36\n",
      "7 49\n",
      "8 64\n",
      "9 81\n",
      "10 100\n"
     ]
    }
   ],
   "source": [
    "for ahihi in li:\n",
    "    print(ahihi, ahihi**2)"
   ]
  },
  {
   "cell_type": "code",
   "execution_count": 34,
   "id": "de58a92b-ccb3-4e3b-9025-541abddd3998",
   "metadata": {},
   "outputs": [
    {
     "data": {
      "text/plain": [
       "[0, 1, 4, 9, 16, 25, 36, 49, 64, 81, 100]"
      ]
     },
     "execution_count": 34,
     "metadata": {},
     "output_type": "execute_result"
    }
   ],
   "source": [
    "exponention_list = [] # creating an empty list\n",
    "for ahihi in li:\n",
    "   exponention_list.append(ahihi**2)\n",
    "exponention_list"
   ]
  },
  {
   "cell_type": "code",
   "execution_count": 35,
   "id": "845bc72e-0929-409f-b9cf-765822196f50",
   "metadata": {},
   "outputs": [],
   "source": [
    "exponention_list2 = []\n",
    "for idx in range(len(li)): #range(len(li)) --> một khoảng bằng độ dài list li\n",
    "    exponention_list2.append(li[idx]**2)"
   ]
  },
  {
   "cell_type": "code",
   "execution_count": 36,
   "id": "d9865ee3-0f98-43d4-b16f-6b00d8562002",
   "metadata": {},
   "outputs": [
    {
     "data": {
      "text/plain": [
       "[0, 1, 4, 9, 16, 25, 36, 49, 64, 81, 100]"
      ]
     },
     "execution_count": 36,
     "metadata": {},
     "output_type": "execute_result"
    }
   ],
   "source": [
    "exponention_list2"
   ]
  },
  {
   "cell_type": "markdown",
   "id": "8b6144f2-4925-4ea4-87f4-d3f333a50968",
   "metadata": {},
   "source": [
    "Excercise: Write a program to calculate n! of an integer n"
   ]
  },
  {
   "cell_type": "code",
   "execution_count": 48,
   "id": "0feac2b5-c170-4bad-b9f7-9699ebdc29bf",
   "metadata": {},
   "outputs": [
    {
     "name": "stdout",
     "output_type": "stream",
     "text": [
      "40320\n"
     ]
    }
   ],
   "source": [
    "n = 8\n",
    "giaithua = 1\n",
    "for i in range(0,n):\n",
    "    i=i+1\n",
    "    giaithua=giaithua*i\n",
    "print(giaithua)"
   ]
  },
  {
   "cell_type": "markdown",
   "id": "8abfe3e6-268d-4f5d-a4c9-14771052b573",
   "metadata": {},
   "source": [
    "#### 2.2 WHILE"
   ]
  },
  {
   "cell_type": "markdown",
   "id": "7d085157-47dc-4692-84b1-81ca42308174",
   "metadata": {},
   "source": [
    "```\n",
    "WHILE condition(True/False):\n",
    "    Business Logic\n",
    "```"
   ]
  },
  {
   "cell_type": "code",
   "execution_count": 49,
   "id": "b08028ff-1802-4a40-8540-b9e43d7682c8",
   "metadata": {},
   "outputs": [],
   "source": [
    "a = 4\n",
    "i = 0"
   ]
  },
  {
   "cell_type": "code",
   "execution_count": 50,
   "id": "46d0ea95-223f-49da-938e-ff6117d6b6e2",
   "metadata": {},
   "outputs": [],
   "source": [
    "a, i = 4, 0"
   ]
  },
  {
   "cell_type": "code",
   "execution_count": 51,
   "id": "b4c34f19-e593-4f5e-a576-9cc8e0d433ad",
   "metadata": {},
   "outputs": [
    {
     "name": "stdout",
     "output_type": "stream",
     "text": [
      "Hello 0\n",
      "Hello 1\n",
      "Hello 2\n",
      "Hello 3\n"
     ]
    }
   ],
   "source": [
    "while i < a:\n",
    "    print(f'Hello {i}')\n",
    "    i += 1"
   ]
  },
  {
   "cell_type": "markdown",
   "id": "1e21813c-1774-4b2f-833a-4b696172cbef",
   "metadata": {},
   "source": [
    "**String format**: chèn giá trị 1 biến vào trong string"
   ]
  },
  {
   "cell_type": "code",
   "execution_count": 58,
   "id": "1838af89-0be2-4e1b-b193-22175448a009",
   "metadata": {},
   "outputs": [],
   "source": [
    "a = 'Wow'\n",
    "b = 'Lesson 3'"
   ]
  },
  {
   "cell_type": "code",
   "execution_count": 59,
   "id": "0096a66e-ea10-415b-8267-052b78ca823e",
   "metadata": {},
   "outputs": [
    {
     "name": "stdout",
     "output_type": "stream",
     "text": [
      "Hello Wow\n"
     ]
    }
   ],
   "source": [
    "print('Hello {}'.format(a))"
   ]
  },
  {
   "cell_type": "code",
   "execution_count": 60,
   "id": "5fd4e42b-bdda-4212-803d-89c6cd6686dc",
   "metadata": {},
   "outputs": [
    {
     "name": "stdout",
     "output_type": "stream",
     "text": [
      "Hello Wow\n"
     ]
    }
   ],
   "source": [
    "print(f'Hello {a}') #f stand for format"
   ]
  },
  {
   "cell_type": "code",
   "execution_count": 62,
   "id": "9aab0e18-00d1-45ea-af4a-3376468eeb03",
   "metadata": {},
   "outputs": [
    {
     "name": "stdout",
     "output_type": "stream",
     "text": [
      "Hello Wow\n"
     ]
    }
   ],
   "source": [
    "print('Hello %s' %a) \n",
    "#'%s' stand for string, result return as string\n",
    "#'%d' result return as decimal\n",
    "#'%f' --> float"
   ]
  },
  {
   "cell_type": "markdown",
   "id": "6b493e33-4f78-421d-bf15-6a1a6d06975d",
   "metadata": {},
   "source": [
    "Excercise: Given a list from 0 to 10, return a new list containing exponentation of each item in the list. This time us WHILE"
   ]
  },
  {
   "cell_type": "code",
   "execution_count": 72,
   "id": "afa624b5-b9f4-4f1f-b069-05e43fda4856",
   "metadata": {},
   "outputs": [
    {
     "data": {
      "text/plain": [
       "[1, 2, 3, 4, 5, 6, 7, 8, 9, 10]"
      ]
     },
     "execution_count": 72,
     "metadata": {},
     "output_type": "execute_result"
    }
   ],
   "source": [
    "li1 = list(range(1,11,1))\n",
    "li1"
   ]
  },
  {
   "cell_type": "code",
   "execution_count": 70,
   "id": "1873b58f-a2f2-4435-acf8-45f457ef8b34",
   "metadata": {},
   "outputs": [
    {
     "data": {
      "text/plain": [
       "1"
      ]
     },
     "execution_count": 70,
     "metadata": {},
     "output_type": "execute_result"
    }
   ],
   "source": [
    "li2 = (1)\n",
    "li2"
   ]
  },
  {
   "cell_type": "code",
   "execution_count": 75,
   "id": "2486115b-a411-4bb8-bdf1-13f535be60ed",
   "metadata": {},
   "outputs": [
    {
     "ename": "SyntaxError",
     "evalue": "invalid syntax (<ipython-input-75-9fc0176f04e1>, line 2)",
     "output_type": "error",
     "traceback": [
      "\u001b[1;36m  File \u001b[1;32m\"<ipython-input-75-9fc0176f04e1>\"\u001b[1;36m, line \u001b[1;32m2\u001b[0m\n\u001b[1;33m    WHILE i < 10:\u001b[0m\n\u001b[1;37m          ^\u001b[0m\n\u001b[1;31mSyntaxError\u001b[0m\u001b[1;31m:\u001b[0m invalid syntax\n"
     ]
    }
   ],
   "source": [
    "i = 2\n",
    "WHILE i < 10:\n",
    "    expo = i**2\n",
    "    li2.append(expo)\n",
    "    i += 1\n",
    "li2"
   ]
  },
  {
   "cell_type": "markdown",
   "id": "91a5b8e1-130b-4b14-a966-690f8185b91d",
   "metadata": {},
   "source": [
    "### 3. Conditions"
   ]
  },
  {
   "cell_type": "markdown",
   "id": "0a3ecec0-e222-4038-839b-9ee4e2f1d81f",
   "metadata": {},
   "source": [
    "```\n",
    "if condition(True/False):\n",
    "    business logic\n",
    "elif condition(True/False): # optional\n",
    "    business logic\n",
    "elif condition(True/False): # optional\n",
    "    business logic\n",
    "elif condition(True/False): # optional\n",
    "    business logic\n",
    "else: \n",
    "    business logic #optional\n",
    "```"
   ]
  },
  {
   "cell_type": "code",
   "execution_count": 84,
   "id": "e874e2f8-79cc-4689-a000-da97e8c4c3e5",
   "metadata": {},
   "outputs": [],
   "source": [
    "x = 5\n",
    "y = 5"
   ]
  },
  {
   "cell_type": "code",
   "execution_count": 88,
   "id": "3a864637-918a-4d80-bd27-fe132aa6f250",
   "metadata": {},
   "outputs": [
    {
     "name": "stdout",
     "output_type": "stream",
     "text": [
      "event\n"
     ]
    }
   ],
   "source": [
    "if x < y:\n",
    "    print ('x is less')\n",
    "elif x > y:\n",
    "    print ('x is greater')\n",
    "else:\n",
    "    print ('event')"
   ]
  },
  {
   "cell_type": "markdown",
   "id": "ee1299b2-c218-4a94-92f3-cf0d82003053",
   "metadata": {},
   "source": [
    "### 4. Functions\n",
    "- Built-in: len(), range(),...\n",
    "- User-defined function:"
   ]
  },
  {
   "cell_type": "markdown",
   "id": "f1ff1af6-f8dd-45c5-a1a2-96946cb6ed1f",
   "metadata": {},
   "source": [
    "```\n",
    "def function_name(argument1, argument2, ....):\n",
    "    business logic\n",
    "    return #optional\n",
    "```"
   ]
  },
  {
   "cell_type": "code",
   "execution_count": 91,
   "id": "e4b4167e-85d2-464c-810f-5a21c61984e0",
   "metadata": {},
   "outputs": [
    {
     "data": {
      "text/plain": [
       "3"
      ]
     },
     "execution_count": 91,
     "metadata": {},
     "output_type": "execute_result"
    }
   ],
   "source": [
    "li = (1, 2, 3)\n",
    "len(li)"
   ]
  },
  {
   "cell_type": "markdown",
   "id": "c90fbbd0-5fa0-497e-94a5-e845594046ec",
   "metadata": {},
   "source": [
    "Write a program to return length of object using def"
   ]
  },
  {
   "cell_type": "markdown",
   "id": "ef3ae7de-663b-44a8-a971-79692c828f0f",
   "metadata": {},
   "source": [
    "Lời giải"
   ]
  },
  {
   "cell_type": "code",
   "execution_count": 92,
   "id": "6deca69a-106c-4b19-9d68-02c8ee70cdc1",
   "metadata": {},
   "outputs": [
    {
     "name": "stdout",
     "output_type": "stream",
     "text": [
      "3\n"
     ]
    }
   ],
   "source": [
    "def length_list(li):\n",
    "    #bussiness\n",
    "    length = li.index(li[-1])+1\n",
    "    #print (length)\n",
    "    return (length)\n",
    "print(length_list(li))"
   ]
  },
  {
   "cell_type": "code",
   "execution_count": 96,
   "id": "22ef7731-46d0-4fbc-adab-e8f827297500",
   "metadata": {},
   "outputs": [
    {
     "data": {
      "text/plain": [
       "3"
      ]
     },
     "execution_count": 96,
     "metadata": {},
     "output_type": "execute_result"
    }
   ],
   "source": [
    "def findLength(string):\n",
    "    count = 0\n",
    "    for i in string:\n",
    "        count+= 1\n",
    "    return count\n",
    "findLength(li)"
   ]
  },
  {
   "cell_type": "markdown",
   "id": "1e378a03-03a9-4b04-8908-6cd56484dfef",
   "metadata": {},
   "source": [
    "**Anoymous Function (no name)**: lambda cho hàm đơn giản thay cho def"
   ]
  },
  {
   "cell_type": "code",
   "execution_count": 99,
   "id": "5c895e76-711e-4a8b-ac50-6f10b0e73852",
   "metadata": {},
   "outputs": [
    {
     "data": {
      "text/plain": [
       "4"
      ]
     },
     "execution_count": 99,
     "metadata": {},
     "output_type": "execute_result"
    }
   ],
   "source": [
    "expo = lambda x : x**2\n",
    "expo(2)"
   ]
  },
  {
   "cell_type": "markdown",
   "id": "ed1493d6-005e-439c-b2e8-fedc8e798782",
   "metadata": {},
   "source": [
    "### 5. Comprehension"
   ]
  },
  {
   "cell_type": "code",
   "execution_count": 105,
   "id": "4a52e061-517c-48cb-95bd-afea6a03c826",
   "metadata": {},
   "outputs": [
    {
     "data": {
      "text/plain": [
       "[1, 4, 9]"
      ]
     },
     "execution_count": 105,
     "metadata": {},
     "output_type": "execute_result"
    }
   ],
   "source": [
    "#Using FOR\n",
    "li = (1, 2, 3)\n",
    "li2 = []\n",
    "for i in li:\n",
    "    li2.append(i**2)\n",
    "li2"
   ]
  },
  {
   "cell_type": "code",
   "execution_count": 102,
   "id": "24f05d62-adbf-4a2f-9962-cac36811e5aa",
   "metadata": {},
   "outputs": [
    {
     "data": {
      "text/plain": [
       "[1, 4, 9]"
      ]
     },
     "execution_count": 102,
     "metadata": {},
     "output_type": "execute_result"
    }
   ],
   "source": [
    "#Using Comprehension\n",
    "li3 = [i**2 for i in li]\n",
    "li3"
   ]
  },
  {
   "cell_type": "markdown",
   "id": "2946fc3d-5616-49a9-a0ca-d60dfca7ce8f",
   "metadata": {},
   "source": [
    "```\n",
    "Dùng Comprehension nhanh gọn hơn nhưng tốn RAM hơn\n",
    "Khi chạy data lớn (trên trăm nghìn dòng), trên trăm nghìn dòng thì dùng FOR ổn hơn\n",
    "```"
   ]
  },
  {
   "cell_type": "markdown",
   "id": "1f3909ec-b392-4f7e-b043-871bf5b68a8f",
   "metadata": {},
   "source": [
    "Given a list, return a list containning odd number only"
   ]
  },
  {
   "cell_type": "code",
   "execution_count": 106,
   "id": "f228f0ec-1f10-4d61-8e4a-d9364eb3cdc3",
   "metadata": {},
   "outputs": [],
   "source": [
    "li = (1, 2, 3, 4, 5, 7)"
   ]
  },
  {
   "cell_type": "code",
   "execution_count": 110,
   "id": "6544b245-a3b6-4d5b-8d4b-c2473df7771e",
   "metadata": {},
   "outputs": [
    {
     "data": {
      "text/plain": [
       "[1, 3, 5, 7]"
      ]
     },
     "execution_count": 110,
     "metadata": {},
     "output_type": "execute_result"
    }
   ],
   "source": [
    "odd_number = [i for i in li if i%2 == 1]\n",
    "odd_number"
   ]
  },
  {
   "cell_type": "code",
   "execution_count": 114,
   "id": "6e0d10b3-df64-4b8e-b792-554b8ba49551",
   "metadata": {},
   "outputs": [
    {
     "data": {
      "text/plain": [
       "[1, 2, 9, 4, 25, 49]"
      ]
     },
     "execution_count": 114,
     "metadata": {},
     "output_type": "execute_result"
    }
   ],
   "source": [
    "excer2 = [i**2 if i%2 == 1 else i for i in li]\n",
    "excer2"
   ]
  },
  {
   "cell_type": "code",
   "execution_count": 115,
   "id": "abf0490f-66ea-4e7f-bee9-de7dd884ff68",
   "metadata": {},
   "outputs": [
    {
     "data": {
      "text/plain": [
       "[[1, 2, 3], [4, 5, 6], [7, 8, 9]]"
      ]
     },
     "execution_count": 115,
     "metadata": {},
     "output_type": "execute_result"
    }
   ],
   "source": [
    "li4 = [[1,2,3],[4,5,6],[7,8,9]]\n",
    "li4"
   ]
  },
  {
   "cell_type": "code",
   "execution_count": 116,
   "id": "125c0545-bb34-434b-9657-aa72cf279a4a",
   "metadata": {},
   "outputs": [],
   "source": [
    "#[1,2,3,4,5,6,7,8,9]\n",
    "# sử dụng lặp trong lặp"
   ]
  },
  {
   "cell_type": "code",
   "execution_count": 124,
   "id": "c1263461-17f3-49c4-a521-1de27ce7afb1",
   "metadata": {},
   "outputs": [
    {
     "data": {
      "text/plain": [
       "[1, 2, 3, 4, 5, 6, 7, 8, 9]"
      ]
     },
     "execution_count": 124,
     "metadata": {},
     "output_type": "execute_result"
    }
   ],
   "source": [
    "[i for inner_li in li4 for i in inner_li]"
   ]
  },
  {
   "cell_type": "code",
   "execution_count": null,
   "id": "a16196ad-ed80-4180-aa9d-4ce71674e429",
   "metadata": {},
   "outputs": [],
   "source": []
  }
 ],
 "metadata": {
  "kernelspec": {
   "display_name": "Python 3",
   "language": "python",
   "name": "python3"
  },
  "language_info": {
   "codemirror_mode": {
    "name": "ipython",
    "version": 3
   },
   "file_extension": ".py",
   "mimetype": "text/x-python",
   "name": "python",
   "nbconvert_exporter": "python",
   "pygments_lexer": "ipython3",
   "version": "3.7.10"
  }
 },
 "nbformat": 4,
 "nbformat_minor": 5
}
