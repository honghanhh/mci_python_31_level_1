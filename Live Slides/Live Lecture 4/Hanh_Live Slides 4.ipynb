{
 "cells": [
  {
   "cell_type": "markdown",
   "metadata": {},
   "source": [
    "# <center> LESSSON 4: Introduction to NUMPY </center>"
   ]
  },
  {
   "cell_type": "markdown",
   "metadata": {},
   "source": [
    "![](data:image/png;base64,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)"
   ]
  },
  {
   "cell_type": "markdown",
   "metadata": {},
   "source": [
    "## 1. INTRODUCTION"
   ]
  },
  {
   "cell_type": "markdown",
   "metadata": {},
   "source": [
    "**NumPY** (Numerical Python) = multidimensional array + matrix data structure"
   ]
  },
  {
   "cell_type": "markdown",
   "metadata": {},
   "source": [
    "### 1.1 Installation"
   ]
  },
  {
   "cell_type": "markdown",
   "metadata": {},
   "source": [
    "- Install when creating a virtual/conda environment\n",
    "```\n",
    "conda create -n hanh python=3.7 numpy pandas ...\n",
    "```\n",
    "- Install via `conda` or `pip`\n",
    "```\n",
    "conda install numpy\n",
    "```\n",
    "or\n",
    "```\n",
    "pip install numpy\n",
    "```"
   ]
  },
  {
   "cell_type": "code",
   "execution_count": 1,
   "metadata": {},
   "outputs": [
    {
     "name": "stdout",
     "output_type": "stream",
     "text": [
      "Requirement already satisfied: numpy in /Users/hanhtran/miniconda3/envs/hanh/lib/python3.7/site-packages (1.20.2)\n"
     ]
    }
   ],
   "source": [
    "!pip install numpy"
   ]
  },
  {
   "cell_type": "code",
   "execution_count": 2,
   "metadata": {},
   "outputs": [
    {
     "name": "stdout",
     "output_type": "stream",
     "text": [
      "Collecting scikit-learn\n",
      "  Downloading scikit_learn-0.24.2-cp37-cp37m-macosx_10_13_x86_64.whl (7.2 MB)\n",
      "\u001b[K     |████████████████████████████████| 7.2 MB 2.6 MB/s eta 0:00:01\n",
      "\u001b[?25hRequirement already satisfied: scipy>=0.19.1 in /Users/hanhtran/miniconda3/envs/hanh/lib/python3.7/site-packages (from scikit-learn) (1.6.2)\n",
      "Collecting joblib>=0.11\n",
      "  Using cached joblib-1.0.1-py3-none-any.whl (303 kB)\n",
      "Collecting threadpoolctl>=2.0.0\n",
      "  Using cached threadpoolctl-2.1.0-py3-none-any.whl (12 kB)\n",
      "Requirement already satisfied: numpy>=1.13.3 in /Users/hanhtran/miniconda3/envs/hanh/lib/python3.7/site-packages (from scikit-learn) (1.20.2)\n",
      "Installing collected packages: threadpoolctl, joblib, scikit-learn\n",
      "Successfully installed joblib-1.0.1 scikit-learn-0.24.2 threadpoolctl-2.1.0\n"
     ]
    }
   ],
   "source": [
    "!pip install scikit-learn #machine learning"
   ]
  },
  {
   "cell_type": "markdown",
   "metadata": {},
   "source": [
    "Ref: [Conda vs Pip](https://www.anaconda.com/blog/understanding-conda-and-pip)"
   ]
  },
  {
   "cell_type": "markdown",
   "metadata": {},
   "source": [
    "## 1.2 Import"
   ]
  },
  {
   "cell_type": "code",
   "execution_count": 3,
   "metadata": {},
   "outputs": [],
   "source": [
    "import numpy as np"
   ]
  },
  {
   "cell_type": "markdown",
   "metadata": {},
   "source": [
    "## 1.3 Why Numpy -> FAST!"
   ]
  },
  {
   "cell_type": "markdown",
   "metadata": {},
   "source": [
    "- **Vectorization**"
   ]
  },
  {
   "cell_type": "code",
   "execution_count": 4,
   "metadata": {},
   "outputs": [
    {
     "data": {
      "text/plain": [
       "[1, 2, 3, 2, 3, 4]"
      ]
     },
     "execution_count": 4,
     "metadata": {},
     "output_type": "execute_result"
    }
   ],
   "source": [
    "li = [1,2,3]\n",
    "li1 = [2,3,4]\n",
    "li + li1"
   ]
  },
  {
   "cell_type": "code",
   "execution_count": null,
   "metadata": {},
   "outputs": [],
   "source": [
    "li.append()"
   ]
  },
  {
   "cell_type": "code",
   "execution_count": 5,
   "metadata": {},
   "outputs": [
    {
     "data": {
      "text/plain": [
       "array([3, 5, 7])"
      ]
     },
     "execution_count": 5,
     "metadata": {},
     "output_type": "execute_result"
    }
   ],
   "source": [
    "arr = np.array([1,2,3])\n",
    "arr1 = np.array([2,3,4])\n",
    "arr + arr1"
   ]
  },
  {
   "cell_type": "markdown",
   "metadata": {},
   "source": [
    "- **Broadcasting**"
   ]
  },
  {
   "cell_type": "markdown",
   "metadata": {},
   "source": [
    "![](https://i.stack.imgur.com/JcKv1.png)"
   ]
  },
  {
   "cell_type": "markdown",
   "metadata": {},
   "source": [
    "# 2. BASICS"
   ]
  },
  {
   "cell_type": "markdown",
   "metadata": {},
   "source": [
    "`ndarray`  = N-dimensional array"
   ]
  },
  {
   "cell_type": "markdown",
   "metadata": {},
   "source": [
    "- 0-D array: Scalar\n",
    "- 1-D array: Vector\n",
    "- 2-D array: Matrix\n",
    "- 3-D array: Tensor"
   ]
  },
  {
   "cell_type": "markdown",
   "metadata": {},
   "source": [
    "### 2.1 Create an array"
   ]
  },
  {
   "cell_type": "markdown",
   "metadata": {},
   "source": [
    "`np.array()`"
   ]
  },
  {
   "cell_type": "code",
   "execution_count": 6,
   "metadata": {},
   "outputs": [
    {
     "data": {
      "text/plain": [
       "[1, 3.14, 'Str']"
      ]
     },
     "execution_count": 6,
     "metadata": {},
     "output_type": "execute_result"
    }
   ],
   "source": [
    "li = [1, 3.14, 'Str']\n",
    "li"
   ]
  },
  {
   "cell_type": "code",
   "execution_count": 7,
   "metadata": {},
   "outputs": [
    {
     "data": {
      "text/plain": [
       "(int, float, str)"
      ]
     },
     "execution_count": 7,
     "metadata": {},
     "output_type": "execute_result"
    }
   ],
   "source": [
    "type(li[0]), type(li[1]), type(li[2])"
   ]
  },
  {
   "cell_type": "code",
   "execution_count": 8,
   "metadata": {},
   "outputs": [
    {
     "data": {
      "text/plain": [
       "(numpy.int64, numpy.int64, numpy.int64)"
      ]
     },
     "execution_count": 8,
     "metadata": {},
     "output_type": "execute_result"
    }
   ],
   "source": [
    "arr = np.array([1,2,3])\n",
    "type(arr[0]), type(arr[1]), type(arr[2])"
   ]
  },
  {
   "cell_type": "code",
   "execution_count": 9,
   "metadata": {},
   "outputs": [
    {
     "data": {
      "text/plain": [
       "array(['1', '3.14', 'Str'], dtype='<U32')"
      ]
     },
     "execution_count": 9,
     "metadata": {},
     "output_type": "execute_result"
    }
   ],
   "source": [
    "arr1 = np.array(li) #casting into 1 type\n",
    "arr1"
   ]
  },
  {
   "cell_type": "code",
   "execution_count": 10,
   "metadata": {},
   "outputs": [],
   "source": [
    "def addition(a,b): #user-defined \n",
    "    '''\n",
    "    Sum of 2 numbers\n",
    "    \n",
    "    Parameters:\n",
    "    a: First number\n",
    "    b: Second number\n",
    "    '''\n",
    "    return a+b"
   ]
  },
  {
   "cell_type": "markdown",
   "metadata": {},
   "source": [
    "Ref: [Numpy github](https://github.com/numpy/numpy)"
   ]
  },
  {
   "cell_type": "code",
   "execution_count": 16,
   "metadata": {},
   "outputs": [],
   "source": [
    "arr1 = np.array([[1,2,4],\n",
    "                [2,3,4]]) #array 1 dimension with 3 elements"
   ]
  },
  {
   "cell_type": "code",
   "execution_count": 17,
   "metadata": {},
   "outputs": [
    {
     "data": {
      "text/plain": [
       "2"
      ]
     },
     "execution_count": 17,
     "metadata": {},
     "output_type": "execute_result"
    }
   ],
   "source": [
    "arr1.ndim"
   ]
  },
  {
   "cell_type": "code",
   "execution_count": 18,
   "metadata": {},
   "outputs": [
    {
     "data": {
      "text/plain": [
       "(2, 3)"
      ]
     },
     "execution_count": 18,
     "metadata": {},
     "output_type": "execute_result"
    }
   ],
   "source": [
    "arr1.shape #dimension + elements per dimension"
   ]
  },
  {
   "cell_type": "code",
   "execution_count": 19,
   "metadata": {},
   "outputs": [
    {
     "data": {
      "text/plain": [
       "2"
      ]
     },
     "execution_count": 19,
     "metadata": {},
     "output_type": "execute_result"
    }
   ],
   "source": [
    "len(arr1)"
   ]
  },
  {
   "cell_type": "code",
   "execution_count": 20,
   "metadata": {},
   "outputs": [
    {
     "data": {
      "text/plain": [
       "6"
      ]
     },
     "execution_count": 20,
     "metadata": {},
     "output_type": "execute_result"
    }
   ],
   "source": [
    "arr1.size"
   ]
  },
  {
   "cell_type": "markdown",
   "metadata": {},
   "source": [
    "Beside `np.array()`, we use `np.zeros()`, `np.ones()`, `np.arange()`, `np.linspace()`"
   ]
  },
  {
   "cell_type": "markdown",
   "metadata": {},
   "source": [
    "|Functions| Meanings|\n",
    "|-|-|\n",
    "|`np.zeros()`| An array filled with 0's|\n",
    "|`np.ones()`| An array filled with 1's|\n",
    "|`np.full()`| An array filled with `fill_value`|\n",
    "|`np.arange()`| An array that contais a range of evenly spaced intervals|\n",
    "|`np.linspace()`| An array with values that spaced linearly in a specified interval|"
   ]
  },
  {
   "cell_type": "code",
   "execution_count": 22,
   "metadata": {},
   "outputs": [
    {
     "data": {
      "text/plain": [
       "array([0., 0., 0.])"
      ]
     },
     "execution_count": 22,
     "metadata": {},
     "output_type": "execute_result"
    }
   ],
   "source": [
    "np.zeros(shape=3)"
   ]
  },
  {
   "cell_type": "code",
   "execution_count": 23,
   "metadata": {},
   "outputs": [
    {
     "data": {
      "text/plain": [
       "array([[0., 0.],\n",
       "       [0., 0.],\n",
       "       [0., 0.]])"
      ]
     },
     "execution_count": 23,
     "metadata": {},
     "output_type": "execute_result"
    }
   ],
   "source": [
    "np.zeros(shape=(3,2))"
   ]
  },
  {
   "cell_type": "code",
   "execution_count": 24,
   "metadata": {},
   "outputs": [
    {
     "data": {
      "text/plain": [
       "(array([1., 1., 1.]),\n",
       " array([[1., 1.],\n",
       "        [1., 1.],\n",
       "        [1., 1.]]))"
      ]
     },
     "execution_count": 24,
     "metadata": {},
     "output_type": "execute_result"
    }
   ],
   "source": [
    "np.ones(3) , np.ones((3,2))"
   ]
  },
  {
   "cell_type": "code",
   "execution_count": 25,
   "metadata": {},
   "outputs": [
    {
     "data": {
      "text/plain": [
       "array(['mci', 'mci', 'mci'], dtype='<U3')"
      ]
     },
     "execution_count": 25,
     "metadata": {},
     "output_type": "execute_result"
    }
   ],
   "source": [
    "np.full(3,'mci')"
   ]
  },
  {
   "cell_type": "code",
   "execution_count": 28,
   "metadata": {},
   "outputs": [
    {
     "data": {
      "text/plain": [
       "array([1. , 3.5, 6. , 8.5])"
      ]
     },
     "execution_count": 28,
     "metadata": {},
     "output_type": "execute_result"
    }
   ],
   "source": [
    "np.arange(1, 10, 2.5, dtype='float') #inclusive start and exclusive stop ~ range()"
   ]
  },
  {
   "cell_type": "code",
   "execution_count": 31,
   "metadata": {},
   "outputs": [
    {
     "data": {
      "text/plain": [
       "array([ 1. ,  2.5,  4. ,  5.5,  7. ,  8.5, 10. ])"
      ]
     },
     "execution_count": 31,
     "metadata": {},
     "output_type": "execute_result"
    }
   ],
   "source": [
    "np.linspace(1, 10, 7, dtype='float') #inclusive start and inclusive"
   ]
  },
  {
   "cell_type": "markdown",
   "metadata": {},
   "source": [
    "`np.random()` --> pseudo-random"
   ]
  },
  {
   "cell_type": "code",
   "execution_count": 36,
   "metadata": {},
   "outputs": [
    {
     "data": {
      "text/plain": [
       "array([[0.98521522, 0.51426897, 0.97752934],\n",
       "       [0.12071139, 0.78137871, 0.27033799],\n",
       "       [0.59874782, 0.83745642, 0.7783295 ]])"
      ]
     },
     "execution_count": 36,
     "metadata": {},
     "output_type": "execute_result"
    }
   ],
   "source": [
    "np.random.random((3,3)) # return [0 - 1] - uniform distribution"
   ]
  },
  {
   "cell_type": "markdown",
   "metadata": {},
   "source": [
    "![](https://upload.wikimedia.org/wikipedia/commons/thumb/9/96/Uniform_Distribution_PDF_SVG.svg/1200px-Uniform_Distribution_PDF_SVG.svg.png)"
   ]
  },
  {
   "cell_type": "code",
   "execution_count": 43,
   "metadata": {},
   "outputs": [
    {
     "data": {
      "text/plain": [
       "1204321"
      ]
     },
     "execution_count": 43,
     "metadata": {},
     "output_type": "execute_result"
    }
   ],
   "source": [
    "from datetime import datetime\n",
    "x = datetime.now().microsecond\n",
    "rand = 2*x + 5\n",
    "rand"
   ]
  },
  {
   "cell_type": "code",
   "execution_count": 48,
   "metadata": {},
   "outputs": [
    {
     "data": {
      "text/plain": [
       "(array([332914., 334012., 332983., 333414., 333659., 333855., 333577.,\n",
       "        332545., 333460., 333733., 333714., 332952., 334226., 333012.,\n",
       "        332815., 332314., 332415., 333524., 333566., 334428., 333745.,\n",
       "        333118., 332621., 333444., 333223., 333523., 333729., 332942.,\n",
       "        333189., 333348.]),\n",
       " array([3.40636741e-09, 3.33333352e-02, 6.66666670e-02, 9.99999988e-02,\n",
       "        1.33333331e-01, 1.66666662e-01, 1.99999994e-01, 2.33333326e-01,\n",
       "        2.66666658e-01, 2.99999990e-01, 3.33333321e-01, 3.66666653e-01,\n",
       "        3.99999985e-01, 4.33333317e-01, 4.66666648e-01, 4.99999980e-01,\n",
       "        5.33333312e-01, 5.66666644e-01, 5.99999976e-01, 6.33333307e-01,\n",
       "        6.66666639e-01, 6.99999971e-01, 7.33333303e-01, 7.66666635e-01,\n",
       "        7.99999966e-01, 8.33333298e-01, 8.66666630e-01, 8.99999962e-01,\n",
       "        9.33333294e-01, 9.66666625e-01, 9.99999957e-01]),\n",
       " <BarContainer object of 30 artists>)"
      ]
     },
     "execution_count": 48,
     "metadata": {},
     "output_type": "execute_result"
    },
    {
     "data": {
      "image/png": "[encoded data removed]",
      "text/plain": [
       "<Figure size 432x288 with 1 Axes>"
      ]
     },
     "metadata": {
      "needs_background": "light"
     },
     "output_type": "display_data"
    }
   ],
   "source": [
    "import matplotlib.pyplot as plt\n",
    "plt.hist(np.random.random(10000000), bins=30)"
   ]
  },
  {
   "cell_type": "markdown",
   "metadata": {},
   "source": [
    "**Population** vs **Sample**"
   ]
  },
  {
   "cell_type": "code",
   "execution_count": 49,
   "metadata": {},
   "outputs": [
    {
     "data": {
      "text/plain": [
       "array([[ 1.16943345, -0.66344947,  0.9972289 ],\n",
       "       [-0.32872267, -1.76984632, -0.91817326],\n",
       "       [ 0.77171464, -0.65869663,  0.25463817]])"
      ]
     },
     "execution_count": 49,
     "metadata": {},
     "output_type": "execute_result"
    }
   ],
   "source": [
    "np.random.normal(0,1,(3,3)) #normal (Gaussian) distribution"
   ]
  },
  {
   "cell_type": "markdown",
   "metadata": {},
   "source": [
    "![](https://www.researchgate.net/profile/Mohamed-Abdelkareem-3/publication/339429775/figure/fig5/AS:866295083986945@1583552251305/Probability-distribution-function-a-uniform-distribution-of-the-excitation-frequency.png)"
   ]
  },
  {
   "cell_type": "markdown",
   "metadata": {},
   "source": [
    "**Normal distribution**\n",
    "- ring-shaped\n",
    "- symmetric via mean\n",
    "- mean represents central tendency of data's distribution (mean = median = mode)"
   ]
  },
  {
   "cell_type": "code",
   "execution_count": 52,
   "metadata": {},
   "outputs": [
    {
     "data": {
      "text/plain": [
       "(array([1., 0., 0., 0., 0., 0., 0., 0., 0., 1.]),\n",
       " array([1.83799198, 1.94214247, 2.04629295, 2.15044343, 2.25459391,\n",
       "        2.3587444 , 2.46289488, 2.56704536, 2.67119585, 2.77534633,\n",
       "        2.87949681]),\n",
       " <BarContainer object of 10 artists>)"
      ]
     },
     "execution_count": 52,
     "metadata": {},
     "output_type": "execute_result"
    },
    {
     "data": {
      "image/png": "[encoded data removed]",
      "text/plain": [
       "<Figure size 432x288 with 1 Axes>"
      ]
     },
     "metadata": {
      "needs_background": "light"
     },
     "output_type": "display_data"
    }
   ],
   "source": [
    "plt.hist(np.random.normal((3,3)))"
   ]
  },
  {
   "cell_type": "code",
   "execution_count": 56,
   "metadata": {},
   "outputs": [
    {
     "data": {
      "text/plain": [
       "array([0.5488135 , 0.71518937, 0.60276338, 0.54488318, 0.4236548 ,\n",
       "       0.64589411, 0.43758721, 0.891773  , 0.96366276, 0.38344152,\n",
       "       0.79172504, 0.52889492, 0.56804456, 0.92559664, 0.07103606,\n",
       "       0.0871293 , 0.0202184 , 0.83261985, 0.77815675, 0.87001215,\n",
       "       0.97861834, 0.79915856, 0.46147936, 0.78052918, 0.11827443,\n",
       "       0.63992102, 0.14335329, 0.94466892, 0.52184832, 0.41466194,\n",
       "       0.26455561, 0.77423369, 0.45615033, 0.56843395, 0.0187898 ,\n",
       "       0.6176355 , 0.61209572, 0.616934  , 0.94374808, 0.6818203 ,\n",
       "       0.3595079 , 0.43703195, 0.6976312 , 0.06022547, 0.66676672,\n",
       "       0.67063787, 0.21038256, 0.1289263 , 0.31542835, 0.36371077,\n",
       "       0.57019677, 0.43860151, 0.98837384, 0.10204481, 0.20887676,\n",
       "       0.16130952, 0.65310833, 0.2532916 , 0.46631077, 0.24442559,\n",
       "       0.15896958, 0.11037514, 0.65632959, 0.13818295, 0.19658236,\n",
       "       0.36872517, 0.82099323, 0.09710128, 0.83794491, 0.09609841,\n",
       "       0.97645947, 0.4686512 , 0.97676109, 0.60484552, 0.73926358,\n",
       "       0.03918779, 0.28280696, 0.12019656, 0.2961402 , 0.11872772,\n",
       "       0.31798318, 0.41426299, 0.0641475 , 0.69247212, 0.56660145,\n",
       "       0.26538949, 0.52324805, 0.09394051, 0.5759465 , 0.9292962 ,\n",
       "       0.31856895, 0.66741038, 0.13179786, 0.7163272 , 0.28940609,\n",
       "       0.18319136, 0.58651293, 0.02010755, 0.82894003, 0.00469548])"
      ]
     },
     "execution_count": 56,
     "metadata": {},
     "output_type": "execute_result"
    }
   ],
   "source": [
    "np.random.seed(0) # seed for reproducibility\n",
    "arr = np.random.random(100)\n",
    "arr"
   ]
  },
  {
   "cell_type": "markdown",
   "metadata": {},
   "source": [
    "**Save and load**"
   ]
  },
  {
   "cell_type": "code",
   "execution_count": 59,
   "metadata": {},
   "outputs": [
    {
     "data": {
      "text/plain": [
       "'/Users/hanhtran/Documents/GitHub/mci_python_31_level_1/Live Slides/Live Lecture 4'"
      ]
     },
     "execution_count": 59,
     "metadata": {},
     "output_type": "execute_result"
    }
   ],
   "source": [
    "pwd"
   ]
  },
  {
   "cell_type": "code",
   "execution_count": 61,
   "metadata": {},
   "outputs": [],
   "source": [
    "np.savetxt('./Save_test/test.txt', arr) #overwrite"
   ]
  },
  {
   "cell_type": "code",
   "execution_count": 58,
   "metadata": {},
   "outputs": [
    {
     "data": {
      "text/plain": [
       "array([0.5488135 , 0.71518937, 0.60276338, 0.54488318, 0.4236548 ,\n",
       "       0.64589411, 0.43758721, 0.891773  , 0.96366276, 0.38344152,\n",
       "       0.79172504, 0.52889492, 0.56804456, 0.92559664, 0.07103606,\n",
       "       0.0871293 , 0.0202184 , 0.83261985, 0.77815675, 0.87001215,\n",
       "       0.97861834, 0.79915856, 0.46147936, 0.78052918, 0.11827443,\n",
       "       0.63992102, 0.14335329, 0.94466892, 0.52184832, 0.41466194,\n",
       "       0.26455561, 0.77423369, 0.45615033, 0.56843395, 0.0187898 ,\n",
       "       0.6176355 , 0.61209572, 0.616934  , 0.94374808, 0.6818203 ,\n",
       "       0.3595079 , 0.43703195, 0.6976312 , 0.06022547, 0.66676672,\n",
       "       0.67063787, 0.21038256, 0.1289263 , 0.31542835, 0.36371077,\n",
       "       0.57019677, 0.43860151, 0.98837384, 0.10204481, 0.20887676,\n",
       "       0.16130952, 0.65310833, 0.2532916 , 0.46631077, 0.24442559,\n",
       "       0.15896958, 0.11037514, 0.65632959, 0.13818295, 0.19658236,\n",
       "       0.36872517, 0.82099323, 0.09710128, 0.83794491, 0.09609841,\n",
       "       0.97645947, 0.4686512 , 0.97676109, 0.60484552, 0.73926358,\n",
       "       0.03918779, 0.28280696, 0.12019656, 0.2961402 , 0.11872772,\n",
       "       0.31798318, 0.41426299, 0.0641475 , 0.69247212, 0.56660145,\n",
       "       0.26538949, 0.52324805, 0.09394051, 0.5759465 , 0.9292962 ,\n",
       "       0.31856895, 0.66741038, 0.13179786, 0.7163272 , 0.28940609,\n",
       "       0.18319136, 0.58651293, 0.02010755, 0.82894003, 0.00469548])"
      ]
     },
     "execution_count": 58,
     "metadata": {},
     "output_type": "execute_result"
    }
   ],
   "source": [
    "arr1 = np.loadtxt('test.txt')\n",
    "arr1"
   ]
  },
  {
   "cell_type": "markdown",
   "metadata": {},
   "source": [
    "### 2.2 Index & Slicing"
   ]
  },
  {
   "cell_type": "markdown",
   "metadata": {},
   "source": [
    "`variable_name[index]`"
   ]
  },
  {
   "cell_type": "code",
   "execution_count": 63,
   "metadata": {},
   "outputs": [
    {
     "data": {
      "text/plain": [
       "array([[ 1.,  2.,  3.,  4.],\n",
       "       [ 5.,  6.,  7.,  8.],\n",
       "       [ 9., 10., 11., 12.],\n",
       "       [13., 14., 15., 16.]])"
      ]
     },
     "execution_count": 63,
     "metadata": {},
     "output_type": "execute_result"
    }
   ],
   "source": [
    "arr = np.linspace(1,16,16).reshape(4,4)\n",
    "arr"
   ]
  },
  {
   "cell_type": "code",
   "execution_count": 64,
   "metadata": {},
   "outputs": [
    {
     "data": {
      "text/plain": [
       "array([1., 2., 3., 4.])"
      ]
     },
     "execution_count": 64,
     "metadata": {},
     "output_type": "execute_result"
    }
   ],
   "source": [
    "arr[0]"
   ]
  },
  {
   "cell_type": "code",
   "execution_count": 65,
   "metadata": {},
   "outputs": [
    {
     "data": {
      "text/plain": [
       "array([5., 6., 7., 8.])"
      ]
     },
     "execution_count": 65,
     "metadata": {},
     "output_type": "execute_result"
    }
   ],
   "source": [
    "arr[1]"
   ]
  },
  {
   "cell_type": "code",
   "execution_count": 66,
   "metadata": {},
   "outputs": [
    {
     "data": {
      "text/plain": [
       "array([5., 6., 7., 8.])"
      ]
     },
     "execution_count": 66,
     "metadata": {},
     "output_type": "execute_result"
    }
   ],
   "source": [
    "arr[1,:]"
   ]
  },
  {
   "cell_type": "code",
   "execution_count": 67,
   "metadata": {},
   "outputs": [
    {
     "data": {
      "text/plain": [
       "array([ 3.,  7., 11., 15.])"
      ]
     },
     "execution_count": 67,
     "metadata": {},
     "output_type": "execute_result"
    }
   ],
   "source": [
    "arr[:,2]"
   ]
  },
  {
   "cell_type": "code",
   "execution_count": 68,
   "metadata": {},
   "outputs": [
    {
     "data": {
      "text/plain": [
       "7.0"
      ]
     },
     "execution_count": 68,
     "metadata": {},
     "output_type": "execute_result"
    }
   ],
   "source": [
    "arr[1,2]"
   ]
  },
  {
   "cell_type": "code",
   "execution_count": 69,
   "metadata": {},
   "outputs": [
    {
     "data": {
      "text/plain": [
       "array([[1., 2.],\n",
       "       [5., 6.]])"
      ]
     },
     "execution_count": 69,
     "metadata": {},
     "output_type": "execute_result"
    }
   ],
   "source": [
    "arr[0:2,0:2] #inclusive start, exclusive stop from index 0"
   ]
  },
  {
   "cell_type": "code",
   "execution_count": 70,
   "metadata": {},
   "outputs": [
    {
     "data": {
      "text/plain": [
       "array([[3., 4.],\n",
       "       [7., 8.]])"
      ]
     },
     "execution_count": 70,
     "metadata": {},
     "output_type": "execute_result"
    }
   ],
   "source": [
    "arr[0:2,2:4]"
   ]
  },
  {
   "cell_type": "markdown",
   "metadata": {},
   "source": [
    "### 2.3 Basic Maths"
   ]
  },
  {
   "cell_type": "code",
   "execution_count": 71,
   "metadata": {},
   "outputs": [],
   "source": [
    "arr1 = np.array([[1,2],\n",
    "                [2,4]])\n",
    "arr2 = np.array([[10,10],\n",
    "                [1,1]])"
   ]
  },
  {
   "cell_type": "code",
   "execution_count": 72,
   "metadata": {},
   "outputs": [
    {
     "data": {
      "text/plain": [
       "array([[11, 12],\n",
       "       [ 3,  5]])"
      ]
     },
     "execution_count": 72,
     "metadata": {},
     "output_type": "execute_result"
    }
   ],
   "source": [
    "arr1 + arr2 #element-wise"
   ]
  },
  {
   "cell_type": "code",
   "execution_count": 73,
   "metadata": {},
   "outputs": [
    {
     "data": {
      "text/plain": [
       "array([[-9, -8],\n",
       "       [ 1,  3]])"
      ]
     },
     "execution_count": 73,
     "metadata": {},
     "output_type": "execute_result"
    }
   ],
   "source": [
    "arr1 - arr2"
   ]
  },
  {
   "cell_type": "code",
   "execution_count": 74,
   "metadata": {},
   "outputs": [
    {
     "data": {
      "text/plain": [
       "array([[10, 20],\n",
       "       [ 2,  4]])"
      ]
     },
     "execution_count": 74,
     "metadata": {},
     "output_type": "execute_result"
    }
   ],
   "source": [
    "arr1 * arr2"
   ]
  },
  {
   "cell_type": "code",
   "execution_count": 75,
   "metadata": {},
   "outputs": [
    {
     "data": {
      "text/plain": [
       "array([[0.1, 0.2],\n",
       "       [2. , 4. ]])"
      ]
     },
     "execution_count": 75,
     "metadata": {},
     "output_type": "execute_result"
    }
   ],
   "source": [
    "arr1/arr2"
   ]
  },
  {
   "cell_type": "code",
   "execution_count": 76,
   "metadata": {},
   "outputs": [
    {
     "data": {
      "text/plain": [
       "array([[12, 12],\n",
       "       [24, 24]])"
      ]
     },
     "execution_count": 76,
     "metadata": {},
     "output_type": "execute_result"
    }
   ],
   "source": [
    "#martix multiplication\n",
    "arr1 @ arr2 "
   ]
  },
  {
   "cell_type": "markdown",
   "metadata": {},
   "source": [
    "Mean, median, mode"
   ]
  },
  {
   "cell_type": "code",
   "execution_count": 77,
   "metadata": {},
   "outputs": [
    {
     "data": {
      "text/plain": [
       "array([[ 1,  2,  3,  4],\n",
       "       [ 5,  6,  7,  8],\n",
       "       [ 9, 10, 11, 12]])"
      ]
     },
     "execution_count": 77,
     "metadata": {},
     "output_type": "execute_result"
    }
   ],
   "source": [
    "arr = np.linspace(1,12,12,dtype='int').reshape(3,4) #normal distribution\n",
    "arr"
   ]
  },
  {
   "cell_type": "code",
   "execution_count": 78,
   "metadata": {},
   "outputs": [
    {
     "data": {
      "text/plain": [
       "6.5"
      ]
     },
     "execution_count": 78,
     "metadata": {},
     "output_type": "execute_result"
    }
   ],
   "source": [
    "np.mean(arr)"
   ]
  },
  {
   "cell_type": "code",
   "execution_count": 79,
   "metadata": {},
   "outputs": [
    {
     "data": {
      "text/plain": [
       "6.5"
      ]
     },
     "execution_count": 79,
     "metadata": {},
     "output_type": "execute_result"
    }
   ],
   "source": [
    "np.median(arr)"
   ]
  },
  {
   "cell_type": "code",
   "execution_count": 80,
   "metadata": {},
   "outputs": [
    {
     "data": {
      "text/plain": [
       "3.452052529534663"
      ]
     },
     "execution_count": 80,
     "metadata": {},
     "output_type": "execute_result"
    }
   ],
   "source": [
    "np.std(arr)"
   ]
  },
  {
   "cell_type": "code",
   "execution_count": 81,
   "metadata": {},
   "outputs": [
    {
     "data": {
      "text/plain": [
       "78"
      ]
     },
     "execution_count": 81,
     "metadata": {},
     "output_type": "execute_result"
    }
   ],
   "source": [
    "np.sum(arr)"
   ]
  }
 ],
 "metadata": {
  "kernelspec": {
   "display_name": "Python 3",
   "language": "python",
   "name": "python3"
  },
  "language_info": {
   "codemirror_mode": {
    "name": "ipython",
    "version": 3
   },
   "file_extension": ".py",
   "mimetype": "text/x-python",
   "name": "python",
   "nbconvert_exporter": "python",
   "pygments_lexer": "ipython3",
   "version": "3.8.8"
  }
 },
 "nbformat": 4,
 "nbformat_minor": 5
}
