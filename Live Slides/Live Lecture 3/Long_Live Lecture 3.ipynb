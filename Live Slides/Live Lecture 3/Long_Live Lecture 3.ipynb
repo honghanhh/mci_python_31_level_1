{
 "cells": [
  {
   "cell_type": "markdown",
   "id": "e2ffdddc-dfa4-4f9c-91e4-dc06078559ba",
   "metadata": {},
   "source": [
    "# Lesson 3"
   ]
  },
  {
   "cell_type": "markdown",
<<<<<<< HEAD
   "id": "e77eccaf-ea69-4cae-b22f-697bbbd43a91",
   "metadata": {},
   "source": [
    "### PROGRAMING FLOW"
=======
   "id": "948b15da",
   "metadata": {},
   "source": [
    "### Programming flow"
>>>>>>> 9c7e7a7a5b0b6c3eff8f0a0e39366cc7adf3976b
   ]
  },
  {
   "cell_type": "markdown",
<<<<<<< HEAD
   "id": "d0cf9870-12bd-46a6-919f-2787a4c4b61e",
   "metadata": {},
   "source": [
    "== sequent\n",
    "==loop\n",
    "==condition\n",
    "==function"
=======
   "id": "955c13f7",
   "metadata": {},
   "source": [
    "- Sequential\n",
    "- Loop: for, while\n",
    "- Condition: if, elif, else...\n",
    "- Function"
>>>>>>> 9c7e7a7a5b0b6c3eff8f0a0e39366cc7adf3976b
   ]
  },
  {
   "cell_type": "markdown",
<<<<<<< HEAD
   "id": "2f0aab9f-a216-4b08-ae02-9201dff285f9",
   "metadata": {},
   "source": [
    "#1.Sequential"
=======
   "id": "eb67a403",
   "metadata": {},
   "source": [
    "### 1. Sequential"
>>>>>>> 9c7e7a7a5b0b6c3eff8f0a0e39366cc7adf3976b
   ]
  },
  {
   "cell_type": "code",
   "execution_count": 1,
<<<<<<< HEAD
   "id": "a4b2ff31-34f4-4020-927c-015c87bce6c9",
=======
   "id": "54e436fb",
>>>>>>> 9c7e7a7a5b0b6c3eff8f0a0e39366cc7adf3976b
   "metadata": {},
   "outputs": [
    {
     "name": "stdout",
     "output_type": "stream",
     "text": [
      "hello\n",
<<<<<<< HEAD
      "long\n",
      "!\n"
=======
      "everyone\n"
>>>>>>> 9c7e7a7a5b0b6c3eff8f0a0e39366cc7adf3976b
     ]
    }
   ],
   "source": [
<<<<<<< HEAD
    "print('hello')\n",
    "print('long')\n",
    "print('!')"
=======
    "print('hello') #câu lệnh nào ở trước thì chạy trước\n",
    "print('everyone')"
>>>>>>> 9c7e7a7a5b0b6c3eff8f0a0e39366cc7adf3976b
   ]
  },
  {
   "cell_type": "markdown",
<<<<<<< HEAD
   "id": "e26d0dcd-d96c-4759-ba5b-92d189b2b4c1",
   "metadata": {},
   "source": [
    "## 2.Loop"
=======
   "id": "155f038a",
   "metadata": {},
   "source": [
    "### 2. Loop"
>>>>>>> 9c7e7a7a5b0b6c3eff8f0a0e39366cc7adf3976b
   ]
  },
  {
   "cell_type": "markdown",
<<<<<<< HEAD
   "id": "a581bf82-0b11-45ba-b654-6dbf5d5f04cd",
   "metadata": {},
   "source": [
    "- interation:\n",
=======
   "id": "53204780",
   "metadata": {},
   "source": [
    "- Iteration\n",
>>>>>>> 9c7e7a7a5b0b6c3eff8f0a0e39366cc7adf3976b
    "- For\n",
    "- While"
   ]
  },
  {
   "cell_type": "markdown",
<<<<<<< HEAD
   "id": "86587c88-647f-4eab-8a29-7267b1d66ddd",
   "metadata": {},
   "source": [
    "## 2.1 FOR"
=======
   "id": "eccd1ac5",
   "metadata": {},
   "source": [
    "### For"
>>>>>>> 9c7e7a7a5b0b6c3eff8f0a0e39366cc7adf3976b
   ]
  },
  {
   "cell_type": "markdown",
<<<<<<< HEAD
   "id": "e4db5b0f-bce2-4f26-9039-f874ccb4049a",
   "metadata": {},
   "source": [
    "....\n",
    "for value in iterable:\n",
    "bussiness logic\n",
    "..."
=======
   "id": "69f69912",
   "metadata": {},
   "source": [
    "```\n",
    "(iterable là một cấu trúc bao gồm nhiều phần từ)\n",
    "for value in iterable \n",
    "    business logic #indent\n",
    "```"
>>>>>>> 9c7e7a7a5b0b6c3eff8f0a0e39366cc7adf3976b
   ]
  },
  {
   "cell_type": "markdown",
<<<<<<< HEAD
   "id": "41ea69f4-8ba3-497a-b0f9-0ea93ade3f05",
   "metadata": {},
   "source": [
    "---\n",
    "for index in range (len(iterable)):\n",
    "   bussiness logi\n",
    "---"
=======
   "id": "20c28b02",
   "metadata": {},
   "source": [
    "```\n",
    "for index in range(len(iterable)):\n",
    "    business logic\n",
    "```"
>>>>>>> 9c7e7a7a5b0b6c3eff8f0a0e39366cc7adf3976b
   ]
  },
  {
   "cell_type": "code",
   "execution_count": 6,
<<<<<<< HEAD
   "id": "de85a6fa-e82c-4e89-878f-a47a0322aae2",
=======
   "id": "4e41af4a",
>>>>>>> 9c7e7a7a5b0b6c3eff8f0a0e39366cc7adf3976b
   "metadata": {},
   "outputs": [
    {
     "data": {
      "text/plain": [
<<<<<<< HEAD
       "[1, 3, 5, 7, 9]"
=======
       "[0, 1, 2, 3, 4, 5, 6, 7, 8, 9]"
>>>>>>> 9c7e7a7a5b0b6c3eff8f0a0e39366cc7adf3976b
      ]
     },
     "execution_count": 6,
     "metadata": {},
     "output_type": "execute_result"
    }
   ],
   "source": [
<<<<<<< HEAD
    "list(range(1,10,2))"
   ]
  },
  {
   "cell_type": "markdown",
   "id": "82f44a59-09a4-49d4-bd29-c76c7971e0c8",
   "metadata": {},
   "source": [
    "casting:"
=======
    "list (range (10)) #0 (inclusive) -> 9 (exclusive)"
   ]
  },
  {
   "cell_type": "code",
   "execution_count": 7,
   "id": "24f85cea",
   "metadata": {},
   "outputs": [
    {
     "data": {
      "text/plain": [
       "[2, 3, 4, 5, 6, 7, 8, 9]"
      ]
     },
     "execution_count": 7,
     "metadata": {},
     "output_type": "execute_result"
    }
   ],
   "source": [
    "list(range(2,10))"
>>>>>>> 9c7e7a7a5b0b6c3eff8f0a0e39366cc7adf3976b
   ]
  },
  {
   "cell_type": "code",
   "execution_count": 8,
<<<<<<< HEAD
   "id": "2322374f-bb95-4342-9402-81b25ec805a6",
   "metadata": {},
   "outputs": [],
   "source": [
    "a='1'"
=======
   "id": "033223db",
   "metadata": {},
   "outputs": [
    {
     "data": {
      "text/plain": [
       "[2, 4, 6, 8]"
      ]
     },
     "execution_count": 8,
     "metadata": {},
     "output_type": "execute_result"
    }
   ],
   "source": [
    "list(range(2,10,2))"
>>>>>>> 9c7e7a7a5b0b6c3eff8f0a0e39366cc7adf3976b
   ]
  },
  {
   "cell_type": "code",
<<<<<<< HEAD
   "execution_count": 9,
   "id": "0bf9dd71-9f72-48ff-b41d-0e904ac514c9",
=======
   "execution_count": 23,
   "id": "736fd873",
>>>>>>> 9c7e7a7a5b0b6c3eff8f0a0e39366cc7adf3976b
   "metadata": {},
   "outputs": [
    {
     "data": {
      "text/plain": [
<<<<<<< HEAD
       "str"
      ]
     },
     "execution_count": 9,
=======
       "4"
      ]
     },
     "execution_count": 23,
>>>>>>> 9c7e7a7a5b0b6c3eff8f0a0e39366cc7adf3976b
     "metadata": {},
     "output_type": "execute_result"
    }
   ],
   "source": [
<<<<<<< HEAD
    "type(a)"
=======
    "len(range(2,10,2))"
   ]
  },
  {
   "cell_type": "markdown",
   "id": "ee113d47",
   "metadata": {},
   "source": [
    "Casting"
   ]
  },
  {
   "cell_type": "code",
   "execution_count": 9,
   "id": "0432146f",
   "metadata": {},
   "outputs": [],
   "source": [
    "a = '1'"
>>>>>>> 9c7e7a7a5b0b6c3eff8f0a0e39366cc7adf3976b
   ]
  },
  {
   "cell_type": "code",
   "execution_count": 10,
<<<<<<< HEAD
   "id": "b5aec4fa-f4d0-4b31-bdb8-7c051d0f8bab",
=======
   "id": "812b05f6",
>>>>>>> 9c7e7a7a5b0b6c3eff8f0a0e39366cc7adf3976b
   "metadata": {},
   "outputs": [
    {
     "data": {
      "text/plain": [
<<<<<<< HEAD
       "2"
=======
       "str"
>>>>>>> 9c7e7a7a5b0b6c3eff8f0a0e39366cc7adf3976b
      ]
     },
     "execution_count": 10,
     "metadata": {},
     "output_type": "execute_result"
    }
   ],
   "source": [
<<<<<<< HEAD
    "int(a)*2"
   ]
  },
  {
   "cell_type": "markdown",
   "id": "73972100-6eb0-4c2d-a266-725d28b3e9a2",
   "metadata": {},
   "source": [
    "- int\n",
    "- float"
   ]
  },
  {
   "cell_type": "markdown",
   "id": "7ad23aed-e0a7-4ddf-b1f8-6a9a5eb7947f",
   "metadata": {},
   "source": [
    "exercise: give a list from 0 to 10, return 1 new list containing exponentation in the list"
=======
    "type (a)"
   ]
  },
  {
   "cell_type": "code",
   "execution_count": 12,
   "id": "d6def348",
   "metadata": {},
   "outputs": [
    {
     "data": {
      "text/plain": [
       "'11'"
      ]
     },
     "execution_count": 12,
     "metadata": {},
     "output_type": "execute_result"
    }
   ],
   "source": [
    "a*2 #biến dạng str nhân hai lần"
   ]
  },
  {
   "cell_type": "code",
   "execution_count": 15,
   "id": "b7c29b50",
   "metadata": {},
   "outputs": [
    {
     "data": {
      "text/plain": [
       "2"
      ]
     },
     "execution_count": 15,
     "metadata": {},
     "output_type": "execute_result"
    }
   ],
   "source": [
    "int(a)*2"
>>>>>>> 9c7e7a7a5b0b6c3eff8f0a0e39366cc7adf3976b
   ]
  },
  {
   "cell_type": "code",
<<<<<<< HEAD
   "execution_count": 14,
   "id": "0fd3e0f0-f462-4ed6-b0e4-d3ff749a737c",
=======
   "execution_count": 20,
   "id": "04adf561",
>>>>>>> 9c7e7a7a5b0b6c3eff8f0a0e39366cc7adf3976b
   "metadata": {},
   "outputs": [
    {
     "data": {
      "text/plain": [
<<<<<<< HEAD
       "[0, 1, 2, 3, 4, 5, 6, 7, 8, 9, 10]"
      ]
     },
     "execution_count": 14,
=======
       "3"
      ]
     },
     "execution_count": 20,
>>>>>>> 9c7e7a7a5b0b6c3eff8f0a0e39366cc7adf3976b
     "metadata": {},
     "output_type": "execute_result"
    }
   ],
   "source": [
<<<<<<< HEAD
    "li = list(range(11))\n",
    "li"
=======
    "int(3.14) #ép dạng biến từ float về int làm tròn thành số nguyên"
>>>>>>> 9c7e7a7a5b0b6c3eff8f0a0e39366cc7adf3976b
   ]
  },
  {
   "cell_type": "code",
<<<<<<< HEAD
   "execution_count": 16,
   "id": "48de3bdc-494f-488f-9953-2f07f8866577",
   "metadata": {},
   "outputs": [],
   "source": [
    "li1 = []\n",
    "for val in li:\n",
    "    li1.append(val**2)"
=======
   "execution_count": 30,
   "id": "7f1845bb",
   "metadata": {},
   "outputs": [],
   "source": [
    "li = list(range(11))"
>>>>>>> 9c7e7a7a5b0b6c3eff8f0a0e39366cc7adf3976b
   ]
  },
  {
   "cell_type": "code",
<<<<<<< HEAD
   "execution_count": 17,
   "id": "268c6100-970f-466d-a206-aa3eb0e8f4a3",
=======
   "execution_count": 31,
   "id": "2f283367",
>>>>>>> 9c7e7a7a5b0b6c3eff8f0a0e39366cc7adf3976b
   "metadata": {},
   "outputs": [
    {
     "data": {
      "text/plain": [
<<<<<<< HEAD
       "[0, 1, 4, 9, 16, 25, 36, 49, 64, 81, 100]"
      ]
     },
     "execution_count": 17,
=======
       "[0, 1, 2, 3, 4, 5, 6, 7, 8, 9, 10]"
      ]
     },
     "execution_count": 31,
>>>>>>> 9c7e7a7a5b0b6c3eff8f0a0e39366cc7adf3976b
     "metadata": {},
     "output_type": "execute_result"
    }
   ],
   "source": [
<<<<<<< HEAD
    "li1"
=======
    "li"
>>>>>>> 9c7e7a7a5b0b6c3eff8f0a0e39366cc7adf3976b
   ]
  },
  {
   "cell_type": "code",
<<<<<<< HEAD
   "execution_count": null,
   "id": "11c11e84-84f4-4c97-afae-75db6eabaf5f",
   "metadata": {},
   "outputs": [],
   "source": [
    "li2 = []\n",
    "for idx in range(len(li)):"
   ]
  },
  {
   "cell_type": "markdown",
   "id": "1a0bc4ef-7bc0-48c9-940d-827f3fe55a7f",
   "metadata": {},
   "source": [
    "exercise: write a program to calculate n! an interger"
=======
   "execution_count": 34,
   "id": "da11ac8e",
   "metadata": {},
   "outputs": [
    {
     "name": "stdout",
     "output_type": "stream",
     "text": [
      "0\n",
      "1\n",
      "4\n",
      "9\n",
      "16\n",
      "25\n",
      "36\n",
      "49\n",
      "64\n",
      "81\n",
      "100\n"
     ]
    }
   ],
   "source": [
    "lil = [] #empty list\n",
    "for val in li:\n",
    "    print(val**2)\n",
    "    lil.append(val**2)"
   ]
  },
  {
   "cell_type": "code",
   "execution_count": 35,
   "id": "887f628b",
   "metadata": {},
   "outputs": [
    {
     "data": {
      "text/plain": [
       "[0, 1, 4, 9, 16, 25, 36, 49, 64, 81, 100]"
      ]
     },
     "execution_count": 35,
     "metadata": {},
     "output_type": "execute_result"
    }
   ],
   "source": [
    "lil"
>>>>>>> 9c7e7a7a5b0b6c3eff8f0a0e39366cc7adf3976b
   ]
  },
  {
   "cell_type": "code",
<<<<<<< HEAD
   "execution_count": 21,
   "id": "612824ad-08a3-4a73-85ae-9d34ac23288d",
   "metadata": {},
   "outputs": [],
   "source": [
    "n=8\n",
    "a=1\n",
    "for i in range(1,n+1):\n",
    "    a=a*i"
=======
   "execution_count": 37,
   "id": "709ec1c4",
   "metadata": {},
   "outputs": [],
   "source": [
    "li2 = []\n",
    "for idx in range(len(li)):\n",
    "    li2.append(li[idx]**2)"
>>>>>>> 9c7e7a7a5b0b6c3eff8f0a0e39366cc7adf3976b
   ]
  },
  {
   "cell_type": "code",
<<<<<<< HEAD
   "execution_count": 22,
   "id": "926e75d2-513b-495e-b4db-6999e626e90a",
=======
   "execution_count": 38,
   "id": "59c73d9b",
>>>>>>> 9c7e7a7a5b0b6c3eff8f0a0e39366cc7adf3976b
   "metadata": {},
   "outputs": [
    {
     "data": {
      "text/plain": [
<<<<<<< HEAD
       "40320"
      ]
     },
     "execution_count": 22,
=======
       "[0, 1, 4, 9, 16, 25, 36, 49, 64, 81, 100]"
      ]
     },
     "execution_count": 38,
>>>>>>> 9c7e7a7a5b0b6c3eff8f0a0e39366cc7adf3976b
     "metadata": {},
     "output_type": "execute_result"
    }
   ],
   "source": [
<<<<<<< HEAD
    "a"
=======
    "li2"
>>>>>>> 9c7e7a7a5b0b6c3eff8f0a0e39366cc7adf3976b
   ]
  },
  {
   "cell_type": "code",
<<<<<<< HEAD
   "execution_count": null,
   "id": "21a4a438-4a07-40f9-bd33-98deed3911c5",
   "metadata": {},
   "outputs": [],
   "source": []
  },
  {
   "cell_type": "markdown",
   "id": "9f6b77e6-4eed-46c1-a453-704c11a3fd58",
   "metadata": {},
   "source": [
    "## 2.2 while"
   ]
  },
  {
   "cell_type": "code",
   "execution_count": null,
   "id": "f3b4100a-6d63-436e-a928-1c9199af25ab",
   "metadata": {},
   "outputs": [],
   "source": [
    "a=4\n",
    "i=0"
=======
   "execution_count": 1,
   "id": "62e02360",
   "metadata": {},
   "outputs": [
    {
     "name": "stdout",
     "output_type": "stream",
     "text": [
      "8\n",
      "40320\n"
     ]
    }
   ],
   "source": [
    "n =  int(input())\n",
    "val = 1\n",
    "for i in range(1,n+1):\n",
    "  val *= i\n",
    "print(val)"
   ]
  },
  {
   "cell_type": "markdown",
   "id": "c74128aa",
   "metadata": {},
   "source": [
    "### While"
   ]
  },
  {
   "cell_type": "markdown",
   "id": "05861d34",
   "metadata": {},
   "source": [
    "```\n",
    "While condition(True/False):\n",
    "    business logic\n",
    "```"
>>>>>>> 9c7e7a7a5b0b6c3eff8f0a0e39366cc7adf3976b
   ]
  },
  {
   "cell_type": "code",
<<<<<<< HEAD
   "execution_count": 26,
   "id": "904881c0-2fbe-4434-807e-be69c5bd606d",
   "metadata": {},
   "outputs": [],
   "source": [
    "a, i= 4, 0"
=======
   "execution_count": null,
   "id": "d2b2bd17",
   "metadata": {},
   "outputs": [],
   "source": [
    "a = 4\n",
    "i = 0"
>>>>>>> 9c7e7a7a5b0b6c3eff8f0a0e39366cc7adf3976b
   ]
  },
  {
   "cell_type": "code",
<<<<<<< HEAD
   "execution_count": 27,
   "id": "e6c6773b-4d80-45a5-86b2-6b4a2c436c9b",
   "metadata": {},
   "outputs": [
    {
     "name": "stdout",
     "output_type": "stream",
     "text": [
      "hello0\n",
      "hello1\n",
      "hello2\n",
      "hello3\n"
     ]
    }
   ],
   "source": [
    "while i < a:\n",
    "    print(f\"hello{i}\")\n",
    "    i += 1"
=======
   "execution_count": null,
   "id": "69e4ac1f",
   "metadata": {},
   "outputs": [],
   "source": [
    "a, i = 4, 0"
>>>>>>> 9c7e7a7a5b0b6c3eff8f0a0e39366cc7adf3976b
   ]
  },
  {
   "cell_type": "code",
<<<<<<< HEAD
   "execution_count": 33,
   "id": "56b91738-7f6f-4cfc-8639-e74ea08d3ad7",
   "metadata": {},
   "outputs": [],
   "source": [
    "n=8\n",
    "a=1\n",
    "fac=1\n",
    "while a < n+1:\n",
    "    fac = a*fac\n",
    "    a=a+1"
=======
   "execution_count": null,
   "id": "0fea721e",
   "metadata": {},
   "outputs": [],
   "source": [
    "while i < a:\n",
    "    print(f'hello {i}')\n",
    "    i += 1"
>>>>>>> 9c7e7a7a5b0b6c3eff8f0a0e39366cc7adf3976b
   ]
  },
  {
   "cell_type": "code",
<<<<<<< HEAD
   "execution_count": 34,
   "id": "b926eeab-2c8d-4807-8d71-8ba7ac3e3757",
   "metadata": {},
   "outputs": [
    {
     "data": {
      "text/plain": [
       "40320"
      ]
     },
     "execution_count": 34,
     "metadata": {},
     "output_type": "execute_result"
    }
   ],
   "source": [
    "fac"
=======
   "execution_count": 9,
   "id": "e7cda09c",
   "metadata": {},
   "outputs": [
    {
     "name": "stdout",
     "output_type": "stream",
     "text": [
      "Enter Value:8\n",
      "40320\n"
     ]
    }
   ],
   "source": [
    "#do N with while\n",
    "x = input(\"Enter Value:\")\n",
    "final =1\n",
    "x = int(x)\n",
    "while x >0:\n",
    "    final = final *x \n",
    "    x -=1\n",
    "print(final)"
>>>>>>> 9c7e7a7a5b0b6c3eff8f0a0e39366cc7adf3976b
   ]
  },
  {
   "cell_type": "markdown",
<<<<<<< HEAD
   "id": "d60cadca-b23f-47ca-b856-412ac137349b",
   "metadata": {},
   "source": [
    "### 3. condition"
=======
   "id": "38a01bc3",
   "metadata": {},
   "source": [
    "### Condition"
   ]
  },
  {
   "cell_type": "markdown",
   "id": "44e10b6b",
   "metadata": {},
   "source": [
    "```\n",
    "if condition(True/False):\n",
    "    business logic\n",
    "elif condition(True/False):\n",
    "    business logic\n",
    "else:\n",
    "    business logic\n",
    "```"
>>>>>>> 9c7e7a7a5b0b6c3eff8f0a0e39366cc7adf3976b
   ]
  },
  {
   "cell_type": "code",
<<<<<<< HEAD
   "execution_count": 40,
   "id": "fe78e5be-0da4-4433-850c-fd113938108d",
   "metadata": {},
   "outputs": [],
   "source": [
    "x=5\n",
    "y=5"
=======
   "execution_count": 20,
   "id": "adbcc87d",
   "metadata": {},
   "outputs": [],
   "source": [
    "x = 3\n",
    "y = 3"
>>>>>>> 9c7e7a7a5b0b6c3eff8f0a0e39366cc7adf3976b
   ]
  },
  {
   "cell_type": "code",
<<<<<<< HEAD
   "execution_count": 41,
   "id": "874c7a48-8e82-47e4-890e-4bebb3e43c7b",
=======
   "execution_count": 21,
   "id": "34f3cf8a",
>>>>>>> 9c7e7a7a5b0b6c3eff8f0a0e39366cc7adf3976b
   "metadata": {},
   "outputs": [
    {
     "name": "stdout",
     "output_type": "stream",
     "text": [
<<<<<<< HEAD
      "x=y\n"
=======
      "x is equal to y\n"
>>>>>>> 9c7e7a7a5b0b6c3eff8f0a0e39366cc7adf3976b
     ]
    }
   ],
   "source": [
    "if x < y:\n",
<<<<<<< HEAD
    "    print('X is smaller than Y')\n",
    "elif x>y:\n",
    "    print(\"X is langer than Y\")\n",
    "else:\n",
    "    print('x=y')"
=======
    "    print('x is smaller than y')\n",
    "elif x > y:\n",
    "    print('x is larger than y')\n",
    "else:\n",
    "    print('x is equal to y')"
>>>>>>> 9c7e7a7a5b0b6c3eff8f0a0e39366cc7adf3976b
   ]
  },
  {
   "cell_type": "markdown",
<<<<<<< HEAD
   "id": "d52fd62f-b441-4135-8862-f1908c0f65a2",
   "metadata": {},
   "source": [
    "### 4.Function"
=======
   "id": "d3fa88ae",
   "metadata": {},
   "source": [
    "### Fuction"
>>>>>>> 9c7e7a7a5b0b6c3eff8f0a0e39366cc7adf3976b
   ]
  },
  {
   "cell_type": "markdown",
<<<<<<< HEAD
   "id": "9e183621-d23c-4ba0-83c7-582afb0c16c5",
   "metadata": {},
   "source": [
    "--- built in function: len(), range()\n",
    "--- user-define function"
=======
   "id": "6ec8f630",
   "metadata": {},
   "source": [
    "- build-in function: len(), range()\n",
    "- User-defined function"
>>>>>>> 9c7e7a7a5b0b6c3eff8f0a0e39366cc7adf3976b
   ]
  },
  {
   "cell_type": "markdown",
<<<<<<< HEAD
   "id": "a0ddd0e4-47f2-4aa9-8700-1151958d8c4b",
   "metadata": {},
   "source": [
    "___\n",
    "def function_name(arg1, arg2,...):\n",
    "    bussiness logic\n",
    "    return 0---> optiona\n",
    "___"
=======
   "id": "b1be30ca",
   "metadata": {},
   "source": [
    "```\n",
    "def function_name(arg1, arg2, ...):\n",
    "    business logic\n",
    "    return (optional)\n",
    "```"
>>>>>>> 9c7e7a7a5b0b6c3eff8f0a0e39366cc7adf3976b
   ]
  },
  {
   "cell_type": "code",
<<<<<<< HEAD
   "execution_count": 64,
   "id": "be0f1ae8-cce9-4069-94fc-42fe80d4758c",
   "metadata": {},
   "outputs": [],
   "source": [
    "li=[1,2,3]"
=======
   "execution_count": 30,
   "id": "33402dcf",
   "metadata": {},
   "outputs": [],
   "source": [
    "li = [1, 2, 3, 4]"
>>>>>>> 9c7e7a7a5b0b6c3eff8f0a0e39366cc7adf3976b
   ]
  },
  {
   "cell_type": "code",
<<<<<<< HEAD
   "execution_count": 69,
   "id": "db99fc79-9c03-441f-98a3-e2c65240b522",
   "metadata": {},
   "outputs": [],
   "source": [
    "def length_of_list(li):\n",
    "    a= 0\n",
    "    for i in li:\n",
    "        a= i+1\n",
    "    return a"
   ]
  },
  {
   "cell_type": "code",
   "execution_count": 71,
   "id": "1c266947-0c56-497d-8298-162a75ddd842",
=======
   "execution_count": 39,
   "id": "1b4409a0",
>>>>>>> 9c7e7a7a5b0b6c3eff8f0a0e39366cc7adf3976b
   "metadata": {},
   "outputs": [
    {
     "data": {
      "text/plain": [
       "4"
      ]
     },
<<<<<<< HEAD
     "execution_count": 71,
=======
     "execution_count": 39,
>>>>>>> 9c7e7a7a5b0b6c3eff8f0a0e39366cc7adf3976b
     "metadata": {},
     "output_type": "execute_result"
    }
   ],
   "source": [
<<<<<<< HEAD
    "length_of_list(li)"
=======
    "li.index(li[-1])+1"
   ]
  },
  {
   "cell_type": "markdown",
   "id": "ea2f91c3",
   "metadata": {},
   "source": [
    "### Anonymous function"
>>>>>>> 9c7e7a7a5b0b6c3eff8f0a0e39366cc7adf3976b
   ]
  },
  {
   "cell_type": "code",
<<<<<<< HEAD
   "execution_count": 72,
   "id": "13fc05ed-d879-4334-aa4f-cc2499522295",
   "metadata": {},
   "outputs": [],
   "source": [
    "expo = lambda x : x**2"
=======
   "execution_count": 40,
   "id": "5ba217c5",
   "metadata": {},
   "outputs": [],
   "source": [
    "expo = lambda x: x**2"
>>>>>>> 9c7e7a7a5b0b6c3eff8f0a0e39366cc7adf3976b
   ]
  },
  {
   "cell_type": "code",
<<<<<<< HEAD
   "execution_count": 73,
   "id": "480d09e0-f256-436e-969b-d0979cc79f78",
=======
   "execution_count": 41,
   "id": "92009ffb",
>>>>>>> 9c7e7a7a5b0b6c3eff8f0a0e39366cc7adf3976b
   "metadata": {},
   "outputs": [
    {
     "data": {
      "text/plain": [
       "4"
      ]
     },
<<<<<<< HEAD
     "execution_count": 73,
=======
     "execution_count": 41,
>>>>>>> 9c7e7a7a5b0b6c3eff8f0a0e39366cc7adf3976b
     "metadata": {},
     "output_type": "execute_result"
    }
   ],
   "source": [
    "expo(2)"
   ]
  },
  {
<<<<<<< HEAD
   "cell_type": "code",
   "execution_count": 75,
   "id": "4404fba0-686c-43e5-981c-36626095cd36",
   "metadata": {},
   "outputs": [],
   "source": [
    "def findLength(string):\n",
    "    count = 0\n",
    "    for i in string:\n",
    "        count+= 1\n",
    "    return count\n"
=======
   "cell_type": "markdown",
   "id": "b56bfb0d",
   "metadata": {},
   "source": [
    "### 5. Comprehension"
>>>>>>> 9c7e7a7a5b0b6c3eff8f0a0e39366cc7adf3976b
   ]
  },
  {
   "cell_type": "code",
<<<<<<< HEAD
   "execution_count": 77,
   "id": "ae4d0e4e-ea35-4e45-8a5a-a26e8fd7f5fa",
=======
   "execution_count": 42,
   "id": "9ff6527b",
>>>>>>> 9c7e7a7a5b0b6c3eff8f0a0e39366cc7adf3976b
   "metadata": {},
   "outputs": [
    {
     "data": {
      "text/plain": [
<<<<<<< HEAD
       "4"
      ]
     },
     "execution_count": 77,
=======
       "[1, 4, 9]"
      ]
     },
     "execution_count": 42,
>>>>>>> 9c7e7a7a5b0b6c3eff8f0a0e39366cc7adf3976b
     "metadata": {},
     "output_type": "execute_result"
    }
   ],
   "source": [
<<<<<<< HEAD
    "findLength(\"hanh\")"
   ]
  },
  {
   "cell_type": "markdown",
   "id": "9d368f52-82ea-45e9-b558-ec34835fdb0b",
   "metadata": {},
   "source": [
    "---\n",
    "while condition\n",
    "---"
=======
    "li = [ 1, 2, 3]\n",
    "li2 = []\n",
    "for i in li:\n",
    "    li2.append(i**2)\n",
    "li2"
   ]
  },
  {
   "cell_type": "code",
   "execution_count": 43,
   "id": "e0d9bae5",
   "metadata": {},
   "outputs": [],
   "source": [
    "li3 = [i**2 for i in li]"
>>>>>>> 9c7e7a7a5b0b6c3eff8f0a0e39366cc7adf3976b
   ]
  },
  {
   "cell_type": "code",
<<<<<<< HEAD
   "execution_count": null,
   "id": "3796fd5f-5e7f-4ee2-9d22-43e74e407eef",
   "metadata": {},
   "outputs": [],
   "source": []
  },
  {
   "cell_type": "code",
   "execution_count": null,
   "id": "571775e1-f509-495b-8a74-da89c7dda08f",
   "metadata": {},
   "outputs": [],
   "source": []
  },
  {
   "cell_type": "code",
   "execution_count": null,
   "id": "eb39e035-f57d-4ce0-8fe8-574d3c75f4bd",
   "metadata": {},
   "outputs": [],
   "source": []
  },
  {
   "cell_type": "code",
   "execution_count": null,
   "id": "995e3ae2-20cc-4b84-8adb-afabcd2bd696",
   "metadata": {},
   "outputs": [],
   "source": []
  },
  {
   "cell_type": "code",
   "execution_count": null,
   "id": "dcdb113c-ad14-4564-8097-2d7245944d8c",
   "metadata": {},
   "outputs": [],
   "source": []
  },
  {
   "cell_type": "code",
   "execution_count": null,
   "id": "68d89478-279a-406b-b436-8d156affbefb",
   "metadata": {},
   "outputs": [],
   "source": []
=======
   "execution_count": 44,
   "id": "ac138de5",
   "metadata": {},
   "outputs": [
    {
     "data": {
      "text/plain": [
       "[1, 4, 9]"
      ]
     },
     "execution_count": 44,
     "metadata": {},
     "output_type": "execute_result"
    }
   ],
   "source": [
    "li3"
   ]
  },
  {
   "cell_type": "code",
   "execution_count": 45,
   "id": "796f4259",
   "metadata": {},
   "outputs": [],
   "source": [
    "li = [1, 2, 3, 4, 5, 6, 7]"
   ]
  },
  {
   "cell_type": "code",
   "execution_count": 57,
   "id": "f18f2207",
   "metadata": {},
   "outputs": [],
   "source": [
    "li2 = [i for i in li if i%2 == 1]"
   ]
  },
  {
   "cell_type": "code",
   "execution_count": 58,
   "id": "dbdf3cb4",
   "metadata": {},
   "outputs": [
    {
     "data": {
      "text/plain": [
       "[1, 3, 5, 7]"
      ]
     },
     "execution_count": 58,
     "metadata": {},
     "output_type": "execute_result"
    }
   ],
   "source": [
    "li2"
   ]
  },
  {
   "cell_type": "code",
   "execution_count": 59,
   "id": "0bdd53db",
   "metadata": {},
   "outputs": [],
   "source": [
    "li3 = [i**2 if i%2 == 1 else i for i in li ]"
   ]
  },
  {
   "cell_type": "code",
   "execution_count": 60,
   "id": "31565343",
   "metadata": {},
   "outputs": [
    {
     "data": {
      "text/plain": [
       "[1, 2, 9, 4, 25, 6, 49]"
      ]
     },
     "execution_count": 60,
     "metadata": {},
     "output_type": "execute_result"
    }
   ],
   "source": [
    "li3"
   ]
>>>>>>> 9c7e7a7a5b0b6c3eff8f0a0e39366cc7adf3976b
  },
  {
   "cell_type": "code",
   "execution_count": null,
<<<<<<< HEAD
   "id": "dd9a8b57-aa8d-47bc-b25c-7294ca5f5ee9",
=======
   "id": "e7fa021c",
>>>>>>> 9c7e7a7a5b0b6c3eff8f0a0e39366cc7adf3976b
   "metadata": {},
   "outputs": [],
   "source": []
  }
 ],
 "metadata": {
  "kernelspec": {
   "display_name": "Python 3",
   "language": "python",
   "name": "python3"
  },
  "language_info": {
   "codemirror_mode": {
    "name": "ipython",
    "version": 3
   },
   "file_extension": ".py",
   "mimetype": "text/x-python",
   "name": "python",
   "nbconvert_exporter": "python",
   "pygments_lexer": "ipython3",
   "version": "3.7.10"
  }
 },
 "nbformat": 4,
 "nbformat_minor": 5
}
